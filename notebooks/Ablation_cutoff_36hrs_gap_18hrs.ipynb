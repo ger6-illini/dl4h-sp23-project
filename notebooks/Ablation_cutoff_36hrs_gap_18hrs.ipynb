{
 "cells": [
  {
   "cell_type": "markdown",
   "id": "652e22f4",
   "metadata": {
    "id": "652e22f4"
   },
   "source": [
    "<h1><center>CS598 Deep Learning for Healthcare Spring 2023<br>Paper Reproduction Project</center></h1>"
   ]
  },
  {
   "cell_type": "markdown",
   "id": "5ee5cbba",
   "metadata": {
    "id": "5ee5cbba"
   },
   "source": [
    "<h3><center>Gilberto Ramirez and Jay Kakwani<br><span style=\"font-family:monospace;\">{ger6, kakwani2}@illinois.edu</span><br><font color=\"lightgrey\">Group ID: 27 | Paper ID: 181</font></center></h3>"
   ]
  },
  {
   "cell_type": "markdown",
   "id": "a2c9fb1c-0d45-4092-9518-1d11d101362a",
   "metadata": {},
   "source": [
    "### Ablation Study :  36 hours (cutoff period) + 18 hours (gap period)\n",
    "\n",
    "In this ablation study, we will process and run ablation for 36 hour ICU Stay. "
   ]
  },
  {
   "cell_type": "markdown",
   "id": "612cc966",
   "metadata": {
    "id": "612cc966"
   },
   "source": [
    "In this project, we aim to reproduce the paper [*Learning Task for Multitask Learning: Heterogeneous Patient Populations in the ICU* by (Suresh et al, 2018)](https://arxiv.org/abs/1806.02878). In this paper, the authors propose a novel two-step pipeline to predict in-hospital mortality across patient populations with different characteristics. The first step of the pipeline divides patients into relevant non-overlapping cohorts in an unsupervised way using a long short-term memory (LSTM) autoencoder followed by a Gaussian Mixture Model (GMM). The second step of the pipeline predicts in-hospital mortality for each patient cohort identified in the previous step using an LSTM based multi-task learning model where every cohort is considered a different task.\n",
    "The paper claims that by applying this pipeline there will be better predictive results when compared to a model applied to the aggregate population using a single task learning model. According to the authors, the better performance given by this pipeline is due to the combination of a multi-task learning model leveraging shared knowledge across distinct patient groups and the way how those groups were created, i.e., identification using a data-driven method rather than relying on domain knowledge or auxiliary labels."
   ]
  },
  {
   "cell_type": "markdown",
   "id": "413e318a",
   "metadata": {
    "id": "413e318a"
   },
   "source": [
    "## 1. Data"
   ]
  },
  {
   "cell_type": "markdown",
   "id": "eb58470c",
   "metadata": {
    "id": "eb58470c"
   },
   "source": [
    "This paper uses the publicly available [MIMIC-III database](https://www.nature.com/articles/sdata201635) which contains clinical data in a critical care setting. After reviewing the paper in detail, we decided to use [MIMIC-Extract](https://arxiv.org/abs/1907.08322), an open source pipeline by (Wang et al., 2020) for transforming the raw EHR data into usable [Pandas](https://pandas.pydata.org/) dataframes containing hourly time series of vitals and laboratory measurements after performing unit conversion, outlier handling, and aggregation of semantically similar features.\n",
    "\n",
    "Unfortunately, the MIMIC-Extract pipeline misses two features the [paper code](https://github.com/mit-caml/multitask-patients) makes use of:\n",
    "* `timecmo_chart` which indicates the timestamp of a patient after being declared in CMO (Comfort Measures Only) state. This feature comes from a MIMIC-III concept table called `code_status`.\n",
    "* `sapsii` which contains the SAPS (Simplified Acute Physiology Score) II for the patient. This feature comes from another MIMIC-III concept table called `sapsii`.\n",
    "\n",
    "As a result, there are three data files needed to run this notebook:\n",
    "* `all_hourly_data.h5`, an HDF file resulting from running the MIMIC-Extract pipeline which is publicly available in GCP using [this link](https://console.cloud.google.com/storage/browser/mimic_extract) and referenced in the [MIMIC-Extract github repo](https://github.com/MLforHealth/MIMIC_Extract).\n",
    "* `code_status.csv`, a CSV file holding the MIMIC concept table `CODE_STATUS` that can be generated following the instructions in [this link within the MIT-LCP github repo](https://github.com/MIT-LCP/mimic-code/tree/main/mimic-iii/concepts#generating-the-concepts-in-postgresql).\n",
    "* `sapsii.csv`, a CSV file holding the MIMIC concept table `SAPSII` that can be generated following the instructions in [this link within the MIT-LCP github repo](https://github.com/MIT-LCP/mimic-code/tree/main/mimic-iii/concepts#generating-the-concepts-in-postgresql).\n",
    "\n",
    "The functions used in this notebook assume the three files listed above are in the folder `../data/` by default. However, location can be changed using arguments to the functions that process the data.\n",
    "\n",
    "All code needed to replicate the paper is in [our github repo](https://github.com/ger6-illini/dl4h-sp23-team27-project) inside a Python module called `mtl_patients`.\n",
    "\n",
    "The first function from that module we will start using is `get_summaries()`. This function returns three summaries as dataframes:\n",
    "1. A summary providing some statistics of all patients broken by careunit.\n",
    "2. A summary providing some statistics of all patients broken by SAPS-II score quartile.\n",
    "3. A summary providing some statistics of the 29 distinct physiological measurements used in the paper.\n",
    "\n",
    "These summaries need two arguments to be created:\n",
    "* `cutoff_hours` (default 24) which is the minimum number of hours a patient needs to stay in the ICU to be considered part of a cohort.\n",
    "* `gap_hours` (default 12) which is the number of hours between the end of `cutoff_hours` and the moment a model can start making a mortality prediction.\n",
    "\n",
    "The importance of these two arguments is his impact in the exception criteria used in the paper. In particular, the paper:\n",
    "1. Excludes all patients that met the in-hospital mortality criteria before `cutoff period` + `gap period`.\n",
    "2. Excludes patients that were discharged before `cutoff period` + `gap period`.\n",
    "\n",
    "The in-hospital mortality criteria used in the paper is an extended one and not just considers patients who died but also patients with a CMO (Comfort Measures Only) note. That is considered in the summaries creation as well."
   ]
  },
  {
   "cell_type": "markdown",
   "id": "548f3462",
   "metadata": {
    "id": "548f3462"
   },
   "source": [
    "### 1.1. Summaries, 36 hours (cutoff period) + 18 hours (gap period)"
   ]
  },
  {
   "cell_type": "markdown",
   "id": "2493677c",
   "metadata": {
    "id": "2493677c"
   },
   "source": [
    "Now let's run the `get_summaries()` function with `cutoff_hours` = 36 and `gap_hours` = 18:"
   ]
  },
  {
   "cell_type": "code",
   "execution_count": 3,
   "id": "86b6c0d1-0a31-46ce-abcb-2a8c3582dec2",
   "metadata": {
    "id": "86b6c0d1-0a31-46ce-abcb-2a8c3582dec2",
    "outputId": "8f229589-61f1-41b6-9d69-048010435dd2"
   },
   "outputs": [
    {
     "name": "stdout",
     "output_type": "stream",
     "text": [
      "Start time: 21/04/2023 12:40:33\n"
     ]
    }
   ],
   "source": [
    "# store/print start time to measure runtime\n",
    "from datetime import datetime\n",
    "import pytz\n",
    "starttime = datetime.now(pytz.timezone('America/New_York')).strftime(\"%d/%m/%Y %H:%M:%S\")\n",
    "print(f'Start time: {starttime}')"
   ]
  },
  {
   "cell_type": "code",
   "execution_count": 2,
   "id": "475bac15-872d-4bac-93f5-598314107b79",
   "metadata": {
    "id": "475bac15-872d-4bac-93f5-598314107b79",
    "outputId": "72f7bfcf-9412-41f7-b1b8-9c6341390003",
    "tags": []
   },
   "outputs": [
    {
     "name": "stdout",
     "output_type": "stream",
     "text": [
      "Defaulting to user installation because normal site-packages is not writeable\n",
      "Requirement already satisfied: tables in /home/paperspace/.local/lib/python3.9/site-packages (3.8.0)\n",
      "Requirement already satisfied: py-cpuinfo in /home/paperspace/.local/lib/python3.9/site-packages (from tables) (9.0.0)\n",
      "Requirement already satisfied: numexpr>=2.6.2 in /home/paperspace/.local/lib/python3.9/site-packages (from tables) (2.8.4)\n",
      "Requirement already satisfied: packaging in /home/paperspace/.local/lib/python3.9/site-packages (from tables) (23.0)\n",
      "Requirement already satisfied: blosc2~=2.0.0 in /home/paperspace/.local/lib/python3.9/site-packages (from tables) (2.0.0)\n",
      "Requirement already satisfied: numpy>=1.19.0 in /home/paperspace/.local/lib/python3.9/site-packages (from tables) (1.23.2)\n",
      "Requirement already satisfied: cython>=0.29.21 in /home/paperspace/.local/lib/python3.9/site-packages (from tables) (0.29.32)\n",
      "Requirement already satisfied: msgpack in /home/paperspace/.local/lib/python3.9/site-packages (from blosc2~=2.0.0->tables) (1.0.5)\n",
      "\n",
      "\u001b[1m[\u001b[0m\u001b[34;49mnotice\u001b[0m\u001b[1;39;49m]\u001b[0m\u001b[39;49m A new release of pip available: \u001b[0m\u001b[31;49m22.3.1\u001b[0m\u001b[39;49m -> \u001b[0m\u001b[32;49m23.1\u001b[0m\n",
      "\u001b[1m[\u001b[0m\u001b[34;49mnotice\u001b[0m\u001b[1;39;49m]\u001b[0m\u001b[39;49m To update, run: \u001b[0m\u001b[32;49mpython3.9 -m pip install --upgrade pip\u001b[0m\n"
     ]
    }
   ],
   "source": [
    "# install `pytables` using `pip` if running from Paperspace since TensorFlow image does not have it\n",
    "!pip install tables"
   ]
  },
  {
   "cell_type": "code",
   "execution_count": 4,
   "id": "2d024700",
   "metadata": {
    "id": "2d024700",
    "tags": []
   },
   "outputs": [
    {
     "name": "stderr",
     "output_type": "stream",
     "text": [
      "2023-04-21 12:40:39.170558: I tensorflow/core/platform/cpu_feature_guard.cc:193] This TensorFlow binary is optimized with oneAPI Deep Neural Network Library (oneDNN) to use the following CPU instructions in performance-critical operations:  SSE4.1 SSE4.2\n",
      "To enable them in other operations, rebuild TensorFlow with the appropriate compiler flags.\n"
     ]
    }
   ],
   "source": [
    "%load_ext autoreload\n",
    "%autoreload 2\n",
    "\n",
    "import numpy as np\n",
    "import pandas as pd\n",
    "from datetime import datetime\n",
    "import pytz\n",
    "\n",
    "import sys\n",
    "pathname = \"../code/\"\n",
    "if pathname not in sys.path:\n",
    "    sys.path.append(\"../code/\")\n",
    "pd.options.display.max_rows = 999\n",
    "\n",
    "from mtl_patients import get_summaries\n",
    "from mtl_patients import discover_cohorts\n",
    "from mtl_patients import run_mortality_prediction_task"
   ]
  },
  {
   "cell_type": "code",
   "execution_count": 4,
   "id": "e04a5c55",
   "metadata": {
    "id": "e04a5c55",
    "outputId": "46348dbd-3dad-4f79-b704-334a2c19e24b"
   },
   "outputs": [
    {
     "name": "stdout",
     "output_type": "stream",
     "text": [
      "Start Cell Execution at : 20/04/2023 08:56:19\n",
      "++++++++++++++++++++++++++++++++++++++++++++++++++++++++++++++++++++++++++++++++\n",
      "Creating summaries\n",
      "--------------------------------------------------------------------------------\n",
      "    Loading data from MIMIC-Extract pipeline...\n",
      "    Adding SAPS II score to static dataset...\n",
      "    Adding mortality columns to static dataset...\n",
      "    Merging dataframes to create X_full...\n",
      "    Creating summary by careunit...\n",
      "    Creating summary by SAPS II score quartile...\n",
      "    Creating summary by vitals/labs...\n",
      "    Done!\n",
      "CPU times: user 8.04 s, sys: 3.19 s, total: 11.2 s\n",
      "Wall time: 15 s\n"
     ]
    }
   ],
   "source": [
    "%%time\n",
    "cell_execution_time = datetime.now(pytz.timezone('America/New_York')).strftime(\"%d/%m/%Y %H:%M:%S\")\n",
    "print(f'Start Cell Execution at : {cell_execution_time}')\n",
    "pat_summ_36_by_cu_df, pat_summ_36_by_sapsiiq_df, vitals_labs_summ_36_df = get_summaries(cutoff_hours=36, gap_hours=18)"
   ]
  },
  {
   "cell_type": "markdown",
   "id": "12bcc93e",
   "metadata": {
    "id": "12bcc93e"
   },
   "source": [
    "Let's now display the resulting summaries one at a time."
   ]
  },
  {
   "cell_type": "markdown",
   "id": "48b48560",
   "metadata": {
    "id": "48b48560"
   },
   "source": [
    "#### 1.1.1. Data summary by patients in each intensive care unit (ICU)"
   ]
  },
  {
   "cell_type": "code",
   "execution_count": 5,
   "id": "451bdc7a",
   "metadata": {
    "id": "451bdc7a",
    "outputId": "9d34b8d3-f143-430f-a124-6dcbd9d80837"
   },
   "outputs": [
    {
     "data": {
      "text/html": [
       "<div>\n",
       "<style scoped>\n",
       "    .dataframe tbody tr th:only-of-type {\n",
       "        vertical-align: middle;\n",
       "    }\n",
       "\n",
       "    .dataframe tbody tr th {\n",
       "        vertical-align: top;\n",
       "    }\n",
       "\n",
       "    .dataframe thead th {\n",
       "        text-align: right;\n",
       "    }\n",
       "</style>\n",
       "<table border=\"1\" class=\"dataframe\">\n",
       "  <thead>\n",
       "    <tr style=\"text-align: right;\">\n",
       "      <th></th>\n",
       "      <th>N</th>\n",
       "      <th>n</th>\n",
       "      <th>Class Imbalance</th>\n",
       "      <th>Age (Mean)</th>\n",
       "      <th>Gender (Male)</th>\n",
       "    </tr>\n",
       "    <tr>\n",
       "      <th>Careunit</th>\n",
       "      <th></th>\n",
       "      <th></th>\n",
       "      <th></th>\n",
       "      <th></th>\n",
       "      <th></th>\n",
       "    </tr>\n",
       "  </thead>\n",
       "  <tbody>\n",
       "    <tr>\n",
       "      <th>CCU</th>\n",
       "      <td>4725</td>\n",
       "      <td>287</td>\n",
       "      <td>0.061</td>\n",
       "      <td>82.59</td>\n",
       "      <td>0.58</td>\n",
       "    </tr>\n",
       "    <tr>\n",
       "      <th>CSRU</th>\n",
       "      <td>6932</td>\n",
       "      <td>124</td>\n",
       "      <td>0.018</td>\n",
       "      <td>69.41</td>\n",
       "      <td>0.67</td>\n",
       "    </tr>\n",
       "    <tr>\n",
       "      <th>MICU</th>\n",
       "      <td>11065</td>\n",
       "      <td>986</td>\n",
       "      <td>0.089</td>\n",
       "      <td>77.88</td>\n",
       "      <td>0.51</td>\n",
       "    </tr>\n",
       "    <tr>\n",
       "      <th>SICU</th>\n",
       "      <td>5062</td>\n",
       "      <td>347</td>\n",
       "      <td>0.069</td>\n",
       "      <td>72.69</td>\n",
       "      <td>0.52</td>\n",
       "    </tr>\n",
       "    <tr>\n",
       "      <th>TSICU</th>\n",
       "      <td>4132</td>\n",
       "      <td>240</td>\n",
       "      <td>0.058</td>\n",
       "      <td>67.35</td>\n",
       "      <td>0.61</td>\n",
       "    </tr>\n",
       "    <tr>\n",
       "      <th>Overall</th>\n",
       "      <td>31916</td>\n",
       "      <td>1984</td>\n",
       "      <td>0.062</td>\n",
       "      <td>74.55</td>\n",
       "      <td>0.57</td>\n",
       "    </tr>\n",
       "  </tbody>\n",
       "</table>\n",
       "</div>"
      ],
      "text/plain": [
       "              N     n  Class Imbalance  Age (Mean)  Gender (Male)\n",
       "Careunit                                                         \n",
       "CCU        4725   287            0.061       82.59           0.58\n",
       "CSRU       6932   124            0.018       69.41           0.67\n",
       "MICU      11065   986            0.089       77.88           0.51\n",
       "SICU       5062   347            0.069       72.69           0.52\n",
       "TSICU      4132   240            0.058       67.35           0.61\n",
       "Overall   31916  1984            0.062       74.55           0.57"
      ]
     },
     "execution_count": 5,
     "metadata": {},
     "output_type": "execute_result"
    }
   ],
   "source": [
    "pat_summ_36_by_cu_df"
   ]
  },
  {
   "cell_type": "markdown",
   "id": "f3dff829",
   "metadata": {
    "id": "f3dff829"
   },
   "source": [
    "In the previous summary, patients were broken in groups where each group is one of five careunits where patients were first admitted:\n",
    "* CCU: Coronary Care Unit\n",
    "* CSRU: Cardiac Surgery Recovery Unit\n",
    "* MICU: Medical Intensive Care Unit\n",
    "* SICU: Surgical Intensive Care Unit\n",
    "* TSICU: Trauma Surgical Intensive Care Unit\n",
    "\n",
    "In addition, an overall group was also added. The statistics provided by the summary are:\n",
    "* `N`: The number of samples (patients) in the group.\n",
    "* `n`: The number of samples (patients) meeting the in-hospital mortality criteria defined in the paper: patient died or had a note of \"Do Not Resuscitate\" (DNR) or had a note of \"Comfort Measures Only\" (CMO).\n",
    "* `Class Imbalance`: Ratio of patients meeting the in-hospital mortality criteria defined in the paper, i.e., $\\dfrac{\\text{n}}{\\text{N}}$.\n",
    "* `Age (Mean)`: Mean age of patients for each group in years.\n",
    "* `Gender (Male)`: Ratio of patients that are males.\n",
    "\n",
    "This summary was prepared to match Table 1 in the original paper. There are differences between both that can be attributed to the way how data was preprocessed by MIMIC-Extract when compared to the preprocessing done by the authors back in 2018, before MIMIC-Extract became available, and that was not made available by the authors in [their code](https://github.com/mit-caml/multitask-patients)."
   ]
  },
  {
   "cell_type": "markdown",
   "id": "9f1a8e12",
   "metadata": {
    "id": "9f1a8e12"
   },
   "source": [
    "#### 1.1.2. Data summary by patients in each SAPS-II score quartile"
   ]
  },
  {
   "cell_type": "code",
   "execution_count": 6,
   "id": "2d1474f4",
   "metadata": {
    "id": "2d1474f4",
    "outputId": "114e803d-7a37-4227-ffb3-ac770d9e0189"
   },
   "outputs": [
    {
     "data": {
      "text/html": [
       "<div>\n",
       "<style scoped>\n",
       "    .dataframe tbody tr th:only-of-type {\n",
       "        vertical-align: middle;\n",
       "    }\n",
       "\n",
       "    .dataframe tbody tr th {\n",
       "        vertical-align: top;\n",
       "    }\n",
       "\n",
       "    .dataframe thead th {\n",
       "        text-align: right;\n",
       "    }\n",
       "</style>\n",
       "<table border=\"1\" class=\"dataframe\">\n",
       "  <thead>\n",
       "    <tr style=\"text-align: right;\">\n",
       "      <th></th>\n",
       "      <th>N</th>\n",
       "      <th>n</th>\n",
       "      <th>Class Imbalance</th>\n",
       "      <th>Age (Mean)</th>\n",
       "      <th>Gender (Male)</th>\n",
       "      <th>SAPS II (Min)</th>\n",
       "      <th>SAPS II (Mean)</th>\n",
       "      <th>SAPS II (Max)</th>\n",
       "    </tr>\n",
       "    <tr>\n",
       "      <th>SAPS II Quartile</th>\n",
       "      <th></th>\n",
       "      <th></th>\n",
       "      <th></th>\n",
       "      <th></th>\n",
       "      <th></th>\n",
       "      <th></th>\n",
       "      <th></th>\n",
       "      <th></th>\n",
       "    </tr>\n",
       "  </thead>\n",
       "  <tbody>\n",
       "    <tr>\n",
       "      <th>0</th>\n",
       "      <td>6884</td>\n",
       "      <td>51</td>\n",
       "      <td>0.007</td>\n",
       "      <td>45.83</td>\n",
       "      <td>0.61</td>\n",
       "      <td>0</td>\n",
       "      <td>16.63</td>\n",
       "      <td>22</td>\n",
       "    </tr>\n",
       "    <tr>\n",
       "      <th>1</th>\n",
       "      <td>9844</td>\n",
       "      <td>236</td>\n",
       "      <td>0.024</td>\n",
       "      <td>68.84</td>\n",
       "      <td>0.58</td>\n",
       "      <td>23</td>\n",
       "      <td>27.75</td>\n",
       "      <td>32</td>\n",
       "    </tr>\n",
       "    <tr>\n",
       "      <th>2</th>\n",
       "      <td>7995</td>\n",
       "      <td>490</td>\n",
       "      <td>0.061</td>\n",
       "      <td>86.50</td>\n",
       "      <td>0.55</td>\n",
       "      <td>33</td>\n",
       "      <td>36.72</td>\n",
       "      <td>41</td>\n",
       "    </tr>\n",
       "    <tr>\n",
       "      <th>3</th>\n",
       "      <td>7193</td>\n",
       "      <td>1207</td>\n",
       "      <td>0.168</td>\n",
       "      <td>96.58</td>\n",
       "      <td>0.53</td>\n",
       "      <td>42</td>\n",
       "      <td>51.16</td>\n",
       "      <td>118</td>\n",
       "    </tr>\n",
       "    <tr>\n",
       "      <th>Overall</th>\n",
       "      <td>31916</td>\n",
       "      <td>1984</td>\n",
       "      <td>0.062</td>\n",
       "      <td>74.55</td>\n",
       "      <td>0.57</td>\n",
       "      <td>0</td>\n",
       "      <td>32.87</td>\n",
       "      <td>118</td>\n",
       "    </tr>\n",
       "  </tbody>\n",
       "</table>\n",
       "</div>"
      ],
      "text/plain": [
       "                      N     n  Class Imbalance  Age (Mean)  Gender (Male)  \\\n",
       "SAPS II Quartile                                                            \n",
       "0                  6884    51            0.007       45.83           0.61   \n",
       "1                  9844   236            0.024       68.84           0.58   \n",
       "2                  7995   490            0.061       86.50           0.55   \n",
       "3                  7193  1207            0.168       96.58           0.53   \n",
       "Overall           31916  1984            0.062       74.55           0.57   \n",
       "\n",
       "                  SAPS II (Min)  SAPS II (Mean)  SAPS II (Max)  \n",
       "SAPS II Quartile                                                \n",
       "0                             0           16.63             22  \n",
       "1                            23           27.75             32  \n",
       "2                            33           36.72             41  \n",
       "3                            42           51.16            118  \n",
       "Overall                       0           32.87            118  "
      ]
     },
     "execution_count": 6,
     "metadata": {},
     "output_type": "execute_result"
    }
   ],
   "source": [
    "pat_summ_36_by_sapsiiq_df"
   ]
  },
  {
   "cell_type": "markdown",
   "id": "0711c274",
   "metadata": {
    "id": "0711c274"
   },
   "source": [
    "In the previous summary, patients were broken based on the quartile of the SAPS-II score assigned to them. As it can be seen, the four quartiles have the ranges $[0, 22], [23, 32], [33, 41], [42, 118] $. This was included in the authors code but not in the paper. It seems the class imbalance might have been the primary reason. As it is evident from the summary, most of the patients are in quartile $3$ since they are in an ICU and is expected their values are on the high side."
   ]
  },
  {
   "cell_type": "markdown",
   "id": "c3b0959c",
   "metadata": {
    "id": "c3b0959c"
   },
   "source": [
    "#### 1.1.3. Data summary for physiological measurements"
   ]
  },
  {
   "cell_type": "code",
   "execution_count": 7,
   "id": "2c2e18ef",
   "metadata": {
    "id": "2c2e18ef",
    "outputId": "9e7865e7-e77c-4edf-f8af-dc4ab8da9876"
   },
   "outputs": [
    {
     "data": {
      "text/html": [
       "<div>\n",
       "<style scoped>\n",
       "    .dataframe tbody tr th:only-of-type {\n",
       "        vertical-align: middle;\n",
       "    }\n",
       "\n",
       "    .dataframe tbody tr th {\n",
       "        vertical-align: top;\n",
       "    }\n",
       "\n",
       "    .dataframe thead th {\n",
       "        text-align: right;\n",
       "    }\n",
       "</style>\n",
       "<table border=\"1\" class=\"dataframe\">\n",
       "  <thead>\n",
       "    <tr style=\"text-align: right;\">\n",
       "      <th></th>\n",
       "      <th>min</th>\n",
       "      <th>avg</th>\n",
       "      <th>max</th>\n",
       "      <th>std</th>\n",
       "      <th>N</th>\n",
       "      <th>pres.</th>\n",
       "    </tr>\n",
       "    <tr>\n",
       "      <th>variable</th>\n",
       "      <th></th>\n",
       "      <th></th>\n",
       "      <th></th>\n",
       "      <th></th>\n",
       "      <th></th>\n",
       "      <th></th>\n",
       "    </tr>\n",
       "  </thead>\n",
       "  <tbody>\n",
       "    <tr>\n",
       "      <th>anion gap</th>\n",
       "      <td>5.00</td>\n",
       "      <td>13.56</td>\n",
       "      <td>50.00</td>\n",
       "      <td>3.78</td>\n",
       "      <td>175155</td>\n",
       "      <td>0.0830</td>\n",
       "    </tr>\n",
       "    <tr>\n",
       "      <th>bicarbonate</th>\n",
       "      <td>0.00</td>\n",
       "      <td>24.37</td>\n",
       "      <td>53.00</td>\n",
       "      <td>4.65</td>\n",
       "      <td>183740</td>\n",
       "      <td>0.0870</td>\n",
       "    </tr>\n",
       "    <tr>\n",
       "      <th>blood urea nitrogen</th>\n",
       "      <td>0.00</td>\n",
       "      <td>25.98</td>\n",
       "      <td>250.00</td>\n",
       "      <td>21.55</td>\n",
       "      <td>185610</td>\n",
       "      <td>0.0879</td>\n",
       "    </tr>\n",
       "    <tr>\n",
       "      <th>chloride</th>\n",
       "      <td>50.00</td>\n",
       "      <td>105.19</td>\n",
       "      <td>175.00</td>\n",
       "      <td>6.22</td>\n",
       "      <td>201959</td>\n",
       "      <td>0.0957</td>\n",
       "    </tr>\n",
       "    <tr>\n",
       "      <th>creatinine</th>\n",
       "      <td>0.10</td>\n",
       "      <td>1.38</td>\n",
       "      <td>46.60</td>\n",
       "      <td>1.48</td>\n",
       "      <td>186419</td>\n",
       "      <td>0.0883</td>\n",
       "    </tr>\n",
       "    <tr>\n",
       "      <th>diastolic blood pressure</th>\n",
       "      <td>0.00</td>\n",
       "      <td>60.96</td>\n",
       "      <td>307.00</td>\n",
       "      <td>14.06</td>\n",
       "      <td>1839715</td>\n",
       "      <td>0.8713</td>\n",
       "    </tr>\n",
       "    <tr>\n",
       "      <th>fraction inspired oxygen</th>\n",
       "      <td>0.21</td>\n",
       "      <td>0.53</td>\n",
       "      <td>1.00</td>\n",
       "      <td>0.19</td>\n",
       "      <td>93794</td>\n",
       "      <td>0.0444</td>\n",
       "    </tr>\n",
       "    <tr>\n",
       "      <th>glascow coma scale total</th>\n",
       "      <td>3.00</td>\n",
       "      <td>12.65</td>\n",
       "      <td>15.00</td>\n",
       "      <td>3.45</td>\n",
       "      <td>361281</td>\n",
       "      <td>0.1711</td>\n",
       "    </tr>\n",
       "    <tr>\n",
       "      <th>glucose</th>\n",
       "      <td>33.00</td>\n",
       "      <td>139.87</td>\n",
       "      <td>1591.00</td>\n",
       "      <td>55.91</td>\n",
       "      <td>495648</td>\n",
       "      <td>0.2347</td>\n",
       "    </tr>\n",
       "    <tr>\n",
       "      <th>heart rate</th>\n",
       "      <td>0.00</td>\n",
       "      <td>84.85</td>\n",
       "      <td>300.00</td>\n",
       "      <td>17.07</td>\n",
       "      <td>1898825</td>\n",
       "      <td>0.8993</td>\n",
       "    </tr>\n",
       "    <tr>\n",
       "      <th>hematocrit</th>\n",
       "      <td>0.00</td>\n",
       "      <td>30.94</td>\n",
       "      <td>71.70</td>\n",
       "      <td>5.28</td>\n",
       "      <td>243966</td>\n",
       "      <td>0.1155</td>\n",
       "    </tr>\n",
       "    <tr>\n",
       "      <th>hemoglobin</th>\n",
       "      <td>0.00</td>\n",
       "      <td>10.62</td>\n",
       "      <td>22.10</td>\n",
       "      <td>1.87</td>\n",
       "      <td>196643</td>\n",
       "      <td>0.0931</td>\n",
       "    </tr>\n",
       "    <tr>\n",
       "      <th>lactate</th>\n",
       "      <td>0.40</td>\n",
       "      <td>2.44</td>\n",
       "      <td>30.00</td>\n",
       "      <td>2.24</td>\n",
       "      <td>56311</td>\n",
       "      <td>0.0267</td>\n",
       "    </tr>\n",
       "    <tr>\n",
       "      <th>magnesium</th>\n",
       "      <td>0.00</td>\n",
       "      <td>2.05</td>\n",
       "      <td>20.00</td>\n",
       "      <td>0.41</td>\n",
       "      <td>173274</td>\n",
       "      <td>0.0821</td>\n",
       "    </tr>\n",
       "    <tr>\n",
       "      <th>mean blood pressure</th>\n",
       "      <td>14.00</td>\n",
       "      <td>79.49</td>\n",
       "      <td>330.00</td>\n",
       "      <td>15.39</td>\n",
       "      <td>1830620</td>\n",
       "      <td>0.8670</td>\n",
       "    </tr>\n",
       "    <tr>\n",
       "      <th>oxygen saturation</th>\n",
       "      <td>0.00</td>\n",
       "      <td>96.77</td>\n",
       "      <td>100.00</td>\n",
       "      <td>3.37</td>\n",
       "      <td>1816478</td>\n",
       "      <td>0.8603</td>\n",
       "    </tr>\n",
       "    <tr>\n",
       "      <th>partial thromboplastin time</th>\n",
       "      <td>18.80</td>\n",
       "      <td>40.97</td>\n",
       "      <td>150.00</td>\n",
       "      <td>24.31</td>\n",
       "      <td>129227</td>\n",
       "      <td>0.0612</td>\n",
       "    </tr>\n",
       "    <tr>\n",
       "      <th>ph</th>\n",
       "      <td>6.50</td>\n",
       "      <td>7.38</td>\n",
       "      <td>8.40</td>\n",
       "      <td>0.07</td>\n",
       "      <td>191486</td>\n",
       "      <td>0.0907</td>\n",
       "    </tr>\n",
       "    <tr>\n",
       "      <th>phosphate</th>\n",
       "      <td>0.50</td>\n",
       "      <td>3.45</td>\n",
       "      <td>20.00</td>\n",
       "      <td>1.37</td>\n",
       "      <td>112940</td>\n",
       "      <td>0.0535</td>\n",
       "    </tr>\n",
       "    <tr>\n",
       "      <th>platelets</th>\n",
       "      <td>0.00</td>\n",
       "      <td>204.89</td>\n",
       "      <td>2000.00</td>\n",
       "      <td>113.17</td>\n",
       "      <td>178310</td>\n",
       "      <td>0.0845</td>\n",
       "    </tr>\n",
       "    <tr>\n",
       "      <th>potassium</th>\n",
       "      <td>0.80</td>\n",
       "      <td>4.12</td>\n",
       "      <td>12.00</td>\n",
       "      <td>0.64</td>\n",
       "      <td>226398</td>\n",
       "      <td>0.1072</td>\n",
       "    </tr>\n",
       "    <tr>\n",
       "      <th>prothrombin time inr</th>\n",
       "      <td>0.50</td>\n",
       "      <td>1.50</td>\n",
       "      <td>88.80</td>\n",
       "      <td>1.20</td>\n",
       "      <td>122730</td>\n",
       "      <td>0.0581</td>\n",
       "    </tr>\n",
       "    <tr>\n",
       "      <th>prothrombin time pt</th>\n",
       "      <td>2.39</td>\n",
       "      <td>15.86</td>\n",
       "      <td>150.00</td>\n",
       "      <td>6.73</td>\n",
       "      <td>122708</td>\n",
       "      <td>0.0581</td>\n",
       "    </tr>\n",
       "    <tr>\n",
       "      <th>respiratory rate</th>\n",
       "      <td>0.00</td>\n",
       "      <td>19.09</td>\n",
       "      <td>300.00</td>\n",
       "      <td>5.69</td>\n",
       "      <td>1869228</td>\n",
       "      <td>0.8853</td>\n",
       "    </tr>\n",
       "    <tr>\n",
       "      <th>sodium</th>\n",
       "      <td>50.00</td>\n",
       "      <td>138.57</td>\n",
       "      <td>225.00</td>\n",
       "      <td>5.18</td>\n",
       "      <td>213272</td>\n",
       "      <td>0.1010</td>\n",
       "    </tr>\n",
       "    <tr>\n",
       "      <th>systolic blood pressure</th>\n",
       "      <td>0.00</td>\n",
       "      <td>122.08</td>\n",
       "      <td>311.00</td>\n",
       "      <td>21.80</td>\n",
       "      <td>1840139</td>\n",
       "      <td>0.8715</td>\n",
       "    </tr>\n",
       "    <tr>\n",
       "      <th>temperature</th>\n",
       "      <td>26.00</td>\n",
       "      <td>36.98</td>\n",
       "      <td>42.22</td>\n",
       "      <td>0.77</td>\n",
       "      <td>626196</td>\n",
       "      <td>0.2966</td>\n",
       "    </tr>\n",
       "    <tr>\n",
       "      <th>weight</th>\n",
       "      <td>0.00</td>\n",
       "      <td>83.35</td>\n",
       "      <td>250.00</td>\n",
       "      <td>23.40</td>\n",
       "      <td>58904</td>\n",
       "      <td>0.0279</td>\n",
       "    </tr>\n",
       "    <tr>\n",
       "      <th>white blood cell count</th>\n",
       "      <td>0.10</td>\n",
       "      <td>11.85</td>\n",
       "      <td>939.00</td>\n",
       "      <td>9.58</td>\n",
       "      <td>170830</td>\n",
       "      <td>0.0809</td>\n",
       "    </tr>\n",
       "  </tbody>\n",
       "</table>\n",
       "</div>"
      ],
      "text/plain": [
       "                               min     avg      max     std        N   pres.\n",
       "variable                                                                    \n",
       "anion gap                     5.00   13.56    50.00    3.78   175155  0.0830\n",
       "bicarbonate                   0.00   24.37    53.00    4.65   183740  0.0870\n",
       "blood urea nitrogen           0.00   25.98   250.00   21.55   185610  0.0879\n",
       "chloride                     50.00  105.19   175.00    6.22   201959  0.0957\n",
       "creatinine                    0.10    1.38    46.60    1.48   186419  0.0883\n",
       "diastolic blood pressure      0.00   60.96   307.00   14.06  1839715  0.8713\n",
       "fraction inspired oxygen      0.21    0.53     1.00    0.19    93794  0.0444\n",
       "glascow coma scale total      3.00   12.65    15.00    3.45   361281  0.1711\n",
       "glucose                      33.00  139.87  1591.00   55.91   495648  0.2347\n",
       "heart rate                    0.00   84.85   300.00   17.07  1898825  0.8993\n",
       "hematocrit                    0.00   30.94    71.70    5.28   243966  0.1155\n",
       "hemoglobin                    0.00   10.62    22.10    1.87   196643  0.0931\n",
       "lactate                       0.40    2.44    30.00    2.24    56311  0.0267\n",
       "magnesium                     0.00    2.05    20.00    0.41   173274  0.0821\n",
       "mean blood pressure          14.00   79.49   330.00   15.39  1830620  0.8670\n",
       "oxygen saturation             0.00   96.77   100.00    3.37  1816478  0.8603\n",
       "partial thromboplastin time  18.80   40.97   150.00   24.31   129227  0.0612\n",
       "ph                            6.50    7.38     8.40    0.07   191486  0.0907\n",
       "phosphate                     0.50    3.45    20.00    1.37   112940  0.0535\n",
       "platelets                     0.00  204.89  2000.00  113.17   178310  0.0845\n",
       "potassium                     0.80    4.12    12.00    0.64   226398  0.1072\n",
       "prothrombin time inr          0.50    1.50    88.80    1.20   122730  0.0581\n",
       "prothrombin time pt           2.39   15.86   150.00    6.73   122708  0.0581\n",
       "respiratory rate              0.00   19.09   300.00    5.69  1869228  0.8853\n",
       "sodium                       50.00  138.57   225.00    5.18   213272  0.1010\n",
       "systolic blood pressure       0.00  122.08   311.00   21.80  1840139  0.8715\n",
       "temperature                  26.00   36.98    42.22    0.77   626196  0.2966\n",
       "weight                        0.00   83.35   250.00   23.40    58904  0.0279\n",
       "white blood cell count        0.10   11.85   939.00    9.58   170830  0.0809"
      ]
     },
     "execution_count": 7,
     "metadata": {},
     "output_type": "execute_result"
    }
   ],
   "source": [
    "vitals_labs_summ_36_df"
   ]
  },
  {
   "cell_type": "markdown",
   "id": "166cab69",
   "metadata": {
    "id": "166cab69"
   },
   "source": [
    "In the previous summary, all vitals and lab measurements selected in the paper (29 in total) are listed with relevant statistics associated to it:\n",
    "* `min` representing the minimum of the measurement observed in the vitals/labs.\n",
    "* `avg` representing the average of the measurement observed in the vitals/labs.\n",
    "* `max` representing the maximum of the measurement observed in the vitals/labs.\n",
    "* `std` representing the standard deviation of the measurement observed in the vitals/labs.\n",
    "* `N` representing the number of non `NaN` samples for the specific vital/lab measurement.\n",
    "* `pres.` representing the portion of all possible hours across all patients, admissions, and ICU stays where at least one of the 104 vitals/labs measurements in the original MIMIC-Extract pipeline was taken.\n",
    "\n",
    "All these measurements are based on the `vitals_labs_mean` dataframe in the MIMIC-Extract pipeline which provides average of vitals/labs on a per hour basis for each patient after going into an ICU."
   ]
  },
  {
   "cell_type": "markdown",
   "id": "f21b21a0",
   "metadata": {
    "id": "f21b21a0"
   },
   "source": [
    "## 2. Discovering Patient Cohorts"
   ]
  },
  {
   "cell_type": "markdown",
   "id": "3a0a385d",
   "metadata": {
    "id": "3a0a385d"
   },
   "source": [
    "The paper uses a two-step pipeline to: 1) identify relevant patient cohorts, and 2) use those relevant cohorts as separate tasks in a multi-lask learning framework to predict in-hospital mortality. In this section, we will focus on the first step of the pipeline, i.e., patient cohort discovery."
   ]
  },
  {
   "cell_type": "markdown",
   "id": "e0ac0335",
   "metadata": {
    "id": "e0ac0335"
   },
   "source": [
    "In order to identify meaningful patient cohorts, the paper proposes to process the raw patient data in such a way that the result is a 3D matrix of shape $(P \\times T \\times F)$ where $P$ represents the number of patients, $T$ the number of timesteps, and $F$ the number of features as depicted in the figure below (in blue) which is partially based on Figure 2 of the original paper. All numbers shown in the figure below correspond to a specific experiment published in the paper in which the observation window is limited to the first $24$ hours (cutoff period) after a patient goes into a careunit and there is a gap of $12$ hours (gap period) between the end of the observation window and the beginning of the prediction window where the prediction task is in-hospital mortality.\n",
    "\n",
    "Preparation of the data to get the 3D (blue) matrix is performed by a function called `prepare_data()` inside the `mtl_patients.py` module. This preparation consists of the following transformations taken from the paper and the author's code reference implementation:\n",
    "1. Calculation of the mortality flag (prediction label) and mortality time for every patient in the dataset using an *extended* definition of mortality: death, a note of \"Do Not Resuscitate\" (DNR), or a note of \"Comfort Measures Only\" (CMO). In case any of these conditions are met for a patient, the corresponding mortality label is set to *True* and the corresponding mortality time is considered as the earliest time of any of the three conditions. After reviewing in detail the author's code implementation it seems mortality is based on deathtime and a CMO note but not DNR. However, the calculation of the time of death is based on the earliest time of the three conditions.\n",
    "2. Data used for the prediction is only limited to the first certain amount of hours after a patient goes into the ICU. This amount of hours is called inside the code \"a cutoff period\" (observation window) and defines the period of data used to train all models. In addition, there is another number of hours called inside the code \"the gap period\" which represents the time between the end of the observation window and the beginning of the prediction window to prevent label leakage. All patients that died under the *extended* definition before the cutoff period plus the gap period or stayed less than the cutoff period are excluded from the experiment as part of this step. Also, all patients under the age of 15 are excluded (this is already part of the exclusion criteria of the MIMIC-Extract pipeline).\n",
    "3. There are 29 vitals/labs timeseries selected by the paper. Only data within the cutoff period for vitals/labs is kept and rest is removed. This will be used for the rest of the machine learning pipeline.\n",
    "4. All vitals/labs values are converted to z-scores so they all have zero mean and unit standard deviation. Those z-scores are rounded to the closest integer and clipped between $-4$ and $4$ or set to $9$ in case of `NaN`. This allows to map every vital/lab measurement (a float) to one of ten possible values $[-4, -3, -2, -1, 0, 1, 2, 3, 4, 9]$, so they can be converted to dummy values. After dummifying the vitals/labs, column for the $9$ values (`NaN`) is removed, and the resulting matrix is sparse and containing either $0$s or $1$s.\n",
    "5. Every patient is padded with rows of zeroes for those hours that are missed. For example, if a patient only has vitals/labs for the first ten hours and the cutoff period is 24, code adds fourteen hours (rows) with zeroes for that patient. In the end, the matrix will have a size of $P \\times T \\times F$ as expected by the subsequent models.\n",
    "6. Finally, static data (gender, age, and ethnicity) is converted to integers representing categories and dummified. In case of age, there are four buckets established; $(10, 30), (30, 50), (50, 70), (70, \\infty)$; while ethnicity is broken into five buckets (asian, white, hispanic, black, other).\n",
    "7. Cohort assignments based on first careunit or Simplified Acute Physiology Score (SAPS) II score quartile is calculated for each patient and returned as well."
   ]
  },
  {
   "cell_type": "markdown",
   "id": "45d014e8",
   "metadata": {
    "id": "45d014e8"
   },
   "source": [
    "![Figure 1](../img/paper-181-fig-1.png)"
   ]
  },
  {
   "cell_type": "markdown",
   "id": "c040a251",
   "metadata": {
    "id": "c040a251"
   },
   "source": [
    "The `discover_cohorts()` function inside the `mtl_patients.py` module is the one implementing the pipeline shown in the figure above and then calling the `prepare_data()` function detailed previously as the first step. Once data has been processed, the function will break the data in training, validation, and test data sets in a $70\\%/10\\%/20\\%$ proportion.\n",
    "\n",
    "The training data is used to train an LSTM autoencoder. The main purpose of the LSTM autoencoder is to generate a fixed-length dense representation (embedding) of the sparse inputs trying to retain the most important parts of the inputs. The paper selected embeddings of size $50$ as the optimal dimension (hyperparameter). The purple box in the middle of the diagram above (a 2D matrix) represents the embeddings after the LSTM autoencoder learned the representation of the original 3D matrix of shape $(32537 \\times 24 \\times 232)$ where every row corresponds to a patient.\n",
    "\n",
    "Once the embeddings are calculated, a Gaussian Mixture Model is applied using $3$ clusters (the value the authors considered optimal). The result are the three green boxes representing three cohorts discovered in an unsupervised way and grouping similar patients based on the three static and the 29 time-varying vitals/labs selected from the MIMIC-III database."
   ]
  },
  {
   "cell_type": "markdown",
   "id": "0fa284f2-7c60-42ae-a9f7-80b5236438fc",
   "metadata": {
    "id": "0fa284f2-7c60-42ae-a9f7-80b5236438fc"
   },
   "source": [
    "### 2.1. Cohort statistics at 36 hours "
   ]
  },
  {
   "cell_type": "markdown",
   "id": "cc972ff9-3e4b-4c88-b942-f267162c0b34",
   "metadata": {
    "id": "cc972ff9-3e4b-4c88-b942-f267162c0b34"
   },
   "source": [
    "The paper runs two experiments. The first experiment uses a cutoff period of 36 hours, a gap period of 18 hours, and three clusters. Let's run this first experiment using the `discover_cohorts()` function and determine the corresponding cohort assignment for every patient that does not meet the exception criteria:"
   ]
  },
  {
   "cell_type": "code",
   "execution_count": 8,
   "id": "81181566",
   "metadata": {
    "id": "81181566"
   },
   "outputs": [],
   "source": [
    "from mtl_patients import discover_cohorts"
   ]
  },
  {
   "cell_type": "code",
   "execution_count": 9,
   "id": "71f8b82b",
   "metadata": {
    "id": "71f8b82b",
    "tags": []
   },
   "outputs": [
    {
     "name": "stdout",
     "output_type": "stream",
     "text": [
      "Start Cell Execution at : 20/04/2023 08:56:35\n",
      "++++++++++++++++++++++++++++++++++++++++++++++++++++++++++++++++++++++++++++++++\n",
      "Preparing the data\n",
      "--------------------------------------------------------------------------------\n",
      "    Loading data from MIMIC-Extract pipeline...\n",
      "    Adding SAPS II score to static dataset...\n",
      "    Adding mortality columns to static dataset...\n",
      "    Discretizing X...\n",
      "        X.shape: (2200954, 33), X.subject_id.nunique(): 34472\n",
      "        X_discrete.shape: (2200954, 225), X_discrete.subject_id.nunique(): 34472\n",
      "    Keep only X_discrete[X_discrete.hours_in < 36]...\n",
      "        New X_discrete.shape: (1110984, 223), new X_discrete.subject_id.nunique(): 34472\n",
      "    Padding patients with less than 36 hours of data...\n",
      "    Merging dataframes to create X_full...\n",
      "    Mortality per careunit...\n",
      "        MICU: 986 out of 11065\n",
      "        SICU: 347 out of 5062\n",
      "        CCU: 287 out of 4725\n",
      "        CSRU: 124 out of 6932\n",
      "        TSICU: 240 out of 4132\n",
      "    Final shape of X: (31916, 36, 232)\n",
      "    Number of positive samples: 1984\n",
      "    Done!\n",
      "++++++++++++++++++++++++++++++++++++++++++++++++++++++++++++++++++++++++++++++++\n",
      "Discovering cohorts in an unsupervised way\n",
      "--------------------------------------------------------------------------------\n",
      "    Splitting data into train/validation/test sets...\n",
      "    Training LSTM autoencoder started at 20/04/2023 12:57:05. This will take several minutes (5 to 25). Please be patient...\n",
      "Epoch 1/100\n",
      "175/175 [==============================] - 8s 21ms/step - loss: 0.0348 - val_loss: 0.0291\n",
      "Epoch 2/100\n",
      "175/175 [==============================] - 2s 12ms/step - loss: 0.0266 - val_loss: 0.0253\n",
      "Epoch 3/100\n",
      "175/175 [==============================] - 2s 12ms/step - loss: 0.0245 - val_loss: 0.0240\n",
      "Epoch 4/100\n",
      "175/175 [==============================] - 2s 12ms/step - loss: 0.0236 - val_loss: 0.0234\n",
      "Epoch 5/100\n",
      "175/175 [==============================] - 2s 12ms/step - loss: 0.0230 - val_loss: 0.0229\n",
      "Epoch 6/100\n",
      "175/175 [==============================] - 2s 11ms/step - loss: 0.0227 - val_loss: 0.0226\n",
      "Epoch 7/100\n",
      "175/175 [==============================] - 2s 11ms/step - loss: 0.0224 - val_loss: 0.0224\n",
      "Epoch 8/100\n",
      "175/175 [==============================] - 2s 11ms/step - loss: 0.0222 - val_loss: 0.0222\n",
      "Epoch 9/100\n",
      "175/175 [==============================] - 2s 11ms/step - loss: 0.0220 - val_loss: 0.0220\n",
      "Epoch 10/100\n",
      "175/175 [==============================] - 2s 12ms/step - loss: 0.0218 - val_loss: 0.0218\n",
      "Epoch 11/100\n",
      "175/175 [==============================] - 2s 13ms/step - loss: 0.0216 - val_loss: 0.0217\n",
      "Epoch 12/100\n",
      "175/175 [==============================] - 2s 11ms/step - loss: 0.0215 - val_loss: 0.0215\n",
      "Epoch 13/100\n",
      "175/175 [==============================] - 2s 11ms/step - loss: 0.0214 - val_loss: 0.0215\n",
      "Epoch 14/100\n",
      "175/175 [==============================] - 2s 12ms/step - loss: 0.0213 - val_loss: 0.0214\n",
      "Epoch 15/100\n",
      "175/175 [==============================] - 2s 11ms/step - loss: 0.0213 - val_loss: 0.0213\n",
      "Epoch 16/100\n",
      "175/175 [==============================] - 2s 11ms/step - loss: 0.0212 - val_loss: 0.0212\n",
      "Epoch 17/100\n",
      "175/175 [==============================] - 2s 10ms/step - loss: 0.0211 - val_loss: 0.0212\n",
      "Epoch 18/100\n",
      "175/175 [==============================] - 2s 10ms/step - loss: 0.0211 - val_loss: 0.0211\n",
      "Epoch 19/100\n",
      "175/175 [==============================] - 2s 11ms/step - loss: 0.0210 - val_loss: 0.0211\n",
      "Epoch 20/100\n",
      "175/175 [==============================] - 2s 11ms/step - loss: 0.0209 - val_loss: 0.0210\n",
      "Epoch 21/100\n",
      "175/175 [==============================] - 2s 12ms/step - loss: 0.0209 - val_loss: 0.0209\n",
      "Epoch 22/100\n",
      "175/175 [==============================] - 2s 12ms/step - loss: 0.0208 - val_loss: 0.0209\n",
      "Epoch 23/100\n",
      "175/175 [==============================] - 2s 11ms/step - loss: 0.0208 - val_loss: 0.0208\n",
      "Epoch 24/100\n",
      "175/175 [==============================] - 2s 12ms/step - loss: 0.0207 - val_loss: 0.0208\n",
      "Epoch 25/100\n",
      "175/175 [==============================] - 2s 12ms/step - loss: 0.0206 - val_loss: 0.0207\n",
      "Epoch 26/100\n",
      "175/175 [==============================] - 2s 11ms/step - loss: 0.0206 - val_loss: 0.0206\n",
      "Epoch 27/100\n",
      "175/175 [==============================] - 2s 11ms/step - loss: 0.0205 - val_loss: 0.0206\n",
      "Epoch 28/100\n",
      "175/175 [==============================] - 2s 13ms/step - loss: 0.0205 - val_loss: 0.0205\n",
      "Epoch 29/100\n",
      "175/175 [==============================] - 2s 12ms/step - loss: 0.0204 - val_loss: 0.0205\n",
      "Epoch 30/100\n",
      "175/175 [==============================] - 2s 10ms/step - loss: 0.0204 - val_loss: 0.0205\n",
      "Epoch 31/100\n",
      "175/175 [==============================] - 2s 12ms/step - loss: 0.0204 - val_loss: 0.0204\n",
      "Epoch 32/100\n",
      "175/175 [==============================] - 2s 11ms/step - loss: 0.0203 - val_loss: 0.0204\n",
      "Epoch 33/100\n",
      "175/175 [==============================] - 2s 12ms/step - loss: 0.0203 - val_loss: 0.0204\n",
      "Epoch 34/100\n",
      "175/175 [==============================] - 2s 12ms/step - loss: 0.0202 - val_loss: 0.0203\n",
      "Epoch 35/100\n",
      "175/175 [==============================] - 2s 12ms/step - loss: 0.0202 - val_loss: 0.0203\n",
      "Epoch 36/100\n",
      "175/175 [==============================] - 2s 11ms/step - loss: 0.0202 - val_loss: 0.0203\n",
      "Epoch 37/100\n",
      "175/175 [==============================] - 2s 11ms/step - loss: 0.0201 - val_loss: 0.0202\n",
      "Epoch 38/100\n",
      "175/175 [==============================] - 2s 11ms/step - loss: 0.0201 - val_loss: 0.0202\n",
      "Epoch 39/100\n",
      "175/175 [==============================] - 2s 11ms/step - loss: 0.0201 - val_loss: 0.0202\n",
      "Epoch 40/100\n",
      "175/175 [==============================] - 2s 11ms/step - loss: 0.0201 - val_loss: 0.0202\n",
      "Epoch 41/100\n",
      "175/175 [==============================] - 2s 11ms/step - loss: 0.0200 - val_loss: 0.0201\n",
      "Epoch 42/100\n",
      "175/175 [==============================] - 2s 11ms/step - loss: 0.0200 - val_loss: 0.0201\n",
      "Epoch 43/100\n",
      "175/175 [==============================] - 2s 12ms/step - loss: 0.0200 - val_loss: 0.0201\n",
      "Epoch 44/100\n",
      "175/175 [==============================] - 2s 12ms/step - loss: 0.0199 - val_loss: 0.0200\n",
      "Epoch 45/100\n",
      "175/175 [==============================] - 2s 11ms/step - loss: 0.0199 - val_loss: 0.0200\n",
      "Epoch 46/100\n",
      "175/175 [==============================] - 2s 11ms/step - loss: 0.0199 - val_loss: 0.0200\n",
      "Epoch 47/100\n",
      "175/175 [==============================] - 2s 12ms/step - loss: 0.0199 - val_loss: 0.0200\n",
      "Epoch 48/100\n",
      "175/175 [==============================] - 2s 12ms/step - loss: 0.0198 - val_loss: 0.0199\n",
      "Epoch 49/100\n",
      "175/175 [==============================] - 2s 12ms/step - loss: 0.0198 - val_loss: 0.0199\n",
      "Epoch 50/100\n",
      "175/175 [==============================] - 2s 11ms/step - loss: 0.0198 - val_loss: 0.0199\n",
      "Epoch 51/100\n",
      "175/175 [==============================] - 2s 12ms/step - loss: 0.0198 - val_loss: 0.0199\n",
      "Epoch 52/100\n",
      "175/175 [==============================] - 2s 12ms/step - loss: 0.0198 - val_loss: 0.0199\n",
      "Epoch 53/100\n",
      "175/175 [==============================] - 2s 12ms/step - loss: 0.0197 - val_loss: 0.0198\n",
      "Epoch 54/100\n",
      "175/175 [==============================] - 2s 11ms/step - loss: 0.0197 - val_loss: 0.0198\n",
      "Epoch 55/100\n",
      "175/175 [==============================] - 2s 11ms/step - loss: 0.0197 - val_loss: 0.0198\n",
      "Epoch 56/100\n",
      "175/175 [==============================] - 2s 10ms/step - loss: 0.0197 - val_loss: 0.0198\n",
      "Epoch 57/100\n",
      "175/175 [==============================] - 2s 11ms/step - loss: 0.0196 - val_loss: 0.0198\n",
      "Epoch 58/100\n",
      "175/175 [==============================] - 2s 12ms/step - loss: 0.0196 - val_loss: 0.0197\n",
      "Epoch 59/100\n",
      "175/175 [==============================] - 2s 12ms/step - loss: 0.0196 - val_loss: 0.0197\n",
      "Epoch 60/100\n",
      "175/175 [==============================] - 2s 11ms/step - loss: 0.0196 - val_loss: 0.0197\n",
      "Epoch 61/100\n",
      "175/175 [==============================] - 2s 10ms/step - loss: 0.0196 - val_loss: 0.0197\n",
      "Epoch 62/100\n",
      "175/175 [==============================] - 2s 11ms/step - loss: 0.0195 - val_loss: 0.0196\n",
      "Epoch 63/100\n",
      "175/175 [==============================] - 2s 11ms/step - loss: 0.0195 - val_loss: 0.0196\n",
      "Epoch 64/100\n",
      "175/175 [==============================] - 2s 11ms/step - loss: 0.0195 - val_loss: 0.0196\n",
      "Epoch 65/100\n",
      "175/175 [==============================] - 2s 10ms/step - loss: 0.0195 - val_loss: 0.0196\n",
      "Epoch 66/100\n",
      "175/175 [==============================] - 2s 10ms/step - loss: 0.0195 - val_loss: 0.0196\n",
      "Epoch 67/100\n",
      "175/175 [==============================] - 2s 10ms/step - loss: 0.0195 - val_loss: 0.0196\n",
      "Epoch 68/100\n",
      "175/175 [==============================] - 2s 12ms/step - loss: 0.0194 - val_loss: 0.0195\n",
      "Epoch 69/100\n",
      "175/175 [==============================] - 2s 12ms/step - loss: 0.0194 - val_loss: 0.0195\n",
      "Epoch 70/100\n",
      "175/175 [==============================] - 2s 12ms/step - loss: 0.0194 - val_loss: 0.0195\n",
      "Epoch 71/100\n",
      "175/175 [==============================] - 2s 10ms/step - loss: 0.0194 - val_loss: 0.0195\n",
      "Epoch 72/100\n",
      "175/175 [==============================] - 2s 11ms/step - loss: 0.0194 - val_loss: 0.0195\n",
      "Epoch 73/100\n",
      "175/175 [==============================] - 2s 12ms/step - loss: 0.0193 - val_loss: 0.0194\n",
      "Epoch 74/100\n",
      "175/175 [==============================] - 2s 12ms/step - loss: 0.0193 - val_loss: 0.0194\n",
      "Epoch 75/100\n",
      "175/175 [==============================] - 2s 12ms/step - loss: 0.0193 - val_loss: 0.0194\n",
      "Epoch 76/100\n",
      "175/175 [==============================] - 2s 11ms/step - loss: 0.0193 - val_loss: 0.0194\n",
      "Epoch 77/100\n",
      "175/175 [==============================] - 2s 10ms/step - loss: 0.0193 - val_loss: 0.0194\n",
      "Epoch 78/100\n",
      "175/175 [==============================] - 2s 12ms/step - loss: 0.0193 - val_loss: 0.0194\n",
      "Epoch 79/100\n",
      "175/175 [==============================] - 2s 11ms/step - loss: 0.0192 - val_loss: 0.0194\n",
      "Epoch 80/100\n",
      "175/175 [==============================] - 2s 10ms/step - loss: 0.0192 - val_loss: 0.0193\n",
      "Epoch 81/100\n",
      "175/175 [==============================] - 2s 11ms/step - loss: 0.0192 - val_loss: 0.0193\n",
      "Epoch 82/100\n",
      "175/175 [==============================] - 2s 11ms/step - loss: 0.0192 - val_loss: 0.0193\n",
      "Epoch 83/100\n",
      "175/175 [==============================] - 2s 12ms/step - loss: 0.0192 - val_loss: 0.0193\n",
      "Epoch 84/100\n",
      "175/175 [==============================] - 2s 12ms/step - loss: 0.0192 - val_loss: 0.0193\n",
      "Epoch 85/100\n",
      "175/175 [==============================] - 2s 12ms/step - loss: 0.0192 - val_loss: 0.0193\n",
      "Epoch 86/100\n",
      "175/175 [==============================] - 2s 12ms/step - loss: 0.0191 - val_loss: 0.0193\n",
      "Epoch 87/100\n",
      "175/175 [==============================] - 2s 12ms/step - loss: 0.0191 - val_loss: 0.0192\n",
      "Epoch 88/100\n",
      "175/175 [==============================] - 2s 11ms/step - loss: 0.0191 - val_loss: 0.0192\n",
      "Epoch 89/100\n",
      "175/175 [==============================] - 2s 11ms/step - loss: 0.0191 - val_loss: 0.0192\n",
      "Epoch 90/100\n",
      "175/175 [==============================] - 2s 11ms/step - loss: 0.0191 - val_loss: 0.0192\n",
      "Epoch 91/100\n",
      "175/175 [==============================] - 2s 11ms/step - loss: 0.0191 - val_loss: 0.0192\n",
      "Epoch 92/100\n",
      "175/175 [==============================] - 2s 11ms/step - loss: 0.0191 - val_loss: 0.0192\n",
      "Epoch 93/100\n",
      "175/175 [==============================] - 2s 11ms/step - loss: 0.0190 - val_loss: 0.0192\n",
      "Epoch 94/100\n",
      "175/175 [==============================] - 2s 11ms/step - loss: 0.0190 - val_loss: 0.0192\n",
      "Epoch 95/100\n",
      "175/175 [==============================] - 2s 11ms/step - loss: 0.0190 - val_loss: 0.0192\n",
      "Epoch 96/100\n",
      "175/175 [==============================] - 2s 12ms/step - loss: 0.0190 - val_loss: 0.0191\n",
      "Epoch 97/100\n",
      "175/175 [==============================] - 2s 12ms/step - loss: 0.0190 - val_loss: 0.0191\n",
      "Epoch 98/100\n",
      "175/175 [==============================] - 2s 11ms/step - loss: 0.0190 - val_loss: 0.0191\n",
      "Epoch 99/100\n",
      "175/175 [==============================] - 2s 12ms/step - loss: 0.0190 - val_loss: 0.0191\n",
      "Epoch 100/100\n",
      "175/175 [==============================] - 2s 12ms/step - loss: 0.0190 - val_loss: 0.0191\n",
      "    LSTM autoencoder trained!\n",
      "699/699 [==============================] - 2s 2ms/step\n",
      "998/998 [==============================] - 3s 2ms/step\n",
      "Patient embeddings created! Shape: (31916, 100)\n",
      "    Training Gaussian Mixture Model...\n",
      "    Gaussian Mixture Model applied to embeddings! Results shape: (31916,)\n",
      "    Cluster results saved to '../data/unsupervised_clusters_36.npy'\n",
      "    Done!\n",
      "CPU times: user 4min 22s, sys: 32.8 s, total: 4min 55s\n",
      "Wall time: 4min 13s\n"
     ]
    }
   ],
   "source": [
    "%%time\n",
    "cell_execution_time = datetime.now(pytz.timezone('America/New_York')).strftime(\"%d/%m/%Y %H:%M:%S\")\n",
    "print(f'Start Cell Execution at : {cell_execution_time}')\n",
    "cohort_unsupervised_36 = discover_cohorts(cutoff_hours=36, gap_hours=18, embedding_dim=100, cohort_unsupervised_filename='../data/unsupervised_clusters_36.npy')"
   ]
  },
  {
   "cell_type": "markdown",
   "id": "48d175b6-7a5e-4a1b-9afc-67a94c9a0d6b",
   "metadata": {
    "id": "48d175b6-7a5e-4a1b-9afc-67a94c9a0d6b",
    "tags": []
   },
   "source": [
    "Let's summarize the results of the 36 hour experiments similar to what Table 3 of the paper shows."
   ]
  },
  {
   "cell_type": "code",
   "execution_count": 10,
   "id": "467dec00-4046-44dd-981b-6e6eaccc280f",
   "metadata": {
    "id": "467dec00-4046-44dd-981b-6e6eaccc280f",
    "tags": []
   },
   "outputs": [
    {
     "name": "stdout",
     "output_type": "stream",
     "text": [
      "Start Cell Execution at : 20/04/2023 09:00:49\n",
      "++++++++++++++++++++++++++++++++++++++++++++++++++++++++++++++++++++++++++++++++\n",
      "Preparing the data\n",
      "--------------------------------------------------------------------------------\n",
      "    Loading data from MIMIC-Extract pipeline...\n",
      "    Adding SAPS II score to static dataset...\n",
      "    Adding mortality columns to static dataset...\n",
      "    Discretizing X...\n",
      "        X.shape: (2200954, 33), X.subject_id.nunique(): 34472\n",
      "        X_discrete.shape: (2200954, 225), X_discrete.subject_id.nunique(): 34472\n",
      "    Keep only X_discrete[X_discrete.hours_in < 36]...\n",
      "        New X_discrete.shape: (1110984, 223), new X_discrete.subject_id.nunique(): 34472\n",
      "    Padding patients with less than 36 hours of data...\n",
      "    Merging dataframes to create X_full...\n",
      "    Mortality per careunit...\n",
      "        MICU: 986 out of 11065\n",
      "        SICU: 347 out of 5062\n",
      "        CCU: 287 out of 4725\n",
      "        CSRU: 124 out of 6932\n",
      "        TSICU: 240 out of 4132\n",
      "    Final shape of X: (31916, 36, 232)\n",
      "    Number of positive samples: 1984\n",
      "    Done!\n",
      "CPU times: user 20.6 s, sys: 8.47 s, total: 29.1 s\n",
      "Wall time: 27.1 s\n"
     ]
    }
   ],
   "source": [
    "%%time\n",
    "cell_execution_time = datetime.now(pytz.timezone('America/New_York')).strftime(\"%d/%m/%Y %H:%M:%S\")\n",
    "print(f'Start Cell Execution at : {cell_execution_time}')\n",
    "\n",
    "#----------------------------------------------------\n",
    "# Let's create the summary for the 36 hour experiment\n",
    "\n",
    "cohort_unsupervised_36 = np.load('../data/unsupervised_clusters_36.npy')\n",
    "\n",
    "from mtl_patients import prepare_data\n",
    "_, Y, _, _, subject_ids = prepare_data(cutoff_hours=36, gap_hours=18)"
   ]
  },
  {
   "cell_type": "code",
   "execution_count": 11,
   "id": "c859cfff-9c3a-4135-bf83-52a30982042e",
   "metadata": {
    "id": "c859cfff-9c3a-4135-bf83-52a30982042e",
    "tags": []
   },
   "outputs": [],
   "source": [
    "subject_ids = np.array(subject_ids.tolist())\n",
    "cohort_unsupervised_36_df = pd.DataFrame({'subject_id': subject_ids, 'Y': Y, 'Group': cohort_unsupervised_36}, dtype=int)\n",
    "\n",
    "# calculate summaries per cohort (36 hours)\n",
    "table3_a_df = cohort_unsupervised_36_df.groupby('Group').agg(\n",
    "    N=('Y', 'size'),\n",
    "    n=('Y', 'sum'),\n",
    ")\n",
    "table3_a_df.loc[:, 'Experiment'] = '36 hours'\n",
    "table3_a_df.loc[:, 'Cohort Type'] = 'Unsupervised'\n",
    "\n",
    "# calculate overall summary (36 hours)\n",
    "table3_a_overall_df = table3_a_df.groupby(['*'] * len(table3_a_df)).agg(\n",
    "    N=('N', 'sum'),\n",
    "    n=('n', 'sum'),\n",
    ")\n",
    "table3_a_overall_df.index.name = 'Group'\n",
    "table3_a_overall_df.loc[:, 'Experiment'] = '36 hours'\n",
    "table3_a_overall_df.loc[:, 'Cohort Type'] = 'Global'\n",
    "\n",
    "# merge 24 hour tables and make cosmetic changes\n",
    "table3_a_df = pd.concat([table3_a_df, table3_a_overall_df], axis=0)\n",
    "table3_a_df.reset_index(inplace=True)\n",
    "table3_a_df.set_index(['Experiment', 'Cohort Type', 'Group'], inplace=True)"
   ]
  },
  {
   "cell_type": "code",
   "execution_count": 12,
   "id": "af29a681-55f8-40db-ab68-51567aa5b1cb",
   "metadata": {
    "id": "af29a681-55f8-40db-ab68-51567aa5b1cb",
    "tags": []
   },
   "outputs": [],
   "source": [
    "#--------------------------------------------------------------------\n",
    "# assign\n",
    "table3_df = table3_a_df\n",
    "\n",
    "# calculate class imbalance\n",
    "table3_df.loc[:, 'Class Imbalance'] = table3_df.loc[:, 'n'] / table3_df.loc[:, 'N']\n",
    "table3_df.loc[:, 'Class Imbalance'] = table3_df.loc[:, 'Class Imbalance'].round(4)"
   ]
  },
  {
   "cell_type": "code",
   "execution_count": 13,
   "id": "e9fcfcf3-9d5b-42e0-be79-29ed32ab4e3d",
   "metadata": {
    "id": "e9fcfcf3-9d5b-42e0-be79-29ed32ab4e3d",
    "outputId": "ea89dd43-9445-48fa-c59a-f54ab93a455f"
   },
   "outputs": [
    {
     "data": {
      "text/html": [
       "<div>\n",
       "<style scoped>\n",
       "    .dataframe tbody tr th:only-of-type {\n",
       "        vertical-align: middle;\n",
       "    }\n",
       "\n",
       "    .dataframe tbody tr th {\n",
       "        vertical-align: top;\n",
       "    }\n",
       "\n",
       "    .dataframe thead th {\n",
       "        text-align: right;\n",
       "    }\n",
       "</style>\n",
       "<table border=\"1\" class=\"dataframe\">\n",
       "  <thead>\n",
       "    <tr style=\"text-align: right;\">\n",
       "      <th></th>\n",
       "      <th></th>\n",
       "      <th></th>\n",
       "      <th>N</th>\n",
       "      <th>n</th>\n",
       "      <th>Class Imbalance</th>\n",
       "    </tr>\n",
       "    <tr>\n",
       "      <th>Experiment</th>\n",
       "      <th>Cohort Type</th>\n",
       "      <th>Group</th>\n",
       "      <th></th>\n",
       "      <th></th>\n",
       "      <th></th>\n",
       "    </tr>\n",
       "  </thead>\n",
       "  <tbody>\n",
       "    <tr>\n",
       "      <th rowspan=\"4\" valign=\"top\">36 hours</th>\n",
       "      <th rowspan=\"3\" valign=\"top\">Unsupervised</th>\n",
       "      <th>0</th>\n",
       "      <td>6584</td>\n",
       "      <td>564</td>\n",
       "      <td>0.0857</td>\n",
       "    </tr>\n",
       "    <tr>\n",
       "      <th>1</th>\n",
       "      <td>11546</td>\n",
       "      <td>495</td>\n",
       "      <td>0.0429</td>\n",
       "    </tr>\n",
       "    <tr>\n",
       "      <th>2</th>\n",
       "      <td>13786</td>\n",
       "      <td>925</td>\n",
       "      <td>0.0671</td>\n",
       "    </tr>\n",
       "    <tr>\n",
       "      <th>Global</th>\n",
       "      <th>*</th>\n",
       "      <td>31916</td>\n",
       "      <td>1984</td>\n",
       "      <td>0.0622</td>\n",
       "    </tr>\n",
       "  </tbody>\n",
       "</table>\n",
       "</div>"
      ],
      "text/plain": [
       "                                   N     n  Class Imbalance\n",
       "Experiment Cohort Type  Group                              \n",
       "36 hours   Unsupervised 0       6584   564           0.0857\n",
       "                        1      11546   495           0.0429\n",
       "                        2      13786   925           0.0671\n",
       "           Global       *      31916  1984           0.0622"
      ]
     },
     "execution_count": 13,
     "metadata": {},
     "output_type": "execute_result"
    }
   ],
   "source": [
    "table3_df"
   ]
  },
  {
   "cell_type": "markdown",
   "id": "8b29774c-0fff-481f-8110-161bed1b65a5",
   "metadata": {
    "id": "8b29774c-0fff-481f-8110-161bed1b65a5"
   },
   "source": [
    "Table above is the equivalent to Table 3 in the paper. We can see the results are different. Data from MIMIC-Extract might be different from the data used by the authors.\n",
    "\n",
    "** TO-DO ** Comparative Analysis"
   ]
  },
  {
   "cell_type": "markdown",
   "id": "a671387b-6023-49c7-a119-8ae1021d8e08",
   "metadata": {
    "id": "a671387b-6023-49c7-a119-8ae1021d8e08"
   },
   "source": [
    "### 2.2. Visualization of selected lab test and vital signs features"
   ]
  },
  {
   "cell_type": "markdown",
   "id": "82f1077e-5513-4da4-a004-bb6e129517db",
   "metadata": {
    "id": "82f1077e-5513-4da4-a004-bb6e129517db"
   },
   "source": [
    "In this section, we will try to reproduce the results from Figure 4 (section 6.1.1) in the paper. In Figure 4, data from experiment 1 (18 hours) is used to create heatmap plots to determine if patients from different cohorts are physiologically distinct. To do that, we added the function `get_heatmap_data()` to get the mean of all z-scores by patient, by hour in the ICU, by cohort."
   ]
  },
  {
   "cell_type": "markdown",
   "id": "e901b173-79ad-48d2-bbfe-1777bf4018d3",
   "metadata": {
    "id": "e901b173-79ad-48d2-bbfe-1777bf4018d3"
   },
   "source": [
    "#### 2.2.1. Heatmap plots for experiment 1 (36 hours)"
   ]
  },
  {
   "cell_type": "markdown",
   "id": "e04fcfdf-b0a2-4b96-be22-a6161ac264c0",
   "metadata": {
    "id": "e04fcfdf-b0a2-4b96-be22-a6161ac264c0"
   },
   "source": [
    "Let's run the `get_heatmap_data()` function using the cohorts discovered in experiment 1 (36 hour cutoff period and 18 hour gap period):"
   ]
  },
  {
   "cell_type": "code",
   "execution_count": 14,
   "id": "072de563-acf3-4d8d-9cfa-28cff6c798b5",
   "metadata": {
    "id": "072de563-acf3-4d8d-9cfa-28cff6c798b5",
    "outputId": "76cae05d-5a45-4246-a0a3-eff3612c2ddd"
   },
   "outputs": [
    {
     "name": "stdout",
     "output_type": "stream",
     "text": [
      "Start Cell Execution at : 20/04/2023 09:01:16\n",
      "CPU times: user 5.95 s, sys: 2.89 s, total: 8.84 s\n",
      "Wall time: 7.84 s\n"
     ]
    }
   ],
   "source": [
    "%%time\n",
    "cell_execution_time = datetime.now(pytz.timezone('America/New_York')).strftime(\"%d/%m/%Y %H:%M:%S\")\n",
    "print(f'Start Cell Execution at : {cell_execution_time}')\n",
    "\n",
    "from mtl_patients import get_heatmap_data\n",
    "import seaborn as sns\n",
    "import matplotlib.pyplot as plt\n",
    "\n",
    "labs_df, vitals_df = get_heatmap_data(cutoff_hours=36, gap_hours=18,\n",
    "                                      cohort_unsupervised_filename='../data/unsupervised_clusters_36.npy')"
   ]
  },
  {
   "cell_type": "markdown",
   "id": "d9e156d2-30a5-4f54-9223-0a33ac593ac7",
   "metadata": {
    "id": "d9e156d2-30a5-4f54-9223-0a33ac593ac7"
   },
   "source": [
    "Let's plot the heatmaps for the selected lab tests and vitals:"
   ]
  },
  {
   "cell_type": "code",
   "execution_count": 15,
   "id": "66b3a472-9588-4bb6-b473-a19df11e1886",
   "metadata": {
    "id": "66b3a472-9588-4bb6-b473-a19df11e1886"
   },
   "outputs": [
    {
     "data": {
      "image/png": "[encoded data removed]",
      "text/plain": [
       "<Figure size 2400x1200 with 12 Axes>"
      ]
     },
     "metadata": {},
     "output_type": "display_data"
    }
   ],
   "source": [
    "num_cohorts = len(np.unique(labs_df.index.get_level_values(0)))\n",
    "fig, axs = plt.subplots(nrows=2, ncols=num_cohorts)\n",
    "fig.set_size_inches(24, 12)\n",
    "for i in np.arange(num_cohorts):\n",
    "    plot_df = labs_df.unstack(1).stack(1).query(f'cohort == {i}').droplevel(0)\n",
    "    sns.heatmap(plot_df, ax=axs[0, i], yticklabels=True if i==0 else False).set(title=f'Lab Tests – Cohort {i}')\n",
    "for i in np.arange(num_cohorts):\n",
    "    plot_df = vitals_df.unstack(1).stack(1).query(f'cohort == {i}').droplevel(0)\n",
    "    sns.heatmap(plot_df, ax=axs[1, i], yticklabels=True if i==0 else False).set(title=f'Vitals – Cohort {i}')\n",
    "plt.savefig('../img/heatmap_36')"
   ]
  },
  {
   "cell_type": "markdown",
   "id": "96c31f21-a203-44cb-b0e7-51b340e8b411",
   "metadata": {
    "id": "96c31f21-a203-44cb-b0e7-51b340e8b411"
   },
   "source": [
    "From the heatmap plots there are some trends in the physiological data that seems to show a distinction between cohorts. \n",
    "\n",
    "** TO-DO ** Comparative Analysis"
   ]
  },
  {
   "cell_type": "markdown",
   "id": "50db5427-8514-4b98-a260-ba574192e822",
   "metadata": {
    "id": "50db5427-8514-4b98-a260-ba574192e822"
   },
   "source": [
    "## 3. Predicting In-Hospital Mortality"
   ]
  },
  {
   "cell_type": "markdown",
   "id": "90e49cd5-dafc-401c-b946-2be0c4734bfb",
   "metadata": {
    "id": "90e49cd5-dafc-401c-b946-2be0c4734bfb"
   },
   "source": [
    "As mentioned in the previous section, the paper uses a two-step pipeline to: 1) identify relevant patient cohorts, and 2) use those relevant cohorts as separate tasks in a multi-lask learning framework to predict in-hospital mortality. In this section, we will focus on the second step of the pipeline, i.e., use multi-task learning to make in-hospital mortality predictions for different patient cohorts."
   ]
  },
  {
   "cell_type": "markdown",
   "id": "cd68d853-3a48-403e-8ee9-427bb876f783",
   "metadata": {
    "id": "cd68d853-3a48-403e-8ee9-427bb876f783"
   },
   "source": [
    "The second step uses as input the result from the first step which is a series of 3D matrices, one per discovered cohort, of shape $(P \\times T \\times F)$ where $P$ represents the number of patients, $T$ the number of timesteps, and $F$ the number of features. As an example, the 24 hour experiment described by the authors in the paper and reproduced in the previous section resulted in three cohorts (clusters) called group 0, group 1, and group 2 where the shapes of the corresponding 3D matrices are:\n",
    "* $14120 \\times 24 \\times 232$ for group 0,\n",
    "* $10841 \\times 24 \\times 232$ for group 1, and\n",
    "* $7752 \\times 24 \\times 232$ for group 2."
   ]
  },
  {
   "cell_type": "markdown",
   "id": "fdcbd026-c557-41b8-b7ac-f1d11e78aef3",
   "metadata": {
    "id": "fdcbd026-c557-41b8-b7ac-f1d11e78aef3"
   },
   "source": [
    "To convert these matrices into predictions, the paper proposes an LSTM for all model configurations including the baseline. In particular, the paper shows results from two specific models: a baseline model that is called *global* and using single-task learning and the multi-task learning model the authors claim as superior to the baseline."
   ]
  },
  {
   "cell_type": "markdown",
   "id": "530f9738-790c-472c-b329-bcc654eaea0a",
   "metadata": {
    "id": "530f9738-790c-472c-b329-bcc654eaea0a"
   },
   "source": [
    "A diagram of the baseline (*global*) model proposed by the authors is shown below. As it can be seen, this model consists of an LSTM layer of 16 cells using a RELU activation function followed by a *single* dense layer with a sigmoid activation function. The result of the dense (fully-connected) layer is an estimate of the probability of in-hospital mortality for a given patient. This baseline model is trained with all patient samples regardless the cohort, hence the name *global*, and used for per cohort predictions."
   ]
  },
  {
   "cell_type": "markdown",
   "id": "9b07256b-dc0b-4238-8a79-c37ddba39885",
   "metadata": {
    "id": "9b07256b-dc0b-4238-8a79-c37ddba39885"
   },
   "source": [
    "![Figure 2](../img/paper-181-fig-2.png)"
   ]
  },
  {
   "cell_type": "markdown",
   "id": "44531b75-a84e-4089-9a2a-3620becfc355",
   "metadata": {
    "id": "44531b75-a84e-4089-9a2a-3620becfc355"
   },
   "source": [
    "Moving to the second model and the one the authors claim it provides benefits against the baseline is the so called *multi-task learning model*. This model consists of an LSTM layer with same number of cells (16) as the baseline model, to ensure the comparison is fair, connected to as many dense layers as population subgroups (cohorts). Each of these cohorts is considered a *task* and authors propose training these models on multiple tasks simultaneously in contrast to the baseline model with just one dense layer. The benefit of this approach according to the authors is the ability to share knowledge learned from one task (cohort) to rest of tasks under the assumption that the subpopulations used are distinct enough with relation to the outcome learned (mortality) that such shared knowledge truly exists. A representation of the multi-task learning model is shown below:"
   ]
  },
  {
   "cell_type": "markdown",
   "id": "bfb8a713-3999-400d-880d-1c98a8738ab8",
   "metadata": {
    "id": "bfb8a713-3999-400d-880d-1c98a8738ab8"
   },
   "source": [
    "![Figure 3](../img/paper-181-fig-3.png)"
   ]
  },
  {
   "cell_type": "markdown",
   "id": "5c776d05-12aa-4b18-ac87-468f91d79ee1",
   "metadata": {
    "id": "5c776d05-12aa-4b18-ac87-468f91d79ee1"
   },
   "source": [
    "For benchmarking purposes of the entire pipeline, the authors compared the results from running the pipeline using unsupervised cohort discovery (step one) against cohorts created using the first careunit the patient went into which can be considered an engineered feature. We will show those results in the next subsections.\n",
    "\n",
    "The overall performance of this model is measured using both macro and micro metrics (section 4.3 in the paper) where:\n",
    "* In *micro* metrics all predicted probabilities for all patients are treated as if they come from a single classifier: $\\text{Metric}_\\text{Micro} = \\text{Metric}([\\hat{y}_0, ..., \\hat{y}_k], [y_0, ..., y_K])$.\n",
    "* In *macro* metrics probabilities are evaluated on a *per cohort* basis, and then averaged: $\\text{Metric}_\\text{Macro} = \\dfrac{1}{K} \\displaystyle\\sum_{k=0}^K \\text{Metric}(\\hat{y}_K, y_K)$.\n",
    "\n",
    "Paper suggests that, although micro metrics are the ones typically chosen in the literature, evaluating performance on different subpopulations will benefit from macro metrics instead of micro metrics specially when there is class imbalance in every cohort. All results show macro and micro versions of the metrics for the aggregate performance of the models.\n",
    "\n",
    "All results being used for comparison between models by the paper will use three metrics:\n",
    "* AUC (Area Under the ROC Curve) for every cohort and, for the aggregate performance, macro and micro.\n",
    "* PPV (Positive Predictive Value which is same as Precision) for every cohort and, for the aggregate performance, macro and micro. This PPV is calculated at a sensitivity of 80%, a value selected by the paper authors.\n",
    "* Specificity for every cohort and, for the aggregate performance, macro and micro. This specificity is calculated at a sensitivity of 80%, a value selected by the paper authors."
   ]
  },
  {
   "cell_type": "markdown",
   "id": "ec025760-eb01-4aab-8180-304ae4599a38",
   "metadata": {
    "id": "ec025760-eb01-4aab-8180-304ae4599a38"
   },
   "source": [
    "All in-hospital mortality prediction tasks are implemented using the function `run_mortality_prediction_task()`. This function will call other functions to prepare the data, split the data in training/validation/test data sets, train the corresponding model, predict using the resulting model, and calculate the metrics of the model."
   ]
  },
  {
   "cell_type": "markdown",
   "id": "d78d4117-f1f1-4d75-aead-36a9c740e9ae",
   "metadata": {
    "id": "d78d4117-f1f1-4d75-aead-36a9c740e9ae"
   },
   "source": [
    "### 3.1. Predictions with Bootstrapping"
   ]
  },
  {
   "cell_type": "markdown",
   "id": "da524a9c-1d6f-4d2d-b37d-2e0ef4c369b3",
   "metadata": {
    "id": "da524a9c-1d6f-4d2d-b37d-2e0ef4c369b3"
   },
   "source": [
    "In this section all in-hospital mortality predictions across the two models, global and multi-task learning, and for 36 hours experiment, are calculated for the three metrics; AUC, PPV (precision) @80% sensitivity, and Specificity @80% sensitivity; using 100 bootstrapped samples of the test set (20% of the original dataset). The results will be metrics (AUC, PPV, and Specificity) for each bootstrapped sample. This will allow the comparison between the global model and the multi-task learning model using the Wilcoxon signed-rank test as indicated in the paper."
   ]
  },
  {
   "cell_type": "markdown",
   "id": "28906d07-2252-4ee3-b4c0-536add086263",
   "metadata": {
    "id": "28906d07-2252-4ee3-b4c0-536add086263"
   },
   "source": [
    "#### 3.1.1. In-Hospital Mortality Prediction – Baseline (*Global*) Model at 36 Hours"
   ]
  },
  {
   "cell_type": "markdown",
   "id": "d52a1bcc-c348-4d61-9ecf-0ee3ab219132",
   "metadata": {
    "id": "d52a1bcc-c348-4d61-9ecf-0ee3ab219132"
   },
   "source": [
    "Let's first run the mortality prediction task using the *global* model (baseline) in the 36 hour experiment setting. In this experiment, the cutoff period is 36 hours and the gap period is 18 hours, meaning model can only feed from patient data collected during the first 36 hours of the ICU stay, and predict mortality 54 hours after patient goes into the ICU to avoid label leakage. Since we are enabling bootstrapping, we will repeat same experiment with 100 bootstrapped samples from the test dataset. In terms of the cohort type, let's go with careunits first:"
   ]
  },
  {
   "cell_type": "code",
   "execution_count": 5,
   "id": "7eacb099-b8b7-46c2-9d5b-b7bb024edf02",
   "metadata": {
    "id": "7eacb099-b8b7-46c2-9d5b-b7bb024edf02",
    "tags": []
   },
   "outputs": [
    {
     "name": "stdout",
     "output_type": "stream",
     "text": [
      "Start Cell Execution at : 21/04/2023 12:41:24\n",
      "++++++++++++++++++++++++++++++++++++++++++++++++++++++++++++++++++++++++++++++++\n",
      "Preparing the data\n",
      "--------------------------------------------------------------------------------\n",
      "    Loading data from MIMIC-Extract pipeline...\n",
      "    Adding SAPS II score to static dataset...\n",
      "    Adding mortality columns to static dataset...\n",
      "    Discretizing X...\n",
      "        X.shape: (2200954, 33), X.subject_id.nunique(): 34472\n",
      "        X_discrete.shape: (2200954, 225), X_discrete.subject_id.nunique(): 34472\n",
      "    Keep only X_discrete[X_discrete.hours_in < 36]...\n",
      "        New X_discrete.shape: (1110984, 223), new X_discrete.subject_id.nunique(): 34472\n",
      "    Padding patients with less than 36 hours of data...\n",
      "    Merging dataframes to create X_full...\n",
      "    Mortality per careunit...\n",
      "        MICU: 986 out of 11065\n",
      "        SICU: 347 out of 5062\n",
      "        CCU: 287 out of 4725\n",
      "        CSRU: 124 out of 6932\n",
      "        TSICU: 240 out of 4132\n",
      "    Final shape of X: (31916, 36, 232)\n",
      "    Number of positive samples: 1984\n",
      "    Done!\n",
      "++++++++++++++++++++++++++++++++++++++++++++++++++++++++++++++++++++++++++++++++\n",
      "Running the Mortality Prediction Task\n",
      "--------------------------------------------------------------------------------\n",
      "    Splitting data into train/validation/test sets...\n",
      "    Calculating number of training samples in cohort...\n",
      "        # of patients in cohort CCU is 3278\n",
      "        # of patients in cohort CSRU is 4901\n",
      "        # of patients in cohort MICU is 7744\n",
      "        # of patients in cohort SICU is 3542\n",
      "        # of patients in cohort TSICU is 2875\n",
      "    ~~~~~~~~~~~~~~~~~~~~~~~~~~~~~~~~~~~~~~~~~~~~~~~~~~~~~~~~~~~~~~~~~~~~~~~~~~~~\n",
      "    Training 'global' model...\n",
      "Model: \"single_task_learning_model\"\n",
      "_________________________________________________________________\n",
      " Layer (type)                Output Shape              Param #   \n",
      "=================================================================\n",
      " lstm (LSTM)                 (None, 16)                15936     \n",
      "                                                                 \n",
      " dense (Dense)               (None, 1)                 17        \n",
      "                                                                 \n",
      "=================================================================\n",
      "Total params: 15,953\n",
      "Trainable params: 15,953\n",
      "Non-trainable params: 0\n",
      "_________________________________________________________________\n",
      "None\n"
     ]
    },
    {
     "name": "stderr",
     "output_type": "stream",
     "text": [
      "2023-04-21 12:41:53.594620: I tensorflow/core/platform/cpu_feature_guard.cc:193] This TensorFlow binary is optimized with oneAPI Deep Neural Network Library (oneDNN) to use the following CPU instructions in performance-critical operations:  SSE4.1 SSE4.2\n",
      "To enable them in other operations, rebuild TensorFlow with the appropriate compiler flags.\n"
     ]
    },
    {
     "name": "stdout",
     "output_type": "stream",
     "text": [
      "Epoch 1/30\n",
      "224/224 [==============================] - 5s 17ms/step - loss: 0.4232 - accuracy: 0.9310 - val_loss: 0.3008 - val_accuracy: 0.9380\n",
      "Epoch 2/30\n",
      "224/224 [==============================] - 4s 17ms/step - loss: 0.2626 - accuracy: 0.9378 - val_loss: 0.2388 - val_accuracy: 0.9380\n",
      "Epoch 3/30\n",
      "224/224 [==============================] - 4s 16ms/step - loss: 0.2246 - accuracy: 0.9378 - val_loss: 0.2213 - val_accuracy: 0.9380\n",
      "Epoch 4/30\n",
      "224/224 [==============================] - 4s 16ms/step - loss: 0.2086 - accuracy: 0.9378 - val_loss: 0.2088 - val_accuracy: 0.9380\n",
      "Epoch 5/30\n",
      "224/224 [==============================] - 4s 16ms/step - loss: 0.1979 - accuracy: 0.9378 - val_loss: 0.2005 - val_accuracy: 0.9380\n",
      "Epoch 6/30\n",
      "224/224 [==============================] - 4s 16ms/step - loss: 0.1906 - accuracy: 0.9378 - val_loss: 0.1937 - val_accuracy: 0.9380\n",
      "Epoch 7/30\n",
      "224/224 [==============================] - 4s 16ms/step - loss: 0.1858 - accuracy: 0.9378 - val_loss: 0.1899 - val_accuracy: 0.9380\n",
      "Epoch 8/30\n",
      "224/224 [==============================] - 4s 17ms/step - loss: 0.1819 - accuracy: 0.9379 - val_loss: 0.1864 - val_accuracy: 0.9377\n",
      "Epoch 9/30\n",
      "224/224 [==============================] - 4s 16ms/step - loss: 0.1787 - accuracy: 0.9381 - val_loss: 0.1837 - val_accuracy: 0.9377\n",
      "Epoch 10/30\n",
      "224/224 [==============================] - 4s 16ms/step - loss: 0.1763 - accuracy: 0.9381 - val_loss: 0.1817 - val_accuracy: 0.9377\n",
      "Epoch 11/30\n",
      "224/224 [==============================] - 4s 16ms/step - loss: 0.1743 - accuracy: 0.9383 - val_loss: 0.1795 - val_accuracy: 0.9377\n",
      "Epoch 12/30\n",
      "224/224 [==============================] - 4s 16ms/step - loss: 0.1720 - accuracy: 0.9387 - val_loss: 0.1781 - val_accuracy: 0.9386\n",
      "Epoch 13/30\n",
      "224/224 [==============================] - 4s 16ms/step - loss: 0.1703 - accuracy: 0.9392 - val_loss: 0.1769 - val_accuracy: 0.9389\n",
      "Epoch 14/30\n",
      "224/224 [==============================] - 4s 16ms/step - loss: 0.1685 - accuracy: 0.9399 - val_loss: 0.1751 - val_accuracy: 0.9389\n",
      "Epoch 15/30\n",
      "224/224 [==============================] - 4s 16ms/step - loss: 0.1667 - accuracy: 0.9407 - val_loss: 0.1735 - val_accuracy: 0.9392\n",
      "Epoch 16/30\n",
      "224/224 [==============================] - 4s 16ms/step - loss: 0.1649 - accuracy: 0.9412 - val_loss: 0.1725 - val_accuracy: 0.9398\n",
      "Epoch 17/30\n",
      "224/224 [==============================] - 4s 16ms/step - loss: 0.1636 - accuracy: 0.9415 - val_loss: 0.1739 - val_accuracy: 0.9402\n",
      "Epoch 18/30\n",
      "224/224 [==============================] - 4s 16ms/step - loss: 0.1628 - accuracy: 0.9417 - val_loss: 0.1708 - val_accuracy: 0.9417\n",
      "Epoch 19/30\n",
      "224/224 [==============================] - 4s 16ms/step - loss: 0.1613 - accuracy: 0.9427 - val_loss: 0.1704 - val_accuracy: 0.9420\n",
      "Epoch 20/30\n",
      "224/224 [==============================] - 4s 16ms/step - loss: 0.1599 - accuracy: 0.9432 - val_loss: 0.1709 - val_accuracy: 0.9420\n",
      "Epoch 21/30\n",
      "224/224 [==============================] - 4s 16ms/step - loss: 0.1592 - accuracy: 0.9432 - val_loss: 0.1699 - val_accuracy: 0.9436\n",
      "Epoch 22/30\n",
      "224/224 [==============================] - 4s 16ms/step - loss: 0.1580 - accuracy: 0.9436 - val_loss: 0.1707 - val_accuracy: 0.9424\n",
      "Epoch 23/30\n",
      "224/224 [==============================] - 4s 16ms/step - loss: 0.1574 - accuracy: 0.9440 - val_loss: 0.1694 - val_accuracy: 0.9427\n",
      "Epoch 24/30\n",
      "224/224 [==============================] - 4s 16ms/step - loss: 0.1568 - accuracy: 0.9442 - val_loss: 0.1742 - val_accuracy: 0.9424\n",
      "Epoch 25/30\n",
      "224/224 [==============================] - 4s 16ms/step - loss: 0.1558 - accuracy: 0.9445 - val_loss: 0.1695 - val_accuracy: 0.9424\n",
      "Epoch 26/30\n",
      "224/224 [==============================] - 4s 16ms/step - loss: 0.1545 - accuracy: 0.9447 - val_loss: 0.1694 - val_accuracy: 0.9433\n",
      "Epoch 27/30\n",
      "224/224 [==============================] - 4s 16ms/step - loss: 0.1539 - accuracy: 0.9447 - val_loss: 0.1684 - val_accuracy: 0.9433\n",
      "Epoch 28/30\n",
      "224/224 [==============================] - 4s 16ms/step - loss: 0.1532 - accuracy: 0.9446 - val_loss: 0.1696 - val_accuracy: 0.9433\n",
      "Epoch 29/30\n",
      "224/224 [==============================] - 4s 16ms/step - loss: 0.1524 - accuracy: 0.9451 - val_loss: 0.1683 - val_accuracy: 0.9430\n",
      "Epoch 30/30\n",
      "224/224 [==============================] - 4s 16ms/step - loss: 0.1514 - accuracy: 0.9452 - val_loss: 0.1683 - val_accuracy: 0.9427\n",
      "INFO:tensorflow:Assets written to: ../data/models/model_global_36+18_careunits/assets\n",
      "    ~~~~~~~~~~~~~~~~~~~~~~~~~~~~~~~~~~~~~~~~~~~~~~~~~~~~~~~~~~~~~~~~~~~~~~~~~~~~\n",
      "    Predicting using 'global' model...\n",
      "200/200 [==============================] - 1s 3ms/step\n",
      "    Bootstrap prediction for task \"CCU\"...\n"
     ]
    },
    {
     "data": {
      "application/vnd.jupyter.widget-view+json": {
       "model_id": "a9513c18b11641cba558f6250a2ba490",
       "version_major": 2,
       "version_minor": 0
      },
      "text/plain": [
       "  0%|          | 0/100 [00:00<?, ?it/s]"
      ]
     },
     "metadata": {},
     "output_type": "display_data"
    },
    {
     "name": "stdout",
     "output_type": "stream",
     "text": [
      "    Bootstrap prediction for task \"CSRU\"...\n"
     ]
    },
    {
     "data": {
      "application/vnd.jupyter.widget-view+json": {
       "model_id": "20f39fa6dcaa43a8a2ad8761ebb13833",
       "version_major": 2,
       "version_minor": 0
      },
      "text/plain": [
       "  0%|          | 0/100 [00:00<?, ?it/s]"
      ]
     },
     "metadata": {},
     "output_type": "display_data"
    },
    {
     "name": "stdout",
     "output_type": "stream",
     "text": [
      "    Bootstrap prediction for task \"MICU\"...\n"
     ]
    },
    {
     "data": {
      "application/vnd.jupyter.widget-view+json": {
       "model_id": "7e6e3a1db5e44f99b7af486ca9d8e125",
       "version_major": 2,
       "version_minor": 0
      },
      "text/plain": [
       "  0%|          | 0/100 [00:00<?, ?it/s]"
      ]
     },
     "metadata": {},
     "output_type": "display_data"
    },
    {
     "name": "stdout",
     "output_type": "stream",
     "text": [
      "    Bootstrap prediction for task \"SICU\"...\n"
     ]
    },
    {
     "data": {
      "application/vnd.jupyter.widget-view+json": {
       "model_id": "367baa53c1b141cbba7e2b2f1bf18cf1",
       "version_major": 2,
       "version_minor": 0
      },
      "text/plain": [
       "  0%|          | 0/100 [00:00<?, ?it/s]"
      ]
     },
     "metadata": {},
     "output_type": "display_data"
    },
    {
     "name": "stdout",
     "output_type": "stream",
     "text": [
      "    Bootstrap prediction for task \"TSICU\"...\n"
     ]
    },
    {
     "data": {
      "application/vnd.jupyter.widget-view+json": {
       "model_id": "7ad5eae1416249a0b29737509e6ab112",
       "version_major": 2,
       "version_minor": 0
      },
      "text/plain": [
       "  0%|          | 0/100 [00:00<?, ?it/s]"
      ]
     },
     "metadata": {},
     "output_type": "display_data"
    },
    {
     "name": "stdout",
     "output_type": "stream",
     "text": [
      "    Bootstrap prediction for task \"all\"...\n"
     ]
    },
    {
     "data": {
      "application/vnd.jupyter.widget-view+json": {
       "model_id": "0feb3671df464b7c9e88a98dd06f2559",
       "version_major": 2,
       "version_minor": 0
      },
      "text/plain": [
       "  0%|          | 0/100 [00:00<?, ?it/s]"
      ]
     },
     "metadata": {},
     "output_type": "display_data"
    },
    {
     "name": "stdout",
     "output_type": "stream",
     "text": [
      "    Done!\n",
      "CPU times: user 4min 53s, sys: 18.2 s, total: 5min 11s\n",
      "Wall time: 5min 2s\n"
     ]
    }
   ],
   "source": [
    "%%time\n",
    "cell_execution_time = datetime.now(pytz.timezone('America/New_York')).strftime(\"%d/%m/%Y %H:%M:%S\")\n",
    "print(f'Start Cell Execution at : {cell_execution_time}')\n",
    "\n",
    "from mtl_patients import run_mortality_prediction_task\n",
    "\n",
    "metrics_global_36_careunits_btstrp_df = run_mortality_prediction_task(model_type='global', cutoff_hours=36, gap_hours=18, cohort_criteria_to_select='careunits', bootstrap=True)"
   ]
  },
  {
   "cell_type": "code",
   "execution_count": 6,
   "id": "f519ff41-0303-4a3f-9ad1-2fd486509878",
   "metadata": {
    "id": "f519ff41-0303-4a3f-9ad1-2fd486509878",
    "tags": []
   },
   "outputs": [
    {
     "data": {
      "text/html": [
       "<div>\n",
       "<style scoped>\n",
       "    .dataframe tbody tr th:only-of-type {\n",
       "        vertical-align: middle;\n",
       "    }\n",
       "\n",
       "    .dataframe tbody tr th {\n",
       "        vertical-align: top;\n",
       "    }\n",
       "\n",
       "    .dataframe thead th {\n",
       "        text-align: right;\n",
       "    }\n",
       "</style>\n",
       "<table border=\"1\" class=\"dataframe\">\n",
       "  <thead>\n",
       "    <tr style=\"text-align: right;\">\n",
       "      <th></th>\n",
       "      <th></th>\n",
       "      <th>AUC</th>\n",
       "      <th>PPV</th>\n",
       "      <th>Specificity</th>\n",
       "    </tr>\n",
       "    <tr>\n",
       "      <th>Cohort</th>\n",
       "      <th>Sample</th>\n",
       "      <th></th>\n",
       "      <th></th>\n",
       "      <th></th>\n",
       "    </tr>\n",
       "  </thead>\n",
       "  <tbody>\n",
       "    <tr>\n",
       "      <th rowspan=\"5\" valign=\"top\">CCU</th>\n",
       "      <th>1</th>\n",
       "      <td>0.874</td>\n",
       "      <td>0.260</td>\n",
       "      <td>0.882</td>\n",
       "    </tr>\n",
       "    <tr>\n",
       "      <th>2</th>\n",
       "      <td>0.880</td>\n",
       "      <td>0.209</td>\n",
       "      <td>0.866</td>\n",
       "    </tr>\n",
       "    <tr>\n",
       "      <th>3</th>\n",
       "      <td>0.920</td>\n",
       "      <td>0.345</td>\n",
       "      <td>0.913</td>\n",
       "    </tr>\n",
       "    <tr>\n",
       "      <th>4</th>\n",
       "      <td>0.824</td>\n",
       "      <td>0.092</td>\n",
       "      <td>0.632</td>\n",
       "    </tr>\n",
       "    <tr>\n",
       "      <th>5</th>\n",
       "      <td>0.892</td>\n",
       "      <td>0.283</td>\n",
       "      <td>0.888</td>\n",
       "    </tr>\n",
       "    <tr>\n",
       "      <th>...</th>\n",
       "      <th>...</th>\n",
       "      <td>...</td>\n",
       "      <td>...</td>\n",
       "      <td>...</td>\n",
       "    </tr>\n",
       "    <tr>\n",
       "      <th rowspan=\"5\" valign=\"top\">Macro</th>\n",
       "      <th>96</th>\n",
       "      <td>0.859</td>\n",
       "      <td>0.200</td>\n",
       "      <td>0.774</td>\n",
       "    </tr>\n",
       "    <tr>\n",
       "      <th>97</th>\n",
       "      <td>0.874</td>\n",
       "      <td>0.193</td>\n",
       "      <td>0.795</td>\n",
       "    </tr>\n",
       "    <tr>\n",
       "      <th>98</th>\n",
       "      <td>0.858</td>\n",
       "      <td>0.188</td>\n",
       "      <td>0.761</td>\n",
       "    </tr>\n",
       "    <tr>\n",
       "      <th>99</th>\n",
       "      <td>0.877</td>\n",
       "      <td>0.209</td>\n",
       "      <td>0.793</td>\n",
       "    </tr>\n",
       "    <tr>\n",
       "      <th>100</th>\n",
       "      <td>0.892</td>\n",
       "      <td>0.255</td>\n",
       "      <td>0.835</td>\n",
       "    </tr>\n",
       "  </tbody>\n",
       "</table>\n",
       "<p>700 rows × 3 columns</p>\n",
       "</div>"
      ],
      "text/plain": [
       "                 AUC    PPV  Specificity\n",
       "Cohort Sample                           \n",
       "CCU    1       0.874  0.260        0.882\n",
       "       2       0.880  0.209        0.866\n",
       "       3       0.920  0.345        0.913\n",
       "       4       0.824  0.092        0.632\n",
       "       5       0.892  0.283        0.888\n",
       "...              ...    ...          ...\n",
       "Macro  96      0.859  0.200        0.774\n",
       "       97      0.874  0.193        0.795\n",
       "       98      0.858  0.188        0.761\n",
       "       99      0.877  0.209        0.793\n",
       "       100     0.892  0.255        0.835\n",
       "\n",
       "[700 rows x 3 columns]"
      ]
     },
     "execution_count": 6,
     "metadata": {},
     "output_type": "execute_result"
    }
   ],
   "source": [
    "pd.options.display.max_rows = 20\n",
    "metrics_global_36_careunits_btstrp_df.round(3)"
   ]
  },
  {
   "cell_type": "markdown",
   "id": "b2d00a05-ff33-4b9b-bc34-3b6070b65a9f",
   "metadata": {
    "id": "b2d00a05-ff33-4b9b-bc34-3b6070b65a9f"
   },
   "source": [
    "Now, let's repeat the prediction task but this time using the groups fetched in an unsupervised way from step 1 proposed by the authors in the paper:"
   ]
  },
  {
   "cell_type": "code",
   "execution_count": 7,
   "id": "789dbf10-6372-4855-980a-c4bd0a90c4cb",
   "metadata": {
    "id": "789dbf10-6372-4855-980a-c4bd0a90c4cb",
    "tags": []
   },
   "outputs": [
    {
     "name": "stdout",
     "output_type": "stream",
     "text": [
      "Start Cell Execution at : 21/04/2023 12:46:27\n",
      "++++++++++++++++++++++++++++++++++++++++++++++++++++++++++++++++++++++++++++++++\n",
      "Preparing the data\n",
      "--------------------------------------------------------------------------------\n",
      "    Loading data from MIMIC-Extract pipeline...\n",
      "    Adding SAPS II score to static dataset...\n",
      "    Adding mortality columns to static dataset...\n",
      "    Discretizing X...\n",
      "        X.shape: (2200954, 33), X.subject_id.nunique(): 34472\n",
      "        X_discrete.shape: (2200954, 225), X_discrete.subject_id.nunique(): 34472\n",
      "    Keep only X_discrete[X_discrete.hours_in < 36]...\n",
      "        New X_discrete.shape: (1110984, 223), new X_discrete.subject_id.nunique(): 34472\n",
      "    Padding patients with less than 36 hours of data...\n",
      "    Merging dataframes to create X_full...\n",
      "    Mortality per careunit...\n",
      "        MICU: 986 out of 11065\n",
      "        SICU: 347 out of 5062\n",
      "        CCU: 287 out of 4725\n",
      "        CSRU: 124 out of 6932\n",
      "        TSICU: 240 out of 4132\n",
      "    Final shape of X: (31916, 36, 232)\n",
      "    Number of positive samples: 1984\n",
      "    Done!\n",
      "++++++++++++++++++++++++++++++++++++++++++++++++++++++++++++++++++++++++++++++++\n",
      "Running the Mortality Prediction Task\n",
      "--------------------------------------------------------------------------------\n",
      "    Splitting data into train/validation/test sets...\n",
      "    Calculating number of training samples in cohort...\n",
      "        # of patients in cohort 0 is 4614\n",
      "        # of patients in cohort 1 is 8102\n",
      "        # of patients in cohort 2 is 9624\n",
      "    ~~~~~~~~~~~~~~~~~~~~~~~~~~~~~~~~~~~~~~~~~~~~~~~~~~~~~~~~~~~~~~~~~~~~~~~~~~~~\n",
      "    Training 'global' model...\n",
      "Model: \"single_task_learning_model\"\n",
      "_________________________________________________________________\n",
      " Layer (type)                Output Shape              Param #   \n",
      "=================================================================\n",
      " lstm (LSTM)                 (None, 16)                15936     \n",
      "                                                                 \n",
      " dense (Dense)               (None, 1)                 17        \n",
      "                                                                 \n",
      "=================================================================\n",
      "Total params: 15,953\n",
      "Trainable params: 15,953\n",
      "Non-trainable params: 0\n",
      "_________________________________________________________________\n",
      "None\n",
      "Epoch 1/30\n",
      "224/224 [==============================] - 5s 18ms/step - loss: 0.4232 - accuracy: 0.9310 - val_loss: 0.3008 - val_accuracy: 0.9380\n",
      "Epoch 2/30\n",
      "224/224 [==============================] - 4s 16ms/step - loss: 0.2626 - accuracy: 0.9378 - val_loss: 0.2388 - val_accuracy: 0.9380\n",
      "Epoch 3/30\n",
      "224/224 [==============================] - 4s 16ms/step - loss: 0.2246 - accuracy: 0.9378 - val_loss: 0.2213 - val_accuracy: 0.9380\n",
      "Epoch 4/30\n",
      "224/224 [==============================] - 4s 16ms/step - loss: 0.2086 - accuracy: 0.9378 - val_loss: 0.2088 - val_accuracy: 0.9380\n",
      "Epoch 5/30\n",
      "224/224 [==============================] - 4s 16ms/step - loss: 0.1979 - accuracy: 0.9378 - val_loss: 0.2005 - val_accuracy: 0.9380\n",
      "Epoch 6/30\n",
      "224/224 [==============================] - 4s 17ms/step - loss: 0.1906 - accuracy: 0.9378 - val_loss: 0.1937 - val_accuracy: 0.9380\n",
      "Epoch 7/30\n",
      "224/224 [==============================] - 4s 16ms/step - loss: 0.1858 - accuracy: 0.9378 - val_loss: 0.1899 - val_accuracy: 0.9380\n",
      "Epoch 8/30\n",
      "224/224 [==============================] - 4s 16ms/step - loss: 0.1819 - accuracy: 0.9379 - val_loss: 0.1864 - val_accuracy: 0.9377\n",
      "Epoch 9/30\n",
      "224/224 [==============================] - 4s 16ms/step - loss: 0.1787 - accuracy: 0.9381 - val_loss: 0.1837 - val_accuracy: 0.9377\n",
      "Epoch 10/30\n",
      "224/224 [==============================] - 4s 17ms/step - loss: 0.1763 - accuracy: 0.9381 - val_loss: 0.1817 - val_accuracy: 0.9377\n",
      "Epoch 11/30\n",
      "224/224 [==============================] - 4s 16ms/step - loss: 0.1743 - accuracy: 0.9383 - val_loss: 0.1795 - val_accuracy: 0.9377\n",
      "Epoch 12/30\n",
      "224/224 [==============================] - 4s 16ms/step - loss: 0.1720 - accuracy: 0.9387 - val_loss: 0.1781 - val_accuracy: 0.9386\n",
      "Epoch 13/30\n",
      "224/224 [==============================] - 4s 16ms/step - loss: 0.1703 - accuracy: 0.9392 - val_loss: 0.1769 - val_accuracy: 0.9389\n",
      "Epoch 14/30\n",
      "224/224 [==============================] - 4s 16ms/step - loss: 0.1685 - accuracy: 0.9399 - val_loss: 0.1751 - val_accuracy: 0.9389\n",
      "Epoch 15/30\n",
      "224/224 [==============================] - 4s 16ms/step - loss: 0.1667 - accuracy: 0.9407 - val_loss: 0.1735 - val_accuracy: 0.9392\n",
      "Epoch 16/30\n",
      "224/224 [==============================] - 4s 16ms/step - loss: 0.1649 - accuracy: 0.9412 - val_loss: 0.1725 - val_accuracy: 0.9398\n",
      "Epoch 17/30\n",
      "224/224 [==============================] - 4s 16ms/step - loss: 0.1636 - accuracy: 0.9415 - val_loss: 0.1739 - val_accuracy: 0.9402\n",
      "Epoch 18/30\n",
      "224/224 [==============================] - 4s 16ms/step - loss: 0.1628 - accuracy: 0.9417 - val_loss: 0.1708 - val_accuracy: 0.9417\n",
      "Epoch 19/30\n",
      "224/224 [==============================] - 4s 16ms/step - loss: 0.1613 - accuracy: 0.9427 - val_loss: 0.1704 - val_accuracy: 0.9420\n",
      "Epoch 20/30\n",
      "224/224 [==============================] - 4s 16ms/step - loss: 0.1599 - accuracy: 0.9432 - val_loss: 0.1709 - val_accuracy: 0.9420\n",
      "Epoch 21/30\n",
      "224/224 [==============================] - 4s 16ms/step - loss: 0.1592 - accuracy: 0.9432 - val_loss: 0.1699 - val_accuracy: 0.9436\n",
      "Epoch 22/30\n",
      "224/224 [==============================] - 4s 16ms/step - loss: 0.1580 - accuracy: 0.9436 - val_loss: 0.1707 - val_accuracy: 0.9424\n",
      "Epoch 23/30\n",
      "224/224 [==============================] - 4s 16ms/step - loss: 0.1574 - accuracy: 0.9440 - val_loss: 0.1694 - val_accuracy: 0.9427\n",
      "Epoch 24/30\n",
      "224/224 [==============================] - 4s 16ms/step - loss: 0.1568 - accuracy: 0.9442 - val_loss: 0.1742 - val_accuracy: 0.9424\n",
      "Epoch 25/30\n",
      "224/224 [==============================] - 4s 16ms/step - loss: 0.1558 - accuracy: 0.9445 - val_loss: 0.1695 - val_accuracy: 0.9424\n",
      "Epoch 26/30\n",
      "224/224 [==============================] - 4s 16ms/step - loss: 0.1545 - accuracy: 0.9447 - val_loss: 0.1694 - val_accuracy: 0.9433\n",
      "Epoch 27/30\n",
      "224/224 [==============================] - 4s 16ms/step - loss: 0.1539 - accuracy: 0.9447 - val_loss: 0.1684 - val_accuracy: 0.9433\n",
      "Epoch 28/30\n",
      "224/224 [==============================] - 4s 16ms/step - loss: 0.1532 - accuracy: 0.9446 - val_loss: 0.1696 - val_accuracy: 0.9433\n",
      "Epoch 29/30\n",
      "224/224 [==============================] - 4s 16ms/step - loss: 0.1524 - accuracy: 0.9451 - val_loss: 0.1683 - val_accuracy: 0.9430\n",
      "Epoch 30/30\n",
      "224/224 [==============================] - 4s 16ms/step - loss: 0.1514 - accuracy: 0.9452 - val_loss: 0.1683 - val_accuracy: 0.9427\n",
      "INFO:tensorflow:Assets written to: ../data/models/model_global_36+18_unsupervised/assets\n",
      "    ~~~~~~~~~~~~~~~~~~~~~~~~~~~~~~~~~~~~~~~~~~~~~~~~~~~~~~~~~~~~~~~~~~~~~~~~~~~~\n",
      "    Predicting using 'global' model...\n",
      "200/200 [==============================] - 1s 3ms/step\n",
      "    Bootstrap prediction for task \"0\"...\n"
     ]
    },
    {
     "data": {
      "application/vnd.jupyter.widget-view+json": {
       "model_id": "158bab1fe493490c8f0972453948fee5",
       "version_major": 2,
       "version_minor": 0
      },
      "text/plain": [
       "  0%|          | 0/100 [00:00<?, ?it/s]"
      ]
     },
     "metadata": {},
     "output_type": "display_data"
    },
    {
     "name": "stdout",
     "output_type": "stream",
     "text": [
      "    Bootstrap prediction for task \"1\"...\n"
     ]
    },
    {
     "data": {
      "application/vnd.jupyter.widget-view+json": {
       "model_id": "7a5bbc2df8624886b7359277c2ec9dcf",
       "version_major": 2,
       "version_minor": 0
      },
      "text/plain": [
       "  0%|          | 0/100 [00:00<?, ?it/s]"
      ]
     },
     "metadata": {},
     "output_type": "display_data"
    },
    {
     "name": "stdout",
     "output_type": "stream",
     "text": [
      "    Bootstrap prediction for task \"2\"...\n"
     ]
    },
    {
     "data": {
      "application/vnd.jupyter.widget-view+json": {
       "model_id": "af70771b44e5474491cef127694067ad",
       "version_major": 2,
       "version_minor": 0
      },
      "text/plain": [
       "  0%|          | 0/100 [00:00<?, ?it/s]"
      ]
     },
     "metadata": {},
     "output_type": "display_data"
    },
    {
     "name": "stdout",
     "output_type": "stream",
     "text": [
      "    Bootstrap prediction for task \"all\"...\n"
     ]
    },
    {
     "data": {
      "application/vnd.jupyter.widget-view+json": {
       "model_id": "008c6647c11c4d00b1c6daed340a8cfe",
       "version_major": 2,
       "version_minor": 0
      },
      "text/plain": [
       "  0%|          | 0/100 [00:00<?, ?it/s]"
      ]
     },
     "metadata": {},
     "output_type": "display_data"
    },
    {
     "name": "stdout",
     "output_type": "stream",
     "text": [
      "    Done!\n",
      "CPU times: user 4min 34s, sys: 17.3 s, total: 4min 51s\n",
      "Wall time: 4min 44s\n"
     ]
    }
   ],
   "source": [
    "%%time\n",
    "cell_execution_time = datetime.now(pytz.timezone('America/New_York')).strftime(\"%d/%m/%Y %H:%M:%S\")\n",
    "print(f'Start Cell Execution at : {cell_execution_time}')\n",
    "metrics_global_36_unsupervised_btstrp_df = run_mortality_prediction_task(model_type='global', cutoff_hours=36, gap_hours=18, bootstrap=True,\n",
    "                                                                         cohort_criteria_to_select='unsupervised', cohort_unsupervised_filename='../data/unsupervised_clusters_36.npy')"
   ]
  },
  {
   "cell_type": "code",
   "execution_count": 8,
   "id": "bcdbd97a-6b01-472b-9461-0277692f0082",
   "metadata": {
    "id": "bcdbd97a-6b01-472b-9461-0277692f0082",
    "tags": []
   },
   "outputs": [
    {
     "data": {
      "text/html": [
       "<div>\n",
       "<style scoped>\n",
       "    .dataframe tbody tr th:only-of-type {\n",
       "        vertical-align: middle;\n",
       "    }\n",
       "\n",
       "    .dataframe tbody tr th {\n",
       "        vertical-align: top;\n",
       "    }\n",
       "\n",
       "    .dataframe thead th {\n",
       "        text-align: right;\n",
       "    }\n",
       "</style>\n",
       "<table border=\"1\" class=\"dataframe\">\n",
       "  <thead>\n",
       "    <tr style=\"text-align: right;\">\n",
       "      <th></th>\n",
       "      <th></th>\n",
       "      <th>AUC</th>\n",
       "      <th>PPV</th>\n",
       "      <th>Specificity</th>\n",
       "    </tr>\n",
       "    <tr>\n",
       "      <th>Cohort</th>\n",
       "      <th>Sample</th>\n",
       "      <th></th>\n",
       "      <th></th>\n",
       "      <th></th>\n",
       "    </tr>\n",
       "  </thead>\n",
       "  <tbody>\n",
       "    <tr>\n",
       "      <th rowspan=\"5\" valign=\"top\">0</th>\n",
       "      <th>1</th>\n",
       "      <td>0.794</td>\n",
       "      <td>0.184</td>\n",
       "      <td>0.602</td>\n",
       "    </tr>\n",
       "    <tr>\n",
       "      <th>2</th>\n",
       "      <td>0.799</td>\n",
       "      <td>0.170</td>\n",
       "      <td>0.625</td>\n",
       "    </tr>\n",
       "    <tr>\n",
       "      <th>3</th>\n",
       "      <td>0.779</td>\n",
       "      <td>0.189</td>\n",
       "      <td>0.632</td>\n",
       "    </tr>\n",
       "    <tr>\n",
       "      <th>4</th>\n",
       "      <td>0.767</td>\n",
       "      <td>0.147</td>\n",
       "      <td>0.568</td>\n",
       "    </tr>\n",
       "    <tr>\n",
       "      <th>5</th>\n",
       "      <td>0.786</td>\n",
       "      <td>0.178</td>\n",
       "      <td>0.621</td>\n",
       "    </tr>\n",
       "    <tr>\n",
       "      <th>...</th>\n",
       "      <th>...</th>\n",
       "      <td>...</td>\n",
       "      <td>...</td>\n",
       "      <td>...</td>\n",
       "    </tr>\n",
       "    <tr>\n",
       "      <th rowspan=\"5\" valign=\"top\">Macro</th>\n",
       "      <th>96</th>\n",
       "      <td>0.860</td>\n",
       "      <td>0.154</td>\n",
       "      <td>0.729</td>\n",
       "    </tr>\n",
       "    <tr>\n",
       "      <th>97</th>\n",
       "      <td>0.849</td>\n",
       "      <td>0.188</td>\n",
       "      <td>0.736</td>\n",
       "    </tr>\n",
       "    <tr>\n",
       "      <th>98</th>\n",
       "      <td>0.880</td>\n",
       "      <td>0.210</td>\n",
       "      <td>0.796</td>\n",
       "    </tr>\n",
       "    <tr>\n",
       "      <th>99</th>\n",
       "      <td>0.861</td>\n",
       "      <td>0.194</td>\n",
       "      <td>0.754</td>\n",
       "    </tr>\n",
       "    <tr>\n",
       "      <th>100</th>\n",
       "      <td>0.859</td>\n",
       "      <td>0.183</td>\n",
       "      <td>0.747</td>\n",
       "    </tr>\n",
       "  </tbody>\n",
       "</table>\n",
       "<p>500 rows × 3 columns</p>\n",
       "</div>"
      ],
      "text/plain": [
       "                 AUC    PPV  Specificity\n",
       "Cohort Sample                           \n",
       "0      1       0.794  0.184        0.602\n",
       "       2       0.799  0.170        0.625\n",
       "       3       0.779  0.189        0.632\n",
       "       4       0.767  0.147        0.568\n",
       "       5       0.786  0.178        0.621\n",
       "...              ...    ...          ...\n",
       "Macro  96      0.860  0.154        0.729\n",
       "       97      0.849  0.188        0.736\n",
       "       98      0.880  0.210        0.796\n",
       "       99      0.861  0.194        0.754\n",
       "       100     0.859  0.183        0.747\n",
       "\n",
       "[500 rows x 3 columns]"
      ]
     },
     "execution_count": 8,
     "metadata": {},
     "output_type": "execute_result"
    }
   ],
   "source": [
    "pd.options.display.max_rows = 20\n",
    "metrics_global_36_unsupervised_btstrp_df.round(3)"
   ]
  },
  {
   "cell_type": "markdown",
   "id": "31079b1d-28fd-4a67-9613-f188139cf2f5",
   "metadata": {
    "id": "31079b1d-28fd-4a67-9613-f188139cf2f5"
   },
   "source": [
    "#### 3.1.2. In-Hospital Mortality Prediction – Multi-Task Learning Model at 36 Hours"
   ]
  },
  {
   "cell_type": "markdown",
   "id": "1f3a6085-32a9-411a-82be-a1a48894c36d",
   "metadata": {
    "id": "1f3a6085-32a9-411a-82be-a1a48894c36d"
   },
   "source": [
    "Let's now run the mortality prediction task using the multi-task learning model in the 36 hour experiment setting. In this experiment, the cutoff period is 36 hours and the gap period is 18 hours, meaning model can only feed from patient data collected during the first 36 hours of the ICU stay, and predict mortality 54 hours after patient goes into the ICU to avoid label leakage. Since we are enabling bootstrapping, we will repeat same experiment with 100 bootstrapped samples from the test dataset. In terms of the cohort type, let's go with careunits first:"
   ]
  },
  {
   "cell_type": "code",
   "execution_count": 9,
   "id": "6b3358dc-8459-4225-abfe-841a8db5b496",
   "metadata": {
    "id": "6b3358dc-8459-4225-abfe-841a8db5b496",
    "tags": []
   },
   "outputs": [
    {
     "name": "stdout",
     "output_type": "stream",
     "text": [
      "Start Cell Execution at : 21/04/2023 12:51:11\n",
      "++++++++++++++++++++++++++++++++++++++++++++++++++++++++++++++++++++++++++++++++\n",
      "Preparing the data\n",
      "--------------------------------------------------------------------------------\n",
      "    Loading data from MIMIC-Extract pipeline...\n",
      "    Adding SAPS II score to static dataset...\n",
      "    Adding mortality columns to static dataset...\n",
      "    Discretizing X...\n",
      "        X.shape: (2200954, 33), X.subject_id.nunique(): 34472\n",
      "        X_discrete.shape: (2200954, 225), X_discrete.subject_id.nunique(): 34472\n",
      "    Keep only X_discrete[X_discrete.hours_in < 36]...\n",
      "        New X_discrete.shape: (1110984, 223), new X_discrete.subject_id.nunique(): 34472\n",
      "    Padding patients with less than 36 hours of data...\n",
      "    Merging dataframes to create X_full...\n",
      "    Mortality per careunit...\n",
      "        MICU: 986 out of 11065\n",
      "        SICU: 347 out of 5062\n",
      "        CCU: 287 out of 4725\n",
      "        CSRU: 124 out of 6932\n",
      "        TSICU: 240 out of 4132\n",
      "    Final shape of X: (31916, 36, 232)\n",
      "    Number of positive samples: 1984\n",
      "    Done!\n",
      "++++++++++++++++++++++++++++++++++++++++++++++++++++++++++++++++++++++++++++++++\n",
      "Running the Mortality Prediction Task\n",
      "--------------------------------------------------------------------------------\n",
      "    Splitting data into train/validation/test sets...\n",
      "    Calculating number of training samples in cohort...\n",
      "        # of patients in cohort CCU is 3278\n",
      "        # of patients in cohort CSRU is 4901\n",
      "        # of patients in cohort MICU is 7744\n",
      "        # of patients in cohort SICU is 3542\n",
      "        # of patients in cohort TSICU is 2875\n",
      "    ~~~~~~~~~~~~~~~~~~~~~~~~~~~~~~~~~~~~~~~~~~~~~~~~~~~~~~~~~~~~~~~~~~~~~~~~~~~~\n",
      "    Training 'multitask' model...\n",
      "Model: \"multitask_learning_model\"\n",
      "__________________________________________________________________________________________________\n",
      " Layer (type)                   Output Shape         Param #     Connected to                     \n",
      "==================================================================================================\n",
      " input (InputLayer)             [(None, 36, 232)]    0           []                               \n",
      "                                                                                                  \n",
      " lstm (LSTM)                    (None, 16)           15936       ['input[0][0]']                  \n",
      "                                                                                                  \n",
      " CCU (Dense)                    (None, 1)            17          ['lstm[0][0]']                   \n",
      "                                                                                                  \n",
      " CSRU (Dense)                   (None, 1)            17          ['lstm[0][0]']                   \n",
      "                                                                                                  \n",
      " MICU (Dense)                   (None, 1)            17          ['lstm[0][0]']                   \n",
      "                                                                                                  \n",
      " SICU (Dense)                   (None, 1)            17          ['lstm[0][0]']                   \n",
      "                                                                                                  \n",
      " TSICU (Dense)                  (None, 1)            17          ['lstm[0][0]']                   \n",
      "                                                                                                  \n",
      "==================================================================================================\n",
      "Total params: 16,021\n",
      "Trainable params: 16,021\n",
      "Non-trainable params: 0\n",
      "__________________________________________________________________________________________________\n",
      "None\n",
      "Epoch 1/30\n",
      "224/224 [==============================] - 5s 18ms/step - loss: 0.5002 - CCU_loss: 0.0670 - CSRU_loss: 0.0907 - MICU_loss: 0.1967 - SICU_loss: 0.0855 - TSICU_loss: 0.0603 - CCU_accuracy: 0.9286 - CSRU_accuracy: 0.9247 - MICU_accuracy: 0.7827 - SICU_accuracy: 0.7888 - TSICU_accuracy: 0.9269 - val_loss: 1.6659 - val_CCU_loss: 0.5048 - val_CSRU_loss: 0.2588 - val_MICU_loss: 0.3099 - val_SICU_loss: 0.3093 - val_TSICU_loss: 0.2830 - val_CCU_accuracy: 0.9380 - val_CSRU_accuracy: 0.9380 - val_MICU_accuracy: 0.9370 - val_SICU_accuracy: 0.9377 - val_TSICU_accuracy: 0.9380\n",
      "Epoch 2/30\n",
      "224/224 [==============================] - 4s 17ms/step - loss: 0.2801 - CCU_loss: 0.0598 - CSRU_loss: 0.0247 - MICU_loss: 0.1172 - SICU_loss: 0.0459 - TSICU_loss: 0.0325 - CCU_accuracy: 0.9378 - CSRU_accuracy: 0.9378 - MICU_accuracy: 0.9376 - SICU_accuracy: 0.9376 - TSICU_accuracy: 0.9378 - val_loss: 1.3590 - val_CCU_loss: 0.3594 - val_CSRU_loss: 0.2422 - val_MICU_loss: 0.2566 - val_SICU_loss: 0.2618 - val_TSICU_loss: 0.2391 - val_CCU_accuracy: 0.9380 - val_CSRU_accuracy: 0.9380 - val_MICU_accuracy: 0.9380 - val_SICU_accuracy: 0.9380 - val_TSICU_accuracy: 0.9380\n",
      "Epoch 3/30\n",
      "224/224 [==============================] - 4s 17ms/step - loss: 0.2382 - CCU_loss: 0.0443 - CSRU_loss: 0.0210 - MICU_loss: 0.1034 - SICU_loss: 0.0406 - TSICU_loss: 0.0288 - CCU_accuracy: 0.9378 - CSRU_accuracy: 0.9378 - MICU_accuracy: 0.9378 - SICU_accuracy: 0.9378 - TSICU_accuracy: 0.9378 - val_loss: 1.2183 - val_CCU_loss: 0.2912 - val_CSRU_loss: 0.2404 - val_MICU_loss: 0.2273 - val_SICU_loss: 0.2360 - val_TSICU_loss: 0.2232 - val_CCU_accuracy: 0.9380 - val_CSRU_accuracy: 0.9380 - val_MICU_accuracy: 0.9380 - val_SICU_accuracy: 0.9380 - val_TSICU_accuracy: 0.9380\n",
      "Epoch 4/30\n",
      "224/224 [==============================] - 4s 17ms/step - loss: 0.2146 - CCU_loss: 0.0366 - CSRU_loss: 0.0190 - MICU_loss: 0.0949 - SICU_loss: 0.0372 - TSICU_loss: 0.0269 - CCU_accuracy: 0.9378 - CSRU_accuracy: 0.9378 - MICU_accuracy: 0.9378 - SICU_accuracy: 0.9378 - TSICU_accuracy: 0.9378 - val_loss: 1.1143 - val_CCU_loss: 0.2404 - val_CSRU_loss: 0.2297 - val_MICU_loss: 0.2114 - val_SICU_loss: 0.2222 - val_TSICU_loss: 0.2106 - val_CCU_accuracy: 0.9380 - val_CSRU_accuracy: 0.9380 - val_MICU_accuracy: 0.9380 - val_SICU_accuracy: 0.9380 - val_TSICU_accuracy: 0.9380\n",
      "Epoch 5/30\n",
      "224/224 [==============================] - 4s 17ms/step - loss: 0.1990 - CCU_loss: 0.0318 - CSRU_loss: 0.0175 - MICU_loss: 0.0895 - SICU_loss: 0.0348 - TSICU_loss: 0.0253 - CCU_accuracy: 0.9378 - CSRU_accuracy: 0.9378 - MICU_accuracy: 0.9378 - SICU_accuracy: 0.9379 - TSICU_accuracy: 0.9378 - val_loss: 1.0502 - val_CCU_loss: 0.2201 - val_CSRU_loss: 0.2231 - val_MICU_loss: 0.1991 - val_SICU_loss: 0.2069 - val_TSICU_loss: 0.2009 - val_CCU_accuracy: 0.9380 - val_CSRU_accuracy: 0.9380 - val_MICU_accuracy: 0.9380 - val_SICU_accuracy: 0.9380 - val_TSICU_accuracy: 0.9380\n",
      "Epoch 6/30\n",
      "224/224 [==============================] - 4s 17ms/step - loss: 0.1893 - CCU_loss: 0.0299 - CSRU_loss: 0.0164 - MICU_loss: 0.0857 - SICU_loss: 0.0331 - TSICU_loss: 0.0240 - CCU_accuracy: 0.9379 - CSRU_accuracy: 0.9378 - MICU_accuracy: 0.9378 - SICU_accuracy: 0.9379 - TSICU_accuracy: 0.9378 - val_loss: 1.0050 - val_CCU_loss: 0.2038 - val_CSRU_loss: 0.2160 - val_MICU_loss: 0.1924 - val_SICU_loss: 0.1994 - val_TSICU_loss: 0.1933 - val_CCU_accuracy: 0.9383 - val_CSRU_accuracy: 0.9380 - val_MICU_accuracy: 0.9380 - val_SICU_accuracy: 0.9380 - val_TSICU_accuracy: 0.9380\n",
      "Epoch 7/30\n",
      "224/224 [==============================] - 4s 17ms/step - loss: 0.1833 - CCU_loss: 0.0282 - CSRU_loss: 0.0156 - MICU_loss: 0.0840 - SICU_loss: 0.0324 - TSICU_loss: 0.0231 - CCU_accuracy: 0.9380 - CSRU_accuracy: 0.9378 - MICU_accuracy: 0.9378 - SICU_accuracy: 0.9380 - TSICU_accuracy: 0.9378 - val_loss: 0.9821 - val_CCU_loss: 0.1978 - val_CSRU_loss: 0.2149 - val_MICU_loss: 0.1880 - val_SICU_loss: 0.1923 - val_TSICU_loss: 0.1892 - val_CCU_accuracy: 0.9383 - val_CSRU_accuracy: 0.9380 - val_MICU_accuracy: 0.9380 - val_SICU_accuracy: 0.9383 - val_TSICU_accuracy: 0.9380\n",
      "Epoch 8/30\n",
      "224/224 [==============================] - 4s 17ms/step - loss: 0.1796 - CCU_loss: 0.0275 - CSRU_loss: 0.0151 - MICU_loss: 0.0826 - SICU_loss: 0.0319 - TSICU_loss: 0.0225 - CCU_accuracy: 0.9380 - CSRU_accuracy: 0.9378 - MICU_accuracy: 0.9378 - SICU_accuracy: 0.9381 - TSICU_accuracy: 0.9378 - val_loss: 0.9603 - val_CCU_loss: 0.1902 - val_CSRU_loss: 0.2008 - val_MICU_loss: 0.1887 - val_SICU_loss: 0.1946 - val_TSICU_loss: 0.1860 - val_CCU_accuracy: 0.9386 - val_CSRU_accuracy: 0.9380 - val_MICU_accuracy: 0.9380 - val_SICU_accuracy: 0.9386 - val_TSICU_accuracy: 0.9380\n",
      "Epoch 9/30\n",
      "224/224 [==============================] - 4s 17ms/step - loss: 0.1768 - CCU_loss: 0.0269 - CSRU_loss: 0.0147 - MICU_loss: 0.0816 - SICU_loss: 0.0316 - TSICU_loss: 0.0220 - CCU_accuracy: 0.9380 - CSRU_accuracy: 0.9378 - MICU_accuracy: 0.9379 - SICU_accuracy: 0.9382 - TSICU_accuracy: 0.9378 - val_loss: 0.9482 - val_CCU_loss: 0.1876 - val_CSRU_loss: 0.2001 - val_MICU_loss: 0.1862 - val_SICU_loss: 0.1905 - val_TSICU_loss: 0.1838 - val_CCU_accuracy: 0.9386 - val_CSRU_accuracy: 0.9380 - val_MICU_accuracy: 0.9380 - val_SICU_accuracy: 0.9386 - val_TSICU_accuracy: 0.9380\n",
      "Epoch 10/30\n",
      "224/224 [==============================] - 4s 17ms/step - loss: 0.1749 - CCU_loss: 0.0264 - CSRU_loss: 0.0144 - MICU_loss: 0.0808 - SICU_loss: 0.0315 - TSICU_loss: 0.0218 - CCU_accuracy: 0.9381 - CSRU_accuracy: 0.9378 - MICU_accuracy: 0.9379 - SICU_accuracy: 0.9384 - TSICU_accuracy: 0.9378 - val_loss: 0.9391 - val_CCU_loss: 0.1854 - val_CSRU_loss: 0.1965 - val_MICU_loss: 0.1851 - val_SICU_loss: 0.1897 - val_TSICU_loss: 0.1823 - val_CCU_accuracy: 0.9386 - val_CSRU_accuracy: 0.9380 - val_MICU_accuracy: 0.9380 - val_SICU_accuracy: 0.9386 - val_TSICU_accuracy: 0.9380\n",
      "Epoch 11/30\n",
      "224/224 [==============================] - 4s 17ms/step - loss: 0.1730 - CCU_loss: 0.0262 - CSRU_loss: 0.0142 - MICU_loss: 0.0799 - SICU_loss: 0.0312 - TSICU_loss: 0.0216 - CCU_accuracy: 0.9380 - CSRU_accuracy: 0.9378 - MICU_accuracy: 0.9380 - SICU_accuracy: 0.9383 - TSICU_accuracy: 0.9378 - val_loss: 0.9313 - val_CCU_loss: 0.1837 - val_CSRU_loss: 0.1966 - val_MICU_loss: 0.1830 - val_SICU_loss: 0.1870 - val_TSICU_loss: 0.1810 - val_CCU_accuracy: 0.9386 - val_CSRU_accuracy: 0.9380 - val_MICU_accuracy: 0.9380 - val_SICU_accuracy: 0.9392 - val_TSICU_accuracy: 0.9377\n",
      "Epoch 12/30\n",
      "224/224 [==============================] - 4s 17ms/step - loss: 0.1712 - CCU_loss: 0.0257 - CSRU_loss: 0.0139 - MICU_loss: 0.0792 - SICU_loss: 0.0311 - TSICU_loss: 0.0213 - CCU_accuracy: 0.9383 - CSRU_accuracy: 0.9379 - MICU_accuracy: 0.9381 - SICU_accuracy: 0.9385 - TSICU_accuracy: 0.9379 - val_loss: 0.9255 - val_CCU_loss: 0.1836 - val_CSRU_loss: 0.1961 - val_MICU_loss: 0.1816 - val_SICU_loss: 0.1840 - val_TSICU_loss: 0.1802 - val_CCU_accuracy: 0.9386 - val_CSRU_accuracy: 0.9380 - val_MICU_accuracy: 0.9386 - val_SICU_accuracy: 0.9392 - val_TSICU_accuracy: 0.9377\n",
      "Epoch 13/30\n",
      "224/224 [==============================] - 4s 17ms/step - loss: 0.1699 - CCU_loss: 0.0254 - CSRU_loss: 0.0138 - MICU_loss: 0.0785 - SICU_loss: 0.0308 - TSICU_loss: 0.0213 - CCU_accuracy: 0.9383 - CSRU_accuracy: 0.9379 - MICU_accuracy: 0.9383 - SICU_accuracy: 0.9386 - TSICU_accuracy: 0.9379 - val_loss: 0.9219 - val_CCU_loss: 0.1831 - val_CSRU_loss: 0.1980 - val_MICU_loss: 0.1796 - val_SICU_loss: 0.1821 - val_TSICU_loss: 0.1791 - val_CCU_accuracy: 0.9386 - val_CSRU_accuracy: 0.9380 - val_MICU_accuracy: 0.9389 - val_SICU_accuracy: 0.9392 - val_TSICU_accuracy: 0.9377\n",
      "Epoch 14/30\n",
      "224/224 [==============================] - 4s 17ms/step - loss: 0.1685 - CCU_loss: 0.0252 - CSRU_loss: 0.0136 - MICU_loss: 0.0780 - SICU_loss: 0.0307 - TSICU_loss: 0.0211 - CCU_accuracy: 0.9384 - CSRU_accuracy: 0.9379 - MICU_accuracy: 0.9385 - SICU_accuracy: 0.9390 - TSICU_accuracy: 0.9379 - val_loss: 0.9168 - val_CCU_loss: 0.1817 - val_CSRU_loss: 0.1949 - val_MICU_loss: 0.1793 - val_SICU_loss: 0.1826 - val_TSICU_loss: 0.1783 - val_CCU_accuracy: 0.9386 - val_CSRU_accuracy: 0.9380 - val_MICU_accuracy: 0.9386 - val_SICU_accuracy: 0.9392 - val_TSICU_accuracy: 0.9377\n",
      "Epoch 15/30\n",
      "224/224 [==============================] - 4s 17ms/step - loss: 0.1674 - CCU_loss: 0.0250 - CSRU_loss: 0.0136 - MICU_loss: 0.0774 - SICU_loss: 0.0306 - TSICU_loss: 0.0209 - CCU_accuracy: 0.9385 - CSRU_accuracy: 0.9379 - MICU_accuracy: 0.9386 - SICU_accuracy: 0.9391 - TSICU_accuracy: 0.9378 - val_loss: 0.9133 - val_CCU_loss: 0.1813 - val_CSRU_loss: 0.1939 - val_MICU_loss: 0.1785 - val_SICU_loss: 0.1820 - val_TSICU_loss: 0.1777 - val_CCU_accuracy: 0.9389 - val_CSRU_accuracy: 0.9380 - val_MICU_accuracy: 0.9386 - val_SICU_accuracy: 0.9405 - val_TSICU_accuracy: 0.9377\n",
      "Epoch 16/30\n",
      "224/224 [==============================] - 4s 17ms/step - loss: 0.1661 - CCU_loss: 0.0248 - CSRU_loss: 0.0133 - MICU_loss: 0.0770 - SICU_loss: 0.0305 - TSICU_loss: 0.0206 - CCU_accuracy: 0.9385 - CSRU_accuracy: 0.9379 - MICU_accuracy: 0.9387 - SICU_accuracy: 0.9390 - TSICU_accuracy: 0.9379 - val_loss: 0.9094 - val_CCU_loss: 0.1792 - val_CSRU_loss: 0.1889 - val_MICU_loss: 0.1796 - val_SICU_loss: 0.1840 - val_TSICU_loss: 0.1778 - val_CCU_accuracy: 0.9389 - val_CSRU_accuracy: 0.9380 - val_MICU_accuracy: 0.9386 - val_SICU_accuracy: 0.9402 - val_TSICU_accuracy: 0.9377\n",
      "Epoch 17/30\n",
      "224/224 [==============================] - 4s 17ms/step - loss: 0.1652 - CCU_loss: 0.0247 - CSRU_loss: 0.0132 - MICU_loss: 0.0766 - SICU_loss: 0.0302 - TSICU_loss: 0.0207 - CCU_accuracy: 0.9385 - CSRU_accuracy: 0.9379 - MICU_accuracy: 0.9389 - SICU_accuracy: 0.9395 - TSICU_accuracy: 0.9380 - val_loss: 0.9089 - val_CCU_loss: 0.1821 - val_CSRU_loss: 0.1953 - val_MICU_loss: 0.1768 - val_SICU_loss: 0.1781 - val_TSICU_loss: 0.1766 - val_CCU_accuracy: 0.9389 - val_CSRU_accuracy: 0.9380 - val_MICU_accuracy: 0.9389 - val_SICU_accuracy: 0.9398 - val_TSICU_accuracy: 0.9380\n",
      "Epoch 18/30\n",
      "224/224 [==============================] - 4s 17ms/step - loss: 0.1643 - CCU_loss: 0.0244 - CSRU_loss: 0.0131 - MICU_loss: 0.0761 - SICU_loss: 0.0302 - TSICU_loss: 0.0205 - CCU_accuracy: 0.9387 - CSRU_accuracy: 0.9380 - MICU_accuracy: 0.9393 - SICU_accuracy: 0.9395 - TSICU_accuracy: 0.9380 - val_loss: 0.9035 - val_CCU_loss: 0.1790 - val_CSRU_loss: 0.1909 - val_MICU_loss: 0.1771 - val_SICU_loss: 0.1805 - val_TSICU_loss: 0.1759 - val_CCU_accuracy: 0.9389 - val_CSRU_accuracy: 0.9380 - val_MICU_accuracy: 0.9395 - val_SICU_accuracy: 0.9408 - val_TSICU_accuracy: 0.9386\n",
      "Epoch 19/30\n",
      "224/224 [==============================] - 4s 17ms/step - loss: 0.1629 - CCU_loss: 0.0241 - CSRU_loss: 0.0129 - MICU_loss: 0.0755 - SICU_loss: 0.0300 - TSICU_loss: 0.0204 - CCU_accuracy: 0.9388 - CSRU_accuracy: 0.9381 - MICU_accuracy: 0.9395 - SICU_accuracy: 0.9397 - TSICU_accuracy: 0.9382 - val_loss: 0.8994 - val_CCU_loss: 0.1785 - val_CSRU_loss: 0.1863 - val_MICU_loss: 0.1781 - val_SICU_loss: 0.1807 - val_TSICU_loss: 0.1757 - val_CCU_accuracy: 0.9386 - val_CSRU_accuracy: 0.9383 - val_MICU_accuracy: 0.9395 - val_SICU_accuracy: 0.9408 - val_TSICU_accuracy: 0.9386\n",
      "Epoch 20/30\n",
      "224/224 [==============================] - 4s 17ms/step - loss: 0.1618 - CCU_loss: 0.0240 - CSRU_loss: 0.0127 - MICU_loss: 0.0749 - SICU_loss: 0.0299 - TSICU_loss: 0.0202 - CCU_accuracy: 0.9391 - CSRU_accuracy: 0.9382 - MICU_accuracy: 0.9400 - SICU_accuracy: 0.9399 - TSICU_accuracy: 0.9383 - val_loss: 0.8998 - val_CCU_loss: 0.1789 - val_CSRU_loss: 0.1870 - val_MICU_loss: 0.1782 - val_SICU_loss: 0.1802 - val_TSICU_loss: 0.1755 - val_CCU_accuracy: 0.9392 - val_CSRU_accuracy: 0.9392 - val_MICU_accuracy: 0.9395 - val_SICU_accuracy: 0.9411 - val_TSICU_accuracy: 0.9386\n",
      "Epoch 21/30\n",
      "224/224 [==============================] - 4s 17ms/step - loss: 0.1608 - CCU_loss: 0.0241 - CSRU_loss: 0.0125 - MICU_loss: 0.0745 - SICU_loss: 0.0297 - TSICU_loss: 0.0201 - CCU_accuracy: 0.9390 - CSRU_accuracy: 0.9385 - MICU_accuracy: 0.9402 - SICU_accuracy: 0.9406 - TSICU_accuracy: 0.9386 - val_loss: 0.9010 - val_CCU_loss: 0.1805 - val_CSRU_loss: 0.1910 - val_MICU_loss: 0.1768 - val_SICU_loss: 0.1780 - val_TSICU_loss: 0.1747 - val_CCU_accuracy: 0.9392 - val_CSRU_accuracy: 0.9395 - val_MICU_accuracy: 0.9392 - val_SICU_accuracy: 0.9414 - val_TSICU_accuracy: 0.9383\n",
      "Epoch 22/30\n",
      "224/224 [==============================] - 4s 17ms/step - loss: 0.1597 - CCU_loss: 0.0238 - CSRU_loss: 0.0125 - MICU_loss: 0.0739 - SICU_loss: 0.0295 - TSICU_loss: 0.0201 - CCU_accuracy: 0.9395 - CSRU_accuracy: 0.9385 - MICU_accuracy: 0.9408 - SICU_accuracy: 0.9407 - TSICU_accuracy: 0.9390 - val_loss: 0.9100 - val_CCU_loss: 0.1831 - val_CSRU_loss: 0.1976 - val_MICU_loss: 0.1780 - val_SICU_loss: 0.1763 - val_TSICU_loss: 0.1749 - val_CCU_accuracy: 0.9392 - val_CSRU_accuracy: 0.9386 - val_MICU_accuracy: 0.9392 - val_SICU_accuracy: 0.9417 - val_TSICU_accuracy: 0.9386\n",
      "Epoch 23/30\n",
      "224/224 [==============================] - 4s 17ms/step - loss: 0.1588 - CCU_loss: 0.0236 - CSRU_loss: 0.0123 - MICU_loss: 0.0737 - SICU_loss: 0.0294 - TSICU_loss: 0.0198 - CCU_accuracy: 0.9396 - CSRU_accuracy: 0.9389 - MICU_accuracy: 0.9409 - SICU_accuracy: 0.9409 - TSICU_accuracy: 0.9393 - val_loss: 0.8993 - val_CCU_loss: 0.1807 - val_CSRU_loss: 0.1903 - val_MICU_loss: 0.1776 - val_SICU_loss: 0.1764 - val_TSICU_loss: 0.1744 - val_CCU_accuracy: 0.9402 - val_CSRU_accuracy: 0.9392 - val_MICU_accuracy: 0.9383 - val_SICU_accuracy: 0.9417 - val_TSICU_accuracy: 0.9386\n",
      "Epoch 24/30\n",
      "224/224 [==============================] - 4s 17ms/step - loss: 0.1576 - CCU_loss: 0.0232 - CSRU_loss: 0.0122 - MICU_loss: 0.0730 - SICU_loss: 0.0293 - TSICU_loss: 0.0198 - CCU_accuracy: 0.9400 - CSRU_accuracy: 0.9393 - MICU_accuracy: 0.9420 - SICU_accuracy: 0.9406 - TSICU_accuracy: 0.9396 - val_loss: 0.9262 - val_CCU_loss: 0.1869 - val_CSRU_loss: 0.2060 - val_MICU_loss: 0.1821 - val_SICU_loss: 0.1751 - val_TSICU_loss: 0.1761 - val_CCU_accuracy: 0.9408 - val_CSRU_accuracy: 0.9392 - val_MICU_accuracy: 0.9386 - val_SICU_accuracy: 0.9420 - val_TSICU_accuracy: 0.9386\n",
      "Epoch 25/30\n",
      "224/224 [==============================] - 4s 17ms/step - loss: 0.1568 - CCU_loss: 0.0233 - CSRU_loss: 0.0120 - MICU_loss: 0.0727 - SICU_loss: 0.0292 - TSICU_loss: 0.0196 - CCU_accuracy: 0.9401 - CSRU_accuracy: 0.9396 - MICU_accuracy: 0.9420 - SICU_accuracy: 0.9410 - TSICU_accuracy: 0.9397 - val_loss: 0.8938 - val_CCU_loss: 0.1778 - val_CSRU_loss: 0.1855 - val_MICU_loss: 0.1788 - val_SICU_loss: 0.1773 - val_TSICU_loss: 0.1744 - val_CCU_accuracy: 0.9405 - val_CSRU_accuracy: 0.9392 - val_MICU_accuracy: 0.9380 - val_SICU_accuracy: 0.9417 - val_TSICU_accuracy: 0.9392\n",
      "Epoch 26/30\n",
      "224/224 [==============================] - 4s 17ms/step - loss: 0.1554 - CCU_loss: 0.0231 - CSRU_loss: 0.0119 - MICU_loss: 0.0721 - SICU_loss: 0.0288 - TSICU_loss: 0.0195 - CCU_accuracy: 0.9400 - CSRU_accuracy: 0.9396 - MICU_accuracy: 0.9421 - SICU_accuracy: 0.9411 - TSICU_accuracy: 0.9397 - val_loss: 0.9100 - val_CCU_loss: 0.1835 - val_CSRU_loss: 0.1952 - val_MICU_loss: 0.1818 - val_SICU_loss: 0.1754 - val_TSICU_loss: 0.1741 - val_CCU_accuracy: 0.9411 - val_CSRU_accuracy: 0.9398 - val_MICU_accuracy: 0.9386 - val_SICU_accuracy: 0.9420 - val_TSICU_accuracy: 0.9395\n",
      "Epoch 27/30\n",
      "224/224 [==============================] - 4s 17ms/step - loss: 0.1544 - CCU_loss: 0.0230 - CSRU_loss: 0.0118 - MICU_loss: 0.0716 - SICU_loss: 0.0287 - TSICU_loss: 0.0193 - CCU_accuracy: 0.9403 - CSRU_accuracy: 0.9401 - MICU_accuracy: 0.9425 - SICU_accuracy: 0.9413 - TSICU_accuracy: 0.9400 - val_loss: 0.9030 - val_CCU_loss: 0.1819 - val_CSRU_loss: 0.1882 - val_MICU_loss: 0.1820 - val_SICU_loss: 0.1784 - val_TSICU_loss: 0.1726 - val_CCU_accuracy: 0.9411 - val_CSRU_accuracy: 0.9395 - val_MICU_accuracy: 0.9383 - val_SICU_accuracy: 0.9408 - val_TSICU_accuracy: 0.9402\n",
      "Epoch 28/30\n",
      "224/224 [==============================] - 4s 17ms/step - loss: 0.1540 - CCU_loss: 0.0228 - CSRU_loss: 0.0117 - MICU_loss: 0.0715 - SICU_loss: 0.0287 - TSICU_loss: 0.0191 - CCU_accuracy: 0.9409 - CSRU_accuracy: 0.9402 - MICU_accuracy: 0.9423 - SICU_accuracy: 0.9410 - TSICU_accuracy: 0.9402 - val_loss: 0.9439 - val_CCU_loss: 0.1912 - val_CSRU_loss: 0.2124 - val_MICU_loss: 0.1766 - val_SICU_loss: 0.1746 - val_TSICU_loss: 0.1891 - val_CCU_accuracy: 0.9411 - val_CSRU_accuracy: 0.9395 - val_MICU_accuracy: 0.9386 - val_SICU_accuracy: 0.9424 - val_TSICU_accuracy: 0.9389\n",
      "Epoch 29/30\n",
      "224/224 [==============================] - 4s 17ms/step - loss: 0.1527 - CCU_loss: 0.0227 - CSRU_loss: 0.0116 - MICU_loss: 0.0708 - SICU_loss: 0.0285 - TSICU_loss: 0.0192 - CCU_accuracy: 0.9408 - CSRU_accuracy: 0.9406 - MICU_accuracy: 0.9427 - SICU_accuracy: 0.9412 - TSICU_accuracy: 0.9404 - val_loss: 0.9038 - val_CCU_loss: 0.1823 - val_CSRU_loss: 0.1849 - val_MICU_loss: 0.1857 - val_SICU_loss: 0.1792 - val_TSICU_loss: 0.1717 - val_CCU_accuracy: 0.9405 - val_CSRU_accuracy: 0.9398 - val_MICU_accuracy: 0.9380 - val_SICU_accuracy: 0.9420 - val_TSICU_accuracy: 0.9398\n",
      "INFO:tensorflow:Assets written to: ../data/models/model_multitask_36+18_careunits/assets\n",
      "    ~~~~~~~~~~~~~~~~~~~~~~~~~~~~~~~~~~~~~~~~~~~~~~~~~~~~~~~~~~~~~~~~~~~~~~~~~~~~\n",
      "    Predicting using 'multitask' model...\n",
      "200/200 [==============================] - 1s 3ms/step\n",
      "    Bootstrap prediction for task \"CCU\"...\n"
     ]
    },
    {
     "data": {
      "application/vnd.jupyter.widget-view+json": {
       "model_id": "0da0c9a4cf384813ab1f35aab88ddbe8",
       "version_major": 2,
       "version_minor": 0
      },
      "text/plain": [
       "  0%|          | 0/100 [00:00<?, ?it/s]"
      ]
     },
     "metadata": {},
     "output_type": "display_data"
    },
    {
     "name": "stdout",
     "output_type": "stream",
     "text": [
      "    Bootstrap prediction for task \"CSRU\"...\n"
     ]
    },
    {
     "data": {
      "application/vnd.jupyter.widget-view+json": {
       "model_id": "1609ac5be08041708671b1dc4f96808b",
       "version_major": 2,
       "version_minor": 0
      },
      "text/plain": [
       "  0%|          | 0/100 [00:00<?, ?it/s]"
      ]
     },
     "metadata": {},
     "output_type": "display_data"
    },
    {
     "name": "stdout",
     "output_type": "stream",
     "text": [
      "    Bootstrap prediction for task \"MICU\"...\n"
     ]
    },
    {
     "data": {
      "application/vnd.jupyter.widget-view+json": {
       "model_id": "cdc132c8750147798098d713c7ae4954",
       "version_major": 2,
       "version_minor": 0
      },
      "text/plain": [
       "  0%|          | 0/100 [00:00<?, ?it/s]"
      ]
     },
     "metadata": {},
     "output_type": "display_data"
    },
    {
     "name": "stdout",
     "output_type": "stream",
     "text": [
      "    Bootstrap prediction for task \"SICU\"...\n"
     ]
    },
    {
     "data": {
      "application/vnd.jupyter.widget-view+json": {
       "model_id": "b8a51b4131a847979fc88c831a4a309e",
       "version_major": 2,
       "version_minor": 0
      },
      "text/plain": [
       "  0%|          | 0/100 [00:00<?, ?it/s]"
      ]
     },
     "metadata": {},
     "output_type": "display_data"
    },
    {
     "name": "stdout",
     "output_type": "stream",
     "text": [
      "    Bootstrap prediction for task \"TSICU\"...\n"
     ]
    },
    {
     "data": {
      "application/vnd.jupyter.widget-view+json": {
       "model_id": "43eb340ca01c43f08f90cba598ae96a2",
       "version_major": 2,
       "version_minor": 0
      },
      "text/plain": [
       "  0%|          | 0/100 [00:00<?, ?it/s]"
      ]
     },
     "metadata": {},
     "output_type": "display_data"
    },
    {
     "name": "stdout",
     "output_type": "stream",
     "text": [
      "    Bootstrap prediction for task \"all\"...\n"
     ]
    },
    {
     "data": {
      "application/vnd.jupyter.widget-view+json": {
       "model_id": "a9ca273dca03425293bf225c006bef0b",
       "version_major": 2,
       "version_minor": 0
      },
      "text/plain": [
       "  0%|          | 0/100 [00:00<?, ?it/s]"
      ]
     },
     "metadata": {},
     "output_type": "display_data"
    },
    {
     "name": "stdout",
     "output_type": "stream",
     "text": [
      "    Done!\n",
      "CPU times: user 5min, sys: 16.5 s, total: 5min 17s\n",
      "Wall time: 5min 6s\n"
     ]
    }
   ],
   "source": [
    "%%time\n",
    "cell_execution_time = datetime.now(pytz.timezone('America/New_York')).strftime(\"%d/%m/%Y %H:%M:%S\")\n",
    "print(f'Start Cell Execution at : {cell_execution_time}')\n",
    "\n",
    "from mtl_patients import run_mortality_prediction_task\n",
    "\n",
    "metrics_mtl_36_careunits_btstrp_df = run_mortality_prediction_task(model_type='multitask', cutoff_hours=36, gap_hours=18, cohort_criteria_to_select='careunits', bootstrap=True)"
   ]
  },
  {
   "cell_type": "code",
   "execution_count": 10,
   "id": "6ef88acf-1368-465d-80b4-79da55c24be2",
   "metadata": {
    "id": "6ef88acf-1368-465d-80b4-79da55c24be2",
    "tags": []
   },
   "outputs": [
    {
     "data": {
      "text/html": [
       "<div>\n",
       "<style scoped>\n",
       "    .dataframe tbody tr th:only-of-type {\n",
       "        vertical-align: middle;\n",
       "    }\n",
       "\n",
       "    .dataframe tbody tr th {\n",
       "        vertical-align: top;\n",
       "    }\n",
       "\n",
       "    .dataframe thead th {\n",
       "        text-align: right;\n",
       "    }\n",
       "</style>\n",
       "<table border=\"1\" class=\"dataframe\">\n",
       "  <thead>\n",
       "    <tr style=\"text-align: right;\">\n",
       "      <th></th>\n",
       "      <th></th>\n",
       "      <th>AUC</th>\n",
       "      <th>PPV</th>\n",
       "      <th>Specificity</th>\n",
       "    </tr>\n",
       "    <tr>\n",
       "      <th>Cohort</th>\n",
       "      <th>Sample</th>\n",
       "      <th></th>\n",
       "      <th></th>\n",
       "      <th></th>\n",
       "    </tr>\n",
       "  </thead>\n",
       "  <tbody>\n",
       "    <tr>\n",
       "      <th rowspan=\"5\" valign=\"top\">CCU</th>\n",
       "      <th>1</th>\n",
       "      <td>0.865</td>\n",
       "      <td>0.215</td>\n",
       "      <td>0.848</td>\n",
       "    </tr>\n",
       "    <tr>\n",
       "      <th>2</th>\n",
       "      <td>0.875</td>\n",
       "      <td>0.171</td>\n",
       "      <td>0.829</td>\n",
       "    </tr>\n",
       "    <tr>\n",
       "      <th>3</th>\n",
       "      <td>0.921</td>\n",
       "      <td>0.253</td>\n",
       "      <td>0.875</td>\n",
       "    </tr>\n",
       "    <tr>\n",
       "      <th>4</th>\n",
       "      <td>0.826</td>\n",
       "      <td>0.121</td>\n",
       "      <td>0.738</td>\n",
       "    </tr>\n",
       "    <tr>\n",
       "      <th>5</th>\n",
       "      <td>0.908</td>\n",
       "      <td>0.247</td>\n",
       "      <td>0.862</td>\n",
       "    </tr>\n",
       "    <tr>\n",
       "      <th>...</th>\n",
       "      <th>...</th>\n",
       "      <td>...</td>\n",
       "      <td>...</td>\n",
       "      <td>...</td>\n",
       "    </tr>\n",
       "    <tr>\n",
       "      <th rowspan=\"5\" valign=\"top\">Macro</th>\n",
       "      <th>96</th>\n",
       "      <td>0.867</td>\n",
       "      <td>0.185</td>\n",
       "      <td>0.768</td>\n",
       "    </tr>\n",
       "    <tr>\n",
       "      <th>97</th>\n",
       "      <td>0.876</td>\n",
       "      <td>0.186</td>\n",
       "      <td>0.774</td>\n",
       "    </tr>\n",
       "    <tr>\n",
       "      <th>98</th>\n",
       "      <td>0.866</td>\n",
       "      <td>0.174</td>\n",
       "      <td>0.758</td>\n",
       "    </tr>\n",
       "    <tr>\n",
       "      <th>99</th>\n",
       "      <td>0.888</td>\n",
       "      <td>0.203</td>\n",
       "      <td>0.792</td>\n",
       "    </tr>\n",
       "    <tr>\n",
       "      <th>100</th>\n",
       "      <td>0.887</td>\n",
       "      <td>0.219</td>\n",
       "      <td>0.817</td>\n",
       "    </tr>\n",
       "  </tbody>\n",
       "</table>\n",
       "<p>700 rows × 3 columns</p>\n",
       "</div>"
      ],
      "text/plain": [
       "                 AUC    PPV  Specificity\n",
       "Cohort Sample                           \n",
       "CCU    1       0.865  0.215        0.848\n",
       "       2       0.875  0.171        0.829\n",
       "       3       0.921  0.253        0.875\n",
       "       4       0.826  0.121        0.738\n",
       "       5       0.908  0.247        0.862\n",
       "...              ...    ...          ...\n",
       "Macro  96      0.867  0.185        0.768\n",
       "       97      0.876  0.186        0.774\n",
       "       98      0.866  0.174        0.758\n",
       "       99      0.888  0.203        0.792\n",
       "       100     0.887  0.219        0.817\n",
       "\n",
       "[700 rows x 3 columns]"
      ]
     },
     "execution_count": 10,
     "metadata": {},
     "output_type": "execute_result"
    }
   ],
   "source": [
    "pd.options.display.max_rows = 20\n",
    "metrics_mtl_36_careunits_btstrp_df.round(3)"
   ]
  },
  {
   "cell_type": "markdown",
   "id": "cf00efa1-fc2a-4a82-b443-4b4ced5f7f74",
   "metadata": {
    "id": "cf00efa1-fc2a-4a82-b443-4b4ced5f7f74"
   },
   "source": [
    "Now, let's repeat the prediction task but this time using the groups fetched in an unsupervised way from step 1 proposed by the authors in the paper:"
   ]
  },
  {
   "cell_type": "code",
   "execution_count": 11,
   "id": "25c8284e-e848-4c66-8217-e33f9badb079",
   "metadata": {
    "id": "25c8284e-e848-4c66-8217-e33f9badb079",
    "tags": []
   },
   "outputs": [
    {
     "name": "stdout",
     "output_type": "stream",
     "text": [
      "Start Cell Execution at : 21/04/2023 12:56:18\n",
      "++++++++++++++++++++++++++++++++++++++++++++++++++++++++++++++++++++++++++++++++\n",
      "Preparing the data\n",
      "--------------------------------------------------------------------------------\n",
      "    Loading data from MIMIC-Extract pipeline...\n",
      "    Adding SAPS II score to static dataset...\n",
      "    Adding mortality columns to static dataset...\n",
      "    Discretizing X...\n",
      "        X.shape: (2200954, 33), X.subject_id.nunique(): 34472\n",
      "        X_discrete.shape: (2200954, 225), X_discrete.subject_id.nunique(): 34472\n",
      "    Keep only X_discrete[X_discrete.hours_in < 36]...\n",
      "        New X_discrete.shape: (1110984, 223), new X_discrete.subject_id.nunique(): 34472\n",
      "    Padding patients with less than 36 hours of data...\n",
      "    Merging dataframes to create X_full...\n",
      "    Mortality per careunit...\n",
      "        MICU: 986 out of 11065\n",
      "        SICU: 347 out of 5062\n",
      "        CCU: 287 out of 4725\n",
      "        CSRU: 124 out of 6932\n",
      "        TSICU: 240 out of 4132\n",
      "    Final shape of X: (31916, 36, 232)\n",
      "    Number of positive samples: 1984\n",
      "    Done!\n",
      "++++++++++++++++++++++++++++++++++++++++++++++++++++++++++++++++++++++++++++++++\n",
      "Running the Mortality Prediction Task\n",
      "--------------------------------------------------------------------------------\n",
      "    Splitting data into train/validation/test sets...\n",
      "    Calculating number of training samples in cohort...\n",
      "        # of patients in cohort 0 is 4614\n",
      "        # of patients in cohort 1 is 8102\n",
      "        # of patients in cohort 2 is 9624\n",
      "    ~~~~~~~~~~~~~~~~~~~~~~~~~~~~~~~~~~~~~~~~~~~~~~~~~~~~~~~~~~~~~~~~~~~~~~~~~~~~\n",
      "    Training 'multitask' model...\n",
      "Model: \"multitask_learning_model\"\n",
      "__________________________________________________________________________________________________\n",
      " Layer (type)                   Output Shape         Param #     Connected to                     \n",
      "==================================================================================================\n",
      " input (InputLayer)             [(None, 36, 232)]    0           []                               \n",
      "                                                                                                  \n",
      " lstm (LSTM)                    (None, 16)           15936       ['input[0][0]']                  \n",
      "                                                                                                  \n",
      " 0 (Dense)                      (None, 1)            17          ['lstm[0][0]']                   \n",
      "                                                                                                  \n",
      " 1 (Dense)                      (None, 1)            17          ['lstm[0][0]']                   \n",
      "                                                                                                  \n",
      " 2 (Dense)                      (None, 1)            17          ['lstm[0][0]']                   \n",
      "                                                                                                  \n",
      "==================================================================================================\n",
      "Total params: 15,987\n",
      "Trainable params: 15,987\n",
      "Non-trainable params: 0\n",
      "__________________________________________________________________________________________________\n",
      "None\n",
      "Epoch 1/30\n",
      "224/224 [==============================] - 5s 17ms/step - loss: 0.4638 - 0_loss: 0.0950 - 1_loss: 0.1548 - 2_loss: 0.2140 - 0_accuracy: 0.9270 - 1_accuracy: 0.9220 - 2_accuracy: 0.7867 - val_loss: 0.9198 - val_0_loss: 0.3025 - val_1_loss: 0.2895 - val_2_loss: 0.3278 - val_0_accuracy: 0.9380 - val_1_accuracy: 0.9377 - val_2_accuracy: 0.9370\n",
      "Epoch 2/30\n",
      "224/224 [==============================] - 4s 16ms/step - loss: 0.2662 - 0_loss: 0.0698 - 1_loss: 0.0731 - 2_loss: 0.1234 - 0_accuracy: 0.9378 - 1_accuracy: 0.9378 - 2_accuracy: 0.9376 - val_loss: 0.7488 - val_0_loss: 0.2442 - val_1_loss: 0.2430 - val_2_loss: 0.2616 - val_0_accuracy: 0.9380 - val_1_accuracy: 0.9380 - val_2_accuracy: 0.9380\n",
      "Epoch 3/30\n",
      "224/224 [==============================] - 4s 16ms/step - loss: 0.2314 - 0_loss: 0.0618 - 1_loss: 0.0627 - 2_loss: 0.1069 - 0_accuracy: 0.9378 - 1_accuracy: 0.9378 - 2_accuracy: 0.9378 - val_loss: 0.6723 - val_0_loss: 0.2231 - val_1_loss: 0.2212 - val_2_loss: 0.2280 - val_0_accuracy: 0.9380 - val_1_accuracy: 0.9380 - val_2_accuracy: 0.9380\n",
      "Epoch 4/30\n",
      "224/224 [==============================] - 4s 16ms/step - loss: 0.2120 - 0_loss: 0.0578 - 1_loss: 0.0573 - 2_loss: 0.0969 - 0_accuracy: 0.9378 - 1_accuracy: 0.9378 - 2_accuracy: 0.9378 - val_loss: 0.6251 - val_0_loss: 0.2077 - val_1_loss: 0.2056 - val_2_loss: 0.2118 - val_0_accuracy: 0.9380 - val_1_accuracy: 0.9380 - val_2_accuracy: 0.9380\n",
      "Epoch 5/30\n",
      "224/224 [==============================] - 4s 16ms/step - loss: 0.1989 - 0_loss: 0.0548 - 1_loss: 0.0534 - 2_loss: 0.0906 - 0_accuracy: 0.9378 - 1_accuracy: 0.9378 - 2_accuracy: 0.9378 - val_loss: 0.5937 - val_0_loss: 0.1979 - val_1_loss: 0.1961 - val_2_loss: 0.1997 - val_0_accuracy: 0.9380 - val_1_accuracy: 0.9380 - val_2_accuracy: 0.9380\n",
      "Epoch 6/30\n",
      "224/224 [==============================] - 4s 16ms/step - loss: 0.1905 - 0_loss: 0.0529 - 1_loss: 0.0507 - 2_loss: 0.0869 - 0_accuracy: 0.9379 - 1_accuracy: 0.9378 - 2_accuracy: 0.9378 - val_loss: 0.5763 - val_0_loss: 0.1907 - val_1_loss: 0.1895 - val_2_loss: 0.1961 - val_0_accuracy: 0.9383 - val_1_accuracy: 0.9380 - val_2_accuracy: 0.9380\n",
      "Epoch 7/30\n",
      "224/224 [==============================] - 4s 16ms/step - loss: 0.1850 - 0_loss: 0.0514 - 1_loss: 0.0491 - 2_loss: 0.0846 - 0_accuracy: 0.9379 - 1_accuracy: 0.9378 - 2_accuracy: 0.9378 - val_loss: 0.5658 - val_0_loss: 0.1877 - val_1_loss: 0.1865 - val_2_loss: 0.1917 - val_0_accuracy: 0.9383 - val_1_accuracy: 0.9380 - val_2_accuracy: 0.9380\n",
      "Epoch 8/30\n",
      "224/224 [==============================] - 4s 16ms/step - loss: 0.1808 - 0_loss: 0.0501 - 1_loss: 0.0478 - 2_loss: 0.0829 - 0_accuracy: 0.9380 - 1_accuracy: 0.9379 - 2_accuracy: 0.9379 - val_loss: 0.5618 - val_0_loss: 0.1841 - val_1_loss: 0.1835 - val_2_loss: 0.1943 - val_0_accuracy: 0.9389 - val_1_accuracy: 0.9380 - val_2_accuracy: 0.9386\n",
      "Epoch 9/30\n",
      "224/224 [==============================] - 4s 16ms/step - loss: 0.1778 - 0_loss: 0.0492 - 1_loss: 0.0470 - 2_loss: 0.0815 - 0_accuracy: 0.9380 - 1_accuracy: 0.9379 - 2_accuracy: 0.9382 - val_loss: 0.5586 - val_0_loss: 0.1835 - val_1_loss: 0.1825 - val_2_loss: 0.1926 - val_0_accuracy: 0.9389 - val_1_accuracy: 0.9380 - val_2_accuracy: 0.9377\n",
      "Epoch 10/30\n",
      "224/224 [==============================] - 4s 16ms/step - loss: 0.1756 - 0_loss: 0.0488 - 1_loss: 0.0462 - 2_loss: 0.0807 - 0_accuracy: 0.9383 - 1_accuracy: 0.9379 - 2_accuracy: 0.9386 - val_loss: 0.5593 - val_0_loss: 0.1814 - val_1_loss: 0.1809 - val_2_loss: 0.1969 - val_0_accuracy: 0.9389 - val_1_accuracy: 0.9380 - val_2_accuracy: 0.9373\n",
      "Epoch 11/30\n",
      "224/224 [==============================] - 4s 16ms/step - loss: 0.1738 - 0_loss: 0.0483 - 1_loss: 0.0458 - 2_loss: 0.0797 - 0_accuracy: 0.9385 - 1_accuracy: 0.9379 - 2_accuracy: 0.9388 - val_loss: 0.5562 - val_0_loss: 0.1827 - val_1_loss: 0.1818 - val_2_loss: 0.1917 - val_0_accuracy: 0.9386 - val_1_accuracy: 0.9380 - val_2_accuracy: 0.9377\n",
      "Epoch 12/30\n",
      "224/224 [==============================] - 4s 16ms/step - loss: 0.1716 - 0_loss: 0.0476 - 1_loss: 0.0450 - 2_loss: 0.0790 - 0_accuracy: 0.9388 - 1_accuracy: 0.9379 - 2_accuracy: 0.9390 - val_loss: 0.5571 - val_0_loss: 0.1835 - val_1_loss: 0.1817 - val_2_loss: 0.1919 - val_0_accuracy: 0.9389 - val_1_accuracy: 0.9380 - val_2_accuracy: 0.9373\n",
      "Epoch 13/30\n",
      "224/224 [==============================] - 4s 16ms/step - loss: 0.1703 - 0_loss: 0.0475 - 1_loss: 0.0446 - 2_loss: 0.0782 - 0_accuracy: 0.9390 - 1_accuracy: 0.9380 - 2_accuracy: 0.9395 - val_loss: 0.5588 - val_0_loss: 0.1855 - val_1_loss: 0.1836 - val_2_loss: 0.1896 - val_0_accuracy: 0.9386 - val_1_accuracy: 0.9380 - val_2_accuracy: 0.9383\n",
      "Epoch 14/30\n",
      "224/224 [==============================] - 4s 16ms/step - loss: 0.1689 - 0_loss: 0.0470 - 1_loss: 0.0443 - 2_loss: 0.0776 - 0_accuracy: 0.9396 - 1_accuracy: 0.9380 - 2_accuracy: 0.9396 - val_loss: 0.5597 - val_0_loss: 0.1843 - val_1_loss: 0.1819 - val_2_loss: 0.1934 - val_0_accuracy: 0.9395 - val_1_accuracy: 0.9383 - val_2_accuracy: 0.9383\n",
      "Epoch 15/30\n",
      "224/224 [==============================] - 4s 16ms/step - loss: 0.1677 - 0_loss: 0.0468 - 1_loss: 0.0436 - 2_loss: 0.0773 - 0_accuracy: 0.9397 - 1_accuracy: 0.9381 - 2_accuracy: 0.9389 - val_loss: 0.5597 - val_0_loss: 0.1848 - val_1_loss: 0.1825 - val_2_loss: 0.1924 - val_0_accuracy: 0.9402 - val_1_accuracy: 0.9380 - val_2_accuracy: 0.9373\n",
      "INFO:tensorflow:Assets written to: ../data/models/model_multitask_36+18_unsupervised/assets\n",
      "    ~~~~~~~~~~~~~~~~~~~~~~~~~~~~~~~~~~~~~~~~~~~~~~~~~~~~~~~~~~~~~~~~~~~~~~~~~~~~\n",
      "    Predicting using 'multitask' model...\n",
      "200/200 [==============================] - 1s 3ms/step\n",
      "    Bootstrap prediction for task \"0\"...\n"
     ]
    },
    {
     "data": {
      "application/vnd.jupyter.widget-view+json": {
       "model_id": "8aab71bdbf434b2fa27ed51021ef4565",
       "version_major": 2,
       "version_minor": 0
      },
      "text/plain": [
       "  0%|          | 0/100 [00:00<?, ?it/s]"
      ]
     },
     "metadata": {},
     "output_type": "display_data"
    },
    {
     "name": "stdout",
     "output_type": "stream",
     "text": [
      "    Bootstrap prediction for task \"1\"...\n"
     ]
    },
    {
     "data": {
      "application/vnd.jupyter.widget-view+json": {
       "model_id": "0a32374b939d46d691ff2c560cee5369",
       "version_major": 2,
       "version_minor": 0
      },
      "text/plain": [
       "  0%|          | 0/100 [00:00<?, ?it/s]"
      ]
     },
     "metadata": {},
     "output_type": "display_data"
    },
    {
     "name": "stdout",
     "output_type": "stream",
     "text": [
      "    Bootstrap prediction for task \"2\"...\n"
     ]
    },
    {
     "data": {
      "application/vnd.jupyter.widget-view+json": {
       "model_id": "7da6cbfa214b498e8f53ab12ccc014d5",
       "version_major": 2,
       "version_minor": 0
      },
      "text/plain": [
       "  0%|          | 0/100 [00:00<?, ?it/s]"
      ]
     },
     "metadata": {},
     "output_type": "display_data"
    },
    {
     "name": "stdout",
     "output_type": "stream",
     "text": [
      "    Bootstrap prediction for task \"all\"...\n"
     ]
    },
    {
     "data": {
      "application/vnd.jupyter.widget-view+json": {
       "model_id": "fca12dad859c4d298a892c11b0cfc6fd",
       "version_major": 2,
       "version_minor": 0
      },
      "text/plain": [
       "  0%|          | 0/100 [00:00<?, ?it/s]"
      ]
     },
     "metadata": {},
     "output_type": "display_data"
    },
    {
     "name": "stdout",
     "output_type": "stream",
     "text": [
      "    Done!\n",
      "CPU times: user 3min 45s, sys: 16.1 s, total: 4min 1s\n",
      "Wall time: 3min 54s\n"
     ]
    }
   ],
   "source": [
    "%%time\n",
    "cell_execution_time = datetime.now(pytz.timezone('America/New_York')).strftime(\"%d/%m/%Y %H:%M:%S\")\n",
    "print(f'Start Cell Execution at : {cell_execution_time}')\n",
    "metrics_mtl_36_unsupervised_btstrp_df = run_mortality_prediction_task(model_type='multitask', cutoff_hours=36, gap_hours=18, bootstrap=True,\n",
    "                                                                      cohort_criteria_to_select='unsupervised', cohort_unsupervised_filename='../data/unsupervised_clusters_36.npy')"
   ]
  },
  {
   "cell_type": "code",
   "execution_count": 12,
   "id": "bfd74593-7bef-48c1-ba78-c6114a5ea6b0",
   "metadata": {
    "id": "bfd74593-7bef-48c1-ba78-c6114a5ea6b0",
    "tags": []
   },
   "outputs": [
    {
     "data": {
      "text/html": [
       "<div>\n",
       "<style scoped>\n",
       "    .dataframe tbody tr th:only-of-type {\n",
       "        vertical-align: middle;\n",
       "    }\n",
       "\n",
       "    .dataframe tbody tr th {\n",
       "        vertical-align: top;\n",
       "    }\n",
       "\n",
       "    .dataframe thead th {\n",
       "        text-align: right;\n",
       "    }\n",
       "</style>\n",
       "<table border=\"1\" class=\"dataframe\">\n",
       "  <thead>\n",
       "    <tr style=\"text-align: right;\">\n",
       "      <th></th>\n",
       "      <th></th>\n",
       "      <th>AUC</th>\n",
       "      <th>PPV</th>\n",
       "      <th>Specificity</th>\n",
       "    </tr>\n",
       "    <tr>\n",
       "      <th>Cohort</th>\n",
       "      <th>Sample</th>\n",
       "      <th></th>\n",
       "      <th></th>\n",
       "      <th></th>\n",
       "    </tr>\n",
       "  </thead>\n",
       "  <tbody>\n",
       "    <tr>\n",
       "      <th rowspan=\"5\" valign=\"top\">0</th>\n",
       "      <th>1</th>\n",
       "      <td>0.772</td>\n",
       "      <td>0.174</td>\n",
       "      <td>0.575</td>\n",
       "    </tr>\n",
       "    <tr>\n",
       "      <th>2</th>\n",
       "      <td>0.775</td>\n",
       "      <td>0.155</td>\n",
       "      <td>0.583</td>\n",
       "    </tr>\n",
       "    <tr>\n",
       "      <th>3</th>\n",
       "      <td>0.760</td>\n",
       "      <td>0.166</td>\n",
       "      <td>0.578</td>\n",
       "    </tr>\n",
       "    <tr>\n",
       "      <th>4</th>\n",
       "      <td>0.750</td>\n",
       "      <td>0.143</td>\n",
       "      <td>0.559</td>\n",
       "    </tr>\n",
       "    <tr>\n",
       "      <th>5</th>\n",
       "      <td>0.770</td>\n",
       "      <td>0.161</td>\n",
       "      <td>0.579</td>\n",
       "    </tr>\n",
       "    <tr>\n",
       "      <th>...</th>\n",
       "      <th>...</th>\n",
       "      <td>...</td>\n",
       "      <td>...</td>\n",
       "      <td>...</td>\n",
       "    </tr>\n",
       "    <tr>\n",
       "      <th rowspan=\"5\" valign=\"top\">Macro</th>\n",
       "      <th>96</th>\n",
       "      <td>0.846</td>\n",
       "      <td>0.141</td>\n",
       "      <td>0.700</td>\n",
       "    </tr>\n",
       "    <tr>\n",
       "      <th>97</th>\n",
       "      <td>0.839</td>\n",
       "      <td>0.171</td>\n",
       "      <td>0.717</td>\n",
       "    </tr>\n",
       "    <tr>\n",
       "      <th>98</th>\n",
       "      <td>0.860</td>\n",
       "      <td>0.175</td>\n",
       "      <td>0.755</td>\n",
       "    </tr>\n",
       "    <tr>\n",
       "      <th>99</th>\n",
       "      <td>0.847</td>\n",
       "      <td>0.175</td>\n",
       "      <td>0.726</td>\n",
       "    </tr>\n",
       "    <tr>\n",
       "      <th>100</th>\n",
       "      <td>0.850</td>\n",
       "      <td>0.180</td>\n",
       "      <td>0.752</td>\n",
       "    </tr>\n",
       "  </tbody>\n",
       "</table>\n",
       "<p>500 rows × 3 columns</p>\n",
       "</div>"
      ],
      "text/plain": [
       "                 AUC    PPV  Specificity\n",
       "Cohort Sample                           \n",
       "0      1       0.772  0.174        0.575\n",
       "       2       0.775  0.155        0.583\n",
       "       3       0.760  0.166        0.578\n",
       "       4       0.750  0.143        0.559\n",
       "       5       0.770  0.161        0.579\n",
       "...              ...    ...          ...\n",
       "Macro  96      0.846  0.141        0.700\n",
       "       97      0.839  0.171        0.717\n",
       "       98      0.860  0.175        0.755\n",
       "       99      0.847  0.175        0.726\n",
       "       100     0.850  0.180        0.752\n",
       "\n",
       "[500 rows x 3 columns]"
      ]
     },
     "execution_count": 12,
     "metadata": {},
     "output_type": "execute_result"
    }
   ],
   "source": [
    "pd.options.display.max_rows = 20\n",
    "metrics_mtl_36_unsupervised_btstrp_df.round(3)"
   ]
  },
  {
   "cell_type": "markdown",
   "id": "93d467e8-64bd-4760-b740-b2ef4a81a030",
   "metadata": {
    "id": "93d467e8-64bd-4760-b740-b2ef4a81a030"
   },
   "source": [
    "#### 3.1.3. Summary"
   ]
  },
  {
   "cell_type": "markdown",
   "id": "be96e341-947e-478f-a0c7-dcee311bf307",
   "metadata": {
    "id": "be96e341-947e-478f-a0c7-dcee311bf307"
   },
   "source": [
    "Similar to Table 4 in paper, the dataframe below summarizes all results. Due to bootstrapping we will get 100 metric (AUC, PPV, or Specificity) values for every combination of experiment (36 hours), cohort type (careunits or unsupervised), and model type (global or multi-task. We will reduce that table in a next step."
   ]
  },
  {
   "cell_type": "code",
   "execution_count": 13,
   "id": "7d6d3f3e-6330-4c78-947f-f8aa3fe2b55b",
   "metadata": {
    "id": "7d6d3f3e-6330-4c78-947f-f8aa3fe2b55b"
   },
   "outputs": [],
   "source": [
    "# Load global and multitask dfs \n",
    "metrics_global_36_careunits_btstrp_df = pd.read_hdf('../data/results/model_global_36+18_careunits_bootstrap-ON.h5')\n",
    "metrics_global_36_unsupervised_btstrp_df = pd.read_hdf('../data/results/model_global_36+18_unsupervised_bootstrap-ON.h5')\n",
    "metrics_mtl_36_careunits_btstrp_df = pd.read_hdf('../data/results/model_multitask_36+18_careunits_bootstrap-ON.h5')\n",
    "metrics_mtl_36_unsupervised_btstrp_df = pd.read_hdf('../data/results/model_multitask_36+18_unsupervised_bootstrap-ON.h5')"
   ]
  },
  {
   "cell_type": "code",
   "execution_count": 14,
   "id": "6b8a245a-b426-4885-89cc-338aeb3dd619",
   "metadata": {
    "id": "6b8a245a-b426-4885-89cc-338aeb3dd619"
   },
   "outputs": [],
   "source": [
    "summary_a_btstrp_df = metrics_global_36_unsupervised_btstrp_df.reset_index()\n",
    "summary_a_btstrp_df.rename(columns={'index': 'Cohort'}, inplace=True)\n",
    "summary_a_btstrp_df['Cohort type'] = 'Unsupervised'\n",
    "summary_a_btstrp_df['Model'] = 'Global'\n",
    "summary_a_btstrp_df['Experiment'] = '36 hours'\n",
    "\n",
    "summary_b_btstrp_df = metrics_global_36_careunits_btstrp_df.reset_index()\n",
    "summary_b_btstrp_df.rename(columns={'index': 'Cohort'}, inplace=True)\n",
    "summary_b_btstrp_df['Cohort type'] = 'Careunits'\n",
    "summary_b_btstrp_df['Model'] = 'Global'\n",
    "summary_b_btstrp_df['Experiment'] = '36 hours'\n",
    "\n",
    "summary_c_btstrp_df = metrics_mtl_36_unsupervised_btstrp_df.reset_index()\n",
    "summary_c_btstrp_df.rename(columns={'index': 'Cohort'}, inplace=True)\n",
    "summary_c_btstrp_df['Cohort type'] = 'Unsupervised'\n",
    "summary_c_btstrp_df['Model'] = 'Multi-task'\n",
    "summary_c_btstrp_df['Experiment'] = '36 hours'\n",
    "\n",
    "summary_d_btstrp_df = metrics_mtl_36_careunits_btstrp_df.reset_index()\n",
    "summary_d_btstrp_df.rename(columns={'index': 'Cohort'}, inplace=True)\n",
    "summary_d_btstrp_df['Cohort type'] = 'Careunits'\n",
    "summary_d_btstrp_df['Model'] = 'Multi-task'\n",
    "summary_d_btstrp_df['Experiment'] = '36 hours'\n",
    "\n",
    "summary_36_btstrp_df = pd.concat([summary_a_btstrp_df, summary_b_btstrp_df, summary_c_btstrp_df, summary_d_btstrp_df])\n",
    "\n",
    "summary_btstrp_df = summary_36_btstrp_df\n",
    "\n",
    "# This is a trick using a categorical data type to have Macro and Micro after Cohort names while displaying\n",
    "from pandas.api.types import CategoricalDtype\n",
    "cohort = CategoricalDtype(['0', '1', '2', 'CCU', 'CSRU', 'MICU', 'SICU', 'TSICU', 'Macro', 'Micro'], ordered=True)\n",
    "summary_btstrp_df['Cohort'] = summary_btstrp_df['Cohort'].astype(cohort)\n",
    "summary_btstrp_df = summary_btstrp_df.dropna()\n",
    "\n",
    "summary_btstrp_df = pd.melt(summary_btstrp_df, id_vars=['Cohort', 'Sample', 'Cohort type', 'Model', 'Experiment'], var_name='Metric')\n",
    "summary_btstrp_df = summary_btstrp_df.set_index(['Experiment', 'Cohort type', 'Cohort', 'Sample'])\n",
    "summary_btstrp_df = summary_btstrp_df.pivot(columns=['Metric', 'Model'], values='value')\n",
    "summary_btstrp_df = summary_btstrp_df.round(3)\n",
    "# Now summary_btstrp_df has all bootstrapped samples with right multi-indices for rows and columns!"
   ]
  },
  {
   "cell_type": "markdown",
   "id": "29dba52d-a5a5-4334-9250-1cce29f55065",
   "metadata": {
    "id": "29dba52d-a5a5-4334-9250-1cce29f55065"
   },
   "source": [
    "##### 3.1.3.1. Mean values of metrics from bootstrapped samples"
   ]
  },
  {
   "cell_type": "markdown",
   "id": "30c87f18-b85e-461c-bdb4-0061f800bd91",
   "metadata": {
    "id": "30c87f18-b85e-461c-bdb4-0061f800bd91"
   },
   "source": [
    "Let's get the mean values of the 100 bootstrapped samples:"
   ]
  },
  {
   "cell_type": "code",
   "execution_count": 15,
   "id": "404d228b-ef74-4685-bfef-9e66109445ee",
   "metadata": {
    "id": "404d228b-ef74-4685-bfef-9e66109445ee"
   },
   "outputs": [
    {
     "data": {
      "text/html": [
       "<div>\n",
       "<style scoped>\n",
       "    .dataframe tbody tr th:only-of-type {\n",
       "        vertical-align: middle;\n",
       "    }\n",
       "\n",
       "    .dataframe tbody tr th {\n",
       "        vertical-align: top;\n",
       "    }\n",
       "\n",
       "    .dataframe thead tr th {\n",
       "        text-align: left;\n",
       "    }\n",
       "\n",
       "    .dataframe thead tr:last-of-type th {\n",
       "        text-align: right;\n",
       "    }\n",
       "</style>\n",
       "<table border=\"1\" class=\"dataframe\">\n",
       "  <thead>\n",
       "    <tr>\n",
       "      <th></th>\n",
       "      <th></th>\n",
       "      <th>Metric</th>\n",
       "      <th colspan=\"2\" halign=\"left\">AUC</th>\n",
       "      <th colspan=\"2\" halign=\"left\">PPV</th>\n",
       "      <th colspan=\"2\" halign=\"left\">Specificity</th>\n",
       "    </tr>\n",
       "    <tr>\n",
       "      <th></th>\n",
       "      <th></th>\n",
       "      <th>Model</th>\n",
       "      <th>Global</th>\n",
       "      <th>Multi-task</th>\n",
       "      <th>Global</th>\n",
       "      <th>Multi-task</th>\n",
       "      <th>Global</th>\n",
       "      <th>Multi-task</th>\n",
       "    </tr>\n",
       "    <tr>\n",
       "      <th>Experiment</th>\n",
       "      <th>Cohort type</th>\n",
       "      <th>Cohort</th>\n",
       "      <th></th>\n",
       "      <th></th>\n",
       "      <th></th>\n",
       "      <th></th>\n",
       "      <th></th>\n",
       "      <th></th>\n",
       "    </tr>\n",
       "  </thead>\n",
       "  <tbody>\n",
       "    <tr>\n",
       "      <th rowspan=\"12\" valign=\"top\">36 hours</th>\n",
       "      <th rowspan=\"7\" valign=\"top\">Careunits</th>\n",
       "      <th>CCU</th>\n",
       "      <td>0.903</td>\n",
       "      <td>0.899</td>\n",
       "      <td>0.295</td>\n",
       "      <td>0.239</td>\n",
       "      <td>0.883</td>\n",
       "      <td>0.850</td>\n",
       "    </tr>\n",
       "    <tr>\n",
       "      <th>CSRU</th>\n",
       "      <td>0.841</td>\n",
       "      <td>0.898</td>\n",
       "      <td>0.062</td>\n",
       "      <td>0.093</td>\n",
       "      <td>0.760</td>\n",
       "      <td>0.854</td>\n",
       "    </tr>\n",
       "    <tr>\n",
       "      <th>MICU</th>\n",
       "      <td>0.833</td>\n",
       "      <td>0.833</td>\n",
       "      <td>0.208</td>\n",
       "      <td>0.221</td>\n",
       "      <td>0.690</td>\n",
       "      <td>0.712</td>\n",
       "    </tr>\n",
       "    <tr>\n",
       "      <th>SICU</th>\n",
       "      <td>0.854</td>\n",
       "      <td>0.841</td>\n",
       "      <td>0.179</td>\n",
       "      <td>0.147</td>\n",
       "      <td>0.764</td>\n",
       "      <td>0.697</td>\n",
       "    </tr>\n",
       "    <tr>\n",
       "      <th>TSICU</th>\n",
       "      <td>0.896</td>\n",
       "      <td>0.899</td>\n",
       "      <td>0.232</td>\n",
       "      <td>0.248</td>\n",
       "      <td>0.811</td>\n",
       "      <td>0.829</td>\n",
       "    </tr>\n",
       "    <tr>\n",
       "      <th>Macro</th>\n",
       "      <td>0.865</td>\n",
       "      <td>0.874</td>\n",
       "      <td>0.195</td>\n",
       "      <td>0.189</td>\n",
       "      <td>0.782</td>\n",
       "      <td>0.788</td>\n",
       "    </tr>\n",
       "    <tr>\n",
       "      <th>Micro</th>\n",
       "      <td>0.870</td>\n",
       "      <td>0.874</td>\n",
       "      <td>0.189</td>\n",
       "      <td>0.194</td>\n",
       "      <td>0.772</td>\n",
       "      <td>0.779</td>\n",
       "    </tr>\n",
       "    <tr>\n",
       "      <th rowspan=\"5\" valign=\"top\">Unsupervised</th>\n",
       "      <th>0</th>\n",
       "      <td>0.800</td>\n",
       "      <td>0.784</td>\n",
       "      <td>0.177</td>\n",
       "      <td>0.173</td>\n",
       "      <td>0.642</td>\n",
       "      <td>0.629</td>\n",
       "    </tr>\n",
       "    <tr>\n",
       "      <th>1</th>\n",
       "      <td>0.926</td>\n",
       "      <td>0.911</td>\n",
       "      <td>0.227</td>\n",
       "      <td>0.187</td>\n",
       "      <td>0.879</td>\n",
       "      <td>0.845</td>\n",
       "    </tr>\n",
       "    <tr>\n",
       "      <th>2</th>\n",
       "      <td>0.855</td>\n",
       "      <td>0.852</td>\n",
       "      <td>0.184</td>\n",
       "      <td>0.180</td>\n",
       "      <td>0.746</td>\n",
       "      <td>0.739</td>\n",
       "    </tr>\n",
       "    <tr>\n",
       "      <th>Macro</th>\n",
       "      <td>0.860</td>\n",
       "      <td>0.849</td>\n",
       "      <td>0.196</td>\n",
       "      <td>0.180</td>\n",
       "      <td>0.756</td>\n",
       "      <td>0.738</td>\n",
       "    </tr>\n",
       "    <tr>\n",
       "      <th>Micro</th>\n",
       "      <td>0.870</td>\n",
       "      <td>0.860</td>\n",
       "      <td>0.190</td>\n",
       "      <td>0.178</td>\n",
       "      <td>0.774</td>\n",
       "      <td>0.755</td>\n",
       "    </tr>\n",
       "  </tbody>\n",
       "</table>\n",
       "</div>"
      ],
      "text/plain": [
       "Metric                            AUC               PPV             \\\n",
       "Model                          Global Multi-task Global Multi-task   \n",
       "Experiment Cohort type  Cohort                                       \n",
       "36 hours   Careunits    CCU     0.903      0.899  0.295      0.239   \n",
       "                        CSRU    0.841      0.898  0.062      0.093   \n",
       "                        MICU    0.833      0.833  0.208      0.221   \n",
       "                        SICU    0.854      0.841  0.179      0.147   \n",
       "                        TSICU   0.896      0.899  0.232      0.248   \n",
       "                        Macro   0.865      0.874  0.195      0.189   \n",
       "                        Micro   0.870      0.874  0.189      0.194   \n",
       "           Unsupervised 0       0.800      0.784  0.177      0.173   \n",
       "                        1       0.926      0.911  0.227      0.187   \n",
       "                        2       0.855      0.852  0.184      0.180   \n",
       "                        Macro   0.860      0.849  0.196      0.180   \n",
       "                        Micro   0.870      0.860  0.190      0.178   \n",
       "\n",
       "Metric                         Specificity             \n",
       "Model                               Global Multi-task  \n",
       "Experiment Cohort type  Cohort                         \n",
       "36 hours   Careunits    CCU          0.883      0.850  \n",
       "                        CSRU         0.760      0.854  \n",
       "                        MICU         0.690      0.712  \n",
       "                        SICU         0.764      0.697  \n",
       "                        TSICU        0.811      0.829  \n",
       "                        Macro        0.782      0.788  \n",
       "                        Micro        0.772      0.779  \n",
       "           Unsupervised 0            0.642      0.629  \n",
       "                        1            0.879      0.845  \n",
       "                        2            0.746      0.739  \n",
       "                        Macro        0.756      0.738  \n",
       "                        Micro        0.774      0.755  "
      ]
     },
     "execution_count": 15,
     "metadata": {},
     "output_type": "execute_result"
    }
   ],
   "source": [
    "pd.options.display.max_rows = 999\n",
    "summary_df = summary_btstrp_df.groupby(['Experiment', 'Cohort type', 'Cohort']).mean().round(3).dropna()\n",
    "summary_df"
   ]
  },
  {
   "cell_type": "markdown",
   "id": "e67d8c9a-dfd8-402b-9657-15bc85cb0a59",
   "metadata": {
    "id": "e67d8c9a-dfd8-402b-9657-15bc85cb0a59"
   },
   "source": [
    "##### 3.1.3.2 Wilcoxon Signed-Rank Test"
   ]
  },
  {
   "cell_type": "markdown",
   "id": "fdf3d152-1204-44fb-9d53-750239712492",
   "metadata": {
    "id": "fdf3d152-1204-44fb-9d53-750239712492"
   },
   "source": [
    "Now it is time to apply the Wilcoxon Signed-Rank Test. [This video](https://www.youtube.com/watch?v=v4ZHlTbTOK8) has a very good detailed explanation of the Wilcoxon Signed-Rank Test which is a non-parametric version of the paired t-test used when there are not many samples (which is our case)."
   ]
  },
  {
   "cell_type": "code",
   "execution_count": 16,
   "id": "a72dae71-aa7f-4956-b51a-ea3f51f0aa77",
   "metadata": {
    "id": "a72dae71-aa7f-4956-b51a-ea3f51f0aa77"
   },
   "outputs": [],
   "source": [
    "from scipy.stats import wilcoxon\n",
    "\n",
    "def calc_wilcoxon(grp_df, what):\n",
    "    if (what == 'auc'):\n",
    "        # calculate p-value for AUC using Wilcoxon Signed Rank Test\n",
    "        x = grp_df[('AUC', 'Global')]\n",
    "        y = grp_df[('AUC', 'Multi-task')]\n",
    "        _, pvalue = wilcoxon(x, y)\n",
    "\n",
    "    if (what == 'ppv'):\n",
    "        # calculate p-value for PPV using Wilcoxon Signed Rank Test\n",
    "        x = grp_df[('PPV', 'Global')]\n",
    "        y = grp_df[('PPV', 'Multi-task')]\n",
    "        _, pvalue = wilcoxon(x, y)\n",
    "    \n",
    "    if (what == 'specificity'):\n",
    "        # calculate p-value for AUC using Wilcoxon Signed=Rank Test\n",
    "        x = grp_df[('Specificity', 'Global')]\n",
    "        y = grp_df[('Specificity', 'Multi-task')]\n",
    "        _, pvalue = wilcoxon(x, y)\n",
    "\n",
    "    return pvalue"
   ]
  },
  {
   "cell_type": "code",
   "execution_count": 17,
   "id": "a373080a-62b1-47a2-ae13-bd5dd3433e7e",
   "metadata": {
    "id": "a373080a-62b1-47a2-ae13-bd5dd3433e7e"
   },
   "outputs": [
    {
     "data": {
      "text/html": [
       "<div>\n",
       "<style scoped>\n",
       "    .dataframe tbody tr th:only-of-type {\n",
       "        vertical-align: middle;\n",
       "    }\n",
       "\n",
       "    .dataframe tbody tr th {\n",
       "        vertical-align: top;\n",
       "    }\n",
       "\n",
       "    .dataframe thead tr th {\n",
       "        text-align: left;\n",
       "    }\n",
       "\n",
       "    .dataframe thead tr:last-of-type th {\n",
       "        text-align: right;\n",
       "    }\n",
       "</style>\n",
       "<table border=\"1\" class=\"dataframe\">\n",
       "  <thead>\n",
       "    <tr>\n",
       "      <th></th>\n",
       "      <th></th>\n",
       "      <th>Metric</th>\n",
       "      <th colspan=\"3\" halign=\"left\">AUC</th>\n",
       "      <th colspan=\"3\" halign=\"left\">PPV</th>\n",
       "      <th colspan=\"3\" halign=\"left\">Specificity</th>\n",
       "    </tr>\n",
       "    <tr>\n",
       "      <th></th>\n",
       "      <th></th>\n",
       "      <th>Model</th>\n",
       "      <th>Global</th>\n",
       "      <th>Multi-task</th>\n",
       "      <th>p-value</th>\n",
       "      <th>Global</th>\n",
       "      <th>Multi-task</th>\n",
       "      <th>p-value</th>\n",
       "      <th>Global</th>\n",
       "      <th>Multi-task</th>\n",
       "      <th>p-value</th>\n",
       "    </tr>\n",
       "    <tr>\n",
       "      <th>Experiment</th>\n",
       "      <th>Cohort type</th>\n",
       "      <th>Cohort</th>\n",
       "      <th></th>\n",
       "      <th></th>\n",
       "      <th></th>\n",
       "      <th></th>\n",
       "      <th></th>\n",
       "      <th></th>\n",
       "      <th></th>\n",
       "      <th></th>\n",
       "      <th></th>\n",
       "    </tr>\n",
       "  </thead>\n",
       "  <tbody>\n",
       "    <tr>\n",
       "      <th rowspan=\"12\" valign=\"top\">36 hours</th>\n",
       "      <th rowspan=\"7\" valign=\"top\">Careunits</th>\n",
       "      <th>CCU</th>\n",
       "      <td>0.903</td>\n",
       "      <td>0.899</td>\n",
       "      <td>1.175269e-05</td>\n",
       "      <td>0.295</td>\n",
       "      <td>0.239</td>\n",
       "      <td>5.167096e-17</td>\n",
       "      <td>0.883</td>\n",
       "      <td>0.850</td>\n",
       "      <td>2.532707e-14</td>\n",
       "    </tr>\n",
       "    <tr>\n",
       "      <th>CSRU</th>\n",
       "      <td>0.841</td>\n",
       "      <td>0.898</td>\n",
       "      <td>4.005303e-18</td>\n",
       "      <td>0.062</td>\n",
       "      <td>0.093</td>\n",
       "      <td>2.775637e-13</td>\n",
       "      <td>0.760</td>\n",
       "      <td>0.854</td>\n",
       "      <td>1.395428e-14</td>\n",
       "    </tr>\n",
       "    <tr>\n",
       "      <th>MICU</th>\n",
       "      <td>0.833</td>\n",
       "      <td>0.833</td>\n",
       "      <td>3.300302e-01</td>\n",
       "      <td>0.208</td>\n",
       "      <td>0.221</td>\n",
       "      <td>6.594415e-09</td>\n",
       "      <td>0.690</td>\n",
       "      <td>0.712</td>\n",
       "      <td>4.252830e-08</td>\n",
       "    </tr>\n",
       "    <tr>\n",
       "      <th>SICU</th>\n",
       "      <td>0.854</td>\n",
       "      <td>0.841</td>\n",
       "      <td>1.079661e-15</td>\n",
       "      <td>0.179</td>\n",
       "      <td>0.147</td>\n",
       "      <td>1.956847e-17</td>\n",
       "      <td>0.764</td>\n",
       "      <td>0.697</td>\n",
       "      <td>1.567086e-17</td>\n",
       "    </tr>\n",
       "    <tr>\n",
       "      <th>TSICU</th>\n",
       "      <td>0.896</td>\n",
       "      <td>0.899</td>\n",
       "      <td>1.360964e-03</td>\n",
       "      <td>0.232</td>\n",
       "      <td>0.248</td>\n",
       "      <td>1.324813e-04</td>\n",
       "      <td>0.811</td>\n",
       "      <td>0.829</td>\n",
       "      <td>6.619790e-05</td>\n",
       "    </tr>\n",
       "    <tr>\n",
       "      <th>Macro</th>\n",
       "      <td>0.865</td>\n",
       "      <td>0.874</td>\n",
       "      <td>7.935135e-17</td>\n",
       "      <td>0.195</td>\n",
       "      <td>0.189</td>\n",
       "      <td>2.222307e-05</td>\n",
       "      <td>0.782</td>\n",
       "      <td>0.788</td>\n",
       "      <td>6.182217e-03</td>\n",
       "    </tr>\n",
       "    <tr>\n",
       "      <th>Micro</th>\n",
       "      <td>0.870</td>\n",
       "      <td>0.874</td>\n",
       "      <td>1.870945e-12</td>\n",
       "      <td>0.189</td>\n",
       "      <td>0.194</td>\n",
       "      <td>1.539936e-04</td>\n",
       "      <td>0.772</td>\n",
       "      <td>0.779</td>\n",
       "      <td>3.899663e-04</td>\n",
       "    </tr>\n",
       "    <tr>\n",
       "      <th rowspan=\"5\" valign=\"top\">Unsupervised</th>\n",
       "      <th>0</th>\n",
       "      <td>0.800</td>\n",
       "      <td>0.784</td>\n",
       "      <td>1.667789e-17</td>\n",
       "      <td>0.177</td>\n",
       "      <td>0.173</td>\n",
       "      <td>2.681648e-03</td>\n",
       "      <td>0.642</td>\n",
       "      <td>0.629</td>\n",
       "      <td>1.205954e-03</td>\n",
       "    </tr>\n",
       "    <tr>\n",
       "      <th>1</th>\n",
       "      <td>0.926</td>\n",
       "      <td>0.911</td>\n",
       "      <td>7.153800e-18</td>\n",
       "      <td>0.227</td>\n",
       "      <td>0.187</td>\n",
       "      <td>2.178294e-15</td>\n",
       "      <td>0.879</td>\n",
       "      <td>0.845</td>\n",
       "      <td>7.206323e-16</td>\n",
       "    </tr>\n",
       "    <tr>\n",
       "      <th>2</th>\n",
       "      <td>0.855</td>\n",
       "      <td>0.852</td>\n",
       "      <td>4.719043e-05</td>\n",
       "      <td>0.184</td>\n",
       "      <td>0.180</td>\n",
       "      <td>4.050133e-02</td>\n",
       "      <td>0.746</td>\n",
       "      <td>0.739</td>\n",
       "      <td>5.245665e-02</td>\n",
       "    </tr>\n",
       "    <tr>\n",
       "      <th>Macro</th>\n",
       "      <td>0.860</td>\n",
       "      <td>0.849</td>\n",
       "      <td>3.640048e-18</td>\n",
       "      <td>0.196</td>\n",
       "      <td>0.180</td>\n",
       "      <td>5.197433e-16</td>\n",
       "      <td>0.756</td>\n",
       "      <td>0.738</td>\n",
       "      <td>2.457834e-13</td>\n",
       "    </tr>\n",
       "    <tr>\n",
       "      <th>Micro</th>\n",
       "      <td>0.870</td>\n",
       "      <td>0.860</td>\n",
       "      <td>5.271664e-18</td>\n",
       "      <td>0.190</td>\n",
       "      <td>0.178</td>\n",
       "      <td>4.413821e-16</td>\n",
       "      <td>0.774</td>\n",
       "      <td>0.755</td>\n",
       "      <td>3.937214e-16</td>\n",
       "    </tr>\n",
       "  </tbody>\n",
       "</table>\n",
       "</div>"
      ],
      "text/plain": [
       "Metric                            AUC                             PPV  \\\n",
       "Model                          Global Multi-task       p-value Global   \n",
       "Experiment Cohort type  Cohort                                          \n",
       "36 hours   Careunits    CCU     0.903      0.899  1.175269e-05  0.295   \n",
       "                        CSRU    0.841      0.898  4.005303e-18  0.062   \n",
       "                        MICU    0.833      0.833  3.300302e-01  0.208   \n",
       "                        SICU    0.854      0.841  1.079661e-15  0.179   \n",
       "                        TSICU   0.896      0.899  1.360964e-03  0.232   \n",
       "                        Macro   0.865      0.874  7.935135e-17  0.195   \n",
       "                        Micro   0.870      0.874  1.870945e-12  0.189   \n",
       "           Unsupervised 0       0.800      0.784  1.667789e-17  0.177   \n",
       "                        1       0.926      0.911  7.153800e-18  0.227   \n",
       "                        2       0.855      0.852  4.719043e-05  0.184   \n",
       "                        Macro   0.860      0.849  3.640048e-18  0.196   \n",
       "                        Micro   0.870      0.860  5.271664e-18  0.190   \n",
       "\n",
       "Metric                                                  Specificity  \\\n",
       "Model                          Multi-task       p-value      Global   \n",
       "Experiment Cohort type  Cohort                                        \n",
       "36 hours   Careunits    CCU         0.239  5.167096e-17       0.883   \n",
       "                        CSRU        0.093  2.775637e-13       0.760   \n",
       "                        MICU        0.221  6.594415e-09       0.690   \n",
       "                        SICU        0.147  1.956847e-17       0.764   \n",
       "                        TSICU       0.248  1.324813e-04       0.811   \n",
       "                        Macro       0.189  2.222307e-05       0.782   \n",
       "                        Micro       0.194  1.539936e-04       0.772   \n",
       "           Unsupervised 0           0.173  2.681648e-03       0.642   \n",
       "                        1           0.187  2.178294e-15       0.879   \n",
       "                        2           0.180  4.050133e-02       0.746   \n",
       "                        Macro       0.180  5.197433e-16       0.756   \n",
       "                        Micro       0.178  4.413821e-16       0.774   \n",
       "\n",
       "Metric                                                   \n",
       "Model                          Multi-task       p-value  \n",
       "Experiment Cohort type  Cohort                           \n",
       "36 hours   Careunits    CCU         0.850  2.532707e-14  \n",
       "                        CSRU        0.854  1.395428e-14  \n",
       "                        MICU        0.712  4.252830e-08  \n",
       "                        SICU        0.697  1.567086e-17  \n",
       "                        TSICU       0.829  6.619790e-05  \n",
       "                        Macro       0.788  6.182217e-03  \n",
       "                        Micro       0.779  3.899663e-04  \n",
       "           Unsupervised 0           0.629  1.205954e-03  \n",
       "                        1           0.845  7.206323e-16  \n",
       "                        2           0.739  5.245665e-02  \n",
       "                        Macro       0.738  2.457834e-13  \n",
       "                        Micro       0.755  3.937214e-16  "
      ]
     },
     "execution_count": 17,
     "metadata": {},
     "output_type": "execute_result"
    }
   ],
   "source": [
    "summary_df.loc[:, ('AUC', 'p-value')] = summary_btstrp_df.groupby(['Experiment', 'Cohort type', 'Cohort']).apply(calc_wilcoxon, what='auc')\n",
    "summary_df.loc[:, ('PPV', 'p-value')] = summary_btstrp_df.groupby(['Experiment', 'Cohort type', 'Cohort']).apply(calc_wilcoxon, what='ppv')\n",
    "summary_df.loc[:, ('Specificity', 'p-value')] = summary_btstrp_df.groupby(['Experiment', 'Cohort type', 'Cohort']).apply(calc_wilcoxon, what='specificity')\n",
    "cols = [('AUC', 'Global'), ('AUC', 'Multi-task'), ('AUC', 'p-value'),\n",
    "        ('PPV', 'Global'), ('PPV', 'Multi-task'), ('PPV', 'p-value'),\n",
    "        ('Specificity', 'Global'), ('Specificity', 'Multi-task'), ('Specificity', 'p-value')]\n",
    "summary_df = summary_df[cols]\n",
    "summary_df"
   ]
  },
  {
   "cell_type": "markdown",
   "id": "c7f9db64-0ea1-430f-bd7c-ad92c01d52d7",
   "metadata": {
    "id": "c7f9db64-0ea1-430f-bd7c-ad92c01d52d7"
   },
   "source": [
    "End time"
   ]
  },
  {
   "cell_type": "code",
   "execution_count": 18,
   "id": "3bcc3686-2ce2-49db-be67-fb2d5b218ceb",
   "metadata": {
    "id": "3bcc3686-2ce2-49db-be67-fb2d5b218ceb"
   },
   "outputs": [
    {
     "name": "stdout",
     "output_type": "stream",
     "text": [
      "End time: 21/04/2023 13:00:13\n",
      "This run took 0:19:40 hours:min:sec to run\n"
     ]
    }
   ],
   "source": [
    "# store/print end time to measure runtime\n",
    "endtime = datetime.now(pytz.timezone('America/New_York')).strftime(\"%d/%m/%Y %H:%M:%S\")\n",
    "print(f'End time: {endtime}')\n",
    "\n",
    "# store/print run time\n",
    "print(f'This run took {datetime.strptime(endtime, \"%d/%m/%Y %H:%M:%S\") - datetime.strptime(starttime, \"%d/%m/%Y %H:%M:%S\")} hours:min:sec to run')"
   ]
  }
 ],
 "metadata": {
  "colab": {
   "provenance": []
  },
  "kernelspec": {
   "display_name": "Python 3 (ipykernel)",
   "language": "python",
   "name": "python3"
  },
  "language_info": {
   "codemirror_mode": {
    "name": "ipython",
    "version": 3
   },
   "file_extension": ".py",
   "mimetype": "text/x-python",
   "name": "python",
   "nbconvert_exporter": "python",
   "pygments_lexer": "ipython3",
   "version": "3.10.9"
  },
  "toc-autonumbering": false,
  "toc-showcode": false,
  "toc-showmarkdowntxt": false,
  "toc-showtags": false
 },
 "nbformat": 4,
 "nbformat_minor": 5
}
