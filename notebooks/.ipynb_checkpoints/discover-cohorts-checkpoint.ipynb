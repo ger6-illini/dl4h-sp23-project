{
 "cells": [
  {
   "cell_type": "code",
   "execution_count": 1,
   "id": "ff6ddcb9-36fc-480b-9650-56b06805c55a",
   "metadata": {},
   "outputs": [
    {
     "name": "stderr",
     "output_type": "stream",
     "text": [
      "2023-04-01 15:46:25.201731: I tensorflow/core/platform/cpu_feature_guard.cc:193] This TensorFlow binary is optimized with oneAPI Deep Neural Network Library (oneDNN) to use the following CPU instructions in performance-critical operations:  SSE4.1 SSE4.2\n",
      "To enable them in other operations, rebuild TensorFlow with the appropriate compiler flags.\n"
     ]
    }
   ],
   "source": [
    "%load_ext autoreload\n",
    "%autoreload 2\n",
    "\n",
    "import numpy as np\n",
    "import pandas as pd\n",
    "\n",
    "import sys\n",
    "pathname = \"../code/\"\n",
    "if pathname not in sys.path:\n",
    "    sys.path.append(\"../code/\")\n",
    "\n",
    "from mtl_patients import get_summaries"
   ]
  },
  {
   "cell_type": "code",
   "execution_count": 2,
   "id": "dcb44206-c9d7-498a-9ff6-7f5a0f2fb9f2",
   "metadata": {},
   "outputs": [],
   "source": [
    "from mtl_patients import discover_cohorts"
   ]
  },
  {
   "cell_type": "code",
   "execution_count": null,
   "id": "ac425c76-7c49-4776-a89a-a1c6190d2099",
   "metadata": {},
   "outputs": [],
   "source": [
    "%%time\n",
    "cohort_unsupervised_24 = discover_cohorts(cutoff_hours=24, gap_hours=12, cohort_unsupervised_filename='../data/unsupervised_clusters_24.npy')"
   ]
  },
  {
   "cell_type": "code",
   "execution_count": null,
   "id": "6dbb0ae4-38c7-4741-b050-2054c05f0234",
   "metadata": {},
   "outputs": [],
   "source": [
    "%%time\n",
    "cohort_unsupervised_48 = discover_cohorts(cutoff_hours=48, gap_hours=24, num_clusters=2, cohort_unsupervised_filename='../data/unsupervised_clusters_48.npy')"
   ]
  },
  {
   "cell_type": "code",
   "execution_count": null,
   "id": "6fa22415-b6e6-4eee-bcad-61d3a573c614",
   "metadata": {},
   "outputs": [],
   "source": []
  }
 ],
 "metadata": {
  "kernelspec": {
   "display_name": "Python 3 (ipykernel)",
   "language": "python",
   "name": "python3"
  },
  "language_info": {
   "codemirror_mode": {
    "name": "ipython",
    "version": 3
   },
   "file_extension": ".py",
   "mimetype": "text/x-python",
   "name": "python",
   "nbconvert_exporter": "python",
   "pygments_lexer": "ipython3",
   "version": "3.10.9"
  }
 },
 "nbformat": 4,
 "nbformat_minor": 5
}
