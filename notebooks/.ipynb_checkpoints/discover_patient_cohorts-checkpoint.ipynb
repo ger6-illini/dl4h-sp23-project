{
 "cells": [
  {
   "cell_type": "markdown",
   "id": "4efd66a9",
   "metadata": {},
   "source": [
    "# Data Preprocessing"
   ]
  },
  {
   "cell_type": "code",
   "execution_count": 1,
   "id": "e49718f1",
   "metadata": {},
   "outputs": [],
   "source": [
    "import pandas as pd\n",
    "import numpy as np\n",
    "\n",
    "pd.set_option('display.max_rows', 500)\n",
    "\n",
    "mimic_extract_filename = '../data/all_hourly_data.h5'\n",
    "mimic_sqlalchemy_db_uri = 'postgresql:///mimic'\n",
    "cutoff_hours = 24  # number of hours in the period of stay to be used for mortality prediction\n",
    "gap_hours = 12     # gap between end of observation period and prediction period to minimize label leakage"
   ]
  },
  {
   "cell_type": "code",
   "execution_count": 2,
   "id": "70c7821e",
   "metadata": {},
   "outputs": [],
   "source": [
    "def transform_into_zscores(x, mean_dict, stdev_dict):\n",
    "    \"\"\" \n",
    "    Transforms features values into z-scores between -4 and 4\n",
    "    rounded to the closest integer. Missing values are assigned 9.\n",
    "    \n",
    "    Parameters\n",
    "    ----------\n",
    "    x : float\n",
    "        Variable that needs to be transformed.\n",
    "    mean_dict: dict of float\n",
    "        Dictionary of mean values by vital/lab.\n",
    "    stdev_dict: dict of float\n",
    "        Dictionary of standard deviation values by vital/lab.\n",
    "\n",
    "    Return\n",
    "    ------\n",
    "    int\n",
    "        z-score clipped to [-4, 4] or 9 if it is a missing value.\n",
    "    \"\"\"\n",
    "\n",
    "    zscore = 1.0 * (x - mean_dict[x.name]) / stdev_dict[x.name]\n",
    "    zscore = zscore.round()\n",
    "    zscore = zscore.clip(-4, 4)\n",
    "    zscore = zscore.fillna(9)\n",
    "    zscore = zscore.round(0).astype(int)\n",
    "    return zscore"
   ]
  },
  {
   "cell_type": "code",
   "execution_count": 3,
   "id": "3cf1ab69",
   "metadata": {},
   "outputs": [],
   "source": [
    "def hours_to_pad(df, max_hours):\n",
    "    \"\"\"\n",
    "    Returns set of hours needed to complete the `max_hours` set on a per patient basis.\n",
    "    Returns -1 if patient has measurements for all hours.\n",
    "    \"\"\"\n",
    "    \n",
    "    cur_hours = set(df.index.get_level_values(1))\n",
    "    pad_hours = set(range(max_hours)) - cur_hours\n",
    "    if len(pad_hours) > 0:\n",
    "        return pad_hours\n",
    "    else:\n",
    "        return -1"
   ]
  },
  {
   "cell_type": "code",
   "execution_count": null,
   "id": "e0d5f5e1",
   "metadata": {},
   "outputs": [],
   "source": [
    "# the next two MIMIC-Extract pipeline dataframes are needed to reproduce the paper\n",
    "patients_df = pd.read_hdf(mimic_extract_filename, 'patients')\n",
    "vitals_labs_mean_df = pd.read_hdf(mimic_extract_filename, 'vitals_labs_mean')\n",
    "\n",
    "# MIMIC-Extract pipeline does not provide the feature `timecmo_chart` that is\n",
    "# needed to reproduce the paper; we need to get it from the MIMIC PostgreSQL database\n",
    "# inside the concept table `code_status` and add it to the `patients_df` dataframe\n",
    "code_status_df = pd.read_sql_table('code_status', mimic_sqlalchemy_db_uri)\n",
    "code_status_df.set_index(['subject_id', 'hadm_id', 'icustay_id'], inplace=True)\n",
    "patients_df = pd.merge(patients_df, code_status_df['timecmo_chart'], left_index=True, right_index=True)"
   ]
  },
  {
   "cell_type": "code",
   "execution_count": null,
   "id": "b4520b8c",
   "metadata": {},
   "outputs": [],
   "source": [
    "#--------------------------------------------------------------------------\n",
    "# paper considers in-hospital mortality as any of these three events:\n",
    "#  1) Death = `deathtime` feature not null\n",
    "#  2) A note of \"Do Not Resuscitate\" (DNR) = `dnr_first_charttime` not null\n",
    "#  3) A note of \"Comfort Measures Only\" (CMO) = `timecmo_chart` not null\n",
    "# earliest time of the three events is considered the mortality time\n",
    "# `mort_time` for all experiments described in the paper\n",
    "patients_df['morttime'] = patients_df[['deathtime', 'dnr_first_charttime', 'timecmo_chart']].min(axis=1)\n",
    "# `mort_flag` is True if patient dies in hospital or False if not\n",
    "# this flag will be used as our prediction label (`Y`)\n",
    "patients_df['mort_flag'] = np.where(patients_df['morttime'].isnull(), False, True)\n",
    "\n",
    "# calculate hours elapsed between patient admitted into the ICU\n",
    "# and same patient being discharged from the hospital\n",
    "# (this is called period of stay in the paper)\n",
    "patients_df['hours_in_icu'] = patients_df['dischtime'] - patients_df['intime']\n",
    "patients_df['hours_in_icu'] = patients_df['hours_in_icu'].apply(lambda x: x.total_seconds() / 3600)\n",
    "\n",
    "# calculate hours elapsed between patient admitted into the ICU\n",
    "# and same patient dying (or reaching either DNR or CMO condition)\n",
    "patients_df['hours_until_mort'] = patients_df['morttime'] - patients_df['intime']\n",
    "patients_df['hours_until_mort'] = patients_df['hours_until_mort'].apply(lambda x: x.total_seconds() / 3600)\n",
    "\n",
    "# exclusion criteria 1: remove patients with a period of stay lower than `cutoff_hours` (e.g. 24 hours)\n",
    "patients_df = patients_df[patients_df['hours_in_icu'] >= cutoff_hours]\n",
    "\n",
    "# exclusion criteria 2: remove patients that died in the period of stay or the gap period (e.g. first 24+12 hours)\n",
    "patients_df = patients_df[patients_df['hours_in_icu'] >= cutoff_hours + gap_hours]"
   ]
  },
  {
   "cell_type": "code",
   "execution_count": null,
   "id": "81fefc3e",
   "metadata": {},
   "outputs": [],
   "source": [
    "#--------------------------------------\n",
    "# Time to switch to physiological data!\n",
    "\n",
    "# paper considers the following 29 vitals and labs \n",
    "vitals_labs_to_keep_list = [\n",
    "    'anion gap',\n",
    "    'bicarbonate',\n",
    "    'blood urea nitrogen',\n",
    "    'chloride',\n",
    "    'creatinine',\n",
    "    'diastolic blood pressure',\n",
    "    'fraction inspired oxygen',\n",
    "    'glascow coma scale total',\n",
    "    'glucose',\n",
    "    'heart rate',\n",
    "    'hematocrit',\n",
    "    'hemoglobin',\n",
    "    'lactate',\n",
    "    'magnesium',\n",
    "    'mean blood pressure',\n",
    "    'oxygen saturation',\n",
    "    'partial thromboplastin time',\n",
    "    'phosphate',\n",
    "    'platelets',\n",
    "    'potassium',\n",
    "    'prothrombin time inr',\n",
    "    'prothrombin time pt',\n",
    "    'respiratory rate',\n",
    "    'sodium',\n",
    "    'systolic blood pressure',\n",
    "    'temperature',\n",
    "    'weight',\n",
    "    'white blood cell count',\n",
    "    'ph'\n",
    "]\n",
    "\n",
    "# subset MIMIC-Extract data to the list of vitals/labs used in the paper\n",
    "vitals_labs_df = vitals_labs_mean_df[vitals_labs_to_keep_list]"
   ]
  },
  {
   "cell_type": "code",
   "execution_count": null,
   "id": "eb6baba3",
   "metadata": {},
   "outputs": [],
   "source": [
    "# let's discretize the physiological features by:\n",
    "#  1) Converting them into z-scores\n",
    "#  2) Rounding the resulting z-scores to integers and clipping them to [-4, 4]\n",
    "#  3) Replacing z-scores with value 9 if they are NaN\n",
    "#  4) Dummifying the resulting columns and removing the NaN columns\n",
    "\n",
    "# create two dictionaries of mean and standard deviation values by vital/lab\n",
    "# since these dictionaries will be used to calculate the z-scores next\n",
    "mean_dict = vitals_labs_df.groupby(['subject_id']).mean().mean().to_dict()\n",
    "stdev_dict = vitals_labs_df.std().to_dict()\n",
    "\n",
    "# convert values for every vital/lab into z-scores rounded to the nearest integer,\n",
    "# clipped between [-4, 4] and replaced with 9 if NaN\n",
    "vitals_labs_df = vitals_labs_df.apply(lambda x: transform_into_zscores(x, mean_dict, stdev_dict), axis=0)\n",
    "\n",
    "# dummify all columns\n",
    "vitals_labs_df = pd.get_dummies(vitals_labs_df, columns=vitals_labs_df.columns)\n",
    "\n",
    "# remove NaN columns (those ending in '_9')\n",
    "nan_columns = [column for column in vitals_labs_df.columns if '_9' in column]\n",
    "vitals_labs_df.drop(nan_columns, axis=1, inplace=True)\n",
    "\n",
    "# just keep `cutoff_hours` hours of data (e.g. 24 hours)\n",
    "vitals_labs_df = vitals_labs_df.query(f'hours_in < {cutoff_hours}')\n",
    "\n",
    "# remove `hadm_id` and `icustay_id`\n",
    "vitals_labs_df.reset_index(['hadm_id', 'icustay_id'], drop=True, inplace=True)"
   ]
  },
  {
   "cell_type": "code",
   "execution_count": null,
   "id": "449e8d00",
   "metadata": {},
   "outputs": [],
   "source": [
    "vitals_labs_df.groupby(level=0).apply(hours_to_pad, cutoff_hours)"
   ]
  },
  {
   "cell_type": "code",
   "execution_count": null,
   "id": "5c57f6b0",
   "metadata": {},
   "outputs": [],
   "source": [
    "vitals_labs_df"
   ]
  },
  {
   "cell_type": "code",
   "execution_count": null,
   "id": "ff3e39dc",
   "metadata": {},
   "outputs": [],
   "source": []
  }
 ],
 "metadata": {
  "kernelspec": {
   "display_name": "Python 3 (ipykernel)",
   "language": "python",
   "name": "python3"
  },
  "language_info": {
   "codemirror_mode": {
    "name": "ipython",
    "version": 3
   },
   "file_extension": ".py",
   "mimetype": "text/x-python",
   "name": "python",
   "nbconvert_exporter": "python",
   "pygments_lexer": "ipython3",
   "version": "3.10.9"
  }
 },
 "nbformat": 4,
 "nbformat_minor": 5
}
