{
 "cells": [
  {
   "cell_type": "markdown",
   "id": "97cd5f07",
   "metadata": {},
   "source": [
    "# Testing Baseline with Bootstrapping (Global Model)"
   ]
  },
  {
   "cell_type": "markdown",
   "id": "7025cd50",
   "metadata": {},
   "source": [
    "Importing the functions needed from the `mtl_patients` module:"
   ]
  },
  {
   "cell_type": "code",
   "execution_count": 1,
   "id": "531ddfa8",
   "metadata": {},
   "outputs": [
    {
     "name": "stderr",
     "output_type": "stream",
     "text": [
      "2023-03-29 17:52:29.255112: I tensorflow/core/platform/cpu_feature_guard.cc:193] This TensorFlow binary is optimized with oneAPI Deep Neural Network Library (oneDNN) to use the following CPU instructions in performance-critical operations:  SSE4.1 SSE4.2\n",
      "To enable them in other operations, rebuild TensorFlow with the appropriate compiler flags.\n"
     ]
    }
   ],
   "source": [
    "%load_ext autoreload\n",
    "%autoreload 2\n",
    "\n",
    "import numpy as np\n",
    "import pandas as pd\n",
    "\n",
    "import sys\n",
    "pathname = \"../code/\"\n",
    "if pathname not in sys.path:\n",
    "    sys.path.append(\"../code/\")\n",
    "\n",
    "from mtl_patients import run_mortality_prediction_task"
   ]
  },
  {
   "cell_type": "markdown",
   "id": "ad3bb784",
   "metadata": {},
   "source": [
    "## `run_mortality_prediction_task()` step by step"
   ]
  },
  {
   "cell_type": "markdown",
   "id": "e7998eda",
   "metadata": {},
   "source": [
    "### Imports needed"
   ]
  },
  {
   "cell_type": "code",
   "execution_count": 15,
   "id": "8c3a0f62",
   "metadata": {},
   "outputs": [],
   "source": [
    "import os\n",
    "import tensorflow as tf\n",
    "import numpy as np\n",
    "import pandas as pd\n",
    "import random\n",
    "from keras.callbacks import EarlyStopping\n",
    "from keras.layers import Input, Dense, LSTM, RepeatVector\n",
    "from keras.models import Model, Sequential\n",
    "from keras.optimizers import Adam\n",
    "from sklearn.metrics import roc_auc_score, precision_score, recall_score\n",
    "from sklearn.mixture import GaussianMixture\n",
    "from sklearn.model_selection import train_test_split"
   ]
  },
  {
   "cell_type": "code",
   "execution_count": 4,
   "id": "66cad171",
   "metadata": {},
   "outputs": [],
   "source": [
    "from mtl_patients import set_global_determinism, prepare_data, stratified_split, create_single_task_learning_model"
   ]
  },
  {
   "cell_type": "markdown",
   "id": "18b05ff1",
   "metadata": {},
   "source": [
    "### Arguments"
   ]
  },
  {
   "cell_type": "code",
   "execution_count": 8,
   "id": "723f0622",
   "metadata": {},
   "outputs": [],
   "source": [
    "model_type='global'\n",
    "cutoff_hours=24\n",
    "gap_hours=12\n",
    "save_to_folder='../data/'\n",
    "cohort_criteria_to_select='careunits'\n",
    "seed=0\n",
    "cohort_unsupervised_filename='../data/unsupervised_clusters.npy'\n",
    "lstm_layer_size=16\n",
    "epochs=30\n",
    "learning_rate=0.0001\n",
    "use_cohort_inv_freq_weights=False\n",
    "bootstrap=False\n",
    "num_bootstrapped_samples=100\n",
    "SEED=0"
   ]
  },
  {
   "cell_type": "markdown",
   "id": "da0439d5",
   "metadata": {},
   "source": [
    "### Code common to all models"
   ]
  },
  {
   "cell_type": "code",
   "execution_count": 9,
   "id": "a2e591be",
   "metadata": {},
   "outputs": [
    {
     "name": "stdout",
     "output_type": "stream",
     "text": [
      "++++++++++++++++++++++++++++++++++++++++++++++++++++++++++++++++++++++++++++++++\n",
      "Preparing the data\n",
      "--------------------------------------------------------------------------------\n",
      "    Loading data from MIMIC-Extract pipeline...\n",
      "    Adding SAPS II score to static dataset...\n",
      "    Adding mortality columns to static dataset...\n",
      "    Discretizing X...\n",
      "        X.shape: (2200954, 33), X.subject_id.nunique(): 34472\n",
      "        X_discrete.shape: (2200954, 225), X_discrete.subject_id.nunique(): 34472\n",
      "    Keep only X_discrete[X_discrete.hours_in < 24]...\n",
      "        New X_discrete.shape: (808539, 223), new X_discrete.subject_id.nunique(): 34472\n",
      "    Padding patients with less than 24 hours of data...\n",
      "    Merging dataframes to create X_full...\n",
      "    Mortality per careunit...\n",
      "        MICU: 1138 out of 11403\n",
      "        SICU: 409 out of 5187\n",
      "        CCU: 344 out of 4907\n",
      "        CSRU: 139 out of 6971\n",
      "        TSICU: 291 out of 4245\n",
      "    Final shape of X: (32713, 24, 232)\n",
      "    Number of positive samples: 2321\n",
      "    Done!\n",
      "++++++++++++++++++++++++++++++++++++++++++++++++++++++++++++++++++++++++++++++++\n",
      "Running the Mortality Prediction Task\n",
      "--------------------------------------------------------------------------------\n",
      "    Splitting data into train/validation/test sets...\n",
      "    Calculating number of training samples in cohort...\n",
      "        # of patients in cohort CCU is 3464\n",
      "        # of patients in cohort CSRU is 4848\n",
      "        # of patients in cohort MICU is 7912\n",
      "        # of patients in cohort SICU is 3696\n",
      "        # of patients in cohort TSICU is 2978\n"
     ]
    }
   ],
   "source": [
    "# setting the seeds to get reproducible results\n",
    "# taken from https://stackoverflow.com/questions/36288235/how-to-get-stable-results-with-tensorflow-setting-random-seed\n",
    "set_global_determinism(seed=seed)\n",
    "\n",
    "# create folders to store models and results\n",
    "for folder in ['results', 'models']:\n",
    "    if not os.path.exists(os.path.join(save_to_folder, folder)):\n",
    "        os.makedirs(os.path.join(save_to_folder, folder))\n",
    "\n",
    "X, Y, careunits, sapsii_quartile, subject_ids = prepare_data(cutoff_hours=cutoff_hours, gap_hours=gap_hours)\n",
    "Y = Y.astype(int) # Y is originally a boolean\n",
    "\n",
    "print('+' * 80, flush=True)\n",
    "print('Running the Mortality Prediction Task', flush=True)\n",
    "print('-' * 80, flush=True)\n",
    "\n",
    "# fetch right cohort criteria\n",
    "if cohort_criteria_to_select == 'careunits':\n",
    "    cohort_criteria = careunits\n",
    "elif cohort_criteria_to_select == 'sapsii_quartile':\n",
    "    cohort_criteria = sapsii_quartile\n",
    "elif cohort_criteria_to_select == 'unsupervised':\n",
    "    cohort_criteria = np.load(f\"{cohort_unsupervised_filename}\")\n",
    "\n",
    "# Do train/validation/test split using `cohort_criteria` as the cohort classifier\n",
    "print('    Splitting data into train/validation/test sets...', flush=True)\n",
    "X_train, X_val, X_test, y_train, y_val, y_test, cohorts_train, cohorts_val, cohorts_test = \\\n",
    "    stratified_split(X, Y, cohort_criteria, train_val_random_seed=seed)\n",
    "\n",
    "# one task by distinct cohort\n",
    "tasks = np.unique(cohorts_train)\n",
    "\n",
    "# calculate number of samples per cohort and its reciprocal\n",
    "# (to be used in sample weight calculation)\n",
    "print('    Calculating number of training samples in cohort...', flush=True)\n",
    "task_weights = {}\n",
    "for cohort in tasks:\n",
    "    num_samples_in_cohort = len(np.where(cohorts_train == cohort)[0])\n",
    "    print(f\"        # of patients in cohort {cohort} is {str(num_samples_in_cohort)}\")\n",
    "    task_weights[cohort] = len(X_train) / num_samples_in_cohort\n",
    "\n",
    "sample_weight = None\n",
    "if use_cohort_inv_freq_weights:\n",
    "    # calculate sample weight as the cohort's inverse frequency corresponding to each sample\n",
    "    sample_weight = np.array([task_weights[cohort] for cohort in cohorts_train])\n",
    "\n",
    "model_filename = f\"{save_to_folder}models/model_{cutoff_hours}+{gap_hours}_{cohort_criteria_to_select}\"\n",
    "results_filename = f'{save_to_folder}results/model_{cutoff_hours}+{gap_hours}_{cohort_criteria_to_select}.h5'"
   ]
  },
  {
   "cell_type": "markdown",
   "id": "6399f0d4",
   "metadata": {},
   "source": [
    "### Global model common code"
   ]
  },
  {
   "cell_type": "code",
   "execution_count": 12,
   "id": "2b9375f6",
   "metadata": {},
   "outputs": [
    {
     "name": "stdout",
     "output_type": "stream",
     "text": [
      "    ~~~~~~~~~~~~~~~~~~~~~~~~~~~~~~~~~~~~~~~~~~~~~~~~~~~~~~~~~~~~~~~~~~~~~~~~~~~~\n",
      "    Training 'global' model...\n",
      "Model: \"sequential\"\n",
      "_________________________________________________________________\n",
      " Layer (type)                Output Shape              Param #   \n",
      "=================================================================\n",
      " lstm (LSTM)                 (None, 16)                15936     \n",
      "                                                                 \n",
      " dense (Dense)               (None, 1)                 17        \n",
      "                                                                 \n",
      "=================================================================\n",
      "Total params: 15,953\n",
      "Trainable params: 15,953\n",
      "Non-trainable params: 0\n",
      "_________________________________________________________________\n",
      "None\n"
     ]
    },
    {
     "name": "stderr",
     "output_type": "stream",
     "text": [
      "2023-03-29 18:36:54.965921: I tensorflow/core/platform/cpu_feature_guard.cc:193] This TensorFlow binary is optimized with oneAPI Deep Neural Network Library (oneDNN) to use the following CPU instructions in performance-critical operations:  SSE4.1 SSE4.2\n",
      "To enable them in other operations, rebuild TensorFlow with the appropriate compiler flags.\n"
     ]
    },
    {
     "name": "stdout",
     "output_type": "stream",
     "text": [
      "Epoch 1/30\n",
      "229/229 [==============================] - 4s 12ms/step - loss: 0.3924 - accuracy: 0.9268 - val_loss: 0.2854 - val_accuracy: 0.9291\n",
      "Epoch 2/30\n",
      "229/229 [==============================] - 3s 11ms/step - loss: 0.2627 - accuracy: 0.9290 - val_loss: 0.2531 - val_accuracy: 0.9291\n",
      "Epoch 3/30\n",
      "229/229 [==============================] - 3s 11ms/step - loss: 0.2367 - accuracy: 0.9290 - val_loss: 0.2317 - val_accuracy: 0.9291\n",
      "Epoch 4/30\n",
      "229/229 [==============================] - 3s 11ms/step - loss: 0.2202 - accuracy: 0.9290 - val_loss: 0.2205 - val_accuracy: 0.9291\n",
      "Epoch 5/30\n",
      "229/229 [==============================] - 3s 11ms/step - loss: 0.2109 - accuracy: 0.9290 - val_loss: 0.2139 - val_accuracy: 0.9291\n",
      "Epoch 6/30\n",
      "229/229 [==============================] - 3s 11ms/step - loss: 0.2047 - accuracy: 0.9291 - val_loss: 0.2097 - val_accuracy: 0.9291\n",
      "Epoch 7/30\n",
      "229/229 [==============================] - 3s 11ms/step - loss: 0.1991 - accuracy: 0.9294 - val_loss: 0.2059 - val_accuracy: 0.9297\n",
      "Epoch 8/30\n",
      "229/229 [==============================] - 3s 11ms/step - loss: 0.1949 - accuracy: 0.9309 - val_loss: 0.2036 - val_accuracy: 0.9312\n",
      "Epoch 9/30\n",
      "229/229 [==============================] - 2s 11ms/step - loss: 0.1916 - accuracy: 0.9324 - val_loss: 0.2015 - val_accuracy: 0.9315\n",
      "Epoch 10/30\n",
      "229/229 [==============================] - 3s 11ms/step - loss: 0.1885 - accuracy: 0.9333 - val_loss: 0.2011 - val_accuracy: 0.9331\n",
      "Epoch 11/30\n",
      "229/229 [==============================] - 3s 11ms/step - loss: 0.1864 - accuracy: 0.9341 - val_loss: 0.1995 - val_accuracy: 0.9315\n",
      "Epoch 12/30\n",
      "229/229 [==============================] - 2s 11ms/step - loss: 0.1847 - accuracy: 0.9342 - val_loss: 0.1983 - val_accuracy: 0.9340\n",
      "Epoch 13/30\n",
      "229/229 [==============================] - 3s 11ms/step - loss: 0.1832 - accuracy: 0.9347 - val_loss: 0.1984 - val_accuracy: 0.9331\n",
      "Epoch 14/30\n",
      "229/229 [==============================] - 3s 11ms/step - loss: 0.1818 - accuracy: 0.9348 - val_loss: 0.1980 - val_accuracy: 0.9349\n",
      "Epoch 15/30\n",
      "229/229 [==============================] - 3s 11ms/step - loss: 0.1805 - accuracy: 0.9356 - val_loss: 0.1963 - val_accuracy: 0.9346\n",
      "Epoch 16/30\n",
      "229/229 [==============================] - 3s 11ms/step - loss: 0.1792 - accuracy: 0.9356 - val_loss: 0.1963 - val_accuracy: 0.9346\n",
      "Epoch 17/30\n",
      "229/229 [==============================] - 3s 11ms/step - loss: 0.1782 - accuracy: 0.9358 - val_loss: 0.1965 - val_accuracy: 0.9352\n",
      "Epoch 18/30\n",
      "229/229 [==============================] - 3s 11ms/step - loss: 0.1773 - accuracy: 0.9364 - val_loss: 0.1954 - val_accuracy: 0.9352\n",
      "Epoch 19/30\n",
      "229/229 [==============================] - 3s 11ms/step - loss: 0.1765 - accuracy: 0.9365 - val_loss: 0.1953 - val_accuracy: 0.9343\n",
      "Epoch 20/30\n",
      "229/229 [==============================] - 3s 11ms/step - loss: 0.1754 - accuracy: 0.9369 - val_loss: 0.1960 - val_accuracy: 0.9337\n",
      "Epoch 21/30\n",
      "229/229 [==============================] - 3s 11ms/step - loss: 0.1750 - accuracy: 0.9368 - val_loss: 0.1962 - val_accuracy: 0.9346\n",
      "Epoch 22/30\n",
      "229/229 [==============================] - 3s 11ms/step - loss: 0.1742 - accuracy: 0.9371 - val_loss: 0.1951 - val_accuracy: 0.9352\n",
      "Epoch 23/30\n",
      "229/229 [==============================] - 2s 11ms/step - loss: 0.1735 - accuracy: 0.9376 - val_loss: 0.1965 - val_accuracy: 0.9346\n",
      "Epoch 24/30\n",
      "229/229 [==============================] - 2s 11ms/step - loss: 0.1723 - accuracy: 0.9378 - val_loss: 0.1960 - val_accuracy: 0.9346\n",
      "Epoch 25/30\n",
      "229/229 [==============================] - 3s 11ms/step - loss: 0.1716 - accuracy: 0.9377 - val_loss: 0.1954 - val_accuracy: 0.9349\n",
      "Epoch 26/30\n",
      "229/229 [==============================] - 3s 11ms/step - loss: 0.1708 - accuracy: 0.9379 - val_loss: 0.1961 - val_accuracy: 0.9355\n",
      "INFO:tensorflow:Assets written to: ../data/models/model_24+12_careunits/assets\n",
      "    ~~~~~~~~~~~~~~~~~~~~~~~~~~~~~~~~~~~~~~~~~~~~~~~~~~~~~~~~~~~~~~~~~~~~~~~~~~~~\n",
      "    Predicting using 'global' model...\n",
      "205/205 [==============================] - 1s 2ms/step\n"
     ]
    }
   ],
   "source": [
    "#-----------------------\n",
    "# train the global model\n",
    "\n",
    "print('    ' + '~' * 76)\n",
    "print(f\"    Training '{model_type}' model...\")\n",
    "\n",
    "model = create_single_task_learning_model(lstm_layer_size=lstm_layer_size, input_dims=X_train.shape[1:],\n",
    "                                          output_dims=1, learning_rate=learning_rate)\n",
    "print(model.summary())\n",
    "\n",
    "early_stopping = EarlyStopping(monitor='val_loss', patience=4)\n",
    "\n",
    "model.fit(X_train, y_train, epochs=epochs, batch_size=100, sample_weight=sample_weight,\n",
    "          callbacks=[early_stopping], validation_data=(X_val, y_val))\n",
    "model.save(model_filename)\n",
    "\n",
    "print('    ' + '~' * 76)\n",
    "print(f\"    Predicting using '{model_type}' model...\", flush=True)\n",
    "y_scores = np.squeeze(model.predict(X_test))\n",
    "y_pred = (y_scores > 0.5).astype(\"int32\")\n",
    "\n",
    "# calculate AUC, PPV, and Specificity for every cohort\n",
    "# https://www.ncbi.nlm.nih.gov/pmc/articles/PMC8156826/\n",
    "# https://stackoverflow.com/questions/56253863/precision-recall-and-confusion-matrix-problems-in-sklearn\n",
    "# https://stackoverflow.com/questions/33275461/specificity-in-scikit-learn\n",
    "# PPV (Predictive Positive Value) is same as precision\n",
    "# Specificity is same as recall of the negative class... using that trick to get it in sklearn\n",
    "lst_of_auc = []\n",
    "lst_of_ppv = []\n",
    "lst_of_specificity = []"
   ]
  },
  {
   "cell_type": "code",
   "execution_count": 20,
   "id": "9b627b48",
   "metadata": {},
   "outputs": [],
   "source": [
    "if not bootstrap:\n",
    "\n",
    "    metrics_df = pd.DataFrame(index=np.append(tasks, ['Macro', 'Micro']))\n",
    "\n",
    "    for task in tasks:\n",
    "        auc = roc_auc_score(y_test[cohorts_test == task], y_scores[cohorts_test == task])\n",
    "        ppv = precision_score(y_test[cohorts_test == task], y_pred[cohorts_test == task])\n",
    "        specificity = recall_score(y_test[cohorts_test == task], y_pred[cohorts_test == task], pos_label=0)\n",
    "        lst_of_auc.append(auc)\n",
    "        lst_of_ppv.append(ppv)\n",
    "        lst_of_specificity.append(specificity)\n",
    "        metrics_df.loc[task, 'AUC'] = auc\n",
    "        metrics_df.loc[task, 'PPV'] = ppv\n",
    "        metrics_df.loc[task, 'Specificity'] = specificity\n",
    "\n",
    "    # calculate macro AUC\n",
    "    metrics_df.loc['Macro', 'AUC'] = np.nanmean(np.array(lst_of_auc), axis=0)\n",
    "    metrics_df.loc['Macro', 'PPV'] = np.nanmean(np.array(lst_of_ppv), axis=0)\n",
    "    metrics_df.loc['Macro', 'Specificity'] = np.nanmean(np.array(lst_of_specificity), axis=0)\n",
    "\n",
    "    # calculate micro AUC\n",
    "    metrics_df.loc['Micro', 'AUC'] = roc_auc_score(y_test, y_scores)\n",
    "    metrics_df.loc['Micro', 'PPV'] = precision_score(y_test, y_pred)\n",
    "    metrics_df.loc['Micro', 'Specificity'] = recall_score(y_test, y_pred, pos_label=0)"
   ]
  },
  {
   "cell_type": "code",
   "execution_count": 24,
   "id": "df5630ca",
   "metadata": {},
   "outputs": [
    {
     "data": {
      "text/html": [
       "<div>\n",
       "<style scoped>\n",
       "    .dataframe tbody tr th:only-of-type {\n",
       "        vertical-align: middle;\n",
       "    }\n",
       "\n",
       "    .dataframe tbody tr th {\n",
       "        vertical-align: top;\n",
       "    }\n",
       "\n",
       "    .dataframe thead th {\n",
       "        text-align: right;\n",
       "    }\n",
       "</style>\n",
       "<table border=\"1\" class=\"dataframe\">\n",
       "  <thead>\n",
       "    <tr style=\"text-align: right;\">\n",
       "      <th></th>\n",
       "      <th>AUC</th>\n",
       "      <th>PPV</th>\n",
       "      <th>Specificity</th>\n",
       "    </tr>\n",
       "  </thead>\n",
       "  <tbody>\n",
       "    <tr>\n",
       "      <th>CCU</th>\n",
       "      <td>0.866500</td>\n",
       "      <td>0.666667</td>\n",
       "      <td>0.993457</td>\n",
       "    </tr>\n",
       "    <tr>\n",
       "      <th>CSRU</th>\n",
       "      <td>0.889536</td>\n",
       "      <td>0.333333</td>\n",
       "      <td>0.997141</td>\n",
       "    </tr>\n",
       "    <tr>\n",
       "      <th>MICU</th>\n",
       "      <td>0.828538</td>\n",
       "      <td>0.661765</td>\n",
       "      <td>0.988731</td>\n",
       "    </tr>\n",
       "    <tr>\n",
       "      <th>SICU</th>\n",
       "      <td>0.853458</td>\n",
       "      <td>0.619048</td>\n",
       "      <td>0.991407</td>\n",
       "    </tr>\n",
       "    <tr>\n",
       "      <th>TSICU</th>\n",
       "      <td>0.866083</td>\n",
       "      <td>0.583333</td>\n",
       "      <td>0.993679</td>\n",
       "    </tr>\n",
       "    <tr>\n",
       "      <th>Macro</th>\n",
       "      <td>0.860823</td>\n",
       "      <td>0.572829</td>\n",
       "      <td>0.992883</td>\n",
       "    </tr>\n",
       "    <tr>\n",
       "      <th>Micro</th>\n",
       "      <td>0.863960</td>\n",
       "      <td>0.632000</td>\n",
       "      <td>0.992433</td>\n",
       "    </tr>\n",
       "  </tbody>\n",
       "</table>\n",
       "</div>"
      ],
      "text/plain": [
       "            AUC       PPV  Specificity\n",
       "CCU    0.866500  0.666667     0.993457\n",
       "CSRU   0.889536  0.333333     0.997141\n",
       "MICU   0.828538  0.661765     0.988731\n",
       "SICU   0.853458  0.619048     0.991407\n",
       "TSICU  0.866083  0.583333     0.993679\n",
       "Macro  0.860823  0.572829     0.992883\n",
       "Micro  0.863960  0.632000     0.992433"
      ]
     },
     "execution_count": 24,
     "metadata": {},
     "output_type": "execute_result"
    }
   ],
   "source": [
    "metrics_df"
   ]
  },
  {
   "cell_type": "code",
   "execution_count": 13,
   "id": "5327c9de",
   "metadata": {},
   "outputs": [],
   "source": [
    "from mtl_patients import bootstrap_predict"
   ]
  },
  {
   "cell_type": "code",
   "execution_count": 25,
   "id": "cb32893c",
   "metadata": {},
   "outputs": [
    {
     "data": {
      "text/plain": [
       "array(['CCU', 'CSRU', 'MICU', 'SICU', 'TSICU'], dtype=object)"
      ]
     },
     "execution_count": 25,
     "metadata": {},
     "output_type": "execute_result"
    }
   ],
   "source": [
    "tasks"
   ]
  },
  {
   "cell_type": "code",
   "execution_count": 37,
   "id": "48b3a607",
   "metadata": {},
   "outputs": [
    {
     "name": "stdout",
     "output_type": "stream",
     "text": [
      "    Bootstrap prediction for task \"all\"...\n",
      "52/52 [==============================] - 0s 5ms/step\n",
      "52/52 [==============================] - 0s 5ms/step\n",
      "52/52 [==============================] - 0s 5ms/step\n",
      "52/52 [==============================] - 0s 5ms/step\n",
      "52/52 [==============================] - 0s 5ms/step\n",
      "52/52 [==============================] - 0s 5ms/step\n",
      "52/52 [==============================] - 0s 5ms/step\n",
      "52/52 [==============================] - 0s 5ms/step\n",
      "52/52 [==============================] - 0s 5ms/step\n",
      "52/52 [==============================] - 0s 5ms/step\n",
      "52/52 [==============================] - 0s 5ms/step\n",
      "52/52 [==============================] - 0s 5ms/step\n",
      "52/52 [==============================] - 0s 5ms/step\n",
      "52/52 [==============================] - 0s 6ms/step\n",
      "52/52 [==============================] - 0s 6ms/step\n",
      "52/52 [==============================] - 0s 6ms/step\n",
      "52/52 [==============================] - 0s 5ms/step\n",
      "52/52 [==============================] - 0s 5ms/step\n",
      "52/52 [==============================] - 0s 5ms/step\n",
      "52/52 [==============================] - 0s 5ms/step\n",
      "52/52 [==============================] - 0s 5ms/step\n",
      "52/52 [==============================] - 0s 5ms/step\n",
      "52/52 [==============================] - 0s 5ms/step\n",
      "52/52 [==============================] - 0s 5ms/step\n",
      "52/52 [==============================] - 0s 5ms/step\n",
      "52/52 [==============================] - 0s 6ms/step\n",
      "52/52 [==============================] - 0s 5ms/step\n",
      "52/52 [==============================] - 0s 5ms/step\n",
      "52/52 [==============================] - 0s 6ms/step\n",
      "52/52 [==============================] - 0s 5ms/step\n",
      "52/52 [==============================] - 0s 6ms/step\n",
      "52/52 [==============================] - 0s 6ms/step\n",
      "52/52 [==============================] - 0s 5ms/step\n",
      "52/52 [==============================] - 0s 5ms/step\n",
      "52/52 [==============================] - 0s 5ms/step\n",
      "52/52 [==============================] - 0s 5ms/step\n",
      "52/52 [==============================] - 0s 5ms/step\n",
      "52/52 [==============================] - 0s 5ms/step\n",
      "52/52 [==============================] - 0s 5ms/step\n",
      "52/52 [==============================] - 0s 6ms/step\n",
      "52/52 [==============================] - 0s 5ms/step\n",
      "52/52 [==============================] - 0s 5ms/step\n",
      "52/52 [==============================] - 0s 5ms/step\n",
      "52/52 [==============================] - 0s 5ms/step\n",
      "52/52 [==============================] - 0s 5ms/step\n",
      "52/52 [==============================] - 0s 5ms/step\n",
      "52/52 [==============================] - 0s 5ms/step\n",
      "52/52 [==============================] - 0s 5ms/step\n",
      "52/52 [==============================] - 0s 6ms/step\n",
      "52/52 [==============================] - 0s 6ms/step\n",
      "52/52 [==============================] - 0s 5ms/step\n",
      "52/52 [==============================] - 0s 5ms/step\n",
      "52/52 [==============================] - 0s 5ms/step\n",
      "52/52 [==============================] - 0s 5ms/step\n",
      "52/52 [==============================] - 0s 5ms/step\n",
      "52/52 [==============================] - 0s 5ms/step\n",
      "52/52 [==============================] - 0s 5ms/step\n",
      "52/52 [==============================] - 0s 5ms/step\n",
      "52/52 [==============================] - 0s 5ms/step\n",
      "52/52 [==============================] - 0s 5ms/step\n",
      "52/52 [==============================] - 0s 6ms/step\n",
      "52/52 [==============================] - 0s 5ms/step\n",
      "52/52 [==============================] - 0s 5ms/step\n",
      "52/52 [==============================] - 0s 5ms/step\n",
      "52/52 [==============================] - 0s 5ms/step\n",
      "52/52 [==============================] - 0s 5ms/step\n",
      "52/52 [==============================] - 0s 5ms/step\n",
      "52/52 [==============================] - 0s 5ms/step\n",
      "52/52 [==============================] - 0s 5ms/step\n",
      "52/52 [==============================] - 0s 5ms/step\n",
      "52/52 [==============================] - 0s 5ms/step\n",
      "52/52 [==============================] - 0s 5ms/step\n",
      "52/52 [==============================] - 0s 5ms/step\n",
      "52/52 [==============================] - 0s 5ms/step\n",
      "52/52 [==============================] - 0s 5ms/step\n",
      "52/52 [==============================] - 0s 5ms/step\n",
      "52/52 [==============================] - 0s 5ms/step\n",
      "52/52 [==============================] - 0s 5ms/step\n",
      "52/52 [==============================] - 0s 5ms/step\n",
      "52/52 [==============================] - 0s 6ms/step\n",
      "52/52 [==============================] - 0s 5ms/step\n",
      "52/52 [==============================] - 0s 5ms/step\n",
      "52/52 [==============================] - 0s 5ms/step\n",
      "52/52 [==============================] - 0s 6ms/step\n",
      "52/52 [==============================] - 0s 6ms/step\n",
      "52/52 [==============================] - 0s 5ms/step\n",
      "52/52 [==============================] - 0s 5ms/step\n",
      "52/52 [==============================] - 0s 6ms/step\n",
      "52/52 [==============================] - 0s 5ms/step\n",
      "52/52 [==============================] - 0s 5ms/step\n",
      "52/52 [==============================] - 0s 5ms/step\n",
      "52/52 [==============================] - 0s 5ms/step\n",
      "52/52 [==============================] - 0s 5ms/step\n",
      "52/52 [==============================] - 0s 6ms/step\n",
      "52/52 [==============================] - 0s 5ms/step\n",
      "52/52 [==============================] - 0s 6ms/step\n",
      "52/52 [==============================] - 0s 6ms/step\n",
      "52/52 [==============================] - 0s 6ms/step\n",
      "52/52 [==============================] - 0s 6ms/step\n",
      "52/52 [==============================] - 0s 6ms/step\n"
     ]
    }
   ],
   "source": [
    "task = 'all'\n",
    "all_auc = bootstrap_predict(X_test, y_test, cohorts_test, task, model, num_bootstrap_samples=num_bootstrapped_samples)"
   ]
  },
  {
   "cell_type": "code",
   "execution_count": 38,
   "id": "3ef8fcbf",
   "metadata": {},
   "outputs": [
    {
     "data": {
      "text/plain": [
       "[0.8610422540004878,\n",
       " 0.8607664316385976,\n",
       " 0.8687929332750963,\n",
       " 0.8497544542829754,\n",
       " 0.8488220470699015,\n",
       " 0.8710537548712073,\n",
       " 0.8617339370699582,\n",
       " 0.8503688503667233,\n",
       " 0.8576370177717523,\n",
       " 0.8592068653533079,\n",
       " 0.8657078353404315,\n",
       " 0.8697462576081592,\n",
       " 0.8578688787289199,\n",
       " 0.875286812713071,\n",
       " 0.8394607495561317,\n",
       " 0.865507881854434,\n",
       " 0.8625858665501926,\n",
       " 0.8680938051290196,\n",
       " 0.8672482571430192,\n",
       " 0.8656932997146762,\n",
       " 0.8665976992586122,\n",
       " 0.8654093232212648,\n",
       " 0.8641659954280139,\n",
       " 0.8646485072975932,\n",
       " 0.8660286826894168,\n",
       " 0.8760919445689228,\n",
       " 0.8669816524950225,\n",
       " 0.8552666471912915,\n",
       " 0.8475719832549591,\n",
       " 0.8698706967457215,\n",
       " 0.8699004770521467,\n",
       " 0.8749585202874792,\n",
       " 0.8575097424145305,\n",
       " 0.8735485645892302,\n",
       " 0.8718266247284321,\n",
       " 0.8558980605929969,\n",
       " 0.8608437186243201,\n",
       " 0.8499724886693024,\n",
       " 0.854931973271466,\n",
       " 0.8764985875626097,\n",
       " 0.8577178500320493,\n",
       " 0.860711479882694,\n",
       " 0.8695863657248526,\n",
       " 0.8619338905559557,\n",
       " 0.847311405573739,\n",
       " 0.8489280507796768,\n",
       " 0.8578022275669207,\n",
       " 0.8746486632896745,\n",
       " 0.8581705815952033,\n",
       " 0.8525924465798027,\n",
       " 0.8682586603967304,\n",
       " 0.8577100504279856,\n",
       " 0.8708594738245288,\n",
       " 0.8594557436284325,\n",
       " 0.866694485254494,\n",
       " 0.8605062084848347,\n",
       " 0.8528909586989694,\n",
       " 0.8535567612640464,\n",
       " 0.864714803932135,\n",
       " 0.863241387819004,\n",
       " 0.8599067025542995,\n",
       " 0.8606405743912056,\n",
       " 0.8637192908316363,\n",
       " 0.8775210447498738,\n",
       " 0.8661814840235746,\n",
       " 0.8607086436630345,\n",
       " 0.8561359485169406,\n",
       " 0.8556055754406067,\n",
       " 0.8668710399283004,\n",
       " 0.8700784498357829,\n",
       " 0.8596801595089936,\n",
       " 0.8727171977015276,\n",
       " 0.874302289963753,\n",
       " 0.8569088183741653,\n",
       " 0.8632945669376202,\n",
       " 0.8522918072958915,\n",
       " 0.8625936661542564,\n",
       " 0.8818310350500027,\n",
       " 0.8531426731937535,\n",
       " 0.8831239966872955,\n",
       " 0.8689673607841579,\n",
       " 0.8593444220067956,\n",
       " 0.8747890561628218,\n",
       " 0.8612471708708896,\n",
       " 0.8663871099488913,\n",
       " 0.8676049117652064,\n",
       " 0.8602934920103691,\n",
       " 0.8664760963407094,\n",
       " 0.8529398834880965,\n",
       " 0.8792607109835442,\n",
       " 0.8702450777407809,\n",
       " 0.8687128100697143,\n",
       " 0.8633034301240563,\n",
       " 0.8681306759845936,\n",
       " 0.8638135951353161,\n",
       " 0.872227240755342,\n",
       " 0.8707903409703275,\n",
       " 0.8569084638467079,\n",
       " 0.8705092006965754,\n",
       " 0.8715912184966903]"
      ]
     },
     "execution_count": 38,
     "metadata": {},
     "output_type": "execute_result"
    }
   ],
   "source": [
    "all_auc"
   ]
  },
  {
   "cell_type": "code",
   "execution_count": 28,
   "id": "dafc470b",
   "metadata": {},
   "outputs": [
    {
     "data": {
      "text/plain": [
       "100"
      ]
     },
     "execution_count": 28,
     "metadata": {},
     "output_type": "execute_result"
    }
   ],
   "source": [
    "len(all_auc)"
   ]
  },
  {
   "cell_type": "code",
   "execution_count": 29,
   "id": "fef087c6",
   "metadata": {},
   "outputs": [
    {
     "data": {
      "text/plain": [
       "array(['CCU', 'CSRU', 'MICU', 'SICU', 'TSICU'], dtype=object)"
      ]
     },
     "execution_count": 29,
     "metadata": {},
     "output_type": "execute_result"
    }
   ],
   "source": [
    "tasks"
   ]
  },
  {
   "cell_type": "code",
   "execution_count": 43,
   "id": "ddf19b09",
   "metadata": {},
   "outputs": [
    {
     "data": {
      "text/plain": [
       "array(['CCU', 'CSRU', 'MICU', 'SICU', 'TSICU'], dtype=object)"
      ]
     },
     "execution_count": 43,
     "metadata": {},
     "output_type": "execute_result"
    }
   ],
   "source": [
    "tasks"
   ]
  },
  {
   "cell_type": "code",
   "execution_count": 46,
   "id": "a14793fb",
   "metadata": {},
   "outputs": [
    {
     "ename": "TypeError",
     "evalue": "Input must be list-like",
     "output_type": "error",
     "traceback": [
      "\u001b[0;31m---------------------------------------------------------------------------\u001b[0m",
      "\u001b[0;31mTypeError\u001b[0m                                 Traceback (most recent call last)",
      "Cell \u001b[0;32mIn[46], line 3\u001b[0m\n\u001b[1;32m      1\u001b[0m lst_of_tasks \u001b[38;5;241m=\u001b[39m \u001b[38;5;28mlist\u001b[39m(tasks)\n\u001b[1;32m      2\u001b[0m lst_of_tasks\u001b[38;5;241m.\u001b[39mappend(\u001b[38;5;124m'\u001b[39m\u001b[38;5;124mMicro\u001b[39m\u001b[38;5;124m'\u001b[39m)\n\u001b[0;32m----> 3\u001b[0m idx \u001b[38;5;241m=\u001b[39m \u001b[43mpd\u001b[49m\u001b[38;5;241;43m.\u001b[39;49m\u001b[43mMultiIndex\u001b[49m\u001b[38;5;241;43m.\u001b[39;49m\u001b[43mfrom_product\u001b[49m\u001b[43m(\u001b[49m\u001b[43m[\u001b[49m\u001b[38;5;28;43mlist\u001b[39;49m\u001b[43m(\u001b[49m\u001b[43mtasks\u001b[49m\u001b[43m)\u001b[49m\u001b[38;5;241;43m.\u001b[39;49m\u001b[43mappend\u001b[49m\u001b[43m(\u001b[49m\u001b[38;5;124;43m'\u001b[39;49m\u001b[38;5;124;43mMicro\u001b[39;49m\u001b[38;5;124;43m'\u001b[39;49m\u001b[43m)\u001b[49m\u001b[43m,\u001b[49m\u001b[43m \u001b[49m\u001b[38;5;28;43mlist\u001b[39;49m\u001b[43m(\u001b[49m\u001b[43mnp\u001b[49m\u001b[38;5;241;43m.\u001b[39;49m\u001b[43marange\u001b[49m\u001b[43m(\u001b[49m\u001b[38;5;241;43m1\u001b[39;49m\u001b[43m,\u001b[49m\u001b[43m \u001b[49m\u001b[38;5;241;43m101\u001b[39;49m\u001b[43m)\u001b[49m\u001b[43m)\u001b[49m\u001b[43m]\u001b[49m\u001b[43m,\u001b[49m\n\u001b[1;32m      4\u001b[0m \u001b[43m                                \u001b[49m\u001b[43mnames\u001b[49m\u001b[38;5;241;43m=\u001b[39;49m\u001b[43m[\u001b[49m\u001b[38;5;124;43m'\u001b[39;49m\u001b[38;5;124;43mCohort\u001b[39;49m\u001b[38;5;124;43m'\u001b[39;49m\u001b[43m,\u001b[49m\u001b[43m \u001b[49m\u001b[38;5;124;43m'\u001b[39;49m\u001b[38;5;124;43mSample\u001b[39;49m\u001b[38;5;124;43m'\u001b[39;49m\u001b[43m]\u001b[49m\u001b[43m)\u001b[49m\n\u001b[1;32m      5\u001b[0m idx\n",
      "File \u001b[0;32m~/opt/anaconda3/envs/mimic_data_extraction/lib/python3.10/site-packages/pandas/core/indexes/multi.py:638\u001b[0m, in \u001b[0;36mMultiIndex.from_product\u001b[0;34m(cls, iterables, sortorder, names)\u001b[0m\n\u001b[1;32m    635\u001b[0m \u001b[38;5;28;01melif\u001b[39;00m is_iterator(iterables):\n\u001b[1;32m    636\u001b[0m     iterables \u001b[38;5;241m=\u001b[39m \u001b[38;5;28mlist\u001b[39m(iterables)\n\u001b[0;32m--> 638\u001b[0m codes, levels \u001b[38;5;241m=\u001b[39m \u001b[43mfactorize_from_iterables\u001b[49m\u001b[43m(\u001b[49m\u001b[43miterables\u001b[49m\u001b[43m)\u001b[49m\n\u001b[1;32m    639\u001b[0m \u001b[38;5;28;01mif\u001b[39;00m names \u001b[38;5;129;01mis\u001b[39;00m lib\u001b[38;5;241m.\u001b[39mno_default:\n\u001b[1;32m    640\u001b[0m     names \u001b[38;5;241m=\u001b[39m [\u001b[38;5;28mgetattr\u001b[39m(it, \u001b[38;5;124m\"\u001b[39m\u001b[38;5;124mname\u001b[39m\u001b[38;5;124m\"\u001b[39m, \u001b[38;5;28;01mNone\u001b[39;00m) \u001b[38;5;28;01mfor\u001b[39;00m it \u001b[38;5;129;01min\u001b[39;00m iterables]\n",
      "File \u001b[0;32m~/opt/anaconda3/envs/mimic_data_extraction/lib/python3.10/site-packages/pandas/core/arrays/categorical.py:3007\u001b[0m, in \u001b[0;36mfactorize_from_iterables\u001b[0;34m(iterables)\u001b[0m\n\u001b[1;32m   3003\u001b[0m \u001b[38;5;28;01mif\u001b[39;00m \u001b[38;5;28mlen\u001b[39m(iterables) \u001b[38;5;241m==\u001b[39m \u001b[38;5;241m0\u001b[39m:\n\u001b[1;32m   3004\u001b[0m     \u001b[38;5;66;03m# For consistency, it should return two empty lists.\u001b[39;00m\n\u001b[1;32m   3005\u001b[0m     \u001b[38;5;28;01mreturn\u001b[39;00m [], []\n\u001b[0;32m-> 3007\u001b[0m codes, categories \u001b[38;5;241m=\u001b[39m \u001b[38;5;28;43mzip\u001b[39;49m\u001b[43m(\u001b[49m\u001b[38;5;241;43m*\u001b[39;49m\u001b[43m(\u001b[49m\u001b[43mfactorize_from_iterable\u001b[49m\u001b[43m(\u001b[49m\u001b[43mit\u001b[49m\u001b[43m)\u001b[49m\u001b[43m \u001b[49m\u001b[38;5;28;43;01mfor\u001b[39;49;00m\u001b[43m \u001b[49m\u001b[43mit\u001b[49m\u001b[43m \u001b[49m\u001b[38;5;129;43;01min\u001b[39;49;00m\u001b[43m \u001b[49m\u001b[43miterables\u001b[49m\u001b[43m)\u001b[49m\u001b[43m)\u001b[49m\n\u001b[1;32m   3008\u001b[0m \u001b[38;5;28;01mreturn\u001b[39;00m \u001b[38;5;28mlist\u001b[39m(codes), \u001b[38;5;28mlist\u001b[39m(categories)\n",
      "File \u001b[0;32m~/opt/anaconda3/envs/mimic_data_extraction/lib/python3.10/site-packages/pandas/core/arrays/categorical.py:3007\u001b[0m, in \u001b[0;36m<genexpr>\u001b[0;34m(.0)\u001b[0m\n\u001b[1;32m   3003\u001b[0m \u001b[38;5;28;01mif\u001b[39;00m \u001b[38;5;28mlen\u001b[39m(iterables) \u001b[38;5;241m==\u001b[39m \u001b[38;5;241m0\u001b[39m:\n\u001b[1;32m   3004\u001b[0m     \u001b[38;5;66;03m# For consistency, it should return two empty lists.\u001b[39;00m\n\u001b[1;32m   3005\u001b[0m     \u001b[38;5;28;01mreturn\u001b[39;00m [], []\n\u001b[0;32m-> 3007\u001b[0m codes, categories \u001b[38;5;241m=\u001b[39m \u001b[38;5;28mzip\u001b[39m(\u001b[38;5;241m*\u001b[39m(\u001b[43mfactorize_from_iterable\u001b[49m\u001b[43m(\u001b[49m\u001b[43mit\u001b[49m\u001b[43m)\u001b[49m \u001b[38;5;28;01mfor\u001b[39;00m it \u001b[38;5;129;01min\u001b[39;00m iterables))\n\u001b[1;32m   3008\u001b[0m \u001b[38;5;28;01mreturn\u001b[39;00m \u001b[38;5;28mlist\u001b[39m(codes), \u001b[38;5;28mlist\u001b[39m(categories)\n",
      "File \u001b[0;32m~/opt/anaconda3/envs/mimic_data_extraction/lib/python3.10/site-packages/pandas/core/arrays/categorical.py:2964\u001b[0m, in \u001b[0;36mfactorize_from_iterable\u001b[0;34m(values)\u001b[0m\n\u001b[1;32m   2961\u001b[0m \u001b[38;5;28;01mfrom\u001b[39;00m \u001b[38;5;21;01mpandas\u001b[39;00m \u001b[38;5;28;01mimport\u001b[39;00m CategoricalIndex\n\u001b[1;32m   2963\u001b[0m \u001b[38;5;28;01mif\u001b[39;00m \u001b[38;5;129;01mnot\u001b[39;00m is_list_like(values):\n\u001b[0;32m-> 2964\u001b[0m     \u001b[38;5;28;01mraise\u001b[39;00m \u001b[38;5;167;01mTypeError\u001b[39;00m(\u001b[38;5;124m\"\u001b[39m\u001b[38;5;124mInput must be list-like\u001b[39m\u001b[38;5;124m\"\u001b[39m)\n\u001b[1;32m   2966\u001b[0m categories: Index\n\u001b[1;32m   2967\u001b[0m \u001b[38;5;28;01mif\u001b[39;00m is_categorical_dtype(values):\n",
      "\u001b[0;31mTypeError\u001b[0m: Input must be list-like"
     ]
    }
   ],
   "source": [
    "lst_of_tasks = list(tasks)\n",
    "lst_of_tasks.append('Micro')\n",
    "idx = pd.MultiIndex.from_product([list(tasks).append('Micro'), list(np.arange(1, 101))],\n",
    "                                names=['Cohort', 'Sample'])"
   ]
  },
  {
   "cell_type": "code",
   "execution_count": 45,
   "id": "b68cd94a",
   "metadata": {},
   "outputs": [
    {
     "data": {
      "text/plain": [
       "['CCU', 'CSRU', 'MICU', 'SICU', 'TSICU', 'Micro']"
      ]
     },
     "execution_count": 45,
     "metadata": {},
     "output_type": "execute_result"
    }
   ],
   "source": [
    "a = list(tasks)\n",
    "a.append('Micro')\n",
    "a"
   ]
  },
  {
   "cell_type": "code",
   "execution_count": 40,
   "id": "d590465b",
   "metadata": {},
   "outputs": [
    {
     "ename": "TypeError",
     "evalue": "Input must be list-like",
     "output_type": "error",
     "traceback": [
      "\u001b[0;31m---------------------------------------------------------------------------\u001b[0m",
      "\u001b[0;31mTypeError\u001b[0m                                 Traceback (most recent call last)",
      "Cell \u001b[0;32mIn[40], line 1\u001b[0m\n\u001b[0;32m----> 1\u001b[0m \u001b[43mpd\u001b[49m\u001b[38;5;241;43m.\u001b[39;49m\u001b[43mMultiIndex\u001b[49m\u001b[38;5;241;43m.\u001b[39;49m\u001b[43mfrom_product\u001b[49m\u001b[43m(\u001b[49m\u001b[43m[\u001b[49m\u001b[38;5;28;43mlist\u001b[39;49m\u001b[43m(\u001b[49m\u001b[43mtasks\u001b[49m\u001b[43m)\u001b[49m\u001b[38;5;241;43m.\u001b[39;49m\u001b[43mappend\u001b[49m\u001b[43m(\u001b[49m\u001b[38;5;124;43m'\u001b[39;49m\u001b[38;5;124;43mMicro\u001b[39;49m\u001b[38;5;124;43m'\u001b[39;49m\u001b[43m)\u001b[49m\u001b[43m,\u001b[49m\u001b[43m \u001b[49m\u001b[38;5;28;43mlist\u001b[39;49m\u001b[43m(\u001b[49m\u001b[43mnp\u001b[49m\u001b[38;5;241;43m.\u001b[39;49m\u001b[43marange\u001b[49m\u001b[43m(\u001b[49m\u001b[38;5;241;43m1\u001b[39;49m\u001b[43m,\u001b[49m\u001b[43m \u001b[49m\u001b[38;5;241;43m101\u001b[39;49m\u001b[43m)\u001b[49m\u001b[43m)\u001b[49m\u001b[43m]\u001b[49m\u001b[43m)\u001b[49m\n",
      "File \u001b[0;32m~/opt/anaconda3/envs/mimic_data_extraction/lib/python3.10/site-packages/pandas/core/indexes/multi.py:638\u001b[0m, in \u001b[0;36mMultiIndex.from_product\u001b[0;34m(cls, iterables, sortorder, names)\u001b[0m\n\u001b[1;32m    635\u001b[0m \u001b[38;5;28;01melif\u001b[39;00m is_iterator(iterables):\n\u001b[1;32m    636\u001b[0m     iterables \u001b[38;5;241m=\u001b[39m \u001b[38;5;28mlist\u001b[39m(iterables)\n\u001b[0;32m--> 638\u001b[0m codes, levels \u001b[38;5;241m=\u001b[39m \u001b[43mfactorize_from_iterables\u001b[49m\u001b[43m(\u001b[49m\u001b[43miterables\u001b[49m\u001b[43m)\u001b[49m\n\u001b[1;32m    639\u001b[0m \u001b[38;5;28;01mif\u001b[39;00m names \u001b[38;5;129;01mis\u001b[39;00m lib\u001b[38;5;241m.\u001b[39mno_default:\n\u001b[1;32m    640\u001b[0m     names \u001b[38;5;241m=\u001b[39m [\u001b[38;5;28mgetattr\u001b[39m(it, \u001b[38;5;124m\"\u001b[39m\u001b[38;5;124mname\u001b[39m\u001b[38;5;124m\"\u001b[39m, \u001b[38;5;28;01mNone\u001b[39;00m) \u001b[38;5;28;01mfor\u001b[39;00m it \u001b[38;5;129;01min\u001b[39;00m iterables]\n",
      "File \u001b[0;32m~/opt/anaconda3/envs/mimic_data_extraction/lib/python3.10/site-packages/pandas/core/arrays/categorical.py:3007\u001b[0m, in \u001b[0;36mfactorize_from_iterables\u001b[0;34m(iterables)\u001b[0m\n\u001b[1;32m   3003\u001b[0m \u001b[38;5;28;01mif\u001b[39;00m \u001b[38;5;28mlen\u001b[39m(iterables) \u001b[38;5;241m==\u001b[39m \u001b[38;5;241m0\u001b[39m:\n\u001b[1;32m   3004\u001b[0m     \u001b[38;5;66;03m# For consistency, it should return two empty lists.\u001b[39;00m\n\u001b[1;32m   3005\u001b[0m     \u001b[38;5;28;01mreturn\u001b[39;00m [], []\n\u001b[0;32m-> 3007\u001b[0m codes, categories \u001b[38;5;241m=\u001b[39m \u001b[38;5;28;43mzip\u001b[39;49m\u001b[43m(\u001b[49m\u001b[38;5;241;43m*\u001b[39;49m\u001b[43m(\u001b[49m\u001b[43mfactorize_from_iterable\u001b[49m\u001b[43m(\u001b[49m\u001b[43mit\u001b[49m\u001b[43m)\u001b[49m\u001b[43m \u001b[49m\u001b[38;5;28;43;01mfor\u001b[39;49;00m\u001b[43m \u001b[49m\u001b[43mit\u001b[49m\u001b[43m \u001b[49m\u001b[38;5;129;43;01min\u001b[39;49;00m\u001b[43m \u001b[49m\u001b[43miterables\u001b[49m\u001b[43m)\u001b[49m\u001b[43m)\u001b[49m\n\u001b[1;32m   3008\u001b[0m \u001b[38;5;28;01mreturn\u001b[39;00m \u001b[38;5;28mlist\u001b[39m(codes), \u001b[38;5;28mlist\u001b[39m(categories)\n",
      "File \u001b[0;32m~/opt/anaconda3/envs/mimic_data_extraction/lib/python3.10/site-packages/pandas/core/arrays/categorical.py:3007\u001b[0m, in \u001b[0;36m<genexpr>\u001b[0;34m(.0)\u001b[0m\n\u001b[1;32m   3003\u001b[0m \u001b[38;5;28;01mif\u001b[39;00m \u001b[38;5;28mlen\u001b[39m(iterables) \u001b[38;5;241m==\u001b[39m \u001b[38;5;241m0\u001b[39m:\n\u001b[1;32m   3004\u001b[0m     \u001b[38;5;66;03m# For consistency, it should return two empty lists.\u001b[39;00m\n\u001b[1;32m   3005\u001b[0m     \u001b[38;5;28;01mreturn\u001b[39;00m [], []\n\u001b[0;32m-> 3007\u001b[0m codes, categories \u001b[38;5;241m=\u001b[39m \u001b[38;5;28mzip\u001b[39m(\u001b[38;5;241m*\u001b[39m(\u001b[43mfactorize_from_iterable\u001b[49m\u001b[43m(\u001b[49m\u001b[43mit\u001b[49m\u001b[43m)\u001b[49m \u001b[38;5;28;01mfor\u001b[39;00m it \u001b[38;5;129;01min\u001b[39;00m iterables))\n\u001b[1;32m   3008\u001b[0m \u001b[38;5;28;01mreturn\u001b[39;00m \u001b[38;5;28mlist\u001b[39m(codes), \u001b[38;5;28mlist\u001b[39m(categories)\n",
      "File \u001b[0;32m~/opt/anaconda3/envs/mimic_data_extraction/lib/python3.10/site-packages/pandas/core/arrays/categorical.py:2964\u001b[0m, in \u001b[0;36mfactorize_from_iterable\u001b[0;34m(values)\u001b[0m\n\u001b[1;32m   2961\u001b[0m \u001b[38;5;28;01mfrom\u001b[39;00m \u001b[38;5;21;01mpandas\u001b[39;00m \u001b[38;5;28;01mimport\u001b[39;00m CategoricalIndex\n\u001b[1;32m   2963\u001b[0m \u001b[38;5;28;01mif\u001b[39;00m \u001b[38;5;129;01mnot\u001b[39;00m is_list_like(values):\n\u001b[0;32m-> 2964\u001b[0m     \u001b[38;5;28;01mraise\u001b[39;00m \u001b[38;5;167;01mTypeError\u001b[39;00m(\u001b[38;5;124m\"\u001b[39m\u001b[38;5;124mInput must be list-like\u001b[39m\u001b[38;5;124m\"\u001b[39m)\n\u001b[1;32m   2966\u001b[0m categories: Index\n\u001b[1;32m   2967\u001b[0m \u001b[38;5;28;01mif\u001b[39;00m is_categorical_dtype(values):\n",
      "\u001b[0;31mTypeError\u001b[0m: Input must be list-like"
     ]
    }
   ],
   "source": [
    "pd.MultiIndex.from_product([list(tasks).append('Micro'), list(np.arange(1, 101))])"
   ]
  },
  {
   "cell_type": "code",
   "execution_count": 34,
   "id": "5d68c98a",
   "metadata": {},
   "outputs": [
    {
     "data": {
      "text/plain": [
       "['CCU', 'CSRU', 'MICU', 'SICU', 'TSICU']"
      ]
     },
     "execution_count": 34,
     "metadata": {},
     "output_type": "execute_result"
    }
   ],
   "source": [
    "list(tasks)"
   ]
  },
  {
   "cell_type": "code",
   "execution_count": 39,
   "id": "fd6ea213",
   "metadata": {},
   "outputs": [
    {
     "data": {
      "text/plain": [
       "0.8635298880827722"
      ]
     },
     "execution_count": 39,
     "metadata": {},
     "output_type": "execute_result"
    }
   ],
   "source": [
    "np.mean(all_auc, axis=0)"
   ]
  },
  {
   "cell_type": "code",
   "execution_count": null,
   "id": "86b06726",
   "metadata": {},
   "outputs": [],
   "source": []
  }
 ],
 "metadata": {
  "kernelspec": {
   "display_name": "Python 3 (ipykernel)",
   "language": "python",
   "name": "python3"
  },
  "language_info": {
   "codemirror_mode": {
    "name": "ipython",
    "version": 3
   },
   "file_extension": ".py",
   "mimetype": "text/x-python",
   "name": "python",
   "nbconvert_exporter": "python",
   "pygments_lexer": "ipython3",
   "version": "3.10.9"
  }
 },
 "nbformat": 4,
 "nbformat_minor": 5
}
