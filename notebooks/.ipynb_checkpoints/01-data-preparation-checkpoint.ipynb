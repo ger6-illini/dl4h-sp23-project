{
 "cells": [
  {
   "cell_type": "markdown",
   "id": "4efd66a9",
   "metadata": {},
   "source": [
    "# Data Preparation"
   ]
  },
  {
   "cell_type": "code",
   "execution_count": 1,
   "id": "e49718f1",
   "metadata": {},
   "outputs": [],
   "source": [
    "import pandas as pd\n",
    "import numpy as np\n",
    "\n",
    "pd.set_option('display.max_rows', 500)\n",
    "\n",
    "mimic_extract_filename = '../data/all_hourly_data.h5'\n",
    "mimic_sqlalchemy_db_uri = 'postgresql:///mimic'\n",
    "mimic_data_folder = '../data/'\n",
    "cutoff_hours = 24  # number of hours in the period of stay to be used for mortality prediction\n",
    "gap_hours = 12     # gap between end of observation period and prediction period to minimize label leakage"
   ]
  },
  {
   "cell_type": "code",
   "execution_count": 2,
   "id": "83f187eb",
   "metadata": {},
   "outputs": [],
   "source": [
    "def transform_into_zscores(x, mean_dict, stdev_dict):\n",
    "    \"\"\" \n",
    "    Transforms features values into z-scores between -4 and 4\n",
    "    rounded to the closest integer. Missing values are assigned 9.\n",
    "    \n",
    "    Parameters\n",
    "    ----------\n",
    "    x : float\n",
    "        Variable that needs to be transformed.\n",
    "    mean_dict: dict of float\n",
    "        Dictionary of mean values by vital/lab.\n",
    "    stdev_dict: dict of float\n",
    "        Dictionary of standard deviation values by vital/lab.\n",
    "\n",
    "    Return\n",
    "    ------\n",
    "    int\n",
    "        z-score clipped to [-4, 4] or 9 if it is a missing value.\n",
    "    \"\"\"\n",
    "\n",
    "    zscore = 1.0 * (x - mean_dict[x.name]) / stdev_dict[x.name]\n",
    "    zscore = zscore.round()\n",
    "    zscore = zscore.clip(-4, 4)\n",
    "    zscore = zscore.fillna(9)\n",
    "    zscore = zscore.round(0).astype(int)\n",
    "    return zscore"
   ]
  },
  {
   "cell_type": "code",
   "execution_count": 3,
   "id": "5b8aa846",
   "metadata": {},
   "outputs": [],
   "source": [
    "def hours_to_pad(df, max_hours):\n",
    "    \"\"\"\n",
    "    Returns set of hours needed to complete the `max_hours` set on a per patient basis.\n",
    "    Returns -1 if patient has measurements for all hours.\n",
    "    \"\"\"\n",
    "    \n",
    "    cur_hours = set(df.index.get_level_values(1))\n",
    "    pad_hours = set(range(max_hours)) - cur_hours\n",
    "    if len(pad_hours) > 0:\n",
    "        return pad_hours\n",
    "    else:\n",
    "        return -1"
   ]
  },
  {
   "cell_type": "code",
   "execution_count": 4,
   "id": "a4d85cdd",
   "metadata": {},
   "outputs": [],
   "source": [
    "def categorize_age(age):\n",
    "    \"\"\" \n",
    "    Groups age into buckets.\n",
    "    \n",
    "    Parameters\n",
    "    ----------\n",
    "    age : float\n",
    "        Float indicating age of patient in years.\n",
    "\n",
    "    Return\n",
    "    ------\n",
    "    string\n",
    "        One of the age buckets.\n",
    "    \"\"\" \n",
    "\n",
    "    if age > 10.0 and age <= 30.0:  \n",
    "        age_category = 1\n",
    "    elif age > 30.0 and age <= 50.0:\n",
    "        age_category = 2\n",
    "    elif age > 50.0 and age <= 70.0:\n",
    "        age_category = 3\n",
    "    else:\n",
    "        age_category = 4\n",
    "    \n",
    "    return age_category"
   ]
  },
  {
   "cell_type": "code",
   "execution_count": 5,
   "id": "84502936",
   "metadata": {},
   "outputs": [],
   "source": [
    "def categorize_ethnicity(ethnicity):\n",
    "    \"\"\" \n",
    "    Groups patient ethnicity into one of 5 major categories.\n",
    "    \n",
    "    Parameters\n",
    "    ----------\n",
    "    ethnicity : str\n",
    "        String indicating patient ethnicity.\n",
    "\n",
    "    Return\n",
    "    ------\n",
    "    string\n",
    "        One of the five major ethnicity categories.\n",
    "    \"\"\"\n",
    "\n",
    "    if 'ASIAN' in ethnicity:\n",
    "        ethnicity_category = 'ASIAN'\n",
    "    elif 'WHITE' in ethnicity:\n",
    "        ethnicity_category = 'WHITE'\n",
    "    elif 'HISPANIC' in ethnicity:\n",
    "        ethnicity_category = 'HISPANIC/LATINO'\n",
    "    elif 'BLACK' in ethnicity:\n",
    "        ethnicity_category = 'BLACK'\n",
    "    else:\n",
    "        ethnicity_category = 'OTHER'\n",
    "    \n",
    "    return ethnicity_category"
   ]
  },
  {
   "cell_type": "code",
   "execution_count": 6,
   "id": "e0d5f5e1",
   "metadata": {},
   "outputs": [],
   "source": [
    "# the next two MIMIC-Extract pipeline dataframes are needed to reproduce the paper\n",
    "patients_df = pd.read_hdf(mimic_extract_filename, 'patients')\n",
    "vitals_labs_mean_df = pd.read_hdf(mimic_extract_filename, 'vitals_labs_mean')\n",
    "\n",
    "# MIMIC-Extract pipeline does not provide the feature `timecmo_chart` that is needed\n",
    "# to reproduce the paper; we need to get it from a MIMIC PostgreSQL database inside\n",
    "# the concept table `code_status` or a CSV file and add it to the `patients_df` dataframe\n",
    "if (mimic_sqlalchemy_db_uri != ''):\n",
    "    code_status_df = pd.read_sql_table('code_status', mimic_sqlalchemy_db_uri)\n",
    "    sapsii_df = pd.read_sql_table('sapsii', mimic_sqlalchemy_db_uri)\n",
    "else:\n",
    "    code_status_df = pd.read_csv(f'{mimic_data_folder}code_status.csv')\n",
    "    sapsii_df = pd.read_csv(f'{mimic_data_folder}sapsii.csv')\n",
    "code_status_df.set_index(['subject_id', 'hadm_id', 'icustay_id'], inplace=True)\n",
    "sapsii_df.set_index(['subject_id', 'hadm_id', 'icustay_id'], inplace=True)\n",
    "patients_df = pd.merge(patients_df, code_status_df['timecmo_chart'], left_index=True, right_index=True)"
   ]
  },
  {
   "cell_type": "code",
   "execution_count": 7,
   "id": "2379aec9",
   "metadata": {},
   "outputs": [],
   "source": [
    "# add SAPS-II score quartile to patients dataframe\n",
    "_, bins = pd.qcut(sapsii_df.sapsii, 4, retbins=True, labels=False)\n",
    "sapsii_df['sapsii_quartile'] = pd.cut(sapsii_df.sapsii, bins=bins, labels=False, include_lowest=True)\n",
    "patients_df = pd.merge(patients_df, sapsii_df['sapsii_quartile'], left_index=True, right_index=True)"
   ]
  },
  {
   "cell_type": "code",
   "execution_count": 8,
   "id": "b4520b8c",
   "metadata": {},
   "outputs": [],
   "source": [
    "#--------------------------------------------------------------------------\n",
    "# paper considers in-hospital mortality as any of these three events:\n",
    "#  1) Death = `deathtime` feature not null\n",
    "#  2) A note of \"Do Not Resuscitate\" (DNR) = `dnr_first_charttime` not null\n",
    "#  3) A note of \"Comfort Measures Only\" (CMO) = `timecmo_chart` not null\n",
    "# earliest time of the three events is considered the mortality time\n",
    "# `mort_time` for all experiments described in the paper\n",
    "patients_df['morttime'] = patients_df[['deathtime', 'dnr_first_charttime', 'timecmo_chart']].min(axis=1)\n",
    "# `mort_flag` is True if patient dies in hospital or False if not\n",
    "# this flag will be used as our prediction label (`Y`)\n",
    "patients_df['mort_flag'] = np.where(patients_df['morttime'].isnull(), False, True)\n",
    "\n",
    "# calculate hours elapsed between patient admitted into the ICU\n",
    "# and same patient being discharged from the hospital\n",
    "# (this is called period of stay in the paper)\n",
    "patients_df['hours_in_icu'] = patients_df['dischtime'] - patients_df['intime']\n",
    "patients_df['hours_in_icu'] = patients_df['hours_in_icu'].apply(lambda x: x.total_seconds() / 3600)\n",
    "\n",
    "# calculate hours elapsed between patient admitted into the ICU\n",
    "# and same patient dying (or reaching either DNR or CMO condition)\n",
    "patients_df['hours_until_mort'] = patients_df['morttime'] - patients_df['intime']\n",
    "patients_df['hours_until_mort'] = patients_df['hours_until_mort'].apply(lambda x: x.total_seconds() / 3600)\n",
    "\n",
    "# exclusion criteria 1: remove patients with a period of stay lower than `cutoff_hours` (e.g. 24 hours)\n",
    "patients_df = patients_df[patients_df['hours_in_icu'] >= cutoff_hours]\n",
    "\n",
    "# exclusion criteria 2: remove patients that died in the period of stay or the gap period (e.g. first 24+12 hours)\n",
    "patients_df = patients_df[patients_df['hours_in_icu'] >= cutoff_hours + gap_hours]"
   ]
  },
  {
   "cell_type": "code",
   "execution_count": 9,
   "id": "3896f754",
   "metadata": {},
   "outputs": [],
   "source": [
    "#--------------------------------------\n",
    "# Time to switch to physiological data!\n",
    "\n",
    "# paper considers the following 29 vitals and labs \n",
    "vitals_labs_to_keep_list = [\n",
    "    'anion gap',\n",
    "    'bicarbonate',\n",
    "    'blood urea nitrogen',\n",
    "    'chloride',\n",
    "    'creatinine',\n",
    "    'diastolic blood pressure',\n",
    "    'fraction inspired oxygen',\n",
    "    'glascow coma scale total',\n",
    "    'glucose',\n",
    "    'heart rate',\n",
    "    'hematocrit',\n",
    "    'hemoglobin',\n",
    "    'lactate',\n",
    "    'magnesium',\n",
    "    'mean blood pressure',\n",
    "    'oxygen saturation',\n",
    "    'partial thromboplastin time',\n",
    "    'phosphate',\n",
    "    'platelets',\n",
    "    'potassium',\n",
    "    'prothrombin time inr',\n",
    "    'prothrombin time pt',\n",
    "    'respiratory rate',\n",
    "    'sodium',\n",
    "    'systolic blood pressure',\n",
    "    'temperature',\n",
    "    'weight',\n",
    "    'white blood cell count',\n",
    "    'ph'\n",
    "]\n",
    "\n",
    "# subset MIMIC-Extract data to the list of vitals/labs used in the paper\n",
    "vitals_labs_df = vitals_labs_mean_df[vitals_labs_to_keep_list]"
   ]
  },
  {
   "cell_type": "code",
   "execution_count": 10,
   "id": "275ed74f",
   "metadata": {},
   "outputs": [],
   "source": [
    "# let's discretize the physiological features by:\n",
    "#  1) Converting them into z-scores\n",
    "#  2) Rounding the resulting z-scores to integers and clipping them to [-4, 4]\n",
    "#  3) Replacing z-scores with value 9 if they are NaN\n",
    "#  4) Dummifying the resulting columns and removing the NaN columns\n",
    "\n",
    "# create two dictionaries of mean and standard deviation values by vital/lab\n",
    "# since these dictionaries will be used to calculate the z-scores next\n",
    "mean_dict = vitals_labs_df.groupby(['subject_id']).mean().mean().to_dict()\n",
    "stdev_dict = vitals_labs_df.std().to_dict()\n",
    "\n",
    "# convert values for every vital/lab into z-scores rounded to the nearest integer,\n",
    "# clipped between [-4, 4] and replaced with 9 if NaN\n",
    "vitals_labs_df = vitals_labs_df.apply(lambda x: transform_into_zscores(x, mean_dict, stdev_dict), axis=0)\n",
    "\n",
    "# dummify all columns\n",
    "vitals_labs_df = pd.get_dummies(vitals_labs_df, columns=vitals_labs_df.columns)\n",
    "\n",
    "# remove NaN columns (those ending in '_9')\n",
    "nan_columns = [column for column in vitals_labs_df.columns if '_9' in column]\n",
    "vitals_labs_df.drop(nan_columns, axis=1, inplace=True)\n",
    "\n",
    "# just keep `cutoff_hours` hours of data (e.g. 24 hours)\n",
    "vitals_labs_df = vitals_labs_df.query(f'hours_in < {cutoff_hours}')\n",
    "\n",
    "# remove `hadm_id` and `icustay_id`\n",
    "vitals_labs_df.reset_index(['hadm_id', 'icustay_id'], drop=True, inplace=True)"
   ]
  },
  {
   "cell_type": "code",
   "execution_count": 11,
   "id": "7e0edc35",
   "metadata": {},
   "outputs": [],
   "source": [
    "# pad patients whose records stopped earlier than `cutoff_hours` with zeroes\n",
    "pad_hours_df = vitals_labs_df.groupby(level=0).apply(hours_to_pad, cutoff_hours)\n",
    "pad_hours_df = pad_hours_df[pad_hours_df != -1].reset_index()\n",
    "pad_hours_df.columns = ['subject_id', 'pad_hours']\n",
    "padding_list_of_tuples = []\n",
    "for subject_id in pad_hours_df.subject_id:\n",
    "    for hour in list(pad_hours_df[pad_hours_df.subject_id == subject_id].pad_hours)[0]:\n",
    "        padding_list_of_tuples.append((subject_id, hour))\n",
    "pad_hours_df_idx = pd.MultiIndex.from_tuples(padding_list_of_tuples, names=('subject_id', 'hours_in'))\n",
    "pad_hours_df = pd.DataFrame(0, pad_hours_df_idx, columns=vitals_labs_df.columns)\n",
    "vitals_labs_df = pd.concat([vitals_labs_df, pad_hours_df], axis=0)\n",
    "\n",
    "# after padding, now we have a dataframe with number of patients times `cutoff_hours` records"
   ]
  },
  {
   "cell_type": "code",
   "execution_count": 12,
   "id": "e330d46b",
   "metadata": {},
   "outputs": [],
   "source": [
    "# select, categorize, and dummify the three static variables\n",
    "# selected by the paper: gender, age, and ethnicity\n",
    "static_df = patients_df[['gender', 'age', 'ethnicity', 'mort_flag']]. \\\n",
    "    reset_index(['hadm_id', 'icustay_id'], drop=True)\n",
    "static_df['ethnicity'] = static_df['ethnicity'].apply(categorize_ethnicity)\n",
    "static_df['age'] = static_df['age'].apply(categorize_age)\n",
    "static_df = pd.get_dummies(static_df, columns=['gender', 'age', 'ethnicity'])"
   ]
  },
  {
   "cell_type": "code",
   "execution_count": 13,
   "id": "60e58a1f",
   "metadata": {},
   "outputs": [],
   "source": [
    "# merge static data and physiological data to get the X and Y dataframes\n",
    "# X dataframe has dimensions P x T x F where:\n",
    "#  P is number of patients (subject_id)\n",
    "#  T is number of timesteps (hours_in); e.g. 24 for 24 hours\n",
    "#  F is number of features (3 static + 29 vitals/labs before being bucketized/dummified = 232 after processing)\n",
    "X_df = pd.merge(static_df, vitals_labs_df, left_index=True, right_index=True)\n",
    "Y_df = X_df[['mort_flag']].groupby(level=0).max()"
   ]
  },
  {
   "cell_type": "code",
   "execution_count": 15,
   "id": "da08a9cd",
   "metadata": {},
   "outputs": [],
   "source": [
    "# convert X and Y dataframes to NumPy arrays\n",
    "# X will be shaped into a NumPy array of shape (P, T, F)\n",
    "X = X_df.loc[:, X_df.columns != 'mort_flag'].to_numpy(dtype=int)\n",
    "X = np.reshape(X, (len(Y_df), cutoff_hours, -1))\n",
    "# Y will be shaped into a NumPy vector of shape (P,)\n",
    "Y = np.squeeze(Y_df.to_numpy(dtype=int), axis=1)"
   ]
  },
  {
   "cell_type": "code",
   "execution_count": 23,
   "id": "8d86a169",
   "metadata": {},
   "outputs": [
    {
     "data": {
      "text/plain": [
       "array([    3,     4,     6, ..., 99992, 99995, 99999])"
      ]
     },
     "execution_count": 23,
     "metadata": {},
     "output_type": "execute_result"
    }
   ],
   "source": []
  },
  {
   "cell_type": "code",
   "execution_count": 16,
   "id": "a6cb74db",
   "metadata": {},
   "outputs": [],
   "source": [
    "# create cohort vectors of shape (P, 1)\n",
    "cohort_careunits_df = patients_df[['first_careunit']]. \\\n",
    "    reset_index(['hadm_id', 'icustay_id'], drop=True).groupby(level=0).first()\n",
    "cohort_careunits = np.squeeze(cohort_careunits_df.to_numpy(), axis=1)\n",
    "cohort_sapsii_quartile_df = patients_df[['sapsii_quartile']]. \\\n",
    "    reset_index(['hadm_id', 'icustay_id'], drop=True).groupby(level=0).max()\n",
    "cohort_sapsii_quartile = np.squeeze(cohort_sapsii_quartile_df.to_numpy(), axis=1)\n",
    "subject_ids = Y_df.index.get_level_values(0).to_numpy()"
   ]
  },
  {
   "cell_type": "code",
   "execution_count": 18,
   "id": "d8204c16",
   "metadata": {},
   "outputs": [
    {
     "data": {
      "text/plain": [
       "(32537,)"
      ]
     },
     "execution_count": 18,
     "metadata": {},
     "output_type": "execute_result"
    }
   ],
   "source": [
    "cohort_careunits.shape"
   ]
  },
  {
   "cell_type": "code",
   "execution_count": 17,
   "id": "2f3bbf66",
   "metadata": {},
   "outputs": [
    {
     "data": {
      "text/plain": [
       "(32537,)"
      ]
     },
     "execution_count": 17,
     "metadata": {},
     "output_type": "execute_result"
    }
   ],
   "source": [
    "cohort_sapsii_quartile.shape"
   ]
  },
  {
   "cell_type": "code",
   "execution_count": 19,
   "id": "bf91a370",
   "metadata": {},
   "outputs": [
    {
     "name": "stdout",
     "output_type": "stream",
     "text": [
      "Number of positive examples :  4257\n"
     ]
    }
   ],
   "source": [
    "print(\"Number of positive examples : \", len(Y[Y == 1]))"
   ]
  },
  {
   "cell_type": "code",
   "execution_count": null,
   "id": "e542af02",
   "metadata": {},
   "outputs": [],
   "source": []
  }
 ],
 "metadata": {
  "kernelspec": {
   "display_name": "Python 3 (ipykernel)",
   "language": "python",
   "name": "python3"
  },
  "language_info": {
   "codemirror_mode": {
    "name": "ipython",
    "version": 3
   },
   "file_extension": ".py",
   "mimetype": "text/x-python",
   "name": "python",
   "nbconvert_exporter": "python",
   "pygments_lexer": "ipython3",
   "version": "3.10.9"
  }
 },
 "nbformat": 4,
 "nbformat_minor": 5
}
