{
 "cells": [
  {
   "cell_type": "markdown",
   "id": "652e22f4",
   "metadata": {},
   "source": [
    "<h1><center>CS598 Deep Learning for Healthcare Spring 2023<br>Paper Reproduction Project</center></h1>"
   ]
  },
  {
   "cell_type": "markdown",
   "id": "5ee5cbba",
   "metadata": {},
   "source": [
    "<h3><center>Gilberto Ramirez and Jay Kakwani<br><span style=\"font-family:monospace;\">{ger6, kakwani2}@illinois.edu</span><br><font color=\"lightgrey\">Group ID: 27 | Paper ID: 181</font></center></h3>"
   ]
  },
  {
   "cell_type": "markdown",
   "id": "1421a73d-9842-41e6-820f-487f66d7dcfc",
   "metadata": {},
   "source": [
    "### Ablation Study : Lab Measurement feature changes\n",
    "\n",
    "In this ablation study, we will be dropping below four lab measurement features to perform ablation. All four lab measurements fall in to blood measurements type. \n",
    "\n",
    "* bicarbonate - measures the amount of bicarbonate, a form of carbon dioxide, in your blood.\n",
    "* fraction inspired oxygen - an estimation of the oxygen content a person inhales.\n",
    "* glascow coma scale total - measure coma and impaired consciousness.\n",
    "* platelets - measures the number of platelets you have in your blood. Platelets are also known as thrombocytes.\n",
    "\n",
    "We will be using a modified version of `mortality_prediction.py` file called `mtl_patients_ablation.py` , which has above specified lab measurements commented in code. "
   ]
  },
  {
   "cell_type": "markdown",
   "id": "413e318a",
   "metadata": {},
   "source": [
    "## 1. Data"
   ]
  },
  {
   "cell_type": "markdown",
   "id": "548f3462",
   "metadata": {},
   "source": [
    "### 1.1. Summaries, 24 hours (cutoff period) + 12 hours (gap period)"
   ]
  },
  {
   "cell_type": "markdown",
   "id": "2493677c",
   "metadata": {},
   "source": [
    "Now let's run the `get_summaries()` function with `cutoff_hours` = 24 and `gap_hours` = 12:"
   ]
  },
  {
   "cell_type": "code",
   "execution_count": 1,
   "id": "86b6c0d1-0a31-46ce-abcb-2a8c3582dec2",
   "metadata": {
    "tags": []
   },
   "outputs": [
    {
     "name": "stdout",
     "output_type": "stream",
     "text": [
      "Start time: 14/04/2023 01:35:52\n"
     ]
    }
   ],
   "source": [
    "# store/print start time to measure runtime\n",
    "from datetime import datetime\n",
    "import pytz\n",
    "starttime = datetime.now(pytz.timezone('America/New_York')).strftime(\"%d/%m/%Y %H:%M:%S\")\n",
    "print(f'Start time: {starttime}')"
   ]
  },
  {
   "cell_type": "code",
   "execution_count": 3,
   "id": "2d024700",
   "metadata": {
    "tags": []
   },
   "outputs": [],
   "source": [
    "%load_ext autoreload\n",
    "%autoreload 2\n",
    "\n",
    "import numpy as np\n",
    "import pandas as pd\n",
    "\n",
    "import sys\n",
    "pathname = \"../code/\"\n",
    "if pathname not in sys.path:\n",
    "    sys.path.append(\"../code/\")\n",
    "pd.options.display.max_rows = 999\n",
    "\n",
    "from mtl_patients_ablation import get_summaries\n",
    "from mtl_patients_ablation import discover_cohorts\n",
    "from mtl_patients_ablation import run_mortality_prediction_task"
   ]
  },
  {
   "cell_type": "code",
   "execution_count": 6,
   "id": "475bac15-872d-4bac-93f5-598314107b79",
   "metadata": {
    "collapsed": true,
    "jupyter": {
     "outputs_hidden": true
    },
    "tags": []
   },
   "outputs": [
    {
     "name": "stdout",
     "output_type": "stream",
     "text": [
      "Collecting tables\n",
      "  Downloading tables-3.8.0-cp39-cp39-manylinux_2_17_x86_64.manylinux2014_x86_64.whl (6.5 MB)\n",
      "\u001b[2K     \u001b[90m━━━━━━━━━━━━━━━━━━━━━━━━━━━━━━━━━━━━━━━━\u001b[0m \u001b[32m6.5/6.5 MB\u001b[0m \u001b[31m88.6 MB/s\u001b[0m eta \u001b[36m0:00:00\u001b[0m:00:01\u001b[0m00:01\u001b[0m\n",
      "\u001b[?25hRequirement already satisfied: packaging in /usr/local/lib/python3.9/dist-packages (from tables) (23.0)\n",
      "Collecting py-cpuinfo\n",
      "  Downloading py_cpuinfo-9.0.0-py3-none-any.whl (22 kB)\n",
      "Collecting numexpr>=2.6.2\n",
      "  Downloading numexpr-2.8.4-cp39-cp39-manylinux_2_17_x86_64.manylinux2014_x86_64.whl (380 kB)\n",
      "\u001b[2K     \u001b[90m━━━━━━━━━━━━━━━━━━━━━━━━━━━━━━━━━━━━━━\u001b[0m \u001b[32m380.7/380.7 kB\u001b[0m \u001b[31m75.6 MB/s\u001b[0m eta \u001b[36m0:00:00\u001b[0m\n",
      "\u001b[?25hCollecting blosc2~=2.0.0\n",
      "  Downloading blosc2-2.0.0-cp39-cp39-manylinux_2_17_x86_64.manylinux2014_x86_64.whl (3.9 MB)\n",
      "\u001b[2K     \u001b[90m━━━━━━━━━━━━━━━━━━━━━━━━━━━━━━━━━━━━━━━━\u001b[0m \u001b[32m3.9/3.9 MB\u001b[0m \u001b[31m113.1 MB/s\u001b[0m eta \u001b[36m0:00:00\u001b[0m00:01\u001b[0m\n",
      "\u001b[?25hRequirement already satisfied: numpy>=1.19.0 in /usr/local/lib/python3.9/dist-packages (from tables) (1.23.4)\n",
      "Requirement already satisfied: cython>=0.29.21 in /usr/local/lib/python3.9/dist-packages (from tables) (0.29.32)\n",
      "Requirement already satisfied: msgpack in /usr/local/lib/python3.9/dist-packages (from blosc2~=2.0.0->tables) (1.0.4)\n",
      "Installing collected packages: py-cpuinfo, numexpr, blosc2, tables\n",
      "Successfully installed blosc2-2.0.0 numexpr-2.8.4 py-cpuinfo-9.0.0 tables-3.8.0\n",
      "\u001b[33mWARNING: Running pip as the 'root' user can result in broken permissions and conflicting behaviour with the system package manager. It is recommended to use a virtual environment instead: https://pip.pypa.io/warnings/venv\u001b[0m\u001b[33m\n",
      "\u001b[0m"
     ]
    }
   ],
   "source": [
    "# install `pytables` using `pip` if running from Paperspace since TensorFlow image does not have it\n",
    "!pip install tables"
   ]
  },
  {
   "cell_type": "code",
   "execution_count": 4,
   "id": "e04a5c55",
   "metadata": {
    "tags": []
   },
   "outputs": [
    {
     "name": "stdout",
     "output_type": "stream",
     "text": [
      "++++++++++++++++++++++++++++++++++++++++++++++++++++++++++++++++++++++++++++++++\n",
      "Creating summaries\n",
      "--------------------------------------------------------------------------------\n",
      "    Loading data from MIMIC-Extract pipeline...\n",
      "    Adding SAPS II score to static dataset...\n",
      "    Adding mortality columns to static dataset...\n",
      "    Merging dataframes to create X_full...\n",
      "    Creating summary by careunit...\n",
      "    Creating summary by SAPS II score quartile...\n",
      "    Creating summary by vitals/labs...\n",
      "    Done!\n",
      "CPU times: user 8.85 s, sys: 3.5 s, total: 12.4 s\n",
      "Wall time: 12.6 s\n"
     ]
    }
   ],
   "source": [
    "%%time\n",
    "pat_summ_24_by_cu_df, pat_summ_24_by_sapsiiq_df, vitals_labs_summ_24_df = get_summaries(cutoff_hours=24, gap_hours=12)"
   ]
  },
  {
   "cell_type": "markdown",
   "id": "12bcc93e",
   "metadata": {},
   "source": [
    "Let's now display the resulting summaries one at a time."
   ]
  },
  {
   "cell_type": "markdown",
   "id": "48b48560",
   "metadata": {},
   "source": [
    "#### 1.1.1. Data summary by patients in each intensive care unit (ICU)"
   ]
  },
  {
   "cell_type": "code",
   "execution_count": 5,
   "id": "451bdc7a",
   "metadata": {
    "tags": []
   },
   "outputs": [
    {
     "data": {
      "text/html": [
       "<div>\n",
       "<style scoped>\n",
       "    .dataframe tbody tr th:only-of-type {\n",
       "        vertical-align: middle;\n",
       "    }\n",
       "\n",
       "    .dataframe tbody tr th {\n",
       "        vertical-align: top;\n",
       "    }\n",
       "\n",
       "    .dataframe thead th {\n",
       "        text-align: right;\n",
       "    }\n",
       "</style>\n",
       "<table border=\"1\" class=\"dataframe\">\n",
       "  <thead>\n",
       "    <tr style=\"text-align: right;\">\n",
       "      <th></th>\n",
       "      <th>N</th>\n",
       "      <th>n</th>\n",
       "      <th>Class Imbalance</th>\n",
       "      <th>Age (Mean)</th>\n",
       "      <th>Gender (Male)</th>\n",
       "    </tr>\n",
       "    <tr>\n",
       "      <th>Careunit</th>\n",
       "      <th></th>\n",
       "      <th></th>\n",
       "      <th></th>\n",
       "      <th></th>\n",
       "      <th></th>\n",
       "    </tr>\n",
       "  </thead>\n",
       "  <tbody>\n",
       "    <tr>\n",
       "      <th>CCU</th>\n",
       "      <td>4907</td>\n",
       "      <td>344</td>\n",
       "      <td>0.070</td>\n",
       "      <td>82.56</td>\n",
       "      <td>0.58</td>\n",
       "    </tr>\n",
       "    <tr>\n",
       "      <th>CSRU</th>\n",
       "      <td>6971</td>\n",
       "      <td>139</td>\n",
       "      <td>0.020</td>\n",
       "      <td>69.49</td>\n",
       "      <td>0.67</td>\n",
       "    </tr>\n",
       "    <tr>\n",
       "      <th>MICU</th>\n",
       "      <td>11403</td>\n",
       "      <td>1138</td>\n",
       "      <td>0.100</td>\n",
       "      <td>77.97</td>\n",
       "      <td>0.51</td>\n",
       "    </tr>\n",
       "    <tr>\n",
       "      <th>SICU</th>\n",
       "      <td>5187</td>\n",
       "      <td>409</td>\n",
       "      <td>0.079</td>\n",
       "      <td>72.65</td>\n",
       "      <td>0.52</td>\n",
       "    </tr>\n",
       "    <tr>\n",
       "      <th>TSICU</th>\n",
       "      <td>4245</td>\n",
       "      <td>291</td>\n",
       "      <td>0.069</td>\n",
       "      <td>67.20</td>\n",
       "      <td>0.61</td>\n",
       "    </tr>\n",
       "    <tr>\n",
       "      <th>Overall</th>\n",
       "      <td>32713</td>\n",
       "      <td>2321</td>\n",
       "      <td>0.071</td>\n",
       "      <td>74.61</td>\n",
       "      <td>0.57</td>\n",
       "    </tr>\n",
       "  </tbody>\n",
       "</table>\n",
       "</div>"
      ],
      "text/plain": [
       "              N     n  Class Imbalance  Age (Mean)  Gender (Male)\n",
       "Careunit                                                         \n",
       "CCU        4907   344            0.070       82.56           0.58\n",
       "CSRU       6971   139            0.020       69.49           0.67\n",
       "MICU      11403  1138            0.100       77.97           0.51\n",
       "SICU       5187   409            0.079       72.65           0.52\n",
       "TSICU      4245   291            0.069       67.20           0.61\n",
       "Overall   32713  2321            0.071       74.61           0.57"
      ]
     },
     "execution_count": 5,
     "metadata": {},
     "output_type": "execute_result"
    }
   ],
   "source": [
    "pat_summ_24_by_cu_df"
   ]
  },
  {
   "cell_type": "markdown",
   "id": "f3dff829",
   "metadata": {},
   "source": [
    "In the previous summary, patients were broken in groups where each group is one of five careunits where patients were first admitted:\n",
    "* CCU: Coronary Care Unit\n",
    "* CSRU: Cardiac Surgery Recovery Unit\n",
    "* MICU: Medical Intensive Care Unit\n",
    "* SICU: Surgical Intensive Care Unit\n",
    "* TSICU: Trauma Surgical Intensive Care Unit\n",
    "\n",
    "In addition, an overall group was also added. The statistics provided by the summary are:\n",
    "* `N`: The number of samples (patients) in the group.\n",
    "* `n`: The number of samples (patients) meeting the in-hospital mortality criteria defined in the paper: patient died or had a note of \"Do Not Resuscitate\" (DNR) or had a note of \"Comfort Measures Only\" (CMO).\n",
    "* `Class Imbalance`: Ratio of patients meeting the in-hospital mortality criteria defined in the paper, i.e., $\\dfrac{\\text{n}}{\\text{N}}$.\n",
    "* `Age (Mean)`: Mean age of patients for each group in years.\n",
    "* `Gender (Male)`: Ratio of patients that are males.\n",
    "\n",
    "This summary was prepared to match Table 1 in the original paper. There are differences between both that can be attributed to the way how data was preprocessed by MIMIC-Extract when compared to the preprocessing done by the authors back in 2018, before MIMIC-Extract became available, and that was not made available by the authors in [their code](https://github.com/mit-caml/multitask-patients)."
   ]
  },
  {
   "cell_type": "markdown",
   "id": "9f1a8e12",
   "metadata": {},
   "source": [
    "#### 1.1.2. Data summary by patients in each SAPS-II score quartile"
   ]
  },
  {
   "cell_type": "code",
   "execution_count": 6,
   "id": "2d1474f4",
   "metadata": {
    "tags": []
   },
   "outputs": [
    {
     "data": {
      "text/html": [
       "<div>\n",
       "<style scoped>\n",
       "    .dataframe tbody tr th:only-of-type {\n",
       "        vertical-align: middle;\n",
       "    }\n",
       "\n",
       "    .dataframe tbody tr th {\n",
       "        vertical-align: top;\n",
       "    }\n",
       "\n",
       "    .dataframe thead th {\n",
       "        text-align: right;\n",
       "    }\n",
       "</style>\n",
       "<table border=\"1\" class=\"dataframe\">\n",
       "  <thead>\n",
       "    <tr style=\"text-align: right;\">\n",
       "      <th></th>\n",
       "      <th>N</th>\n",
       "      <th>n</th>\n",
       "      <th>Class Imbalance</th>\n",
       "      <th>Age (Mean)</th>\n",
       "      <th>Gender (Male)</th>\n",
       "      <th>SAPS II (Min)</th>\n",
       "      <th>SAPS II (Mean)</th>\n",
       "      <th>SAPS II (Max)</th>\n",
       "    </tr>\n",
       "    <tr>\n",
       "      <th>SAPS II Quartile</th>\n",
       "      <th></th>\n",
       "      <th></th>\n",
       "      <th></th>\n",
       "      <th></th>\n",
       "      <th></th>\n",
       "      <th></th>\n",
       "      <th></th>\n",
       "      <th></th>\n",
       "    </tr>\n",
       "  </thead>\n",
       "  <tbody>\n",
       "    <tr>\n",
       "      <th>0</th>\n",
       "      <td>7095</td>\n",
       "      <td>62</td>\n",
       "      <td>0.009</td>\n",
       "      <td>45.69</td>\n",
       "      <td>0.61</td>\n",
       "      <td>0</td>\n",
       "      <td>16.61</td>\n",
       "      <td>22</td>\n",
       "    </tr>\n",
       "    <tr>\n",
       "      <th>1</th>\n",
       "      <td>10032</td>\n",
       "      <td>258</td>\n",
       "      <td>0.026</td>\n",
       "      <td>68.95</td>\n",
       "      <td>0.58</td>\n",
       "      <td>23</td>\n",
       "      <td>27.74</td>\n",
       "      <td>32</td>\n",
       "    </tr>\n",
       "    <tr>\n",
       "      <th>2</th>\n",
       "      <td>8122</td>\n",
       "      <td>552</td>\n",
       "      <td>0.068</td>\n",
       "      <td>86.49</td>\n",
       "      <td>0.55</td>\n",
       "      <td>33</td>\n",
       "      <td>36.72</td>\n",
       "      <td>41</td>\n",
       "    </tr>\n",
       "    <tr>\n",
       "      <th>3</th>\n",
       "      <td>7464</td>\n",
       "      <td>1449</td>\n",
       "      <td>0.194</td>\n",
       "      <td>96.79</td>\n",
       "      <td>0.54</td>\n",
       "      <td>42</td>\n",
       "      <td>51.42</td>\n",
       "      <td>118</td>\n",
       "    </tr>\n",
       "    <tr>\n",
       "      <th>Overall</th>\n",
       "      <td>32713</td>\n",
       "      <td>2321</td>\n",
       "      <td>0.071</td>\n",
       "      <td>74.61</td>\n",
       "      <td>0.57</td>\n",
       "      <td>0</td>\n",
       "      <td>32.96</td>\n",
       "      <td>118</td>\n",
       "    </tr>\n",
       "  </tbody>\n",
       "</table>\n",
       "</div>"
      ],
      "text/plain": [
       "                      N     n  Class Imbalance  Age (Mean)  Gender (Male)  \\\n",
       "SAPS II Quartile                                                            \n",
       "0                  7095    62            0.009       45.69           0.61   \n",
       "1                 10032   258            0.026       68.95           0.58   \n",
       "2                  8122   552            0.068       86.49           0.55   \n",
       "3                  7464  1449            0.194       96.79           0.54   \n",
       "Overall           32713  2321            0.071       74.61           0.57   \n",
       "\n",
       "                  SAPS II (Min)  SAPS II (Mean)  SAPS II (Max)  \n",
       "SAPS II Quartile                                                \n",
       "0                             0           16.61             22  \n",
       "1                            23           27.74             32  \n",
       "2                            33           36.72             41  \n",
       "3                            42           51.42            118  \n",
       "Overall                       0           32.96            118  "
      ]
     },
     "execution_count": 6,
     "metadata": {},
     "output_type": "execute_result"
    }
   ],
   "source": [
    "pat_summ_24_by_sapsiiq_df"
   ]
  },
  {
   "cell_type": "markdown",
   "id": "0711c274",
   "metadata": {},
   "source": [
    "In the previous summary, patients were broken based on the quartile of the SAPS-II score assigned to them. As it can be seen, the four quartiles have the ranges $[0, 22], [23, 32], [33, 41], [42, 118] $. This was included in the authors code but not in the paper. It seems the class imbalance might have been the primary reason. As it is evident from the summary, most of the patients are in quartile $3$ since they are in an ICU and is expected their values are on the high side."
   ]
  },
  {
   "cell_type": "markdown",
   "id": "c3b0959c",
   "metadata": {},
   "source": [
    "#### 1.1.3. Data summary for physiological measurements"
   ]
  },
  {
   "cell_type": "code",
   "execution_count": 7,
   "id": "2c2e18ef",
   "metadata": {
    "tags": []
   },
   "outputs": [
    {
     "data": {
      "text/html": [
       "<div>\n",
       "<style scoped>\n",
       "    .dataframe tbody tr th:only-of-type {\n",
       "        vertical-align: middle;\n",
       "    }\n",
       "\n",
       "    .dataframe tbody tr th {\n",
       "        vertical-align: top;\n",
       "    }\n",
       "\n",
       "    .dataframe thead th {\n",
       "        text-align: right;\n",
       "    }\n",
       "</style>\n",
       "<table border=\"1\" class=\"dataframe\">\n",
       "  <thead>\n",
       "    <tr style=\"text-align: right;\">\n",
       "      <th></th>\n",
       "      <th>min</th>\n",
       "      <th>avg</th>\n",
       "      <th>max</th>\n",
       "      <th>std</th>\n",
       "      <th>N</th>\n",
       "      <th>pres.</th>\n",
       "    </tr>\n",
       "    <tr>\n",
       "      <th>variable</th>\n",
       "      <th></th>\n",
       "      <th></th>\n",
       "      <th></th>\n",
       "      <th></th>\n",
       "      <th></th>\n",
       "      <th></th>\n",
       "    </tr>\n",
       "  </thead>\n",
       "  <tbody>\n",
       "    <tr>\n",
       "      <th>anion gap</th>\n",
       "      <td>5.00</td>\n",
       "      <td>13.62</td>\n",
       "      <td>50.00</td>\n",
       "      <td>3.84</td>\n",
       "      <td>178506</td>\n",
       "      <td>0.0832</td>\n",
       "    </tr>\n",
       "    <tr>\n",
       "      <th>blood urea nitrogen</th>\n",
       "      <td>0.00</td>\n",
       "      <td>26.07</td>\n",
       "      <td>250.00</td>\n",
       "      <td>21.63</td>\n",
       "      <td>189120</td>\n",
       "      <td>0.0882</td>\n",
       "    </tr>\n",
       "    <tr>\n",
       "      <th>chloride</th>\n",
       "      <td>50.00</td>\n",
       "      <td>105.19</td>\n",
       "      <td>175.00</td>\n",
       "      <td>6.26</td>\n",
       "      <td>205674</td>\n",
       "      <td>0.0959</td>\n",
       "    </tr>\n",
       "    <tr>\n",
       "      <th>creatinine</th>\n",
       "      <td>0.10</td>\n",
       "      <td>1.39</td>\n",
       "      <td>46.60</td>\n",
       "      <td>1.48</td>\n",
       "      <td>189944</td>\n",
       "      <td>0.0886</td>\n",
       "    </tr>\n",
       "    <tr>\n",
       "      <th>diastolic blood pressure</th>\n",
       "      <td>0.00</td>\n",
       "      <td>60.95</td>\n",
       "      <td>307.00</td>\n",
       "      <td>14.08</td>\n",
       "      <td>1866709</td>\n",
       "      <td>0.8703</td>\n",
       "    </tr>\n",
       "    <tr>\n",
       "      <th>glucose</th>\n",
       "      <td>33.00</td>\n",
       "      <td>140.03</td>\n",
       "      <td>1591.00</td>\n",
       "      <td>56.29</td>\n",
       "      <td>502487</td>\n",
       "      <td>0.2343</td>\n",
       "    </tr>\n",
       "    <tr>\n",
       "      <th>heart rate</th>\n",
       "      <td>0.00</td>\n",
       "      <td>84.88</td>\n",
       "      <td>300.00</td>\n",
       "      <td>17.13</td>\n",
       "      <td>1927016</td>\n",
       "      <td>0.8985</td>\n",
       "    </tr>\n",
       "    <tr>\n",
       "      <th>hematocrit</th>\n",
       "      <td>0.00</td>\n",
       "      <td>30.97</td>\n",
       "      <td>71.70</td>\n",
       "      <td>5.30</td>\n",
       "      <td>247725</td>\n",
       "      <td>0.1155</td>\n",
       "    </tr>\n",
       "    <tr>\n",
       "      <th>hemoglobin</th>\n",
       "      <td>0.00</td>\n",
       "      <td>10.63</td>\n",
       "      <td>22.10</td>\n",
       "      <td>1.88</td>\n",
       "      <td>199930</td>\n",
       "      <td>0.0932</td>\n",
       "    </tr>\n",
       "    <tr>\n",
       "      <th>lactate</th>\n",
       "      <td>0.40</td>\n",
       "      <td>2.51</td>\n",
       "      <td>30.00</td>\n",
       "      <td>2.36</td>\n",
       "      <td>58088</td>\n",
       "      <td>0.0271</td>\n",
       "    </tr>\n",
       "    <tr>\n",
       "      <th>magnesium</th>\n",
       "      <td>0.00</td>\n",
       "      <td>2.05</td>\n",
       "      <td>20.00</td>\n",
       "      <td>0.41</td>\n",
       "      <td>176416</td>\n",
       "      <td>0.0823</td>\n",
       "    </tr>\n",
       "    <tr>\n",
       "      <th>mean blood pressure</th>\n",
       "      <td>14.00</td>\n",
       "      <td>79.46</td>\n",
       "      <td>330.00</td>\n",
       "      <td>15.42</td>\n",
       "      <td>1857529</td>\n",
       "      <td>0.8661</td>\n",
       "    </tr>\n",
       "    <tr>\n",
       "      <th>oxygen saturation</th>\n",
       "      <td>0.00</td>\n",
       "      <td>96.76</td>\n",
       "      <td>100.00</td>\n",
       "      <td>3.42</td>\n",
       "      <td>1842683</td>\n",
       "      <td>0.8591</td>\n",
       "    </tr>\n",
       "    <tr>\n",
       "      <th>partial thromboplastin time</th>\n",
       "      <td>18.80</td>\n",
       "      <td>41.06</td>\n",
       "      <td>150.00</td>\n",
       "      <td>24.43</td>\n",
       "      <td>131651</td>\n",
       "      <td>0.0614</td>\n",
       "    </tr>\n",
       "    <tr>\n",
       "      <th>ph</th>\n",
       "      <td>6.50</td>\n",
       "      <td>7.38</td>\n",
       "      <td>8.40</td>\n",
       "      <td>0.07</td>\n",
       "      <td>195046</td>\n",
       "      <td>0.0909</td>\n",
       "    </tr>\n",
       "    <tr>\n",
       "      <th>phosphate</th>\n",
       "      <td>0.50</td>\n",
       "      <td>3.46</td>\n",
       "      <td>20.00</td>\n",
       "      <td>1.39</td>\n",
       "      <td>115163</td>\n",
       "      <td>0.0537</td>\n",
       "    </tr>\n",
       "    <tr>\n",
       "      <th>potassium</th>\n",
       "      <td>0.80</td>\n",
       "      <td>4.12</td>\n",
       "      <td>12.00</td>\n",
       "      <td>0.64</td>\n",
       "      <td>229886</td>\n",
       "      <td>0.1072</td>\n",
       "    </tr>\n",
       "    <tr>\n",
       "      <th>prothrombin time inr</th>\n",
       "      <td>0.50</td>\n",
       "      <td>1.51</td>\n",
       "      <td>88.80</td>\n",
       "      <td>1.21</td>\n",
       "      <td>125119</td>\n",
       "      <td>0.0583</td>\n",
       "    </tr>\n",
       "    <tr>\n",
       "      <th>prothrombin time pt</th>\n",
       "      <td>2.39</td>\n",
       "      <td>15.92</td>\n",
       "      <td>150.00</td>\n",
       "      <td>6.86</td>\n",
       "      <td>125094</td>\n",
       "      <td>0.0583</td>\n",
       "    </tr>\n",
       "    <tr>\n",
       "      <th>respiratory rate</th>\n",
       "      <td>0.00</td>\n",
       "      <td>19.09</td>\n",
       "      <td>300.00</td>\n",
       "      <td>5.70</td>\n",
       "      <td>1896818</td>\n",
       "      <td>0.8844</td>\n",
       "    </tr>\n",
       "    <tr>\n",
       "      <th>sodium</th>\n",
       "      <td>50.00</td>\n",
       "      <td>138.58</td>\n",
       "      <td>225.00</td>\n",
       "      <td>5.23</td>\n",
       "      <td>217204</td>\n",
       "      <td>0.1013</td>\n",
       "    </tr>\n",
       "    <tr>\n",
       "      <th>systolic blood pressure</th>\n",
       "      <td>0.00</td>\n",
       "      <td>122.00</td>\n",
       "      <td>311.00</td>\n",
       "      <td>21.85</td>\n",
       "      <td>1867146</td>\n",
       "      <td>0.8705</td>\n",
       "    </tr>\n",
       "    <tr>\n",
       "      <th>temperature</th>\n",
       "      <td>26.00</td>\n",
       "      <td>36.98</td>\n",
       "      <td>42.22</td>\n",
       "      <td>0.77</td>\n",
       "      <td>635055</td>\n",
       "      <td>0.2961</td>\n",
       "    </tr>\n",
       "    <tr>\n",
       "      <th>weight</th>\n",
       "      <td>0.00</td>\n",
       "      <td>83.25</td>\n",
       "      <td>250.00</td>\n",
       "      <td>23.39</td>\n",
       "      <td>59919</td>\n",
       "      <td>0.0279</td>\n",
       "    </tr>\n",
       "    <tr>\n",
       "      <th>white blood cell count</th>\n",
       "      <td>0.10</td>\n",
       "      <td>11.88</td>\n",
       "      <td>939.00</td>\n",
       "      <td>9.64</td>\n",
       "      <td>173862</td>\n",
       "      <td>0.0811</td>\n",
       "    </tr>\n",
       "  </tbody>\n",
       "</table>\n",
       "</div>"
      ],
      "text/plain": [
       "                               min     avg      max    std        N   pres.\n",
       "variable                                                                   \n",
       "anion gap                     5.00   13.62    50.00   3.84   178506  0.0832\n",
       "blood urea nitrogen           0.00   26.07   250.00  21.63   189120  0.0882\n",
       "chloride                     50.00  105.19   175.00   6.26   205674  0.0959\n",
       "creatinine                    0.10    1.39    46.60   1.48   189944  0.0886\n",
       "diastolic blood pressure      0.00   60.95   307.00  14.08  1866709  0.8703\n",
       "glucose                      33.00  140.03  1591.00  56.29   502487  0.2343\n",
       "heart rate                    0.00   84.88   300.00  17.13  1927016  0.8985\n",
       "hematocrit                    0.00   30.97    71.70   5.30   247725  0.1155\n",
       "hemoglobin                    0.00   10.63    22.10   1.88   199930  0.0932\n",
       "lactate                       0.40    2.51    30.00   2.36    58088  0.0271\n",
       "magnesium                     0.00    2.05    20.00   0.41   176416  0.0823\n",
       "mean blood pressure          14.00   79.46   330.00  15.42  1857529  0.8661\n",
       "oxygen saturation             0.00   96.76   100.00   3.42  1842683  0.8591\n",
       "partial thromboplastin time  18.80   41.06   150.00  24.43   131651  0.0614\n",
       "ph                            6.50    7.38     8.40   0.07   195046  0.0909\n",
       "phosphate                     0.50    3.46    20.00   1.39   115163  0.0537\n",
       "potassium                     0.80    4.12    12.00   0.64   229886  0.1072\n",
       "prothrombin time inr          0.50    1.51    88.80   1.21   125119  0.0583\n",
       "prothrombin time pt           2.39   15.92   150.00   6.86   125094  0.0583\n",
       "respiratory rate              0.00   19.09   300.00   5.70  1896818  0.8844\n",
       "sodium                       50.00  138.58   225.00   5.23   217204  0.1013\n",
       "systolic blood pressure       0.00  122.00   311.00  21.85  1867146  0.8705\n",
       "temperature                  26.00   36.98    42.22   0.77   635055  0.2961\n",
       "weight                        0.00   83.25   250.00  23.39    59919  0.0279\n",
       "white blood cell count        0.10   11.88   939.00   9.64   173862  0.0811"
      ]
     },
     "execution_count": 7,
     "metadata": {},
     "output_type": "execute_result"
    }
   ],
   "source": [
    "vitals_labs_summ_24_df"
   ]
  },
  {
   "cell_type": "markdown",
   "id": "166cab69",
   "metadata": {},
   "source": [
    "In the previous summary, all vitals and lab measurements selected in the paper (29 in total) are listed with relevant statistics associated to it:\n",
    "* `min` representing the minimum of the measurement observed in the vitals/labs.\n",
    "* `avg` representing the average of the measurement observed in the vitals/labs.\n",
    "* `max` representing the maximum of the measurement observed in the vitals/labs.\n",
    "* `std` representing the standard deviation of the measurement observed in the vitals/labs.\n",
    "* `N` representing the number of non `NaN` samples for the specific vital/lab measurement.\n",
    "* `pres.` representing the portion of all possible hours across all patients, admissions, and ICU stays where at least one of the 104 vitals/labs measurements in the original MIMIC-Extract pipeline was taken.\n",
    "\n",
    "All these measurements are based on the `vitals_labs_mean` dataframe in the MIMIC-Extract pipeline which provides average of vitals/labs on a per hour basis for each patient after going into an ICU."
   ]
  },
  {
   "cell_type": "markdown",
   "id": "9ad8f61d-ff14-4a78-99cf-5a3978928b1c",
   "metadata": {},
   "source": [
    "### 1.2. Summaries, 48 hours (cutoff period) + 24 hours (gap period)"
   ]
  },
  {
   "cell_type": "markdown",
   "id": "dd0fefb8-65b8-4fcc-b684-c61322f7b1a0",
   "metadata": {},
   "source": [
    "Now let's run the `get_summaries()` function with `cutoff_hours` = 48 and `gap_hours` = 24:"
   ]
  },
  {
   "cell_type": "code",
   "execution_count": 8,
   "id": "368a66b1-28ca-4d53-933e-8af1d315d26a",
   "metadata": {
    "tags": []
   },
   "outputs": [
    {
     "name": "stdout",
     "output_type": "stream",
     "text": [
      "++++++++++++++++++++++++++++++++++++++++++++++++++++++++++++++++++++++++++++++++\n",
      "Creating summaries\n",
      "--------------------------------------------------------------------------------\n",
      "    Loading data from MIMIC-Extract pipeline...\n",
      "    Adding SAPS II score to static dataset...\n",
      "    Adding mortality columns to static dataset...\n",
      "    Merging dataframes to create X_full...\n",
      "    Creating summary by careunit...\n",
      "    Creating summary by SAPS II score quartile...\n",
      "    Creating summary by vitals/labs...\n",
      "    Done!\n",
      "CPU times: user 8.64 s, sys: 3.24 s, total: 11.9 s\n",
      "Wall time: 11.9 s\n"
     ]
    }
   ],
   "source": [
    "%%time\n",
    "pat_summ_48_by_cu_df, pat_summ_48_by_sapsiiq_df, vitals_labs_summ_48_df = get_summaries(cutoff_hours=48, gap_hours=24)"
   ]
  },
  {
   "cell_type": "markdown",
   "id": "1979827e-4d1e-43a6-a3b4-76704e8c26bd",
   "metadata": {},
   "source": [
    "#### 1.2.1. Data summary by patients in each intensive care unit (ICU)"
   ]
  },
  {
   "cell_type": "code",
   "execution_count": 9,
   "id": "1ce01e95-88b5-46e0-a092-1018bb899348",
   "metadata": {
    "tags": []
   },
   "outputs": [
    {
     "data": {
      "text/html": [
       "<div>\n",
       "<style scoped>\n",
       "    .dataframe tbody tr th:only-of-type {\n",
       "        vertical-align: middle;\n",
       "    }\n",
       "\n",
       "    .dataframe tbody tr th {\n",
       "        vertical-align: top;\n",
       "    }\n",
       "\n",
       "    .dataframe thead th {\n",
       "        text-align: right;\n",
       "    }\n",
       "</style>\n",
       "<table border=\"1\" class=\"dataframe\">\n",
       "  <thead>\n",
       "    <tr style=\"text-align: right;\">\n",
       "      <th></th>\n",
       "      <th>N</th>\n",
       "      <th>n</th>\n",
       "      <th>Class Imbalance</th>\n",
       "      <th>Age (Mean)</th>\n",
       "      <th>Gender (Male)</th>\n",
       "    </tr>\n",
       "    <tr>\n",
       "      <th>Careunit</th>\n",
       "      <th></th>\n",
       "      <th></th>\n",
       "      <th></th>\n",
       "      <th></th>\n",
       "      <th></th>\n",
       "    </tr>\n",
       "  </thead>\n",
       "  <tbody>\n",
       "    <tr>\n",
       "      <th>CCU</th>\n",
       "      <td>4403</td>\n",
       "      <td>258</td>\n",
       "      <td>0.059</td>\n",
       "      <td>83.28</td>\n",
       "      <td>0.58</td>\n",
       "    </tr>\n",
       "    <tr>\n",
       "      <th>CSRU</th>\n",
       "      <td>6865</td>\n",
       "      <td>110</td>\n",
       "      <td>0.016</td>\n",
       "      <td>69.44</td>\n",
       "      <td>0.67</td>\n",
       "    </tr>\n",
       "    <tr>\n",
       "      <th>MICU</th>\n",
       "      <td>10409</td>\n",
       "      <td>866</td>\n",
       "      <td>0.083</td>\n",
       "      <td>78.47</td>\n",
       "      <td>0.51</td>\n",
       "    </tr>\n",
       "    <tr>\n",
       "      <th>SICU</th>\n",
       "      <td>4815</td>\n",
       "      <td>303</td>\n",
       "      <td>0.063</td>\n",
       "      <td>72.88</td>\n",
       "      <td>0.51</td>\n",
       "    </tr>\n",
       "    <tr>\n",
       "      <th>TSICU</th>\n",
       "      <td>3950</td>\n",
       "      <td>202</td>\n",
       "      <td>0.051</td>\n",
       "      <td>67.35</td>\n",
       "      <td>0.60</td>\n",
       "    </tr>\n",
       "    <tr>\n",
       "      <th>Overall</th>\n",
       "      <td>30442</td>\n",
       "      <td>1739</td>\n",
       "      <td>0.057</td>\n",
       "      <td>74.80</td>\n",
       "      <td>0.57</td>\n",
       "    </tr>\n",
       "  </tbody>\n",
       "</table>\n",
       "</div>"
      ],
      "text/plain": [
       "              N     n  Class Imbalance  Age (Mean)  Gender (Male)\n",
       "Careunit                                                         \n",
       "CCU        4403   258            0.059       83.28           0.58\n",
       "CSRU       6865   110            0.016       69.44           0.67\n",
       "MICU      10409   866            0.083       78.47           0.51\n",
       "SICU       4815   303            0.063       72.88           0.51\n",
       "TSICU      3950   202            0.051       67.35           0.60\n",
       "Overall   30442  1739            0.057       74.80           0.57"
      ]
     },
     "execution_count": 9,
     "metadata": {},
     "output_type": "execute_result"
    }
   ],
   "source": [
    "pat_summ_48_by_cu_df"
   ]
  },
  {
   "cell_type": "markdown",
   "id": "31beb618-466e-4fc0-81ac-d6ddb6e232d8",
   "metadata": {},
   "source": [
    "#### 1.2.2. Data summary by patients in each SAPS-II score quartile"
   ]
  },
  {
   "cell_type": "code",
   "execution_count": 10,
   "id": "2d13fa0c-b0ac-4a86-a27d-1f193979e21c",
   "metadata": {
    "tags": []
   },
   "outputs": [
    {
     "data": {
      "text/html": [
       "<div>\n",
       "<style scoped>\n",
       "    .dataframe tbody tr th:only-of-type {\n",
       "        vertical-align: middle;\n",
       "    }\n",
       "\n",
       "    .dataframe tbody tr th {\n",
       "        vertical-align: top;\n",
       "    }\n",
       "\n",
       "    .dataframe thead th {\n",
       "        text-align: right;\n",
       "    }\n",
       "</style>\n",
       "<table border=\"1\" class=\"dataframe\">\n",
       "  <thead>\n",
       "    <tr style=\"text-align: right;\">\n",
       "      <th></th>\n",
       "      <th>N</th>\n",
       "      <th>n</th>\n",
       "      <th>Class Imbalance</th>\n",
       "      <th>Age (Mean)</th>\n",
       "      <th>Gender (Male)</th>\n",
       "      <th>SAPS II (Min)</th>\n",
       "      <th>SAPS II (Mean)</th>\n",
       "      <th>SAPS II (Max)</th>\n",
       "    </tr>\n",
       "    <tr>\n",
       "      <th>SAPS II Quartile</th>\n",
       "      <th></th>\n",
       "      <th></th>\n",
       "      <th></th>\n",
       "      <th></th>\n",
       "      <th></th>\n",
       "      <th></th>\n",
       "      <th></th>\n",
       "      <th></th>\n",
       "    </tr>\n",
       "  </thead>\n",
       "  <tbody>\n",
       "    <tr>\n",
       "      <th>0</th>\n",
       "      <td>6336</td>\n",
       "      <td>47</td>\n",
       "      <td>0.007</td>\n",
       "      <td>45.90</td>\n",
       "      <td>0.61</td>\n",
       "      <td>0</td>\n",
       "      <td>16.65</td>\n",
       "      <td>22</td>\n",
       "    </tr>\n",
       "    <tr>\n",
       "      <th>1</th>\n",
       "      <td>9402</td>\n",
       "      <td>203</td>\n",
       "      <td>0.022</td>\n",
       "      <td>68.66</td>\n",
       "      <td>0.58</td>\n",
       "      <td>23</td>\n",
       "      <td>27.78</td>\n",
       "      <td>32</td>\n",
       "    </tr>\n",
       "    <tr>\n",
       "      <th>2</th>\n",
       "      <td>7760</td>\n",
       "      <td>439</td>\n",
       "      <td>0.057</td>\n",
       "      <td>86.47</td>\n",
       "      <td>0.55</td>\n",
       "      <td>33</td>\n",
       "      <td>36.72</td>\n",
       "      <td>41</td>\n",
       "    </tr>\n",
       "    <tr>\n",
       "      <th>3</th>\n",
       "      <td>6944</td>\n",
       "      <td>1050</td>\n",
       "      <td>0.151</td>\n",
       "      <td>96.45</td>\n",
       "      <td>0.53</td>\n",
       "      <td>42</td>\n",
       "      <td>51.00</td>\n",
       "      <td>110</td>\n",
       "    </tr>\n",
       "    <tr>\n",
       "      <th>Overall</th>\n",
       "      <td>30442</td>\n",
       "      <td>1739</td>\n",
       "      <td>0.057</td>\n",
       "      <td>74.80</td>\n",
       "      <td>0.57</td>\n",
       "      <td>0</td>\n",
       "      <td>33.04</td>\n",
       "      <td>110</td>\n",
       "    </tr>\n",
       "  </tbody>\n",
       "</table>\n",
       "</div>"
      ],
      "text/plain": [
       "                      N     n  Class Imbalance  Age (Mean)  Gender (Male)  \\\n",
       "SAPS II Quartile                                                            \n",
       "0                  6336    47            0.007       45.90           0.61   \n",
       "1                  9402   203            0.022       68.66           0.58   \n",
       "2                  7760   439            0.057       86.47           0.55   \n",
       "3                  6944  1050            0.151       96.45           0.53   \n",
       "Overall           30442  1739            0.057       74.80           0.57   \n",
       "\n",
       "                  SAPS II (Min)  SAPS II (Mean)  SAPS II (Max)  \n",
       "SAPS II Quartile                                                \n",
       "0                             0           16.65             22  \n",
       "1                            23           27.78             32  \n",
       "2                            33           36.72             41  \n",
       "3                            42           51.00            110  \n",
       "Overall                       0           33.04            110  "
      ]
     },
     "execution_count": 10,
     "metadata": {},
     "output_type": "execute_result"
    }
   ],
   "source": [
    "pat_summ_48_by_sapsiiq_df"
   ]
  },
  {
   "cell_type": "markdown",
   "id": "39db5e52-71ea-4571-8116-c3dff285eb51",
   "metadata": {},
   "source": [
    "#### 1.2.3. Data summary for physiological measurements"
   ]
  },
  {
   "cell_type": "code",
   "execution_count": 11,
   "id": "4a68ecc9-108d-437c-94ee-c401787a1d75",
   "metadata": {
    "tags": []
   },
   "outputs": [
    {
     "data": {
      "text/html": [
       "<div>\n",
       "<style scoped>\n",
       "    .dataframe tbody tr th:only-of-type {\n",
       "        vertical-align: middle;\n",
       "    }\n",
       "\n",
       "    .dataframe tbody tr th {\n",
       "        vertical-align: top;\n",
       "    }\n",
       "\n",
       "    .dataframe thead th {\n",
       "        text-align: right;\n",
       "    }\n",
       "</style>\n",
       "<table border=\"1\" class=\"dataframe\">\n",
       "  <thead>\n",
       "    <tr style=\"text-align: right;\">\n",
       "      <th></th>\n",
       "      <th>min</th>\n",
       "      <th>avg</th>\n",
       "      <th>max</th>\n",
       "      <th>std</th>\n",
       "      <th>N</th>\n",
       "      <th>pres.</th>\n",
       "    </tr>\n",
       "    <tr>\n",
       "      <th>variable</th>\n",
       "      <th></th>\n",
       "      <th></th>\n",
       "      <th></th>\n",
       "      <th></th>\n",
       "      <th></th>\n",
       "      <th></th>\n",
       "    </tr>\n",
       "  </thead>\n",
       "  <tbody>\n",
       "    <tr>\n",
       "      <th>anion gap</th>\n",
       "      <td>5.00</td>\n",
       "      <td>13.51</td>\n",
       "      <td>50.00</td>\n",
       "      <td>3.72</td>\n",
       "      <td>170026</td>\n",
       "      <td>0.0826</td>\n",
       "    </tr>\n",
       "    <tr>\n",
       "      <th>blood urea nitrogen</th>\n",
       "      <td>0.00</td>\n",
       "      <td>26.02</td>\n",
       "      <td>250.00</td>\n",
       "      <td>21.60</td>\n",
       "      <td>180302</td>\n",
       "      <td>0.0876</td>\n",
       "    </tr>\n",
       "    <tr>\n",
       "      <th>chloride</th>\n",
       "      <td>50.00</td>\n",
       "      <td>105.19</td>\n",
       "      <td>175.00</td>\n",
       "      <td>6.22</td>\n",
       "      <td>196370</td>\n",
       "      <td>0.0954</td>\n",
       "    </tr>\n",
       "    <tr>\n",
       "      <th>creatinine</th>\n",
       "      <td>0.10</td>\n",
       "      <td>1.38</td>\n",
       "      <td>46.60</td>\n",
       "      <td>1.48</td>\n",
       "      <td>181105</td>\n",
       "      <td>0.0880</td>\n",
       "    </tr>\n",
       "    <tr>\n",
       "      <th>diastolic blood pressure</th>\n",
       "      <td>0.00</td>\n",
       "      <td>60.96</td>\n",
       "      <td>307.00</td>\n",
       "      <td>14.04</td>\n",
       "      <td>1797292</td>\n",
       "      <td>0.8729</td>\n",
       "    </tr>\n",
       "    <tr>\n",
       "      <th>glucose</th>\n",
       "      <td>33.00</td>\n",
       "      <td>139.72</td>\n",
       "      <td>1591.00</td>\n",
       "      <td>55.49</td>\n",
       "      <td>485940</td>\n",
       "      <td>0.2360</td>\n",
       "    </tr>\n",
       "    <tr>\n",
       "      <th>heart rate</th>\n",
       "      <td>0.00</td>\n",
       "      <td>84.89</td>\n",
       "      <td>300.00</td>\n",
       "      <td>17.00</td>\n",
       "      <td>1854010</td>\n",
       "      <td>0.9005</td>\n",
       "    </tr>\n",
       "    <tr>\n",
       "      <th>hematocrit</th>\n",
       "      <td>0.00</td>\n",
       "      <td>30.88</td>\n",
       "      <td>71.70</td>\n",
       "      <td>5.25</td>\n",
       "      <td>237820</td>\n",
       "      <td>0.1155</td>\n",
       "    </tr>\n",
       "    <tr>\n",
       "      <th>hemoglobin</th>\n",
       "      <td>0.00</td>\n",
       "      <td>10.60</td>\n",
       "      <td>22.10</td>\n",
       "      <td>1.86</td>\n",
       "      <td>191517</td>\n",
       "      <td>0.0930</td>\n",
       "    </tr>\n",
       "    <tr>\n",
       "      <th>lactate</th>\n",
       "      <td>0.40</td>\n",
       "      <td>2.37</td>\n",
       "      <td>30.00</td>\n",
       "      <td>2.09</td>\n",
       "      <td>54344</td>\n",
       "      <td>0.0264</td>\n",
       "    </tr>\n",
       "    <tr>\n",
       "      <th>magnesium</th>\n",
       "      <td>0.00</td>\n",
       "      <td>2.05</td>\n",
       "      <td>20.00</td>\n",
       "      <td>0.41</td>\n",
       "      <td>168654</td>\n",
       "      <td>0.0819</td>\n",
       "    </tr>\n",
       "    <tr>\n",
       "      <th>mean blood pressure</th>\n",
       "      <td>14.00</td>\n",
       "      <td>79.53</td>\n",
       "      <td>330.00</td>\n",
       "      <td>15.39</td>\n",
       "      <td>1788354</td>\n",
       "      <td>0.8686</td>\n",
       "    </tr>\n",
       "    <tr>\n",
       "      <th>oxygen saturation</th>\n",
       "      <td>0.00</td>\n",
       "      <td>96.78</td>\n",
       "      <td>100.00</td>\n",
       "      <td>3.32</td>\n",
       "      <td>1775192</td>\n",
       "      <td>0.8622</td>\n",
       "    </tr>\n",
       "    <tr>\n",
       "      <th>partial thromboplastin time</th>\n",
       "      <td>18.80</td>\n",
       "      <td>40.93</td>\n",
       "      <td>150.00</td>\n",
       "      <td>24.21</td>\n",
       "      <td>125686</td>\n",
       "      <td>0.0610</td>\n",
       "    </tr>\n",
       "    <tr>\n",
       "      <th>ph</th>\n",
       "      <td>6.50</td>\n",
       "      <td>7.39</td>\n",
       "      <td>8.40</td>\n",
       "      <td>0.07</td>\n",
       "      <td>187767</td>\n",
       "      <td>0.0912</td>\n",
       "    </tr>\n",
       "    <tr>\n",
       "      <th>phosphate</th>\n",
       "      <td>0.50</td>\n",
       "      <td>3.44</td>\n",
       "      <td>20.00</td>\n",
       "      <td>1.36</td>\n",
       "      <td>109620</td>\n",
       "      <td>0.0532</td>\n",
       "    </tr>\n",
       "    <tr>\n",
       "      <th>potassium</th>\n",
       "      <td>0.80</td>\n",
       "      <td>4.12</td>\n",
       "      <td>12.00</td>\n",
       "      <td>0.63</td>\n",
       "      <td>221276</td>\n",
       "      <td>0.1075</td>\n",
       "    </tr>\n",
       "    <tr>\n",
       "      <th>prothrombin time inr</th>\n",
       "      <td>0.50</td>\n",
       "      <td>1.49</td>\n",
       "      <td>88.80</td>\n",
       "      <td>1.16</td>\n",
       "      <td>119240</td>\n",
       "      <td>0.0579</td>\n",
       "    </tr>\n",
       "    <tr>\n",
       "      <th>prothrombin time pt</th>\n",
       "      <td>2.39</td>\n",
       "      <td>15.82</td>\n",
       "      <td>150.00</td>\n",
       "      <td>6.60</td>\n",
       "      <td>119217</td>\n",
       "      <td>0.0579</td>\n",
       "    </tr>\n",
       "    <tr>\n",
       "      <th>respiratory rate</th>\n",
       "      <td>0.00</td>\n",
       "      <td>19.11</td>\n",
       "      <td>300.00</td>\n",
       "      <td>5.68</td>\n",
       "      <td>1825409</td>\n",
       "      <td>0.8866</td>\n",
       "    </tr>\n",
       "    <tr>\n",
       "      <th>sodium</th>\n",
       "      <td>50.00</td>\n",
       "      <td>138.55</td>\n",
       "      <td>225.00</td>\n",
       "      <td>5.17</td>\n",
       "      <td>207515</td>\n",
       "      <td>0.1008</td>\n",
       "    </tr>\n",
       "    <tr>\n",
       "      <th>systolic blood pressure</th>\n",
       "      <td>0.00</td>\n",
       "      <td>122.15</td>\n",
       "      <td>311.00</td>\n",
       "      <td>21.77</td>\n",
       "      <td>1797698</td>\n",
       "      <td>0.8731</td>\n",
       "    </tr>\n",
       "    <tr>\n",
       "      <th>temperature</th>\n",
       "      <td>26.00</td>\n",
       "      <td>36.99</td>\n",
       "      <td>42.22</td>\n",
       "      <td>0.77</td>\n",
       "      <td>613308</td>\n",
       "      <td>0.2979</td>\n",
       "    </tr>\n",
       "    <tr>\n",
       "      <th>weight</th>\n",
       "      <td>0.00</td>\n",
       "      <td>83.40</td>\n",
       "      <td>250.00</td>\n",
       "      <td>23.33</td>\n",
       "      <td>56993</td>\n",
       "      <td>0.0277</td>\n",
       "    </tr>\n",
       "    <tr>\n",
       "      <th>white blood cell count</th>\n",
       "      <td>0.10</td>\n",
       "      <td>11.85</td>\n",
       "      <td>939.00</td>\n",
       "      <td>9.56</td>\n",
       "      <td>166030</td>\n",
       "      <td>0.0806</td>\n",
       "    </tr>\n",
       "  </tbody>\n",
       "</table>\n",
       "</div>"
      ],
      "text/plain": [
       "                               min     avg      max    std        N   pres.\n",
       "variable                                                                   \n",
       "anion gap                     5.00   13.51    50.00   3.72   170026  0.0826\n",
       "blood urea nitrogen           0.00   26.02   250.00  21.60   180302  0.0876\n",
       "chloride                     50.00  105.19   175.00   6.22   196370  0.0954\n",
       "creatinine                    0.10    1.38    46.60   1.48   181105  0.0880\n",
       "diastolic blood pressure      0.00   60.96   307.00  14.04  1797292  0.8729\n",
       "glucose                      33.00  139.72  1591.00  55.49   485940  0.2360\n",
       "heart rate                    0.00   84.89   300.00  17.00  1854010  0.9005\n",
       "hematocrit                    0.00   30.88    71.70   5.25   237820  0.1155\n",
       "hemoglobin                    0.00   10.60    22.10   1.86   191517  0.0930\n",
       "lactate                       0.40    2.37    30.00   2.09    54344  0.0264\n",
       "magnesium                     0.00    2.05    20.00   0.41   168654  0.0819\n",
       "mean blood pressure          14.00   79.53   330.00  15.39  1788354  0.8686\n",
       "oxygen saturation             0.00   96.78   100.00   3.32  1775192  0.8622\n",
       "partial thromboplastin time  18.80   40.93   150.00  24.21   125686  0.0610\n",
       "ph                            6.50    7.39     8.40   0.07   187767  0.0912\n",
       "phosphate                     0.50    3.44    20.00   1.36   109620  0.0532\n",
       "potassium                     0.80    4.12    12.00   0.63   221276  0.1075\n",
       "prothrombin time inr          0.50    1.49    88.80   1.16   119240  0.0579\n",
       "prothrombin time pt           2.39   15.82   150.00   6.60   119217  0.0579\n",
       "respiratory rate              0.00   19.11   300.00   5.68  1825409  0.8866\n",
       "sodium                       50.00  138.55   225.00   5.17   207515  0.1008\n",
       "systolic blood pressure       0.00  122.15   311.00  21.77  1797698  0.8731\n",
       "temperature                  26.00   36.99    42.22   0.77   613308  0.2979\n",
       "weight                        0.00   83.40   250.00  23.33    56993  0.0277\n",
       "white blood cell count        0.10   11.85   939.00   9.56   166030  0.0806"
      ]
     },
     "execution_count": 11,
     "metadata": {},
     "output_type": "execute_result"
    }
   ],
   "source": [
    "vitals_labs_summ_48_df"
   ]
  },
  {
   "cell_type": "markdown",
   "id": "f21b21a0",
   "metadata": {},
   "source": [
    "## 2. Discovering Patient Cohorts"
   ]
  },
  {
   "cell_type": "markdown",
   "id": "3a0a385d",
   "metadata": {},
   "source": [
    "The paper uses a two-step pipeline to: 1) identify relevant patient cohorts, and 2) use those relevant cohorts as separate tasks in a multi-lask learning framework to predict in-hospital mortality. In this section, we will focus on the first step of the pipeline, i.e., patient cohort discovery."
   ]
  },
  {
   "cell_type": "markdown",
   "id": "0fa284f2-7c60-42ae-a9f7-80b5236438fc",
   "metadata": {
    "tags": []
   },
   "source": [
    "### 2.1. Cohort statistics at 24 hours and 48 hours"
   ]
  },
  {
   "cell_type": "markdown",
   "id": "cc972ff9-3e4b-4c88-b942-f267162c0b34",
   "metadata": {},
   "source": [
    "The paper runs two experiments. The first experiment uses a cutoff period of 24 hours, a gap period of 12 hours, and three clusters. Let's run this first experiment using the `discover_cohorts()` function and determine the corresponding cohort assignment for every patient that does not meet the exception criteria:"
   ]
  },
  {
   "cell_type": "code",
   "execution_count": 12,
   "id": "81181566",
   "metadata": {
    "tags": []
   },
   "outputs": [],
   "source": [
    "from mtl_patients_ablation import discover_cohorts"
   ]
  },
  {
   "cell_type": "code",
   "execution_count": 13,
   "id": "71f8b82b",
   "metadata": {
    "tags": []
   },
   "outputs": [
    {
     "name": "stdout",
     "output_type": "stream",
     "text": [
      "++++++++++++++++++++++++++++++++++++++++++++++++++++++++++++++++++++++++++++++++\n",
      "Preparing the data\n",
      "--------------------------------------------------------------------------------\n",
      "    Loading data from MIMIC-Extract pipeline...\n",
      "    Adding SAPS II score to static dataset...\n",
      "    Adding mortality columns to static dataset...\n",
      "    Discretizing X...\n",
      "        X.shape: (2200954, 29), X.subject_id.nunique(): 34472\n"
     ]
    },
    {
     "name": "stderr",
     "output_type": "stream",
     "text": [
      "/notebooks/notebooks/../code/mtl_patients_ablation.py:608: FutureWarning: In a future version, `df.iloc[:, i] = newvals` will attempt to set the values inplace instead of always setting a new array. To retain the old behavior, use either `df[df.columns[i]] = newvals` or, if columns are non-unique, `df.isetitem(i, newvals)`\n",
      "  X.loc[:, feature_cols] = X_words\n"
     ]
    },
    {
     "name": "stdout",
     "output_type": "stream",
     "text": [
      "        X_discrete.shape: (2200954, 199), X_discrete.subject_id.nunique(): 34472\n",
      "    Keep only X_discrete[X_discrete.hours_in < 24]...\n",
      "        New X_discrete.shape: (808539, 197), new X_discrete.subject_id.nunique(): 34472\n",
      "    Padding patients with less than 24 hours of data...\n",
      "    Merging dataframes to create X_full...\n"
     ]
    },
    {
     "name": "stderr",
     "output_type": "stream",
     "text": [
      "/notebooks/notebooks/../code/mtl_patients_ablation.py:633: FutureWarning: In a future version, `df.iloc[:, i] = newvals` will attempt to set the values inplace instead of always setting a new array. To retain the old behavior, use either `df[df.columns[i]] = newvals` or, if columns are non-unique, `df.isetitem(i, newvals)`\n",
      "  static_to_keep_df.loc[:, 'ethnicity'] = static_to_keep_df['ethnicity'].apply(categorize_ethnicity)\n",
      "/notebooks/notebooks/../code/mtl_patients_ablation.py:634: FutureWarning: In a future version, `df.iloc[:, i] = newvals` will attempt to set the values inplace instead of always setting a new array. To retain the old behavior, use either `df[df.columns[i]] = newvals` or, if columns are non-unique, `df.isetitem(i, newvals)`\n",
      "  static_to_keep_df.loc[:, 'age'] = static_to_keep_df['age'].apply(categorize_age)\n"
     ]
    },
    {
     "name": "stdout",
     "output_type": "stream",
     "text": [
      "    Mortality per careunit...\n",
      "        MICU: 1138 out of 11403\n",
      "        SICU: 409 out of 5187\n",
      "        CCU: 344 out of 4907\n",
      "        CSRU: 139 out of 6971\n",
      "        TSICU: 291 out of 4245\n",
      "    Final shape of X: (32713, 24, 206)\n",
      "    Number of positive samples: 2321\n",
      "    Done!\n",
      "++++++++++++++++++++++++++++++++++++++++++++++++++++++++++++++++++++++++++++++++\n",
      "Discovering cohorts in an unsupervised way\n",
      "--------------------------------------------------------------------------------\n",
      "    Splitting data into train/validation/test sets...\n",
      "    Training LSTM autoencoder started at 14/04/2023 01:40:03. This will take several minutes (5 to 25). Please be patient...\n"
     ]
    },
    {
     "name": "stderr",
     "output_type": "stream",
     "text": [
      "2023-04-14 01:40:03.526840: W tensorflow/core/framework/cpu_allocator_impl.cc:82] Allocation of 905661696 exceeds 10% of free system memory.\n",
      "2023-04-14 01:40:06.012643: W tensorflow/core/framework/cpu_allocator_impl.cc:82] Allocation of 905661696 exceeds 10% of free system memory.\n",
      "2023-04-14 01:40:06.819722: W tensorflow/core/framework/cpu_allocator_impl.cc:82] Allocation of 905661696 exceeds 10% of free system memory.\n",
      "2023-04-14 01:40:07.388987: W tensorflow/core/framework/cpu_allocator_impl.cc:82] Allocation of 905661696 exceeds 10% of free system memory.\n",
      "2023-04-14 01:40:08.017728: W tensorflow/core/framework/cpu_allocator_impl.cc:82] Allocation of 905661696 exceeds 10% of free system memory.\n"
     ]
    },
    {
     "name": "stdout",
     "output_type": "stream",
     "text": [
      "Epoch 1/100\n",
      "179/179 [==============================] - 7s 16ms/step - loss: 0.0433 - val_loss: 0.0365\n",
      "Epoch 2/100\n",
      "179/179 [==============================] - 2s 8ms/step - loss: 0.0340 - val_loss: 0.0316\n",
      "Epoch 3/100\n",
      "179/179 [==============================] - 1s 8ms/step - loss: 0.0303 - val_loss: 0.0292\n",
      "Epoch 4/100\n",
      "179/179 [==============================] - 2s 10ms/step - loss: 0.0286 - val_loss: 0.0280\n",
      "Epoch 5/100\n",
      "179/179 [==============================] - 2s 9ms/step - loss: 0.0276 - val_loss: 0.0272\n",
      "Epoch 6/100\n",
      "179/179 [==============================] - 1s 8ms/step - loss: 0.0269 - val_loss: 0.0266\n",
      "Epoch 7/100\n",
      "179/179 [==============================] - 2s 9ms/step - loss: 0.0264 - val_loss: 0.0262\n",
      "Epoch 8/100\n",
      "179/179 [==============================] - 2s 10ms/step - loss: 0.0260 - val_loss: 0.0258\n",
      "Epoch 9/100\n",
      "179/179 [==============================] - 1s 8ms/step - loss: 0.0257 - val_loss: 0.0256\n",
      "Epoch 10/100\n",
      "179/179 [==============================] - 1s 8ms/step - loss: 0.0255 - val_loss: 0.0253\n",
      "Epoch 11/100\n",
      "179/179 [==============================] - 1s 8ms/step - loss: 0.0253 - val_loss: 0.0252\n",
      "Epoch 12/100\n",
      "179/179 [==============================] - 1s 8ms/step - loss: 0.0251 - val_loss: 0.0250\n",
      "Epoch 13/100\n",
      "179/179 [==============================] - 2s 9ms/step - loss: 0.0250 - val_loss: 0.0249\n",
      "Epoch 14/100\n",
      "179/179 [==============================] - 2s 9ms/step - loss: 0.0249 - val_loss: 0.0248\n",
      "Epoch 15/100\n",
      "179/179 [==============================] - 1s 8ms/step - loss: 0.0248 - val_loss: 0.0247\n",
      "Epoch 16/100\n",
      "179/179 [==============================] - 2s 9ms/step - loss: 0.0247 - val_loss: 0.0246\n",
      "Epoch 17/100\n",
      "179/179 [==============================] - 1s 8ms/step - loss: 0.0246 - val_loss: 0.0246\n",
      "Epoch 18/100\n",
      "179/179 [==============================] - 2s 10ms/step - loss: 0.0245 - val_loss: 0.0245\n",
      "Epoch 19/100\n",
      "179/179 [==============================] - 2s 11ms/step - loss: 0.0244 - val_loss: 0.0244\n",
      "Epoch 20/100\n",
      "179/179 [==============================] - 2s 9ms/step - loss: 0.0243 - val_loss: 0.0243\n",
      "Epoch 21/100\n",
      "179/179 [==============================] - 2s 9ms/step - loss: 0.0242 - val_loss: 0.0242\n",
      "Epoch 22/100\n",
      "179/179 [==============================] - 1s 8ms/step - loss: 0.0242 - val_loss: 0.0241\n",
      "Epoch 23/100\n",
      "179/179 [==============================] - 1s 8ms/step - loss: 0.0241 - val_loss: 0.0240\n",
      "Epoch 24/100\n",
      "179/179 [==============================] - 1s 8ms/step - loss: 0.0240 - val_loss: 0.0240\n",
      "Epoch 25/100\n",
      "179/179 [==============================] - 1s 8ms/step - loss: 0.0239 - val_loss: 0.0239\n",
      "Epoch 26/100\n",
      "179/179 [==============================] - 1s 8ms/step - loss: 0.0239 - val_loss: 0.0238\n",
      "Epoch 27/100\n",
      "179/179 [==============================] - 1s 8ms/step - loss: 0.0238 - val_loss: 0.0238\n",
      "Epoch 28/100\n",
      "179/179 [==============================] - 1s 8ms/step - loss: 0.0237 - val_loss: 0.0237\n",
      "Epoch 29/100\n",
      "179/179 [==============================] - 2s 9ms/step - loss: 0.0237 - val_loss: 0.0237\n",
      "Epoch 30/100\n",
      "179/179 [==============================] - 1s 8ms/step - loss: 0.0236 - val_loss: 0.0236\n",
      "Epoch 31/100\n",
      "179/179 [==============================] - 1s 8ms/step - loss: 0.0236 - val_loss: 0.0236\n",
      "Epoch 32/100\n",
      "179/179 [==============================] - 1s 8ms/step - loss: 0.0235 - val_loss: 0.0235\n",
      "Epoch 33/100\n",
      "179/179 [==============================] - 1s 8ms/step - loss: 0.0235 - val_loss: 0.0235\n",
      "Epoch 34/100\n",
      "179/179 [==============================] - 1s 8ms/step - loss: 0.0234 - val_loss: 0.0234\n",
      "Epoch 35/100\n",
      "179/179 [==============================] - 1s 8ms/step - loss: 0.0234 - val_loss: 0.0234\n",
      "Epoch 36/100\n",
      "179/179 [==============================] - 1s 8ms/step - loss: 0.0233 - val_loss: 0.0233\n",
      "Epoch 37/100\n",
      "179/179 [==============================] - 1s 8ms/step - loss: 0.0233 - val_loss: 0.0233\n",
      "Epoch 38/100\n",
      "179/179 [==============================] - 2s 9ms/step - loss: 0.0233 - val_loss: 0.0233\n",
      "Epoch 39/100\n",
      "179/179 [==============================] - 2s 9ms/step - loss: 0.0232 - val_loss: 0.0232\n",
      "Epoch 40/100\n",
      "179/179 [==============================] - 2s 10ms/step - loss: 0.0232 - val_loss: 0.0232\n",
      "Epoch 41/100\n",
      "179/179 [==============================] - 1s 8ms/step - loss: 0.0231 - val_loss: 0.0231\n",
      "Epoch 42/100\n",
      "179/179 [==============================] - 2s 10ms/step - loss: 0.0231 - val_loss: 0.0231\n",
      "Epoch 43/100\n",
      "179/179 [==============================] - 2s 9ms/step - loss: 0.0231 - val_loss: 0.0231\n",
      "Epoch 44/100\n",
      "179/179 [==============================] - 1s 8ms/step - loss: 0.0230 - val_loss: 0.0230\n",
      "Epoch 45/100\n",
      "179/179 [==============================] - 1s 8ms/step - loss: 0.0230 - val_loss: 0.0230\n",
      "Epoch 46/100\n",
      "179/179 [==============================] - 2s 9ms/step - loss: 0.0230 - val_loss: 0.0230\n",
      "Epoch 47/100\n",
      "179/179 [==============================] - 1s 8ms/step - loss: 0.0229 - val_loss: 0.0229\n",
      "Epoch 48/100\n",
      "179/179 [==============================] - 1s 8ms/step - loss: 0.0229 - val_loss: 0.0229\n",
      "Epoch 49/100\n",
      "179/179 [==============================] - 1s 8ms/step - loss: 0.0229 - val_loss: 0.0229\n",
      "Epoch 50/100\n",
      "179/179 [==============================] - 2s 9ms/step - loss: 0.0228 - val_loss: 0.0228\n",
      "Epoch 51/100\n",
      "179/179 [==============================] - 1s 8ms/step - loss: 0.0228 - val_loss: 0.0228\n",
      "Epoch 52/100\n",
      "179/179 [==============================] - 2s 9ms/step - loss: 0.0228 - val_loss: 0.0228\n",
      "Epoch 53/100\n",
      "179/179 [==============================] - 1s 8ms/step - loss: 0.0227 - val_loss: 0.0228\n",
      "Epoch 54/100\n",
      "179/179 [==============================] - 1s 8ms/step - loss: 0.0227 - val_loss: 0.0227\n",
      "Epoch 55/100\n",
      "179/179 [==============================] - 1s 8ms/step - loss: 0.0227 - val_loss: 0.0227\n",
      "Epoch 56/100\n",
      "179/179 [==============================] - 1s 8ms/step - loss: 0.0227 - val_loss: 0.0227\n",
      "Epoch 57/100\n",
      "179/179 [==============================] - 1s 8ms/step - loss: 0.0226 - val_loss: 0.0226\n",
      "Epoch 58/100\n",
      "179/179 [==============================] - 1s 8ms/step - loss: 0.0226 - val_loss: 0.0226\n",
      "Epoch 59/100\n",
      "179/179 [==============================] - 2s 8ms/step - loss: 0.0226 - val_loss: 0.0226\n",
      "Epoch 60/100\n",
      "179/179 [==============================] - 1s 8ms/step - loss: 0.0226 - val_loss: 0.0226\n",
      "Epoch 61/100\n",
      "179/179 [==============================] - 1s 8ms/step - loss: 0.0225 - val_loss: 0.0225\n",
      "Epoch 62/100\n",
      "179/179 [==============================] - 1s 8ms/step - loss: 0.0225 - val_loss: 0.0225\n",
      "Epoch 63/100\n",
      "179/179 [==============================] - 2s 8ms/step - loss: 0.0225 - val_loss: 0.0225\n",
      "Epoch 64/100\n",
      "179/179 [==============================] - 1s 8ms/step - loss: 0.0225 - val_loss: 0.0225\n",
      "Epoch 65/100\n",
      "179/179 [==============================] - 1s 8ms/step - loss: 0.0224 - val_loss: 0.0224\n",
      "Epoch 66/100\n",
      "179/179 [==============================] - 2s 9ms/step - loss: 0.0224 - val_loss: 0.0224\n",
      "Epoch 67/100\n",
      "179/179 [==============================] - 1s 8ms/step - loss: 0.0224 - val_loss: 0.0224\n",
      "Epoch 68/100\n",
      "179/179 [==============================] - 1s 8ms/step - loss: 0.0224 - val_loss: 0.0224\n",
      "Epoch 69/100\n",
      "179/179 [==============================] - 2s 9ms/step - loss: 0.0223 - val_loss: 0.0224\n",
      "Epoch 70/100\n",
      "179/179 [==============================] - 1s 8ms/step - loss: 0.0223 - val_loss: 0.0223\n",
      "Epoch 71/100\n",
      "179/179 [==============================] - 1s 8ms/step - loss: 0.0223 - val_loss: 0.0223\n",
      "Epoch 72/100\n",
      "179/179 [==============================] - 1s 8ms/step - loss: 0.0223 - val_loss: 0.0223\n",
      "Epoch 73/100\n",
      "179/179 [==============================] - 1s 8ms/step - loss: 0.0223 - val_loss: 0.0223\n",
      "Epoch 74/100\n",
      "179/179 [==============================] - 2s 9ms/step - loss: 0.0222 - val_loss: 0.0223\n",
      "Epoch 75/100\n",
      "179/179 [==============================] - 1s 8ms/step - loss: 0.0222 - val_loss: 0.0222\n",
      "Epoch 76/100\n",
      "179/179 [==============================] - 1s 8ms/step - loss: 0.0222 - val_loss: 0.0222\n",
      "Epoch 77/100\n",
      "179/179 [==============================] - 1s 8ms/step - loss: 0.0222 - val_loss: 0.0222\n",
      "Epoch 78/100\n",
      "179/179 [==============================] - 1s 8ms/step - loss: 0.0222 - val_loss: 0.0222\n",
      "Epoch 79/100\n",
      "179/179 [==============================] - 1s 8ms/step - loss: 0.0221 - val_loss: 0.0222\n",
      "Epoch 80/100\n",
      "179/179 [==============================] - 1s 8ms/step - loss: 0.0221 - val_loss: 0.0221\n",
      "Epoch 81/100\n",
      "179/179 [==============================] - 1s 8ms/step - loss: 0.0221 - val_loss: 0.0221\n",
      "Epoch 82/100\n",
      "179/179 [==============================] - 1s 8ms/step - loss: 0.0221 - val_loss: 0.0221\n",
      "Epoch 83/100\n",
      "179/179 [==============================] - 1s 8ms/step - loss: 0.0221 - val_loss: 0.0221\n",
      "Epoch 84/100\n",
      "179/179 [==============================] - 1s 8ms/step - loss: 0.0221 - val_loss: 0.0221\n",
      "Epoch 85/100\n",
      "179/179 [==============================] - 1s 8ms/step - loss: 0.0220 - val_loss: 0.0221\n",
      "Epoch 86/100\n",
      "179/179 [==============================] - 2s 10ms/step - loss: 0.0220 - val_loss: 0.0220\n",
      "Epoch 87/100\n",
      "179/179 [==============================] - 2s 9ms/step - loss: 0.0220 - val_loss: 0.0220\n",
      "Epoch 88/100\n",
      "179/179 [==============================] - 1s 8ms/step - loss: 0.0220 - val_loss: 0.0220\n",
      "Epoch 89/100\n",
      "179/179 [==============================] - 1s 8ms/step - loss: 0.0220 - val_loss: 0.0220\n",
      "Epoch 90/100\n",
      "179/179 [==============================] - 2s 9ms/step - loss: 0.0219 - val_loss: 0.0220\n",
      "Epoch 91/100\n",
      "179/179 [==============================] - 2s 9ms/step - loss: 0.0219 - val_loss: 0.0220\n",
      "Epoch 92/100\n",
      "179/179 [==============================] - 2s 9ms/step - loss: 0.0219 - val_loss: 0.0220\n",
      "Epoch 93/100\n",
      "179/179 [==============================] - 2s 9ms/step - loss: 0.0219 - val_loss: 0.0219\n",
      "Epoch 94/100\n",
      "179/179 [==============================] - 1s 8ms/step - loss: 0.0219 - val_loss: 0.0219\n",
      "Epoch 95/100\n",
      "179/179 [==============================] - 1s 8ms/step - loss: 0.0219 - val_loss: 0.0219\n",
      "Epoch 96/100\n",
      "179/179 [==============================] - 1s 8ms/step - loss: 0.0219 - val_loss: 0.0219\n",
      "Epoch 97/100\n",
      "179/179 [==============================] - 2s 9ms/step - loss: 0.0218 - val_loss: 0.0219\n",
      "Epoch 98/100\n",
      "179/179 [==============================] - 2s 10ms/step - loss: 0.0218 - val_loss: 0.0219\n",
      "Epoch 99/100\n",
      "179/179 [==============================] - 2s 9ms/step - loss: 0.0218 - val_loss: 0.0218\n",
      "Epoch 100/100\n",
      "179/179 [==============================] - 2s 9ms/step - loss: 0.0218 - val_loss: 0.0218\n",
      "    LSTM autoencoder trained!\n",
      "716/716 [==============================] - 2s 2ms/step\n",
      "1023/1023 [==============================] - 3s 2ms/step\n",
      "Patient embeddings created! Shape: (32713, 50)\n",
      "    Training Gaussian Mixture Model...\n",
      "    Gaussian Mixture Model applied to embeddings! Results shape: (32713,)\n",
      "    Cluster results saved to '../data/unsupervised_clusters_lab_abl_24.npy'\n",
      "    Done!\n",
      "CPU times: user 3min 32s, sys: 43.3 s, total: 4min 15s\n",
      "Wall time: 4min 18s\n"
     ]
    }
   ],
   "source": [
    "%%time\n",
    "cohort_unsupervised_24 = discover_cohorts(cutoff_hours=24, gap_hours=12, cohort_unsupervised_filename='../data/unsupervised_clusters_lab_abl_24.npy')"
   ]
  },
  {
   "cell_type": "markdown",
   "id": "e06bb614-d19b-4781-ba6f-f3eefb7771d0",
   "metadata": {},
   "source": [
    "The second experiment uses a cutoff period of 48 hours, a gap period of 24 hours, and two instead of three clusters. The reduction in the number of clusters is proposed by the authors (Table 3 of the paper). Let's run now this second experiment using the `discover_cohorts()` function and determine the corresponding cohort assignment for every patient that does not meet the exception criteria:"
   ]
  },
  {
   "cell_type": "code",
   "execution_count": 2,
   "id": "7f3f8df9-ec81-4d57-8e45-6a7f3348beb7",
   "metadata": {
    "tags": []
   },
   "outputs": [
    {
     "name": "stdout",
     "output_type": "stream",
     "text": [
      "++++++++++++++++++++++++++++++++++++++++++++++++++++++++++++++++++++++++++++++++\n",
      "Preparing the data\n",
      "--------------------------------------------------------------------------------\n",
      "    Loading data from MIMIC-Extract pipeline...\n",
      "    Adding SAPS II score to static dataset...\n",
      "    Adding mortality columns to static dataset...\n",
      "    Discretizing X...\n",
      "        X.shape: (2200954, 29), X.subject_id.nunique(): 34472\n"
     ]
    },
    {
     "name": "stderr",
     "output_type": "stream",
     "text": [
      "/notebooks/notebooks/../code/mtl_patients_ablation.py:608: FutureWarning: In a future version, `df.iloc[:, i] = newvals` will attempt to set the values inplace instead of always setting a new array. To retain the old behavior, use either `df[df.columns[i]] = newvals` or, if columns are non-unique, `df.isetitem(i, newvals)`\n",
      "  X.loc[:, feature_cols] = X_words\n"
     ]
    },
    {
     "name": "stdout",
     "output_type": "stream",
     "text": [
      "        X_discrete.shape: (2200954, 199), X_discrete.subject_id.nunique(): 34472\n",
      "    Keep only X_discrete[X_discrete.hours_in < 48]...\n",
      "        New X_discrete.shape: (1349653, 197), new X_discrete.subject_id.nunique(): 34472\n",
      "    Padding patients with less than 48 hours of data...\n",
      "    Merging dataframes to create X_full...\n"
     ]
    },
    {
     "name": "stderr",
     "output_type": "stream",
     "text": [
      "/notebooks/notebooks/../code/mtl_patients_ablation.py:633: FutureWarning: In a future version, `df.iloc[:, i] = newvals` will attempt to set the values inplace instead of always setting a new array. To retain the old behavior, use either `df[df.columns[i]] = newvals` or, if columns are non-unique, `df.isetitem(i, newvals)`\n",
      "  static_to_keep_df.loc[:, 'ethnicity'] = static_to_keep_df['ethnicity'].apply(categorize_ethnicity)\n",
      "/notebooks/notebooks/../code/mtl_patients_ablation.py:634: FutureWarning: In a future version, `df.iloc[:, i] = newvals` will attempt to set the values inplace instead of always setting a new array. To retain the old behavior, use either `df[df.columns[i]] = newvals` or, if columns are non-unique, `df.isetitem(i, newvals)`\n",
      "  static_to_keep_df.loc[:, 'age'] = static_to_keep_df['age'].apply(categorize_age)\n"
     ]
    },
    {
     "name": "stdout",
     "output_type": "stream",
     "text": [
      "    Mortality per careunit...\n",
      "        MICU: 866 out of 10409\n",
      "        SICU: 303 out of 4815\n",
      "        CCU: 258 out of 4403\n",
      "        CSRU: 110 out of 6865\n",
      "        TSICU: 202 out of 3950\n",
      "    Final shape of X: (30442, 48, 206)\n",
      "    Number of positive samples: 1739\n",
      "    Done!\n",
      "++++++++++++++++++++++++++++++++++++++++++++++++++++++++++++++++++++++++++++++++\n",
      "Discovering cohorts in an unsupervised way\n",
      "--------------------------------------------------------------------------------\n",
      "    Splitting data into train/validation/test sets...\n",
      "    Training LSTM autoencoder started at 14/04/2023 01:50:18. This will take several minutes (5 to 25). Please be patient...\n",
      "Epoch 1/100\n",
      "167/167 [==============================] - 8s 26ms/step - loss: 0.0376 - val_loss: 0.0315\n",
      "Epoch 2/100\n",
      "167/167 [==============================] - 3s 19ms/step - loss: 0.0290 - val_loss: 0.0273\n",
      "Epoch 3/100\n",
      "167/167 [==============================] - 3s 19ms/step - loss: 0.0260 - val_loss: 0.0254\n",
      "Epoch 4/100\n",
      "167/167 [==============================] - 3s 19ms/step - loss: 0.0246 - val_loss: 0.0244\n",
      "Epoch 5/100\n",
      "167/167 [==============================] - 3s 18ms/step - loss: 0.0239 - val_loss: 0.0238\n",
      "Epoch 6/100\n",
      "167/167 [==============================] - 3s 19ms/step - loss: 0.0234 - val_loss: 0.0234\n",
      "Epoch 7/100\n",
      "167/167 [==============================] - 3s 19ms/step - loss: 0.0229 - val_loss: 0.0230\n",
      "Epoch 8/100\n",
      "167/167 [==============================] - 3s 19ms/step - loss: 0.0226 - val_loss: 0.0227\n",
      "Epoch 9/100\n",
      "167/167 [==============================] - 3s 19ms/step - loss: 0.0223 - val_loss: 0.0225\n",
      "Epoch 10/100\n",
      "167/167 [==============================] - 3s 19ms/step - loss: 0.0221 - val_loss: 0.0223\n",
      "Epoch 11/100\n",
      "167/167 [==============================] - 3s 21ms/step - loss: 0.0220 - val_loss: 0.0221\n",
      "Epoch 12/100\n",
      "167/167 [==============================] - 3s 18ms/step - loss: 0.0218 - val_loss: 0.0220\n",
      "Epoch 13/100\n",
      "167/167 [==============================] - 3s 18ms/step - loss: 0.0217 - val_loss: 0.0219\n",
      "Epoch 14/100\n",
      "167/167 [==============================] - 3s 18ms/step - loss: 0.0215 - val_loss: 0.0217\n",
      "Epoch 15/100\n",
      "167/167 [==============================] - 3s 19ms/step - loss: 0.0214 - val_loss: 0.0216\n",
      "Epoch 16/100\n",
      "167/167 [==============================] - 3s 20ms/step - loss: 0.0213 - val_loss: 0.0216\n",
      "Epoch 17/100\n",
      "167/167 [==============================] - 3s 19ms/step - loss: 0.0212 - val_loss: 0.0215\n",
      "Epoch 18/100\n",
      "167/167 [==============================] - 3s 19ms/step - loss: 0.0212 - val_loss: 0.0214\n",
      "Epoch 19/100\n",
      "167/167 [==============================] - 3s 19ms/step - loss: 0.0211 - val_loss: 0.0213\n",
      "Epoch 20/100\n",
      "167/167 [==============================] - 3s 19ms/step - loss: 0.0210 - val_loss: 0.0212\n",
      "Epoch 21/100\n",
      "167/167 [==============================] - 4s 22ms/step - loss: 0.0209 - val_loss: 0.0212\n",
      "Epoch 22/100\n",
      "167/167 [==============================] - 3s 20ms/step - loss: 0.0209 - val_loss: 0.0211\n",
      "Epoch 23/100\n",
      "167/167 [==============================] - 3s 19ms/step - loss: 0.0208 - val_loss: 0.0210\n",
      "Epoch 24/100\n",
      "167/167 [==============================] - 3s 19ms/step - loss: 0.0208 - val_loss: 0.0210\n",
      "Epoch 25/100\n",
      "167/167 [==============================] - 3s 19ms/step - loss: 0.0207 - val_loss: 0.0209\n",
      "Epoch 26/100\n",
      "167/167 [==============================] - 3s 19ms/step - loss: 0.0206 - val_loss: 0.0209\n",
      "Epoch 27/100\n",
      "167/167 [==============================] - 3s 19ms/step - loss: 0.0206 - val_loss: 0.0208\n",
      "Epoch 28/100\n",
      "167/167 [==============================] - 3s 20ms/step - loss: 0.0205 - val_loss: 0.0208\n",
      "Epoch 29/100\n",
      "167/167 [==============================] - 3s 20ms/step - loss: 0.0205 - val_loss: 0.0207\n",
      "Epoch 30/100\n",
      "167/167 [==============================] - 3s 20ms/step - loss: 0.0205 - val_loss: 0.0207\n",
      "Epoch 31/100\n",
      "167/167 [==============================] - 3s 19ms/step - loss: 0.0204 - val_loss: 0.0207\n",
      "Epoch 32/100\n",
      "167/167 [==============================] - 3s 19ms/step - loss: 0.0204 - val_loss: 0.0206\n",
      "Epoch 33/100\n",
      "167/167 [==============================] - 2s 14ms/step - loss: 0.0203 - val_loss: 0.0206\n",
      "Epoch 34/100\n",
      "167/167 [==============================] - 2s 14ms/step - loss: 0.0203 - val_loss: 0.0205\n",
      "Epoch 35/100\n",
      "167/167 [==============================] - 3s 17ms/step - loss: 0.0203 - val_loss: 0.0205\n",
      "Epoch 36/100\n",
      "167/167 [==============================] - 2s 14ms/step - loss: 0.0202 - val_loss: 0.0205\n",
      "Epoch 37/100\n",
      "167/167 [==============================] - 3s 18ms/step - loss: 0.0202 - val_loss: 0.0204\n",
      "Epoch 38/100\n",
      "167/167 [==============================] - 3s 19ms/step - loss: 0.0202 - val_loss: 0.0204\n",
      "Epoch 39/100\n",
      "167/167 [==============================] - 3s 20ms/step - loss: 0.0201 - val_loss: 0.0204\n",
      "Epoch 40/100\n",
      "167/167 [==============================] - 3s 19ms/step - loss: 0.0201 - val_loss: 0.0203\n",
      "Epoch 41/100\n",
      "167/167 [==============================] - 3s 18ms/step - loss: 0.0201 - val_loss: 0.0203\n",
      "Epoch 42/100\n",
      "167/167 [==============================] - 3s 18ms/step - loss: 0.0200 - val_loss: 0.0203\n",
      "Epoch 43/100\n",
      "167/167 [==============================] - 3s 18ms/step - loss: 0.0200 - val_loss: 0.0203\n",
      "Epoch 44/100\n",
      "167/167 [==============================] - 3s 18ms/step - loss: 0.0200 - val_loss: 0.0203\n",
      "Epoch 45/100\n",
      "167/167 [==============================] - 3s 18ms/step - loss: 0.0200 - val_loss: 0.0202\n",
      "Epoch 46/100\n",
      "167/167 [==============================] - 3s 21ms/step - loss: 0.0199 - val_loss: 0.0202\n",
      "Epoch 47/100\n",
      "167/167 [==============================] - 3s 19ms/step - loss: 0.0199 - val_loss: 0.0202\n",
      "Epoch 48/100\n",
      "167/167 [==============================] - 3s 21ms/step - loss: 0.0199 - val_loss: 0.0201\n",
      "Epoch 49/100\n",
      "167/167 [==============================] - 3s 18ms/step - loss: 0.0199 - val_loss: 0.0201\n",
      "Epoch 50/100\n",
      "167/167 [==============================] - 3s 19ms/step - loss: 0.0199 - val_loss: 0.0201\n",
      "Epoch 51/100\n",
      "167/167 [==============================] - 3s 19ms/step - loss: 0.0198 - val_loss: 0.0201\n",
      "Epoch 52/100\n",
      "167/167 [==============================] - 3s 19ms/step - loss: 0.0198 - val_loss: 0.0201\n",
      "Epoch 53/100\n",
      "167/167 [==============================] - 3s 19ms/step - loss: 0.0198 - val_loss: 0.0201\n",
      "Epoch 54/100\n",
      "167/167 [==============================] - 3s 19ms/step - loss: 0.0198 - val_loss: 0.0200\n",
      "Epoch 55/100\n",
      "167/167 [==============================] - 3s 18ms/step - loss: 0.0197 - val_loss: 0.0200\n",
      "Epoch 56/100\n",
      "167/167 [==============================] - 3s 19ms/step - loss: 0.0197 - val_loss: 0.0200\n",
      "Epoch 57/100\n",
      "167/167 [==============================] - 3s 18ms/step - loss: 0.0197 - val_loss: 0.0200\n",
      "Epoch 58/100\n",
      "167/167 [==============================] - 3s 19ms/step - loss: 0.0197 - val_loss: 0.0200\n",
      "Epoch 59/100\n",
      "167/167 [==============================] - 3s 19ms/step - loss: 0.0197 - val_loss: 0.0199\n",
      "Epoch 60/100\n",
      "167/167 [==============================] - 3s 19ms/step - loss: 0.0196 - val_loss: 0.0199\n",
      "Epoch 61/100\n",
      "167/167 [==============================] - 3s 20ms/step - loss: 0.0196 - val_loss: 0.0199\n",
      "Epoch 62/100\n",
      "167/167 [==============================] - 3s 21ms/step - loss: 0.0196 - val_loss: 0.0199\n",
      "Epoch 63/100\n",
      "167/167 [==============================] - 3s 19ms/step - loss: 0.0196 - val_loss: 0.0199\n",
      "Epoch 64/100\n",
      "167/167 [==============================] - 4s 22ms/step - loss: 0.0196 - val_loss: 0.0199\n",
      "Epoch 65/100\n",
      "167/167 [==============================] - 3s 19ms/step - loss: 0.0196 - val_loss: 0.0198\n",
      "Epoch 66/100\n",
      "167/167 [==============================] - 3s 19ms/step - loss: 0.0195 - val_loss: 0.0198\n",
      "Epoch 67/100\n",
      "167/167 [==============================] - 3s 18ms/step - loss: 0.0195 - val_loss: 0.0198\n",
      "Epoch 68/100\n",
      "167/167 [==============================] - 3s 19ms/step - loss: 0.0195 - val_loss: 0.0198\n",
      "Epoch 69/100\n",
      "167/167 [==============================] - 3s 19ms/step - loss: 0.0195 - val_loss: 0.0197\n",
      "Epoch 70/100\n",
      "167/167 [==============================] - 3s 19ms/step - loss: 0.0195 - val_loss: 0.0197\n",
      "Epoch 71/100\n",
      "167/167 [==============================] - 3s 19ms/step - loss: 0.0195 - val_loss: 0.0197\n",
      "Epoch 72/100\n",
      "167/167 [==============================] - 3s 19ms/step - loss: 0.0194 - val_loss: 0.0197\n",
      "Epoch 73/100\n",
      "167/167 [==============================] - 3s 19ms/step - loss: 0.0194 - val_loss: 0.0197\n",
      "Epoch 74/100\n",
      "167/167 [==============================] - 3s 19ms/step - loss: 0.0194 - val_loss: 0.0197\n",
      "Epoch 75/100\n",
      "167/167 [==============================] - 3s 19ms/step - loss: 0.0194 - val_loss: 0.0197\n",
      "Epoch 76/100\n",
      "167/167 [==============================] - 3s 19ms/step - loss: 0.0194 - val_loss: 0.0196\n",
      "Epoch 77/100\n",
      "167/167 [==============================] - 3s 18ms/step - loss: 0.0194 - val_loss: 0.0197\n",
      "Epoch 78/100\n",
      "167/167 [==============================] - 3s 17ms/step - loss: 0.0194 - val_loss: 0.0196\n",
      "Epoch 79/100\n",
      "167/167 [==============================] - 3s 19ms/step - loss: 0.0193 - val_loss: 0.0196\n",
      "Epoch 80/100\n",
      "167/167 [==============================] - 3s 18ms/step - loss: 0.0193 - val_loss: 0.0196\n",
      "Epoch 81/100\n",
      "167/167 [==============================] - 2s 14ms/step - loss: 0.0193 - val_loss: 0.0196\n",
      "Epoch 82/100\n",
      "167/167 [==============================] - 3s 18ms/step - loss: 0.0193 - val_loss: 0.0196\n",
      "Epoch 83/100\n",
      "167/167 [==============================] - 3s 21ms/step - loss: 0.0193 - val_loss: 0.0196\n",
      "Epoch 84/100\n",
      "167/167 [==============================] - 3s 19ms/step - loss: 0.0193 - val_loss: 0.0196\n",
      "Epoch 85/100\n",
      "167/167 [==============================] - 3s 18ms/step - loss: 0.0193 - val_loss: 0.0195\n",
      "Epoch 86/100\n",
      "167/167 [==============================] - 3s 20ms/step - loss: 0.0193 - val_loss: 0.0195\n",
      "Epoch 87/100\n",
      "167/167 [==============================] - 3s 19ms/step - loss: 0.0192 - val_loss: 0.0195\n",
      "Epoch 88/100\n",
      "167/167 [==============================] - 3s 19ms/step - loss: 0.0192 - val_loss: 0.0195\n",
      "Epoch 89/100\n",
      "167/167 [==============================] - 3s 19ms/step - loss: 0.0192 - val_loss: 0.0195\n",
      "Epoch 90/100\n",
      "167/167 [==============================] - 3s 19ms/step - loss: 0.0192 - val_loss: 0.0195\n",
      "Epoch 91/100\n",
      "167/167 [==============================] - 3s 19ms/step - loss: 0.0192 - val_loss: 0.0195\n",
      "Epoch 92/100\n",
      "167/167 [==============================] - 4s 21ms/step - loss: 0.0192 - val_loss: 0.0195\n",
      "Epoch 93/100\n",
      "167/167 [==============================] - 3s 20ms/step - loss: 0.0192 - val_loss: 0.0194\n",
      "Epoch 94/100\n",
      "167/167 [==============================] - 3s 19ms/step - loss: 0.0192 - val_loss: 0.0194\n",
      "Epoch 95/100\n",
      "167/167 [==============================] - 3s 19ms/step - loss: 0.0192 - val_loss: 0.0194\n",
      "Epoch 96/100\n",
      "167/167 [==============================] - 3s 19ms/step - loss: 0.0191 - val_loss: 0.0194\n",
      "Epoch 97/100\n",
      "167/167 [==============================] - 3s 19ms/step - loss: 0.0191 - val_loss: 0.0194\n",
      "Epoch 98/100\n",
      "167/167 [==============================] - 4s 21ms/step - loss: 0.0191 - val_loss: 0.0194\n",
      "Epoch 99/100\n",
      "167/167 [==============================] - 3s 19ms/step - loss: 0.0191 - val_loss: 0.0194\n",
      "Epoch 100/100\n",
      "167/167 [==============================] - 3s 19ms/step - loss: 0.0191 - val_loss: 0.0194\n",
      "    LSTM autoencoder trained!\n",
      "666/666 [==============================] - 3s 2ms/step\n"
     ]
    },
    {
     "name": "stderr",
     "output_type": "stream",
     "text": [
      "2023-04-14 01:55:55.089510: W tensorflow/core/framework/cpu_allocator_impl.cc:82] Allocation of 2408083968 exceeds 10% of free system memory.\n",
      "2023-04-14 01:55:57.000733: W tensorflow/core/framework/cpu_allocator_impl.cc:82] Allocation of 2408083968 exceeds 10% of free system memory.\n",
      "2023-04-14 01:55:58.539398: W tensorflow/core/framework/cpu_allocator_impl.cc:82] Allocation of 2408083968 exceeds 10% of free system memory.\n"
     ]
    },
    {
     "name": "stdout",
     "output_type": "stream",
     "text": [
      "952/952 [==============================] - 4s 2ms/step\n",
      "Patient embeddings created! Shape: (30442, 50)\n",
      "    Training Gaussian Mixture Model...\n",
      "    Gaussian Mixture Model applied to embeddings! Results shape: (30442,)\n",
      "    Cluster results saved to '../data/unsupervised_clusters_lab_abl_48.npy'\n",
      "    Done!\n",
      "CPU times: user 5min 4s, sys: 2min 4s, total: 7min 9s\n",
      "Wall time: 6min 26s\n"
     ]
    }
   ],
   "source": [
    "%%time\n",
    "cohort_unsupervised_48 = discover_cohorts(cutoff_hours=48, gap_hours=24, num_clusters=2, cohort_unsupervised_filename='../data/unsupervised_clusters_lab_abl_48.npy')"
   ]
  },
  {
   "cell_type": "markdown",
   "id": "48d175b6-7a5e-4a1b-9afc-67a94c9a0d6b",
   "metadata": {},
   "source": [
    "Let's summarize the results of the 24 hour and 48 hour experiments similar to what Table 3 of the paper shows."
   ]
  },
  {
   "cell_type": "code",
   "execution_count": 2,
   "id": "467dec00-4046-44dd-981b-6e6eaccc280f",
   "metadata": {
    "tags": []
   },
   "outputs": [
    {
     "name": "stdout",
     "output_type": "stream",
     "text": [
      "++++++++++++++++++++++++++++++++++++++++++++++++++++++++++++++++++++++++++++++++\n",
      "Preparing the data\n",
      "--------------------------------------------------------------------------------\n",
      "    Loading data from MIMIC-Extract pipeline...\n",
      "    Adding SAPS II score to static dataset...\n",
      "    Adding mortality columns to static dataset...\n",
      "    Discretizing X...\n",
      "        X.shape: (2200954, 29), X.subject_id.nunique(): 34472\n"
     ]
    },
    {
     "name": "stderr",
     "output_type": "stream",
     "text": [
      "/notebooks/notebooks/../code/mtl_patients_ablation.py:608: FutureWarning: In a future version, `df.iloc[:, i] = newvals` will attempt to set the values inplace instead of always setting a new array. To retain the old behavior, use either `df[df.columns[i]] = newvals` or, if columns are non-unique, `df.isetitem(i, newvals)`\n",
      "  X.loc[:, feature_cols] = X_words\n"
     ]
    },
    {
     "name": "stdout",
     "output_type": "stream",
     "text": [
      "        X_discrete.shape: (2200954, 199), X_discrete.subject_id.nunique(): 34472\n",
      "    Keep only X_discrete[X_discrete.hours_in < 24]...\n",
      "        New X_discrete.shape: (808539, 197), new X_discrete.subject_id.nunique(): 34472\n",
      "    Padding patients with less than 24 hours of data...\n",
      "    Merging dataframes to create X_full...\n"
     ]
    },
    {
     "name": "stderr",
     "output_type": "stream",
     "text": [
      "/notebooks/notebooks/../code/mtl_patients_ablation.py:633: FutureWarning: In a future version, `df.iloc[:, i] = newvals` will attempt to set the values inplace instead of always setting a new array. To retain the old behavior, use either `df[df.columns[i]] = newvals` or, if columns are non-unique, `df.isetitem(i, newvals)`\n",
      "  static_to_keep_df.loc[:, 'ethnicity'] = static_to_keep_df['ethnicity'].apply(categorize_ethnicity)\n",
      "/notebooks/notebooks/../code/mtl_patients_ablation.py:634: FutureWarning: In a future version, `df.iloc[:, i] = newvals` will attempt to set the values inplace instead of always setting a new array. To retain the old behavior, use either `df[df.columns[i]] = newvals` or, if columns are non-unique, `df.isetitem(i, newvals)`\n",
      "  static_to_keep_df.loc[:, 'age'] = static_to_keep_df['age'].apply(categorize_age)\n"
     ]
    },
    {
     "name": "stdout",
     "output_type": "stream",
     "text": [
      "    Mortality per careunit...\n",
      "        MICU: 1138 out of 11403\n",
      "        SICU: 409 out of 5187\n",
      "        CCU: 344 out of 4907\n",
      "        CSRU: 139 out of 6971\n",
      "        TSICU: 291 out of 4245\n",
      "    Final shape of X: (32713, 24, 206)\n",
      "    Number of positive samples: 2321\n",
      "    Done!\n"
     ]
    }
   ],
   "source": [
    "#----------------------------------------------------\n",
    "# Let's create the summary for the 24 hour experiment\n",
    "\n",
    "cohort_unsupervised_24 = np.load('../data/unsupervised_clusters_lab_abl_24.npy')\n",
    "\n",
    "from mtl_patients_ablation import prepare_data\n",
    "_, Y, _, _, subject_ids = prepare_data(cutoff_hours=24, gap_hours=12)"
   ]
  },
  {
   "cell_type": "code",
   "execution_count": 3,
   "id": "c859cfff-9c3a-4135-bf83-52a30982042e",
   "metadata": {
    "tags": []
   },
   "outputs": [],
   "source": [
    "subject_ids = np.array(subject_ids.tolist())\n",
    "cohort_unsupervised_24_df = pd.DataFrame({'subject_id': subject_ids, 'Y': Y, 'Group': cohort_unsupervised_24}, dtype=int)\n",
    "\n",
    "# calculate summaries per cohort (24 hours)\n",
    "table3_a_df = cohort_unsupervised_24_df.groupby('Group').agg(\n",
    "    N=('Y', 'size'),\n",
    "    n=('Y', 'sum'),\n",
    ")\n",
    "table3_a_df.loc[:, 'Experiment'] = '24 hours'\n",
    "table3_a_df.loc[:, 'Cohort Type'] = 'Unsupervised'\n",
    "\n",
    "# calculate overall summary (24 hours)\n",
    "table3_a_overall_df = table3_a_df.groupby(['*'] * len(table3_a_df)).agg(\n",
    "    N=('N', 'sum'),\n",
    "    n=('n', 'sum'),\n",
    ")\n",
    "table3_a_overall_df.index.name = 'Group'\n",
    "table3_a_overall_df.loc[:, 'Experiment'] = '24 hours'\n",
    "table3_a_overall_df.loc[:, 'Cohort Type'] = 'Global'\n",
    "\n",
    "# merge 24 hour tables and make cosmetic changes\n",
    "table3_a_df = pd.concat([table3_a_df, table3_a_overall_df], axis=0)\n",
    "table3_a_df.reset_index(inplace=True)\n",
    "table3_a_df.set_index(['Experiment', 'Cohort Type', 'Group'], inplace=True)"
   ]
  },
  {
   "cell_type": "code",
   "execution_count": 4,
   "id": "eb404fc8-afc2-4f6a-a1e6-321790d129a4",
   "metadata": {
    "tags": []
   },
   "outputs": [
    {
     "name": "stdout",
     "output_type": "stream",
     "text": [
      "++++++++++++++++++++++++++++++++++++++++++++++++++++++++++++++++++++++++++++++++\n",
      "Preparing the data\n",
      "--------------------------------------------------------------------------------\n",
      "    Loading data from MIMIC-Extract pipeline...\n",
      "    Adding SAPS II score to static dataset...\n",
      "    Adding mortality columns to static dataset...\n",
      "    Discretizing X...\n",
      "        X.shape: (2200954, 29), X.subject_id.nunique(): 34472\n"
     ]
    },
    {
     "name": "stderr",
     "output_type": "stream",
     "text": [
      "/notebooks/notebooks/../code/mtl_patients_ablation.py:608: FutureWarning: In a future version, `df.iloc[:, i] = newvals` will attempt to set the values inplace instead of always setting a new array. To retain the old behavior, use either `df[df.columns[i]] = newvals` or, if columns are non-unique, `df.isetitem(i, newvals)`\n",
      "  X.loc[:, feature_cols] = X_words\n"
     ]
    },
    {
     "name": "stdout",
     "output_type": "stream",
     "text": [
      "        X_discrete.shape: (2200954, 199), X_discrete.subject_id.nunique(): 34472\n",
      "    Keep only X_discrete[X_discrete.hours_in < 48]...\n",
      "        New X_discrete.shape: (1349653, 197), new X_discrete.subject_id.nunique(): 34472\n",
      "    Padding patients with less than 48 hours of data...\n",
      "    Merging dataframes to create X_full...\n"
     ]
    },
    {
     "name": "stderr",
     "output_type": "stream",
     "text": [
      "/notebooks/notebooks/../code/mtl_patients_ablation.py:633: FutureWarning: In a future version, `df.iloc[:, i] = newvals` will attempt to set the values inplace instead of always setting a new array. To retain the old behavior, use either `df[df.columns[i]] = newvals` or, if columns are non-unique, `df.isetitem(i, newvals)`\n",
      "  static_to_keep_df.loc[:, 'ethnicity'] = static_to_keep_df['ethnicity'].apply(categorize_ethnicity)\n",
      "/notebooks/notebooks/../code/mtl_patients_ablation.py:634: FutureWarning: In a future version, `df.iloc[:, i] = newvals` will attempt to set the values inplace instead of always setting a new array. To retain the old behavior, use either `df[df.columns[i]] = newvals` or, if columns are non-unique, `df.isetitem(i, newvals)`\n",
      "  static_to_keep_df.loc[:, 'age'] = static_to_keep_df['age'].apply(categorize_age)\n"
     ]
    },
    {
     "name": "stdout",
     "output_type": "stream",
     "text": [
      "    Mortality per careunit...\n",
      "        MICU: 866 out of 10409\n",
      "        SICU: 303 out of 4815\n",
      "        CCU: 258 out of 4403\n",
      "        CSRU: 110 out of 6865\n",
      "        TSICU: 202 out of 3950\n",
      "    Final shape of X: (30442, 48, 206)\n",
      "    Number of positive samples: 1739\n",
      "    Done!\n"
     ]
    }
   ],
   "source": [
    "#----------------------------------------------------\n",
    "# Let's create the summary for the 48 hour experiment\n",
    "\n",
    "cohort_unsupervised_48 = np.load('../data/unsupervised_clusters_lab_abl_48.npy')\n",
    "\n",
    "_, Y, _, _, subject_ids = prepare_data(cutoff_hours=48, gap_hours=24)"
   ]
  },
  {
   "cell_type": "code",
   "execution_count": 5,
   "id": "be9fa092-f43d-41e2-935f-2998c2ccd427",
   "metadata": {
    "tags": []
   },
   "outputs": [],
   "source": [
    "subject_ids = np.array(subject_ids.tolist())\n",
    "cohort_unsupervised_48_df = pd.DataFrame({'subject_id': subject_ids, 'Y': Y, 'Group': cohort_unsupervised_48}, dtype=int)\n",
    "\n",
    "# calculate summaries per cohort (48 hours)\n",
    "table3_b_df = cohort_unsupervised_48_df.groupby('Group').agg(\n",
    "    N=('Y', 'size'),\n",
    "    n=('Y', 'sum'),\n",
    ")\n",
    "table3_b_df.loc[:, 'Experiment'] = '48 hours'\n",
    "table3_b_df.loc[:, 'Cohort Type'] = 'Unsupervised'\n",
    "\n",
    "# calculate overall summary (48 hours)\n",
    "table3_b_overall_df = table3_b_df.groupby(['*'] * len(table3_b_df)).agg(\n",
    "    N=('N', 'sum'),\n",
    "    n=('n', 'sum'),\n",
    ")\n",
    "table3_b_overall_df.index.name = 'Group'\n",
    "table3_b_overall_df.loc[:, 'Experiment'] = '48 hours'\n",
    "table3_b_overall_df.loc[:, 'Cohort Type'] = 'Global'\n",
    "\n",
    "# merge 48 hour tables and make cosmetic changes\n",
    "table3_b_df = pd.concat([table3_b_df, table3_b_overall_df], axis=0)\n",
    "table3_b_df.reset_index(inplace=True)\n",
    "table3_b_df.set_index(['Experiment', 'Cohort Type', 'Group'], inplace=True)"
   ]
  },
  {
   "cell_type": "code",
   "execution_count": 6,
   "id": "af29a681-55f8-40db-ab68-51567aa5b1cb",
   "metadata": {
    "tags": []
   },
   "outputs": [],
   "source": [
    "#--------------------------------------------------------------------\n",
    "# Now let's merge results for 24 and 48 hour experiments in one table\n",
    "\n",
    "# merge 24 hour and 48 hour tables\n",
    "table3_df = pd.concat([table3_a_df, table3_b_df], axis=0)\n",
    "\n",
    "# calculate class imbalance\n",
    "table3_df.loc[:, 'Class Imbalance'] = table3_df.loc[:, 'n'] / table3_df.loc[:, 'N']\n",
    "table3_df.loc[:, 'Class Imbalance'] = table3_df.loc[:, 'Class Imbalance'].round(4)"
   ]
  },
  {
   "cell_type": "code",
   "execution_count": 7,
   "id": "e9fcfcf3-9d5b-42e0-be79-29ed32ab4e3d",
   "metadata": {},
   "outputs": [
    {
     "data": {
      "text/html": [
       "<div>\n",
       "<style scoped>\n",
       "    .dataframe tbody tr th:only-of-type {\n",
       "        vertical-align: middle;\n",
       "    }\n",
       "\n",
       "    .dataframe tbody tr th {\n",
       "        vertical-align: top;\n",
       "    }\n",
       "\n",
       "    .dataframe thead th {\n",
       "        text-align: right;\n",
       "    }\n",
       "</style>\n",
       "<table border=\"1\" class=\"dataframe\">\n",
       "  <thead>\n",
       "    <tr style=\"text-align: right;\">\n",
       "      <th></th>\n",
       "      <th></th>\n",
       "      <th></th>\n",
       "      <th>N</th>\n",
       "      <th>n</th>\n",
       "      <th>Class Imbalance</th>\n",
       "    </tr>\n",
       "    <tr>\n",
       "      <th>Experiment</th>\n",
       "      <th>Cohort Type</th>\n",
       "      <th>Group</th>\n",
       "      <th></th>\n",
       "      <th></th>\n",
       "      <th></th>\n",
       "    </tr>\n",
       "  </thead>\n",
       "  <tbody>\n",
       "    <tr>\n",
       "      <th rowspan=\"4\" valign=\"top\">24 hours</th>\n",
       "      <th rowspan=\"3\" valign=\"top\">Unsupervised</th>\n",
       "      <th>0</th>\n",
       "      <td>7233</td>\n",
       "      <td>651</td>\n",
       "      <td>0.0900</td>\n",
       "    </tr>\n",
       "    <tr>\n",
       "      <th>1</th>\n",
       "      <td>20273</td>\n",
       "      <td>1463</td>\n",
       "      <td>0.0722</td>\n",
       "    </tr>\n",
       "    <tr>\n",
       "      <th>2</th>\n",
       "      <td>5207</td>\n",
       "      <td>207</td>\n",
       "      <td>0.0398</td>\n",
       "    </tr>\n",
       "    <tr>\n",
       "      <th>Global</th>\n",
       "      <th>*</th>\n",
       "      <td>32713</td>\n",
       "      <td>2321</td>\n",
       "      <td>0.0710</td>\n",
       "    </tr>\n",
       "    <tr>\n",
       "      <th rowspan=\"3\" valign=\"top\">48 hours</th>\n",
       "      <th rowspan=\"2\" valign=\"top\">Unsupervised</th>\n",
       "      <th>0</th>\n",
       "      <td>13092</td>\n",
       "      <td>574</td>\n",
       "      <td>0.0438</td>\n",
       "    </tr>\n",
       "    <tr>\n",
       "      <th>1</th>\n",
       "      <td>17350</td>\n",
       "      <td>1165</td>\n",
       "      <td>0.0671</td>\n",
       "    </tr>\n",
       "    <tr>\n",
       "      <th>Global</th>\n",
       "      <th>*</th>\n",
       "      <td>30442</td>\n",
       "      <td>1739</td>\n",
       "      <td>0.0571</td>\n",
       "    </tr>\n",
       "  </tbody>\n",
       "</table>\n",
       "</div>"
      ],
      "text/plain": [
       "                                   N     n  Class Imbalance\n",
       "Experiment Cohort Type  Group                              \n",
       "24 hours   Unsupervised 0       7233   651           0.0900\n",
       "                        1      20273  1463           0.0722\n",
       "                        2       5207   207           0.0398\n",
       "           Global       *      32713  2321           0.0710\n",
       "48 hours   Unsupervised 0      13092   574           0.0438\n",
       "                        1      17350  1165           0.0671\n",
       "           Global       *      30442  1739           0.0571"
      ]
     },
     "execution_count": 7,
     "metadata": {},
     "output_type": "execute_result"
    }
   ],
   "source": [
    "table3_df"
   ]
  },
  {
   "cell_type": "markdown",
   "id": "8b29774c-0fff-481f-8110-161bed1b65a5",
   "metadata": {},
   "source": [
    "**** Analysis required ****Table above is the equivalent to Table 3 in the paper. We can see the results are different. Data from MIMIC-Extract might be different from the data used by the authors.\n",
    "\n",
    "For the 24 hours experiment, size of the clusters are different and mortality as well. For instance, clusters 0 and 1 are smaller compared to cluster 2 but the mortality rate is significantly higher (9.27% and 10.15% versus 4.49%). For the 48 hours experiment, size and mortality of the two resulting clusters are closer when compared to the results from the 24 hour experiment."
   ]
  },
  {
   "cell_type": "markdown",
   "id": "a671387b-6023-49c7-a119-8ae1021d8e08",
   "metadata": {},
   "source": [
    "### 2.2. Visualization of selected lab test and vital signs features"
   ]
  },
  {
   "cell_type": "markdown",
   "id": "82f1077e-5513-4da4-a004-bb6e129517db",
   "metadata": {},
   "source": [
    "In this section, we will try to reproduce the results from Figure 4 (section 6.1.1) in the paper. In Figure 4, data from experiment 1 (24 hours) is used to create heatmap plots to determine if patients from different cohorts are physiologically distinct. To do that, we added the function `get_heatmap_data()` to get the mean of all z-scores by patient, by hour in the ICU, by cohort."
   ]
  },
  {
   "cell_type": "markdown",
   "id": "e901b173-79ad-48d2-bbfe-1777bf4018d3",
   "metadata": {},
   "source": [
    "#### 2.2.1. Heatmap plots for experiment 1 (24 hours)"
   ]
  },
  {
   "cell_type": "markdown",
   "id": "e04fcfdf-b0a2-4b96-be22-a6161ac264c0",
   "metadata": {},
   "source": [
    "Let's run the `get_heatmap_data()` function using the cohorts discovered in experiment 1 (24 hour cutoff period and 12 hour gap period):"
   ]
  },
  {
   "cell_type": "code",
   "execution_count": 8,
   "id": "072de563-acf3-4d8d-9cfa-28cff6c798b5",
   "metadata": {},
   "outputs": [
    {
     "name": "stdout",
     "output_type": "stream",
     "text": [
      "CPU times: user 7.31 s, sys: 22.9 s, total: 30.2 s\n",
      "Wall time: 25.9 s\n"
     ]
    }
   ],
   "source": [
    "%%time\n",
    "\n",
    "from mtl_patients_ablation import get_heatmap_data\n",
    "import seaborn as sns\n",
    "import matplotlib.pyplot as plt\n",
    "\n",
    "labs_df, vitals_df = get_heatmap_data(cutoff_hours=24, gap_hours=12,\n",
    "                                      cohort_unsupervised_filename='../data/unsupervised_clusters_lab_abl_24.npy')"
   ]
  },
  {
   "cell_type": "markdown",
   "id": "d9e156d2-30a5-4f54-9223-0a33ac593ac7",
   "metadata": {},
   "source": [
    "Let's plot the heatmaps for the selected lab tests and vitals:"
   ]
  },
  {
   "cell_type": "code",
   "execution_count": 9,
   "id": "66b3a472-9588-4bb6-b473-a19df11e1886",
   "metadata": {},
   "outputs": [
    {
     "data": {
      "image/png": "[encoded data removed]",
      "text/plain": [
       "<Figure size 2400x1200 with 12 Axes>"
      ]
     },
     "metadata": {},
     "output_type": "display_data"
    }
   ],
   "source": [
    "num_cohorts = len(np.unique(labs_df.index.get_level_values(0)))\n",
    "fig, axs = plt.subplots(nrows=2, ncols=num_cohorts)\n",
    "fig.set_size_inches(24, 12)\n",
    "for i in np.arange(num_cohorts):\n",
    "    plot_df = labs_df.unstack(1).stack(1).query(f'cohort == {i}').droplevel(0)\n",
    "    sns.heatmap(plot_df, ax=axs[0, i], yticklabels=True if i==0 else False).set(title=f'Lab Tests – Cohort {i}')\n",
    "for i in np.arange(num_cohorts):\n",
    "    plot_df = vitals_df.unstack(1).stack(1).query(f'cohort == {i}').droplevel(0)\n",
    "    sns.heatmap(plot_df, ax=axs[1, i], yticklabels=True if i==0 else False).set(title=f'Vitals – Cohort {i}')\n",
    "plt.savefig('../img/heatmap_lab_abl_24')"
   ]
  },
  {
   "cell_type": "markdown",
   "id": "96c31f21-a203-44cb-b0e7-51b340e8b411",
   "metadata": {},
   "source": [
    "**** Analysis required ****\n",
    "From the heatmap plots there are some trends in the physiological data that seems to show a distinction between cohorts. In case of labs glucose and blood area nitrogen seems to be different between the three cohorts. However, some of the vitals definitely show different trends in some cases. Blood pressure across the different cohorts is different. When cohort 0 patients have a diastolic blood pressure that tends to drop the longer the patient stays, patients from cohort 2 have a diastolic blood pressure that tends to increase. "
   ]
  },
  {
   "cell_type": "markdown",
   "id": "e364d425-2928-4535-bbaa-2a2eb54315fc",
   "metadata": {},
   "source": [
    "#### 2.2.2. Heatmap plots for experiment 2 (48 hours)"
   ]
  },
  {
   "cell_type": "markdown",
   "id": "a99947e0-411d-4a2f-8693-a6e4d2b4e9c5",
   "metadata": {},
   "source": [
    "Let's run the `get_heatmap_data()` function using the cohorts discovered in experiment 2 (48 hour cutoff period and 24 hour gap period):"
   ]
  },
  {
   "cell_type": "code",
   "execution_count": 10,
   "id": "256f6a0a-42f2-4dba-8d90-c5c7b27c9aa0",
   "metadata": {},
   "outputs": [
    {
     "name": "stdout",
     "output_type": "stream",
     "text": [
      "CPU times: user 6.9 s, sys: 21.7 s, total: 28.6 s\n",
      "Wall time: 24.1 s\n"
     ]
    }
   ],
   "source": [
    "%%time\n",
    "labs_df, vitals_df = get_heatmap_data(cutoff_hours=48, gap_hours=24,\n",
    "                                      cohort_unsupervised_filename='../data/unsupervised_clusters_lab_abl_48.npy')"
   ]
  },
  {
   "cell_type": "markdown",
   "id": "ef0a7b3a-a09b-4bf7-9b6a-7a332a01db72",
   "metadata": {},
   "source": [
    "Let's plot the heatmaps for the selected lab tests and vitals:"
   ]
  },
  {
   "cell_type": "code",
   "execution_count": 11,
   "id": "bdcf433d-094f-4e28-9c31-2c7f7e477e22",
   "metadata": {},
   "outputs": [
    {
     "data": {
      "image/png": "[encoded data removed]",
      "text/plain": [
       "<Figure size 2400x1200 with 8 Axes>"
      ]
     },
     "metadata": {},
     "output_type": "display_data"
    }
   ],
   "source": [
    "num_cohorts = len(np.unique(labs_df.index.get_level_values(0)))\n",
    "fig, axs = plt.subplots(nrows=2, ncols=num_cohorts)\n",
    "fig.set_size_inches(24, 12)\n",
    "for i in np.arange(num_cohorts):\n",
    "    plot_df = labs_df.unstack(1).stack(1).query(f'cohort == {i}').droplevel(0)\n",
    "    sns.heatmap(plot_df, ax=axs[0, i], yticklabels=True if i==0 else False).set(title=f'Lab Tests – Cohort {i}')\n",
    "for i in np.arange(num_cohorts):\n",
    "    plot_df = vitals_df.unstack(1).stack(1).query(f'cohort == {i}').droplevel(0)\n",
    "    sns.heatmap(plot_df, ax=axs[1, i], yticklabels=True if i==0 else False).set(title=f'Vitals – Cohort {i}')\n",
    "plt.savefig('../img/heatmap_lab_abl_48')"
   ]
  },
  {
   "cell_type": "markdown",
   "id": "75bb4790-a69b-41b6-84cb-489695f5df57",
   "metadata": {},
   "source": [
    "**** Analysis required ****In the 48 hour experiment, labs do not show significant differences between the two cohorts. However, the vitals show changes in the blood pressure where cohort 1 trend is more on the high side compared to cohort 0."
   ]
  },
  {
   "cell_type": "markdown",
   "id": "50db5427-8514-4b98-a260-ba574192e822",
   "metadata": {},
   "source": [
    "## 3. Predicting In-Hospital Mortality"
   ]
  },
  {
   "cell_type": "markdown",
   "id": "90e49cd5-dafc-401c-b946-2be0c4734bfb",
   "metadata": {},
   "source": [
    "As mentioned in the previous section, the paper uses a two-step pipeline to: 1) identify relevant patient cohorts, and 2) use those relevant cohorts as separate tasks in a multi-lask learning framework to predict in-hospital mortality. In this section, we will focus on the second step of the pipeline, i.e., use multi-task learning to make in-hospital mortality predictions for different patient cohorts."
   ]
  },
  {
   "cell_type": "markdown",
   "id": "5c776d05-12aa-4b18-ac87-468f91d79ee1",
   "metadata": {},
   "source": [
    "For benchmarking purposes of the entire pipeline, the authors compared the results from running the pipeline using unsupervised cohort discovery (step one) against cohorts created using the first careunit the patient went into which can be considered an engineered feature. We will show those results in the next subsections.\n",
    "\n",
    "The overall performance of this model is measured using both macro and micro metrics (section 4.3 in the paper) where:\n",
    "* In *micro* metrics all predicted probabilities for all patients are treated as if they come from a single classifier: $\\text{Metric}_\\text{Micro} = \\text{Metric}([\\hat{y}_0, ..., \\hat{y}_k], [y_0, ..., y_K])$.\n",
    "* In *macro* metrics probabilities are evaluated on a *per cohort* basis, and then averaged: $\\text{Metric}_\\text{Macro} = \\dfrac{1}{K} \\displaystyle\\sum_{k=0}^K \\text{Metric}(\\hat{y}_K, y_K)$.\n",
    "\n",
    "Paper suggests that, although micro metrics are the ones typically chosen in the literature, evaluating performance on different subpopulations will benefit from macro metrics instead of micro metrics specially when there is class imbalance in every cohort. All results show macro and micro versions of the metrics for the aggregate performance of the models.\n",
    "\n",
    "All results being used for comparison between models by the paper will use three metrics:\n",
    "* AUC (Area Under the ROC Curve) for every cohort and, for the aggregate performance, macro and micro.\n",
    "* PPV (Positive Predictive Value which is same as Precision) for every cohort and, for the aggregate performance, macro and micro. This PPV is calculated at a sensitivity of 80%, a value selected by the paper authors.\n",
    "* Specificity for every cohort and, for the aggregate performance, macro and micro. This specificity is calculated at a sensitivity of 80%, a value selected by the paper authors."
   ]
  },
  {
   "cell_type": "markdown",
   "id": "ec025760-eb01-4aab-8180-304ae4599a38",
   "metadata": {},
   "source": [
    "All in-hospital mortality prediction tasks are implemented using the function `run_mortality_prediction_task()`. This function will call other functions to prepare the data, split the data in training/validation/test data sets, train the corresponding model, predict using the resulting model, and calculate the metrics of the model."
   ]
  },
  {
   "cell_type": "markdown",
   "id": "b1d59d04-dfe5-4bab-80a3-fc008c105783",
   "metadata": {},
   "source": [
    "### 3.1. Predictions without Bootstrapping"
   ]
  },
  {
   "cell_type": "markdown",
   "id": "f512018c-1dcb-40f1-aa6a-acbce6fca3a1",
   "metadata": {},
   "source": [
    "In this section all in-hospital mortality predictions across the two models, global and multi-task learning, and across the two experiments, 24 hours and 48 hours, are calculated for the three metrics; AUC, PPV (precision) @80% sensitivity, and Specificity @80% sensitivity; using the test set (20% of the original dataset). No bootstrapping is done."
   ]
  },
  {
   "cell_type": "markdown",
   "id": "6ae2f3cd-42ca-42ba-b48a-a8d536030ba5",
   "metadata": {},
   "source": [
    "#### 3.1.1. In-Hospital Mortality Prediction – Baseline (*Global*) Model at 24 Hours"
   ]
  },
  {
   "cell_type": "markdown",
   "id": "87af77c0-0c08-483d-a63b-19cf0f433e95",
   "metadata": {},
   "source": [
    "Let's first run the mortality prediction task using the *global* model (baseline) in the 24 hour experiment setting. In this experiment, the cutoff period is 24 hours and the gap period is 12 hours, meaning model can only feed from patient data collected during the first 24 hours of the ICU stay, and predict mortality 36 hours after patient goes into the ICU to avoid label leakage. In terms of the cohort type, let's go with careunits first:"
   ]
  },
  {
   "cell_type": "code",
   "execution_count": 4,
   "id": "bd1a5bdf-7131-4c23-a39d-41a9f47394fe",
   "metadata": {
    "tags": []
   },
   "outputs": [
    {
     "name": "stdout",
     "output_type": "stream",
     "text": [
      "++++++++++++++++++++++++++++++++++++++++++++++++++++++++++++++++++++++++++++++++\n",
      "Preparing the data\n",
      "--------------------------------------------------------------------------------\n",
      "    Loading data from MIMIC-Extract pipeline...\n",
      "    Adding SAPS II score to static dataset...\n",
      "    Adding mortality columns to static dataset...\n",
      "    Discretizing X...\n",
      "        X.shape: (2200954, 29), X.subject_id.nunique(): 34472\n"
     ]
    },
    {
     "name": "stderr",
     "output_type": "stream",
     "text": [
      "/notebooks/notebooks/../code/mtl_patients_ablation.py:608: FutureWarning: In a future version, `df.iloc[:, i] = newvals` will attempt to set the values inplace instead of always setting a new array. To retain the old behavior, use either `df[df.columns[i]] = newvals` or, if columns are non-unique, `df.isetitem(i, newvals)`\n",
      "  X.loc[:, feature_cols] = X_words\n"
     ]
    },
    {
     "name": "stdout",
     "output_type": "stream",
     "text": [
      "        X_discrete.shape: (2200954, 199), X_discrete.subject_id.nunique(): 34472\n",
      "    Keep only X_discrete[X_discrete.hours_in < 24]...\n",
      "        New X_discrete.shape: (808539, 197), new X_discrete.subject_id.nunique(): 34472\n",
      "    Padding patients with less than 24 hours of data...\n",
      "    Merging dataframes to create X_full...\n"
     ]
    },
    {
     "name": "stderr",
     "output_type": "stream",
     "text": [
      "/notebooks/notebooks/../code/mtl_patients_ablation.py:633: FutureWarning: In a future version, `df.iloc[:, i] = newvals` will attempt to set the values inplace instead of always setting a new array. To retain the old behavior, use either `df[df.columns[i]] = newvals` or, if columns are non-unique, `df.isetitem(i, newvals)`\n",
      "  static_to_keep_df.loc[:, 'ethnicity'] = static_to_keep_df['ethnicity'].apply(categorize_ethnicity)\n",
      "/notebooks/notebooks/../code/mtl_patients_ablation.py:634: FutureWarning: In a future version, `df.iloc[:, i] = newvals` will attempt to set the values inplace instead of always setting a new array. To retain the old behavior, use either `df[df.columns[i]] = newvals` or, if columns are non-unique, `df.isetitem(i, newvals)`\n",
      "  static_to_keep_df.loc[:, 'age'] = static_to_keep_df['age'].apply(categorize_age)\n"
     ]
    },
    {
     "name": "stdout",
     "output_type": "stream",
     "text": [
      "    Mortality per careunit...\n",
      "        MICU: 1138 out of 11403\n",
      "        SICU: 409 out of 5187\n",
      "        CCU: 344 out of 4907\n",
      "        CSRU: 139 out of 6971\n",
      "        TSICU: 291 out of 4245\n",
      "    Final shape of X: (32713, 24, 206)\n",
      "    Number of positive samples: 2321\n",
      "    Done!\n",
      "++++++++++++++++++++++++++++++++++++++++++++++++++++++++++++++++++++++++++++++++\n",
      "Running the Mortality Prediction Task\n",
      "--------------------------------------------------------------------------------\n",
      "    Splitting data into train/validation/test sets...\n",
      "    Calculating number of training samples in cohort...\n",
      "        # of patients in cohort CCU is 3464\n",
      "        # of patients in cohort CSRU is 4848\n",
      "        # of patients in cohort MICU is 7912\n",
      "        # of patients in cohort SICU is 3696\n",
      "        # of patients in cohort TSICU is 2978\n",
      "    ~~~~~~~~~~~~~~~~~~~~~~~~~~~~~~~~~~~~~~~~~~~~~~~~~~~~~~~~~~~~~~~~~~~~~~~~~~~~\n",
      "    Training 'global' model...\n",
      "WARNING:tensorflow:Layer lstm will not use cuDNN kernels since it doesn't meet the criteria. It will use a generic GPU kernel as fallback when running on GPU.\n",
      "Model: \"single_task_learning_model\"\n",
      "_________________________________________________________________\n",
      " Layer (type)                Output Shape              Param #   \n",
      "=================================================================\n",
      " lstm (LSTM)                 (None, 16)                14272     \n",
      "                                                                 \n",
      " dense (Dense)               (None, 1)                 17        \n",
      "                                                                 \n",
      "=================================================================\n",
      "Total params: 14,289\n",
      "Trainable params: 14,289\n",
      "Non-trainable params: 0\n",
      "_________________________________________________________________\n",
      "None\n"
     ]
    },
    {
     "name": "stderr",
     "output_type": "stream",
     "text": [
      "2023-04-14 15:25:12.718886: W tensorflow/core/framework/cpu_allocator_impl.cc:82] Allocation of 905661696 exceeds 10% of free system memory.\n",
      "2023-04-14 15:25:13.859051: W tensorflow/core/framework/cpu_allocator_impl.cc:82] Allocation of 905661696 exceeds 10% of free system memory.\n",
      "2023-04-14 15:25:14.702883: W tensorflow/core/framework/cpu_allocator_impl.cc:82] Allocation of 905661696 exceeds 10% of free system memory.\n"
     ]
    },
    {
     "name": "stdout",
     "output_type": "stream",
     "text": [
      "Epoch 1/30\n",
      "229/229 [==============================] - ETA: 0s - loss: 0.4773 - accuracy: 0.8888"
     ]
    },
    {
     "name": "stderr",
     "output_type": "stream",
     "text": [
      "2023-04-14 15:25:34.596729: W tensorflow/core/framework/cpu_allocator_impl.cc:82] Allocation of 129414144 exceeds 10% of free system memory.\n",
      "2023-04-14 15:25:34.780550: W tensorflow/core/framework/cpu_allocator_impl.cc:82] Allocation of 129414144 exceeds 10% of free system memory.\n"
     ]
    },
    {
     "name": "stdout",
     "output_type": "stream",
     "text": [
      "229/229 [==============================] - 20s 73ms/step - loss: 0.4773 - accuracy: 0.8888 - val_loss: 0.3265 - val_accuracy: 0.9291\n",
      "Epoch 2/30\n",
      "229/229 [==============================] - 13s 55ms/step - loss: 0.2913 - accuracy: 0.9290 - val_loss: 0.2738 - val_accuracy: 0.9291\n",
      "Epoch 3/30\n",
      "229/229 [==============================] - 14s 59ms/step - loss: 0.2566 - accuracy: 0.9290 - val_loss: 0.2522 - val_accuracy: 0.9291\n",
      "Epoch 4/30\n",
      "229/229 [==============================] - 16s 71ms/step - loss: 0.2391 - accuracy: 0.9290 - val_loss: 0.2409 - val_accuracy: 0.9291\n",
      "Epoch 5/30\n",
      "229/229 [==============================] - 14s 61ms/step - loss: 0.2266 - accuracy: 0.9291 - val_loss: 0.2323 - val_accuracy: 0.9294\n",
      "Epoch 6/30\n",
      "229/229 [==============================] - 16s 72ms/step - loss: 0.2184 - accuracy: 0.9293 - val_loss: 0.2260 - val_accuracy: 0.9297\n",
      "Epoch 7/30\n",
      "229/229 [==============================] - 16s 72ms/step - loss: 0.2121 - accuracy: 0.9298 - val_loss: 0.2216 - val_accuracy: 0.9300\n",
      "Epoch 8/30\n",
      "229/229 [==============================] - 15s 67ms/step - loss: 0.2081 - accuracy: 0.9299 - val_loss: 0.2181 - val_accuracy: 0.9300\n",
      "Epoch 9/30\n",
      "229/229 [==============================] - 16s 70ms/step - loss: 0.2050 - accuracy: 0.9301 - val_loss: 0.2151 - val_accuracy: 0.9303\n",
      "Epoch 10/30\n",
      "229/229 [==============================] - 14s 63ms/step - loss: 0.2021 - accuracy: 0.9304 - val_loss: 0.2133 - val_accuracy: 0.9303\n",
      "Epoch 11/30\n",
      "229/229 [==============================] - 16s 69ms/step - loss: 0.2000 - accuracy: 0.9308 - val_loss: 0.2118 - val_accuracy: 0.9303\n",
      "Epoch 12/30\n",
      "229/229 [==============================] - 16s 69ms/step - loss: 0.1983 - accuracy: 0.9310 - val_loss: 0.2104 - val_accuracy: 0.9309\n",
      "Epoch 13/30\n",
      "229/229 [==============================] - 18s 77ms/step - loss: 0.1967 - accuracy: 0.9311 - val_loss: 0.2095 - val_accuracy: 0.9309\n",
      "Epoch 14/30\n",
      "229/229 [==============================] - 15s 68ms/step - loss: 0.1954 - accuracy: 0.9311 - val_loss: 0.2101 - val_accuracy: 0.9297\n",
      "Epoch 15/30\n",
      "229/229 [==============================] - 16s 72ms/step - loss: 0.1941 - accuracy: 0.9317 - val_loss: 0.2077 - val_accuracy: 0.9309\n",
      "Epoch 16/30\n",
      "229/229 [==============================] - 17s 73ms/step - loss: 0.1926 - accuracy: 0.9317 - val_loss: 0.2069 - val_accuracy: 0.9297\n",
      "Epoch 17/30\n",
      "229/229 [==============================] - 14s 61ms/step - loss: 0.1914 - accuracy: 0.9319 - val_loss: 0.2067 - val_accuracy: 0.9297\n",
      "Epoch 18/30\n",
      "229/229 [==============================] - 15s 67ms/step - loss: 0.1905 - accuracy: 0.9320 - val_loss: 0.2062 - val_accuracy: 0.9294\n",
      "Epoch 19/30\n",
      "229/229 [==============================] - 17s 76ms/step - loss: 0.1896 - accuracy: 0.9321 - val_loss: 0.2058 - val_accuracy: 0.9306\n",
      "Epoch 20/30\n",
      "229/229 [==============================] - 17s 72ms/step - loss: 0.1886 - accuracy: 0.9325 - val_loss: 0.2067 - val_accuracy: 0.9303\n",
      "Epoch 21/30\n",
      "229/229 [==============================] - 15s 64ms/step - loss: 0.1879 - accuracy: 0.9324 - val_loss: 0.2062 - val_accuracy: 0.9309\n",
      "Epoch 22/30\n",
      "229/229 [==============================] - 15s 67ms/step - loss: 0.1867 - accuracy: 0.9326 - val_loss: 0.2046 - val_accuracy: 0.9300\n",
      "Epoch 23/30\n",
      "229/229 [==============================] - 15s 65ms/step - loss: 0.1859 - accuracy: 0.9328 - val_loss: 0.2054 - val_accuracy: 0.9315\n",
      "Epoch 24/30\n",
      "229/229 [==============================] - 15s 65ms/step - loss: 0.1846 - accuracy: 0.9331 - val_loss: 0.2051 - val_accuracy: 0.9318\n",
      "Epoch 25/30\n",
      "229/229 [==============================] - 15s 67ms/step - loss: 0.1838 - accuracy: 0.9334 - val_loss: 0.2064 - val_accuracy: 0.9325\n",
      "Epoch 26/30\n",
      "229/229 [==============================] - 15s 65ms/step - loss: 0.1828 - accuracy: 0.9335 - val_loss: 0.2063 - val_accuracy: 0.9331\n",
      "INFO:tensorflow:Assets written to: ../data/ablation_data/models/model_global_24+12_careunits/assets\n",
      "    ~~~~~~~~~~~~~~~~~~~~~~~~~~~~~~~~~~~~~~~~~~~~~~~~~~~~~~~~~~~~~~~~~~~~~~~~~~~~\n",
      "    Predicting using 'global' model...\n",
      "205/205 [==============================] - 3s 11ms/step\n",
      "    Done!\n",
      "CPU times: user 9min 5s, sys: 1min 33s, total: 10min 39s\n",
      "Wall time: 8min 10s\n"
     ]
    }
   ],
   "source": [
    "%%time\n",
    "\n",
    "from mtl_patients_ablation import run_mortality_prediction_task\n",
    "\n",
    "metrics_global_24_careunits_df = run_mortality_prediction_task(model_type='global', cutoff_hours=24, gap_hours=12, cohort_criteria_to_select='careunits',save_to_folder='../data/ablation_data/',)"
   ]
  },
  {
   "cell_type": "code",
   "execution_count": 5,
   "id": "f2d99ef5-2261-4f1b-bcf1-0a0b597b042b",
   "metadata": {},
   "outputs": [
    {
     "data": {
      "text/html": [
       "<div>\n",
       "<style scoped>\n",
       "    .dataframe tbody tr th:only-of-type {\n",
       "        vertical-align: middle;\n",
       "    }\n",
       "\n",
       "    .dataframe tbody tr th {\n",
       "        vertical-align: top;\n",
       "    }\n",
       "\n",
       "    .dataframe thead th {\n",
       "        text-align: right;\n",
       "    }\n",
       "</style>\n",
       "<table border=\"1\" class=\"dataframe\">\n",
       "  <thead>\n",
       "    <tr style=\"text-align: right;\">\n",
       "      <th></th>\n",
       "      <th>AUC</th>\n",
       "      <th>PPV</th>\n",
       "      <th>Specificity</th>\n",
       "    </tr>\n",
       "  </thead>\n",
       "  <tbody>\n",
       "    <tr>\n",
       "      <th>CCU</th>\n",
       "      <td>0.841</td>\n",
       "      <td>0.179</td>\n",
       "      <td>0.756</td>\n",
       "    </tr>\n",
       "    <tr>\n",
       "      <th>CSRU</th>\n",
       "      <td>0.895</td>\n",
       "      <td>0.118</td>\n",
       "      <td>0.893</td>\n",
       "    </tr>\n",
       "    <tr>\n",
       "      <th>MICU</th>\n",
       "      <td>0.806</td>\n",
       "      <td>0.222</td>\n",
       "      <td>0.671</td>\n",
       "    </tr>\n",
       "    <tr>\n",
       "      <th>SICU</th>\n",
       "      <td>0.819</td>\n",
       "      <td>0.180</td>\n",
       "      <td>0.696</td>\n",
       "    </tr>\n",
       "    <tr>\n",
       "      <th>TSICU</th>\n",
       "      <td>0.830</td>\n",
       "      <td>0.117</td>\n",
       "      <td>0.582</td>\n",
       "    </tr>\n",
       "    <tr>\n",
       "      <th>Macro</th>\n",
       "      <td>0.838</td>\n",
       "      <td>0.163</td>\n",
       "      <td>0.720</td>\n",
       "    </tr>\n",
       "    <tr>\n",
       "      <th>Micro</th>\n",
       "      <td>0.843</td>\n",
       "      <td>0.178</td>\n",
       "      <td>0.718</td>\n",
       "    </tr>\n",
       "  </tbody>\n",
       "</table>\n",
       "</div>"
      ],
      "text/plain": [
       "         AUC    PPV  Specificity\n",
       "CCU    0.841  0.179        0.756\n",
       "CSRU   0.895  0.118        0.893\n",
       "MICU   0.806  0.222        0.671\n",
       "SICU   0.819  0.180        0.696\n",
       "TSICU  0.830  0.117        0.582\n",
       "Macro  0.838  0.163        0.720\n",
       "Micro  0.843  0.178        0.718"
      ]
     },
     "execution_count": 5,
     "metadata": {},
     "output_type": "execute_result"
    }
   ],
   "source": [
    "metrics_global_24_careunits_df.round(3)"
   ]
  },
  {
   "cell_type": "markdown",
   "id": "be1965b8-f887-400b-a690-2e4927dd0ba3",
   "metadata": {},
   "source": [
    "Now, let's repeat the prediction task but this time using the groups fetched in an unsupervised way from step 1 proposed by the authors in the paper:"
   ]
  },
  {
   "cell_type": "code",
   "execution_count": 2,
   "id": "e80d8a8a-c476-47b0-a4bb-e17af13ae059",
   "metadata": {
    "tags": []
   },
   "outputs": [
    {
     "name": "stdout",
     "output_type": "stream",
     "text": [
      "++++++++++++++++++++++++++++++++++++++++++++++++++++++++++++++++++++++++++++++++\n",
      "Preparing the data\n",
      "--------------------------------------------------------------------------------\n",
      "    Loading data from MIMIC-Extract pipeline...\n",
      "    Adding SAPS II score to static dataset...\n",
      "    Adding mortality columns to static dataset...\n",
      "    Discretizing X...\n",
      "        X.shape: (2200954, 29), X.subject_id.nunique(): 34472\n"
     ]
    },
    {
     "name": "stderr",
     "output_type": "stream",
     "text": [
      "/notebooks/notebooks/../code/mtl_patients_ablation.py:608: FutureWarning: In a future version, `df.iloc[:, i] = newvals` will attempt to set the values inplace instead of always setting a new array. To retain the old behavior, use either `df[df.columns[i]] = newvals` or, if columns are non-unique, `df.isetitem(i, newvals)`\n",
      "  X.loc[:, feature_cols] = X_words\n"
     ]
    },
    {
     "name": "stdout",
     "output_type": "stream",
     "text": [
      "        X_discrete.shape: (2200954, 199), X_discrete.subject_id.nunique(): 34472\n",
      "    Keep only X_discrete[X_discrete.hours_in < 24]...\n",
      "        New X_discrete.shape: (808539, 197), new X_discrete.subject_id.nunique(): 34472\n",
      "    Padding patients with less than 24 hours of data...\n",
      "    Merging dataframes to create X_full...\n"
     ]
    },
    {
     "name": "stderr",
     "output_type": "stream",
     "text": [
      "/notebooks/notebooks/../code/mtl_patients_ablation.py:633: FutureWarning: In a future version, `df.iloc[:, i] = newvals` will attempt to set the values inplace instead of always setting a new array. To retain the old behavior, use either `df[df.columns[i]] = newvals` or, if columns are non-unique, `df.isetitem(i, newvals)`\n",
      "  static_to_keep_df.loc[:, 'ethnicity'] = static_to_keep_df['ethnicity'].apply(categorize_ethnicity)\n",
      "/notebooks/notebooks/../code/mtl_patients_ablation.py:634: FutureWarning: In a future version, `df.iloc[:, i] = newvals` will attempt to set the values inplace instead of always setting a new array. To retain the old behavior, use either `df[df.columns[i]] = newvals` or, if columns are non-unique, `df.isetitem(i, newvals)`\n",
      "  static_to_keep_df.loc[:, 'age'] = static_to_keep_df['age'].apply(categorize_age)\n"
     ]
    },
    {
     "name": "stdout",
     "output_type": "stream",
     "text": [
      "    Mortality per careunit...\n",
      "        MICU: 1138 out of 11403\n",
      "        SICU: 409 out of 5187\n",
      "        CCU: 344 out of 4907\n",
      "        CSRU: 139 out of 6971\n",
      "        TSICU: 291 out of 4245\n",
      "    Final shape of X: (32713, 24, 206)\n",
      "    Number of positive samples: 2321\n",
      "    Done!\n",
      "++++++++++++++++++++++++++++++++++++++++++++++++++++++++++++++++++++++++++++++++\n",
      "Running the Mortality Prediction Task\n",
      "--------------------------------------------------------------------------------\n",
      "    Splitting data into train/validation/test sets...\n",
      "    Calculating number of training samples in cohort...\n",
      "        # of patients in cohort 0 is 5108\n",
      "        # of patients in cohort 1 is 14139\n",
      "        # of patients in cohort 2 is 3651\n",
      "    ~~~~~~~~~~~~~~~~~~~~~~~~~~~~~~~~~~~~~~~~~~~~~~~~~~~~~~~~~~~~~~~~~~~~~~~~~~~~\n",
      "    Training 'global' model...\n",
      "WARNING:tensorflow:Layer lstm will not use cuDNN kernels since it doesn't meet the criteria. It will use a generic GPU kernel as fallback when running on GPU.\n",
      "Model: \"single_task_learning_model\"\n",
      "_________________________________________________________________\n",
      " Layer (type)                Output Shape              Param #   \n",
      "=================================================================\n",
      " lstm (LSTM)                 (None, 16)                14272     \n",
      "                                                                 \n",
      " dense (Dense)               (None, 1)                 17        \n",
      "                                                                 \n",
      "=================================================================\n",
      "Total params: 14,289\n",
      "Trainable params: 14,289\n",
      "Non-trainable params: 0\n",
      "_________________________________________________________________\n",
      "None\n",
      "Epoch 1/30\n",
      "229/229 [==============================] - 23s 77ms/step - loss: 0.4773 - accuracy: 0.8888 - val_loss: 0.3265 - val_accuracy: 0.9291\n",
      "Epoch 2/30\n",
      "229/229 [==============================] - 17s 73ms/step - loss: 0.2913 - accuracy: 0.9290 - val_loss: 0.2738 - val_accuracy: 0.9291\n",
      "Epoch 3/30\n",
      "229/229 [==============================] - 17s 75ms/step - loss: 0.2566 - accuracy: 0.9290 - val_loss: 0.2522 - val_accuracy: 0.9291\n",
      "Epoch 4/30\n",
      "229/229 [==============================] - 17s 75ms/step - loss: 0.2391 - accuracy: 0.9290 - val_loss: 0.2409 - val_accuracy: 0.9291\n",
      "Epoch 5/30\n",
      "229/229 [==============================] - 19s 82ms/step - loss: 0.2266 - accuracy: 0.9291 - val_loss: 0.2323 - val_accuracy: 0.9294\n",
      "Epoch 6/30\n",
      "229/229 [==============================] - 21s 90ms/step - loss: 0.2184 - accuracy: 0.9293 - val_loss: 0.2260 - val_accuracy: 0.9297\n",
      "Epoch 7/30\n",
      "229/229 [==============================] - 16s 68ms/step - loss: 0.2121 - accuracy: 0.9298 - val_loss: 0.2216 - val_accuracy: 0.9300\n",
      "Epoch 8/30\n",
      "229/229 [==============================] - 16s 71ms/step - loss: 0.2081 - accuracy: 0.9299 - val_loss: 0.2181 - val_accuracy: 0.9300\n",
      "Epoch 9/30\n",
      "229/229 [==============================] - 14s 63ms/step - loss: 0.2050 - accuracy: 0.9301 - val_loss: 0.2151 - val_accuracy: 0.9303\n",
      "Epoch 10/30\n",
      "229/229 [==============================] - 13s 56ms/step - loss: 0.2021 - accuracy: 0.9304 - val_loss: 0.2133 - val_accuracy: 0.9303\n",
      "Epoch 11/30\n",
      "229/229 [==============================] - 13s 58ms/step - loss: 0.2000 - accuracy: 0.9308 - val_loss: 0.2118 - val_accuracy: 0.9303\n",
      "Epoch 12/30\n",
      "229/229 [==============================] - 16s 68ms/step - loss: 0.1983 - accuracy: 0.9310 - val_loss: 0.2104 - val_accuracy: 0.9309\n",
      "Epoch 13/30\n",
      "229/229 [==============================] - 15s 66ms/step - loss: 0.1967 - accuracy: 0.9311 - val_loss: 0.2095 - val_accuracy: 0.9309\n",
      "Epoch 14/30\n",
      "229/229 [==============================] - 18s 79ms/step - loss: 0.1954 - accuracy: 0.9311 - val_loss: 0.2101 - val_accuracy: 0.9297\n",
      "Epoch 15/30\n",
      "229/229 [==============================] - 20s 86ms/step - loss: 0.1941 - accuracy: 0.9317 - val_loss: 0.2077 - val_accuracy: 0.9309\n",
      "Epoch 16/30\n",
      "229/229 [==============================] - 23s 102ms/step - loss: 0.1926 - accuracy: 0.9317 - val_loss: 0.2069 - val_accuracy: 0.9297\n",
      "Epoch 17/30\n",
      "229/229 [==============================] - 20s 87ms/step - loss: 0.1914 - accuracy: 0.9319 - val_loss: 0.2067 - val_accuracy: 0.9297\n",
      "Epoch 18/30\n",
      "229/229 [==============================] - 17s 75ms/step - loss: 0.1905 - accuracy: 0.9320 - val_loss: 0.2062 - val_accuracy: 0.9294\n",
      "Epoch 19/30\n",
      "229/229 [==============================] - 16s 72ms/step - loss: 0.1896 - accuracy: 0.9321 - val_loss: 0.2058 - val_accuracy: 0.9306\n",
      "Epoch 20/30\n",
      "229/229 [==============================] - 16s 72ms/step - loss: 0.1886 - accuracy: 0.9325 - val_loss: 0.2067 - val_accuracy: 0.9303\n",
      "Epoch 21/30\n",
      "229/229 [==============================] - 16s 71ms/step - loss: 0.1879 - accuracy: 0.9324 - val_loss: 0.2062 - val_accuracy: 0.9309\n",
      "Epoch 22/30\n",
      "229/229 [==============================] - 16s 70ms/step - loss: 0.1867 - accuracy: 0.9326 - val_loss: 0.2046 - val_accuracy: 0.9300\n",
      "Epoch 23/30\n",
      "229/229 [==============================] - 18s 78ms/step - loss: 0.1859 - accuracy: 0.9328 - val_loss: 0.2054 - val_accuracy: 0.9315\n",
      "Epoch 24/30\n",
      "229/229 [==============================] - 18s 80ms/step - loss: 0.1846 - accuracy: 0.9331 - val_loss: 0.2051 - val_accuracy: 0.9318\n",
      "Epoch 25/30\n",
      "229/229 [==============================] - 17s 76ms/step - loss: 0.1838 - accuracy: 0.9334 - val_loss: 0.2064 - val_accuracy: 0.9325\n",
      "Epoch 26/30\n",
      "229/229 [==============================] - 18s 79ms/step - loss: 0.1828 - accuracy: 0.9335 - val_loss: 0.2063 - val_accuracy: 0.9331\n",
      "INFO:tensorflow:Assets written to: ../data/ablation_data/models/model_global_24+12_unsupervised/assets\n",
      "    ~~~~~~~~~~~~~~~~~~~~~~~~~~~~~~~~~~~~~~~~~~~~~~~~~~~~~~~~~~~~~~~~~~~~~~~~~~~~\n",
      "    Predicting using 'global' model...\n",
      "205/205 [==============================] - 3s 13ms/step\n",
      "    Done!\n",
      "CPU times: user 9min 49s, sys: 1min 16s, total: 11min 5s\n",
      "Wall time: 9min 33s\n"
     ]
    }
   ],
   "source": [
    "%%time\n",
    "metrics_global_24_unsupervised_df = run_mortality_prediction_task(model_type='global', cutoff_hours=24, gap_hours=12,\n",
    "                                                                  cohort_criteria_to_select='unsupervised', cohort_unsupervised_filename='../data/unsupervised_clusters_lab_abl_24.npy',save_to_folder='../data/ablation_data/',)"
   ]
  },
  {
   "cell_type": "code",
   "execution_count": 3,
   "id": "108d551b-6880-4016-8e2c-4b62f9f4f553",
   "metadata": {},
   "outputs": [
    {
     "data": {
      "text/html": [
       "<div>\n",
       "<style scoped>\n",
       "    .dataframe tbody tr th:only-of-type {\n",
       "        vertical-align: middle;\n",
       "    }\n",
       "\n",
       "    .dataframe tbody tr th {\n",
       "        vertical-align: top;\n",
       "    }\n",
       "\n",
       "    .dataframe thead th {\n",
       "        text-align: right;\n",
       "    }\n",
       "</style>\n",
       "<table border=\"1\" class=\"dataframe\">\n",
       "  <thead>\n",
       "    <tr style=\"text-align: right;\">\n",
       "      <th></th>\n",
       "      <th>AUC</th>\n",
       "      <th>PPV</th>\n",
       "      <th>Specificity</th>\n",
       "    </tr>\n",
       "  </thead>\n",
       "  <tbody>\n",
       "    <tr>\n",
       "      <th>0</th>\n",
       "      <td>0.855</td>\n",
       "      <td>0.260</td>\n",
       "      <td>0.746</td>\n",
       "    </tr>\n",
       "    <tr>\n",
       "      <th>1</th>\n",
       "      <td>0.827</td>\n",
       "      <td>0.169</td>\n",
       "      <td>0.691</td>\n",
       "    </tr>\n",
       "    <tr>\n",
       "      <th>2</th>\n",
       "      <td>0.845</td>\n",
       "      <td>0.052</td>\n",
       "      <td>0.712</td>\n",
       "    </tr>\n",
       "    <tr>\n",
       "      <th>Macro</th>\n",
       "      <td>0.842</td>\n",
       "      <td>0.160</td>\n",
       "      <td>0.716</td>\n",
       "    </tr>\n",
       "    <tr>\n",
       "      <th>Micro</th>\n",
       "      <td>0.843</td>\n",
       "      <td>0.178</td>\n",
       "      <td>0.718</td>\n",
       "    </tr>\n",
       "  </tbody>\n",
       "</table>\n",
       "</div>"
      ],
      "text/plain": [
       "         AUC    PPV  Specificity\n",
       "0      0.855  0.260        0.746\n",
       "1      0.827  0.169        0.691\n",
       "2      0.845  0.052        0.712\n",
       "Macro  0.842  0.160        0.716\n",
       "Micro  0.843  0.178        0.718"
      ]
     },
     "execution_count": 3,
     "metadata": {},
     "output_type": "execute_result"
    }
   ],
   "source": [
    "metrics_global_24_unsupervised_df.round(3)"
   ]
  },
  {
   "cell_type": "markdown",
   "id": "972982a2-558a-4970-960c-95fd795bf4f6",
   "metadata": {},
   "source": [
    "#### 3.1.2. In-Hospital Mortality Prediction – Baseline (*Global*) Model at 48 Hours"
   ]
  },
  {
   "cell_type": "markdown",
   "id": "0748b404-8560-46c2-a5f6-959f4405ac66",
   "metadata": {},
   "source": [
    "Let's now run the mortality prediction task using the *global* model (baseline) in the 48 hour experiment setting. In this experiment, the cutoff period is 48 hours and the gap period is 24 hours, meaning model can only feed from patient data collected during the first 48 hours of the ICU stay, and predict mortality 72 hours after patient goes into the ICU to avoid label leakage. In terms of the cohort type, let's go with careunits first:"
   ]
  },
  {
   "cell_type": "code",
   "execution_count": 2,
   "id": "d89891d2-19ab-41be-9532-6668dffd257a",
   "metadata": {
    "tags": []
   },
   "outputs": [
    {
     "name": "stdout",
     "output_type": "stream",
     "text": [
      "++++++++++++++++++++++++++++++++++++++++++++++++++++++++++++++++++++++++++++++++\n",
      "Preparing the data\n",
      "--------------------------------------------------------------------------------\n",
      "    Loading data from MIMIC-Extract pipeline...\n",
      "    Adding SAPS II score to static dataset...\n",
      "    Adding mortality columns to static dataset...\n",
      "    Discretizing X...\n",
      "        X.shape: (2200954, 29), X.subject_id.nunique(): 34472\n"
     ]
    },
    {
     "name": "stderr",
     "output_type": "stream",
     "text": [
      "/notebooks/notebooks/../code/mtl_patients_ablation.py:608: FutureWarning: In a future version, `df.iloc[:, i] = newvals` will attempt to set the values inplace instead of always setting a new array. To retain the old behavior, use either `df[df.columns[i]] = newvals` or, if columns are non-unique, `df.isetitem(i, newvals)`\n",
      "  X.loc[:, feature_cols] = X_words\n"
     ]
    },
    {
     "name": "stdout",
     "output_type": "stream",
     "text": [
      "        X_discrete.shape: (2200954, 199), X_discrete.subject_id.nunique(): 34472\n",
      "    Keep only X_discrete[X_discrete.hours_in < 48]...\n",
      "        New X_discrete.shape: (1349653, 197), new X_discrete.subject_id.nunique(): 34472\n",
      "    Padding patients with less than 48 hours of data...\n",
      "    Merging dataframes to create X_full...\n"
     ]
    },
    {
     "name": "stderr",
     "output_type": "stream",
     "text": [
      "/notebooks/notebooks/../code/mtl_patients_ablation.py:633: FutureWarning: In a future version, `df.iloc[:, i] = newvals` will attempt to set the values inplace instead of always setting a new array. To retain the old behavior, use either `df[df.columns[i]] = newvals` or, if columns are non-unique, `df.isetitem(i, newvals)`\n",
      "  static_to_keep_df.loc[:, 'ethnicity'] = static_to_keep_df['ethnicity'].apply(categorize_ethnicity)\n",
      "/notebooks/notebooks/../code/mtl_patients_ablation.py:634: FutureWarning: In a future version, `df.iloc[:, i] = newvals` will attempt to set the values inplace instead of always setting a new array. To retain the old behavior, use either `df[df.columns[i]] = newvals` or, if columns are non-unique, `df.isetitem(i, newvals)`\n",
      "  static_to_keep_df.loc[:, 'age'] = static_to_keep_df['age'].apply(categorize_age)\n"
     ]
    },
    {
     "name": "stdout",
     "output_type": "stream",
     "text": [
      "    Mortality per careunit...\n",
      "        MICU: 866 out of 10409\n",
      "        SICU: 303 out of 4815\n",
      "        CCU: 258 out of 4403\n",
      "        CSRU: 110 out of 6865\n",
      "        TSICU: 202 out of 3950\n",
      "    Final shape of X: (30442, 48, 206)\n",
      "    Number of positive samples: 1739\n",
      "    Done!\n",
      "++++++++++++++++++++++++++++++++++++++++++++++++++++++++++++++++++++++++++++++++\n",
      "Running the Mortality Prediction Task\n",
      "--------------------------------------------------------------------------------\n",
      "    Splitting data into train/validation/test sets...\n",
      "    Calculating number of training samples in cohort...\n",
      "        # of patients in cohort CCU is 3052\n",
      "        # of patients in cohort CSRU is 4806\n",
      "        # of patients in cohort MICU is 7309\n",
      "        # of patients in cohort SICU is 3358\n",
      "        # of patients in cohort TSICU is 2783\n",
      "    ~~~~~~~~~~~~~~~~~~~~~~~~~~~~~~~~~~~~~~~~~~~~~~~~~~~~~~~~~~~~~~~~~~~~~~~~~~~~\n",
      "    Training 'global' model...\n",
      "WARNING:tensorflow:Layer lstm will not use cuDNN kernels since it doesn't meet the criteria. It will use a generic GPU kernel as fallback when running on GPU.\n",
      "Model: \"single_task_learning_model\"\n",
      "_________________________________________________________________\n",
      " Layer (type)                Output Shape              Param #   \n",
      "=================================================================\n",
      " lstm (LSTM)                 (None, 16)                14272     \n",
      "                                                                 \n",
      " dense (Dense)               (None, 1)                 17        \n",
      "                                                                 \n",
      "=================================================================\n",
      "Total params: 14,289\n",
      "Trainable params: 14,289\n",
      "Non-trainable params: 0\n",
      "_________________________________________________________________\n",
      "None\n"
     ]
    },
    {
     "name": "stderr",
     "output_type": "stream",
     "text": [
      "2023-04-14 16:11:38.449796: W tensorflow/core/framework/cpu_allocator_impl.cc:82] Allocation of 1685548032 exceeds 10% of free system memory.\n",
      "2023-04-14 16:11:40.823297: W tensorflow/core/framework/cpu_allocator_impl.cc:82] Allocation of 1685548032 exceeds 10% of free system memory.\n",
      "2023-04-14 16:11:42.717254: W tensorflow/core/framework/cpu_allocator_impl.cc:82] Allocation of 1685548032 exceeds 10% of free system memory.\n"
     ]
    },
    {
     "name": "stdout",
     "output_type": "stream",
     "text": [
      "Epoch 1/30\n",
      "214/214 [==============================] - 34s 143ms/step - loss: 0.5711 - accuracy: 0.8713 - val_loss: 0.4824 - val_accuracy: 0.9429\n",
      "Epoch 2/30\n",
      "214/214 [==============================] - 29s 136ms/step - loss: 0.4398 - accuracy: 0.9429 - val_loss: 0.3927 - val_accuracy: 0.9429\n",
      "Epoch 3/30\n",
      "214/214 [==============================] - 29s 134ms/step - loss: 0.3552 - accuracy: 0.9429 - val_loss: 0.3236 - val_accuracy: 0.9429\n",
      "Epoch 4/30\n",
      "214/214 [==============================] - 25s 116ms/step - loss: 0.2962 - accuracy: 0.9428 - val_loss: 0.2722 - val_accuracy: 0.9429\n",
      "Epoch 5/30\n",
      "214/214 [==============================] - 25s 119ms/step - loss: 0.2483 - accuracy: 0.9428 - val_loss: 0.2355 - val_accuracy: 0.9429\n",
      "Epoch 6/30\n",
      "214/214 [==============================] - 24s 114ms/step - loss: 0.2187 - accuracy: 0.9429 - val_loss: 0.2146 - val_accuracy: 0.9429\n",
      "Epoch 7/30\n",
      "214/214 [==============================] - 27s 125ms/step - loss: 0.2034 - accuracy: 0.9429 - val_loss: 0.2039 - val_accuracy: 0.9429\n",
      "Epoch 8/30\n",
      "214/214 [==============================] - 26s 121ms/step - loss: 0.1965 - accuracy: 0.9429 - val_loss: 0.1985 - val_accuracy: 0.9429\n",
      "Epoch 9/30\n",
      "214/214 [==============================] - 28s 131ms/step - loss: 0.1922 - accuracy: 0.9429 - val_loss: 0.1946 - val_accuracy: 0.9429\n",
      "Epoch 10/30\n",
      "214/214 [==============================] - 25s 116ms/step - loss: 0.1891 - accuracy: 0.9429 - val_loss: 0.1908 - val_accuracy: 0.9429\n",
      "Epoch 11/30\n",
      "214/214 [==============================] - 28s 130ms/step - loss: 0.1855 - accuracy: 0.9429 - val_loss: 0.1876 - val_accuracy: 0.9429\n",
      "Epoch 12/30\n",
      "214/214 [==============================] - 26s 124ms/step - loss: 0.1828 - accuracy: 0.9431 - val_loss: 0.1841 - val_accuracy: 0.9425\n",
      "Epoch 13/30\n",
      "214/214 [==============================] - 29s 134ms/step - loss: 0.1803 - accuracy: 0.9430 - val_loss: 0.1821 - val_accuracy: 0.9429\n",
      "Epoch 14/30\n",
      "214/214 [==============================] - 25s 115ms/step - loss: 0.1783 - accuracy: 0.9434 - val_loss: 0.1801 - val_accuracy: 0.9429\n",
      "Epoch 15/30\n",
      "214/214 [==============================] - 25s 117ms/step - loss: 0.1763 - accuracy: 0.9434 - val_loss: 0.1791 - val_accuracy: 0.9429\n",
      "Epoch 16/30\n",
      "214/214 [==============================] - 23s 109ms/step - loss: 0.1748 - accuracy: 0.9436 - val_loss: 0.1777 - val_accuracy: 0.9429\n",
      "Epoch 17/30\n",
      "214/214 [==============================] - 26s 123ms/step - loss: 0.1735 - accuracy: 0.9437 - val_loss: 0.1769 - val_accuracy: 0.9435\n",
      "Epoch 18/30\n",
      "214/214 [==============================] - 24s 113ms/step - loss: 0.1724 - accuracy: 0.9442 - val_loss: 0.1770 - val_accuracy: 0.9432\n",
      "Epoch 19/30\n",
      "214/214 [==============================] - 23s 105ms/step - loss: 0.1711 - accuracy: 0.9440 - val_loss: 0.1759 - val_accuracy: 0.9435\n",
      "Epoch 20/30\n",
      "214/214 [==============================] - 28s 131ms/step - loss: 0.1702 - accuracy: 0.9443 - val_loss: 0.1755 - val_accuracy: 0.9442\n",
      "Epoch 21/30\n",
      "214/214 [==============================] - 24s 112ms/step - loss: 0.1695 - accuracy: 0.9448 - val_loss: 0.1754 - val_accuracy: 0.9448\n",
      "Epoch 22/30\n",
      "214/214 [==============================] - 23s 106ms/step - loss: 0.1685 - accuracy: 0.9446 - val_loss: 0.1754 - val_accuracy: 0.9448\n",
      "Epoch 23/30\n",
      "214/214 [==============================] - 24s 113ms/step - loss: 0.1675 - accuracy: 0.9450 - val_loss: 0.1744 - val_accuracy: 0.9448\n",
      "Epoch 24/30\n",
      "214/214 [==============================] - 27s 127ms/step - loss: 0.1664 - accuracy: 0.9452 - val_loss: 0.1744 - val_accuracy: 0.9452\n",
      "Epoch 25/30\n",
      "214/214 [==============================] - 34s 159ms/step - loss: 0.1655 - accuracy: 0.9452 - val_loss: 0.1747 - val_accuracy: 0.9448\n",
      "Epoch 26/30\n",
      "214/214 [==============================] - 31s 146ms/step - loss: 0.1648 - accuracy: 0.9454 - val_loss: 0.1754 - val_accuracy: 0.9442\n",
      "Epoch 27/30\n",
      "214/214 [==============================] - 33s 155ms/step - loss: 0.1639 - accuracy: 0.9457 - val_loss: 0.1754 - val_accuracy: 0.9448\n",
      "Epoch 28/30\n",
      "214/214 [==============================] - 25s 118ms/step - loss: 0.1634 - accuracy: 0.9452 - val_loss: 0.1742 - val_accuracy: 0.9448\n",
      "Epoch 29/30\n",
      "214/214 [==============================] - 26s 120ms/step - loss: 0.1620 - accuracy: 0.9454 - val_loss: 0.1756 - val_accuracy: 0.9445\n",
      "Epoch 30/30\n",
      "214/214 [==============================] - 23s 108ms/step - loss: 0.1614 - accuracy: 0.9456 - val_loss: 0.1786 - val_accuracy: 0.9438\n",
      "INFO:tensorflow:Assets written to: ../data/ablation_data/models/model_global_48+24_careunits/assets\n",
      "    ~~~~~~~~~~~~~~~~~~~~~~~~~~~~~~~~~~~~~~~~~~~~~~~~~~~~~~~~~~~~~~~~~~~~~~~~~~~~\n",
      "    Predicting using 'global' model...\n"
     ]
    },
    {
     "name": "stderr",
     "output_type": "stream",
     "text": [
      "2023-04-14 16:25:06.046379: W tensorflow/core/framework/cpu_allocator_impl.cc:82] Allocation of 481664256 exceeds 10% of free system memory.\n",
      "2023-04-14 16:25:06.666882: W tensorflow/core/framework/cpu_allocator_impl.cc:82] Allocation of 481664256 exceeds 10% of free system memory.\n"
     ]
    },
    {
     "name": "stdout",
     "output_type": "stream",
     "text": [
      "191/191 [==============================] - 4s 17ms/step\n",
      "    Done!\n",
      "CPU times: user 17min 39s, sys: 2min 13s, total: 19min 53s\n",
      "Wall time: 14min 52s\n"
     ]
    }
   ],
   "source": [
    "%%time\n",
    "metrics_global_48_careunits_df = run_mortality_prediction_task(model_type='global', cutoff_hours=48, gap_hours=24, cohort_criteria_to_select='careunits',save_to_folder='../data/ablation_data/',)"
   ]
  },
  {
   "cell_type": "code",
   "execution_count": 3,
   "id": "c8b3ec4f-fe8c-47c5-b140-43859ab4463f",
   "metadata": {},
   "outputs": [
    {
     "data": {
      "text/html": [
       "<div>\n",
       "<style scoped>\n",
       "    .dataframe tbody tr th:only-of-type {\n",
       "        vertical-align: middle;\n",
       "    }\n",
       "\n",
       "    .dataframe tbody tr th {\n",
       "        vertical-align: top;\n",
       "    }\n",
       "\n",
       "    .dataframe thead th {\n",
       "        text-align: right;\n",
       "    }\n",
       "</style>\n",
       "<table border=\"1\" class=\"dataframe\">\n",
       "  <thead>\n",
       "    <tr style=\"text-align: right;\">\n",
       "      <th></th>\n",
       "      <th>AUC</th>\n",
       "      <th>PPV</th>\n",
       "      <th>Specificity</th>\n",
       "    </tr>\n",
       "  </thead>\n",
       "  <tbody>\n",
       "    <tr>\n",
       "      <th>CCU</th>\n",
       "      <td>0.806</td>\n",
       "      <td>0.168</td>\n",
       "      <td>0.739</td>\n",
       "    </tr>\n",
       "    <tr>\n",
       "      <th>CSRU</th>\n",
       "      <td>0.913</td>\n",
       "      <td>0.053</td>\n",
       "      <td>0.826</td>\n",
       "    </tr>\n",
       "    <tr>\n",
       "      <th>MICU</th>\n",
       "      <td>0.809</td>\n",
       "      <td>0.180</td>\n",
       "      <td>0.676</td>\n",
       "    </tr>\n",
       "    <tr>\n",
       "      <th>SICU</th>\n",
       "      <td>0.814</td>\n",
       "      <td>0.160</td>\n",
       "      <td>0.728</td>\n",
       "    </tr>\n",
       "    <tr>\n",
       "      <th>TSICU</th>\n",
       "      <td>0.805</td>\n",
       "      <td>0.118</td>\n",
       "      <td>0.678</td>\n",
       "    </tr>\n",
       "    <tr>\n",
       "      <th>Macro</th>\n",
       "      <td>0.829</td>\n",
       "      <td>0.136</td>\n",
       "      <td>0.729</td>\n",
       "    </tr>\n",
       "    <tr>\n",
       "      <th>Micro</th>\n",
       "      <td>0.834</td>\n",
       "      <td>0.154</td>\n",
       "      <td>0.735</td>\n",
       "    </tr>\n",
       "  </tbody>\n",
       "</table>\n",
       "</div>"
      ],
      "text/plain": [
       "         AUC    PPV  Specificity\n",
       "CCU    0.806  0.168        0.739\n",
       "CSRU   0.913  0.053        0.826\n",
       "MICU   0.809  0.180        0.676\n",
       "SICU   0.814  0.160        0.728\n",
       "TSICU  0.805  0.118        0.678\n",
       "Macro  0.829  0.136        0.729\n",
       "Micro  0.834  0.154        0.735"
      ]
     },
     "execution_count": 3,
     "metadata": {},
     "output_type": "execute_result"
    }
   ],
   "source": [
    "metrics_global_48_careunits_df.round(3)"
   ]
  },
  {
   "cell_type": "markdown",
   "id": "727cb1a2-2a44-4b86-82ec-dcdbed9bbfe1",
   "metadata": {},
   "source": [
    "Now, let's repeat the prediction task but this time using the groups fetched in an unsupervised way from step 1 proposed by the authors in the paper:"
   ]
  },
  {
   "cell_type": "code",
   "execution_count": 2,
   "id": "77732870-873d-4e1a-99ed-65a2331eb2db",
   "metadata": {
    "tags": []
   },
   "outputs": [
    {
     "name": "stdout",
     "output_type": "stream",
     "text": [
      "++++++++++++++++++++++++++++++++++++++++++++++++++++++++++++++++++++++++++++++++\n",
      "Preparing the data\n",
      "--------------------------------------------------------------------------------\n",
      "    Loading data from MIMIC-Extract pipeline...\n",
      "    Adding SAPS II score to static dataset...\n",
      "    Adding mortality columns to static dataset...\n",
      "    Discretizing X...\n",
      "        X.shape: (2200954, 29), X.subject_id.nunique(): 34472\n"
     ]
    },
    {
     "name": "stderr",
     "output_type": "stream",
     "text": [
      "/notebooks/notebooks/../code/mtl_patients_ablation.py:608: FutureWarning: In a future version, `df.iloc[:, i] = newvals` will attempt to set the values inplace instead of always setting a new array. To retain the old behavior, use either `df[df.columns[i]] = newvals` or, if columns are non-unique, `df.isetitem(i, newvals)`\n",
      "  X.loc[:, feature_cols] = X_words\n"
     ]
    },
    {
     "name": "stdout",
     "output_type": "stream",
     "text": [
      "        X_discrete.shape: (2200954, 199), X_discrete.subject_id.nunique(): 34472\n",
      "    Keep only X_discrete[X_discrete.hours_in < 48]...\n",
      "        New X_discrete.shape: (1349653, 197), new X_discrete.subject_id.nunique(): 34472\n",
      "    Padding patients with less than 48 hours of data...\n",
      "    Merging dataframes to create X_full...\n"
     ]
    },
    {
     "name": "stderr",
     "output_type": "stream",
     "text": [
      "/notebooks/notebooks/../code/mtl_patients_ablation.py:633: FutureWarning: In a future version, `df.iloc[:, i] = newvals` will attempt to set the values inplace instead of always setting a new array. To retain the old behavior, use either `df[df.columns[i]] = newvals` or, if columns are non-unique, `df.isetitem(i, newvals)`\n",
      "  static_to_keep_df.loc[:, 'ethnicity'] = static_to_keep_df['ethnicity'].apply(categorize_ethnicity)\n",
      "/notebooks/notebooks/../code/mtl_patients_ablation.py:634: FutureWarning: In a future version, `df.iloc[:, i] = newvals` will attempt to set the values inplace instead of always setting a new array. To retain the old behavior, use either `df[df.columns[i]] = newvals` or, if columns are non-unique, `df.isetitem(i, newvals)`\n",
      "  static_to_keep_df.loc[:, 'age'] = static_to_keep_df['age'].apply(categorize_age)\n"
     ]
    },
    {
     "name": "stdout",
     "output_type": "stream",
     "text": [
      "    Mortality per careunit...\n",
      "        MICU: 866 out of 10409\n",
      "        SICU: 303 out of 4815\n",
      "        CCU: 258 out of 4403\n",
      "        CSRU: 110 out of 6865\n",
      "        TSICU: 202 out of 3950\n",
      "    Final shape of X: (30442, 48, 206)\n",
      "    Number of positive samples: 1739\n",
      "    Done!\n",
      "++++++++++++++++++++++++++++++++++++++++++++++++++++++++++++++++++++++++++++++++\n",
      "Running the Mortality Prediction Task\n",
      "--------------------------------------------------------------------------------\n",
      "    Splitting data into train/validation/test sets...\n",
      "    Calculating number of training samples in cohort...\n",
      "        # of patients in cohort 0 is 9125\n",
      "        # of patients in cohort 1 is 12183\n",
      "    ~~~~~~~~~~~~~~~~~~~~~~~~~~~~~~~~~~~~~~~~~~~~~~~~~~~~~~~~~~~~~~~~~~~~~~~~~~~~\n",
      "    Training 'global' model...\n",
      "WARNING:tensorflow:Layer lstm will not use cuDNN kernels since it doesn't meet the criteria. It will use a generic GPU kernel as fallback when running on GPU.\n",
      "Model: \"single_task_learning_model\"\n",
      "_________________________________________________________________\n",
      " Layer (type)                Output Shape              Param #   \n",
      "=================================================================\n",
      " lstm (LSTM)                 (None, 16)                14272     \n",
      "                                                                 \n",
      " dense (Dense)               (None, 1)                 17        \n",
      "                                                                 \n",
      "=================================================================\n",
      "Total params: 14,289\n",
      "Trainable params: 14,289\n",
      "Non-trainable params: 0\n",
      "_________________________________________________________________\n",
      "None\n"
     ]
    },
    {
     "name": "stderr",
     "output_type": "stream",
     "text": [
      "2023-04-14 16:28:31.746155: W tensorflow/core/framework/cpu_allocator_impl.cc:82] Allocation of 1685548032 exceeds 10% of free system memory.\n",
      "2023-04-14 16:28:33.715226: W tensorflow/core/framework/cpu_allocator_impl.cc:82] Allocation of 1685548032 exceeds 10% of free system memory.\n",
      "2023-04-14 16:28:35.283425: W tensorflow/core/framework/cpu_allocator_impl.cc:82] Allocation of 1685548032 exceeds 10% of free system memory.\n"
     ]
    },
    {
     "name": "stdout",
     "output_type": "stream",
     "text": [
      "Epoch 1/30\n",
      "214/214 [==============================] - 31s 133ms/step - loss: 0.5711 - accuracy: 0.8713 - val_loss: 0.4824 - val_accuracy: 0.9429\n",
      "Epoch 2/30\n",
      "214/214 [==============================] - 26s 119ms/step - loss: 0.4398 - accuracy: 0.9429 - val_loss: 0.3927 - val_accuracy: 0.9429\n",
      "Epoch 3/30\n",
      "214/214 [==============================] - 25s 117ms/step - loss: 0.3552 - accuracy: 0.9429 - val_loss: 0.3236 - val_accuracy: 0.9429\n",
      "Epoch 4/30\n",
      "214/214 [==============================] - 27s 126ms/step - loss: 0.2962 - accuracy: 0.9428 - val_loss: 0.2722 - val_accuracy: 0.9429\n",
      "Epoch 5/30\n",
      "214/214 [==============================] - 26s 121ms/step - loss: 0.2483 - accuracy: 0.9428 - val_loss: 0.2355 - val_accuracy: 0.9429\n",
      "Epoch 6/30\n",
      "214/214 [==============================] - 26s 121ms/step - loss: 0.2187 - accuracy: 0.9429 - val_loss: 0.2146 - val_accuracy: 0.9429\n",
      "Epoch 7/30\n",
      "214/214 [==============================] - 28s 132ms/step - loss: 0.2034 - accuracy: 0.9429 - val_loss: 0.2039 - val_accuracy: 0.9429\n",
      "Epoch 8/30\n",
      "214/214 [==============================] - 25s 115ms/step - loss: 0.1965 - accuracy: 0.9429 - val_loss: 0.1985 - val_accuracy: 0.9429\n",
      "Epoch 9/30\n",
      "214/214 [==============================] - 26s 123ms/step - loss: 0.1922 - accuracy: 0.9429 - val_loss: 0.1946 - val_accuracy: 0.9429\n",
      "Epoch 10/30\n",
      "214/214 [==============================] - 28s 130ms/step - loss: 0.1891 - accuracy: 0.9429 - val_loss: 0.1908 - val_accuracy: 0.9429\n",
      "Epoch 11/30\n",
      "214/214 [==============================] - 26s 122ms/step - loss: 0.1855 - accuracy: 0.9429 - val_loss: 0.1876 - val_accuracy: 0.9429\n",
      "Epoch 12/30\n",
      "214/214 [==============================] - 26s 123ms/step - loss: 0.1828 - accuracy: 0.9431 - val_loss: 0.1841 - val_accuracy: 0.9425\n",
      "Epoch 13/30\n",
      "214/214 [==============================] - 26s 123ms/step - loss: 0.1803 - accuracy: 0.9430 - val_loss: 0.1821 - val_accuracy: 0.9429\n",
      "Epoch 14/30\n",
      "214/214 [==============================] - 24s 112ms/step - loss: 0.1783 - accuracy: 0.9434 - val_loss: 0.1801 - val_accuracy: 0.9429\n",
      "Epoch 15/30\n",
      "214/214 [==============================] - 25s 119ms/step - loss: 0.1763 - accuracy: 0.9434 - val_loss: 0.1791 - val_accuracy: 0.9429\n",
      "Epoch 16/30\n",
      "214/214 [==============================] - 28s 131ms/step - loss: 0.1748 - accuracy: 0.9436 - val_loss: 0.1777 - val_accuracy: 0.9429\n",
      "Epoch 17/30\n",
      "214/214 [==============================] - 28s 132ms/step - loss: 0.1735 - accuracy: 0.9437 - val_loss: 0.1769 - val_accuracy: 0.9435\n",
      "Epoch 18/30\n",
      "214/214 [==============================] - 35s 162ms/step - loss: 0.1724 - accuracy: 0.9442 - val_loss: 0.1770 - val_accuracy: 0.9432\n",
      "Epoch 19/30\n",
      "214/214 [==============================] - 36s 168ms/step - loss: 0.1711 - accuracy: 0.9440 - val_loss: 0.1759 - val_accuracy: 0.9435\n",
      "Epoch 20/30\n",
      "214/214 [==============================] - 35s 162ms/step - loss: 0.1702 - accuracy: 0.9443 - val_loss: 0.1755 - val_accuracy: 0.9442\n",
      "Epoch 21/30\n",
      "214/214 [==============================] - 36s 166ms/step - loss: 0.1695 - accuracy: 0.9448 - val_loss: 0.1754 - val_accuracy: 0.9448\n",
      "Epoch 22/30\n",
      "214/214 [==============================] - 30s 140ms/step - loss: 0.1685 - accuracy: 0.9446 - val_loss: 0.1754 - val_accuracy: 0.9448\n",
      "Epoch 23/30\n",
      "214/214 [==============================] - 30s 138ms/step - loss: 0.1675 - accuracy: 0.9450 - val_loss: 0.1744 - val_accuracy: 0.9448\n",
      "Epoch 24/30\n",
      "214/214 [==============================] - 31s 143ms/step - loss: 0.1664 - accuracy: 0.9452 - val_loss: 0.1744 - val_accuracy: 0.9452\n",
      "Epoch 25/30\n",
      "214/214 [==============================] - 29s 134ms/step - loss: 0.1655 - accuracy: 0.9452 - val_loss: 0.1747 - val_accuracy: 0.9448\n",
      "Epoch 26/30\n",
      "214/214 [==============================] - 30s 139ms/step - loss: 0.1648 - accuracy: 0.9454 - val_loss: 0.1754 - val_accuracy: 0.9442\n",
      "Epoch 27/30\n",
      "214/214 [==============================] - 28s 131ms/step - loss: 0.1639 - accuracy: 0.9457 - val_loss: 0.1754 - val_accuracy: 0.9448\n",
      "Epoch 28/30\n",
      "214/214 [==============================] - 29s 136ms/step - loss: 0.1634 - accuracy: 0.9452 - val_loss: 0.1742 - val_accuracy: 0.9448\n",
      "Epoch 29/30\n",
      "214/214 [==============================] - 30s 139ms/step - loss: 0.1620 - accuracy: 0.9454 - val_loss: 0.1756 - val_accuracy: 0.9445\n",
      "Epoch 30/30\n",
      "214/214 [==============================] - 29s 135ms/step - loss: 0.1614 - accuracy: 0.9456 - val_loss: 0.1786 - val_accuracy: 0.9438\n",
      "INFO:tensorflow:Assets written to: ../data/ablation_data/models/model_global_48+24_unsupervised/assets\n",
      "    ~~~~~~~~~~~~~~~~~~~~~~~~~~~~~~~~~~~~~~~~~~~~~~~~~~~~~~~~~~~~~~~~~~~~~~~~~~~~\n",
      "    Predicting using 'global' model...\n"
     ]
    },
    {
     "name": "stderr",
     "output_type": "stream",
     "text": [
      "2023-04-14 16:42:58.404069: W tensorflow/core/framework/cpu_allocator_impl.cc:82] Allocation of 481664256 exceeds 10% of free system memory.\n",
      "2023-04-14 16:42:59.109052: W tensorflow/core/framework/cpu_allocator_impl.cc:82] Allocation of 481664256 exceeds 10% of free system memory.\n"
     ]
    },
    {
     "name": "stdout",
     "output_type": "stream",
     "text": [
      "191/191 [==============================] - 5s 21ms/step\n",
      "    Done!\n",
      "CPU times: user 18min 34s, sys: 2min 14s, total: 20min 48s\n",
      "Wall time: 15min 44s\n"
     ]
    }
   ],
   "source": [
    "%%time\n",
    "metrics_global_48_unsupervised_df = run_mortality_prediction_task(model_type='global', cutoff_hours=48, gap_hours=24,\n",
    "                                                                  cohort_criteria_to_select='unsupervised', cohort_unsupervised_filename='../data/unsupervised_clusters_lab_abl_48.npy',save_to_folder='../data/ablation_data/',)"
   ]
  },
  {
   "cell_type": "code",
   "execution_count": 3,
   "id": "a39d3aba-ff49-4a9a-b4ff-edc87c45b253",
   "metadata": {
    "tags": []
   },
   "outputs": [
    {
     "data": {
      "text/html": [
       "<div>\n",
       "<style scoped>\n",
       "    .dataframe tbody tr th:only-of-type {\n",
       "        vertical-align: middle;\n",
       "    }\n",
       "\n",
       "    .dataframe tbody tr th {\n",
       "        vertical-align: top;\n",
       "    }\n",
       "\n",
       "    .dataframe thead th {\n",
       "        text-align: right;\n",
       "    }\n",
       "</style>\n",
       "<table border=\"1\" class=\"dataframe\">\n",
       "  <thead>\n",
       "    <tr style=\"text-align: right;\">\n",
       "      <th></th>\n",
       "      <th>AUC</th>\n",
       "      <th>PPV</th>\n",
       "      <th>Specificity</th>\n",
       "    </tr>\n",
       "  </thead>\n",
       "  <tbody>\n",
       "    <tr>\n",
       "      <th>0</th>\n",
       "      <td>0.845</td>\n",
       "      <td>0.129</td>\n",
       "      <td>0.772</td>\n",
       "    </tr>\n",
       "    <tr>\n",
       "      <th>1</th>\n",
       "      <td>0.816</td>\n",
       "      <td>0.180</td>\n",
       "      <td>0.731</td>\n",
       "    </tr>\n",
       "    <tr>\n",
       "      <th>Macro</th>\n",
       "      <td>0.831</td>\n",
       "      <td>0.155</td>\n",
       "      <td>0.751</td>\n",
       "    </tr>\n",
       "    <tr>\n",
       "      <th>Micro</th>\n",
       "      <td>0.834</td>\n",
       "      <td>0.154</td>\n",
       "      <td>0.735</td>\n",
       "    </tr>\n",
       "  </tbody>\n",
       "</table>\n",
       "</div>"
      ],
      "text/plain": [
       "         AUC    PPV  Specificity\n",
       "0      0.845  0.129        0.772\n",
       "1      0.816  0.180        0.731\n",
       "Macro  0.831  0.155        0.751\n",
       "Micro  0.834  0.154        0.735"
      ]
     },
     "execution_count": 3,
     "metadata": {},
     "output_type": "execute_result"
    }
   ],
   "source": [
    "metrics_global_48_unsupervised_df.round(3)"
   ]
  },
  {
   "cell_type": "markdown",
   "id": "0998f5fe-85a5-46ae-81eb-dbcde28e4b59",
   "metadata": {},
   "source": [
    "#### 3.1.3. In-Hospital Mortality Prediction – Multi-Task Learning Model at 24 Hours"
   ]
  },
  {
   "cell_type": "markdown",
   "id": "1f8bbb7c-6a4b-437c-b881-9599ca1d088b",
   "metadata": {},
   "source": [
    "Let's now run the mortality prediction task using the multi-task learning model in the 24 hour experiment setting. In this experiment, the cutoff period is 24 hours and the gap period is 12 hours, meaning model can only feed from patient data collected during the first 24 hours of the ICU stay, and predict mortality 36 hours after patient goes into the ICU to avoid label leakage. In terms of the cohort type, let's go with careunits first:"
   ]
  },
  {
   "cell_type": "code",
   "execution_count": 9,
   "id": "7857d90e-4e5a-4e58-b2d0-8c69a7667842",
   "metadata": {
    "tags": []
   },
   "outputs": [
    {
     "name": "stdout",
     "output_type": "stream",
     "text": [
      "Start Cell Execution at : 14/04/2023 12:56:33\n",
      "++++++++++++++++++++++++++++++++++++++++++++++++++++++++++++++++++++++++++++++++\n",
      "Preparing the data\n",
      "--------------------------------------------------------------------------------\n",
      "    Loading data from MIMIC-Extract pipeline...\n",
      "    Adding SAPS II score to static dataset...\n",
      "    Adding mortality columns to static dataset...\n",
      "    Discretizing X...\n",
      "        X.shape: (2200954, 29), X.subject_id.nunique(): 34472\n"
     ]
    },
    {
     "name": "stderr",
     "output_type": "stream",
     "text": [
      "/notebooks/notebooks/../code/mtl_patients_ablation.py:608: FutureWarning: In a future version, `df.iloc[:, i] = newvals` will attempt to set the values inplace instead of always setting a new array. To retain the old behavior, use either `df[df.columns[i]] = newvals` or, if columns are non-unique, `df.isetitem(i, newvals)`\n",
      "  X.loc[:, feature_cols] = X_words\n"
     ]
    },
    {
     "name": "stdout",
     "output_type": "stream",
     "text": [
      "        X_discrete.shape: (2200954, 199), X_discrete.subject_id.nunique(): 34472\n",
      "    Keep only X_discrete[X_discrete.hours_in < 24]...\n",
      "        New X_discrete.shape: (808539, 197), new X_discrete.subject_id.nunique(): 34472\n",
      "    Padding patients with less than 24 hours of data...\n",
      "    Merging dataframes to create X_full...\n"
     ]
    },
    {
     "name": "stderr",
     "output_type": "stream",
     "text": [
      "/notebooks/notebooks/../code/mtl_patients_ablation.py:633: FutureWarning: In a future version, `df.iloc[:, i] = newvals` will attempt to set the values inplace instead of always setting a new array. To retain the old behavior, use either `df[df.columns[i]] = newvals` or, if columns are non-unique, `df.isetitem(i, newvals)`\n",
      "  static_to_keep_df.loc[:, 'ethnicity'] = static_to_keep_df['ethnicity'].apply(categorize_ethnicity)\n",
      "/notebooks/notebooks/../code/mtl_patients_ablation.py:634: FutureWarning: In a future version, `df.iloc[:, i] = newvals` will attempt to set the values inplace instead of always setting a new array. To retain the old behavior, use either `df[df.columns[i]] = newvals` or, if columns are non-unique, `df.isetitem(i, newvals)`\n",
      "  static_to_keep_df.loc[:, 'age'] = static_to_keep_df['age'].apply(categorize_age)\n"
     ]
    },
    {
     "name": "stdout",
     "output_type": "stream",
     "text": [
      "    Mortality per careunit...\n",
      "        MICU: 1138 out of 11403\n",
      "        SICU: 409 out of 5187\n",
      "        CCU: 344 out of 4907\n",
      "        CSRU: 139 out of 6971\n",
      "        TSICU: 291 out of 4245\n",
      "    Final shape of X: (32713, 24, 206)\n",
      "    Number of positive samples: 2321\n",
      "    Done!\n",
      "++++++++++++++++++++++++++++++++++++++++++++++++++++++++++++++++++++++++++++++++\n",
      "Running the Mortality Prediction Task\n",
      "--------------------------------------------------------------------------------\n",
      "    Splitting data into train/validation/test sets...\n",
      "    Calculating number of training samples in cohort...\n",
      "        # of patients in cohort CCU is 3464\n",
      "        # of patients in cohort CSRU is 4848\n",
      "        # of patients in cohort MICU is 7912\n",
      "        # of patients in cohort SICU is 3696\n",
      "        # of patients in cohort TSICU is 2978\n",
      "    ~~~~~~~~~~~~~~~~~~~~~~~~~~~~~~~~~~~~~~~~~~~~~~~~~~~~~~~~~~~~~~~~~~~~~~~~~~~~\n",
      "    Training 'multitask' model...\n",
      "WARNING:tensorflow:Layer lstm will not use cuDNN kernels since it doesn't meet the criteria. It will use a generic GPU kernel as fallback when running on GPU.\n",
      "Model: \"multitask_learning_model\"\n",
      "__________________________________________________________________________________________________\n",
      " Layer (type)                   Output Shape         Param #     Connected to                     \n",
      "==================================================================================================\n",
      " input (InputLayer)             [(None, 24, 206)]    0           []                               \n",
      "                                                                                                  \n",
      " lstm (LSTM)                    (None, 16)           14272       ['input[0][0]']                  \n",
      "                                                                                                  \n",
      " CCU (Dense)                    (None, 1)            17          ['lstm[0][0]']                   \n",
      "                                                                                                  \n",
      " CSRU (Dense)                   (None, 1)            17          ['lstm[0][0]']                   \n",
      "                                                                                                  \n",
      " MICU (Dense)                   (None, 1)            17          ['lstm[0][0]']                   \n",
      "                                                                                                  \n",
      " SICU (Dense)                   (None, 1)            17          ['lstm[0][0]']                   \n",
      "                                                                                                  \n",
      " TSICU (Dense)                  (None, 1)            17          ['lstm[0][0]']                   \n",
      "                                                                                                  \n",
      "==================================================================================================\n",
      "Total params: 14,357\n",
      "Trainable params: 14,357\n",
      "Non-trainable params: 0\n",
      "__________________________________________________________________________________________________\n",
      "None\n",
      "Epoch 1/30\n",
      "229/229 [==============================] - 25s 87ms/step - loss: 0.4882 - CCU_loss: 0.0902 - CSRU_loss: 0.0699 - MICU_loss: 0.1682 - SICU_loss: 0.0711 - TSICU_loss: 0.0889 - CCU_accuracy: 0.7213 - CSRU_accuracy: 0.9262 - MICU_accuracy: 0.9135 - SICU_accuracy: 0.9279 - TSICU_accuracy: 0.4310 - val_loss: 1.8433 - val_CCU_loss: 0.4107 - val_CSRU_loss: 0.2993 - val_MICU_loss: 0.3171 - val_SICU_loss: 0.3154 - val_TSICU_loss: 0.5009 - val_CCU_accuracy: 0.9273 - val_CSRU_accuracy: 0.9291 - val_MICU_accuracy: 0.9282 - val_SICU_accuracy: 0.9285 - val_TSICU_accuracy: 0.8790\n",
      "Epoch 2/30\n",
      "229/229 [==============================] - 17s 76ms/step - loss: 0.2897 - CCU_loss: 0.0522 - CSRU_loss: 0.0239 - MICU_loss: 0.1187 - SICU_loss: 0.0490 - TSICU_loss: 0.0458 - CCU_accuracy: 0.9288 - CSRU_accuracy: 0.9290 - MICU_accuracy: 0.9285 - SICU_accuracy: 0.9287 - TSICU_accuracy: 0.9244 - val_loss: 1.4635 - val_CCU_loss: 0.2959 - val_CSRU_loss: 0.2980 - val_MICU_loss: 0.2788 - val_SICU_loss: 0.2910 - val_TSICU_loss: 0.2998 - val_CCU_accuracy: 0.9291 - val_CSRU_accuracy: 0.9291 - val_MICU_accuracy: 0.9288 - val_SICU_accuracy: 0.9291 - val_TSICU_accuracy: 0.9291\n",
      "Epoch 3/30\n",
      "229/229 [==============================] - 18s 80ms/step - loss: 0.2571 - CCU_loss: 0.0438 - CSRU_loss: 0.0218 - MICU_loss: 0.1095 - SICU_loss: 0.0450 - TSICU_loss: 0.0370 - CCU_accuracy: 0.9290 - CSRU_accuracy: 0.9290 - MICU_accuracy: 0.9287 - SICU_accuracy: 0.9290 - TSICU_accuracy: 0.9290 - val_loss: 1.3662 - val_CCU_loss: 0.2714 - val_CSRU_loss: 0.2907 - val_MICU_loss: 0.2653 - val_SICU_loss: 0.2690 - val_TSICU_loss: 0.2699 - val_CCU_accuracy: 0.9291 - val_CSRU_accuracy: 0.9291 - val_MICU_accuracy: 0.9288 - val_SICU_accuracy: 0.9291 - val_TSICU_accuracy: 0.9291\n",
      "Epoch 4/30\n",
      "229/229 [==============================] - 18s 77ms/step - loss: 0.2416 - CCU_loss: 0.0401 - CSRU_loss: 0.0205 - MICU_loss: 0.1041 - SICU_loss: 0.0425 - TSICU_loss: 0.0344 - CCU_accuracy: 0.9290 - CSRU_accuracy: 0.9290 - MICU_accuracy: 0.9289 - SICU_accuracy: 0.9289 - TSICU_accuracy: 0.9290 - val_loss: 1.3034 - val_CCU_loss: 0.2562 - val_CSRU_loss: 0.2851 - val_MICU_loss: 0.2532 - val_SICU_loss: 0.2544 - val_TSICU_loss: 0.2545 - val_CCU_accuracy: 0.9291 - val_CSRU_accuracy: 0.9291 - val_MICU_accuracy: 0.9291 - val_SICU_accuracy: 0.9291 - val_TSICU_accuracy: 0.9291\n",
      "Epoch 5/30\n",
      "229/229 [==============================] - 16s 72ms/step - loss: 0.2293 - CCU_loss: 0.0368 - CSRU_loss: 0.0194 - MICU_loss: 0.1001 - SICU_loss: 0.0401 - TSICU_loss: 0.0329 - CCU_accuracy: 0.9291 - CSRU_accuracy: 0.9290 - MICU_accuracy: 0.9290 - SICU_accuracy: 0.9293 - TSICU_accuracy: 0.9290 - val_loss: 1.2526 - val_CCU_loss: 0.2468 - val_CSRU_loss: 0.2703 - val_MICU_loss: 0.2433 - val_SICU_loss: 0.2461 - val_TSICU_loss: 0.2460 - val_CCU_accuracy: 0.9291 - val_CSRU_accuracy: 0.9291 - val_MICU_accuracy: 0.9294 - val_SICU_accuracy: 0.9291 - val_TSICU_accuracy: 0.9291\n",
      "Epoch 6/30\n",
      "229/229 [==============================] - 18s 77ms/step - loss: 0.2213 - CCU_loss: 0.0349 - CSRU_loss: 0.0188 - MICU_loss: 0.0971 - SICU_loss: 0.0388 - TSICU_loss: 0.0317 - CCU_accuracy: 0.9290 - CSRU_accuracy: 0.9290 - MICU_accuracy: 0.9291 - SICU_accuracy: 0.9292 - TSICU_accuracy: 0.9290 - val_loss: 1.2264 - val_CCU_loss: 0.2427 - val_CSRU_loss: 0.2660 - val_MICU_loss: 0.2365 - val_SICU_loss: 0.2401 - val_TSICU_loss: 0.2410 - val_CCU_accuracy: 0.9288 - val_CSRU_accuracy: 0.9291 - val_MICU_accuracy: 0.9294 - val_SICU_accuracy: 0.9291 - val_TSICU_accuracy: 0.9291\n",
      "Epoch 7/30\n",
      "229/229 [==============================] - 16s 70ms/step - loss: 0.2155 - CCU_loss: 0.0336 - CSRU_loss: 0.0181 - MICU_loss: 0.0950 - SICU_loss: 0.0378 - TSICU_loss: 0.0309 - CCU_accuracy: 0.9289 - CSRU_accuracy: 0.9290 - MICU_accuracy: 0.9291 - SICU_accuracy: 0.9295 - TSICU_accuracy: 0.9290 - val_loss: 1.2077 - val_CCU_loss: 0.2406 - val_CSRU_loss: 0.2633 - val_MICU_loss: 0.2322 - val_SICU_loss: 0.2347 - val_TSICU_loss: 0.2369 - val_CCU_accuracy: 0.9294 - val_CSRU_accuracy: 0.9291 - val_MICU_accuracy: 0.9291 - val_SICU_accuracy: 0.9276 - val_TSICU_accuracy: 0.9291\n",
      "Epoch 8/30\n",
      "229/229 [==============================] - 19s 84ms/step - loss: 0.2113 - CCU_loss: 0.0326 - CSRU_loss: 0.0178 - MICU_loss: 0.0934 - SICU_loss: 0.0375 - TSICU_loss: 0.0301 - CCU_accuracy: 0.9291 - CSRU_accuracy: 0.9290 - MICU_accuracy: 0.9295 - SICU_accuracy: 0.9302 - TSICU_accuracy: 0.9290 - val_loss: 1.1842 - val_CCU_loss: 0.2357 - val_CSRU_loss: 0.2524 - val_MICU_loss: 0.2292 - val_SICU_loss: 0.2312 - val_TSICU_loss: 0.2356 - val_CCU_accuracy: 0.9291 - val_CSRU_accuracy: 0.9291 - val_MICU_accuracy: 0.9291 - val_SICU_accuracy: 0.9276 - val_TSICU_accuracy: 0.9291\n",
      "Epoch 9/30\n",
      "229/229 [==============================] - 18s 80ms/step - loss: 0.2081 - CCU_loss: 0.0319 - CSRU_loss: 0.0174 - MICU_loss: 0.0920 - SICU_loss: 0.0372 - TSICU_loss: 0.0296 - CCU_accuracy: 0.9293 - CSRU_accuracy: 0.9290 - MICU_accuracy: 0.9299 - SICU_accuracy: 0.9304 - TSICU_accuracy: 0.9290 - val_loss: 1.1696 - val_CCU_loss: 0.2333 - val_CSRU_loss: 0.2521 - val_MICU_loss: 0.2245 - val_SICU_loss: 0.2277 - val_TSICU_loss: 0.2320 - val_CCU_accuracy: 0.9288 - val_CSRU_accuracy: 0.9291 - val_MICU_accuracy: 0.9294 - val_SICU_accuracy: 0.9279 - val_TSICU_accuracy: 0.9291\n",
      "Epoch 10/30\n",
      "229/229 [==============================] - 16s 69ms/step - loss: 0.2049 - CCU_loss: 0.0313 - CSRU_loss: 0.0169 - MICU_loss: 0.0908 - SICU_loss: 0.0367 - TSICU_loss: 0.0292 - CCU_accuracy: 0.9296 - CSRU_accuracy: 0.9290 - MICU_accuracy: 0.9301 - SICU_accuracy: 0.9304 - TSICU_accuracy: 0.9290 - val_loss: 1.1695 - val_CCU_loss: 0.2355 - val_CSRU_loss: 0.2564 - val_MICU_loss: 0.2228 - val_SICU_loss: 0.2257 - val_TSICU_loss: 0.2290 - val_CCU_accuracy: 0.9291 - val_CSRU_accuracy: 0.9291 - val_MICU_accuracy: 0.9297 - val_SICU_accuracy: 0.9291 - val_TSICU_accuracy: 0.9291\n",
      "Epoch 11/30\n",
      "229/229 [==============================] - 20s 86ms/step - loss: 0.2025 - CCU_loss: 0.0305 - CSRU_loss: 0.0167 - MICU_loss: 0.0901 - SICU_loss: 0.0365 - TSICU_loss: 0.0287 - CCU_accuracy: 0.9298 - CSRU_accuracy: 0.9290 - MICU_accuracy: 0.9307 - SICU_accuracy: 0.9300 - TSICU_accuracy: 0.9290 - val_loss: 1.1611 - val_CCU_loss: 0.2358 - val_CSRU_loss: 0.2560 - val_MICU_loss: 0.2201 - val_SICU_loss: 0.2227 - val_TSICU_loss: 0.2265 - val_CCU_accuracy: 0.9291 - val_CSRU_accuracy: 0.9291 - val_MICU_accuracy: 0.9291 - val_SICU_accuracy: 0.9297 - val_TSICU_accuracy: 0.9291\n",
      "Epoch 12/30\n",
      "229/229 [==============================] - 18s 81ms/step - loss: 0.2003 - CCU_loss: 0.0303 - CSRU_loss: 0.0163 - MICU_loss: 0.0892 - SICU_loss: 0.0362 - TSICU_loss: 0.0283 - CCU_accuracy: 0.9297 - CSRU_accuracy: 0.9291 - MICU_accuracy: 0.9305 - SICU_accuracy: 0.9307 - TSICU_accuracy: 0.9290 - val_loss: 1.1431 - val_CCU_loss: 0.2305 - val_CSRU_loss: 0.2437 - val_MICU_loss: 0.2200 - val_SICU_loss: 0.2228 - val_TSICU_loss: 0.2261 - val_CCU_accuracy: 0.9285 - val_CSRU_accuracy: 0.9291 - val_MICU_accuracy: 0.9306 - val_SICU_accuracy: 0.9291 - val_TSICU_accuracy: 0.9291\n",
      "Epoch 13/30\n",
      "229/229 [==============================] - 18s 79ms/step - loss: 0.1983 - CCU_loss: 0.0299 - CSRU_loss: 0.0161 - MICU_loss: 0.0886 - SICU_loss: 0.0359 - TSICU_loss: 0.0279 - CCU_accuracy: 0.9299 - CSRU_accuracy: 0.9291 - MICU_accuracy: 0.9308 - SICU_accuracy: 0.9306 - TSICU_accuracy: 0.9290 - val_loss: 1.1482 - val_CCU_loss: 0.2350 - val_CSRU_loss: 0.2505 - val_MICU_loss: 0.2186 - val_SICU_loss: 0.2204 - val_TSICU_loss: 0.2238 - val_CCU_accuracy: 0.9291 - val_CSRU_accuracy: 0.9291 - val_MICU_accuracy: 0.9303 - val_SICU_accuracy: 0.9294 - val_TSICU_accuracy: 0.9291\n",
      "Epoch 14/30\n",
      "229/229 [==============================] - 20s 87ms/step - loss: 0.1963 - CCU_loss: 0.0294 - CSRU_loss: 0.0160 - MICU_loss: 0.0876 - SICU_loss: 0.0357 - TSICU_loss: 0.0275 - CCU_accuracy: 0.9301 - CSRU_accuracy: 0.9290 - MICU_accuracy: 0.9312 - SICU_accuracy: 0.9305 - TSICU_accuracy: 0.9290 - val_loss: 1.1333 - val_CCU_loss: 0.2273 - val_CSRU_loss: 0.2323 - val_MICU_loss: 0.2224 - val_SICU_loss: 0.2243 - val_TSICU_loss: 0.2269 - val_CCU_accuracy: 0.9285 - val_CSRU_accuracy: 0.9291 - val_MICU_accuracy: 0.9312 - val_SICU_accuracy: 0.9279 - val_TSICU_accuracy: 0.9291\n",
      "Epoch 15/30\n",
      "229/229 [==============================] - 19s 83ms/step - loss: 0.1946 - CCU_loss: 0.0293 - CSRU_loss: 0.0156 - MICU_loss: 0.0871 - SICU_loss: 0.0355 - TSICU_loss: 0.0272 - CCU_accuracy: 0.9303 - CSRU_accuracy: 0.9291 - MICU_accuracy: 0.9314 - SICU_accuracy: 0.9308 - TSICU_accuracy: 0.9290 - val_loss: 1.1321 - val_CCU_loss: 0.2309 - val_CSRU_loss: 0.2431 - val_MICU_loss: 0.2171 - val_SICU_loss: 0.2194 - val_TSICU_loss: 0.2217 - val_CCU_accuracy: 0.9291 - val_CSRU_accuracy: 0.9291 - val_MICU_accuracy: 0.9312 - val_SICU_accuracy: 0.9294 - val_TSICU_accuracy: 0.9291\n",
      "Epoch 16/30\n",
      "229/229 [==============================] - 17s 73ms/step - loss: 0.1927 - CCU_loss: 0.0289 - CSRU_loss: 0.0155 - MICU_loss: 0.0864 - SICU_loss: 0.0350 - TSICU_loss: 0.0269 - CCU_accuracy: 0.9300 - CSRU_accuracy: 0.9293 - MICU_accuracy: 0.9317 - SICU_accuracy: 0.9306 - TSICU_accuracy: 0.9290 - val_loss: 1.1280 - val_CCU_loss: 0.2322 - val_CSRU_loss: 0.2403 - val_MICU_loss: 0.2175 - val_SICU_loss: 0.2175 - val_TSICU_loss: 0.2205 - val_CCU_accuracy: 0.9279 - val_CSRU_accuracy: 0.9291 - val_MICU_accuracy: 0.9318 - val_SICU_accuracy: 0.9288 - val_TSICU_accuracy: 0.9291\n",
      "Epoch 17/30\n",
      "229/229 [==============================] - 18s 80ms/step - loss: 0.1910 - CCU_loss: 0.0285 - CSRU_loss: 0.0152 - MICU_loss: 0.0857 - SICU_loss: 0.0351 - TSICU_loss: 0.0266 - CCU_accuracy: 0.9300 - CSRU_accuracy: 0.9295 - MICU_accuracy: 0.9317 - SICU_accuracy: 0.9306 - TSICU_accuracy: 0.9290 - val_loss: 1.1247 - val_CCU_loss: 0.2301 - val_CSRU_loss: 0.2323 - val_MICU_loss: 0.2206 - val_SICU_loss: 0.2205 - val_TSICU_loss: 0.2212 - val_CCU_accuracy: 0.9270 - val_CSRU_accuracy: 0.9300 - val_MICU_accuracy: 0.9318 - val_SICU_accuracy: 0.9276 - val_TSICU_accuracy: 0.9291\n",
      "Epoch 18/30\n",
      "229/229 [==============================] - 16s 71ms/step - loss: 0.1897 - CCU_loss: 0.0281 - CSRU_loss: 0.0150 - MICU_loss: 0.0854 - SICU_loss: 0.0349 - TSICU_loss: 0.0263 - CCU_accuracy: 0.9301 - CSRU_accuracy: 0.9298 - MICU_accuracy: 0.9314 - SICU_accuracy: 0.9307 - TSICU_accuracy: 0.9290 - val_loss: 1.1173 - val_CCU_loss: 0.2283 - val_CSRU_loss: 0.2320 - val_MICU_loss: 0.2180 - val_SICU_loss: 0.2186 - val_TSICU_loss: 0.2204 - val_CCU_accuracy: 0.9288 - val_CSRU_accuracy: 0.9300 - val_MICU_accuracy: 0.9318 - val_SICU_accuracy: 0.9285 - val_TSICU_accuracy: 0.9291\n",
      "Epoch 19/30\n",
      "229/229 [==============================] - 17s 75ms/step - loss: 0.1882 - CCU_loss: 0.0277 - CSRU_loss: 0.0150 - MICU_loss: 0.0851 - SICU_loss: 0.0345 - TSICU_loss: 0.0260 - CCU_accuracy: 0.9299 - CSRU_accuracy: 0.9300 - MICU_accuracy: 0.9313 - SICU_accuracy: 0.9306 - TSICU_accuracy: 0.9290 - val_loss: 1.1161 - val_CCU_loss: 0.2297 - val_CSRU_loss: 0.2362 - val_MICU_loss: 0.2151 - val_SICU_loss: 0.2162 - val_TSICU_loss: 0.2189 - val_CCU_accuracy: 0.9282 - val_CSRU_accuracy: 0.9300 - val_MICU_accuracy: 0.9315 - val_SICU_accuracy: 0.9282 - val_TSICU_accuracy: 0.9291\n",
      "Epoch 20/30\n",
      "229/229 [==============================] - 19s 83ms/step - loss: 0.1869 - CCU_loss: 0.0277 - CSRU_loss: 0.0148 - MICU_loss: 0.0845 - SICU_loss: 0.0343 - TSICU_loss: 0.0256 - CCU_accuracy: 0.9303 - CSRU_accuracy: 0.9302 - MICU_accuracy: 0.9315 - SICU_accuracy: 0.9310 - TSICU_accuracy: 0.9291 - val_loss: 1.1163 - val_CCU_loss: 0.2254 - val_CSRU_loss: 0.2220 - val_MICU_loss: 0.2205 - val_SICU_loss: 0.2227 - val_TSICU_loss: 0.2259 - val_CCU_accuracy: 0.9273 - val_CSRU_accuracy: 0.9300 - val_MICU_accuracy: 0.9322 - val_SICU_accuracy: 0.9276 - val_TSICU_accuracy: 0.9294\n",
      "Epoch 21/30\n",
      "229/229 [==============================] - 18s 81ms/step - loss: 0.1860 - CCU_loss: 0.0275 - CSRU_loss: 0.0148 - MICU_loss: 0.0839 - SICU_loss: 0.0344 - TSICU_loss: 0.0252 - CCU_accuracy: 0.9303 - CSRU_accuracy: 0.9305 - MICU_accuracy: 0.9314 - SICU_accuracy: 0.9305 - TSICU_accuracy: 0.9293 - val_loss: 1.1313 - val_CCU_loss: 0.2394 - val_CSRU_loss: 0.2408 - val_MICU_loss: 0.2182 - val_SICU_loss: 0.2162 - val_TSICU_loss: 0.2166 - val_CCU_accuracy: 0.9294 - val_CSRU_accuracy: 0.9300 - val_MICU_accuracy: 0.9315 - val_SICU_accuracy: 0.9294 - val_TSICU_accuracy: 0.9294\n",
      "Epoch 22/30\n",
      "229/229 [==============================] - 21s 91ms/step - loss: 0.1842 - CCU_loss: 0.0274 - CSRU_loss: 0.0146 - MICU_loss: 0.0832 - SICU_loss: 0.0340 - TSICU_loss: 0.0250 - CCU_accuracy: 0.9305 - CSRU_accuracy: 0.9308 - MICU_accuracy: 0.9310 - SICU_accuracy: 0.9310 - TSICU_accuracy: 0.9295 - val_loss: 1.1261 - val_CCU_loss: 0.2369 - val_CSRU_loss: 0.2362 - val_MICU_loss: 0.2198 - val_SICU_loss: 0.2160 - val_TSICU_loss: 0.2172 - val_CCU_accuracy: 0.9294 - val_CSRU_accuracy: 0.9303 - val_MICU_accuracy: 0.9322 - val_SICU_accuracy: 0.9291 - val_TSICU_accuracy: 0.9297\n",
      "Epoch 23/30\n",
      "229/229 [==============================] - 19s 82ms/step - loss: 0.1835 - CCU_loss: 0.0273 - CSRU_loss: 0.0145 - MICU_loss: 0.0827 - SICU_loss: 0.0339 - TSICU_loss: 0.0250 - CCU_accuracy: 0.9303 - CSRU_accuracy: 0.9312 - MICU_accuracy: 0.9307 - SICU_accuracy: 0.9306 - TSICU_accuracy: 0.9297 - val_loss: 1.1215 - val_CCU_loss: 0.2340 - val_CSRU_loss: 0.2304 - val_MICU_loss: 0.2220 - val_SICU_loss: 0.2162 - val_TSICU_loss: 0.2189 - val_CCU_accuracy: 0.9291 - val_CSRU_accuracy: 0.9303 - val_MICU_accuracy: 0.9334 - val_SICU_accuracy: 0.9288 - val_TSICU_accuracy: 0.9297\n",
      "INFO:tensorflow:Assets written to: ../data/ablation_data/models/model_multitask_24+12_careunits/assets\n",
      "    ~~~~~~~~~~~~~~~~~~~~~~~~~~~~~~~~~~~~~~~~~~~~~~~~~~~~~~~~~~~~~~~~~~~~~~~~~~~~\n",
      "    Predicting using 'multitask' model...\n",
      "205/205 [==============================] - 2s 8ms/step\n",
      "    Done!\n",
      "CPU times: user 9min 33s, sys: 1min 9s, total: 10min 43s\n",
      "Wall time: 8min 6s\n"
     ]
    }
   ],
   "source": [
    "%%time\n",
    "cell_execution_time = datetime.now(pytz.timezone('America/New_York')).strftime(\"%d/%m/%Y %H:%M:%S\")\n",
    "print(f'Start Cell Execution at : {cell_execution_time}')\n",
    "metrics_mtl_24_careunits_df = run_mortality_prediction_task(model_type='multitask', cutoff_hours=24, gap_hours=12, cohort_criteria_to_select='careunits',save_to_folder='../data/ablation_data/',)"
   ]
  },
  {
   "cell_type": "code",
   "execution_count": 10,
   "id": "5f2df7f8-4758-4e97-90a5-7dcd5a6b51c9",
   "metadata": {
    "tags": []
   },
   "outputs": [
    {
     "data": {
      "text/html": [
       "<div>\n",
       "<style scoped>\n",
       "    .dataframe tbody tr th:only-of-type {\n",
       "        vertical-align: middle;\n",
       "    }\n",
       "\n",
       "    .dataframe tbody tr th {\n",
       "        vertical-align: top;\n",
       "    }\n",
       "\n",
       "    .dataframe thead th {\n",
       "        text-align: right;\n",
       "    }\n",
       "</style>\n",
       "<table border=\"1\" class=\"dataframe\">\n",
       "  <thead>\n",
       "    <tr style=\"text-align: right;\">\n",
       "      <th></th>\n",
       "      <th>AUC</th>\n",
       "      <th>PPV</th>\n",
       "      <th>Specificity</th>\n",
       "    </tr>\n",
       "  </thead>\n",
       "  <tbody>\n",
       "    <tr>\n",
       "      <th>CCU</th>\n",
       "      <td>0.821</td>\n",
       "      <td>0.136</td>\n",
       "      <td>0.661</td>\n",
       "    </tr>\n",
       "    <tr>\n",
       "      <th>CSRU</th>\n",
       "      <td>0.893</td>\n",
       "      <td>0.103</td>\n",
       "      <td>0.876</td>\n",
       "    </tr>\n",
       "    <tr>\n",
       "      <th>MICU</th>\n",
       "      <td>0.809</td>\n",
       "      <td>0.217</td>\n",
       "      <td>0.660</td>\n",
       "    </tr>\n",
       "    <tr>\n",
       "      <th>SICU</th>\n",
       "      <td>0.779</td>\n",
       "      <td>0.152</td>\n",
       "      <td>0.629</td>\n",
       "    </tr>\n",
       "    <tr>\n",
       "      <th>TSICU</th>\n",
       "      <td>0.825</td>\n",
       "      <td>0.161</td>\n",
       "      <td>0.709</td>\n",
       "    </tr>\n",
       "    <tr>\n",
       "      <th>Macro</th>\n",
       "      <td>0.826</td>\n",
       "      <td>0.154</td>\n",
       "      <td>0.707</td>\n",
       "    </tr>\n",
       "    <tr>\n",
       "      <th>Micro</th>\n",
       "      <td>0.835</td>\n",
       "      <td>0.177</td>\n",
       "      <td>0.717</td>\n",
       "    </tr>\n",
       "  </tbody>\n",
       "</table>\n",
       "</div>"
      ],
      "text/plain": [
       "         AUC    PPV  Specificity\n",
       "CCU    0.821  0.136        0.661\n",
       "CSRU   0.893  0.103        0.876\n",
       "MICU   0.809  0.217        0.660\n",
       "SICU   0.779  0.152        0.629\n",
       "TSICU  0.825  0.161        0.709\n",
       "Macro  0.826  0.154        0.707\n",
       "Micro  0.835  0.177        0.717"
      ]
     },
     "execution_count": 10,
     "metadata": {},
     "output_type": "execute_result"
    }
   ],
   "source": [
    "metrics_mtl_24_careunits_df.round(3)"
   ]
  },
  {
   "cell_type": "markdown",
   "id": "8af687a6-6509-456e-b6ad-f4dc1f4e59e7",
   "metadata": {},
   "source": [
    "Now, let's repeat the prediction task but this time using the groups fetched in an unsupervised way from step 1 proposed by the authors in the paper:"
   ]
  },
  {
   "cell_type": "code",
   "execution_count": 2,
   "id": "0e6aa72d-e26f-463f-ae05-f85fd3293f0d",
   "metadata": {
    "tags": []
   },
   "outputs": [
    {
     "name": "stdout",
     "output_type": "stream",
     "text": [
      "Start Cell Execution at : 14/04/2023 13:06:58\n",
      "++++++++++++++++++++++++++++++++++++++++++++++++++++++++++++++++++++++++++++++++\n",
      "Preparing the data\n",
      "--------------------------------------------------------------------------------\n",
      "    Loading data from MIMIC-Extract pipeline...\n",
      "    Adding SAPS II score to static dataset...\n",
      "    Adding mortality columns to static dataset...\n",
      "    Discretizing X...\n",
      "        X.shape: (2200954, 29), X.subject_id.nunique(): 34472\n"
     ]
    },
    {
     "name": "stderr",
     "output_type": "stream",
     "text": [
      "/notebooks/notebooks/../code/mtl_patients_ablation.py:608: FutureWarning: In a future version, `df.iloc[:, i] = newvals` will attempt to set the values inplace instead of always setting a new array. To retain the old behavior, use either `df[df.columns[i]] = newvals` or, if columns are non-unique, `df.isetitem(i, newvals)`\n",
      "  X.loc[:, feature_cols] = X_words\n"
     ]
    },
    {
     "name": "stdout",
     "output_type": "stream",
     "text": [
      "        X_discrete.shape: (2200954, 199), X_discrete.subject_id.nunique(): 34472\n",
      "    Keep only X_discrete[X_discrete.hours_in < 24]...\n",
      "        New X_discrete.shape: (808539, 197), new X_discrete.subject_id.nunique(): 34472\n",
      "    Padding patients with less than 24 hours of data...\n",
      "    Merging dataframes to create X_full...\n"
     ]
    },
    {
     "name": "stderr",
     "output_type": "stream",
     "text": [
      "/notebooks/notebooks/../code/mtl_patients_ablation.py:633: FutureWarning: In a future version, `df.iloc[:, i] = newvals` will attempt to set the values inplace instead of always setting a new array. To retain the old behavior, use either `df[df.columns[i]] = newvals` or, if columns are non-unique, `df.isetitem(i, newvals)`\n",
      "  static_to_keep_df.loc[:, 'ethnicity'] = static_to_keep_df['ethnicity'].apply(categorize_ethnicity)\n",
      "/notebooks/notebooks/../code/mtl_patients_ablation.py:634: FutureWarning: In a future version, `df.iloc[:, i] = newvals` will attempt to set the values inplace instead of always setting a new array. To retain the old behavior, use either `df[df.columns[i]] = newvals` or, if columns are non-unique, `df.isetitem(i, newvals)`\n",
      "  static_to_keep_df.loc[:, 'age'] = static_to_keep_df['age'].apply(categorize_age)\n"
     ]
    },
    {
     "name": "stdout",
     "output_type": "stream",
     "text": [
      "    Mortality per careunit...\n",
      "        MICU: 1138 out of 11403\n",
      "        SICU: 409 out of 5187\n",
      "        CCU: 344 out of 4907\n",
      "        CSRU: 139 out of 6971\n",
      "        TSICU: 291 out of 4245\n",
      "    Final shape of X: (32713, 24, 206)\n",
      "    Number of positive samples: 2321\n",
      "    Done!\n",
      "++++++++++++++++++++++++++++++++++++++++++++++++++++++++++++++++++++++++++++++++\n",
      "Running the Mortality Prediction Task\n",
      "--------------------------------------------------------------------------------\n",
      "    Splitting data into train/validation/test sets...\n",
      "    Calculating number of training samples in cohort...\n",
      "        # of patients in cohort 0 is 5108\n",
      "        # of patients in cohort 1 is 14139\n",
      "        # of patients in cohort 2 is 3651\n",
      "    ~~~~~~~~~~~~~~~~~~~~~~~~~~~~~~~~~~~~~~~~~~~~~~~~~~~~~~~~~~~~~~~~~~~~~~~~~~~~\n",
      "    Training 'multitask' model...\n",
      "WARNING:tensorflow:Layer lstm will not use cuDNN kernels since it doesn't meet the criteria. It will use a generic GPU kernel as fallback when running on GPU.\n",
      "Model: \"multitask_learning_model\"\n",
      "__________________________________________________________________________________________________\n",
      " Layer (type)                   Output Shape         Param #     Connected to                     \n",
      "==================================================================================================\n",
      " input (InputLayer)             [(None, 24, 206)]    0           []                               \n",
      "                                                                                                  \n",
      " lstm (LSTM)                    (None, 16)           14272       ['input[0][0]']                  \n",
      "                                                                                                  \n",
      " 0 (Dense)                      (None, 1)            17          ['lstm[0][0]']                   \n",
      "                                                                                                  \n",
      " 1 (Dense)                      (None, 1)            17          ['lstm[0][0]']                   \n",
      "                                                                                                  \n",
      " 2 (Dense)                      (None, 1)            17          ['lstm[0][0]']                   \n",
      "                                                                                                  \n",
      "==================================================================================================\n",
      "Total params: 14,323\n",
      "Trainable params: 14,323\n",
      "Non-trainable params: 0\n",
      "__________________________________________________________________________________________________\n",
      "None\n",
      "Epoch 1/30\n",
      "229/229 [==============================] - 21s 79ms/step - loss: 0.4455 - 0_loss: 0.1291 - 1_loss: 0.2519 - 2_loss: 0.0646 - 0_accuracy: 0.7703 - 1_accuracy: 0.9265 - 2_accuracy: 0.9071 - val_loss: 1.0430 - val_0_loss: 0.4082 - val_1_loss: 0.2967 - val_2_loss: 0.3380 - val_0_accuracy: 0.9257 - val_1_accuracy: 0.9291 - val_2_accuracy: 0.9273\n",
      "Epoch 2/30\n",
      "229/229 [==============================] - 17s 75ms/step - loss: 0.2789 - 0_loss: 0.0732 - 1_loss: 0.1704 - 2_loss: 0.0353 - 0_accuracy: 0.9284 - 1_accuracy: 0.9290 - 2_accuracy: 0.9283 - val_loss: 0.8907 - val_0_loss: 0.3417 - val_1_loss: 0.2683 - val_2_loss: 0.2807 - val_0_accuracy: 0.9291 - val_1_accuracy: 0.9291 - val_2_accuracy: 0.9291\n",
      "Epoch 3/30\n",
      "229/229 [==============================] - 18s 78ms/step - loss: 0.2528 - 0_loss: 0.0620 - 1_loss: 0.1606 - 2_loss: 0.0302 - 0_accuracy: 0.9290 - 1_accuracy: 0.9290 - 2_accuracy: 0.9290 - val_loss: 0.8178 - val_0_loss: 0.2941 - val_1_loss: 0.2574 - val_2_loss: 0.2663 - val_0_accuracy: 0.9291 - val_1_accuracy: 0.9291 - val_2_accuracy: 0.9291\n",
      "Epoch 4/30\n",
      "229/229 [==============================] - 19s 84ms/step - loss: 0.2417 - 0_loss: 0.0587 - 1_loss: 0.1544 - 2_loss: 0.0286 - 0_accuracy: 0.9291 - 1_accuracy: 0.9290 - 2_accuracy: 0.9289 - val_loss: 0.7806 - val_0_loss: 0.2731 - val_1_loss: 0.2499 - val_2_loss: 0.2576 - val_0_accuracy: 0.9288 - val_1_accuracy: 0.9291 - val_2_accuracy: 0.9291\n",
      "Epoch 5/30\n",
      "229/229 [==============================] - 19s 83ms/step - loss: 0.2329 - 0_loss: 0.0567 - 1_loss: 0.1487 - 2_loss: 0.0275 - 0_accuracy: 0.9291 - 1_accuracy: 0.9290 - 2_accuracy: 0.9289 - val_loss: 0.7581 - val_0_loss: 0.2683 - val_1_loss: 0.2416 - val_2_loss: 0.2482 - val_0_accuracy: 0.9282 - val_1_accuracy: 0.9291 - val_2_accuracy: 0.9291\n",
      "Epoch 6/30\n",
      "229/229 [==============================] - 19s 85ms/step - loss: 0.2255 - 0_loss: 0.0554 - 1_loss: 0.1438 - 2_loss: 0.0263 - 0_accuracy: 0.9287 - 1_accuracy: 0.9290 - 2_accuracy: 0.9287 - val_loss: 0.7382 - val_0_loss: 0.2625 - val_1_loss: 0.2352 - val_2_loss: 0.2406 - val_0_accuracy: 0.9282 - val_1_accuracy: 0.9291 - val_2_accuracy: 0.9291\n",
      "Epoch 7/30\n",
      "229/229 [==============================] - 19s 85ms/step - loss: 0.2193 - 0_loss: 0.0543 - 1_loss: 0.1397 - 2_loss: 0.0253 - 0_accuracy: 0.9288 - 1_accuracy: 0.9292 - 2_accuracy: 0.9288 - val_loss: 0.7197 - val_0_loss: 0.2525 - val_1_loss: 0.2307 - val_2_loss: 0.2366 - val_0_accuracy: 0.9288 - val_1_accuracy: 0.9288 - val_2_accuracy: 0.9300\n",
      "Epoch 8/30\n",
      "229/229 [==============================] - 19s 83ms/step - loss: 0.2146 - 0_loss: 0.0535 - 1_loss: 0.1366 - 2_loss: 0.0245 - 0_accuracy: 0.9289 - 1_accuracy: 0.9294 - 2_accuracy: 0.9296 - val_loss: 0.7059 - val_0_loss: 0.2496 - val_1_loss: 0.2260 - val_2_loss: 0.2304 - val_0_accuracy: 0.9291 - val_1_accuracy: 0.9294 - val_2_accuracy: 0.9309\n",
      "Epoch 9/30\n",
      "229/229 [==============================] - 19s 85ms/step - loss: 0.2107 - 0_loss: 0.0526 - 1_loss: 0.1341 - 2_loss: 0.0239 - 0_accuracy: 0.9292 - 1_accuracy: 0.9300 - 2_accuracy: 0.9300 - val_loss: 0.6913 - val_0_loss: 0.2424 - val_1_loss: 0.2226 - val_2_loss: 0.2263 - val_0_accuracy: 0.9294 - val_1_accuracy: 0.9291 - val_2_accuracy: 0.9306\n",
      "Epoch 10/30\n",
      "229/229 [==============================] - 18s 79ms/step - loss: 0.2070 - 0_loss: 0.0517 - 1_loss: 0.1318 - 2_loss: 0.0235 - 0_accuracy: 0.9292 - 1_accuracy: 0.9303 - 2_accuracy: 0.9303 - val_loss: 0.6817 - val_0_loss: 0.2373 - val_1_loss: 0.2203 - val_2_loss: 0.2241 - val_0_accuracy: 0.9300 - val_1_accuracy: 0.9291 - val_2_accuracy: 0.9303\n",
      "Epoch 11/30\n",
      "229/229 [==============================] - 20s 88ms/step - loss: 0.2042 - 0_loss: 0.0514 - 1_loss: 0.1299 - 2_loss: 0.0230 - 0_accuracy: 0.9290 - 1_accuracy: 0.9305 - 2_accuracy: 0.9303 - val_loss: 0.6758 - val_0_loss: 0.2361 - val_1_loss: 0.2182 - val_2_loss: 0.2215 - val_0_accuracy: 0.9300 - val_1_accuracy: 0.9297 - val_2_accuracy: 0.9306\n",
      "Epoch 12/30\n",
      "229/229 [==============================] - 18s 78ms/step - loss: 0.2020 - 0_loss: 0.0508 - 1_loss: 0.1286 - 2_loss: 0.0227 - 0_accuracy: 0.9293 - 1_accuracy: 0.9306 - 2_accuracy: 0.9304 - val_loss: 0.6696 - val_0_loss: 0.2349 - val_1_loss: 0.2163 - val_2_loss: 0.2183 - val_0_accuracy: 0.9303 - val_1_accuracy: 0.9294 - val_2_accuracy: 0.9312\n",
      "Epoch 13/30\n",
      "229/229 [==============================] - 20s 88ms/step - loss: 0.1997 - 0_loss: 0.0503 - 1_loss: 0.1273 - 2_loss: 0.0222 - 0_accuracy: 0.9295 - 1_accuracy: 0.9309 - 2_accuracy: 0.9307 - val_loss: 0.6664 - val_0_loss: 0.2315 - val_1_loss: 0.2156 - val_2_loss: 0.2193 - val_0_accuracy: 0.9303 - val_1_accuracy: 0.9294 - val_2_accuracy: 0.9312\n",
      "Epoch 14/30\n",
      "229/229 [==============================] - 19s 83ms/step - loss: 0.1980 - 0_loss: 0.0497 - 1_loss: 0.1263 - 2_loss: 0.0220 - 0_accuracy: 0.9292 - 1_accuracy: 0.9309 - 2_accuracy: 0.9310 - val_loss: 0.6710 - val_0_loss: 0.2406 - val_1_loss: 0.2155 - val_2_loss: 0.2150 - val_0_accuracy: 0.9300 - val_1_accuracy: 0.9297 - val_2_accuracy: 0.9312\n",
      "Epoch 15/30\n",
      "229/229 [==============================] - 18s 80ms/step - loss: 0.1963 - 0_loss: 0.0493 - 1_loss: 0.1252 - 2_loss: 0.0218 - 0_accuracy: 0.9297 - 1_accuracy: 0.9315 - 2_accuracy: 0.9313 - val_loss: 0.6596 - val_0_loss: 0.2301 - val_1_loss: 0.2134 - val_2_loss: 0.2161 - val_0_accuracy: 0.9315 - val_1_accuracy: 0.9303 - val_2_accuracy: 0.9312\n",
      "Epoch 16/30\n",
      "229/229 [==============================] - 20s 86ms/step - loss: 0.1945 - 0_loss: 0.0490 - 1_loss: 0.1241 - 2_loss: 0.0214 - 0_accuracy: 0.9299 - 1_accuracy: 0.9316 - 2_accuracy: 0.9311 - val_loss: 0.6568 - val_0_loss: 0.2289 - val_1_loss: 0.2123 - val_2_loss: 0.2156 - val_0_accuracy: 0.9309 - val_1_accuracy: 0.9303 - val_2_accuracy: 0.9315\n",
      "Epoch 17/30\n",
      "229/229 [==============================] - 19s 81ms/step - loss: 0.1930 - 0_loss: 0.0486 - 1_loss: 0.1232 - 2_loss: 0.0212 - 0_accuracy: 0.9300 - 1_accuracy: 0.9318 - 2_accuracy: 0.9312 - val_loss: 0.6597 - val_0_loss: 0.2321 - val_1_loss: 0.2135 - val_2_loss: 0.2141 - val_0_accuracy: 0.9294 - val_1_accuracy: 0.9294 - val_2_accuracy: 0.9331\n",
      "Epoch 18/30\n",
      "229/229 [==============================] - 19s 85ms/step - loss: 0.1921 - 0_loss: 0.0481 - 1_loss: 0.1231 - 2_loss: 0.0210 - 0_accuracy: 0.9301 - 1_accuracy: 0.9320 - 2_accuracy: 0.9312 - val_loss: 0.6548 - val_0_loss: 0.2300 - val_1_loss: 0.2118 - val_2_loss: 0.2130 - val_0_accuracy: 0.9303 - val_1_accuracy: 0.9303 - val_2_accuracy: 0.9331\n",
      "Epoch 19/30\n",
      "229/229 [==============================] - 20s 85ms/step - loss: 0.1908 - 0_loss: 0.0478 - 1_loss: 0.1222 - 2_loss: 0.0208 - 0_accuracy: 0.9306 - 1_accuracy: 0.9323 - 2_accuracy: 0.9317 - val_loss: 0.6546 - val_0_loss: 0.2287 - val_1_loss: 0.2116 - val_2_loss: 0.2142 - val_0_accuracy: 0.9291 - val_1_accuracy: 0.9303 - val_2_accuracy: 0.9325\n",
      "Epoch 20/30\n",
      "229/229 [==============================] - 19s 82ms/step - loss: 0.1896 - 0_loss: 0.0474 - 1_loss: 0.1215 - 2_loss: 0.0206 - 0_accuracy: 0.9306 - 1_accuracy: 0.9321 - 2_accuracy: 0.9317 - val_loss: 0.6616 - val_0_loss: 0.2351 - val_1_loss: 0.2140 - val_2_loss: 0.2125 - val_0_accuracy: 0.9288 - val_1_accuracy: 0.9306 - val_2_accuracy: 0.9343\n",
      "Epoch 21/30\n",
      "229/229 [==============================] - 20s 89ms/step - loss: 0.1888 - 0_loss: 0.0473 - 1_loss: 0.1209 - 2_loss: 0.0206 - 0_accuracy: 0.9303 - 1_accuracy: 0.9330 - 2_accuracy: 0.9313 - val_loss: 0.6522 - val_0_loss: 0.2247 - val_1_loss: 0.2108 - val_2_loss: 0.2167 - val_0_accuracy: 0.9315 - val_1_accuracy: 0.9315 - val_2_accuracy: 0.9322\n",
      "Epoch 22/30\n",
      "229/229 [==============================] - 19s 81ms/step - loss: 0.1875 - 0_loss: 0.0469 - 1_loss: 0.1203 - 2_loss: 0.0203 - 0_accuracy: 0.9309 - 1_accuracy: 0.9330 - 2_accuracy: 0.9314 - val_loss: 0.6524 - val_0_loss: 0.2256 - val_1_loss: 0.2108 - val_2_loss: 0.2160 - val_0_accuracy: 0.9291 - val_1_accuracy: 0.9325 - val_2_accuracy: 0.9331\n",
      "Epoch 23/30\n",
      "229/229 [==============================] - 20s 86ms/step - loss: 0.1865 - 0_loss: 0.0467 - 1_loss: 0.1197 - 2_loss: 0.0202 - 0_accuracy: 0.9311 - 1_accuracy: 0.9336 - 2_accuracy: 0.9320 - val_loss: 0.6526 - val_0_loss: 0.2272 - val_1_loss: 0.2111 - val_2_loss: 0.2143 - val_0_accuracy: 0.9300 - val_1_accuracy: 0.9325 - val_2_accuracy: 0.9331\n",
      "Epoch 24/30\n",
      "229/229 [==============================] - 19s 85ms/step - loss: 0.1851 - 0_loss: 0.0460 - 1_loss: 0.1192 - 2_loss: 0.0199 - 0_accuracy: 0.9311 - 1_accuracy: 0.9333 - 2_accuracy: 0.9314 - val_loss: 0.6568 - val_0_loss: 0.2254 - val_1_loss: 0.2118 - val_2_loss: 0.2195 - val_0_accuracy: 0.9297 - val_1_accuracy: 0.9322 - val_2_accuracy: 0.9331\n",
      "Epoch 25/30\n",
      "229/229 [==============================] - 18s 77ms/step - loss: 0.1847 - 0_loss: 0.0461 - 1_loss: 0.1188 - 2_loss: 0.0198 - 0_accuracy: 0.9310 - 1_accuracy: 0.9336 - 2_accuracy: 0.9320 - val_loss: 0.6568 - val_0_loss: 0.2266 - val_1_loss: 0.2120 - val_2_loss: 0.2183 - val_0_accuracy: 0.9291 - val_1_accuracy: 0.9322 - val_2_accuracy: 0.9328\n",
      "INFO:tensorflow:Assets written to: ../data/ablation_data/models/model_multitask_24+12_unsupervised/assets\n",
      "    ~~~~~~~~~~~~~~~~~~~~~~~~~~~~~~~~~~~~~~~~~~~~~~~~~~~~~~~~~~~~~~~~~~~~~~~~~~~~\n",
      "    Predicting using 'multitask' model...\n",
      "205/205 [==============================] - 3s 13ms/step\n",
      "    Done!\n",
      "CPU times: user 10min 25s, sys: 1min 13s, total: 11min 38s\n",
      "Wall time: 8min 59s\n"
     ]
    }
   ],
   "source": [
    "%%time\n",
    "cell_execution_time = datetime.now(pytz.timezone('America/New_York')).strftime(\"%d/%m/%Y %H:%M:%S\")\n",
    "print(f'Start Cell Execution at : {cell_execution_time}')\n",
    "metrics_mtl_24_unsupervised_df = run_mortality_prediction_task(model_type='multitask', cutoff_hours=24, gap_hours=12,\n",
    "                                                               cohort_criteria_to_select='unsupervised', cohort_unsupervised_filename='../data/unsupervised_clusters_lab_abl_24.npy',save_to_folder='../data/ablation_data/',)"
   ]
  },
  {
   "cell_type": "code",
   "execution_count": 3,
   "id": "8e05e2eb-efe7-4725-8932-9b7cd3586137",
   "metadata": {
    "tags": []
   },
   "outputs": [
    {
     "data": {
      "text/html": [
       "<div>\n",
       "<style scoped>\n",
       "    .dataframe tbody tr th:only-of-type {\n",
       "        vertical-align: middle;\n",
       "    }\n",
       "\n",
       "    .dataframe tbody tr th {\n",
       "        vertical-align: top;\n",
       "    }\n",
       "\n",
       "    .dataframe thead th {\n",
       "        text-align: right;\n",
       "    }\n",
       "</style>\n",
       "<table border=\"1\" class=\"dataframe\">\n",
       "  <thead>\n",
       "    <tr style=\"text-align: right;\">\n",
       "      <th></th>\n",
       "      <th>AUC</th>\n",
       "      <th>PPV</th>\n",
       "      <th>Specificity</th>\n",
       "    </tr>\n",
       "  </thead>\n",
       "  <tbody>\n",
       "    <tr>\n",
       "      <th>0</th>\n",
       "      <td>0.849</td>\n",
       "      <td>0.246</td>\n",
       "      <td>0.727</td>\n",
       "    </tr>\n",
       "    <tr>\n",
       "      <th>1</th>\n",
       "      <td>0.821</td>\n",
       "      <td>0.169</td>\n",
       "      <td>0.692</td>\n",
       "    </tr>\n",
       "    <tr>\n",
       "      <th>2</th>\n",
       "      <td>0.839</td>\n",
       "      <td>0.041</td>\n",
       "      <td>0.629</td>\n",
       "    </tr>\n",
       "    <tr>\n",
       "      <th>Macro</th>\n",
       "      <td>0.837</td>\n",
       "      <td>0.152</td>\n",
       "      <td>0.683</td>\n",
       "    </tr>\n",
       "    <tr>\n",
       "      <th>Micro</th>\n",
       "      <td>0.837</td>\n",
       "      <td>0.174</td>\n",
       "      <td>0.711</td>\n",
       "    </tr>\n",
       "  </tbody>\n",
       "</table>\n",
       "</div>"
      ],
      "text/plain": [
       "         AUC    PPV  Specificity\n",
       "0      0.849  0.246        0.727\n",
       "1      0.821  0.169        0.692\n",
       "2      0.839  0.041        0.629\n",
       "Macro  0.837  0.152        0.683\n",
       "Micro  0.837  0.174        0.711"
      ]
     },
     "execution_count": 3,
     "metadata": {},
     "output_type": "execute_result"
    }
   ],
   "source": [
    "metrics_mtl_24_unsupervised_df.round(3)"
   ]
  },
  {
   "cell_type": "markdown",
   "id": "3df31321-29ba-49f3-ac4e-3c99cffd7d9b",
   "metadata": {},
   "source": [
    "#### 3.1.4. In-Hospital Mortality Prediction – Multi-Task Learning Model at 48 Hours"
   ]
  },
  {
   "cell_type": "markdown",
   "id": "ad6ac5d1-d7c5-4ef1-bda7-baa5d90d089d",
   "metadata": {},
   "source": [
    "Let's now run the mortality prediction task using the multi-task learning model in the 48 hour experiment setting. In this experiment, the cutoff period is 48 hours and the gap period is 24 hours, meaning model can only feed from patient data collected during the first 48 hours of the ICU stay, and predict mortality 72 hours after patient goes into the ICU to avoid label leakage. In terms of the cohort type, let's go with careunits first:"
   ]
  },
  {
   "cell_type": "code",
   "execution_count": 2,
   "id": "23655239-3a10-4cce-aad2-5388de02c2b2",
   "metadata": {
    "tags": []
   },
   "outputs": [
    {
     "name": "stdout",
     "output_type": "stream",
     "text": [
      "Start Cell Execution at : 14/04/2023 13:20:27\n",
      "++++++++++++++++++++++++++++++++++++++++++++++++++++++++++++++++++++++++++++++++\n",
      "Preparing the data\n",
      "--------------------------------------------------------------------------------\n",
      "    Loading data from MIMIC-Extract pipeline...\n",
      "    Adding SAPS II score to static dataset...\n",
      "    Adding mortality columns to static dataset...\n",
      "    Discretizing X...\n",
      "        X.shape: (2200954, 29), X.subject_id.nunique(): 34472\n"
     ]
    },
    {
     "name": "stderr",
     "output_type": "stream",
     "text": [
      "/notebooks/notebooks/../code/mtl_patients_ablation.py:608: FutureWarning: In a future version, `df.iloc[:, i] = newvals` will attempt to set the values inplace instead of always setting a new array. To retain the old behavior, use either `df[df.columns[i]] = newvals` or, if columns are non-unique, `df.isetitem(i, newvals)`\n",
      "  X.loc[:, feature_cols] = X_words\n"
     ]
    },
    {
     "name": "stdout",
     "output_type": "stream",
     "text": [
      "        X_discrete.shape: (2200954, 199), X_discrete.subject_id.nunique(): 34472\n",
      "    Keep only X_discrete[X_discrete.hours_in < 48]...\n",
      "        New X_discrete.shape: (1349653, 197), new X_discrete.subject_id.nunique(): 34472\n",
      "    Padding patients with less than 48 hours of data...\n",
      "    Merging dataframes to create X_full...\n"
     ]
    },
    {
     "name": "stderr",
     "output_type": "stream",
     "text": [
      "/notebooks/notebooks/../code/mtl_patients_ablation.py:633: FutureWarning: In a future version, `df.iloc[:, i] = newvals` will attempt to set the values inplace instead of always setting a new array. To retain the old behavior, use either `df[df.columns[i]] = newvals` or, if columns are non-unique, `df.isetitem(i, newvals)`\n",
      "  static_to_keep_df.loc[:, 'ethnicity'] = static_to_keep_df['ethnicity'].apply(categorize_ethnicity)\n",
      "/notebooks/notebooks/../code/mtl_patients_ablation.py:634: FutureWarning: In a future version, `df.iloc[:, i] = newvals` will attempt to set the values inplace instead of always setting a new array. To retain the old behavior, use either `df[df.columns[i]] = newvals` or, if columns are non-unique, `df.isetitem(i, newvals)`\n",
      "  static_to_keep_df.loc[:, 'age'] = static_to_keep_df['age'].apply(categorize_age)\n"
     ]
    },
    {
     "name": "stdout",
     "output_type": "stream",
     "text": [
      "    Mortality per careunit...\n",
      "        MICU: 866 out of 10409\n",
      "        SICU: 303 out of 4815\n",
      "        CCU: 258 out of 4403\n",
      "        CSRU: 110 out of 6865\n",
      "        TSICU: 202 out of 3950\n",
      "    Final shape of X: (30442, 48, 206)\n",
      "    Number of positive samples: 1739\n",
      "    Done!\n",
      "++++++++++++++++++++++++++++++++++++++++++++++++++++++++++++++++++++++++++++++++\n",
      "Running the Mortality Prediction Task\n",
      "--------------------------------------------------------------------------------\n",
      "    Splitting data into train/validation/test sets...\n",
      "    Calculating number of training samples in cohort...\n",
      "        # of patients in cohort CCU is 3052\n",
      "        # of patients in cohort CSRU is 4806\n",
      "        # of patients in cohort MICU is 7309\n",
      "        # of patients in cohort SICU is 3358\n",
      "        # of patients in cohort TSICU is 2783\n",
      "    ~~~~~~~~~~~~~~~~~~~~~~~~~~~~~~~~~~~~~~~~~~~~~~~~~~~~~~~~~~~~~~~~~~~~~~~~~~~~\n",
      "    Training 'multitask' model...\n",
      "WARNING:tensorflow:Layer lstm will not use cuDNN kernels since it doesn't meet the criteria. It will use a generic GPU kernel as fallback when running on GPU.\n",
      "Model: \"multitask_learning_model\"\n",
      "__________________________________________________________________________________________________\n",
      " Layer (type)                   Output Shape         Param #     Connected to                     \n",
      "==================================================================================================\n",
      " input (InputLayer)             [(None, 48, 206)]    0           []                               \n",
      "                                                                                                  \n",
      " lstm (LSTM)                    (None, 16)           14272       ['input[0][0]']                  \n",
      "                                                                                                  \n",
      " CCU (Dense)                    (None, 1)            17          ['lstm[0][0]']                   \n",
      "                                                                                                  \n",
      " CSRU (Dense)                   (None, 1)            17          ['lstm[0][0]']                   \n",
      "                                                                                                  \n",
      " MICU (Dense)                   (None, 1)            17          ['lstm[0][0]']                   \n",
      "                                                                                                  \n",
      " SICU (Dense)                   (None, 1)            17          ['lstm[0][0]']                   \n",
      "                                                                                                  \n",
      " TSICU (Dense)                  (None, 1)            17          ['lstm[0][0]']                   \n",
      "                                                                                                  \n",
      "==================================================================================================\n",
      "Total params: 14,357\n",
      "Trainable params: 14,357\n",
      "Non-trainable params: 0\n",
      "__________________________________________________________________________________________________\n",
      "None\n"
     ]
    },
    {
     "name": "stderr",
     "output_type": "stream",
     "text": [
      "2023-04-14 17:21:41.049321: W tensorflow/core/framework/cpu_allocator_impl.cc:82] Allocation of 1685548032 exceeds 10% of free system memory.\n",
      "2023-04-14 17:21:43.184259: W tensorflow/core/framework/cpu_allocator_impl.cc:82] Allocation of 1685548032 exceeds 10% of free system memory.\n",
      "2023-04-14 17:21:44.791795: W tensorflow/core/framework/cpu_allocator_impl.cc:82] Allocation of 1685548032 exceeds 10% of free system memory.\n"
     ]
    },
    {
     "name": "stdout",
     "output_type": "stream",
     "text": [
      "Epoch 1/30\n",
      "214/214 [==============================] - 36s 146ms/step - loss: 0.5461 - CCU_loss: 0.0938 - CSRU_loss: 0.1032 - MICU_loss: 0.1778 - SICU_loss: 0.0769 - TSICU_loss: 0.0944 - CCU_accuracy: 0.6510 - CSRU_accuracy: 0.9360 - MICU_accuracy: 0.9057 - SICU_accuracy: 0.9372 - TSICU_accuracy: 0.3293 - val_loss: 2.4035 - val_CCU_loss: 0.6165 - val_CSRU_loss: 0.3666 - val_MICU_loss: 0.3863 - val_SICU_loss: 0.3647 - val_TSICU_loss: 0.6695 - val_CCU_accuracy: 0.7346 - val_CSRU_accuracy: 0.9429 - val_MICU_accuracy: 0.9386 - val_SICU_accuracy: 0.9429 - val_TSICU_accuracy: 0.5589\n",
      "Epoch 2/30\n",
      "214/214 [==============================] - 31s 144ms/step - loss: 0.3848 - CCU_loss: 0.0786 - CSRU_loss: 0.0531 - MICU_loss: 0.1298 - SICU_loss: 0.0509 - TSICU_loss: 0.0724 - CCU_accuracy: 0.8754 - CSRU_accuracy: 0.9429 - MICU_accuracy: 0.9421 - SICU_accuracy: 0.9425 - TSICU_accuracy: 0.8053 - val_loss: 1.7417 - val_CCU_loss: 0.4575 - val_CSRU_loss: 0.2930 - val_MICU_loss: 0.2830 - val_SICU_loss: 0.2905 - val_TSICU_loss: 0.4178 - val_CCU_accuracy: 0.9422 - val_CSRU_accuracy: 0.9429 - val_MICU_accuracy: 0.9429 - val_SICU_accuracy: 0.9429 - val_TSICU_accuracy: 0.9429\n",
      "Epoch 3/30\n",
      "214/214 [==============================] - 32s 150ms/step - loss: 0.2743 - CCU_loss: 0.0504 - CSRU_loss: 0.0295 - MICU_loss: 0.1089 - SICU_loss: 0.0439 - TSICU_loss: 0.0416 - CCU_accuracy: 0.9428 - CSRU_accuracy: 0.9429 - MICU_accuracy: 0.9429 - SICU_accuracy: 0.9415 - TSICU_accuracy: 0.9429 - val_loss: 1.3396 - val_CCU_loss: 0.2866 - val_CSRU_loss: 0.3018 - val_MICU_loss: 0.2289 - val_SICU_loss: 0.2399 - val_TSICU_loss: 0.2824 - val_CCU_accuracy: 0.9429 - val_CSRU_accuracy: 0.9429 - val_MICU_accuracy: 0.9429 - val_SICU_accuracy: 0.9425 - val_TSICU_accuracy: 0.9429\n",
      "Epoch 4/30\n",
      "214/214 [==============================] - 30s 140ms/step - loss: 0.2267 - CCU_loss: 0.0362 - CSRU_loss: 0.0225 - MICU_loss: 0.0981 - SICU_loss: 0.0374 - TSICU_loss: 0.0326 - CCU_accuracy: 0.9429 - CSRU_accuracy: 0.9429 - MICU_accuracy: 0.9429 - SICU_accuracy: 0.9424 - TSICU_accuracy: 0.9429 - val_loss: 1.2023 - val_CCU_loss: 0.2518 - val_CSRU_loss: 0.2685 - val_MICU_loss: 0.2134 - val_SICU_loss: 0.2207 - val_TSICU_loss: 0.2480 - val_CCU_accuracy: 0.9429 - val_CSRU_accuracy: 0.9429 - val_MICU_accuracy: 0.9429 - val_SICU_accuracy: 0.9425 - val_TSICU_accuracy: 0.9429\n",
      "Epoch 5/30\n",
      "214/214 [==============================] - 27s 126ms/step - loss: 0.2079 - CCU_loss: 0.0320 - CSRU_loss: 0.0204 - MICU_loss: 0.0925 - SICU_loss: 0.0344 - TSICU_loss: 0.0285 - CCU_accuracy: 0.9429 - CSRU_accuracy: 0.9429 - MICU_accuracy: 0.9429 - SICU_accuracy: 0.9427 - TSICU_accuracy: 0.9429 - val_loss: 1.1326 - val_CCU_loss: 0.2293 - val_CSRU_loss: 0.2564 - val_MICU_loss: 0.2091 - val_SICU_loss: 0.2083 - val_TSICU_loss: 0.2295 - val_CCU_accuracy: 0.9429 - val_CSRU_accuracy: 0.9429 - val_MICU_accuracy: 0.9429 - val_SICU_accuracy: 0.9425 - val_TSICU_accuracy: 0.9429\n",
      "Epoch 6/30\n",
      "214/214 [==============================] - 29s 136ms/step - loss: 0.1998 - CCU_loss: 0.0303 - CSRU_loss: 0.0193 - MICU_loss: 0.0902 - SICU_loss: 0.0333 - TSICU_loss: 0.0267 - CCU_accuracy: 0.9429 - CSRU_accuracy: 0.9429 - MICU_accuracy: 0.9429 - SICU_accuracy: 0.9430 - TSICU_accuracy: 0.9429 - val_loss: 1.0895 - val_CCU_loss: 0.2145 - val_CSRU_loss: 0.2535 - val_MICU_loss: 0.2036 - val_SICU_loss: 0.1992 - val_TSICU_loss: 0.2186 - val_CCU_accuracy: 0.9429 - val_CSRU_accuracy: 0.9429 - val_MICU_accuracy: 0.9429 - val_SICU_accuracy: 0.9429 - val_TSICU_accuracy: 0.9429\n",
      "Epoch 7/30\n",
      "214/214 [==============================] - 26s 121ms/step - loss: 0.1938 - CCU_loss: 0.0289 - CSRU_loss: 0.0185 - MICU_loss: 0.0887 - SICU_loss: 0.0323 - TSICU_loss: 0.0254 - CCU_accuracy: 0.9429 - CSRU_accuracy: 0.9429 - MICU_accuracy: 0.9429 - SICU_accuracy: 0.9430 - TSICU_accuracy: 0.9429 - val_loss: 1.0622 - val_CCU_loss: 0.2077 - val_CSRU_loss: 0.2471 - val_MICU_loss: 0.2001 - val_SICU_loss: 0.1949 - val_TSICU_loss: 0.2124 - val_CCU_accuracy: 0.9429 - val_CSRU_accuracy: 0.9429 - val_MICU_accuracy: 0.9429 - val_SICU_accuracy: 0.9432 - val_TSICU_accuracy: 0.9429\n",
      "Epoch 8/30\n",
      "214/214 [==============================] - 28s 129ms/step - loss: 0.1892 - CCU_loss: 0.0278 - CSRU_loss: 0.0177 - MICU_loss: 0.0872 - SICU_loss: 0.0317 - TSICU_loss: 0.0247 - CCU_accuracy: 0.9429 - CSRU_accuracy: 0.9429 - MICU_accuracy: 0.9429 - SICU_accuracy: 0.9433 - TSICU_accuracy: 0.9429 - val_loss: 1.0417 - val_CCU_loss: 0.2035 - val_CSRU_loss: 0.2394 - val_MICU_loss: 0.1980 - val_SICU_loss: 0.1926 - val_TSICU_loss: 0.2082 - val_CCU_accuracy: 0.9429 - val_CSRU_accuracy: 0.9429 - val_MICU_accuracy: 0.9429 - val_SICU_accuracy: 0.9438 - val_TSICU_accuracy: 0.9429\n",
      "Epoch 9/30\n",
      "214/214 [==============================] - 34s 157ms/step - loss: 0.1852 - CCU_loss: 0.0269 - CSRU_loss: 0.0172 - MICU_loss: 0.0860 - SICU_loss: 0.0313 - TSICU_loss: 0.0238 - CCU_accuracy: 0.9429 - CSRU_accuracy: 0.9429 - MICU_accuracy: 0.9429 - SICU_accuracy: 0.9433 - TSICU_accuracy: 0.9429 - val_loss: 1.0228 - val_CCU_loss: 0.2001 - val_CSRU_loss: 0.2326 - val_MICU_loss: 0.1950 - val_SICU_loss: 0.1894 - val_TSICU_loss: 0.2057 - val_CCU_accuracy: 0.9429 - val_CSRU_accuracy: 0.9429 - val_MICU_accuracy: 0.9429 - val_SICU_accuracy: 0.9438 - val_TSICU_accuracy: 0.9429\n",
      "Epoch 10/30\n",
      "214/214 [==============================] - 39s 182ms/step - loss: 0.1824 - CCU_loss: 0.0261 - CSRU_loss: 0.0169 - MICU_loss: 0.0849 - SICU_loss: 0.0310 - TSICU_loss: 0.0235 - CCU_accuracy: 0.9429 - CSRU_accuracy: 0.9429 - MICU_accuracy: 0.9429 - SICU_accuracy: 0.9431 - TSICU_accuracy: 0.9429 - val_loss: 1.0110 - val_CCU_loss: 0.1982 - val_CSRU_loss: 0.2260 - val_MICU_loss: 0.1947 - val_SICU_loss: 0.1882 - val_TSICU_loss: 0.2038 - val_CCU_accuracy: 0.9429 - val_CSRU_accuracy: 0.9429 - val_MICU_accuracy: 0.9429 - val_SICU_accuracy: 0.9442 - val_TSICU_accuracy: 0.9429\n",
      "Epoch 11/30\n",
      "214/214 [==============================] - 37s 171ms/step - loss: 0.1799 - CCU_loss: 0.0256 - CSRU_loss: 0.0164 - MICU_loss: 0.0843 - SICU_loss: 0.0307 - TSICU_loss: 0.0229 - CCU_accuracy: 0.9429 - CSRU_accuracy: 0.9429 - MICU_accuracy: 0.9429 - SICU_accuracy: 0.9431 - TSICU_accuracy: 0.9429 - val_loss: 1.0018 - val_CCU_loss: 0.1958 - val_CSRU_loss: 0.2300 - val_MICU_loss: 0.1898 - val_SICU_loss: 0.1858 - val_TSICU_loss: 0.2003 - val_CCU_accuracy: 0.9429 - val_CSRU_accuracy: 0.9429 - val_MICU_accuracy: 0.9429 - val_SICU_accuracy: 0.9442 - val_TSICU_accuracy: 0.9429\n",
      "Epoch 12/30\n",
      "214/214 [==============================] - 37s 172ms/step - loss: 0.1782 - CCU_loss: 0.0252 - CSRU_loss: 0.0161 - MICU_loss: 0.0836 - SICU_loss: 0.0304 - TSICU_loss: 0.0229 - CCU_accuracy: 0.9429 - CSRU_accuracy: 0.9429 - MICU_accuracy: 0.9429 - SICU_accuracy: 0.9429 - TSICU_accuracy: 0.9429 - val_loss: 0.9955 - val_CCU_loss: 0.1945 - val_CSRU_loss: 0.2299 - val_MICU_loss: 0.1884 - val_SICU_loss: 0.1846 - val_TSICU_loss: 0.1980 - val_CCU_accuracy: 0.9429 - val_CSRU_accuracy: 0.9429 - val_MICU_accuracy: 0.9429 - val_SICU_accuracy: 0.9442 - val_TSICU_accuracy: 0.9429\n",
      "Epoch 13/30\n",
      "214/214 [==============================] - 40s 189ms/step - loss: 0.1763 - CCU_loss: 0.0247 - CSRU_loss: 0.0157 - MICU_loss: 0.0831 - SICU_loss: 0.0302 - TSICU_loss: 0.0227 - CCU_accuracy: 0.9430 - CSRU_accuracy: 0.9429 - MICU_accuracy: 0.9431 - SICU_accuracy: 0.9434 - TSICU_accuracy: 0.9429 - val_loss: 1.0069 - val_CCU_loss: 0.2000 - val_CSRU_loss: 0.2371 - val_MICU_loss: 0.1850 - val_SICU_loss: 0.1843 - val_TSICU_loss: 0.2006 - val_CCU_accuracy: 0.9429 - val_CSRU_accuracy: 0.9429 - val_MICU_accuracy: 0.9429 - val_SICU_accuracy: 0.9435 - val_TSICU_accuracy: 0.9429\n",
      "Epoch 14/30\n",
      "214/214 [==============================] - 39s 184ms/step - loss: 0.1751 - CCU_loss: 0.0244 - CSRU_loss: 0.0156 - MICU_loss: 0.0828 - SICU_loss: 0.0300 - TSICU_loss: 0.0223 - CCU_accuracy: 0.9431 - CSRU_accuracy: 0.9429 - MICU_accuracy: 0.9432 - SICU_accuracy: 0.9433 - TSICU_accuracy: 0.9429 - val_loss: 0.9797 - val_CCU_loss: 0.1923 - val_CSRU_loss: 0.2221 - val_MICU_loss: 0.1864 - val_SICU_loss: 0.1829 - val_TSICU_loss: 0.1959 - val_CCU_accuracy: 0.9429 - val_CSRU_accuracy: 0.9429 - val_MICU_accuracy: 0.9429 - val_SICU_accuracy: 0.9435 - val_TSICU_accuracy: 0.9429\n",
      "Epoch 15/30\n",
      "214/214 [==============================] - 40s 186ms/step - loss: 0.1733 - CCU_loss: 0.0241 - CSRU_loss: 0.0154 - MICU_loss: 0.0819 - SICU_loss: 0.0298 - TSICU_loss: 0.0221 - CCU_accuracy: 0.9431 - CSRU_accuracy: 0.9429 - MICU_accuracy: 0.9431 - SICU_accuracy: 0.9433 - TSICU_accuracy: 0.9429 - val_loss: 0.9713 - val_CCU_loss: 0.1899 - val_CSRU_loss: 0.2111 - val_MICU_loss: 0.1897 - val_SICU_loss: 0.1839 - val_TSICU_loss: 0.1967 - val_CCU_accuracy: 0.9429 - val_CSRU_accuracy: 0.9429 - val_MICU_accuracy: 0.9432 - val_SICU_accuracy: 0.9435 - val_TSICU_accuracy: 0.9429\n",
      "Epoch 16/30\n",
      "214/214 [==============================] - 41s 190ms/step - loss: 0.1719 - CCU_loss: 0.0237 - CSRU_loss: 0.0152 - MICU_loss: 0.0816 - SICU_loss: 0.0298 - TSICU_loss: 0.0216 - CCU_accuracy: 0.9432 - CSRU_accuracy: 0.9429 - MICU_accuracy: 0.9434 - SICU_accuracy: 0.9435 - TSICU_accuracy: 0.9429 - val_loss: 0.9676 - val_CCU_loss: 0.1896 - val_CSRU_loss: 0.2195 - val_MICU_loss: 0.1847 - val_SICU_loss: 0.1815 - val_TSICU_loss: 0.1922 - val_CCU_accuracy: 0.9432 - val_CSRU_accuracy: 0.9429 - val_MICU_accuracy: 0.9429 - val_SICU_accuracy: 0.9435 - val_TSICU_accuracy: 0.9429\n",
      "Epoch 17/30\n",
      "214/214 [==============================] - 32s 151ms/step - loss: 0.1708 - CCU_loss: 0.0236 - CSRU_loss: 0.0151 - MICU_loss: 0.0810 - SICU_loss: 0.0296 - TSICU_loss: 0.0214 - CCU_accuracy: 0.9431 - CSRU_accuracy: 0.9429 - MICU_accuracy: 0.9435 - SICU_accuracy: 0.9436 - TSICU_accuracy: 0.9429 - val_loss: 0.9719 - val_CCU_loss: 0.1927 - val_CSRU_loss: 0.2224 - val_MICU_loss: 0.1819 - val_SICU_loss: 0.1816 - val_TSICU_loss: 0.1932 - val_CCU_accuracy: 0.9435 - val_CSRU_accuracy: 0.9429 - val_MICU_accuracy: 0.9435 - val_SICU_accuracy: 0.9435 - val_TSICU_accuracy: 0.9429\n",
      "Epoch 18/30\n",
      "214/214 [==============================] - 27s 126ms/step - loss: 0.1697 - CCU_loss: 0.0234 - CSRU_loss: 0.0148 - MICU_loss: 0.0808 - SICU_loss: 0.0294 - TSICU_loss: 0.0213 - CCU_accuracy: 0.9432 - CSRU_accuracy: 0.9429 - MICU_accuracy: 0.9437 - SICU_accuracy: 0.9436 - TSICU_accuracy: 0.9429 - val_loss: 0.9571 - val_CCU_loss: 0.1858 - val_CSRU_loss: 0.2048 - val_MICU_loss: 0.1890 - val_SICU_loss: 0.1824 - val_TSICU_loss: 0.1951 - val_CCU_accuracy: 0.9435 - val_CSRU_accuracy: 0.9429 - val_MICU_accuracy: 0.9442 - val_SICU_accuracy: 0.9442 - val_TSICU_accuracy: 0.9429\n",
      "Epoch 19/30\n",
      "214/214 [==============================] - 30s 141ms/step - loss: 0.1683 - CCU_loss: 0.0232 - CSRU_loss: 0.0146 - MICU_loss: 0.0799 - SICU_loss: 0.0294 - TSICU_loss: 0.0212 - CCU_accuracy: 0.9434 - CSRU_accuracy: 0.9429 - MICU_accuracy: 0.9439 - SICU_accuracy: 0.9437 - TSICU_accuracy: 0.9429 - val_loss: 0.9687 - val_CCU_loss: 0.1938 - val_CSRU_loss: 0.2198 - val_MICU_loss: 0.1812 - val_SICU_loss: 0.1805 - val_TSICU_loss: 0.1933 - val_CCU_accuracy: 0.9435 - val_CSRU_accuracy: 0.9429 - val_MICU_accuracy: 0.9442 - val_SICU_accuracy: 0.9445 - val_TSICU_accuracy: 0.9429\n",
      "Epoch 20/30\n",
      "214/214 [==============================] - 26s 122ms/step - loss: 0.1673 - CCU_loss: 0.0229 - CSRU_loss: 0.0146 - MICU_loss: 0.0796 - SICU_loss: 0.0292 - TSICU_loss: 0.0210 - CCU_accuracy: 0.9433 - CSRU_accuracy: 0.9431 - MICU_accuracy: 0.9444 - SICU_accuracy: 0.9438 - TSICU_accuracy: 0.9430 - val_loss: 0.9577 - val_CCU_loss: 0.1901 - val_CSRU_loss: 0.2133 - val_MICU_loss: 0.1826 - val_SICU_loss: 0.1804 - val_TSICU_loss: 0.1912 - val_CCU_accuracy: 0.9435 - val_CSRU_accuracy: 0.9432 - val_MICU_accuracy: 0.9445 - val_SICU_accuracy: 0.9448 - val_TSICU_accuracy: 0.9429\n",
      "Epoch 21/30\n",
      "214/214 [==============================] - 28s 129ms/step - loss: 0.1664 - CCU_loss: 0.0225 - CSRU_loss: 0.0144 - MICU_loss: 0.0795 - SICU_loss: 0.0291 - TSICU_loss: 0.0208 - CCU_accuracy: 0.9434 - CSRU_accuracy: 0.9431 - MICU_accuracy: 0.9444 - SICU_accuracy: 0.9437 - TSICU_accuracy: 0.9430 - val_loss: 0.9492 - val_CCU_loss: 0.1872 - val_CSRU_loss: 0.2052 - val_MICU_loss: 0.1842 - val_SICU_loss: 0.1812 - val_TSICU_loss: 0.1913 - val_CCU_accuracy: 0.9435 - val_CSRU_accuracy: 0.9432 - val_MICU_accuracy: 0.9448 - val_SICU_accuracy: 0.9438 - val_TSICU_accuracy: 0.9429\n",
      "Epoch 22/30\n",
      "214/214 [==============================] - 28s 130ms/step - loss: 0.1651 - CCU_loss: 0.0224 - CSRU_loss: 0.0141 - MICU_loss: 0.0789 - SICU_loss: 0.0291 - TSICU_loss: 0.0206 - CCU_accuracy: 0.9435 - CSRU_accuracy: 0.9432 - MICU_accuracy: 0.9443 - SICU_accuracy: 0.9440 - TSICU_accuracy: 0.9430 - val_loss: 0.9772 - val_CCU_loss: 0.2001 - val_CSRU_loss: 0.2229 - val_MICU_loss: 0.1808 - val_SICU_loss: 0.1796 - val_TSICU_loss: 0.1938 - val_CCU_accuracy: 0.9435 - val_CSRU_accuracy: 0.9432 - val_MICU_accuracy: 0.9452 - val_SICU_accuracy: 0.9442 - val_TSICU_accuracy: 0.9429\n",
      "Epoch 23/30\n",
      "214/214 [==============================] - 28s 129ms/step - loss: 0.1643 - CCU_loss: 0.0224 - CSRU_loss: 0.0142 - MICU_loss: 0.0784 - SICU_loss: 0.0289 - TSICU_loss: 0.0204 - CCU_accuracy: 0.9438 - CSRU_accuracy: 0.9433 - MICU_accuracy: 0.9442 - SICU_accuracy: 0.9441 - TSICU_accuracy: 0.9429 - val_loss: 0.9485 - val_CCU_loss: 0.1898 - val_CSRU_loss: 0.2112 - val_MICU_loss: 0.1794 - val_SICU_loss: 0.1792 - val_TSICU_loss: 0.1889 - val_CCU_accuracy: 0.9438 - val_CSRU_accuracy: 0.9432 - val_MICU_accuracy: 0.9442 - val_SICU_accuracy: 0.9445 - val_TSICU_accuracy: 0.9425\n",
      "Epoch 24/30\n",
      "214/214 [==============================] - 28s 133ms/step - loss: 0.1629 - CCU_loss: 0.0223 - CSRU_loss: 0.0141 - MICU_loss: 0.0780 - SICU_loss: 0.0284 - TSICU_loss: 0.0201 - CCU_accuracy: 0.9438 - CSRU_accuracy: 0.9436 - MICU_accuracy: 0.9441 - SICU_accuracy: 0.9442 - TSICU_accuracy: 0.9429 - val_loss: 0.9412 - val_CCU_loss: 0.1879 - val_CSRU_loss: 0.2091 - val_MICU_loss: 0.1781 - val_SICU_loss: 0.1785 - val_TSICU_loss: 0.1875 - val_CCU_accuracy: 0.9445 - val_CSRU_accuracy: 0.9435 - val_MICU_accuracy: 0.9442 - val_SICU_accuracy: 0.9442 - val_TSICU_accuracy: 0.9425\n",
      "Epoch 25/30\n",
      "214/214 [==============================] - 24s 113ms/step - loss: 0.1616 - CCU_loss: 0.0221 - CSRU_loss: 0.0138 - MICU_loss: 0.0774 - SICU_loss: 0.0284 - TSICU_loss: 0.0199 - CCU_accuracy: 0.9442 - CSRU_accuracy: 0.9440 - MICU_accuracy: 0.9444 - SICU_accuracy: 0.9442 - TSICU_accuracy: 0.9432 - val_loss: 0.9494 - val_CCU_loss: 0.1922 - val_CSRU_loss: 0.2089 - val_MICU_loss: 0.1791 - val_SICU_loss: 0.1791 - val_TSICU_loss: 0.1901 - val_CCU_accuracy: 0.9445 - val_CSRU_accuracy: 0.9442 - val_MICU_accuracy: 0.9452 - val_SICU_accuracy: 0.9455 - val_TSICU_accuracy: 0.9425\n",
      "Epoch 26/30\n",
      "214/214 [==============================] - 28s 130ms/step - loss: 0.1610 - CCU_loss: 0.0220 - CSRU_loss: 0.0138 - MICU_loss: 0.0771 - SICU_loss: 0.0283 - TSICU_loss: 0.0199 - CCU_accuracy: 0.9442 - CSRU_accuracy: 0.9440 - MICU_accuracy: 0.9449 - SICU_accuracy: 0.9446 - TSICU_accuracy: 0.9430 - val_loss: 0.9456 - val_CCU_loss: 0.1897 - val_CSRU_loss: 0.2013 - val_MICU_loss: 0.1824 - val_SICU_loss: 0.1807 - val_TSICU_loss: 0.1914 - val_CCU_accuracy: 0.9445 - val_CSRU_accuracy: 0.9438 - val_MICU_accuracy: 0.9448 - val_SICU_accuracy: 0.9448 - val_TSICU_accuracy: 0.9429\n",
      "Epoch 27/30\n",
      "214/214 [==============================] - 25s 119ms/step - loss: 0.1597 - CCU_loss: 0.0216 - CSRU_loss: 0.0136 - MICU_loss: 0.0770 - SICU_loss: 0.0281 - TSICU_loss: 0.0194 - CCU_accuracy: 0.9445 - CSRU_accuracy: 0.9443 - MICU_accuracy: 0.9445 - SICU_accuracy: 0.9450 - TSICU_accuracy: 0.9436 - val_loss: 0.9514 - val_CCU_loss: 0.1933 - val_CSRU_loss: 0.2110 - val_MICU_loss: 0.1789 - val_SICU_loss: 0.1782 - val_TSICU_loss: 0.1899 - val_CCU_accuracy: 0.9448 - val_CSRU_accuracy: 0.9438 - val_MICU_accuracy: 0.9448 - val_SICU_accuracy: 0.9452 - val_TSICU_accuracy: 0.9429\n",
      "Epoch 28/30\n",
      "214/214 [==============================] - 29s 136ms/step - loss: 0.1593 - CCU_loss: 0.0214 - CSRU_loss: 0.0136 - MICU_loss: 0.0765 - SICU_loss: 0.0280 - TSICU_loss: 0.0198 - CCU_accuracy: 0.9443 - CSRU_accuracy: 0.9446 - MICU_accuracy: 0.9442 - SICU_accuracy: 0.9447 - TSICU_accuracy: 0.9434 - val_loss: 0.9222 - val_CCU_loss: 0.1810 - val_CSRU_loss: 0.1946 - val_MICU_loss: 0.1798 - val_SICU_loss: 0.1793 - val_TSICU_loss: 0.1875 - val_CCU_accuracy: 0.9445 - val_CSRU_accuracy: 0.9442 - val_MICU_accuracy: 0.9438 - val_SICU_accuracy: 0.9448 - val_TSICU_accuracy: 0.9429\n",
      "Epoch 29/30\n",
      "214/214 [==============================] - 30s 139ms/step - loss: 0.1577 - CCU_loss: 0.0212 - CSRU_loss: 0.0133 - MICU_loss: 0.0759 - SICU_loss: 0.0279 - TSICU_loss: 0.0194 - CCU_accuracy: 0.9445 - CSRU_accuracy: 0.9447 - MICU_accuracy: 0.9445 - SICU_accuracy: 0.9452 - TSICU_accuracy: 0.9439 - val_loss: 0.9349 - val_CCU_loss: 0.1878 - val_CSRU_loss: 0.2041 - val_MICU_loss: 0.1785 - val_SICU_loss: 0.1778 - val_TSICU_loss: 0.1867 - val_CCU_accuracy: 0.9452 - val_CSRU_accuracy: 0.9448 - val_MICU_accuracy: 0.9452 - val_SICU_accuracy: 0.9452 - val_TSICU_accuracy: 0.9429\n",
      "Epoch 30/30\n",
      "214/214 [==============================] - 29s 136ms/step - loss: 0.1568 - CCU_loss: 0.0209 - CSRU_loss: 0.0132 - MICU_loss: 0.0758 - SICU_loss: 0.0277 - TSICU_loss: 0.0193 - CCU_accuracy: 0.9448 - CSRU_accuracy: 0.9450 - MICU_accuracy: 0.9447 - SICU_accuracy: 0.9453 - TSICU_accuracy: 0.9440 - val_loss: 0.9471 - val_CCU_loss: 0.1899 - val_CSRU_loss: 0.2036 - val_MICU_loss: 0.1798 - val_SICU_loss: 0.1784 - val_TSICU_loss: 0.1954 - val_CCU_accuracy: 0.9448 - val_CSRU_accuracy: 0.9452 - val_MICU_accuracy: 0.9455 - val_SICU_accuracy: 0.9445 - val_TSICU_accuracy: 0.9432\n",
      "INFO:tensorflow:Assets written to: ../data/ablation_data/models/model_multitask_48+24_careunits/assets\n",
      "    ~~~~~~~~~~~~~~~~~~~~~~~~~~~~~~~~~~~~~~~~~~~~~~~~~~~~~~~~~~~~~~~~~~~~~~~~~~~~\n",
      "    Predicting using 'multitask' model...\n"
     ]
    },
    {
     "name": "stderr",
     "output_type": "stream",
     "text": [
      "2023-04-14 17:37:27.078362: W tensorflow/core/framework/cpu_allocator_impl.cc:82] Allocation of 481664256 exceeds 10% of free system memory.\n",
      "2023-04-14 17:37:27.668823: W tensorflow/core/framework/cpu_allocator_impl.cc:82] Allocation of 481664256 exceeds 10% of free system memory.\n"
     ]
    },
    {
     "name": "stdout",
     "output_type": "stream",
     "text": [
      "191/191 [==============================] - 4s 17ms/step\n",
      "    Done!\n",
      "CPU times: user 19min 45s, sys: 2min 16s, total: 22min 2s\n",
      "Wall time: 17min 5s\n"
     ]
    }
   ],
   "source": [
    "%%time\n",
    "cell_execution_time = datetime.now(pytz.timezone('America/New_York')).strftime(\"%d/%m/%Y %H:%M:%S\")\n",
    "print(f'Start Cell Execution at : {cell_execution_time}')\n",
    "metrics_mtl_48_careunits_df = run_mortality_prediction_task(model_type='multitask', cutoff_hours=48, gap_hours=24, cohort_criteria_to_select='careunits',save_to_folder='../data/ablation_data/',)"
   ]
  },
  {
   "cell_type": "code",
   "execution_count": 3,
   "id": "84efac9f-77c3-4063-8765-96ad814b5ad1",
   "metadata": {
    "tags": []
   },
   "outputs": [
    {
     "data": {
      "text/html": [
       "<div>\n",
       "<style scoped>\n",
       "    .dataframe tbody tr th:only-of-type {\n",
       "        vertical-align: middle;\n",
       "    }\n",
       "\n",
       "    .dataframe tbody tr th {\n",
       "        vertical-align: top;\n",
       "    }\n",
       "\n",
       "    .dataframe thead th {\n",
       "        text-align: right;\n",
       "    }\n",
       "</style>\n",
       "<table border=\"1\" class=\"dataframe\">\n",
       "  <thead>\n",
       "    <tr style=\"text-align: right;\">\n",
       "      <th></th>\n",
       "      <th>AUC</th>\n",
       "      <th>PPV</th>\n",
       "      <th>Specificity</th>\n",
       "    </tr>\n",
       "  </thead>\n",
       "  <tbody>\n",
       "    <tr>\n",
       "      <th>CCU</th>\n",
       "      <td>0.806</td>\n",
       "      <td>0.164</td>\n",
       "      <td>0.732</td>\n",
       "    </tr>\n",
       "    <tr>\n",
       "      <th>CSRU</th>\n",
       "      <td>0.885</td>\n",
       "      <td>0.043</td>\n",
       "      <td>0.783</td>\n",
       "    </tr>\n",
       "    <tr>\n",
       "      <th>MICU</th>\n",
       "      <td>0.808</td>\n",
       "      <td>0.163</td>\n",
       "      <td>0.633</td>\n",
       "    </tr>\n",
       "    <tr>\n",
       "      <th>SICU</th>\n",
       "      <td>0.835</td>\n",
       "      <td>0.160</td>\n",
       "      <td>0.727</td>\n",
       "    </tr>\n",
       "    <tr>\n",
       "      <th>TSICU</th>\n",
       "      <td>0.801</td>\n",
       "      <td>0.105</td>\n",
       "      <td>0.635</td>\n",
       "    </tr>\n",
       "    <tr>\n",
       "      <th>Macro</th>\n",
       "      <td>0.827</td>\n",
       "      <td>0.127</td>\n",
       "      <td>0.702</td>\n",
       "    </tr>\n",
       "    <tr>\n",
       "      <th>Micro</th>\n",
       "      <td>0.836</td>\n",
       "      <td>0.151</td>\n",
       "      <td>0.728</td>\n",
       "    </tr>\n",
       "  </tbody>\n",
       "</table>\n",
       "</div>"
      ],
      "text/plain": [
       "         AUC    PPV  Specificity\n",
       "CCU    0.806  0.164        0.732\n",
       "CSRU   0.885  0.043        0.783\n",
       "MICU   0.808  0.163        0.633\n",
       "SICU   0.835  0.160        0.727\n",
       "TSICU  0.801  0.105        0.635\n",
       "Macro  0.827  0.127        0.702\n",
       "Micro  0.836  0.151        0.728"
      ]
     },
     "execution_count": 3,
     "metadata": {},
     "output_type": "execute_result"
    }
   ],
   "source": [
    "metrics_mtl_48_careunits_df.round(3)"
   ]
  },
  {
   "cell_type": "markdown",
   "id": "15ee3015-d11d-4a89-b6eb-4466afdf4b4a",
   "metadata": {},
   "source": [
    "Now, let's repeat the prediction task but this time using the groups fetched in an unsupervised way from step 1 proposed by the authors in the paper:"
   ]
  },
  {
   "cell_type": "code",
   "execution_count": 2,
   "id": "3dfc60d1-59b9-47f8-99c9-56185631190c",
   "metadata": {
    "tags": []
   },
   "outputs": [
    {
     "name": "stdout",
     "output_type": "stream",
     "text": [
      "Start Cell Execution at : 14/04/2023 13:44:33\n",
      "++++++++++++++++++++++++++++++++++++++++++++++++++++++++++++++++++++++++++++++++\n",
      "Preparing the data\n",
      "--------------------------------------------------------------------------------\n",
      "    Loading data from MIMIC-Extract pipeline...\n",
      "    Adding SAPS II score to static dataset...\n",
      "    Adding mortality columns to static dataset...\n",
      "    Discretizing X...\n",
      "        X.shape: (2200954, 29), X.subject_id.nunique(): 34472\n"
     ]
    },
    {
     "name": "stderr",
     "output_type": "stream",
     "text": [
      "/notebooks/notebooks/../code/mtl_patients_ablation.py:608: FutureWarning: In a future version, `df.iloc[:, i] = newvals` will attempt to set the values inplace instead of always setting a new array. To retain the old behavior, use either `df[df.columns[i]] = newvals` or, if columns are non-unique, `df.isetitem(i, newvals)`\n",
      "  X.loc[:, feature_cols] = X_words\n"
     ]
    },
    {
     "name": "stdout",
     "output_type": "stream",
     "text": [
      "        X_discrete.shape: (2200954, 199), X_discrete.subject_id.nunique(): 34472\n",
      "    Keep only X_discrete[X_discrete.hours_in < 48]...\n",
      "        New X_discrete.shape: (1349653, 197), new X_discrete.subject_id.nunique(): 34472\n",
      "    Padding patients with less than 48 hours of data...\n",
      "    Merging dataframes to create X_full...\n"
     ]
    },
    {
     "name": "stderr",
     "output_type": "stream",
     "text": [
      "/notebooks/notebooks/../code/mtl_patients_ablation.py:633: FutureWarning: In a future version, `df.iloc[:, i] = newvals` will attempt to set the values inplace instead of always setting a new array. To retain the old behavior, use either `df[df.columns[i]] = newvals` or, if columns are non-unique, `df.isetitem(i, newvals)`\n",
      "  static_to_keep_df.loc[:, 'ethnicity'] = static_to_keep_df['ethnicity'].apply(categorize_ethnicity)\n",
      "/notebooks/notebooks/../code/mtl_patients_ablation.py:634: FutureWarning: In a future version, `df.iloc[:, i] = newvals` will attempt to set the values inplace instead of always setting a new array. To retain the old behavior, use either `df[df.columns[i]] = newvals` or, if columns are non-unique, `df.isetitem(i, newvals)`\n",
      "  static_to_keep_df.loc[:, 'age'] = static_to_keep_df['age'].apply(categorize_age)\n"
     ]
    },
    {
     "name": "stdout",
     "output_type": "stream",
     "text": [
      "    Mortality per careunit...\n",
      "        MICU: 866 out of 10409\n",
      "        SICU: 303 out of 4815\n",
      "        CCU: 258 out of 4403\n",
      "        CSRU: 110 out of 6865\n",
      "        TSICU: 202 out of 3950\n",
      "    Final shape of X: (30442, 48, 206)\n",
      "    Number of positive samples: 1739\n",
      "    Done!\n",
      "++++++++++++++++++++++++++++++++++++++++++++++++++++++++++++++++++++++++++++++++\n",
      "Running the Mortality Prediction Task\n",
      "--------------------------------------------------------------------------------\n",
      "    Splitting data into train/validation/test sets...\n",
      "    Calculating number of training samples in cohort...\n",
      "        # of patients in cohort 0 is 9125\n",
      "        # of patients in cohort 1 is 12183\n",
      "    ~~~~~~~~~~~~~~~~~~~~~~~~~~~~~~~~~~~~~~~~~~~~~~~~~~~~~~~~~~~~~~~~~~~~~~~~~~~~\n",
      "    Training 'multitask' model...\n",
      "WARNING:tensorflow:Layer lstm will not use cuDNN kernels since it doesn't meet the criteria. It will use a generic GPU kernel as fallback when running on GPU.\n",
      "Model: \"multitask_learning_model\"\n",
      "__________________________________________________________________________________________________\n",
      " Layer (type)                   Output Shape         Param #     Connected to                     \n",
      "==================================================================================================\n",
      " input (InputLayer)             [(None, 48, 206)]    0           []                               \n",
      "                                                                                                  \n",
      " lstm (LSTM)                    (None, 16)           14272       ['input[0][0]']                  \n",
      "                                                                                                  \n",
      " 0 (Dense)                      (None, 1)            17          ['lstm[0][0]']                   \n",
      "                                                                                                  \n",
      " 1 (Dense)                      (None, 1)            17          ['lstm[0][0]']                   \n",
      "                                                                                                  \n",
      "==================================================================================================\n",
      "Total params: 14,306\n",
      "Trainable params: 14,306\n",
      "Non-trainable params: 0\n",
      "__________________________________________________________________________________________________\n",
      "None\n"
     ]
    },
    {
     "name": "stderr",
     "output_type": "stream",
     "text": [
      "2023-04-14 17:45:53.184979: W tensorflow/core/framework/cpu_allocator_impl.cc:82] Allocation of 1685548032 exceeds 10% of free system memory.\n",
      "2023-04-14 17:45:55.291393: W tensorflow/core/framework/cpu_allocator_impl.cc:82] Allocation of 1685548032 exceeds 10% of free system memory.\n",
      "2023-04-14 17:45:56.988298: W tensorflow/core/framework/cpu_allocator_impl.cc:82] Allocation of 1685548032 exceeds 10% of free system memory.\n"
     ]
    },
    {
     "name": "stdout",
     "output_type": "stream",
     "text": [
      "Epoch 1/30\n",
      "214/214 [==============================] - 30s 116ms/step - loss: 0.5477 - 0_loss: 0.2686 - 1_loss: 0.2791 - 0_accuracy: 0.8522 - 1_accuracy: 0.9353 - val_loss: 0.9925 - val_0_loss: 0.5522 - val_1_loss: 0.4403 - val_0_accuracy: 0.9419 - val_1_accuracy: 0.9429\n",
      "Epoch 2/30\n",
      "214/214 [==============================] - 25s 119ms/step - loss: 0.4233 - 0_loss: 0.2114 - 1_loss: 0.2119 - 0_accuracy: 0.9428 - 1_accuracy: 0.9427 - val_loss: 0.8009 - val_0_loss: 0.4538 - val_1_loss: 0.3471 - val_0_accuracy: 0.9429 - val_1_accuracy: 0.9429\n",
      "Epoch 3/30\n",
      "214/214 [==============================] - 27s 125ms/step - loss: 0.3293 - 0_loss: 0.1494 - 1_loss: 0.1799 - 0_accuracy: 0.9429 - 1_accuracy: 0.9428 - val_loss: 0.6877 - val_0_loss: 0.3411 - val_1_loss: 0.3466 - val_0_accuracy: 0.9429 - val_1_accuracy: 0.9429\n",
      "Epoch 4/30\n",
      "214/214 [==============================] - 27s 128ms/step - loss: 0.2544 - 0_loss: 0.0963 - 1_loss: 0.1581 - 0_accuracy: 0.9400 - 1_accuracy: 0.9429 - val_loss: 0.6400 - val_0_loss: 0.3356 - val_1_loss: 0.3044 - val_0_accuracy: 0.9209 - val_1_accuracy: 0.9429\n",
      "Epoch 5/30\n",
      "214/214 [==============================] - 30s 141ms/step - loss: 0.2147 - 0_loss: 0.0761 - 1_loss: 0.1385 - 0_accuracy: 0.9060 - 1_accuracy: 0.9429 - val_loss: 0.6232 - val_0_loss: 0.3467 - val_1_loss: 0.2765 - val_0_accuracy: 0.8959 - val_1_accuracy: 0.9429\n",
      "Epoch 6/30\n",
      "214/214 [==============================] - 28s 132ms/step - loss: 0.2033 - 0_loss: 0.0720 - 1_loss: 0.1313 - 0_accuracy: 0.8939 - 1_accuracy: 0.9429 - val_loss: 0.6386 - val_0_loss: 0.3184 - val_1_loss: 0.3202 - val_0_accuracy: 0.9021 - val_1_accuracy: 0.9429\n",
      "Epoch 7/30\n",
      "214/214 [==============================] - 29s 135ms/step - loss: 0.1984 - 0_loss: 0.0703 - 1_loss: 0.1281 - 0_accuracy: 0.8982 - 1_accuracy: 0.9429 - val_loss: 0.6232 - val_0_loss: 0.3263 - val_1_loss: 0.2969 - val_0_accuracy: 0.8975 - val_1_accuracy: 0.9429\n",
      "Epoch 8/30\n",
      "214/214 [==============================] - 26s 122ms/step - loss: 0.1933 - 0_loss: 0.0679 - 1_loss: 0.1254 - 0_accuracy: 0.8990 - 1_accuracy: 0.9429 - val_loss: 0.5983 - val_0_loss: 0.3288 - val_1_loss: 0.2695 - val_0_accuracy: 0.8966 - val_1_accuracy: 0.9429\n",
      "Epoch 9/30\n",
      "214/214 [==============================] - 25s 119ms/step - loss: 0.1900 - 0_loss: 0.0663 - 1_loss: 0.1237 - 0_accuracy: 0.8992 - 1_accuracy: 0.9428 - val_loss: 0.5864 - val_0_loss: 0.3217 - val_1_loss: 0.2647 - val_0_accuracy: 0.8975 - val_1_accuracy: 0.9429\n",
      "Epoch 10/30\n",
      "214/214 [==============================] - 28s 131ms/step - loss: 0.1870 - 0_loss: 0.0652 - 1_loss: 0.1218 - 0_accuracy: 0.9041 - 1_accuracy: 0.9428 - val_loss: 0.5690 - val_0_loss: 0.3102 - val_1_loss: 0.2588 - val_0_accuracy: 0.9025 - val_1_accuracy: 0.9429\n",
      "Epoch 11/30\n",
      "214/214 [==============================] - 28s 129ms/step - loss: 0.1843 - 0_loss: 0.0639 - 1_loss: 0.1204 - 0_accuracy: 0.9032 - 1_accuracy: 0.9429 - val_loss: 0.5566 - val_0_loss: 0.2922 - val_1_loss: 0.2644 - val_0_accuracy: 0.9077 - val_1_accuracy: 0.9429\n",
      "Epoch 12/30\n",
      "214/214 [==============================] - 23s 106ms/step - loss: 0.1822 - 0_loss: 0.0631 - 1_loss: 0.1191 - 0_accuracy: 0.9059 - 1_accuracy: 0.9429 - val_loss: 0.5479 - val_0_loss: 0.3006 - val_1_loss: 0.2474 - val_0_accuracy: 0.9034 - val_1_accuracy: 0.9429\n",
      "Epoch 13/30\n",
      "214/214 [==============================] - 25s 119ms/step - loss: 0.1805 - 0_loss: 0.0624 - 1_loss: 0.1181 - 0_accuracy: 0.9061 - 1_accuracy: 0.9430 - val_loss: 0.5533 - val_0_loss: 0.2909 - val_1_loss: 0.2624 - val_0_accuracy: 0.9044 - val_1_accuracy: 0.9432\n",
      "Epoch 14/30\n",
      "214/214 [==============================] - 24s 113ms/step - loss: 0.1785 - 0_loss: 0.0616 - 1_loss: 0.1170 - 0_accuracy: 0.9061 - 1_accuracy: 0.9430 - val_loss: 0.5471 - val_0_loss: 0.2991 - val_1_loss: 0.2480 - val_0_accuracy: 0.9025 - val_1_accuracy: 0.9432\n",
      "Epoch 15/30\n",
      "214/214 [==============================] - 26s 120ms/step - loss: 0.1764 - 0_loss: 0.0605 - 1_loss: 0.1160 - 0_accuracy: 0.9054 - 1_accuracy: 0.9434 - val_loss: 0.5466 - val_0_loss: 0.3094 - val_1_loss: 0.2372 - val_0_accuracy: 0.8998 - val_1_accuracy: 0.9438\n",
      "Epoch 16/30\n",
      "214/214 [==============================] - 28s 131ms/step - loss: 0.1747 - 0_loss: 0.0596 - 1_loss: 0.1151 - 0_accuracy: 0.9079 - 1_accuracy: 0.9433 - val_loss: 0.5298 - val_0_loss: 0.2920 - val_1_loss: 0.2378 - val_0_accuracy: 0.9084 - val_1_accuracy: 0.9432\n",
      "Epoch 17/30\n",
      "214/214 [==============================] - 26s 122ms/step - loss: 0.1732 - 0_loss: 0.0589 - 1_loss: 0.1143 - 0_accuracy: 0.9075 - 1_accuracy: 0.9434 - val_loss: 0.5255 - val_0_loss: 0.2843 - val_1_loss: 0.2412 - val_0_accuracy: 0.9120 - val_1_accuracy: 0.9442\n",
      "Epoch 18/30\n",
      "214/214 [==============================] - 29s 134ms/step - loss: 0.1718 - 0_loss: 0.0585 - 1_loss: 0.1133 - 0_accuracy: 0.9070 - 1_accuracy: 0.9437 - val_loss: 0.5220 - val_0_loss: 0.2939 - val_1_loss: 0.2281 - val_0_accuracy: 0.9103 - val_1_accuracy: 0.9442\n",
      "Epoch 19/30\n",
      "214/214 [==============================] - 27s 128ms/step - loss: 0.1702 - 0_loss: 0.0579 - 1_loss: 0.1124 - 0_accuracy: 0.9060 - 1_accuracy: 0.9438 - val_loss: 0.5364 - val_0_loss: 0.2865 - val_1_loss: 0.2499 - val_0_accuracy: 0.9044 - val_1_accuracy: 0.9455\n",
      "Epoch 20/30\n",
      "214/214 [==============================] - 27s 128ms/step - loss: 0.1689 - 0_loss: 0.0571 - 1_loss: 0.1119 - 0_accuracy: 0.9029 - 1_accuracy: 0.9441 - val_loss: 0.5205 - val_0_loss: 0.2962 - val_1_loss: 0.2244 - val_0_accuracy: 0.9067 - val_1_accuracy: 0.9458\n",
      "Epoch 21/30\n",
      "214/214 [==============================] - 29s 136ms/step - loss: 0.1688 - 0_loss: 0.0570 - 1_loss: 0.1118 - 0_accuracy: 0.9039 - 1_accuracy: 0.9441 - val_loss: 0.5337 - val_0_loss: 0.2946 - val_1_loss: 0.2390 - val_0_accuracy: 0.8992 - val_1_accuracy: 0.9455\n",
      "Epoch 22/30\n",
      "214/214 [==============================] - 27s 127ms/step - loss: 0.1663 - 0_loss: 0.0562 - 1_loss: 0.1101 - 0_accuracy: 0.9014 - 1_accuracy: 0.9439 - val_loss: 0.5165 - val_0_loss: 0.2743 - val_1_loss: 0.2422 - val_0_accuracy: 0.9067 - val_1_accuracy: 0.9448\n",
      "Epoch 23/30\n",
      "214/214 [==============================] - 28s 130ms/step - loss: 0.1652 - 0_loss: 0.0556 - 1_loss: 0.1096 - 0_accuracy: 0.9021 - 1_accuracy: 0.9441 - val_loss: 0.5409 - val_0_loss: 0.2937 - val_1_loss: 0.2472 - val_0_accuracy: 0.8943 - val_1_accuracy: 0.9448\n",
      "Epoch 24/30\n",
      "214/214 [==============================] - 27s 127ms/step - loss: 0.1637 - 0_loss: 0.0550 - 1_loss: 0.1087 - 0_accuracy: 0.9001 - 1_accuracy: 0.9442 - val_loss: 0.5384 - val_0_loss: 0.2919 - val_1_loss: 0.2465 - val_0_accuracy: 0.8936 - val_1_accuracy: 0.9445\n",
      "Epoch 25/30\n",
      "214/214 [==============================] - 25s 119ms/step - loss: 0.1626 - 0_loss: 0.0545 - 1_loss: 0.1081 - 0_accuracy: 0.8973 - 1_accuracy: 0.9447 - val_loss: 0.5435 - val_0_loss: 0.2990 - val_1_loss: 0.2446 - val_0_accuracy: 0.8877 - val_1_accuracy: 0.9448\n",
      "Epoch 26/30\n",
      "214/214 [==============================] - 27s 126ms/step - loss: 0.1613 - 0_loss: 0.0539 - 1_loss: 0.1074 - 0_accuracy: 0.8992 - 1_accuracy: 0.9446 - val_loss: 0.5615 - val_0_loss: 0.3123 - val_1_loss: 0.2492 - val_0_accuracy: 0.8788 - val_1_accuracy: 0.9435\n",
      "INFO:tensorflow:Assets written to: ../data/ablation_data/models/model_multitask_48+24_unsupervised/assets\n",
      "    ~~~~~~~~~~~~~~~~~~~~~~~~~~~~~~~~~~~~~~~~~~~~~~~~~~~~~~~~~~~~~~~~~~~~~~~~~~~~\n",
      "    Predicting using 'multitask' model...\n"
     ]
    },
    {
     "name": "stderr",
     "output_type": "stream",
     "text": [
      "2023-04-14 17:57:45.776020: W tensorflow/core/framework/cpu_allocator_impl.cc:82] Allocation of 481664256 exceeds 10% of free system memory.\n",
      "2023-04-14 17:57:46.356456: W tensorflow/core/framework/cpu_allocator_impl.cc:82] Allocation of 481664256 exceeds 10% of free system memory.\n"
     ]
    },
    {
     "name": "stdout",
     "output_type": "stream",
     "text": [
      "191/191 [==============================] - 3s 14ms/step\n",
      "    Done!\n",
      "CPU times: user 15min 41s, sys: 1min 59s, total: 17min 41s\n",
      "Wall time: 13min 19s\n"
     ]
    }
   ],
   "source": [
    "%%time\n",
    "cell_execution_time = datetime.now(pytz.timezone('America/New_York')).strftime(\"%d/%m/%Y %H:%M:%S\")\n",
    "print(f'Start Cell Execution at : {cell_execution_time}')\n",
    "metrics_mtl_48_unsupervised_df = run_mortality_prediction_task(model_type='multitask', cutoff_hours=48, gap_hours=24,\n",
    "                                                               cohort_criteria_to_select='unsupervised', cohort_unsupervised_filename='../data/unsupervised_clusters_lab_abl_48.npy',save_to_folder='../data/ablation_data/',)"
   ]
  },
  {
   "cell_type": "code",
   "execution_count": 3,
   "id": "09569892-4b60-47c7-b6aa-95033cf96011",
   "metadata": {
    "tags": []
   },
   "outputs": [
    {
     "data": {
      "text/html": [
       "<div>\n",
       "<style scoped>\n",
       "    .dataframe tbody tr th:only-of-type {\n",
       "        vertical-align: middle;\n",
       "    }\n",
       "\n",
       "    .dataframe tbody tr th {\n",
       "        vertical-align: top;\n",
       "    }\n",
       "\n",
       "    .dataframe thead th {\n",
       "        text-align: right;\n",
       "    }\n",
       "</style>\n",
       "<table border=\"1\" class=\"dataframe\">\n",
       "  <thead>\n",
       "    <tr style=\"text-align: right;\">\n",
       "      <th></th>\n",
       "      <th>AUC</th>\n",
       "      <th>PPV</th>\n",
       "      <th>Specificity</th>\n",
       "    </tr>\n",
       "  </thead>\n",
       "  <tbody>\n",
       "    <tr>\n",
       "      <th>0</th>\n",
       "      <td>0.843</td>\n",
       "      <td>0.106</td>\n",
       "      <td>0.715</td>\n",
       "    </tr>\n",
       "    <tr>\n",
       "      <th>1</th>\n",
       "      <td>0.798</td>\n",
       "      <td>0.135</td>\n",
       "      <td>0.617</td>\n",
       "    </tr>\n",
       "    <tr>\n",
       "      <th>Macro</th>\n",
       "      <td>0.820</td>\n",
       "      <td>0.120</td>\n",
       "      <td>0.666</td>\n",
       "    </tr>\n",
       "    <tr>\n",
       "      <th>Micro</th>\n",
       "      <td>0.821</td>\n",
       "      <td>0.131</td>\n",
       "      <td>0.680</td>\n",
       "    </tr>\n",
       "  </tbody>\n",
       "</table>\n",
       "</div>"
      ],
      "text/plain": [
       "         AUC    PPV  Specificity\n",
       "0      0.843  0.106        0.715\n",
       "1      0.798  0.135        0.617\n",
       "Macro  0.820  0.120        0.666\n",
       "Micro  0.821  0.131        0.680"
      ]
     },
     "execution_count": 3,
     "metadata": {},
     "output_type": "execute_result"
    }
   ],
   "source": [
    "metrics_mtl_48_unsupervised_df.round(3)"
   ]
  },
  {
   "cell_type": "markdown",
   "id": "7c796fc2-b567-4e72-8cec-6ab3f9ced8a4",
   "metadata": {},
   "source": [
    "#### 3.1.5. Summary"
   ]
  },
  {
   "cell_type": "markdown",
   "id": "76426498-e1b8-422b-b54a-2e4b3b559f57",
   "metadata": {},
   "source": [
    "Similar to Table 4 in paper, the dataframe below summarizes all results."
   ]
  },
  {
   "cell_type": "code",
   "execution_count": 9,
   "id": "9cf43dbf-3e7f-4d2b-90fd-2499d6a3ad65",
   "metadata": {},
   "outputs": [],
   "source": [
    "# Load global and multitask dfs for 24 and 48 hour experiment\n",
    "metrics_global_24_careunits_df = pd.read_hdf('../data/ablation_data/results/model_global_24+12_careunits_bootstrap-OFF.h5')\n",
    "metrics_global_24_unsupervised_df = pd.read_hdf('../data/ablation_data/results/model_global_24+12_unsupervised_bootstrap-OFF.h5')\n",
    "metrics_mtl_24_careunits_df = pd.read_hdf('../data/ablation_data/results/model_multitask_24+12_careunits_bootstrap-OFF.h5')\n",
    "metrics_mtl_24_unsupervised_df = pd.read_hdf('../data/ablation_data/results/model_multitask_24+12_unsupervised_bootstrap-OFF.h5')\n",
    "metrics_global_48_careunits_df = pd.read_hdf('../data/ablation_data/results/model_global_48+24_careunits_bootstrap-OFF.h5')\n",
    "metrics_global_48_unsupervised_df = pd.read_hdf('../data/ablation_data/results/model_global_48+24_unsupervised_bootstrap-OFF.h5')\n",
    "metrics_mtl_48_careunits_df = pd.read_hdf('../data/ablation_data/results/model_multitask_48+24_careunits_bootstrap-OFF.h5')\n",
    "metrics_mtl_48_unsupervised_df = pd.read_hdf('../data/ablation_data/results/model_multitask_48+24_unsupervised_bootstrap-OFF.h5')"
   ]
  },
  {
   "cell_type": "code",
   "execution_count": 10,
   "id": "754da080-9fd5-430f-8c27-4545d20798b6",
   "metadata": {
    "tags": []
   },
   "outputs": [
    {
     "data": {
      "text/html": [
       "<div>\n",
       "<style scoped>\n",
       "    .dataframe tbody tr th:only-of-type {\n",
       "        vertical-align: middle;\n",
       "    }\n",
       "\n",
       "    .dataframe tbody tr th {\n",
       "        vertical-align: top;\n",
       "    }\n",
       "\n",
       "    .dataframe thead tr th {\n",
       "        text-align: left;\n",
       "    }\n",
       "\n",
       "    .dataframe thead tr:last-of-type th {\n",
       "        text-align: right;\n",
       "    }\n",
       "</style>\n",
       "<table border=\"1\" class=\"dataframe\">\n",
       "  <thead>\n",
       "    <tr>\n",
       "      <th></th>\n",
       "      <th></th>\n",
       "      <th>Metric</th>\n",
       "      <th colspan=\"2\" halign=\"left\">AUC</th>\n",
       "      <th colspan=\"2\" halign=\"left\">PPV</th>\n",
       "      <th colspan=\"2\" halign=\"left\">Specificity</th>\n",
       "    </tr>\n",
       "    <tr>\n",
       "      <th></th>\n",
       "      <th></th>\n",
       "      <th>Model</th>\n",
       "      <th>Global</th>\n",
       "      <th>Multi-task</th>\n",
       "      <th>Global</th>\n",
       "      <th>Multi-task</th>\n",
       "      <th>Global</th>\n",
       "      <th>Multi-task</th>\n",
       "    </tr>\n",
       "    <tr>\n",
       "      <th>Experiment</th>\n",
       "      <th>Cohort type</th>\n",
       "      <th>Cohort</th>\n",
       "      <th></th>\n",
       "      <th></th>\n",
       "      <th></th>\n",
       "      <th></th>\n",
       "      <th></th>\n",
       "      <th></th>\n",
       "    </tr>\n",
       "  </thead>\n",
       "  <tbody>\n",
       "    <tr>\n",
       "      <th rowspan=\"12\" valign=\"top\">24 hours</th>\n",
       "      <th rowspan=\"7\" valign=\"top\">Careunits</th>\n",
       "      <th>CCU</th>\n",
       "      <td>0.841</td>\n",
       "      <td>0.821</td>\n",
       "      <td>0.179</td>\n",
       "      <td>0.136</td>\n",
       "      <td>0.756</td>\n",
       "      <td>0.661</td>\n",
       "    </tr>\n",
       "    <tr>\n",
       "      <th>CSRU</th>\n",
       "      <td>0.895</td>\n",
       "      <td>0.893</td>\n",
       "      <td>0.118</td>\n",
       "      <td>0.103</td>\n",
       "      <td>0.893</td>\n",
       "      <td>0.876</td>\n",
       "    </tr>\n",
       "    <tr>\n",
       "      <th>MICU</th>\n",
       "      <td>0.806</td>\n",
       "      <td>0.809</td>\n",
       "      <td>0.222</td>\n",
       "      <td>0.217</td>\n",
       "      <td>0.671</td>\n",
       "      <td>0.660</td>\n",
       "    </tr>\n",
       "    <tr>\n",
       "      <th>SICU</th>\n",
       "      <td>0.819</td>\n",
       "      <td>0.779</td>\n",
       "      <td>0.180</td>\n",
       "      <td>0.152</td>\n",
       "      <td>0.696</td>\n",
       "      <td>0.629</td>\n",
       "    </tr>\n",
       "    <tr>\n",
       "      <th>TSICU</th>\n",
       "      <td>0.830</td>\n",
       "      <td>0.825</td>\n",
       "      <td>0.117</td>\n",
       "      <td>0.161</td>\n",
       "      <td>0.582</td>\n",
       "      <td>0.709</td>\n",
       "    </tr>\n",
       "    <tr>\n",
       "      <th>Macro</th>\n",
       "      <td>0.838</td>\n",
       "      <td>0.826</td>\n",
       "      <td>0.163</td>\n",
       "      <td>0.154</td>\n",
       "      <td>0.720</td>\n",
       "      <td>0.707</td>\n",
       "    </tr>\n",
       "    <tr>\n",
       "      <th>Micro</th>\n",
       "      <td>0.843</td>\n",
       "      <td>0.835</td>\n",
       "      <td>0.178</td>\n",
       "      <td>0.177</td>\n",
       "      <td>0.718</td>\n",
       "      <td>0.717</td>\n",
       "    </tr>\n",
       "    <tr>\n",
       "      <th rowspan=\"5\" valign=\"top\">Unsupervised</th>\n",
       "      <th>0</th>\n",
       "      <td>0.855</td>\n",
       "      <td>0.849</td>\n",
       "      <td>0.260</td>\n",
       "      <td>0.246</td>\n",
       "      <td>0.746</td>\n",
       "      <td>0.727</td>\n",
       "    </tr>\n",
       "    <tr>\n",
       "      <th>1</th>\n",
       "      <td>0.827</td>\n",
       "      <td>0.821</td>\n",
       "      <td>0.169</td>\n",
       "      <td>0.169</td>\n",
       "      <td>0.691</td>\n",
       "      <td>0.692</td>\n",
       "    </tr>\n",
       "    <tr>\n",
       "      <th>2</th>\n",
       "      <td>0.845</td>\n",
       "      <td>0.839</td>\n",
       "      <td>0.052</td>\n",
       "      <td>0.041</td>\n",
       "      <td>0.712</td>\n",
       "      <td>0.629</td>\n",
       "    </tr>\n",
       "    <tr>\n",
       "      <th>Macro</th>\n",
       "      <td>0.842</td>\n",
       "      <td>0.837</td>\n",
       "      <td>0.160</td>\n",
       "      <td>0.152</td>\n",
       "      <td>0.716</td>\n",
       "      <td>0.683</td>\n",
       "    </tr>\n",
       "    <tr>\n",
       "      <th>Micro</th>\n",
       "      <td>0.843</td>\n",
       "      <td>0.837</td>\n",
       "      <td>0.178</td>\n",
       "      <td>0.174</td>\n",
       "      <td>0.718</td>\n",
       "      <td>0.711</td>\n",
       "    </tr>\n",
       "    <tr>\n",
       "      <th rowspan=\"11\" valign=\"top\">48 hours</th>\n",
       "      <th rowspan=\"7\" valign=\"top\">Careunits</th>\n",
       "      <th>CCU</th>\n",
       "      <td>0.806</td>\n",
       "      <td>0.806</td>\n",
       "      <td>0.168</td>\n",
       "      <td>0.164</td>\n",
       "      <td>0.739</td>\n",
       "      <td>0.732</td>\n",
       "    </tr>\n",
       "    <tr>\n",
       "      <th>CSRU</th>\n",
       "      <td>0.913</td>\n",
       "      <td>0.885</td>\n",
       "      <td>0.053</td>\n",
       "      <td>0.043</td>\n",
       "      <td>0.826</td>\n",
       "      <td>0.783</td>\n",
       "    </tr>\n",
       "    <tr>\n",
       "      <th>MICU</th>\n",
       "      <td>0.809</td>\n",
       "      <td>0.808</td>\n",
       "      <td>0.180</td>\n",
       "      <td>0.163</td>\n",
       "      <td>0.676</td>\n",
       "      <td>0.633</td>\n",
       "    </tr>\n",
       "    <tr>\n",
       "      <th>SICU</th>\n",
       "      <td>0.814</td>\n",
       "      <td>0.835</td>\n",
       "      <td>0.160</td>\n",
       "      <td>0.160</td>\n",
       "      <td>0.728</td>\n",
       "      <td>0.727</td>\n",
       "    </tr>\n",
       "    <tr>\n",
       "      <th>TSICU</th>\n",
       "      <td>0.805</td>\n",
       "      <td>0.801</td>\n",
       "      <td>0.118</td>\n",
       "      <td>0.105</td>\n",
       "      <td>0.678</td>\n",
       "      <td>0.635</td>\n",
       "    </tr>\n",
       "    <tr>\n",
       "      <th>Macro</th>\n",
       "      <td>0.829</td>\n",
       "      <td>0.827</td>\n",
       "      <td>0.136</td>\n",
       "      <td>0.127</td>\n",
       "      <td>0.729</td>\n",
       "      <td>0.702</td>\n",
       "    </tr>\n",
       "    <tr>\n",
       "      <th>Micro</th>\n",
       "      <td>0.834</td>\n",
       "      <td>0.836</td>\n",
       "      <td>0.154</td>\n",
       "      <td>0.151</td>\n",
       "      <td>0.735</td>\n",
       "      <td>0.728</td>\n",
       "    </tr>\n",
       "    <tr>\n",
       "      <th rowspan=\"4\" valign=\"top\">Unsupervised</th>\n",
       "      <th>0</th>\n",
       "      <td>0.845</td>\n",
       "      <td>0.843</td>\n",
       "      <td>0.129</td>\n",
       "      <td>0.106</td>\n",
       "      <td>0.772</td>\n",
       "      <td>0.715</td>\n",
       "    </tr>\n",
       "    <tr>\n",
       "      <th>1</th>\n",
       "      <td>0.816</td>\n",
       "      <td>0.798</td>\n",
       "      <td>0.180</td>\n",
       "      <td>0.135</td>\n",
       "      <td>0.731</td>\n",
       "      <td>0.617</td>\n",
       "    </tr>\n",
       "    <tr>\n",
       "      <th>Macro</th>\n",
       "      <td>0.831</td>\n",
       "      <td>0.820</td>\n",
       "      <td>0.155</td>\n",
       "      <td>0.120</td>\n",
       "      <td>0.751</td>\n",
       "      <td>0.666</td>\n",
       "    </tr>\n",
       "    <tr>\n",
       "      <th>Micro</th>\n",
       "      <td>0.834</td>\n",
       "      <td>0.821</td>\n",
       "      <td>0.154</td>\n",
       "      <td>0.131</td>\n",
       "      <td>0.735</td>\n",
       "      <td>0.680</td>\n",
       "    </tr>\n",
       "  </tbody>\n",
       "</table>\n",
       "</div>"
      ],
      "text/plain": [
       "Metric                            AUC               PPV             \\\n",
       "Model                          Global Multi-task Global Multi-task   \n",
       "Experiment Cohort type  Cohort                                       \n",
       "24 hours   Careunits    CCU     0.841      0.821  0.179      0.136   \n",
       "                        CSRU    0.895      0.893  0.118      0.103   \n",
       "                        MICU    0.806      0.809  0.222      0.217   \n",
       "                        SICU    0.819      0.779  0.180      0.152   \n",
       "                        TSICU   0.830      0.825  0.117      0.161   \n",
       "                        Macro   0.838      0.826  0.163      0.154   \n",
       "                        Micro   0.843      0.835  0.178      0.177   \n",
       "           Unsupervised 0       0.855      0.849  0.260      0.246   \n",
       "                        1       0.827      0.821  0.169      0.169   \n",
       "                        2       0.845      0.839  0.052      0.041   \n",
       "                        Macro   0.842      0.837  0.160      0.152   \n",
       "                        Micro   0.843      0.837  0.178      0.174   \n",
       "48 hours   Careunits    CCU     0.806      0.806  0.168      0.164   \n",
       "                        CSRU    0.913      0.885  0.053      0.043   \n",
       "                        MICU    0.809      0.808  0.180      0.163   \n",
       "                        SICU    0.814      0.835  0.160      0.160   \n",
       "                        TSICU   0.805      0.801  0.118      0.105   \n",
       "                        Macro   0.829      0.827  0.136      0.127   \n",
       "                        Micro   0.834      0.836  0.154      0.151   \n",
       "           Unsupervised 0       0.845      0.843  0.129      0.106   \n",
       "                        1       0.816      0.798  0.180      0.135   \n",
       "                        Macro   0.831      0.820  0.155      0.120   \n",
       "                        Micro   0.834      0.821  0.154      0.131   \n",
       "\n",
       "Metric                         Specificity             \n",
       "Model                               Global Multi-task  \n",
       "Experiment Cohort type  Cohort                         \n",
       "24 hours   Careunits    CCU          0.756      0.661  \n",
       "                        CSRU         0.893      0.876  \n",
       "                        MICU         0.671      0.660  \n",
       "                        SICU         0.696      0.629  \n",
       "                        TSICU        0.582      0.709  \n",
       "                        Macro        0.720      0.707  \n",
       "                        Micro        0.718      0.717  \n",
       "           Unsupervised 0            0.746      0.727  \n",
       "                        1            0.691      0.692  \n",
       "                        2            0.712      0.629  \n",
       "                        Macro        0.716      0.683  \n",
       "                        Micro        0.718      0.711  \n",
       "48 hours   Careunits    CCU          0.739      0.732  \n",
       "                        CSRU         0.826      0.783  \n",
       "                        MICU         0.676      0.633  \n",
       "                        SICU         0.728      0.727  \n",
       "                        TSICU        0.678      0.635  \n",
       "                        Macro        0.729      0.702  \n",
       "                        Micro        0.735      0.728  \n",
       "           Unsupervised 0            0.772      0.715  \n",
       "                        1            0.731      0.617  \n",
       "                        Macro        0.751      0.666  \n",
       "                        Micro        0.735      0.680  "
      ]
     },
     "execution_count": 10,
     "metadata": {},
     "output_type": "execute_result"
    }
   ],
   "source": [
    "summary_a_df = metrics_global_24_unsupervised_df.reset_index()\n",
    "summary_a_df.rename(columns={'index': 'Cohort'}, inplace=True)\n",
    "summary_a_df['Cohort type'] = 'Unsupervised'\n",
    "summary_a_df['Model'] = 'Global'\n",
    "summary_a_df['Experiment'] = '24 hours'\n",
    "\n",
    "summary_b_df = metrics_global_24_careunits_df.reset_index()\n",
    "summary_b_df.rename(columns={'index': 'Cohort'}, inplace=True)\n",
    "summary_b_df['Cohort type'] = 'Careunits'\n",
    "summary_b_df['Model'] = 'Global'\n",
    "summary_b_df['Experiment'] = '24 hours'\n",
    "\n",
    "summary_c_df = metrics_mtl_24_unsupervised_df.reset_index()\n",
    "summary_c_df.rename(columns={'index': 'Cohort'}, inplace=True)\n",
    "summary_c_df['Cohort type'] = 'Unsupervised'\n",
    "summary_c_df['Model'] = 'Multi-task'\n",
    "summary_c_df['Experiment'] = '24 hours'\n",
    "\n",
    "summary_d_df = metrics_mtl_24_careunits_df.reset_index()\n",
    "summary_d_df.rename(columns={'index': 'Cohort'}, inplace=True)\n",
    "summary_d_df['Cohort type'] = 'Careunits'\n",
    "summary_d_df['Model'] = 'Multi-task'\n",
    "summary_d_df['Experiment'] = '24 hours'\n",
    "\n",
    "summary_24_df = pd.concat([summary_a_df, summary_b_df, summary_c_df, summary_d_df])\n",
    "\n",
    "summary_e_df = metrics_global_48_unsupervised_df.reset_index()\n",
    "summary_e_df.rename(columns={'index': 'Cohort'}, inplace=True)\n",
    "summary_e_df['Cohort type'] = 'Unsupervised'\n",
    "summary_e_df['Model'] = 'Global'\n",
    "summary_e_df['Experiment'] = '48 hours'\n",
    "\n",
    "summary_f_df = metrics_global_48_careunits_df.reset_index()\n",
    "summary_f_df.rename(columns={'index': 'Cohort'}, inplace=True)\n",
    "summary_f_df['Cohort type'] = 'Careunits'\n",
    "summary_f_df['Model'] = 'Global'\n",
    "summary_f_df['Experiment'] = '48 hours'\n",
    "\n",
    "summary_g_df = metrics_mtl_48_unsupervised_df.reset_index()\n",
    "summary_g_df.rename(columns={'index': 'Cohort'}, inplace=True)\n",
    "summary_g_df['Cohort type'] = 'Unsupervised'\n",
    "summary_g_df['Model'] = 'Multi-task'\n",
    "summary_g_df['Experiment'] = '48 hours'\n",
    "\n",
    "summary_h_df = metrics_mtl_48_careunits_df.reset_index()\n",
    "summary_h_df.rename(columns={'index': 'Cohort'}, inplace=True)\n",
    "summary_h_df['Cohort type'] = 'Careunits'\n",
    "summary_h_df['Model'] = 'Multi-task'\n",
    "summary_h_df['Experiment'] = '48 hours'\n",
    "\n",
    "summary_48_df = pd.concat([summary_e_df, summary_f_df, summary_g_df, summary_h_df])\n",
    "\n",
    "summary_df = pd.concat([summary_24_df, summary_48_df])\n",
    "\n",
    "# This is a trick using a categorical data type to have Macro and Micro after Cohort names while displaying\n",
    "from pandas.api.types import CategoricalDtype\n",
    "cohort = CategoricalDtype(['0', '1', '2', 'CCU', 'CSRU', 'MICU', 'SICU', 'TSICU', 'Macro', 'Micro'], ordered=True)\n",
    "summary_df['Cohort'] = summary_df['Cohort'].astype(cohort)\n",
    "\n",
    "summary_df = pd.melt(summary_df, id_vars=['Cohort', 'Cohort type', 'Model', 'Experiment'], var_name='Metric')\n",
    "summary_df = summary_df.set_index(['Experiment', 'Cohort type', 'Cohort'])\n",
    "summary_df = summary_df.pivot(columns=['Metric', 'Model'], values='value')\n",
    "summary_df = summary_df.round(3)\n",
    "summary_df"
   ]
  },
  {
   "cell_type": "markdown",
   "id": "d78d4117-f1f1-4d75-aead-36a9c740e9ae",
   "metadata": {},
   "source": [
    "### 3.2. Predictions with Bootstrapping"
   ]
  },
  {
   "cell_type": "markdown",
   "id": "da524a9c-1d6f-4d2d-b37d-2e0ef4c369b3",
   "metadata": {},
   "source": [
    "In this section all in-hospital mortality predictions across the two models, global and multi-task learning, and across the two experiments, 24 hours and 48 hours, are calculated for the three metrics; AUC, PPV (precision) @80% sensitivity, and Specificity @80% sensitivity; using 100 bootstrapped samples of the test set (20% of the original dataset). The results will be metrics (AUC, PPV, and Specificity) for each bootstrapped sample. This will allow the comparison between the global model and the multi-task learning model using the Wilcoxon signed-rank test as indicated in the paper."
   ]
  },
  {
   "cell_type": "markdown",
   "id": "28906d07-2252-4ee3-b4c0-536add086263",
   "metadata": {},
   "source": [
    "#### 3.2.1. In-Hospital Mortality Prediction – Baseline (*Global*) Model at 24 Hours"
   ]
  },
  {
   "cell_type": "markdown",
   "id": "d52a1bcc-c348-4d61-9ecf-0ee3ab219132",
   "metadata": {},
   "source": [
    "Let's first run the mortality prediction task using the *global* model (baseline) in the 24 hour experiment setting. In this experiment, the cutoff period is 24 hours and the gap period is 12 hours, meaning model can only feed from patient data collected during the first 24 hours of the ICU stay, and predict mortality 36 hours after patient goes into the ICU to avoid label leakage. Since we are enabling bootstrapping, we will repeat same experiment with 100 bootstrapped samples from the test dataset. In terms of the cohort type, let's go with careunits first:"
   ]
  },
  {
   "cell_type": "code",
   "execution_count": null,
   "id": "7eacb099-b8b7-46c2-9d5b-b7bb024edf02",
   "metadata": {},
   "outputs": [],
   "source": [
    "%%time\n",
    "\n",
    "from mtl_patients_ablation import run_mortality_prediction_task\n",
    "\n",
    "metrics_global_24_careunits_btstrp_df = run_mortality_prediction_task(model_type='global', cutoff_hours=24, gap_hours=12, cohort_criteria_to_select='careunits', bootstrap=True,save_to_folder='../data/ablation_data/',)"
   ]
  },
  {
   "cell_type": "code",
   "execution_count": null,
   "id": "f519ff41-0303-4a3f-9ad1-2fd486509878",
   "metadata": {},
   "outputs": [],
   "source": [
    "pd.options.display.max_rows = 20\n",
    "metrics_global_24_careunits_btstrp_df.round(3)"
   ]
  },
  {
   "cell_type": "markdown",
   "id": "b2d00a05-ff33-4b9b-bc34-3b6070b65a9f",
   "metadata": {},
   "source": [
    "Now, let's repeat the prediction task but this time using the groups fetched in an unsupervised way from step 1 proposed by the authors in the paper:"
   ]
  },
  {
   "cell_type": "code",
   "execution_count": null,
   "id": "789dbf10-6372-4855-980a-c4bd0a90c4cb",
   "metadata": {},
   "outputs": [],
   "source": [
    "%%time\n",
    "metrics_global_24_unsupervised_btstrp_df = run_mortality_prediction_task(model_type='global', cutoff_hours=24, gap_hours=12, bootstrap=True,\n",
    "                                                                         cohort_criteria_to_select='unsupervised', cohort_unsupervised_filename='../data/unsupervised_clusters_lab_abl_24.npy',save_to_folder='../data/ablation_data/',)"
   ]
  },
  {
   "cell_type": "code",
   "execution_count": null,
   "id": "bcdbd97a-6b01-472b-9461-0277692f0082",
   "metadata": {},
   "outputs": [],
   "source": [
    "metrics_global_24_unsupervised_btstrp_df.round(3)"
   ]
  },
  {
   "cell_type": "markdown",
   "id": "56092fc4-a347-4c32-95f8-2cf8adb4f327",
   "metadata": {},
   "source": [
    "#### 3.2.2. In-Hospital Mortality Prediction – Baseline (*Global*) Model at 48 Hours"
   ]
  },
  {
   "cell_type": "markdown",
   "id": "3accb4e8-3f96-4063-8849-71d30d185cea",
   "metadata": {},
   "source": [
    "Let's first run the mortality prediction task using the *global* model (baseline) in the 48 hour experiment setting. In this experiment, the cutoff period is 48 hours and the gap period is 24 hours, meaning model can only feed from patient data collected during the first 48 hours of the ICU stay, and predict mortality 72 hours after patient goes into the ICU to avoid label leakage. Since we are enabling bootstrapping, we will repeat same experiment with 100 bootstrapped samples from the test dataset. In terms of the cohort type, let's go with careunits first:"
   ]
  },
  {
   "cell_type": "code",
   "execution_count": null,
   "id": "68686cb0-0a61-4954-91eb-7d5c7d9bbe68",
   "metadata": {},
   "outputs": [],
   "source": [
    "%%time\n",
    "\n",
    "from mtl_patients_ablation import run_mortality_prediction_task\n",
    "\n",
    "metrics_global_48_careunits_btstrp_df = run_mortality_prediction_task(model_type='global', cutoff_hours=48, gap_hours=24, cohort_criteria_to_select='careunits', bootstrap=True,save_to_folder='../data/ablation_data/',)"
   ]
  },
  {
   "cell_type": "code",
   "execution_count": null,
   "id": "83a848db-4c42-45d5-89ed-d0603701a89f",
   "metadata": {},
   "outputs": [],
   "source": [
    "metrics_global_48_careunits_btstrp_df.round(3)"
   ]
  },
  {
   "cell_type": "markdown",
   "id": "6be9e943-618b-4010-9fa6-10339220dbbc",
   "metadata": {},
   "source": [
    "Now, let's repeat the prediction task but this time using the groups fetched in an unsupervised way from step 1 proposed by the authors in the paper:"
   ]
  },
  {
   "cell_type": "code",
   "execution_count": null,
   "id": "7abe3ccf-459a-44b7-b5a4-3d5e838ada71",
   "metadata": {},
   "outputs": [],
   "source": [
    "%%time\n",
    "metrics_global_48_unsupervised_btstrp_df = run_mortality_prediction_task(model_type='global', cutoff_hours=48, gap_hours=24, bootstrap=True,\n",
    "                                                                         cohort_criteria_to_select='unsupervised', cohort_unsupervised_filename='../data/unsupervised_clusters_lab_abl_48.npy',save_to_folder='../data/ablation_data/',)"
   ]
  },
  {
   "cell_type": "code",
   "execution_count": null,
   "id": "2eef1616-574a-4e3f-a645-81ec956b75a4",
   "metadata": {},
   "outputs": [],
   "source": [
    "metrics_global_48_unsupervised_btstrp_df.round(3)"
   ]
  },
  {
   "cell_type": "markdown",
   "id": "31079b1d-28fd-4a67-9613-f188139cf2f5",
   "metadata": {},
   "source": [
    "#### 3.2.3. In-Hospital Mortality Prediction – Multi-Task Learning Model at 24 Hours"
   ]
  },
  {
   "cell_type": "markdown",
   "id": "1f3a6085-32a9-411a-82be-a1a48894c36d",
   "metadata": {},
   "source": [
    "Let's now run the mortality prediction task using the multi-task learning model in the 24 hour experiment setting. In this experiment, the cutoff period is 24 hours and the gap period is 12 hours, meaning model can only feed from patient data collected during the first 24 hours of the ICU stay, and predict mortality 36 hours after patient goes into the ICU to avoid label leakage. Since we are enabling bootstrapping, we will repeat same experiment with 100 bootstrapped samples from the test dataset. In terms of the cohort type, let's go with careunits first:"
   ]
  },
  {
   "cell_type": "code",
   "execution_count": null,
   "id": "6b3358dc-8459-4225-abfe-841a8db5b496",
   "metadata": {},
   "outputs": [],
   "source": [
    "%%time\n",
    "\n",
    "from mtl_patients_ablation import run_mortality_prediction_task\n",
    "\n",
    "metrics_mtl_24_careunits_btstrp_df = run_mortality_prediction_task(model_type='multitask', cutoff_hours=24, gap_hours=12, cohort_criteria_to_select='careunits', bootstrap=True,save_to_folder='../data/ablation_data/',)"
   ]
  },
  {
   "cell_type": "code",
   "execution_count": null,
   "id": "6ef88acf-1368-465d-80b4-79da55c24be2",
   "metadata": {},
   "outputs": [],
   "source": [
    "metrics_mtl_24_careunits_btstrp_df.round(3)"
   ]
  },
  {
   "cell_type": "markdown",
   "id": "cf00efa1-fc2a-4a82-b443-4b4ced5f7f74",
   "metadata": {},
   "source": [
    "Now, let's repeat the prediction task but this time using the groups fetched in an unsupervised way from step 1 proposed by the authors in the paper:"
   ]
  },
  {
   "cell_type": "code",
   "execution_count": null,
   "id": "25c8284e-e848-4c66-8217-e33f9badb079",
   "metadata": {},
   "outputs": [],
   "source": [
    "%%time\n",
    "metrics_mtl_24_unsupervised_btstrp_df = run_mortality_prediction_task(model_type='multitask', cutoff_hours=24, gap_hours=12, bootstrap=True,\n",
    "                                                                      cohort_criteria_to_select='unsupervised', cohort_unsupervised_filename='../data/unsupervised_clusters_lab_abl_24.npy',save_to_folder='../data/ablation_data/',)"
   ]
  },
  {
   "cell_type": "code",
   "execution_count": null,
   "id": "bfd74593-7bef-48c1-ba78-c6114a5ea6b0",
   "metadata": {},
   "outputs": [],
   "source": [
    "metrics_mtl_24_unsupervised_btstrp_df.round(3)"
   ]
  },
  {
   "cell_type": "markdown",
   "id": "be47950f-79a4-46dd-be35-eb507ab49919",
   "metadata": {},
   "source": [
    "#### 3.2.4. In-Hospital Mortality Prediction – Multi-Task Learning Model at 48 Hours"
   ]
  },
  {
   "cell_type": "markdown",
   "id": "a54117e8-1461-418a-a35b-1048330b785a",
   "metadata": {},
   "source": [
    "Let's now run the mortality prediction task using the multi-task learning model in the 48 hour experiment setting. In this experiment, the cutoff period is 48 hours and the gap period is 24 hours, meaning model can only feed from patient data collected during the first 48 hours of the ICU stay, and predict mortality 72 hours after patient goes into the ICU to avoid label leakage. Since we are enabling bootstrapping, we will repeat same experiment with 100 bootstrapped samples from the test dataset. In terms of the cohort type, let's go with careunits first:"
   ]
  },
  {
   "cell_type": "code",
   "execution_count": null,
   "id": "d93df0b5-c5c1-42bb-82c5-9ce091d30020",
   "metadata": {},
   "outputs": [],
   "source": [
    "%%time\n",
    "\n",
    "from mtl_patients_ablation import run_mortality_prediction_task\n",
    "\n",
    "metrics_mtl_48_careunits_btstrp_df = run_mortality_prediction_task(model_type='multitask', cutoff_hours=48, gap_hours=24, cohort_criteria_to_select='careunits', bootstrap=True,save_to_folder='../data/ablation_data/',)"
   ]
  },
  {
   "cell_type": "code",
   "execution_count": null,
   "id": "650357b2-f54b-4d80-ac20-912e1b13bd7e",
   "metadata": {},
   "outputs": [],
   "source": [
    "metrics_mtl_48_careunits_btstrp_df.round(3)"
   ]
  },
  {
   "cell_type": "markdown",
   "id": "0c50268b-9d0b-4f02-9da9-e2a877883c53",
   "metadata": {},
   "source": [
    "Now, let's repeat the prediction task but this time using the groups fetched in an unsupervised way from step 1 proposed by the authors in the paper:"
   ]
  },
  {
   "cell_type": "code",
   "execution_count": null,
   "id": "ca8a3d8b-d7a7-4028-9045-f91a3952ca1f",
   "metadata": {},
   "outputs": [],
   "source": [
    "%%time\n",
    "metrics_mtl_48_unsupervised_btstrp_df = run_mortality_prediction_task(model_type='multitask', cutoff_hours=48, gap_hours=24, bootstrap=True,\n",
    "                                                                      cohort_criteria_to_select='unsupervised', cohort_unsupervised_filename='../data/unsupervised_clusters_lab_abl_48.npy',save_to_folder='../data/ablation_data/',)"
   ]
  },
  {
   "cell_type": "code",
   "execution_count": null,
   "id": "f7f1c55b-f1c6-4d58-baa5-4515ed96df77",
   "metadata": {},
   "outputs": [],
   "source": [
    "metrics_mtl_48_unsupervised_btstrp_df.round(3)"
   ]
  },
  {
   "cell_type": "markdown",
   "id": "93d467e8-64bd-4760-b740-b2ef4a81a030",
   "metadata": {},
   "source": [
    "#### 3.2.5. Summary"
   ]
  },
  {
   "cell_type": "markdown",
   "id": "be96e341-947e-478f-a0c7-dcee311bf307",
   "metadata": {},
   "source": [
    "Similar to Table 4 in paper, the dataframe below summarizes all results. Due to bootstrapping we will get 100 metric (AUC, PPV, or Specificity) values for every combination of experiment (24 hours or 48 hours), cohort type (careunits or unsupervised), and model type (global or multi-task. We will reduce that table in a next step."
   ]
  },
  {
   "cell_type": "code",
   "execution_count": null,
   "id": "6b8a245a-b426-4885-89cc-338aeb3dd619",
   "metadata": {},
   "outputs": [],
   "source": [
    "summary_a_btstrp_df = metrics_global_24_unsupervised_btstrp_df.reset_index()\n",
    "summary_a_btstrp_df.rename(columns={'index': 'Cohort'}, inplace=True)\n",
    "summary_a_btstrp_df['Cohort type'] = 'Unsupervised'\n",
    "summary_a_btstrp_df['Model'] = 'Global'\n",
    "summary_a_btstrp_df['Experiment'] = '24 hours'\n",
    "\n",
    "summary_b_btstrp_df = metrics_global_24_careunits_btstrp_df.reset_index()\n",
    "summary_b_btstrp_df.rename(columns={'index': 'Cohort'}, inplace=True)\n",
    "summary_b_btstrp_df['Cohort type'] = 'Careunits'\n",
    "summary_b_btstrp_df['Model'] = 'Global'\n",
    "summary_b_btstrp_df['Experiment'] = '24 hours'\n",
    "\n",
    "summary_c_btstrp_df = metrics_mtl_24_unsupervised_btstrp_df.reset_index()\n",
    "summary_c_btstrp_df.rename(columns={'index': 'Cohort'}, inplace=True)\n",
    "summary_c_btstrp_df['Cohort type'] = 'Unsupervised'\n",
    "summary_c_btstrp_df['Model'] = 'Multi-task'\n",
    "summary_c_btstrp_df['Experiment'] = '24 hours'\n",
    "\n",
    "summary_d_btstrp_df = metrics_mtl_24_careunits_btstrp_df.reset_index()\n",
    "summary_d_btstrp_df.rename(columns={'index': 'Cohort'}, inplace=True)\n",
    "summary_d_btstrp_df['Cohort type'] = 'Careunits'\n",
    "summary_d_btstrp_df['Model'] = 'Multi-task'\n",
    "summary_d_btstrp_df['Experiment'] = '24 hours'\n",
    "\n",
    "summary_24_btstrp_df = pd.concat([summary_a_btstrp_df, summary_b_btstrp_df, summary_c_btstrp_df, summary_d_btstrp_df])\n",
    "\n",
    "summary_e_btstrp_df = metrics_global_48_unsupervised_btstrp_df.reset_index()\n",
    "summary_e_btstrp_df.rename(columns={'index': 'Cohort'}, inplace=True)\n",
    "summary_e_btstrp_df['Cohort type'] = 'Unsupervised'\n",
    "summary_e_btstrp_df['Model'] = 'Global'\n",
    "summary_e_btstrp_df['Experiment'] = '48 hours'\n",
    "\n",
    "summary_f_btstrp_df = metrics_global_48_careunits_btstrp_df.reset_index()\n",
    "summary_f_btstrp_df.rename(columns={'index': 'Cohort'}, inplace=True)\n",
    "summary_f_btstrp_df['Cohort type'] = 'Careunits'\n",
    "summary_f_btstrp_df['Model'] = 'Global'\n",
    "summary_f_btstrp_df['Experiment'] = '48 hours'\n",
    "\n",
    "summary_g_btstrp_df = metrics_mtl_48_unsupervised_btstrp_df.reset_index()\n",
    "summary_g_btstrp_df.rename(columns={'index': 'Cohort'}, inplace=True)\n",
    "summary_g_btstrp_df['Cohort type'] = 'Unsupervised'\n",
    "summary_g_btstrp_df['Model'] = 'Multi-task'\n",
    "summary_g_btstrp_df['Experiment'] = '48 hours'\n",
    "\n",
    "summary_h_btstrp_df = metrics_mtl_48_careunits_btstrp_df.reset_index()\n",
    "summary_h_btstrp_df.rename(columns={'index': 'Cohort'}, inplace=True)\n",
    "summary_h_btstrp_df['Cohort type'] = 'Careunits'\n",
    "summary_h_btstrp_df['Model'] = 'Multi-task'\n",
    "summary_h_btstrp_df['Experiment'] = '48 hours'\n",
    "\n",
    "summary_48_btstrp_df = pd.concat([summary_e_btstrp_df, summary_f_btstrp_df, summary_g_btstrp_df, summary_h_btstrp_df])\n",
    "\n",
    "summary_btstrp_df = pd.concat([summary_24_btstrp_df, summary_48_btstrp_df])\n",
    "\n",
    "# This is a trick using a categorical data type to have Macro and Micro after Cohort names while displaying\n",
    "from pandas.api.types import CategoricalDtype\n",
    "cohort = CategoricalDtype(['0', '1', '2', 'CCU', 'CSRU', 'MICU', 'SICU', 'TSICU', 'Macro', 'Micro'], ordered=True)\n",
    "summary_btstrp_df['Cohort'] = summary_btstrp_df['Cohort'].astype(cohort)\n",
    "summary_btstrp_df = summary_btstrp_df.dropna()\n",
    "\n",
    "summary_btstrp_df = pd.melt(summary_btstrp_df, id_vars=['Cohort', 'Sample', 'Cohort type', 'Model', 'Experiment'], var_name='Metric')\n",
    "summary_btstrp_df = summary_btstrp_df.set_index(['Experiment', 'Cohort type', 'Cohort', 'Sample'])\n",
    "summary_btstrp_df = summary_btstrp_df.pivot(columns=['Metric', 'Model'], values='value')\n",
    "summary_btstrp_df = summary_btstrp_df.round(3)\n",
    "# Now summary_btstrp_df has all bootstrapped samples with right multi-indices for rows and columns!"
   ]
  },
  {
   "cell_type": "markdown",
   "id": "29dba52d-a5a5-4334-9250-1cce29f55065",
   "metadata": {},
   "source": [
    "##### 3.2.5.1. Mean values of metrics from bootstrapped samples"
   ]
  },
  {
   "cell_type": "markdown",
   "id": "30c87f18-b85e-461c-bdb4-0061f800bd91",
   "metadata": {},
   "source": [
    "Let's get the mean values of the 100 bootstrapped samples:"
   ]
  },
  {
   "cell_type": "code",
   "execution_count": null,
   "id": "404d228b-ef74-4685-bfef-9e66109445ee",
   "metadata": {},
   "outputs": [],
   "source": [
    "pd.options.display.max_rows = 999\n",
    "summary_df = summary_btstrp_df.groupby(['Experiment', 'Cohort type', 'Cohort']).mean().round(3).dropna()\n",
    "summary_df"
   ]
  },
  {
   "cell_type": "markdown",
   "id": "e67d8c9a-dfd8-402b-9657-15bc85cb0a59",
   "metadata": {},
   "source": [
    "##### 3.2.5.2 Wilcoxon Signed-Rank Test"
   ]
  },
  {
   "cell_type": "markdown",
   "id": "fdf3d152-1204-44fb-9d53-750239712492",
   "metadata": {},
   "source": [
    "Now it is time to apply the Wilcoxon Signed-Rank Test. [This video](https://www.youtube.com/watch?v=v4ZHlTbTOK8) has a very good detailed explanation of the Wilcoxon Signed-Rank Test which is a non-parametric version of the paired t-test used when there are not many samples (which is our case)."
   ]
  },
  {
   "cell_type": "code",
   "execution_count": null,
   "id": "a72dae71-aa7f-4956-b51a-ea3f51f0aa77",
   "metadata": {},
   "outputs": [],
   "source": [
    "from scipy.stats import wilcoxon\n",
    "\n",
    "def calc_wilcoxon(grp_df, what):\n",
    "    if (what == 'auc'):\n",
    "        # calculate p-value for AUC using Wilcoxon Signed Rank Test\n",
    "        x = grp_df[('AUC', 'Global')]\n",
    "        y = grp_df[('AUC', 'Multi-task')]\n",
    "        _, pvalue = wilcoxon(x, y)\n",
    "\n",
    "    if (what == 'ppv'):\n",
    "        # calculate p-value for PPV using Wilcoxon Signed Rank Test\n",
    "        x = grp_df[('PPV', 'Global')]\n",
    "        y = grp_df[('PPV', 'Multi-task')]\n",
    "        _, pvalue = wilcoxon(x, y)\n",
    "    \n",
    "    if (what == 'specificity'):\n",
    "        # calculate p-value for AUC using Wilcoxon Signed=Rank Test\n",
    "        x = grp_df[('Specificity', 'Global')]\n",
    "        y = grp_df[('Specificity', 'Multi-task')]\n",
    "        _, pvalue = wilcoxon(x, y)\n",
    "\n",
    "    return pvalue"
   ]
  },
  {
   "cell_type": "code",
   "execution_count": null,
   "id": "a373080a-62b1-47a2-ae13-bd5dd3433e7e",
   "metadata": {},
   "outputs": [],
   "source": [
    "summary_df.loc[:, ('AUC', 'p-value')] = summary_btstrp_df.groupby(['Experiment', 'Cohort type', 'Cohort']).apply(calc_wilcoxon, what='auc')\n",
    "summary_df.loc[:, ('PPV', 'p-value')] = summary_btstrp_df.groupby(['Experiment', 'Cohort type', 'Cohort']).apply(calc_wilcoxon, what='ppv')\n",
    "summary_df.loc[:, ('Specificity', 'p-value')] = summary_btstrp_df.groupby(['Experiment', 'Cohort type', 'Cohort']).apply(calc_wilcoxon, what='specificity')\n",
    "cols = [('AUC', 'Global'), ('AUC', 'Multi-task'), ('AUC', 'p-value'),\n",
    "        ('PPV', 'Global'), ('PPV', 'Multi-task'), ('PPV', 'p-value'),\n",
    "        ('Specificity', 'Global'), ('Specificity', 'Multi-task'), ('Specificity', 'p-value')]\n",
    "summary_df = summary_df[cols]\n",
    "summary_df"
   ]
  },
  {
   "cell_type": "markdown",
   "id": "c7f9db64-0ea1-430f-bd7c-ad92c01d52d7",
   "metadata": {},
   "source": [
    "End time"
   ]
  },
  {
   "cell_type": "code",
   "execution_count": null,
   "id": "3bcc3686-2ce2-49db-be67-fb2d5b218ceb",
   "metadata": {},
   "outputs": [],
   "source": [
    "# store/print end time to measure runtime\n",
    "endtime = datetime.now().strftime(\"%d/%m/%Y %H:%M:%S\")\n",
    "print(f'End time: {endtime}')\n",
    "\n",
    "# store/print run time\n",
    "print(f'This run took {endtime - starttime} hours:min:sec to run')"
   ]
  }
 ],
 "metadata": {
  "kernelspec": {
   "display_name": "Python 3 (ipykernel)",
   "language": "python",
   "name": "python3"
  },
  "language_info": {
   "codemirror_mode": {
    "name": "ipython",
    "version": 3
   },
   "file_extension": ".py",
   "mimetype": "text/x-python",
   "name": "python",
   "nbconvert_exporter": "python",
   "pygments_lexer": "ipython3",
   "version": "3.9.16"
  },
  "toc-autonumbering": false,
  "toc-showcode": false,
  "toc-showmarkdowntxt": false,
  "toc-showtags": false
 },
 "nbformat": 4,
 "nbformat_minor": 5
}
