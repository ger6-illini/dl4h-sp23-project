{
 "cells": [
  {
   "cell_type": "markdown",
   "id": "652e22f4",
   "metadata": {},
   "source": [
    "<h1><center>CS598 Deep Learning for Healthcare Spring 2023<br>Paper Reproduction Project</center></h1>"
   ]
  },
  {
   "cell_type": "markdown",
   "id": "5ee5cbba",
   "metadata": {},
   "source": [
    "<h3><center>Gilberto Ramirez and Jay Kakwani<br><span style=\"font-family:monospace;\">{ger6, kakwani2}@illinois.edu</span><br><font color=\"lightgrey\">Group ID: 27 | Paper ID: 181</font></center></h3>"
   ]
  },
  {
   "cell_type": "markdown",
   "id": "77e806a3-50ce-4a02-aabc-83b3004868d1",
   "metadata": {},
   "source": [
    "### Ablation Study :  18 hours (cutoff period) + 9 hours (gap period)\n",
    "\n",
    "In this ablation study, we will process and run ablation for 18 hour ICU Stay. "
   ]
  },
  {
   "cell_type": "markdown",
   "id": "612cc966",
   "metadata": {},
   "source": [
    "In this project, we aim to reproduce the paper [*Learning Task for Multitask Learning: Heterogeneous Patient Populations in the ICU* by (Suresh et al, 2018)](https://arxiv.org/abs/1806.02878). In this paper, the authors propose a novel two-step pipeline to predict in-hospital mortality across patient populations with different characteristics. The first step of the pipeline divides patients into relevant non-overlapping cohorts in an unsupervised way using a long short-term memory (LSTM) autoencoder followed by a Gaussian Mixture Model (GMM). The second step of the pipeline predicts in-hospital mortality for each patient cohort identified in the previous step using an LSTM based multi-task learning model where every cohort is considered a different task.\n",
    "The paper claims that by applying this pipeline there will be better predictive results when compared to a model applied to the aggregate population using a single task learning model. According to the authors, the better performance given by this pipeline is due to the combination of a multi-task learning model leveraging shared knowledge across distinct patient groups and the way how those groups were created, i.e., identification using a data-driven method rather than relying on domain knowledge or auxiliary labels."
   ]
  },
  {
   "cell_type": "markdown",
   "id": "413e318a",
   "metadata": {},
   "source": [
    "## 1. Data"
   ]
  },
  {
   "cell_type": "markdown",
   "id": "eb58470c",
   "metadata": {},
   "source": [
    "This paper uses the publicly available [MIMIC-III database](https://www.nature.com/articles/sdata201635) which contains clinical data in a critical care setting. After reviewing the paper in detail, we decided to use [MIMIC-Extract](https://arxiv.org/abs/1907.08322), an open source pipeline by (Wang et al., 2020) for transforming the raw EHR data into usable [Pandas](https://pandas.pydata.org/) dataframes containing hourly time series of vitals and laboratory measurements after performing unit conversion, outlier handling, and aggregation of semantically similar features.\n",
    "\n",
    "Unfortunately, the MIMIC-Extract pipeline misses two features the [paper code](https://github.com/mit-caml/multitask-patients) makes use of:\n",
    "* `timecmo_chart` which indicates the timestamp of a patient after being declared in CMO (Comfort Measures Only) state. This feature comes from a MIMIC-III concept table called `code_status`.\n",
    "* `sapsii` which contains the SAPS (Simplified Acute Physiology Score) II for the patient. This feature comes from another MIMIC-III concept table called `sapsii`.\n",
    "\n",
    "As a result, there are three data files needed to run this notebook:\n",
    "* `all_hourly_data.h5`, an HDF file resulting from running the MIMIC-Extract pipeline which is publicly available in GCP using [this link](https://console.cloud.google.com/storage/browser/mimic_extract) and referenced in the [MIMIC-Extract github repo](https://github.com/MLforHealth/MIMIC_Extract).\n",
    "* `code_status.csv`, a CSV file holding the MIMIC concept table `CODE_STATUS` that can be generated following the instructions in [this link within the MIT-LCP github repo](https://github.com/MIT-LCP/mimic-code/tree/main/mimic-iii/concepts#generating-the-concepts-in-postgresql).\n",
    "* `sapsii.csv`, a CSV file holding the MIMIC concept table `SAPSII` that can be generated following the instructions in [this link within the MIT-LCP github repo](https://github.com/MIT-LCP/mimic-code/tree/main/mimic-iii/concepts#generating-the-concepts-in-postgresql).\n",
    "\n",
    "The functions used in this notebook assume the three files listed above are in the folder `../data/` by default. However, location can be changed using arguments to the functions that process the data.\n",
    "\n",
    "All code needed to replicate the paper is in [our github repo](https://github.com/ger6-illini/dl4h-sp23-team27-project) inside a Python module called `mtl_patients`.\n",
    "\n",
    "The first function from that module we will start using is `get_summaries()`. This function returns three summaries as dataframes:\n",
    "1. A summary providing some statistics of all patients broken by careunit.\n",
    "2. A summary providing some statistics of all patients broken by SAPS-II score quartile.\n",
    "3. A summary providing some statistics of the 29 distinct physiological measurements used in the paper.\n",
    "\n",
    "These summaries need two arguments to be created:\n",
    "* `cutoff_hours` (default 24) which is the minimum number of hours a patient needs to stay in the ICU to be considered part of a cohort.\n",
    "* `gap_hours` (default 12) which is the number of hours between the end of `cutoff_hours` and the moment a model can start making a mortality prediction.\n",
    "\n",
    "The importance of these two arguments is his impact in the exception criteria used in the paper. In particular, the paper:\n",
    "1. Excludes all patients that met the in-hospital mortality criteria before `cutoff period` + `gap period`.\n",
    "2. Excludes patients that were discharged before `cutoff period` + `gap period`.\n",
    "\n",
    "The in-hospital mortality criteria used in the paper is an extended one and not just considers patients who died but also patients with a CMO (Comfort Measures Only) note. That is considered in the summaries creation as well."
   ]
  },
  {
   "cell_type": "markdown",
   "id": "548f3462",
   "metadata": {},
   "source": [
    "### 1.1. Summaries, 18 hours (cutoff period) + 9 hours (gap period)"
   ]
  },
  {
   "cell_type": "markdown",
   "id": "2493677c",
   "metadata": {},
   "source": [
    "Now let's run the `get_summaries()` function with `cutoff_hours` = 18 and `gap_hours` = 9:"
   ]
  },
  {
   "cell_type": "code",
   "execution_count": 1,
   "id": "86b6c0d1-0a31-46ce-abcb-2a8c3582dec2",
   "metadata": {
    "tags": []
   },
   "outputs": [
    {
     "name": "stdout",
     "output_type": "stream",
     "text": [
      "Start time: 19/04/2023 22:42:58\n"
     ]
    }
   ],
   "source": [
    "# store/print start time to measure runtime\n",
    "from datetime import datetime\n",
    "import pytz\n",
    "starttime = datetime.now(pytz.timezone('America/New_York')).strftime(\"%d/%m/%Y %H:%M:%S\")\n",
    "print(f'Start time: {starttime}')"
   ]
  },
  {
   "cell_type": "code",
   "execution_count": 2,
   "id": "475bac15-872d-4bac-93f5-598314107b79",
   "metadata": {
    "tags": []
   },
   "outputs": [
    {
     "name": "stdout",
     "output_type": "stream",
     "text": [
      "Defaulting to user installation because normal site-packages is not writeable\n",
      "Requirement already satisfied: tables in /home/paperspace/.local/lib/python3.9/site-packages (3.8.0)\n",
      "Requirement already satisfied: packaging in /home/paperspace/.local/lib/python3.9/site-packages (from tables) (23.0)\n",
      "Requirement already satisfied: py-cpuinfo in /home/paperspace/.local/lib/python3.9/site-packages (from tables) (9.0.0)\n",
      "Requirement already satisfied: numexpr>=2.6.2 in /home/paperspace/.local/lib/python3.9/site-packages (from tables) (2.8.4)\n",
      "Requirement already satisfied: cython>=0.29.21 in /home/paperspace/.local/lib/python3.9/site-packages (from tables) (0.29.32)\n",
      "Requirement already satisfied: numpy>=1.19.0 in /home/paperspace/.local/lib/python3.9/site-packages (from tables) (1.23.2)\n",
      "Requirement already satisfied: blosc2~=2.0.0 in /home/paperspace/.local/lib/python3.9/site-packages (from tables) (2.0.0)\n",
      "Requirement already satisfied: msgpack in /home/paperspace/.local/lib/python3.9/site-packages (from blosc2~=2.0.0->tables) (1.0.5)\n",
      "\n",
      "\u001b[1m[\u001b[0m\u001b[34;49mnotice\u001b[0m\u001b[1;39;49m]\u001b[0m\u001b[39;49m A new release of pip available: \u001b[0m\u001b[31;49m22.3.1\u001b[0m\u001b[39;49m -> \u001b[0m\u001b[32;49m23.1\u001b[0m\n",
      "\u001b[1m[\u001b[0m\u001b[34;49mnotice\u001b[0m\u001b[1;39;49m]\u001b[0m\u001b[39;49m To update, run: \u001b[0m\u001b[32;49mpython3.9 -m pip install --upgrade pip\u001b[0m\n"
     ]
    }
   ],
   "source": [
    "# install `pytables` using `pip` if running from Paperspace since TensorFlow image does not have it\n",
    "!pip install tables"
   ]
  },
  {
   "cell_type": "code",
   "execution_count": 3,
   "id": "2d024700",
   "metadata": {
    "tags": []
   },
   "outputs": [],
   "source": [
    "%load_ext autoreload\n",
    "%autoreload 2\n",
    "\n",
    "import numpy as np\n",
    "import pandas as pd\n",
    "\n",
    "import sys\n",
    "pathname = \"../code/\"\n",
    "if pathname not in sys.path:\n",
    "    sys.path.append(\"../code/\")\n",
    "pd.options.display.max_rows = 999\n",
    "\n",
    "from mtl_patients import get_summaries\n",
    "from mtl_patients import discover_cohorts\n",
    "from mtl_patients import run_mortality_prediction_task"
   ]
  },
  {
   "cell_type": "code",
   "execution_count": 4,
   "id": "e04a5c55",
   "metadata": {
    "tags": []
   },
   "outputs": [
    {
     "name": "stdout",
     "output_type": "stream",
     "text": [
      "Start Cell Execution at : 19/04/2023 22:43:40\n",
      "++++++++++++++++++++++++++++++++++++++++++++++++++++++++++++++++++++++++++++++++\n",
      "Creating summaries\n",
      "--------------------------------------------------------------------------------\n",
      "    Loading data from MIMIC-Extract pipeline...\n",
      "    Adding SAPS II score to static dataset...\n",
      "    Adding mortality columns to static dataset...\n",
      "    Merging dataframes to create X_full...\n",
      "    Creating summary by careunit...\n",
      "    Creating summary by SAPS II score quartile...\n",
      "    Creating summary by vitals/labs...\n",
      "    Done!\n",
      "CPU times: user 8.27 s, sys: 3.33 s, total: 11.6 s\n",
      "Wall time: 11.7 s\n"
     ]
    }
   ],
   "source": [
    "%%time\n",
    "cell_execution_time = datetime.now(pytz.timezone('America/New_York')).strftime(\"%d/%m/%Y %H:%M:%S\")\n",
    "print(f'Start Cell Execution at : {cell_execution_time}')\n",
    "pat_summ_18_by_cu_df, pat_summ_18_by_sapsiiq_df, vitals_labs_summ_18_df = get_summaries(cutoff_hours=18, gap_hours=9)"
   ]
  },
  {
   "cell_type": "markdown",
   "id": "12bcc93e",
   "metadata": {},
   "source": [
    "Let's now display the resulting summaries one at a time."
   ]
  },
  {
   "cell_type": "markdown",
   "id": "48b48560",
   "metadata": {},
   "source": [
    "#### 1.1.1. Data summary by patients in each intensive care unit (ICU)"
   ]
  },
  {
   "cell_type": "code",
   "execution_count": 5,
   "id": "451bdc7a",
   "metadata": {
    "tags": []
   },
   "outputs": [
    {
     "data": {
      "text/html": [
       "<div>\n",
       "<style scoped>\n",
       "    .dataframe tbody tr th:only-of-type {\n",
       "        vertical-align: middle;\n",
       "    }\n",
       "\n",
       "    .dataframe tbody tr th {\n",
       "        vertical-align: top;\n",
       "    }\n",
       "\n",
       "    .dataframe thead th {\n",
       "        text-align: right;\n",
       "    }\n",
       "</style>\n",
       "<table border=\"1\" class=\"dataframe\">\n",
       "  <thead>\n",
       "    <tr style=\"text-align: right;\">\n",
       "      <th></th>\n",
       "      <th>N</th>\n",
       "      <th>n</th>\n",
       "      <th>Class Imbalance</th>\n",
       "      <th>Age (Mean)</th>\n",
       "      <th>Gender (Male)</th>\n",
       "    </tr>\n",
       "    <tr>\n",
       "      <th>Careunit</th>\n",
       "      <th></th>\n",
       "      <th></th>\n",
       "      <th></th>\n",
       "      <th></th>\n",
       "      <th></th>\n",
       "    </tr>\n",
       "  </thead>\n",
       "  <tbody>\n",
       "    <tr>\n",
       "      <th>CCU</th>\n",
       "      <td>5030</td>\n",
       "      <td>365</td>\n",
       "      <td>0.073</td>\n",
       "      <td>82.40</td>\n",
       "      <td>0.58</td>\n",
       "    </tr>\n",
       "    <tr>\n",
       "      <th>CSRU</th>\n",
       "      <td>7001</td>\n",
       "      <td>151</td>\n",
       "      <td>0.022</td>\n",
       "      <td>69.50</td>\n",
       "      <td>0.67</td>\n",
       "    </tr>\n",
       "    <tr>\n",
       "      <th>MICU</th>\n",
       "      <td>11636</td>\n",
       "      <td>1205</td>\n",
       "      <td>0.104</td>\n",
       "      <td>77.75</td>\n",
       "      <td>0.51</td>\n",
       "    </tr>\n",
       "    <tr>\n",
       "      <th>SICU</th>\n",
       "      <td>5271</td>\n",
       "      <td>443</td>\n",
       "      <td>0.084</td>\n",
       "      <td>72.64</td>\n",
       "      <td>0.52</td>\n",
       "    </tr>\n",
       "    <tr>\n",
       "      <th>TSICU</th>\n",
       "      <td>4324</td>\n",
       "      <td>315</td>\n",
       "      <td>0.073</td>\n",
       "      <td>67.16</td>\n",
       "      <td>0.60</td>\n",
       "    </tr>\n",
       "    <tr>\n",
       "      <th>Overall</th>\n",
       "      <td>33262</td>\n",
       "      <td>2479</td>\n",
       "      <td>0.075</td>\n",
       "      <td>74.53</td>\n",
       "      <td>0.57</td>\n",
       "    </tr>\n",
       "  </tbody>\n",
       "</table>\n",
       "</div>"
      ],
      "text/plain": [
       "              N     n  Class Imbalance  Age (Mean)  Gender (Male)\n",
       "Careunit                                                         \n",
       "CCU        5030   365            0.073       82.40           0.58\n",
       "CSRU       7001   151            0.022       69.50           0.67\n",
       "MICU      11636  1205            0.104       77.75           0.51\n",
       "SICU       5271   443            0.084       72.64           0.52\n",
       "TSICU      4324   315            0.073       67.16           0.60\n",
       "Overall   33262  2479            0.075       74.53           0.57"
      ]
     },
     "execution_count": 5,
     "metadata": {},
     "output_type": "execute_result"
    }
   ],
   "source": [
    "pat_summ_18_by_cu_df"
   ]
  },
  {
   "cell_type": "markdown",
   "id": "f3dff829",
   "metadata": {},
   "source": [
    "In the previous summary, patients were broken in groups where each group is one of five careunits where patients were first admitted:\n",
    "* CCU: Coronary Care Unit\n",
    "* CSRU: Cardiac Surgery Recovery Unit\n",
    "* MICU: Medical Intensive Care Unit\n",
    "* SICU: Surgical Intensive Care Unit\n",
    "* TSICU: Trauma Surgical Intensive Care Unit\n",
    "\n",
    "In addition, an overall group was also added. The statistics provided by the summary are:\n",
    "* `N`: The number of samples (patients) in the group.\n",
    "* `n`: The number of samples (patients) meeting the in-hospital mortality criteria defined in the paper: patient died or had a note of \"Do Not Resuscitate\" (DNR) or had a note of \"Comfort Measures Only\" (CMO).\n",
    "* `Class Imbalance`: Ratio of patients meeting the in-hospital mortality criteria defined in the paper, i.e., $\\dfrac{\\text{n}}{\\text{N}}$.\n",
    "* `Age (Mean)`: Mean age of patients for each group in years.\n",
    "* `Gender (Male)`: Ratio of patients that are males.\n",
    "\n",
    "This summary was prepared to match Table 1 in the original paper. There are differences between both that can be attributed to the way how data was preprocessed by MIMIC-Extract when compared to the preprocessing done by the authors back in 2018, before MIMIC-Extract became available, and that was not made available by the authors in [their code](https://github.com/mit-caml/multitask-patients)."
   ]
  },
  {
   "cell_type": "markdown",
   "id": "9f1a8e12",
   "metadata": {},
   "source": [
    "#### 1.1.2. Data summary by patients in each SAPS-II score quartile"
   ]
  },
  {
   "cell_type": "code",
   "execution_count": 6,
   "id": "2d1474f4",
   "metadata": {
    "tags": []
   },
   "outputs": [
    {
     "data": {
      "text/html": [
       "<div>\n",
       "<style scoped>\n",
       "    .dataframe tbody tr th:only-of-type {\n",
       "        vertical-align: middle;\n",
       "    }\n",
       "\n",
       "    .dataframe tbody tr th {\n",
       "        vertical-align: top;\n",
       "    }\n",
       "\n",
       "    .dataframe thead th {\n",
       "        text-align: right;\n",
       "    }\n",
       "</style>\n",
       "<table border=\"1\" class=\"dataframe\">\n",
       "  <thead>\n",
       "    <tr style=\"text-align: right;\">\n",
       "      <th></th>\n",
       "      <th>N</th>\n",
       "      <th>n</th>\n",
       "      <th>Class Imbalance</th>\n",
       "      <th>Age (Mean)</th>\n",
       "      <th>Gender (Male)</th>\n",
       "      <th>SAPS II (Min)</th>\n",
       "      <th>SAPS II (Mean)</th>\n",
       "      <th>SAPS II (Max)</th>\n",
       "    </tr>\n",
       "    <tr>\n",
       "      <th>SAPS II Quartile</th>\n",
       "      <th></th>\n",
       "      <th></th>\n",
       "      <th></th>\n",
       "      <th></th>\n",
       "      <th></th>\n",
       "      <th></th>\n",
       "      <th></th>\n",
       "      <th></th>\n",
       "    </tr>\n",
       "  </thead>\n",
       "  <tbody>\n",
       "    <tr>\n",
       "      <th>0</th>\n",
       "      <td>7280</td>\n",
       "      <td>64</td>\n",
       "      <td>0.009</td>\n",
       "      <td>45.67</td>\n",
       "      <td>0.61</td>\n",
       "      <td>0</td>\n",
       "      <td>16.60</td>\n",
       "      <td>22</td>\n",
       "    </tr>\n",
       "    <tr>\n",
       "      <th>1</th>\n",
       "      <td>10170</td>\n",
       "      <td>271</td>\n",
       "      <td>0.027</td>\n",
       "      <td>68.87</td>\n",
       "      <td>0.58</td>\n",
       "      <td>23</td>\n",
       "      <td>27.74</td>\n",
       "      <td>32</td>\n",
       "    </tr>\n",
       "    <tr>\n",
       "      <th>2</th>\n",
       "      <td>8201</td>\n",
       "      <td>575</td>\n",
       "      <td>0.070</td>\n",
       "      <td>86.57</td>\n",
       "      <td>0.55</td>\n",
       "      <td>33</td>\n",
       "      <td>36.72</td>\n",
       "      <td>41</td>\n",
       "    </tr>\n",
       "    <tr>\n",
       "      <th>3</th>\n",
       "      <td>7611</td>\n",
       "      <td>1569</td>\n",
       "      <td>0.206</td>\n",
       "      <td>96.74</td>\n",
       "      <td>0.54</td>\n",
       "      <td>42</td>\n",
       "      <td>51.58</td>\n",
       "      <td>118</td>\n",
       "    </tr>\n",
       "    <tr>\n",
       "      <th>Overall</th>\n",
       "      <td>33262</td>\n",
       "      <td>2479</td>\n",
       "      <td>0.075</td>\n",
       "      <td>74.53</td>\n",
       "      <td>0.57</td>\n",
       "      <td>0</td>\n",
       "      <td>32.97</td>\n",
       "      <td>118</td>\n",
       "    </tr>\n",
       "  </tbody>\n",
       "</table>\n",
       "</div>"
      ],
      "text/plain": [
       "                      N     n  Class Imbalance  Age (Mean)  Gender (Male)  \\\n",
       "SAPS II Quartile                                                            \n",
       "0                  7280    64            0.009       45.67           0.61   \n",
       "1                 10170   271            0.027       68.87           0.58   \n",
       "2                  8201   575            0.070       86.57           0.55   \n",
       "3                  7611  1569            0.206       96.74           0.54   \n",
       "Overall           33262  2479            0.075       74.53           0.57   \n",
       "\n",
       "                  SAPS II (Min)  SAPS II (Mean)  SAPS II (Max)  \n",
       "SAPS II Quartile                                                \n",
       "0                             0           16.60             22  \n",
       "1                            23           27.74             32  \n",
       "2                            33           36.72             41  \n",
       "3                            42           51.58            118  \n",
       "Overall                       0           32.97            118  "
      ]
     },
     "execution_count": 6,
     "metadata": {},
     "output_type": "execute_result"
    }
   ],
   "source": [
    "pat_summ_18_by_sapsiiq_df"
   ]
  },
  {
   "cell_type": "markdown",
   "id": "0711c274",
   "metadata": {},
   "source": [
    "In the previous summary, patients were broken based on the quartile of the SAPS-II score assigned to them. As it can be seen, the four quartiles have the ranges $[0, 22], [23, 32], [33, 41], [42, 118] $. This was included in the authors code but not in the paper. It seems the class imbalance might have been the primary reason. As it is evident from the summary, most of the patients are in quartile $3$ since they are in an ICU and is expected their values are on the high side."
   ]
  },
  {
   "cell_type": "markdown",
   "id": "c3b0959c",
   "metadata": {},
   "source": [
    "#### 1.1.3. Data summary for physiological measurements"
   ]
  },
  {
   "cell_type": "code",
   "execution_count": 7,
   "id": "2c2e18ef",
   "metadata": {
    "tags": []
   },
   "outputs": [
    {
     "data": {
      "text/html": [
       "<div>\n",
       "<style scoped>\n",
       "    .dataframe tbody tr th:only-of-type {\n",
       "        vertical-align: middle;\n",
       "    }\n",
       "\n",
       "    .dataframe tbody tr th {\n",
       "        vertical-align: top;\n",
       "    }\n",
       "\n",
       "    .dataframe thead th {\n",
       "        text-align: right;\n",
       "    }\n",
       "</style>\n",
       "<table border=\"1\" class=\"dataframe\">\n",
       "  <thead>\n",
       "    <tr style=\"text-align: right;\">\n",
       "      <th></th>\n",
       "      <th>min</th>\n",
       "      <th>avg</th>\n",
       "      <th>max</th>\n",
       "      <th>std</th>\n",
       "      <th>N</th>\n",
       "      <th>pres.</th>\n",
       "    </tr>\n",
       "    <tr>\n",
       "      <th>variable</th>\n",
       "      <th></th>\n",
       "      <th></th>\n",
       "      <th></th>\n",
       "      <th></th>\n",
       "      <th></th>\n",
       "      <th></th>\n",
       "    </tr>\n",
       "  </thead>\n",
       "  <tbody>\n",
       "    <tr>\n",
       "      <th>anion gap</th>\n",
       "      <td>5.00</td>\n",
       "      <td>13.64</td>\n",
       "      <td>50.00</td>\n",
       "      <td>3.89</td>\n",
       "      <td>180116</td>\n",
       "      <td>0.0834</td>\n",
       "    </tr>\n",
       "    <tr>\n",
       "      <th>bicarbonate</th>\n",
       "      <td>0.00</td>\n",
       "      <td>24.30</td>\n",
       "      <td>53.00</td>\n",
       "      <td>4.69</td>\n",
       "      <td>188876</td>\n",
       "      <td>0.0874</td>\n",
       "    </tr>\n",
       "    <tr>\n",
       "      <th>blood urea nitrogen</th>\n",
       "      <td>0.00</td>\n",
       "      <td>26.07</td>\n",
       "      <td>250.00</td>\n",
       "      <td>21.64</td>\n",
       "      <td>190791</td>\n",
       "      <td>0.0883</td>\n",
       "    </tr>\n",
       "    <tr>\n",
       "      <th>chloride</th>\n",
       "      <td>50.00</td>\n",
       "      <td>105.19</td>\n",
       "      <td>175.00</td>\n",
       "      <td>6.27</td>\n",
       "      <td>207455</td>\n",
       "      <td>0.0960</td>\n",
       "    </tr>\n",
       "    <tr>\n",
       "      <th>creatinine</th>\n",
       "      <td>0.10</td>\n",
       "      <td>1.39</td>\n",
       "      <td>46.60</td>\n",
       "      <td>1.48</td>\n",
       "      <td>191614</td>\n",
       "      <td>0.0887</td>\n",
       "    </tr>\n",
       "    <tr>\n",
       "      <th>diastolic blood pressure</th>\n",
       "      <td>0.00</td>\n",
       "      <td>60.95</td>\n",
       "      <td>307.00</td>\n",
       "      <td>14.09</td>\n",
       "      <td>1878856</td>\n",
       "      <td>0.8696</td>\n",
       "    </tr>\n",
       "    <tr>\n",
       "      <th>fraction inspired oxygen</th>\n",
       "      <td>0.21</td>\n",
       "      <td>0.53</td>\n",
       "      <td>1.00</td>\n",
       "      <td>0.19</td>\n",
       "      <td>96405</td>\n",
       "      <td>0.0446</td>\n",
       "    </tr>\n",
       "    <tr>\n",
       "      <th>glascow coma scale total</th>\n",
       "      <td>3.00</td>\n",
       "      <td>12.58</td>\n",
       "      <td>15.00</td>\n",
       "      <td>3.52</td>\n",
       "      <td>369777</td>\n",
       "      <td>0.1711</td>\n",
       "    </tr>\n",
       "    <tr>\n",
       "      <th>glucose</th>\n",
       "      <td>33.00</td>\n",
       "      <td>140.15</td>\n",
       "      <td>1591.00</td>\n",
       "      <td>56.60</td>\n",
       "      <td>505609</td>\n",
       "      <td>0.2340</td>\n",
       "    </tr>\n",
       "    <tr>\n",
       "      <th>heart rate</th>\n",
       "      <td>0.00</td>\n",
       "      <td>84.89</td>\n",
       "      <td>300.00</td>\n",
       "      <td>17.16</td>\n",
       "      <td>1939794</td>\n",
       "      <td>0.8978</td>\n",
       "    </tr>\n",
       "    <tr>\n",
       "      <th>hematocrit</th>\n",
       "      <td>0.00</td>\n",
       "      <td>30.99</td>\n",
       "      <td>71.70</td>\n",
       "      <td>5.32</td>\n",
       "      <td>249595</td>\n",
       "      <td>0.1155</td>\n",
       "    </tr>\n",
       "    <tr>\n",
       "      <th>hemoglobin</th>\n",
       "      <td>0.00</td>\n",
       "      <td>10.64</td>\n",
       "      <td>22.10</td>\n",
       "      <td>1.89</td>\n",
       "      <td>201568</td>\n",
       "      <td>0.0933</td>\n",
       "    </tr>\n",
       "    <tr>\n",
       "      <th>lactate</th>\n",
       "      <td>0.40</td>\n",
       "      <td>2.57</td>\n",
       "      <td>30.00</td>\n",
       "      <td>2.47</td>\n",
       "      <td>58835</td>\n",
       "      <td>0.0272</td>\n",
       "    </tr>\n",
       "    <tr>\n",
       "      <th>magnesium</th>\n",
       "      <td>0.00</td>\n",
       "      <td>2.05</td>\n",
       "      <td>20.00</td>\n",
       "      <td>0.41</td>\n",
       "      <td>177836</td>\n",
       "      <td>0.0823</td>\n",
       "    </tr>\n",
       "    <tr>\n",
       "      <th>mean blood pressure</th>\n",
       "      <td>14.00</td>\n",
       "      <td>79.44</td>\n",
       "      <td>330.00</td>\n",
       "      <td>15.43</td>\n",
       "      <td>1869606</td>\n",
       "      <td>0.8653</td>\n",
       "    </tr>\n",
       "    <tr>\n",
       "      <th>oxygen saturation</th>\n",
       "      <td>0.00</td>\n",
       "      <td>96.76</td>\n",
       "      <td>100.00</td>\n",
       "      <td>3.45</td>\n",
       "      <td>1854539</td>\n",
       "      <td>0.8583</td>\n",
       "    </tr>\n",
       "    <tr>\n",
       "      <th>partial thromboplastin time</th>\n",
       "      <td>18.80</td>\n",
       "      <td>41.07</td>\n",
       "      <td>150.00</td>\n",
       "      <td>24.45</td>\n",
       "      <td>132792</td>\n",
       "      <td>0.0615</td>\n",
       "    </tr>\n",
       "    <tr>\n",
       "      <th>ph</th>\n",
       "      <td>6.50</td>\n",
       "      <td>7.38</td>\n",
       "      <td>8.40</td>\n",
       "      <td>0.08</td>\n",
       "      <td>196513</td>\n",
       "      <td>0.0910</td>\n",
       "    </tr>\n",
       "    <tr>\n",
       "      <th>phosphate</th>\n",
       "      <td>0.50</td>\n",
       "      <td>3.47</td>\n",
       "      <td>20.00</td>\n",
       "      <td>1.40</td>\n",
       "      <td>116166</td>\n",
       "      <td>0.0538</td>\n",
       "    </tr>\n",
       "    <tr>\n",
       "      <th>platelets</th>\n",
       "      <td>0.00</td>\n",
       "      <td>204.97</td>\n",
       "      <td>2000.00</td>\n",
       "      <td>113.33</td>\n",
       "      <td>183063</td>\n",
       "      <td>0.0847</td>\n",
       "    </tr>\n",
       "    <tr>\n",
       "      <th>potassium</th>\n",
       "      <td>0.80</td>\n",
       "      <td>4.13</td>\n",
       "      <td>12.00</td>\n",
       "      <td>0.64</td>\n",
       "      <td>231593</td>\n",
       "      <td>0.1072</td>\n",
       "    </tr>\n",
       "    <tr>\n",
       "      <th>prothrombin time inr</th>\n",
       "      <td>0.50</td>\n",
       "      <td>1.51</td>\n",
       "      <td>88.80</td>\n",
       "      <td>1.22</td>\n",
       "      <td>126270</td>\n",
       "      <td>0.0584</td>\n",
       "    </tr>\n",
       "    <tr>\n",
       "      <th>prothrombin time pt</th>\n",
       "      <td>2.39</td>\n",
       "      <td>15.93</td>\n",
       "      <td>150.00</td>\n",
       "      <td>6.88</td>\n",
       "      <td>126244</td>\n",
       "      <td>0.0584</td>\n",
       "    </tr>\n",
       "    <tr>\n",
       "      <th>respiratory rate</th>\n",
       "      <td>0.00</td>\n",
       "      <td>19.09</td>\n",
       "      <td>300.00</td>\n",
       "      <td>5.70</td>\n",
       "      <td>1909402</td>\n",
       "      <td>0.8837</td>\n",
       "    </tr>\n",
       "    <tr>\n",
       "      <th>sodium</th>\n",
       "      <td>50.00</td>\n",
       "      <td>138.59</td>\n",
       "      <td>225.00</td>\n",
       "      <td>5.24</td>\n",
       "      <td>219039</td>\n",
       "      <td>0.1014</td>\n",
       "    </tr>\n",
       "    <tr>\n",
       "      <th>systolic blood pressure</th>\n",
       "      <td>0.00</td>\n",
       "      <td>121.97</td>\n",
       "      <td>311.00</td>\n",
       "      <td>21.86</td>\n",
       "      <td>1879300</td>\n",
       "      <td>0.8698</td>\n",
       "    </tr>\n",
       "    <tr>\n",
       "      <th>temperature</th>\n",
       "      <td>26.00</td>\n",
       "      <td>36.98</td>\n",
       "      <td>42.22</td>\n",
       "      <td>0.78</td>\n",
       "      <td>638921</td>\n",
       "      <td>0.2957</td>\n",
       "    </tr>\n",
       "    <tr>\n",
       "      <th>weight</th>\n",
       "      <td>0.00</td>\n",
       "      <td>83.22</td>\n",
       "      <td>250.00</td>\n",
       "      <td>23.39</td>\n",
       "      <td>60567</td>\n",
       "      <td>0.0280</td>\n",
       "    </tr>\n",
       "    <tr>\n",
       "      <th>white blood cell count</th>\n",
       "      <td>0.10</td>\n",
       "      <td>11.88</td>\n",
       "      <td>939.00</td>\n",
       "      <td>9.64</td>\n",
       "      <td>175400</td>\n",
       "      <td>0.0812</td>\n",
       "    </tr>\n",
       "  </tbody>\n",
       "</table>\n",
       "</div>"
      ],
      "text/plain": [
       "                               min     avg      max     std        N   pres.\n",
       "variable                                                                    \n",
       "anion gap                     5.00   13.64    50.00    3.89   180116  0.0834\n",
       "bicarbonate                   0.00   24.30    53.00    4.69   188876  0.0874\n",
       "blood urea nitrogen           0.00   26.07   250.00   21.64   190791  0.0883\n",
       "chloride                     50.00  105.19   175.00    6.27   207455  0.0960\n",
       "creatinine                    0.10    1.39    46.60    1.48   191614  0.0887\n",
       "diastolic blood pressure      0.00   60.95   307.00   14.09  1878856  0.8696\n",
       "fraction inspired oxygen      0.21    0.53     1.00    0.19    96405  0.0446\n",
       "glascow coma scale total      3.00   12.58    15.00    3.52   369777  0.1711\n",
       "glucose                      33.00  140.15  1591.00   56.60   505609  0.2340\n",
       "heart rate                    0.00   84.89   300.00   17.16  1939794  0.8978\n",
       "hematocrit                    0.00   30.99    71.70    5.32   249595  0.1155\n",
       "hemoglobin                    0.00   10.64    22.10    1.89   201568  0.0933\n",
       "lactate                       0.40    2.57    30.00    2.47    58835  0.0272\n",
       "magnesium                     0.00    2.05    20.00    0.41   177836  0.0823\n",
       "mean blood pressure          14.00   79.44   330.00   15.43  1869606  0.8653\n",
       "oxygen saturation             0.00   96.76   100.00    3.45  1854539  0.8583\n",
       "partial thromboplastin time  18.80   41.07   150.00   24.45   132792  0.0615\n",
       "ph                            6.50    7.38     8.40    0.08   196513  0.0910\n",
       "phosphate                     0.50    3.47    20.00    1.40   116166  0.0538\n",
       "platelets                     0.00  204.97  2000.00  113.33   183063  0.0847\n",
       "potassium                     0.80    4.13    12.00    0.64   231593  0.1072\n",
       "prothrombin time inr          0.50    1.51    88.80    1.22   126270  0.0584\n",
       "prothrombin time pt           2.39   15.93   150.00    6.88   126244  0.0584\n",
       "respiratory rate              0.00   19.09   300.00    5.70  1909402  0.8837\n",
       "sodium                       50.00  138.59   225.00    5.24   219039  0.1014\n",
       "systolic blood pressure       0.00  121.97   311.00   21.86  1879300  0.8698\n",
       "temperature                  26.00   36.98    42.22    0.78   638921  0.2957\n",
       "weight                        0.00   83.22   250.00   23.39    60567  0.0280\n",
       "white blood cell count        0.10   11.88   939.00    9.64   175400  0.0812"
      ]
     },
     "execution_count": 7,
     "metadata": {},
     "output_type": "execute_result"
    }
   ],
   "source": [
    "vitals_labs_summ_18_df"
   ]
  },
  {
   "cell_type": "markdown",
   "id": "166cab69",
   "metadata": {},
   "source": [
    "In the previous summary, all vitals and lab measurements selected in the paper (29 in total) are listed with relevant statistics associated to it:\n",
    "* `min` representing the minimum of the measurement observed in the vitals/labs.\n",
    "* `avg` representing the average of the measurement observed in the vitals/labs.\n",
    "* `max` representing the maximum of the measurement observed in the vitals/labs.\n",
    "* `std` representing the standard deviation of the measurement observed in the vitals/labs.\n",
    "* `N` representing the number of non `NaN` samples for the specific vital/lab measurement.\n",
    "* `pres.` representing the portion of all possible hours across all patients, admissions, and ICU stays where at least one of the 104 vitals/labs measurements in the original MIMIC-Extract pipeline was taken.\n",
    "\n",
    "All these measurements are based on the `vitals_labs_mean` dataframe in the MIMIC-Extract pipeline which provides average of vitals/labs on a per hour basis for each patient after going into an ICU."
   ]
  },
  {
   "cell_type": "markdown",
   "id": "f21b21a0",
   "metadata": {},
   "source": [
    "## 2. Discovering Patient Cohorts"
   ]
  },
  {
   "cell_type": "markdown",
   "id": "3a0a385d",
   "metadata": {},
   "source": [
    "The paper uses a two-step pipeline to: 1) identify relevant patient cohorts, and 2) use those relevant cohorts as separate tasks in a multi-lask learning framework to predict in-hospital mortality. In this section, we will focus on the first step of the pipeline, i.e., patient cohort discovery."
   ]
  },
  {
   "cell_type": "markdown",
   "id": "e0ac0335",
   "metadata": {},
   "source": [
    "In order to identify meaningful patient cohorts, the paper proposes to process the raw patient data in such a way that the result is a 3D matrix of shape $(P \\times T \\times F)$ where $P$ represents the number of patients, $T$ the number of timesteps, and $F$ the number of features as depicted in the figure below (in blue) which is partially based on Figure 2 of the original paper. All numbers shown in the figure below correspond to a specific experiment published in the paper in which the observation window is limited to the first $24$ hours (cutoff period) after a patient goes into a careunit and there is a gap of $12$ hours (gap period) between the end of the observation window and the beginning of the prediction window where the prediction task is in-hospital mortality.\n",
    "\n",
    "Preparation of the data to get the 3D (blue) matrix is performed by a function called `prepare_data()` inside the `mtl_patients.py` module. This preparation consists of the following transformations taken from the paper and the author's code reference implementation:\n",
    "1. Calculation of the mortality flag (prediction label) and mortality time for every patient in the dataset using an *extended* definition of mortality: death, a note of \"Do Not Resuscitate\" (DNR), or a note of \"Comfort Measures Only\" (CMO). In case any of these conditions are met for a patient, the corresponding mortality label is set to *True* and the corresponding mortality time is considered as the earliest time of any of the three conditions. After reviewing in detail the author's code implementation it seems mortality is based on deathtime and a CMO note but not DNR. However, the calculation of the time of death is based on the earliest time of the three conditions.\n",
    "2. Data used for the prediction is only limited to the first certain amount of hours after a patient goes into the ICU. This amount of hours is called inside the code \"a cutoff period\" (observation window) and defines the period of data used to train all models. In addition, there is another number of hours called inside the code \"the gap period\" which represents the time between the end of the observation window and the beginning of the prediction window to prevent label leakage. All patients that died under the *extended* definition before the cutoff period plus the gap period or stayed less than the cutoff period are excluded from the experiment as part of this step. Also, all patients under the age of 15 are excluded (this is already part of the exclusion criteria of the MIMIC-Extract pipeline).\n",
    "3. There are 29 vitals/labs timeseries selected by the paper. Only data within the cutoff period for vitals/labs is kept and rest is removed. This will be used for the rest of the machine learning pipeline.\n",
    "4. All vitals/labs values are converted to z-scores so they all have zero mean and unit standard deviation. Those z-scores are rounded to the closest integer and clipped between $-4$ and $4$ or set to $9$ in case of `NaN`. This allows to map every vital/lab measurement (a float) to one of ten possible values $[-4, -3, -2, -1, 0, 1, 2, 3, 4, 9]$, so they can be converted to dummy values. After dummifying the vitals/labs, column for the $9$ values (`NaN`) is removed, and the resulting matrix is sparse and containing either $0$s or $1$s.\n",
    "5. Every patient is padded with rows of zeroes for those hours that are missed. For example, if a patient only has vitals/labs for the first ten hours and the cutoff period is 24, code adds fourteen hours (rows) with zeroes for that patient. In the end, the matrix will have a size of $P \\times T \\times F$ as expected by the subsequent models.\n",
    "6. Finally, static data (gender, age, and ethnicity) is converted to integers representing categories and dummified. In case of age, there are four buckets established; $(10, 30), (30, 50), (50, 70), (70, \\infty)$; while ethnicity is broken into five buckets (asian, white, hispanic, black, other).\n",
    "7. Cohort assignments based on first careunit or Simplified Acute Physiology Score (SAPS) II score quartile is calculated for each patient and returned as well."
   ]
  },
  {
   "cell_type": "markdown",
   "id": "45d014e8",
   "metadata": {},
   "source": [
    "![Figure 1](../img/paper-181-fig-1.png)"
   ]
  },
  {
   "cell_type": "markdown",
   "id": "c040a251",
   "metadata": {},
   "source": [
    "The `discover_cohorts()` function inside the `mtl_patients.py` module is the one implementing the pipeline shown in the figure above and then calling the `prepare_data()` function detailed previously as the first step. Once data has been processed, the function will break the data in training, validation, and test data sets in a $70\\%/10\\%/20\\%$ proportion.\n",
    "\n",
    "The training data is used to train an LSTM autoencoder. The main purpose of the LSTM autoencoder is to generate a fixed-length dense representation (embedding) of the sparse inputs trying to retain the most important parts of the inputs. The paper selected embeddings of size $50$ as the optimal dimension (hyperparameter). The purple box in the middle of the diagram above (a 2D matrix) represents the embeddings after the LSTM autoencoder learned the representation of the original 3D matrix of shape $(32537 \\times 24 \\times 232)$ where every row corresponds to a patient.\n",
    "\n",
    "Once the embeddings are calculated, a Gaussian Mixture Model is applied using $3$ clusters (the value the authors considered optimal). The result are the three green boxes representing three cohorts discovered in an unsupervised way and grouping similar patients based on the three static and the 29 time-varying vitals/labs selected from the MIMIC-III database."
   ]
  },
  {
   "cell_type": "markdown",
   "id": "0fa284f2-7c60-42ae-a9f7-80b5236438fc",
   "metadata": {},
   "source": [
    "### 2.1. Cohort statistics at 18 hours "
   ]
  },
  {
   "cell_type": "markdown",
   "id": "cc972ff9-3e4b-4c88-b942-f267162c0b34",
   "metadata": {},
   "source": [
    "The paper runs two experiments. The first experiment uses a cutoff period of 18 hours, a gap period of 9 hours, and three clusters. Let's run this first experiment using the `discover_cohorts()` function and determine the corresponding cohort assignment for every patient that does not meet the exception criteria:"
   ]
  },
  {
   "cell_type": "code",
   "execution_count": 8,
   "id": "81181566",
   "metadata": {
    "tags": []
   },
   "outputs": [],
   "source": [
    "from mtl_patients import discover_cohorts"
   ]
  },
  {
   "cell_type": "code",
   "execution_count": 9,
   "id": "71f8b82b",
   "metadata": {
    "tags": []
   },
   "outputs": [
    {
     "name": "stdout",
     "output_type": "stream",
     "text": [
      "Start Cell Execution at : 19/04/2023 22:47:46\n",
      "++++++++++++++++++++++++++++++++++++++++++++++++++++++++++++++++++++++++++++++++\n",
      "Preparing the data\n",
      "--------------------------------------------------------------------------------\n",
      "    Loading data from MIMIC-Extract pipeline...\n",
      "    Adding SAPS II score to static dataset...\n",
      "    Adding mortality columns to static dataset...\n",
      "    Discretizing X...\n",
      "        X.shape: (2200954, 33), X.subject_id.nunique(): 34472\n",
      "        X_discrete.shape: (2200954, 225), X_discrete.subject_id.nunique(): 34472\n",
      "    Keep only X_discrete[X_discrete.hours_in < 18]...\n",
      "        New X_discrete.shape: (618101, 223), new X_discrete.subject_id.nunique(): 34472\n",
      "    Padding patients with less than 18 hours of data...\n",
      "    Merging dataframes to create X_full...\n",
      "    Mortality per careunit...\n",
      "        MICU: 1205 out of 11636\n",
      "        SICU: 443 out of 5271\n",
      "        CCU: 365 out of 5030\n",
      "        CSRU: 151 out of 7001\n",
      "        TSICU: 315 out of 4324\n",
      "    Final shape of X: (33262, 18, 232)\n",
      "    Number of positive samples: 2479\n",
      "    Done!\n",
      "++++++++++++++++++++++++++++++++++++++++++++++++++++++++++++++++++++++++++++++++\n",
      "Discovering cohorts in an unsupervised way\n",
      "--------------------------------------------------------------------------------\n",
      "    Splitting data into train/validation/test sets...\n",
      "    Training LSTM autoencoder started at 20/04/2023 02:48:12. This will take several minutes (5 to 25). Please be patient...\n",
      "Epoch 1/100\n",
      "182/182 [==============================] - 6s 12ms/step - loss: 0.0400 - val_loss: 0.0340\n",
      "Epoch 2/100\n",
      "182/182 [==============================] - 1s 7ms/step - loss: 0.0308 - val_loss: 0.0286\n",
      "Epoch 3/100\n",
      "182/182 [==============================] - 1s 7ms/step - loss: 0.0276 - val_loss: 0.0269\n",
      "Epoch 4/100\n",
      "182/182 [==============================] - 1s 7ms/step - loss: 0.0264 - val_loss: 0.0261\n",
      "Epoch 5/100\n",
      "182/182 [==============================] - 1s 7ms/step - loss: 0.0258 - val_loss: 0.0256\n",
      "Epoch 6/100\n",
      "182/182 [==============================] - 1s 7ms/step - loss: 0.0254 - val_loss: 0.0253\n",
      "Epoch 7/100\n",
      "182/182 [==============================] - 1s 6ms/step - loss: 0.0251 - val_loss: 0.0250\n",
      "Epoch 8/100\n",
      "182/182 [==============================] - 1s 6ms/step - loss: 0.0249 - val_loss: 0.0249\n",
      "Epoch 9/100\n",
      "182/182 [==============================] - 1s 7ms/step - loss: 0.0248 - val_loss: 0.0247\n",
      "Epoch 10/100\n",
      "182/182 [==============================] - 1s 8ms/step - loss: 0.0246 - val_loss: 0.0246\n",
      "Epoch 11/100\n",
      "182/182 [==============================] - 1s 7ms/step - loss: 0.0245 - val_loss: 0.0244\n",
      "Epoch 12/100\n",
      "182/182 [==============================] - 1s 7ms/step - loss: 0.0244 - val_loss: 0.0243\n",
      "Epoch 13/100\n",
      "182/182 [==============================] - 1s 7ms/step - loss: 0.0243 - val_loss: 0.0242\n",
      "Epoch 14/100\n",
      "182/182 [==============================] - 1s 6ms/step - loss: 0.0242 - val_loss: 0.0241\n",
      "Epoch 15/100\n",
      "182/182 [==============================] - 1s 6ms/step - loss: 0.0241 - val_loss: 0.0241\n",
      "Epoch 16/100\n",
      "182/182 [==============================] - 1s 6ms/step - loss: 0.0240 - val_loss: 0.0240\n",
      "Epoch 17/100\n",
      "182/182 [==============================] - 1s 6ms/step - loss: 0.0239 - val_loss: 0.0239\n",
      "Epoch 18/100\n",
      "182/182 [==============================] - 1s 7ms/step - loss: 0.0239 - val_loss: 0.0238\n",
      "Epoch 19/100\n",
      "182/182 [==============================] - 1s 7ms/step - loss: 0.0238 - val_loss: 0.0238\n",
      "Epoch 20/100\n",
      "182/182 [==============================] - 1s 7ms/step - loss: 0.0237 - val_loss: 0.0237\n",
      "Epoch 21/100\n",
      "182/182 [==============================] - 1s 7ms/step - loss: 0.0236 - val_loss: 0.0236\n",
      "Epoch 22/100\n",
      "182/182 [==============================] - 1s 7ms/step - loss: 0.0236 - val_loss: 0.0235\n",
      "Epoch 23/100\n",
      "182/182 [==============================] - 1s 7ms/step - loss: 0.0235 - val_loss: 0.0235\n",
      "Epoch 24/100\n",
      "182/182 [==============================] - 1s 7ms/step - loss: 0.0234 - val_loss: 0.0234\n",
      "Epoch 25/100\n",
      "182/182 [==============================] - 1s 7ms/step - loss: 0.0233 - val_loss: 0.0233\n",
      "Epoch 26/100\n",
      "182/182 [==============================] - 1s 7ms/step - loss: 0.0233 - val_loss: 0.0232\n",
      "Epoch 27/100\n",
      "182/182 [==============================] - 1s 7ms/step - loss: 0.0232 - val_loss: 0.0232\n",
      "Epoch 28/100\n",
      "182/182 [==============================] - 1s 7ms/step - loss: 0.0231 - val_loss: 0.0231\n",
      "Epoch 29/100\n",
      "182/182 [==============================] - 1s 7ms/step - loss: 0.0231 - val_loss: 0.0230\n",
      "Epoch 30/100\n",
      "182/182 [==============================] - 1s 7ms/step - loss: 0.0230 - val_loss: 0.0230\n",
      "Epoch 31/100\n",
      "182/182 [==============================] - 1s 7ms/step - loss: 0.0229 - val_loss: 0.0229\n",
      "Epoch 32/100\n",
      "182/182 [==============================] - 1s 7ms/step - loss: 0.0229 - val_loss: 0.0228\n",
      "Epoch 33/100\n",
      "182/182 [==============================] - 1s 7ms/step - loss: 0.0228 - val_loss: 0.0228\n",
      "Epoch 34/100\n",
      "182/182 [==============================] - 1s 7ms/step - loss: 0.0227 - val_loss: 0.0227\n",
      "Epoch 35/100\n",
      "182/182 [==============================] - 1s 7ms/step - loss: 0.0227 - val_loss: 0.0227\n",
      "Epoch 36/100\n",
      "182/182 [==============================] - 1s 6ms/step - loss: 0.0226 - val_loss: 0.0226\n",
      "Epoch 37/100\n",
      "182/182 [==============================] - 1s 7ms/step - loss: 0.0226 - val_loss: 0.0226\n",
      "Epoch 38/100\n",
      "182/182 [==============================] - 1s 7ms/step - loss: 0.0225 - val_loss: 0.0225\n",
      "Epoch 39/100\n",
      "182/182 [==============================] - 1s 7ms/step - loss: 0.0225 - val_loss: 0.0225\n",
      "Epoch 40/100\n",
      "182/182 [==============================] - 1s 7ms/step - loss: 0.0224 - val_loss: 0.0224\n",
      "Epoch 41/100\n",
      "182/182 [==============================] - 1s 7ms/step - loss: 0.0224 - val_loss: 0.0224\n",
      "Epoch 42/100\n",
      "182/182 [==============================] - 1s 7ms/step - loss: 0.0223 - val_loss: 0.0223\n",
      "Epoch 43/100\n",
      "182/182 [==============================] - 1s 7ms/step - loss: 0.0223 - val_loss: 0.0223\n",
      "Epoch 44/100\n",
      "182/182 [==============================] - 1s 7ms/step - loss: 0.0222 - val_loss: 0.0222\n",
      "Epoch 45/100\n",
      "182/182 [==============================] - 1s 7ms/step - loss: 0.0222 - val_loss: 0.0222\n",
      "Epoch 46/100\n",
      "182/182 [==============================] - 1s 7ms/step - loss: 0.0221 - val_loss: 0.0221\n",
      "Epoch 47/100\n",
      "182/182 [==============================] - 1s 7ms/step - loss: 0.0221 - val_loss: 0.0221\n",
      "Epoch 48/100\n",
      "182/182 [==============================] - 1s 7ms/step - loss: 0.0220 - val_loss: 0.0220\n",
      "Epoch 49/100\n",
      "182/182 [==============================] - 1s 6ms/step - loss: 0.0220 - val_loss: 0.0220\n",
      "Epoch 50/100\n",
      "182/182 [==============================] - 1s 7ms/step - loss: 0.0219 - val_loss: 0.0220\n",
      "Epoch 51/100\n",
      "182/182 [==============================] - 1s 7ms/step - loss: 0.0219 - val_loss: 0.0219\n",
      "Epoch 52/100\n",
      "182/182 [==============================] - 1s 7ms/step - loss: 0.0218 - val_loss: 0.0219\n",
      "Epoch 53/100\n",
      "182/182 [==============================] - 1s 7ms/step - loss: 0.0218 - val_loss: 0.0218\n",
      "Epoch 54/100\n",
      "182/182 [==============================] - 1s 7ms/step - loss: 0.0217 - val_loss: 0.0218\n",
      "Epoch 55/100\n",
      "182/182 [==============================] - 1s 7ms/step - loss: 0.0217 - val_loss: 0.0217\n",
      "Epoch 56/100\n",
      "182/182 [==============================] - 1s 7ms/step - loss: 0.0217 - val_loss: 0.0217\n",
      "Epoch 57/100\n",
      "182/182 [==============================] - 1s 7ms/step - loss: 0.0216 - val_loss: 0.0216\n",
      "Epoch 58/100\n",
      "182/182 [==============================] - 1s 7ms/step - loss: 0.0216 - val_loss: 0.0216\n",
      "Epoch 59/100\n",
      "182/182 [==============================] - 1s 7ms/step - loss: 0.0215 - val_loss: 0.0215\n",
      "Epoch 60/100\n",
      "182/182 [==============================] - 1s 7ms/step - loss: 0.0215 - val_loss: 0.0215\n",
      "Epoch 61/100\n",
      "182/182 [==============================] - 1s 7ms/step - loss: 0.0214 - val_loss: 0.0214\n",
      "Epoch 62/100\n",
      "182/182 [==============================] - 1s 7ms/step - loss: 0.0214 - val_loss: 0.0214\n",
      "Epoch 63/100\n",
      "182/182 [==============================] - 1s 7ms/step - loss: 0.0213 - val_loss: 0.0213\n",
      "Epoch 64/100\n",
      "182/182 [==============================] - 1s 7ms/step - loss: 0.0213 - val_loss: 0.0213\n",
      "Epoch 65/100\n",
      "182/182 [==============================] - 1s 7ms/step - loss: 0.0212 - val_loss: 0.0213\n",
      "Epoch 66/100\n",
      "182/182 [==============================] - 1s 7ms/step - loss: 0.0212 - val_loss: 0.0212\n",
      "Epoch 67/100\n",
      "182/182 [==============================] - 1s 7ms/step - loss: 0.0211 - val_loss: 0.0212\n",
      "Epoch 68/100\n",
      "182/182 [==============================] - 1s 7ms/step - loss: 0.0211 - val_loss: 0.0211\n",
      "Epoch 69/100\n",
      "182/182 [==============================] - 1s 7ms/step - loss: 0.0210 - val_loss: 0.0211\n",
      "Epoch 70/100\n",
      "182/182 [==============================] - 1s 7ms/step - loss: 0.0210 - val_loss: 0.0211\n",
      "Epoch 71/100\n",
      "182/182 [==============================] - 1s 7ms/step - loss: 0.0210 - val_loss: 0.0210\n",
      "Epoch 72/100\n",
      "182/182 [==============================] - 1s 7ms/step - loss: 0.0209 - val_loss: 0.0210\n",
      "Epoch 73/100\n",
      "182/182 [==============================] - 1s 7ms/step - loss: 0.0209 - val_loss: 0.0209\n",
      "Epoch 74/100\n",
      "182/182 [==============================] - 1s 7ms/step - loss: 0.0208 - val_loss: 0.0209\n",
      "Epoch 75/100\n",
      "182/182 [==============================] - 1s 7ms/step - loss: 0.0208 - val_loss: 0.0209\n",
      "Epoch 76/100\n",
      "182/182 [==============================] - 1s 7ms/step - loss: 0.0208 - val_loss: 0.0208\n",
      "Epoch 77/100\n",
      "182/182 [==============================] - 1s 6ms/step - loss: 0.0207 - val_loss: 0.0208\n",
      "Epoch 78/100\n",
      "182/182 [==============================] - 1s 7ms/step - loss: 0.0207 - val_loss: 0.0208\n",
      "Epoch 79/100\n",
      "182/182 [==============================] - 1s 7ms/step - loss: 0.0207 - val_loss: 0.0207\n",
      "Epoch 80/100\n",
      "182/182 [==============================] - 1s 7ms/step - loss: 0.0206 - val_loss: 0.0207\n",
      "Epoch 81/100\n",
      "182/182 [==============================] - 1s 7ms/step - loss: 0.0206 - val_loss: 0.0207\n",
      "Epoch 82/100\n",
      "182/182 [==============================] - 1s 7ms/step - loss: 0.0206 - val_loss: 0.0206\n",
      "Epoch 83/100\n",
      "182/182 [==============================] - 1s 7ms/step - loss: 0.0205 - val_loss: 0.0206\n",
      "Epoch 84/100\n",
      "182/182 [==============================] - 1s 7ms/step - loss: 0.0205 - val_loss: 0.0206\n",
      "Epoch 85/100\n",
      "182/182 [==============================] - 1s 7ms/step - loss: 0.0205 - val_loss: 0.0205\n",
      "Epoch 86/100\n",
      "182/182 [==============================] - 1s 7ms/step - loss: 0.0204 - val_loss: 0.0205\n",
      "Epoch 87/100\n",
      "182/182 [==============================] - 1s 7ms/step - loss: 0.0204 - val_loss: 0.0205\n",
      "Epoch 88/100\n",
      "182/182 [==============================] - 1s 7ms/step - loss: 0.0204 - val_loss: 0.0205\n",
      "Epoch 89/100\n",
      "182/182 [==============================] - 1s 7ms/step - loss: 0.0203 - val_loss: 0.0204\n",
      "Epoch 90/100\n",
      "182/182 [==============================] - 1s 7ms/step - loss: 0.0203 - val_loss: 0.0204\n",
      "Epoch 91/100\n",
      "182/182 [==============================] - 1s 8ms/step - loss: 0.0203 - val_loss: 0.0204\n",
      "Epoch 92/100\n",
      "182/182 [==============================] - 1s 7ms/step - loss: 0.0202 - val_loss: 0.0204\n",
      "Epoch 93/100\n",
      "182/182 [==============================] - 1s 7ms/step - loss: 0.0202 - val_loss: 0.0203\n",
      "Epoch 94/100\n",
      "182/182 [==============================] - 1s 7ms/step - loss: 0.0202 - val_loss: 0.0203\n",
      "Epoch 95/100\n",
      "182/182 [==============================] - 1s 7ms/step - loss: 0.0201 - val_loss: 0.0202\n",
      "Epoch 96/100\n",
      "182/182 [==============================] - 1s 7ms/step - loss: 0.0201 - val_loss: 0.0202\n",
      "Epoch 97/100\n",
      "182/182 [==============================] - 1s 7ms/step - loss: 0.0201 - val_loss: 0.0202\n",
      "Epoch 98/100\n",
      "182/182 [==============================] - 1s 7ms/step - loss: 0.0201 - val_loss: 0.0202\n",
      "Epoch 99/100\n",
      "182/182 [==============================] - 1s 7ms/step - loss: 0.0200 - val_loss: 0.0201\n",
      "Epoch 100/100\n",
      "182/182 [==============================] - 1s 7ms/step - loss: 0.0200 - val_loss: 0.0201\n",
      "    LSTM autoencoder trained!\n",
      "728/728 [==============================] - 2s 1ms/step\n",
      "1040/1040 [==============================] - 2s 1ms/step\n",
      "Patient embeddings created! Shape: (33262, 100)\n",
      "    Training Gaussian Mixture Model...\n",
      "    Gaussian Mixture Model applied to embeddings! Results shape: (33262,)\n",
      "    Cluster results saved to '../data/unsupervised_clusters_18.npy'\n",
      "    Done!\n",
      "CPU times: user 2min 53s, sys: 23.5 s, total: 3min 17s\n",
      "Wall time: 2min 48s\n"
     ]
    }
   ],
   "source": [
    "%%time\n",
    "cell_execution_time = datetime.now(pytz.timezone('America/New_York')).strftime(\"%d/%m/%Y %H:%M:%S\")\n",
    "print(f'Start Cell Execution at : {cell_execution_time}')\n",
    "cohort_unsupervised_18 = discover_cohorts(cutoff_hours=18, gap_hours=9, embedding_dim=100, cohort_unsupervised_filename='../data/unsupervised_clusters_18.npy')"
   ]
  },
  {
   "cell_type": "markdown",
   "id": "48d175b6-7a5e-4a1b-9afc-67a94c9a0d6b",
   "metadata": {
    "tags": []
   },
   "source": [
    "Let's summarize the results of 18 hour experiment similar to what Table 3 of the paper shows."
   ]
  },
  {
   "cell_type": "code",
   "execution_count": 11,
   "id": "467dec00-4046-44dd-981b-6e6eaccc280f",
   "metadata": {
    "tags": []
   },
   "outputs": [
    {
     "name": "stdout",
     "output_type": "stream",
     "text": [
      "Start Cell Execution at : 19/04/2023 22:52:01\n",
      "++++++++++++++++++++++++++++++++++++++++++++++++++++++++++++++++++++++++++++++++\n",
      "Preparing the data\n",
      "--------------------------------------------------------------------------------\n",
      "    Loading data from MIMIC-Extract pipeline...\n",
      "    Adding SAPS II score to static dataset...\n",
      "    Adding mortality columns to static dataset...\n",
      "    Discretizing X...\n",
      "        X.shape: (2200954, 33), X.subject_id.nunique(): 34472\n",
      "        X_discrete.shape: (2200954, 225), X_discrete.subject_id.nunique(): 34472\n",
      "    Keep only X_discrete[X_discrete.hours_in < 18]...\n",
      "        New X_discrete.shape: (618101, 223), new X_discrete.subject_id.nunique(): 34472\n",
      "    Padding patients with less than 18 hours of data...\n",
      "    Merging dataframes to create X_full...\n",
      "    Mortality per careunit...\n",
      "        MICU: 1205 out of 11636\n",
      "        SICU: 443 out of 5271\n",
      "        CCU: 365 out of 5030\n",
      "        CSRU: 151 out of 7001\n",
      "        TSICU: 315 out of 4324\n",
      "    Final shape of X: (33262, 18, 232)\n",
      "    Number of positive samples: 2479\n",
      "    Done!\n",
      "CPU times: user 17.5 s, sys: 7.81 s, total: 25.4 s\n",
      "Wall time: 23.7 s\n"
     ]
    }
   ],
   "source": [
    "%%time\n",
    "cell_execution_time = datetime.now(pytz.timezone('America/New_York')).strftime(\"%d/%m/%Y %H:%M:%S\")\n",
    "print(f'Start Cell Execution at : {cell_execution_time}')\n",
    "\n",
    "#----------------------------------------------------\n",
    "# Let's create the summary for the 18 hour experiment\n",
    "\n",
    "cohort_unsupervised_18 = np.load('../data/unsupervised_clusters_18.npy')\n",
    "\n",
    "from mtl_patients import prepare_data\n",
    "_, Y, _, _, subject_ids = prepare_data(cutoff_hours=18, gap_hours=9)"
   ]
  },
  {
   "cell_type": "code",
   "execution_count": 12,
   "id": "c859cfff-9c3a-4135-bf83-52a30982042e",
   "metadata": {
    "tags": []
   },
   "outputs": [],
   "source": [
    "subject_ids = np.array(subject_ids.tolist())\n",
    "cohort_unsupervised_18_df = pd.DataFrame({'subject_id': subject_ids, 'Y': Y, 'Group': cohort_unsupervised_18}, dtype=int)\n",
    "\n",
    "# calculate summaries per cohort (24 hours)\n",
    "table3_a_df = cohort_unsupervised_18_df.groupby('Group').agg(\n",
    "    N=('Y', 'size'),\n",
    "    n=('Y', 'sum'),\n",
    ")\n",
    "table3_a_df.loc[:, 'Experiment'] = '18 hours'\n",
    "table3_a_df.loc[:, 'Cohort Type'] = 'Unsupervised'\n",
    "\n",
    "# calculate overall summary (18 hours)\n",
    "table3_a_overall_df = table3_a_df.groupby(['*'] * len(table3_a_df)).agg(\n",
    "    N=('N', 'sum'),\n",
    "    n=('n', 'sum'),\n",
    ")\n",
    "table3_a_overall_df.index.name = 'Group'\n",
    "table3_a_overall_df.loc[:, 'Experiment'] = '18 hours'\n",
    "table3_a_overall_df.loc[:, 'Cohort Type'] = 'Global'\n",
    "\n",
    "# merge 24 hour tables and make cosmetic changes\n",
    "table3_a_df = pd.concat([table3_a_df, table3_a_overall_df], axis=0)\n",
    "table3_a_df.reset_index(inplace=True)\n",
    "table3_a_df.set_index(['Experiment', 'Cohort Type', 'Group'], inplace=True)"
   ]
  },
  {
   "cell_type": "code",
   "execution_count": 13,
   "id": "af29a681-55f8-40db-ab68-51567aa5b1cb",
   "metadata": {
    "tags": []
   },
   "outputs": [],
   "source": [
    "#-----------------------------------\n",
    "# assign\n",
    "table3_df = table3_a_df\n",
    "\n",
    "# calculate class imbalance\n",
    "table3_df.loc[:, 'Class Imbalance'] = table3_df.loc[:, 'n'] / table3_df.loc[:, 'N']\n",
    "table3_df.loc[:, 'Class Imbalance'] = table3_df.loc[:, 'Class Imbalance'].round(4)"
   ]
  },
  {
   "cell_type": "code",
   "execution_count": 14,
   "id": "e9fcfcf3-9d5b-42e0-be79-29ed32ab4e3d",
   "metadata": {},
   "outputs": [
    {
     "data": {
      "text/html": [
       "<div>\n",
       "<style scoped>\n",
       "    .dataframe tbody tr th:only-of-type {\n",
       "        vertical-align: middle;\n",
       "    }\n",
       "\n",
       "    .dataframe tbody tr th {\n",
       "        vertical-align: top;\n",
       "    }\n",
       "\n",
       "    .dataframe thead th {\n",
       "        text-align: right;\n",
       "    }\n",
       "</style>\n",
       "<table border=\"1\" class=\"dataframe\">\n",
       "  <thead>\n",
       "    <tr style=\"text-align: right;\">\n",
       "      <th></th>\n",
       "      <th></th>\n",
       "      <th></th>\n",
       "      <th>N</th>\n",
       "      <th>n</th>\n",
       "      <th>Class Imbalance</th>\n",
       "    </tr>\n",
       "    <tr>\n",
       "      <th>Experiment</th>\n",
       "      <th>Cohort Type</th>\n",
       "      <th>Group</th>\n",
       "      <th></th>\n",
       "      <th></th>\n",
       "      <th></th>\n",
       "    </tr>\n",
       "  </thead>\n",
       "  <tbody>\n",
       "    <tr>\n",
       "      <th rowspan=\"4\" valign=\"top\">18 hours</th>\n",
       "      <th rowspan=\"3\" valign=\"top\">Unsupervised</th>\n",
       "      <th>0</th>\n",
       "      <td>9608</td>\n",
       "      <td>829</td>\n",
       "      <td>0.0863</td>\n",
       "    </tr>\n",
       "    <tr>\n",
       "      <th>1</th>\n",
       "      <td>11030</td>\n",
       "      <td>862</td>\n",
       "      <td>0.0782</td>\n",
       "    </tr>\n",
       "    <tr>\n",
       "      <th>2</th>\n",
       "      <td>12624</td>\n",
       "      <td>788</td>\n",
       "      <td>0.0624</td>\n",
       "    </tr>\n",
       "    <tr>\n",
       "      <th>Global</th>\n",
       "      <th>*</th>\n",
       "      <td>33262</td>\n",
       "      <td>2479</td>\n",
       "      <td>0.0745</td>\n",
       "    </tr>\n",
       "  </tbody>\n",
       "</table>\n",
       "</div>"
      ],
      "text/plain": [
       "                                   N     n  Class Imbalance\n",
       "Experiment Cohort Type  Group                              \n",
       "18 hours   Unsupervised 0       9608   829           0.0863\n",
       "                        1      11030   862           0.0782\n",
       "                        2      12624   788           0.0624\n",
       "           Global       *      33262  2479           0.0745"
      ]
     },
     "execution_count": 14,
     "metadata": {},
     "output_type": "execute_result"
    }
   ],
   "source": [
    "table3_df = table3_a_df\n",
    "table3_df"
   ]
  },
  {
   "cell_type": "markdown",
   "id": "8b29774c-0fff-481f-8110-161bed1b65a5",
   "metadata": {},
   "source": [
    "Table above is the equivalent to Table 3 in the paper. We can see the results are different. Data from MIMIC-Extract might be different from the data used by the authors.\n",
    "\n",
    "** TO-DO ** Comparative Analysis"
   ]
  },
  {
   "cell_type": "markdown",
   "id": "a671387b-6023-49c7-a119-8ae1021d8e08",
   "metadata": {},
   "source": [
    "### 2.2. Visualization of selected lab test and vital signs features"
   ]
  },
  {
   "cell_type": "markdown",
   "id": "82f1077e-5513-4da4-a004-bb6e129517db",
   "metadata": {},
   "source": [
    "In this section, we will try to reproduce the results from Figure 4 (section 6.1.1) in the paper. In Figure 4, data from experiment 1 (24 hours) is used to create heatmap plots to determine if patients from different cohorts are physiologically distinct. To do that, we added the function `get_heatmap_data()` to get the mean of all z-scores by patient, by hour in the ICU, by cohort."
   ]
  },
  {
   "cell_type": "markdown",
   "id": "e901b173-79ad-48d2-bbfe-1777bf4018d3",
   "metadata": {},
   "source": [
    "#### 2.2.1. Heatmap plots for experiment 1 (18 hours)"
   ]
  },
  {
   "cell_type": "markdown",
   "id": "e04fcfdf-b0a2-4b96-be22-a6161ac264c0",
   "metadata": {},
   "source": [
    "Let's run the `get_heatmap_data()` function using the cohorts discovered in experiment 1 (18 hour cutoff period and 9 hour gap period):"
   ]
  },
  {
   "cell_type": "code",
   "execution_count": 15,
   "id": "072de563-acf3-4d8d-9cfa-28cff6c798b5",
   "metadata": {},
   "outputs": [
    {
     "name": "stdout",
     "output_type": "stream",
     "text": [
      "Start Cell Execution at : 19/04/2023 22:54:10\n",
      "CPU times: user 6.08 s, sys: 2.86 s, total: 8.94 s\n",
      "Wall time: 7.57 s\n"
     ]
    }
   ],
   "source": [
    "%%time\n",
    "cell_execution_time = datetime.now(pytz.timezone('America/New_York')).strftime(\"%d/%m/%Y %H:%M:%S\")\n",
    "print(f'Start Cell Execution at : {cell_execution_time}')\n",
    "\n",
    "from mtl_patients import get_heatmap_data\n",
    "import seaborn as sns\n",
    "import matplotlib.pyplot as plt\n",
    "\n",
    "labs_df, vitals_df = get_heatmap_data(cutoff_hours=18, gap_hours=9,\n",
    "                                      cohort_unsupervised_filename='../data/unsupervised_clusters_18.npy')"
   ]
  },
  {
   "cell_type": "markdown",
   "id": "d9e156d2-30a5-4f54-9223-0a33ac593ac7",
   "metadata": {},
   "source": [
    "Let's plot the heatmaps for the selected lab tests and vitals:"
   ]
  },
  {
   "cell_type": "code",
   "execution_count": 16,
   "id": "66b3a472-9588-4bb6-b473-a19df11e1886",
   "metadata": {},
   "outputs": [
    {
     "data": {
      "image/png": "[encoded data removed]",
      "text/plain": [
       "<Figure size 2400x1200 with 12 Axes>"
      ]
     },
     "metadata": {},
     "output_type": "display_data"
    }
   ],
   "source": [
    "num_cohorts = len(np.unique(labs_df.index.get_level_values(0)))\n",
    "fig, axs = plt.subplots(nrows=2, ncols=num_cohorts)\n",
    "fig.set_size_inches(24, 12)\n",
    "for i in np.arange(num_cohorts):\n",
    "    plot_df = labs_df.unstack(1).stack(1).query(f'cohort == {i}').droplevel(0)\n",
    "    sns.heatmap(plot_df, ax=axs[0, i], yticklabels=True if i==0 else False).set(title=f'Lab Tests – Cohort {i}')\n",
    "for i in np.arange(num_cohorts):\n",
    "    plot_df = vitals_df.unstack(1).stack(1).query(f'cohort == {i}').droplevel(0)\n",
    "    sns.heatmap(plot_df, ax=axs[1, i], yticklabels=True if i==0 else False).set(title=f'Vitals – Cohort {i}')\n",
    "plt.savefig('../img/heatmap_18')"
   ]
  },
  {
   "cell_type": "markdown",
   "id": "96c31f21-a203-44cb-b0e7-51b340e8b411",
   "metadata": {},
   "source": [
    "From the heatmap plots there are some trends in the physiological data that seems to show a distinction between cohorts."
   ]
  },
  {
   "cell_type": "markdown",
   "id": "50db5427-8514-4b98-a260-ba574192e822",
   "metadata": {},
   "source": [
    "## 3. Predicting In-Hospital Mortality"
   ]
  },
  {
   "cell_type": "markdown",
   "id": "90e49cd5-dafc-401c-b946-2be0c4734bfb",
   "metadata": {},
   "source": [
    "As mentioned in the previous section, the paper uses a two-step pipeline to: 1) identify relevant patient cohorts, and 2) use those relevant cohorts as separate tasks in a multi-lask learning framework to predict in-hospital mortality. In this section, we will focus on the second step of the pipeline, i.e., use multi-task learning to make in-hospital mortality predictions for different patient cohorts."
   ]
  },
  {
   "cell_type": "markdown",
   "id": "cd68d853-3a48-403e-8ee9-427bb876f783",
   "metadata": {},
   "source": [
    "The second step uses as input the result from the first step which is a series of 3D matrices, one per discovered cohort, of shape $(P \\times T \\times F)$ where $P$ represents the number of patients, $T$ the number of timesteps, and $F$ the number of features. As an example, the 24 hour experiment described by the authors in the paper and reproduced in the previous section resulted in three cohorts (clusters) called group 0, group 1, and group 2 where the shapes of the corresponding 3D matrices are:\n",
    "* $14120 \\times 24 \\times 232$ for group 0,\n",
    "* $10841 \\times 24 \\times 232$ for group 1, and\n",
    "* $7752 \\times 24 \\times 232$ for group 2."
   ]
  },
  {
   "cell_type": "markdown",
   "id": "fdcbd026-c557-41b8-b7ac-f1d11e78aef3",
   "metadata": {},
   "source": [
    "To convert these matrices into predictions, the paper proposes an LSTM for all model configurations including the baseline. In particular, the paper shows results from two specific models: a baseline model that is called *global* and using single-task learning and the multi-task learning model the authors claim as superior to the baseline."
   ]
  },
  {
   "cell_type": "markdown",
   "id": "530f9738-790c-472c-b329-bcc654eaea0a",
   "metadata": {},
   "source": [
    "A diagram of the baseline (*global*) model proposed by the authors is shown below. As it can be seen, this model consists of an LSTM layer of 16 cells using a RELU activation function followed by a *single* dense layer with a sigmoid activation function. The result of the dense (fully-connected) layer is an estimate of the probability of in-hospital mortality for a given patient. This baseline model is trained with all patient samples regardless the cohort, hence the name *global*, and used for per cohort predictions."
   ]
  },
  {
   "cell_type": "markdown",
   "id": "9b07256b-dc0b-4238-8a79-c37ddba39885",
   "metadata": {},
   "source": [
    "![Figure 2](../img/paper-181-fig-2.png)"
   ]
  },
  {
   "cell_type": "markdown",
   "id": "44531b75-a84e-4089-9a2a-3620becfc355",
   "metadata": {},
   "source": [
    "Moving to the second model and the one the authors claim it provides benefits against the baseline is the so called *multi-task learning model*. This model consists of an LSTM layer with same number of cells (16) as the baseline model, to ensure the comparison is fair, connected to as many dense layers as population subgroups (cohorts). Each of these cohorts is considered a *task* and authors propose training these models on multiple tasks simultaneously in contrast to the baseline model with just one dense layer. The benefit of this approach according to the authors is the ability to share knowledge learned from one task (cohort) to rest of tasks under the assumption that the subpopulations used are distinct enough with relation to the outcome learned (mortality) that such shared knowledge truly exists. A representation of the multi-task learning model is shown below:"
   ]
  },
  {
   "cell_type": "markdown",
   "id": "bfb8a713-3999-400d-880d-1c98a8738ab8",
   "metadata": {},
   "source": [
    "![Figure 3](../img/paper-181-fig-3.png)"
   ]
  },
  {
   "cell_type": "markdown",
   "id": "5c776d05-12aa-4b18-ac87-468f91d79ee1",
   "metadata": {},
   "source": [
    "For benchmarking purposes of the entire pipeline, the authors compared the results from running the pipeline using unsupervised cohort discovery (step one) against cohorts created using the first careunit the patient went into which can be considered an engineered feature. We will show those results in the next subsections.\n",
    "\n",
    "The overall performance of this model is measured using both macro and micro metrics (section 4.3 in the paper) where:\n",
    "* In *micro* metrics all predicted probabilities for all patients are treated as if they come from a single classifier: $\\text{Metric}_\\text{Micro} = \\text{Metric}([\\hat{y}_0, ..., \\hat{y}_k], [y_0, ..., y_K])$.\n",
    "* In *macro* metrics probabilities are evaluated on a *per cohort* basis, and then averaged: $\\text{Metric}_\\text{Macro} = \\dfrac{1}{K} \\displaystyle\\sum_{k=0}^K \\text{Metric}(\\hat{y}_K, y_K)$.\n",
    "\n",
    "Paper suggests that, although micro metrics are the ones typically chosen in the literature, evaluating performance on different subpopulations will benefit from macro metrics instead of micro metrics specially when there is class imbalance in every cohort. All results show macro and micro versions of the metrics for the aggregate performance of the models.\n",
    "\n",
    "All results being used for comparison between models by the paper will use three metrics:\n",
    "* AUC (Area Under the ROC Curve) for every cohort and, for the aggregate performance, macro and micro.\n",
    "* PPV (Positive Predictive Value which is same as Precision) for every cohort and, for the aggregate performance, macro and micro. This PPV is calculated at a sensitivity of 80%, a value selected by the paper authors.\n",
    "* Specificity for every cohort and, for the aggregate performance, macro and micro. This specificity is calculated at a sensitivity of 80%, a value selected by the paper authors."
   ]
  },
  {
   "cell_type": "markdown",
   "id": "ec025760-eb01-4aab-8180-304ae4599a38",
   "metadata": {},
   "source": [
    "All in-hospital mortality prediction tasks are implemented using the function `run_mortality_prediction_task()`. This function will call other functions to prepare the data, split the data in training/validation/test data sets, train the corresponding model, predict using the resulting model, and calculate the metrics of the model."
   ]
  },
  {
   "cell_type": "markdown",
   "id": "727cb1a2-2a44-4b86-82ec-dcdbed9bbfe1",
   "metadata": {},
   "source": [
    "Now, let's repeat the prediction task but this time using the groups fetched in an unsupervised way from step 1 proposed by the authors in the paper:"
   ]
  },
  {
   "cell_type": "markdown",
   "id": "d78d4117-f1f1-4d75-aead-36a9c740e9ae",
   "metadata": {},
   "source": [
    "### 3.1. Predictions with Bootstrapping"
   ]
  },
  {
   "cell_type": "markdown",
   "id": "da524a9c-1d6f-4d2d-b37d-2e0ef4c369b3",
   "metadata": {},
   "source": [
    "In this section all in-hospital mortality predictions across the two models, global and multi-task learning, and for experiment 18 hours, are calculated for the three metrics; AUC, PPV (precision) @80% sensitivity, and Specificity @80% sensitivity; using 100 bootstrapped samples of the test set (20% of the original dataset). The results will be metrics (AUC, PPV, and Specificity) for each bootstrapped sample. This will allow the comparison between the global model and the multi-task learning model using the Wilcoxon signed-rank test as indicated in the paper."
   ]
  },
  {
   "cell_type": "markdown",
   "id": "28906d07-2252-4ee3-b4c0-536add086263",
   "metadata": {},
   "source": [
    "#### 3.1.1. In-Hospital Mortality Prediction – Baseline (*Global*) Model at 18 Hours"
   ]
  },
  {
   "cell_type": "markdown",
   "id": "d52a1bcc-c348-4d61-9ecf-0ee3ab219132",
   "metadata": {},
   "source": [
    "Let's first run the mortality prediction task using the *global* model (baseline) in the 18 hour experiment setting. In this experiment, the cutoff period is 18 hours and the gap period is 9 hours, meaning model can only feed from patient data collected during the first 18 hours of the ICU stay, and predict mortality 27 hours after patient goes into the ICU to avoid label leakage. Since we are enabling bootstrapping, we will repeat same experiment with 100 bootstrapped samples from the test dataset. In terms of the cohort type, let's go with careunits first:"
   ]
  },
  {
   "cell_type": "code",
   "execution_count": 17,
   "id": "7eacb099-b8b7-46c2-9d5b-b7bb024edf02",
   "metadata": {
    "tags": []
   },
   "outputs": [
    {
     "name": "stdout",
     "output_type": "stream",
     "text": [
      "Start Cell Execution at : 19/04/2023 22:56:31\n",
      "++++++++++++++++++++++++++++++++++++++++++++++++++++++++++++++++++++++++++++++++\n",
      "Preparing the data\n",
      "--------------------------------------------------------------------------------\n",
      "    Loading data from MIMIC-Extract pipeline...\n",
      "    Adding SAPS II score to static dataset...\n",
      "    Adding mortality columns to static dataset...\n",
      "    Discretizing X...\n",
      "        X.shape: (2200954, 33), X.subject_id.nunique(): 34472\n",
      "        X_discrete.shape: (2200954, 225), X_discrete.subject_id.nunique(): 34472\n",
      "    Keep only X_discrete[X_discrete.hours_in < 18]...\n",
      "        New X_discrete.shape: (618101, 223), new X_discrete.subject_id.nunique(): 34472\n",
      "    Padding patients with less than 18 hours of data...\n",
      "    Merging dataframes to create X_full...\n",
      "    Mortality per careunit...\n",
      "        MICU: 1205 out of 11636\n",
      "        SICU: 443 out of 5271\n",
      "        CCU: 365 out of 5030\n",
      "        CSRU: 151 out of 7001\n",
      "        TSICU: 315 out of 4324\n",
      "    Final shape of X: (33262, 18, 232)\n",
      "    Number of positive samples: 2479\n",
      "    Done!\n",
      "++++++++++++++++++++++++++++++++++++++++++++++++++++++++++++++++++++++++++++++++\n",
      "Running the Mortality Prediction Task\n",
      "--------------------------------------------------------------------------------\n",
      "    Splitting data into train/validation/test sets...\n",
      "    Calculating number of training samples in cohort...\n",
      "        # of patients in cohort CCU is 3522\n",
      "        # of patients in cohort CSRU is 4895\n",
      "        # of patients in cohort MICU is 8183\n",
      "        # of patients in cohort SICU is 3623\n",
      "        # of patients in cohort TSICU is 3059\n",
      "    ~~~~~~~~~~~~~~~~~~~~~~~~~~~~~~~~~~~~~~~~~~~~~~~~~~~~~~~~~~~~~~~~~~~~~~~~~~~~\n",
      "    Training 'global' model...\n",
      "WARNING:tensorflow:Layer lstm will not use cuDNN kernels since it doesn't meet the criteria. It will use a generic GPU kernel as fallback when running on GPU.\n",
      "Model: \"single_task_learning_model\"\n",
      "_________________________________________________________________\n",
      " Layer (type)                Output Shape              Param #   \n",
      "=================================================================\n",
      " lstm (LSTM)                 (None, 16)                15936     \n",
      "                                                                 \n",
      " dense (Dense)               (None, 1)                 17        \n",
      "                                                                 \n",
      "=================================================================\n",
      "Total params: 15,953\n",
      "Trainable params: 15,953\n",
      "Non-trainable params: 0\n",
      "_________________________________________________________________\n",
      "None\n",
      "Epoch 1/30\n",
      "233/233 [==============================] - 6s 20ms/step - loss: 0.3707 - accuracy: 0.9241 - val_loss: 0.2677 - val_accuracy: 0.9255\n",
      "Epoch 2/30\n",
      "233/233 [==============================] - 4s 17ms/step - loss: 0.2549 - accuracy: 0.9255 - val_loss: 0.2461 - val_accuracy: 0.9255\n",
      "Epoch 3/30\n",
      "233/233 [==============================] - 4s 16ms/step - loss: 0.2377 - accuracy: 0.9255 - val_loss: 0.2348 - val_accuracy: 0.9255\n",
      "Epoch 4/30\n",
      "233/233 [==============================] - 4s 17ms/step - loss: 0.2271 - accuracy: 0.9255 - val_loss: 0.2277 - val_accuracy: 0.9255\n",
      "Epoch 5/30\n",
      "233/233 [==============================] - 4s 19ms/step - loss: 0.2198 - accuracy: 0.9255 - val_loss: 0.2239 - val_accuracy: 0.9255\n",
      "Epoch 6/30\n",
      "233/233 [==============================] - 4s 18ms/step - loss: 0.2137 - accuracy: 0.9256 - val_loss: 0.2219 - val_accuracy: 0.9261\n",
      "Epoch 7/30\n",
      "233/233 [==============================] - 4s 18ms/step - loss: 0.2089 - accuracy: 0.9262 - val_loss: 0.2180 - val_accuracy: 0.9261\n",
      "Epoch 8/30\n",
      "233/233 [==============================] - 4s 17ms/step - loss: 0.2053 - accuracy: 0.9274 - val_loss: 0.2151 - val_accuracy: 0.9270\n",
      "Epoch 9/30\n",
      "233/233 [==============================] - 4s 18ms/step - loss: 0.2012 - accuracy: 0.9283 - val_loss: 0.2134 - val_accuracy: 0.9279\n",
      "Epoch 10/30\n",
      "233/233 [==============================] - 4s 18ms/step - loss: 0.1984 - accuracy: 0.9285 - val_loss: 0.2116 - val_accuracy: 0.9285\n",
      "Epoch 11/30\n",
      "233/233 [==============================] - 4s 18ms/step - loss: 0.1957 - accuracy: 0.9290 - val_loss: 0.2111 - val_accuracy: 0.9306\n",
      "Epoch 12/30\n",
      "233/233 [==============================] - 4s 17ms/step - loss: 0.1938 - accuracy: 0.9299 - val_loss: 0.2109 - val_accuracy: 0.9303\n",
      "Epoch 13/30\n",
      "233/233 [==============================] - 4s 17ms/step - loss: 0.1915 - accuracy: 0.9304 - val_loss: 0.2094 - val_accuracy: 0.9306\n",
      "Epoch 14/30\n",
      "233/233 [==============================] - 4s 18ms/step - loss: 0.1899 - accuracy: 0.9305 - val_loss: 0.2111 - val_accuracy: 0.9306\n",
      "Epoch 15/30\n",
      "233/233 [==============================] - 5s 21ms/step - loss: 0.1884 - accuracy: 0.9309 - val_loss: 0.2088 - val_accuracy: 0.9306\n",
      "Epoch 16/30\n",
      "233/233 [==============================] - 5s 19ms/step - loss: 0.1868 - accuracy: 0.9319 - val_loss: 0.2070 - val_accuracy: 0.9306\n",
      "Epoch 17/30\n",
      "233/233 [==============================] - 5s 20ms/step - loss: 0.1853 - accuracy: 0.9319 - val_loss: 0.2074 - val_accuracy: 0.9306\n",
      "Epoch 18/30\n",
      "233/233 [==============================] - 5s 20ms/step - loss: 0.1838 - accuracy: 0.9327 - val_loss: 0.2074 - val_accuracy: 0.9303\n",
      "Epoch 19/30\n",
      "233/233 [==============================] - 5s 20ms/step - loss: 0.1827 - accuracy: 0.9327 - val_loss: 0.2063 - val_accuracy: 0.9315\n",
      "Epoch 20/30\n",
      "233/233 [==============================] - 4s 19ms/step - loss: 0.1814 - accuracy: 0.9333 - val_loss: 0.2052 - val_accuracy: 0.9309\n",
      "Epoch 21/30\n",
      "233/233 [==============================] - 4s 19ms/step - loss: 0.1804 - accuracy: 0.9334 - val_loss: 0.2048 - val_accuracy: 0.9312\n",
      "Epoch 22/30\n",
      "233/233 [==============================] - 4s 18ms/step - loss: 0.1788 - accuracy: 0.9339 - val_loss: 0.2052 - val_accuracy: 0.9306\n",
      "Epoch 23/30\n",
      "233/233 [==============================] - 4s 17ms/step - loss: 0.1781 - accuracy: 0.9345 - val_loss: 0.2056 - val_accuracy: 0.9303\n",
      "Epoch 24/30\n",
      "233/233 [==============================] - 4s 16ms/step - loss: 0.1764 - accuracy: 0.9348 - val_loss: 0.2045 - val_accuracy: 0.9309\n",
      "Epoch 25/30\n",
      "233/233 [==============================] - 4s 17ms/step - loss: 0.1757 - accuracy: 0.9345 - val_loss: 0.2050 - val_accuracy: 0.9303\n",
      "Epoch 26/30\n",
      "233/233 [==============================] - 4s 19ms/step - loss: 0.1746 - accuracy: 0.9351 - val_loss: 0.2051 - val_accuracy: 0.9303\n",
      "Epoch 27/30\n",
      "233/233 [==============================] - 4s 18ms/step - loss: 0.1736 - accuracy: 0.9361 - val_loss: 0.2051 - val_accuracy: 0.9294\n",
      "Epoch 28/30\n",
      "233/233 [==============================] - 4s 18ms/step - loss: 0.1727 - accuracy: 0.9357 - val_loss: 0.2069 - val_accuracy: 0.9300\n",
      "INFO:tensorflow:Assets written to: ../data/models/model_global_18+9_careunits/assets\n",
      "    ~~~~~~~~~~~~~~~~~~~~~~~~~~~~~~~~~~~~~~~~~~~~~~~~~~~~~~~~~~~~~~~~~~~~~~~~~~~~\n",
      "    Predicting using 'global' model...\n",
      "208/208 [==============================] - 1s 3ms/step\n",
      "    Bootstrap prediction for task \"CCU\"...\n"
     ]
    },
    {
     "data": {
      "application/vnd.jupyter.widget-view+json": {
       "model_id": "1a80eddf13f240a8b6feda859b1c761a",
       "version_major": 2,
       "version_minor": 0
      },
      "text/plain": [
       "  0%|          | 0/100 [00:00<?, ?it/s]"
      ]
     },
     "metadata": {},
     "output_type": "display_data"
    },
    {
     "name": "stdout",
     "output_type": "stream",
     "text": [
      "    Bootstrap prediction for task \"CSRU\"...\n"
     ]
    },
    {
     "data": {
      "application/vnd.jupyter.widget-view+json": {
       "model_id": "ffe0000aabab4a02a9dd2fc1e6af9264",
       "version_major": 2,
       "version_minor": 0
      },
      "text/plain": [
       "  0%|          | 0/100 [00:00<?, ?it/s]"
      ]
     },
     "metadata": {},
     "output_type": "display_data"
    },
    {
     "name": "stdout",
     "output_type": "stream",
     "text": [
      "    Bootstrap prediction for task \"MICU\"...\n"
     ]
    },
    {
     "data": {
      "application/vnd.jupyter.widget-view+json": {
       "model_id": "67e2ac45e3bb44d4b347ca2e23081713",
       "version_major": 2,
       "version_minor": 0
      },
      "text/plain": [
       "  0%|          | 0/100 [00:00<?, ?it/s]"
      ]
     },
     "metadata": {},
     "output_type": "display_data"
    },
    {
     "name": "stdout",
     "output_type": "stream",
     "text": [
      "    Bootstrap prediction for task \"SICU\"...\n"
     ]
    },
    {
     "data": {
      "application/vnd.jupyter.widget-view+json": {
       "model_id": "baeee2c06c234a67b56120b2b8c9212d",
       "version_major": 2,
       "version_minor": 0
      },
      "text/plain": [
       "  0%|          | 0/100 [00:00<?, ?it/s]"
      ]
     },
     "metadata": {},
     "output_type": "display_data"
    },
    {
     "name": "stdout",
     "output_type": "stream",
     "text": [
      "    Bootstrap prediction for task \"TSICU\"...\n"
     ]
    },
    {
     "data": {
      "application/vnd.jupyter.widget-view+json": {
       "model_id": "b77f6a2aaa7b436aa46fc8df4d041cf6",
       "version_major": 2,
       "version_minor": 0
      },
      "text/plain": [
       "  0%|          | 0/100 [00:00<?, ?it/s]"
      ]
     },
     "metadata": {},
     "output_type": "display_data"
    },
    {
     "name": "stdout",
     "output_type": "stream",
     "text": [
      "    Bootstrap prediction for task \"all\"...\n"
     ]
    },
    {
     "data": {
      "application/vnd.jupyter.widget-view+json": {
       "model_id": "43128229959747dbb4a2abaf9df16567",
       "version_major": 2,
       "version_minor": 0
      },
      "text/plain": [
       "  0%|          | 0/100 [00:00<?, ?it/s]"
      ]
     },
     "metadata": {},
     "output_type": "display_data"
    },
    {
     "name": "stdout",
     "output_type": "stream",
     "text": [
      "    Done!\n",
      "CPU times: user 5min 41s, sys: 2min 18s, total: 7min 59s\n",
      "Wall time: 6min 55s\n"
     ]
    }
   ],
   "source": [
    "%%time\n",
    "cell_execution_time = datetime.now(pytz.timezone('America/New_York')).strftime(\"%d/%m/%Y %H:%M:%S\")\n",
    "print(f'Start Cell Execution at : {cell_execution_time}')\n",
    "\n",
    "from mtl_patients import run_mortality_prediction_task\n",
    "\n",
    "metrics_global_18_careunits_btstrp_df = run_mortality_prediction_task(model_type='global', cutoff_hours=18, gap_hours=9, cohort_criteria_to_select='careunits', bootstrap=True)"
   ]
  },
  {
   "cell_type": "code",
   "execution_count": 20,
   "id": "f519ff41-0303-4a3f-9ad1-2fd486509878",
   "metadata": {
    "tags": []
   },
   "outputs": [
    {
     "data": {
      "text/html": [
       "<div>\n",
       "<style scoped>\n",
       "    .dataframe tbody tr th:only-of-type {\n",
       "        vertical-align: middle;\n",
       "    }\n",
       "\n",
       "    .dataframe tbody tr th {\n",
       "        vertical-align: top;\n",
       "    }\n",
       "\n",
       "    .dataframe thead th {\n",
       "        text-align: right;\n",
       "    }\n",
       "</style>\n",
       "<table border=\"1\" class=\"dataframe\">\n",
       "  <thead>\n",
       "    <tr style=\"text-align: right;\">\n",
       "      <th></th>\n",
       "      <th></th>\n",
       "      <th>AUC</th>\n",
       "      <th>PPV</th>\n",
       "      <th>Specificity</th>\n",
       "    </tr>\n",
       "    <tr>\n",
       "      <th>Cohort</th>\n",
       "      <th>Sample</th>\n",
       "      <th></th>\n",
       "      <th></th>\n",
       "      <th></th>\n",
       "    </tr>\n",
       "  </thead>\n",
       "  <tbody>\n",
       "    <tr>\n",
       "      <th rowspan=\"5\" valign=\"top\">CCU</th>\n",
       "      <th>1</th>\n",
       "      <td>0.845</td>\n",
       "      <td>0.165</td>\n",
       "      <td>0.730</td>\n",
       "    </tr>\n",
       "    <tr>\n",
       "      <th>2</th>\n",
       "      <td>0.792</td>\n",
       "      <td>0.172</td>\n",
       "      <td>0.711</td>\n",
       "    </tr>\n",
       "    <tr>\n",
       "      <th>3</th>\n",
       "      <td>0.850</td>\n",
       "      <td>0.125</td>\n",
       "      <td>0.738</td>\n",
       "    </tr>\n",
       "    <tr>\n",
       "      <th>4</th>\n",
       "      <td>0.848</td>\n",
       "      <td>0.157</td>\n",
       "      <td>0.729</td>\n",
       "    </tr>\n",
       "    <tr>\n",
       "      <th>5</th>\n",
       "      <td>0.783</td>\n",
       "      <td>0.134</td>\n",
       "      <td>0.673</td>\n",
       "    </tr>\n",
       "    <tr>\n",
       "      <th>...</th>\n",
       "      <th>...</th>\n",
       "      <td>...</td>\n",
       "      <td>...</td>\n",
       "      <td>...</td>\n",
       "    </tr>\n",
       "    <tr>\n",
       "      <th rowspan=\"5\" valign=\"top\">Macro</th>\n",
       "      <th>96</th>\n",
       "      <td>0.870</td>\n",
       "      <td>0.203</td>\n",
       "      <td>0.779</td>\n",
       "    </tr>\n",
       "    <tr>\n",
       "      <th>97</th>\n",
       "      <td>0.844</td>\n",
       "      <td>0.188</td>\n",
       "      <td>0.757</td>\n",
       "    </tr>\n",
       "    <tr>\n",
       "      <th>98</th>\n",
       "      <td>0.857</td>\n",
       "      <td>0.181</td>\n",
       "      <td>0.742</td>\n",
       "    </tr>\n",
       "    <tr>\n",
       "      <th>99</th>\n",
       "      <td>0.852</td>\n",
       "      <td>0.195</td>\n",
       "      <td>0.742</td>\n",
       "    </tr>\n",
       "    <tr>\n",
       "      <th>100</th>\n",
       "      <td>0.828</td>\n",
       "      <td>0.162</td>\n",
       "      <td>0.671</td>\n",
       "    </tr>\n",
       "  </tbody>\n",
       "</table>\n",
       "<p>700 rows × 3 columns</p>\n",
       "</div>"
      ],
      "text/plain": [
       "                 AUC    PPV  Specificity\n",
       "Cohort Sample                           \n",
       "CCU    1       0.845  0.165        0.730\n",
       "       2       0.792  0.172        0.711\n",
       "       3       0.850  0.125        0.738\n",
       "       4       0.848  0.157        0.729\n",
       "       5       0.783  0.134        0.673\n",
       "...              ...    ...          ...\n",
       "Macro  96      0.870  0.203        0.779\n",
       "       97      0.844  0.188        0.757\n",
       "       98      0.857  0.181        0.742\n",
       "       99      0.852  0.195        0.742\n",
       "       100     0.828  0.162        0.671\n",
       "\n",
       "[700 rows x 3 columns]"
      ]
     },
     "execution_count": 20,
     "metadata": {},
     "output_type": "execute_result"
    }
   ],
   "source": [
    "pd.options.display.max_rows = 20\n",
    "metrics_global_18_careunits_btstrp_df.round(3)"
   ]
  },
  {
   "cell_type": "markdown",
   "id": "b2d00a05-ff33-4b9b-bc34-3b6070b65a9f",
   "metadata": {},
   "source": [
    "Now, let's repeat the prediction task but this time using the groups fetched in an unsupervised way from step 1 proposed by the authors in the paper:"
   ]
  },
  {
   "cell_type": "code",
   "execution_count": 21,
   "id": "789dbf10-6372-4855-980a-c4bd0a90c4cb",
   "metadata": {
    "tags": []
   },
   "outputs": [
    {
     "name": "stdout",
     "output_type": "stream",
     "text": [
      "Start Cell Execution at : 19/04/2023 23:04:58\n",
      "++++++++++++++++++++++++++++++++++++++++++++++++++++++++++++++++++++++++++++++++\n",
      "Preparing the data\n",
      "--------------------------------------------------------------------------------\n",
      "    Loading data from MIMIC-Extract pipeline...\n",
      "    Adding SAPS II score to static dataset...\n",
      "    Adding mortality columns to static dataset...\n",
      "    Discretizing X...\n",
      "        X.shape: (2200954, 33), X.subject_id.nunique(): 34472\n",
      "        X_discrete.shape: (2200954, 225), X_discrete.subject_id.nunique(): 34472\n",
      "    Keep only X_discrete[X_discrete.hours_in < 18]...\n",
      "        New X_discrete.shape: (618101, 223), new X_discrete.subject_id.nunique(): 34472\n",
      "    Padding patients with less than 18 hours of data...\n",
      "    Merging dataframes to create X_full...\n",
      "    Mortality per careunit...\n",
      "        MICU: 1205 out of 11636\n",
      "        SICU: 443 out of 5271\n",
      "        CCU: 365 out of 5030\n",
      "        CSRU: 151 out of 7001\n",
      "        TSICU: 315 out of 4324\n",
      "    Final shape of X: (33262, 18, 232)\n",
      "    Number of positive samples: 2479\n",
      "    Done!\n",
      "++++++++++++++++++++++++++++++++++++++++++++++++++++++++++++++++++++++++++++++++\n",
      "Running the Mortality Prediction Task\n",
      "--------------------------------------------------------------------------------\n",
      "    Splitting data into train/validation/test sets...\n",
      "    Calculating number of training samples in cohort...\n",
      "        # of patients in cohort 0 is 6726\n",
      "        # of patients in cohort 1 is 7693\n",
      "        # of patients in cohort 2 is 8863\n",
      "    ~~~~~~~~~~~~~~~~~~~~~~~~~~~~~~~~~~~~~~~~~~~~~~~~~~~~~~~~~~~~~~~~~~~~~~~~~~~~\n",
      "    Training 'global' model...\n",
      "WARNING:tensorflow:Layer lstm will not use cuDNN kernels since it doesn't meet the criteria. It will use a generic GPU kernel as fallback when running on GPU.\n",
      "Model: \"single_task_learning_model\"\n",
      "_________________________________________________________________\n",
      " Layer (type)                Output Shape              Param #   \n",
      "=================================================================\n",
      " lstm (LSTM)                 (None, 16)                15936     \n",
      "                                                                 \n",
      " dense (Dense)               (None, 1)                 17        \n",
      "                                                                 \n",
      "=================================================================\n",
      "Total params: 15,953\n",
      "Trainable params: 15,953\n",
      "Non-trainable params: 0\n",
      "_________________________________________________________________\n",
      "None\n",
      "Epoch 1/30\n",
      "233/233 [==============================] - 5s 18ms/step - loss: 0.3707 - accuracy: 0.9241 - val_loss: 0.2677 - val_accuracy: 0.9255\n",
      "Epoch 2/30\n",
      "233/233 [==============================] - 4s 18ms/step - loss: 0.2549 - accuracy: 0.9255 - val_loss: 0.2461 - val_accuracy: 0.9255\n",
      "Epoch 3/30\n",
      "233/233 [==============================] - 4s 18ms/step - loss: 0.2377 - accuracy: 0.9255 - val_loss: 0.2348 - val_accuracy: 0.9255\n",
      "Epoch 4/30\n",
      "233/233 [==============================] - 4s 17ms/step - loss: 0.2271 - accuracy: 0.9255 - val_loss: 0.2277 - val_accuracy: 0.9255\n",
      "Epoch 5/30\n",
      "233/233 [==============================] - 4s 17ms/step - loss: 0.2198 - accuracy: 0.9255 - val_loss: 0.2239 - val_accuracy: 0.9255\n",
      "Epoch 6/30\n",
      "233/233 [==============================] - 4s 17ms/step - loss: 0.2137 - accuracy: 0.9256 - val_loss: 0.2219 - val_accuracy: 0.9261\n",
      "Epoch 7/30\n",
      "233/233 [==============================] - 4s 18ms/step - loss: 0.2089 - accuracy: 0.9262 - val_loss: 0.2180 - val_accuracy: 0.9261\n",
      "Epoch 8/30\n",
      "233/233 [==============================] - 4s 18ms/step - loss: 0.2053 - accuracy: 0.9274 - val_loss: 0.2151 - val_accuracy: 0.9270\n",
      "Epoch 9/30\n",
      "233/233 [==============================] - 4s 17ms/step - loss: 0.2012 - accuracy: 0.9283 - val_loss: 0.2134 - val_accuracy: 0.9279\n",
      "Epoch 10/30\n",
      "233/233 [==============================] - 4s 17ms/step - loss: 0.1984 - accuracy: 0.9285 - val_loss: 0.2116 - val_accuracy: 0.9285\n",
      "Epoch 11/30\n",
      "233/233 [==============================] - 4s 17ms/step - loss: 0.1957 - accuracy: 0.9290 - val_loss: 0.2111 - val_accuracy: 0.9306\n",
      "Epoch 12/30\n",
      "233/233 [==============================] - 4s 18ms/step - loss: 0.1938 - accuracy: 0.9299 - val_loss: 0.2109 - val_accuracy: 0.9303\n",
      "Epoch 13/30\n",
      "233/233 [==============================] - 4s 17ms/step - loss: 0.1915 - accuracy: 0.9304 - val_loss: 0.2094 - val_accuracy: 0.9306\n",
      "Epoch 14/30\n",
      "233/233 [==============================] - 4s 18ms/step - loss: 0.1899 - accuracy: 0.9305 - val_loss: 0.2111 - val_accuracy: 0.9306\n",
      "Epoch 15/30\n",
      "233/233 [==============================] - 4s 19ms/step - loss: 0.1884 - accuracy: 0.9309 - val_loss: 0.2088 - val_accuracy: 0.9306\n",
      "Epoch 16/30\n",
      "233/233 [==============================] - 4s 17ms/step - loss: 0.1868 - accuracy: 0.9319 - val_loss: 0.2070 - val_accuracy: 0.9306\n",
      "Epoch 17/30\n",
      "233/233 [==============================] - 4s 17ms/step - loss: 0.1853 - accuracy: 0.9319 - val_loss: 0.2074 - val_accuracy: 0.9306\n",
      "Epoch 18/30\n",
      "233/233 [==============================] - 4s 17ms/step - loss: 0.1838 - accuracy: 0.9327 - val_loss: 0.2074 - val_accuracy: 0.9303\n",
      "Epoch 19/30\n",
      "233/233 [==============================] - 4s 18ms/step - loss: 0.1827 - accuracy: 0.9327 - val_loss: 0.2063 - val_accuracy: 0.9315\n",
      "Epoch 20/30\n",
      "233/233 [==============================] - 4s 18ms/step - loss: 0.1814 - accuracy: 0.9333 - val_loss: 0.2052 - val_accuracy: 0.9309\n",
      "Epoch 21/30\n",
      "233/233 [==============================] - 4s 18ms/step - loss: 0.1804 - accuracy: 0.9334 - val_loss: 0.2048 - val_accuracy: 0.9312\n",
      "Epoch 22/30\n",
      "233/233 [==============================] - 4s 16ms/step - loss: 0.1788 - accuracy: 0.9339 - val_loss: 0.2052 - val_accuracy: 0.9306\n",
      "Epoch 23/30\n",
      "233/233 [==============================] - 4s 18ms/step - loss: 0.1781 - accuracy: 0.9345 - val_loss: 0.2056 - val_accuracy: 0.9303\n",
      "Epoch 24/30\n",
      "233/233 [==============================] - 4s 16ms/step - loss: 0.1764 - accuracy: 0.9348 - val_loss: 0.2045 - val_accuracy: 0.9309\n",
      "Epoch 25/30\n",
      "233/233 [==============================] - 4s 17ms/step - loss: 0.1757 - accuracy: 0.9345 - val_loss: 0.2050 - val_accuracy: 0.9303\n",
      "Epoch 26/30\n",
      "233/233 [==============================] - 4s 19ms/step - loss: 0.1746 - accuracy: 0.9351 - val_loss: 0.2051 - val_accuracy: 0.9303\n",
      "Epoch 27/30\n",
      "233/233 [==============================] - 4s 19ms/step - loss: 0.1736 - accuracy: 0.9361 - val_loss: 0.2051 - val_accuracy: 0.9294\n",
      "Epoch 28/30\n",
      "233/233 [==============================] - 4s 19ms/step - loss: 0.1727 - accuracy: 0.9357 - val_loss: 0.2069 - val_accuracy: 0.9300\n",
      "INFO:tensorflow:Assets written to: ../data/models/model_global_18+9_unsupervised/assets\n",
      "    ~~~~~~~~~~~~~~~~~~~~~~~~~~~~~~~~~~~~~~~~~~~~~~~~~~~~~~~~~~~~~~~~~~~~~~~~~~~~\n",
      "    Predicting using 'global' model...\n",
      "208/208 [==============================] - 1s 3ms/step\n",
      "    Bootstrap prediction for task \"0\"...\n"
     ]
    },
    {
     "data": {
      "application/vnd.jupyter.widget-view+json": {
       "model_id": "74c96504d4784723b4378d836fa5b99d",
       "version_major": 2,
       "version_minor": 0
      },
      "text/plain": [
       "  0%|          | 0/100 [00:00<?, ?it/s]"
      ]
     },
     "metadata": {},
     "output_type": "display_data"
    },
    {
     "name": "stdout",
     "output_type": "stream",
     "text": [
      "    Bootstrap prediction for task \"1\"...\n"
     ]
    },
    {
     "data": {
      "application/vnd.jupyter.widget-view+json": {
       "model_id": "1ea39fad5432496b9fa7d7245f96213f",
       "version_major": 2,
       "version_minor": 0
      },
      "text/plain": [
       "  0%|          | 0/100 [00:00<?, ?it/s]"
      ]
     },
     "metadata": {},
     "output_type": "display_data"
    },
    {
     "name": "stdout",
     "output_type": "stream",
     "text": [
      "    Bootstrap prediction for task \"2\"...\n"
     ]
    },
    {
     "data": {
      "application/vnd.jupyter.widget-view+json": {
       "model_id": "29cc4d98710c4fd39a39c7462a052f1a",
       "version_major": 2,
       "version_minor": 0
      },
      "text/plain": [
       "  0%|          | 0/100 [00:00<?, ?it/s]"
      ]
     },
     "metadata": {},
     "output_type": "display_data"
    },
    {
     "name": "stdout",
     "output_type": "stream",
     "text": [
      "    Bootstrap prediction for task \"all\"...\n"
     ]
    },
    {
     "data": {
      "application/vnd.jupyter.widget-view+json": {
       "model_id": "6728a1595a42499d8de604c88d281ee7",
       "version_major": 2,
       "version_minor": 0
      },
      "text/plain": [
       "  0%|          | 0/100 [00:00<?, ?it/s]"
      ]
     },
     "metadata": {},
     "output_type": "display_data"
    },
    {
     "name": "stdout",
     "output_type": "stream",
     "text": [
      "    Done!\n",
      "CPU times: user 5min 15s, sys: 2min, total: 7min 16s\n",
      "Wall time: 6min 12s\n"
     ]
    }
   ],
   "source": [
    "%%time\n",
    "cell_execution_time = datetime.now(pytz.timezone('America/New_York')).strftime(\"%d/%m/%Y %H:%M:%S\")\n",
    "print(f'Start Cell Execution at : {cell_execution_time}')\n",
    "metrics_global_18_unsupervised_btstrp_df = run_mortality_prediction_task(model_type='global', cutoff_hours=18, gap_hours=9, bootstrap=True,\n",
    "                                                                         cohort_criteria_to_select='unsupervised', cohort_unsupervised_filename='../data/unsupervised_clusters_18.npy')"
   ]
  },
  {
   "cell_type": "code",
   "execution_count": 22,
   "id": "bcdbd97a-6b01-472b-9461-0277692f0082",
   "metadata": {
    "tags": []
   },
   "outputs": [
    {
     "data": {
      "text/html": [
       "<div>\n",
       "<style scoped>\n",
       "    .dataframe tbody tr th:only-of-type {\n",
       "        vertical-align: middle;\n",
       "    }\n",
       "\n",
       "    .dataframe tbody tr th {\n",
       "        vertical-align: top;\n",
       "    }\n",
       "\n",
       "    .dataframe thead th {\n",
       "        text-align: right;\n",
       "    }\n",
       "</style>\n",
       "<table border=\"1\" class=\"dataframe\">\n",
       "  <thead>\n",
       "    <tr style=\"text-align: right;\">\n",
       "      <th></th>\n",
       "      <th></th>\n",
       "      <th>AUC</th>\n",
       "      <th>PPV</th>\n",
       "      <th>Specificity</th>\n",
       "    </tr>\n",
       "    <tr>\n",
       "      <th>Cohort</th>\n",
       "      <th>Sample</th>\n",
       "      <th></th>\n",
       "      <th></th>\n",
       "      <th></th>\n",
       "    </tr>\n",
       "  </thead>\n",
       "  <tbody>\n",
       "    <tr>\n",
       "      <th rowspan=\"5\" valign=\"top\">0</th>\n",
       "      <th>1</th>\n",
       "      <td>0.851</td>\n",
       "      <td>0.275</td>\n",
       "      <td>0.793</td>\n",
       "    </tr>\n",
       "    <tr>\n",
       "      <th>2</th>\n",
       "      <td>0.852</td>\n",
       "      <td>0.281</td>\n",
       "      <td>0.789</td>\n",
       "    </tr>\n",
       "    <tr>\n",
       "      <th>3</th>\n",
       "      <td>0.826</td>\n",
       "      <td>0.218</td>\n",
       "      <td>0.751</td>\n",
       "    </tr>\n",
       "    <tr>\n",
       "      <th>4</th>\n",
       "      <td>0.856</td>\n",
       "      <td>0.250</td>\n",
       "      <td>0.769</td>\n",
       "    </tr>\n",
       "    <tr>\n",
       "      <th>5</th>\n",
       "      <td>0.850</td>\n",
       "      <td>0.256</td>\n",
       "      <td>0.766</td>\n",
       "    </tr>\n",
       "    <tr>\n",
       "      <th>...</th>\n",
       "      <th>...</th>\n",
       "      <td>...</td>\n",
       "      <td>...</td>\n",
       "      <td>...</td>\n",
       "    </tr>\n",
       "    <tr>\n",
       "      <th rowspan=\"5\" valign=\"top\">Macro</th>\n",
       "      <th>96</th>\n",
       "      <td>0.883</td>\n",
       "      <td>0.256</td>\n",
       "      <td>0.805</td>\n",
       "    </tr>\n",
       "    <tr>\n",
       "      <th>97</th>\n",
       "      <td>0.850</td>\n",
       "      <td>0.213</td>\n",
       "      <td>0.754</td>\n",
       "    </tr>\n",
       "    <tr>\n",
       "      <th>98</th>\n",
       "      <td>0.862</td>\n",
       "      <td>0.224</td>\n",
       "      <td>0.758</td>\n",
       "    </tr>\n",
       "    <tr>\n",
       "      <th>99</th>\n",
       "      <td>0.863</td>\n",
       "      <td>0.253</td>\n",
       "      <td>0.781</td>\n",
       "    </tr>\n",
       "    <tr>\n",
       "      <th>100</th>\n",
       "      <td>0.849</td>\n",
       "      <td>0.194</td>\n",
       "      <td>0.746</td>\n",
       "    </tr>\n",
       "  </tbody>\n",
       "</table>\n",
       "<p>500 rows × 3 columns</p>\n",
       "</div>"
      ],
      "text/plain": [
       "                 AUC    PPV  Specificity\n",
       "Cohort Sample                           \n",
       "0      1       0.851  0.275        0.793\n",
       "       2       0.852  0.281        0.789\n",
       "       3       0.826  0.218        0.751\n",
       "       4       0.856  0.250        0.769\n",
       "       5       0.850  0.256        0.766\n",
       "...              ...    ...          ...\n",
       "Macro  96      0.883  0.256        0.805\n",
       "       97      0.850  0.213        0.754\n",
       "       98      0.862  0.224        0.758\n",
       "       99      0.863  0.253        0.781\n",
       "       100     0.849  0.194        0.746\n",
       "\n",
       "[500 rows x 3 columns]"
      ]
     },
     "execution_count": 22,
     "metadata": {},
     "output_type": "execute_result"
    }
   ],
   "source": [
    "metrics_global_18_unsupervised_btstrp_df.round(3)"
   ]
  },
  {
   "cell_type": "markdown",
   "id": "31079b1d-28fd-4a67-9613-f188139cf2f5",
   "metadata": {},
   "source": [
    "#### 3.1.2. In-Hospital Mortality Prediction – Multi-Task Learning Model at 18 Hours"
   ]
  },
  {
   "cell_type": "markdown",
   "id": "1f3a6085-32a9-411a-82be-a1a48894c36d",
   "metadata": {},
   "source": [
    "Let's now run the mortality prediction task using the multi-task learning model in the 18 hour experiment setting. In this experiment, the cutoff period is 18 hours and the gap period is 9 hours, meaning model can only feed from patient data collected during the first 18 hours of the ICU stay, and predict mortality 27 hours after patient goes into the ICU to avoid label leakage. Since we are enabling bootstrapping, we will repeat same experiment with 100 bootstrapped samples from the test dataset. In terms of the cohort type, let's go with careunits first:"
   ]
  },
  {
   "cell_type": "code",
   "execution_count": 23,
   "id": "6b3358dc-8459-4225-abfe-841a8db5b496",
   "metadata": {
    "tags": []
   },
   "outputs": [
    {
     "name": "stdout",
     "output_type": "stream",
     "text": [
      "Start Cell Execution at : 19/04/2023 23:13:16\n",
      "++++++++++++++++++++++++++++++++++++++++++++++++++++++++++++++++++++++++++++++++\n",
      "Preparing the data\n",
      "--------------------------------------------------------------------------------\n",
      "    Loading data from MIMIC-Extract pipeline...\n",
      "    Adding SAPS II score to static dataset...\n",
      "    Adding mortality columns to static dataset...\n",
      "    Discretizing X...\n",
      "        X.shape: (2200954, 33), X.subject_id.nunique(): 34472\n",
      "        X_discrete.shape: (2200954, 225), X_discrete.subject_id.nunique(): 34472\n",
      "    Keep only X_discrete[X_discrete.hours_in < 18]...\n",
      "        New X_discrete.shape: (618101, 223), new X_discrete.subject_id.nunique(): 34472\n",
      "    Padding patients with less than 18 hours of data...\n",
      "    Merging dataframes to create X_full...\n",
      "    Mortality per careunit...\n",
      "        MICU: 1205 out of 11636\n",
      "        SICU: 443 out of 5271\n",
      "        CCU: 365 out of 5030\n",
      "        CSRU: 151 out of 7001\n",
      "        TSICU: 315 out of 4324\n",
      "    Final shape of X: (33262, 18, 232)\n",
      "    Number of positive samples: 2479\n",
      "    Done!\n",
      "++++++++++++++++++++++++++++++++++++++++++++++++++++++++++++++++++++++++++++++++\n",
      "Running the Mortality Prediction Task\n",
      "--------------------------------------------------------------------------------\n",
      "    Splitting data into train/validation/test sets...\n",
      "    Calculating number of training samples in cohort...\n",
      "        # of patients in cohort CCU is 3522\n",
      "        # of patients in cohort CSRU is 4895\n",
      "        # of patients in cohort MICU is 8183\n",
      "        # of patients in cohort SICU is 3623\n",
      "        # of patients in cohort TSICU is 3059\n",
      "    ~~~~~~~~~~~~~~~~~~~~~~~~~~~~~~~~~~~~~~~~~~~~~~~~~~~~~~~~~~~~~~~~~~~~~~~~~~~~\n",
      "    Training 'multitask' model...\n",
      "WARNING:tensorflow:Layer lstm will not use cuDNN kernels since it doesn't meet the criteria. It will use a generic GPU kernel as fallback when running on GPU.\n",
      "Model: \"multitask_learning_model\"\n",
      "__________________________________________________________________________________________________\n",
      " Layer (type)                   Output Shape         Param #     Connected to                     \n",
      "==================================================================================================\n",
      " input (InputLayer)             [(None, 18, 232)]    0           []                               \n",
      "                                                                                                  \n",
      " lstm (LSTM)                    (None, 16)           15936       ['input[0][0]']                  \n",
      "                                                                                                  \n",
      " CCU (Dense)                    (None, 1)            17          ['lstm[0][0]']                   \n",
      "                                                                                                  \n",
      " CSRU (Dense)                   (None, 1)            17          ['lstm[0][0]']                   \n",
      "                                                                                                  \n",
      " MICU (Dense)                   (None, 1)            17          ['lstm[0][0]']                   \n",
      "                                                                                                  \n",
      " SICU (Dense)                   (None, 1)            17          ['lstm[0][0]']                   \n",
      "                                                                                                  \n",
      " TSICU (Dense)                  (None, 1)            17          ['lstm[0][0]']                   \n",
      "                                                                                                  \n",
      "==================================================================================================\n",
      "Total params: 16,021\n",
      "Trainable params: 16,021\n",
      "Non-trainable params: 0\n",
      "__________________________________________________________________________________________________\n",
      "None\n",
      "Epoch 1/30\n",
      "233/233 [==============================] - 7s 25ms/step - loss: 0.4152 - CCU_loss: 0.0657 - CSRU_loss: 0.0569 - MICU_loss: 0.1589 - SICU_loss: 0.0720 - TSICU_loss: 0.0618 - CCU_accuracy: 0.9225 - CSRU_accuracy: 0.9087 - MICU_accuracy: 0.8888 - SICU_accuracy: 0.9038 - TSICU_accuracy: 0.8682 - val_loss: 1.4661 - val_CCU_loss: 0.2888 - val_CSRU_loss: 0.2840 - val_MICU_loss: 0.2876 - val_SICU_loss: 0.3123 - val_TSICU_loss: 0.2933 - val_CCU_accuracy: 0.9255 - val_CSRU_accuracy: 0.9252 - val_MICU_accuracy: 0.9255 - val_SICU_accuracy: 0.9258 - val_TSICU_accuracy: 0.9255\n",
      "Epoch 2/30\n",
      "233/233 [==============================] - 5s 21ms/step - loss: 0.2652 - CCU_loss: 0.0426 - CSRU_loss: 0.0216 - MICU_loss: 0.1166 - SICU_loss: 0.0483 - TSICU_loss: 0.0360 - CCU_accuracy: 0.9255 - CSRU_accuracy: 0.9255 - MICU_accuracy: 0.9255 - SICU_accuracy: 0.9255 - TSICU_accuracy: 0.9255 - val_loss: 1.2750 - val_CCU_loss: 0.2506 - val_CSRU_loss: 0.2504 - val_MICU_loss: 0.2528 - val_SICU_loss: 0.2668 - val_TSICU_loss: 0.2545 - val_CCU_accuracy: 0.9255 - val_CSRU_accuracy: 0.9255 - val_MICU_accuracy: 0.9258 - val_SICU_accuracy: 0.9255 - val_TSICU_accuracy: 0.9255\n",
      "Epoch 3/30\n",
      "233/233 [==============================] - 5s 20ms/step - loss: 0.2374 - CCU_loss: 0.0381 - CSRU_loss: 0.0198 - MICU_loss: 0.1055 - SICU_loss: 0.0424 - TSICU_loss: 0.0316 - CCU_accuracy: 0.9255 - CSRU_accuracy: 0.9255 - MICU_accuracy: 0.9257 - SICU_accuracy: 0.9255 - TSICU_accuracy: 0.9255 - val_loss: 1.2141 - val_CCU_loss: 0.2412 - val_CSRU_loss: 0.2435 - val_MICU_loss: 0.2419 - val_SICU_loss: 0.2460 - val_TSICU_loss: 0.2414 - val_CCU_accuracy: 0.9255 - val_CSRU_accuracy: 0.9255 - val_MICU_accuracy: 0.9261 - val_SICU_accuracy: 0.9255 - val_TSICU_accuracy: 0.9255\n",
      "Epoch 4/30\n",
      "233/233 [==============================] - 5s 20ms/step - loss: 0.2257 - CCU_loss: 0.0363 - CSRU_loss: 0.0190 - MICU_loss: 0.1009 - SICU_loss: 0.0400 - TSICU_loss: 0.0295 - CCU_accuracy: 0.9255 - CSRU_accuracy: 0.9255 - MICU_accuracy: 0.9260 - SICU_accuracy: 0.9255 - TSICU_accuracy: 0.9255 - val_loss: 1.1895 - val_CCU_loss: 0.2383 - val_CSRU_loss: 0.2426 - val_MICU_loss: 0.2356 - val_SICU_loss: 0.2374 - val_TSICU_loss: 0.2357 - val_CCU_accuracy: 0.9255 - val_CSRU_accuracy: 0.9255 - val_MICU_accuracy: 0.9270 - val_SICU_accuracy: 0.9255 - val_TSICU_accuracy: 0.9255\n",
      "Epoch 5/30\n",
      "233/233 [==============================] - 5s 21ms/step - loss: 0.2192 - CCU_loss: 0.0352 - CSRU_loss: 0.0187 - MICU_loss: 0.0981 - SICU_loss: 0.0387 - TSICU_loss: 0.0285 - CCU_accuracy: 0.9255 - CSRU_accuracy: 0.9255 - MICU_accuracy: 0.9263 - SICU_accuracy: 0.9255 - TSICU_accuracy: 0.9255 - val_loss: 1.1846 - val_CCU_loss: 0.2386 - val_CSRU_loss: 0.2500 - val_MICU_loss: 0.2331 - val_SICU_loss: 0.2313 - val_TSICU_loss: 0.2316 - val_CCU_accuracy: 0.9255 - val_CSRU_accuracy: 0.9255 - val_MICU_accuracy: 0.9273 - val_SICU_accuracy: 0.9255 - val_TSICU_accuracy: 0.9255\n",
      "Epoch 6/30\n",
      "233/233 [==============================] - 5s 20ms/step - loss: 0.2145 - CCU_loss: 0.0345 - CSRU_loss: 0.0184 - MICU_loss: 0.0963 - SICU_loss: 0.0376 - TSICU_loss: 0.0276 - CCU_accuracy: 0.9255 - CSRU_accuracy: 0.9255 - MICU_accuracy: 0.9266 - SICU_accuracy: 0.9255 - TSICU_accuracy: 0.9255 - val_loss: 1.1664 - val_CCU_loss: 0.2326 - val_CSRU_loss: 0.2367 - val_MICU_loss: 0.2320 - val_SICU_loss: 0.2323 - val_TSICU_loss: 0.2329 - val_CCU_accuracy: 0.9255 - val_CSRU_accuracy: 0.9255 - val_MICU_accuracy: 0.9282 - val_SICU_accuracy: 0.9255 - val_TSICU_accuracy: 0.9255\n",
      "Epoch 7/30\n",
      "233/233 [==============================] - 5s 22ms/step - loss: 0.2110 - CCU_loss: 0.0340 - CSRU_loss: 0.0182 - MICU_loss: 0.0947 - SICU_loss: 0.0370 - TSICU_loss: 0.0271 - CCU_accuracy: 0.9255 - CSRU_accuracy: 0.9255 - MICU_accuracy: 0.9268 - SICU_accuracy: 0.9255 - TSICU_accuracy: 0.9255 - val_loss: 1.1687 - val_CCU_loss: 0.2352 - val_CSRU_loss: 0.2492 - val_MICU_loss: 0.2301 - val_SICU_loss: 0.2262 - val_TSICU_loss: 0.2279 - val_CCU_accuracy: 0.9255 - val_CSRU_accuracy: 0.9255 - val_MICU_accuracy: 0.9282 - val_SICU_accuracy: 0.9255 - val_TSICU_accuracy: 0.9255\n",
      "Epoch 8/30\n",
      "233/233 [==============================] - 5s 21ms/step - loss: 0.2081 - CCU_loss: 0.0335 - CSRU_loss: 0.0180 - MICU_loss: 0.0934 - SICU_loss: 0.0364 - TSICU_loss: 0.0268 - CCU_accuracy: 0.9255 - CSRU_accuracy: 0.9255 - MICU_accuracy: 0.9272 - SICU_accuracy: 0.9256 - TSICU_accuracy: 0.9255 - val_loss: 1.1506 - val_CCU_loss: 0.2297 - val_CSRU_loss: 0.2405 - val_MICU_loss: 0.2270 - val_SICU_loss: 0.2254 - val_TSICU_loss: 0.2280 - val_CCU_accuracy: 0.9255 - val_CSRU_accuracy: 0.9255 - val_MICU_accuracy: 0.9288 - val_SICU_accuracy: 0.9255 - val_TSICU_accuracy: 0.9255\n",
      "Epoch 9/30\n",
      "233/233 [==============================] - 5s 19ms/step - loss: 0.2051 - CCU_loss: 0.0328 - CSRU_loss: 0.0178 - MICU_loss: 0.0922 - SICU_loss: 0.0359 - TSICU_loss: 0.0264 - CCU_accuracy: 0.9255 - CSRU_accuracy: 0.9255 - MICU_accuracy: 0.9272 - SICU_accuracy: 0.9258 - TSICU_accuracy: 0.9257 - val_loss: 1.1476 - val_CCU_loss: 0.2295 - val_CSRU_loss: 0.2395 - val_MICU_loss: 0.2282 - val_SICU_loss: 0.2234 - val_TSICU_loss: 0.2270 - val_CCU_accuracy: 0.9255 - val_CSRU_accuracy: 0.9255 - val_MICU_accuracy: 0.9291 - val_SICU_accuracy: 0.9255 - val_TSICU_accuracy: 0.9255\n",
      "Epoch 10/30\n",
      "233/233 [==============================] - 5s 20ms/step - loss: 0.2029 - CCU_loss: 0.0325 - CSRU_loss: 0.0175 - MICU_loss: 0.0912 - SICU_loss: 0.0355 - TSICU_loss: 0.0261 - CCU_accuracy: 0.9255 - CSRU_accuracy: 0.9255 - MICU_accuracy: 0.9277 - SICU_accuracy: 0.9259 - TSICU_accuracy: 0.9257 - val_loss: 1.1383 - val_CCU_loss: 0.2272 - val_CSRU_loss: 0.2377 - val_MICU_loss: 0.2255 - val_SICU_loss: 0.2222 - val_TSICU_loss: 0.2257 - val_CCU_accuracy: 0.9255 - val_CSRU_accuracy: 0.9258 - val_MICU_accuracy: 0.9294 - val_SICU_accuracy: 0.9264 - val_TSICU_accuracy: 0.9255\n",
      "Epoch 11/30\n",
      "233/233 [==============================] - 5s 20ms/step - loss: 0.2002 - CCU_loss: 0.0319 - CSRU_loss: 0.0174 - MICU_loss: 0.0901 - SICU_loss: 0.0351 - TSICU_loss: 0.0257 - CCU_accuracy: 0.9255 - CSRU_accuracy: 0.9255 - MICU_accuracy: 0.9279 - SICU_accuracy: 0.9261 - TSICU_accuracy: 0.9257 - val_loss: 1.1356 - val_CCU_loss: 0.2265 - val_CSRU_loss: 0.2390 - val_MICU_loss: 0.2251 - val_SICU_loss: 0.2201 - val_TSICU_loss: 0.2249 - val_CCU_accuracy: 0.9255 - val_CSRU_accuracy: 0.9258 - val_MICU_accuracy: 0.9291 - val_SICU_accuracy: 0.9264 - val_TSICU_accuracy: 0.9255\n",
      "Epoch 12/30\n",
      "233/233 [==============================] - 5s 21ms/step - loss: 0.1981 - CCU_loss: 0.0315 - CSRU_loss: 0.0172 - MICU_loss: 0.0891 - SICU_loss: 0.0348 - TSICU_loss: 0.0255 - CCU_accuracy: 0.9256 - CSRU_accuracy: 0.9255 - MICU_accuracy: 0.9286 - SICU_accuracy: 0.9263 - TSICU_accuracy: 0.9256 - val_loss: 1.1358 - val_CCU_loss: 0.2266 - val_CSRU_loss: 0.2439 - val_MICU_loss: 0.2237 - val_SICU_loss: 0.2182 - val_TSICU_loss: 0.2234 - val_CCU_accuracy: 0.9255 - val_CSRU_accuracy: 0.9258 - val_MICU_accuracy: 0.9294 - val_SICU_accuracy: 0.9267 - val_TSICU_accuracy: 0.9258\n",
      "Epoch 13/30\n",
      "233/233 [==============================] - 5s 20ms/step - loss: 0.1957 - CCU_loss: 0.0311 - CSRU_loss: 0.0169 - MICU_loss: 0.0883 - SICU_loss: 0.0344 - TSICU_loss: 0.0251 - CCU_accuracy: 0.9257 - CSRU_accuracy: 0.9255 - MICU_accuracy: 0.9291 - SICU_accuracy: 0.9269 - TSICU_accuracy: 0.9257 - val_loss: 1.1239 - val_CCU_loss: 0.2233 - val_CSRU_loss: 0.2361 - val_MICU_loss: 0.2226 - val_SICU_loss: 0.2171 - val_TSICU_loss: 0.2248 - val_CCU_accuracy: 0.9252 - val_CSRU_accuracy: 0.9258 - val_MICU_accuracy: 0.9297 - val_SICU_accuracy: 0.9273 - val_TSICU_accuracy: 0.9261\n",
      "Epoch 14/30\n",
      "233/233 [==============================] - 5s 21ms/step - loss: 0.1937 - CCU_loss: 0.0307 - CSRU_loss: 0.0168 - MICU_loss: 0.0872 - SICU_loss: 0.0340 - TSICU_loss: 0.0251 - CCU_accuracy: 0.9260 - CSRU_accuracy: 0.9255 - MICU_accuracy: 0.9295 - SICU_accuracy: 0.9274 - TSICU_accuracy: 0.9255 - val_loss: 1.1334 - val_CCU_loss: 0.2266 - val_CSRU_loss: 0.2439 - val_MICU_loss: 0.2234 - val_SICU_loss: 0.2166 - val_TSICU_loss: 0.2230 - val_CCU_accuracy: 0.9258 - val_CSRU_accuracy: 0.9258 - val_MICU_accuracy: 0.9297 - val_SICU_accuracy: 0.9273 - val_TSICU_accuracy: 0.9255\n",
      "Epoch 15/30\n",
      "233/233 [==============================] - 5s 22ms/step - loss: 0.1920 - CCU_loss: 0.0303 - CSRU_loss: 0.0165 - MICU_loss: 0.0866 - SICU_loss: 0.0338 - TSICU_loss: 0.0248 - CCU_accuracy: 0.9264 - CSRU_accuracy: 0.9256 - MICU_accuracy: 0.9299 - SICU_accuracy: 0.9277 - TSICU_accuracy: 0.9256 - val_loss: 1.1125 - val_CCU_loss: 0.2211 - val_CSRU_loss: 0.2326 - val_MICU_loss: 0.2199 - val_SICU_loss: 0.2154 - val_TSICU_loss: 0.2234 - val_CCU_accuracy: 0.9255 - val_CSRU_accuracy: 0.9258 - val_MICU_accuracy: 0.9306 - val_SICU_accuracy: 0.9267 - val_TSICU_accuracy: 0.9249\n",
      "Epoch 16/30\n",
      "233/233 [==============================] - 5s 22ms/step - loss: 0.1900 - CCU_loss: 0.0300 - CSRU_loss: 0.0164 - MICU_loss: 0.0855 - SICU_loss: 0.0335 - TSICU_loss: 0.0246 - CCU_accuracy: 0.9270 - CSRU_accuracy: 0.9256 - MICU_accuracy: 0.9304 - SICU_accuracy: 0.9282 - TSICU_accuracy: 0.9258 - val_loss: 1.1046 - val_CCU_loss: 0.2174 - val_CSRU_loss: 0.2204 - val_MICU_loss: 0.2221 - val_SICU_loss: 0.2175 - val_TSICU_loss: 0.2273 - val_CCU_accuracy: 0.9267 - val_CSRU_accuracy: 0.9264 - val_MICU_accuracy: 0.9291 - val_SICU_accuracy: 0.9261 - val_TSICU_accuracy: 0.9249\n",
      "Epoch 17/30\n",
      "233/233 [==============================] - 5s 21ms/step - loss: 0.1881 - CCU_loss: 0.0297 - CSRU_loss: 0.0163 - MICU_loss: 0.0849 - SICU_loss: 0.0330 - TSICU_loss: 0.0242 - CCU_accuracy: 0.9271 - CSRU_accuracy: 0.9258 - MICU_accuracy: 0.9316 - SICU_accuracy: 0.9284 - TSICU_accuracy: 0.9257 - val_loss: 1.1080 - val_CCU_loss: 0.2203 - val_CSRU_loss: 0.2299 - val_MICU_loss: 0.2194 - val_SICU_loss: 0.2144 - val_TSICU_loss: 0.2240 - val_CCU_accuracy: 0.9267 - val_CSRU_accuracy: 0.9264 - val_MICU_accuracy: 0.9297 - val_SICU_accuracy: 0.9270 - val_TSICU_accuracy: 0.9246\n",
      "Epoch 18/30\n",
      "233/233 [==============================] - 5s 23ms/step - loss: 0.1865 - CCU_loss: 0.0294 - CSRU_loss: 0.0161 - MICU_loss: 0.0843 - SICU_loss: 0.0329 - TSICU_loss: 0.0239 - CCU_accuracy: 0.9277 - CSRU_accuracy: 0.9262 - MICU_accuracy: 0.9313 - SICU_accuracy: 0.9286 - TSICU_accuracy: 0.9255 - val_loss: 1.1048 - val_CCU_loss: 0.2207 - val_CSRU_loss: 0.2294 - val_MICU_loss: 0.2196 - val_SICU_loss: 0.2129 - val_TSICU_loss: 0.2223 - val_CCU_accuracy: 0.9267 - val_CSRU_accuracy: 0.9267 - val_MICU_accuracy: 0.9303 - val_SICU_accuracy: 0.9273 - val_TSICU_accuracy: 0.9249\n",
      "Epoch 19/30\n",
      "233/233 [==============================] - 5s 21ms/step - loss: 0.1849 - CCU_loss: 0.0290 - CSRU_loss: 0.0160 - MICU_loss: 0.0837 - SICU_loss: 0.0327 - TSICU_loss: 0.0236 - CCU_accuracy: 0.9282 - CSRU_accuracy: 0.9267 - MICU_accuracy: 0.9317 - SICU_accuracy: 0.9291 - TSICU_accuracy: 0.9255 - val_loss: 1.1021 - val_CCU_loss: 0.2205 - val_CSRU_loss: 0.2282 - val_MICU_loss: 0.2185 - val_SICU_loss: 0.2126 - val_TSICU_loss: 0.2223 - val_CCU_accuracy: 0.9276 - val_CSRU_accuracy: 0.9264 - val_MICU_accuracy: 0.9297 - val_SICU_accuracy: 0.9273 - val_TSICU_accuracy: 0.9246\n",
      "Epoch 20/30\n",
      "233/233 [==============================] - 5s 22ms/step - loss: 0.1834 - CCU_loss: 0.0289 - CSRU_loss: 0.0159 - MICU_loss: 0.0828 - SICU_loss: 0.0324 - TSICU_loss: 0.0233 - CCU_accuracy: 0.9283 - CSRU_accuracy: 0.9272 - MICU_accuracy: 0.9320 - SICU_accuracy: 0.9289 - TSICU_accuracy: 0.9258 - val_loss: 1.0944 - val_CCU_loss: 0.2180 - val_CSRU_loss: 0.2225 - val_MICU_loss: 0.2186 - val_SICU_loss: 0.2115 - val_TSICU_loss: 0.2238 - val_CCU_accuracy: 0.9273 - val_CSRU_accuracy: 0.9270 - val_MICU_accuracy: 0.9291 - val_SICU_accuracy: 0.9276 - val_TSICU_accuracy: 0.9228\n",
      "Epoch 21/30\n",
      "233/233 [==============================] - 5s 20ms/step - loss: 0.1822 - CCU_loss: 0.0285 - CSRU_loss: 0.0157 - MICU_loss: 0.0825 - SICU_loss: 0.0324 - TSICU_loss: 0.0231 - CCU_accuracy: 0.9284 - CSRU_accuracy: 0.9281 - MICU_accuracy: 0.9327 - SICU_accuracy: 0.9293 - TSICU_accuracy: 0.9257 - val_loss: 1.0860 - val_CCU_loss: 0.2153 - val_CSRU_loss: 0.2161 - val_MICU_loss: 0.2183 - val_SICU_loss: 0.2126 - val_TSICU_loss: 0.2238 - val_CCU_accuracy: 0.9270 - val_CSRU_accuracy: 0.9276 - val_MICU_accuracy: 0.9294 - val_SICU_accuracy: 0.9276 - val_TSICU_accuracy: 0.9231\n",
      "Epoch 22/30\n",
      "233/233 [==============================] - 5s 20ms/step - loss: 0.1802 - CCU_loss: 0.0284 - CSRU_loss: 0.0155 - MICU_loss: 0.0815 - SICU_loss: 0.0321 - TSICU_loss: 0.0228 - CCU_accuracy: 0.9287 - CSRU_accuracy: 0.9285 - MICU_accuracy: 0.9326 - SICU_accuracy: 0.9295 - TSICU_accuracy: 0.9262 - val_loss: 1.0924 - val_CCU_loss: 0.2178 - val_CSRU_loss: 0.2202 - val_MICU_loss: 0.2201 - val_SICU_loss: 0.2100 - val_TSICU_loss: 0.2241 - val_CCU_accuracy: 0.9267 - val_CSRU_accuracy: 0.9294 - val_MICU_accuracy: 0.9291 - val_SICU_accuracy: 0.9276 - val_TSICU_accuracy: 0.9231\n",
      "Epoch 23/30\n",
      "233/233 [==============================] - 5s 20ms/step - loss: 0.1793 - CCU_loss: 0.0281 - CSRU_loss: 0.0154 - MICU_loss: 0.0813 - SICU_loss: 0.0319 - TSICU_loss: 0.0227 - CCU_accuracy: 0.9297 - CSRU_accuracy: 0.9288 - MICU_accuracy: 0.9333 - SICU_accuracy: 0.9301 - TSICU_accuracy: 0.9269 - val_loss: 1.0879 - val_CCU_loss: 0.2163 - val_CSRU_loss: 0.2178 - val_MICU_loss: 0.2195 - val_SICU_loss: 0.2100 - val_TSICU_loss: 0.2242 - val_CCU_accuracy: 0.9282 - val_CSRU_accuracy: 0.9300 - val_MICU_accuracy: 0.9291 - val_SICU_accuracy: 0.9279 - val_TSICU_accuracy: 0.9216\n",
      "Epoch 24/30\n",
      "233/233 [==============================] - 5s 20ms/step - loss: 0.1778 - CCU_loss: 0.0279 - CSRU_loss: 0.0154 - MICU_loss: 0.0803 - SICU_loss: 0.0318 - TSICU_loss: 0.0225 - CCU_accuracy: 0.9296 - CSRU_accuracy: 0.9294 - MICU_accuracy: 0.9333 - SICU_accuracy: 0.9307 - TSICU_accuracy: 0.9261 - val_loss: 1.0809 - val_CCU_loss: 0.2128 - val_CSRU_loss: 0.2127 - val_MICU_loss: 0.2196 - val_SICU_loss: 0.2102 - val_TSICU_loss: 0.2255 - val_CCU_accuracy: 0.9279 - val_CSRU_accuracy: 0.9300 - val_MICU_accuracy: 0.9279 - val_SICU_accuracy: 0.9285 - val_TSICU_accuracy: 0.9209\n",
      "Epoch 25/30\n",
      "233/233 [==============================] - 5s 20ms/step - loss: 0.1768 - CCU_loss: 0.0277 - CSRU_loss: 0.0152 - MICU_loss: 0.0800 - SICU_loss: 0.0316 - TSICU_loss: 0.0222 - CCU_accuracy: 0.9299 - CSRU_accuracy: 0.9296 - MICU_accuracy: 0.9329 - SICU_accuracy: 0.9302 - TSICU_accuracy: 0.9268 - val_loss: 1.0821 - val_CCU_loss: 0.2144 - val_CSRU_loss: 0.2146 - val_MICU_loss: 0.2178 - val_SICU_loss: 0.2094 - val_TSICU_loss: 0.2259 - val_CCU_accuracy: 0.9279 - val_CSRU_accuracy: 0.9294 - val_MICU_accuracy: 0.9288 - val_SICU_accuracy: 0.9279 - val_TSICU_accuracy: 0.9194\n",
      "Epoch 26/30\n",
      "233/233 [==============================] - 5s 22ms/step - loss: 0.1757 - CCU_loss: 0.0275 - CSRU_loss: 0.0151 - MICU_loss: 0.0796 - SICU_loss: 0.0314 - TSICU_loss: 0.0221 - CCU_accuracy: 0.9306 - CSRU_accuracy: 0.9299 - MICU_accuracy: 0.9336 - SICU_accuracy: 0.9311 - TSICU_accuracy: 0.9265 - val_loss: 1.0870 - val_CCU_loss: 0.2143 - val_CSRU_loss: 0.2136 - val_MICU_loss: 0.2216 - val_SICU_loss: 0.2093 - val_TSICU_loss: 0.2282 - val_CCU_accuracy: 0.9276 - val_CSRU_accuracy: 0.9291 - val_MICU_accuracy: 0.9261 - val_SICU_accuracy: 0.9282 - val_TSICU_accuracy: 0.9185\n",
      "Epoch 27/30\n",
      "233/233 [==============================] - 5s 22ms/step - loss: 0.1748 - CCU_loss: 0.0273 - CSRU_loss: 0.0151 - MICU_loss: 0.0793 - SICU_loss: 0.0312 - TSICU_loss: 0.0219 - CCU_accuracy: 0.9308 - CSRU_accuracy: 0.9303 - MICU_accuracy: 0.9331 - SICU_accuracy: 0.9312 - TSICU_accuracy: 0.9259 - val_loss: 1.0793 - val_CCU_loss: 0.2137 - val_CSRU_loss: 0.2132 - val_MICU_loss: 0.2179 - val_SICU_loss: 0.2090 - val_TSICU_loss: 0.2255 - val_CCU_accuracy: 0.9276 - val_CSRU_accuracy: 0.9303 - val_MICU_accuracy: 0.9279 - val_SICU_accuracy: 0.9288 - val_TSICU_accuracy: 0.9194\n",
      "Epoch 28/30\n",
      "233/233 [==============================] - 5s 21ms/step - loss: 0.1738 - CCU_loss: 0.0271 - CSRU_loss: 0.0149 - MICU_loss: 0.0788 - SICU_loss: 0.0311 - TSICU_loss: 0.0219 - CCU_accuracy: 0.9315 - CSRU_accuracy: 0.9305 - MICU_accuracy: 0.9341 - SICU_accuracy: 0.9317 - TSICU_accuracy: 0.9269 - val_loss: 1.0834 - val_CCU_loss: 0.2155 - val_CSRU_loss: 0.2152 - val_MICU_loss: 0.2178 - val_SICU_loss: 0.2091 - val_TSICU_loss: 0.2259 - val_CCU_accuracy: 0.9279 - val_CSRU_accuracy: 0.9303 - val_MICU_accuracy: 0.9282 - val_SICU_accuracy: 0.9285 - val_TSICU_accuracy: 0.9191\n",
      "Epoch 29/30\n",
      "233/233 [==============================] - 5s 21ms/step - loss: 0.1726 - CCU_loss: 0.0271 - CSRU_loss: 0.0149 - MICU_loss: 0.0782 - SICU_loss: 0.0308 - TSICU_loss: 0.0215 - CCU_accuracy: 0.9317 - CSRU_accuracy: 0.9305 - MICU_accuracy: 0.9334 - SICU_accuracy: 0.9316 - TSICU_accuracy: 0.9266 - val_loss: 1.0871 - val_CCU_loss: 0.2157 - val_CSRU_loss: 0.2148 - val_MICU_loss: 0.2202 - val_SICU_loss: 0.2089 - val_TSICU_loss: 0.2275 - val_CCU_accuracy: 0.9276 - val_CSRU_accuracy: 0.9300 - val_MICU_accuracy: 0.9267 - val_SICU_accuracy: 0.9282 - val_TSICU_accuracy: 0.9188\n",
      "Epoch 30/30\n",
      "233/233 [==============================] - 5s 21ms/step - loss: 0.1716 - CCU_loss: 0.0268 - CSRU_loss: 0.0148 - MICU_loss: 0.0779 - SICU_loss: 0.0306 - TSICU_loss: 0.0214 - CCU_accuracy: 0.9323 - CSRU_accuracy: 0.9311 - MICU_accuracy: 0.9336 - SICU_accuracy: 0.9319 - TSICU_accuracy: 0.9266 - val_loss: 1.0845 - val_CCU_loss: 0.2152 - val_CSRU_loss: 0.2129 - val_MICU_loss: 0.2197 - val_SICU_loss: 0.2106 - val_TSICU_loss: 0.2261 - val_CCU_accuracy: 0.9273 - val_CSRU_accuracy: 0.9300 - val_MICU_accuracy: 0.9264 - val_SICU_accuracy: 0.9276 - val_TSICU_accuracy: 0.9188\n",
      "INFO:tensorflow:Assets written to: ../data/models/model_multitask_18+9_careunits/assets\n",
      "    ~~~~~~~~~~~~~~~~~~~~~~~~~~~~~~~~~~~~~~~~~~~~~~~~~~~~~~~~~~~~~~~~~~~~~~~~~~~~\n",
      "    Predicting using 'multitask' model...\n",
      "208/208 [==============================] - 1s 3ms/step\n",
      "    Bootstrap prediction for task \"CCU\"...\n"
     ]
    },
    {
     "data": {
      "application/vnd.jupyter.widget-view+json": {
       "model_id": "a80f2e4ba84341f1a4e3c816f2359710",
       "version_major": 2,
       "version_minor": 0
      },
      "text/plain": [
       "  0%|          | 0/100 [00:00<?, ?it/s]"
      ]
     },
     "metadata": {},
     "output_type": "display_data"
    },
    {
     "name": "stdout",
     "output_type": "stream",
     "text": [
      "    Bootstrap prediction for task \"CSRU\"...\n"
     ]
    },
    {
     "data": {
      "application/vnd.jupyter.widget-view+json": {
       "model_id": "610ffa9819f44be6807b627fbab00303",
       "version_major": 2,
       "version_minor": 0
      },
      "text/plain": [
       "  0%|          | 0/100 [00:00<?, ?it/s]"
      ]
     },
     "metadata": {},
     "output_type": "display_data"
    },
    {
     "name": "stdout",
     "output_type": "stream",
     "text": [
      "    Bootstrap prediction for task \"MICU\"...\n"
     ]
    },
    {
     "data": {
      "application/vnd.jupyter.widget-view+json": {
       "model_id": "876228c5ce2040fcbfc6d8fe5629d7d2",
       "version_major": 2,
       "version_minor": 0
      },
      "text/plain": [
       "  0%|          | 0/100 [00:00<?, ?it/s]"
      ]
     },
     "metadata": {},
     "output_type": "display_data"
    },
    {
     "name": "stdout",
     "output_type": "stream",
     "text": [
      "    Bootstrap prediction for task \"SICU\"...\n"
     ]
    },
    {
     "data": {
      "application/vnd.jupyter.widget-view+json": {
       "model_id": "1044641ec1d44c10b93704c7b018c786",
       "version_major": 2,
       "version_minor": 0
      },
      "text/plain": [
       "  0%|          | 0/100 [00:00<?, ?it/s]"
      ]
     },
     "metadata": {},
     "output_type": "display_data"
    },
    {
     "name": "stdout",
     "output_type": "stream",
     "text": [
      "    Bootstrap prediction for task \"TSICU\"...\n"
     ]
    },
    {
     "data": {
      "application/vnd.jupyter.widget-view+json": {
       "model_id": "dd65caf7098d449a8185bbab9256273b",
       "version_major": 2,
       "version_minor": 0
      },
      "text/plain": [
       "  0%|          | 0/100 [00:00<?, ?it/s]"
      ]
     },
     "metadata": {},
     "output_type": "display_data"
    },
    {
     "name": "stdout",
     "output_type": "stream",
     "text": [
      "    Bootstrap prediction for task \"all\"...\n"
     ]
    },
    {
     "data": {
      "application/vnd.jupyter.widget-view+json": {
       "model_id": "aebf73cfc70349ef8f985e014590ebac",
       "version_major": 2,
       "version_minor": 0
      },
      "text/plain": [
       "  0%|          | 0/100 [00:00<?, ?it/s]"
      ]
     },
     "metadata": {},
     "output_type": "display_data"
    },
    {
     "name": "stdout",
     "output_type": "stream",
     "text": [
      "    Done!\n",
      "CPU times: user 6min 21s, sys: 2min 18s, total: 8min 40s\n",
      "Wall time: 7min 25s\n"
     ]
    }
   ],
   "source": [
    "%%time\n",
    "cell_execution_time = datetime.now(pytz.timezone('America/New_York')).strftime(\"%d/%m/%Y %H:%M:%S\")\n",
    "print(f'Start Cell Execution at : {cell_execution_time}')\n",
    "\n",
    "from mtl_patients import run_mortality_prediction_task\n",
    "\n",
    "metrics_mtl_18_careunits_btstrp_df = run_mortality_prediction_task(model_type='multitask', cutoff_hours=18, gap_hours=9, cohort_criteria_to_select='careunits', bootstrap=True)"
   ]
  },
  {
   "cell_type": "code",
   "execution_count": 24,
   "id": "6ef88acf-1368-465d-80b4-79da55c24be2",
   "metadata": {
    "tags": []
   },
   "outputs": [
    {
     "data": {
      "text/html": [
       "<div>\n",
       "<style scoped>\n",
       "    .dataframe tbody tr th:only-of-type {\n",
       "        vertical-align: middle;\n",
       "    }\n",
       "\n",
       "    .dataframe tbody tr th {\n",
       "        vertical-align: top;\n",
       "    }\n",
       "\n",
       "    .dataframe thead th {\n",
       "        text-align: right;\n",
       "    }\n",
       "</style>\n",
       "<table border=\"1\" class=\"dataframe\">\n",
       "  <thead>\n",
       "    <tr style=\"text-align: right;\">\n",
       "      <th></th>\n",
       "      <th></th>\n",
       "      <th>AUC</th>\n",
       "      <th>PPV</th>\n",
       "      <th>Specificity</th>\n",
       "    </tr>\n",
       "    <tr>\n",
       "      <th>Cohort</th>\n",
       "      <th>Sample</th>\n",
       "      <th></th>\n",
       "      <th></th>\n",
       "      <th></th>\n",
       "    </tr>\n",
       "  </thead>\n",
       "  <tbody>\n",
       "    <tr>\n",
       "      <th rowspan=\"5\" valign=\"top\">CCU</th>\n",
       "      <th>1</th>\n",
       "      <td>0.859</td>\n",
       "      <td>0.161</td>\n",
       "      <td>0.727</td>\n",
       "    </tr>\n",
       "    <tr>\n",
       "      <th>2</th>\n",
       "      <td>0.787</td>\n",
       "      <td>0.133</td>\n",
       "      <td>0.607</td>\n",
       "    </tr>\n",
       "    <tr>\n",
       "      <th>3</th>\n",
       "      <td>0.859</td>\n",
       "      <td>0.116</td>\n",
       "      <td>0.714</td>\n",
       "    </tr>\n",
       "    <tr>\n",
       "      <th>4</th>\n",
       "      <td>0.845</td>\n",
       "      <td>0.137</td>\n",
       "      <td>0.683</td>\n",
       "    </tr>\n",
       "    <tr>\n",
       "      <th>5</th>\n",
       "      <td>0.805</td>\n",
       "      <td>0.115</td>\n",
       "      <td>0.621</td>\n",
       "    </tr>\n",
       "    <tr>\n",
       "      <th>...</th>\n",
       "      <th>...</th>\n",
       "      <td>...</td>\n",
       "      <td>...</td>\n",
       "      <td>...</td>\n",
       "    </tr>\n",
       "    <tr>\n",
       "      <th rowspan=\"5\" valign=\"top\">Macro</th>\n",
       "      <th>96</th>\n",
       "      <td>0.868</td>\n",
       "      <td>0.207</td>\n",
       "      <td>0.784</td>\n",
       "    </tr>\n",
       "    <tr>\n",
       "      <th>97</th>\n",
       "      <td>0.842</td>\n",
       "      <td>0.195</td>\n",
       "      <td>0.767</td>\n",
       "    </tr>\n",
       "    <tr>\n",
       "      <th>98</th>\n",
       "      <td>0.857</td>\n",
       "      <td>0.181</td>\n",
       "      <td>0.742</td>\n",
       "    </tr>\n",
       "    <tr>\n",
       "      <th>99</th>\n",
       "      <td>0.846</td>\n",
       "      <td>0.184</td>\n",
       "      <td>0.734</td>\n",
       "    </tr>\n",
       "    <tr>\n",
       "      <th>100</th>\n",
       "      <td>0.839</td>\n",
       "      <td>0.175</td>\n",
       "      <td>0.717</td>\n",
       "    </tr>\n",
       "  </tbody>\n",
       "</table>\n",
       "<p>700 rows × 3 columns</p>\n",
       "</div>"
      ],
      "text/plain": [
       "                 AUC    PPV  Specificity\n",
       "Cohort Sample                           \n",
       "CCU    1       0.859  0.161        0.727\n",
       "       2       0.787  0.133        0.607\n",
       "       3       0.859  0.116        0.714\n",
       "       4       0.845  0.137        0.683\n",
       "       5       0.805  0.115        0.621\n",
       "...              ...    ...          ...\n",
       "Macro  96      0.868  0.207        0.784\n",
       "       97      0.842  0.195        0.767\n",
       "       98      0.857  0.181        0.742\n",
       "       99      0.846  0.184        0.734\n",
       "       100     0.839  0.175        0.717\n",
       "\n",
       "[700 rows x 3 columns]"
      ]
     },
     "execution_count": 24,
     "metadata": {},
     "output_type": "execute_result"
    }
   ],
   "source": [
    "pd.options.display.max_rows = 20\n",
    "metrics_mtl_18_careunits_btstrp_df.round(3)"
   ]
  },
  {
   "cell_type": "markdown",
   "id": "cf00efa1-fc2a-4a82-b443-4b4ced5f7f74",
   "metadata": {},
   "source": [
    "Now, let's repeat the prediction task but this time using the groups fetched in an unsupervised way from step 1 proposed by the authors in the paper:"
   ]
  },
  {
   "cell_type": "code",
   "execution_count": 25,
   "id": "25c8284e-e848-4c66-8217-e33f9badb079",
   "metadata": {
    "tags": []
   },
   "outputs": [
    {
     "name": "stdout",
     "output_type": "stream",
     "text": [
      "Start Cell Execution at : 19/04/2023 23:21:06\n",
      "++++++++++++++++++++++++++++++++++++++++++++++++++++++++++++++++++++++++++++++++\n",
      "Preparing the data\n",
      "--------------------------------------------------------------------------------\n",
      "    Loading data from MIMIC-Extract pipeline...\n",
      "    Adding SAPS II score to static dataset...\n",
      "    Adding mortality columns to static dataset...\n",
      "    Discretizing X...\n",
      "        X.shape: (2200954, 33), X.subject_id.nunique(): 34472\n",
      "        X_discrete.shape: (2200954, 225), X_discrete.subject_id.nunique(): 34472\n",
      "    Keep only X_discrete[X_discrete.hours_in < 18]...\n",
      "        New X_discrete.shape: (618101, 223), new X_discrete.subject_id.nunique(): 34472\n",
      "    Padding patients with less than 18 hours of data...\n",
      "    Merging dataframes to create X_full...\n",
      "    Mortality per careunit...\n",
      "        MICU: 1205 out of 11636\n",
      "        SICU: 443 out of 5271\n",
      "        CCU: 365 out of 5030\n",
      "        CSRU: 151 out of 7001\n",
      "        TSICU: 315 out of 4324\n",
      "    Final shape of X: (33262, 18, 232)\n",
      "    Number of positive samples: 2479\n",
      "    Done!\n",
      "++++++++++++++++++++++++++++++++++++++++++++++++++++++++++++++++++++++++++++++++\n",
      "Running the Mortality Prediction Task\n",
      "--------------------------------------------------------------------------------\n",
      "    Splitting data into train/validation/test sets...\n",
      "    Calculating number of training samples in cohort...\n",
      "        # of patients in cohort 0 is 6726\n",
      "        # of patients in cohort 1 is 7693\n",
      "        # of patients in cohort 2 is 8863\n",
      "    ~~~~~~~~~~~~~~~~~~~~~~~~~~~~~~~~~~~~~~~~~~~~~~~~~~~~~~~~~~~~~~~~~~~~~~~~~~~~\n",
      "    Training 'multitask' model...\n",
      "WARNING:tensorflow:Layer lstm will not use cuDNN kernels since it doesn't meet the criteria. It will use a generic GPU kernel as fallback when running on GPU.\n",
      "Model: \"multitask_learning_model\"\n",
      "__________________________________________________________________________________________________\n",
      " Layer (type)                   Output Shape         Param #     Connected to                     \n",
      "==================================================================================================\n",
      " input (InputLayer)             [(None, 18, 232)]    0           []                               \n",
      "                                                                                                  \n",
      " lstm (LSTM)                    (None, 16)           15936       ['input[0][0]']                  \n",
      "                                                                                                  \n",
      " 0 (Dense)                      (None, 1)            17          ['lstm[0][0]']                   \n",
      "                                                                                                  \n",
      " 1 (Dense)                      (None, 1)            17          ['lstm[0][0]']                   \n",
      "                                                                                                  \n",
      " 2 (Dense)                      (None, 1)            17          ['lstm[0][0]']                   \n",
      "                                                                                                  \n",
      "==================================================================================================\n",
      "Total params: 15,987\n",
      "Trainable params: 15,987\n",
      "Non-trainable params: 0\n",
      "__________________________________________________________________________________________________\n",
      "None\n",
      "Epoch 1/30\n",
      "233/233 [==============================] - 6s 20ms/step - loss: 0.4013 - 0_loss: 0.1229 - 1_loss: 0.1355 - 2_loss: 0.1429 - 0_accuracy: 0.9239 - 1_accuracy: 0.9084 - 2_accuracy: 0.8900 - val_loss: 0.8689 - val_0_loss: 0.2885 - val_1_loss: 0.2878 - val_2_loss: 0.2925 - val_0_accuracy: 0.9255 - val_1_accuracy: 0.9252 - val_2_accuracy: 0.9255\n",
      "Epoch 2/30\n",
      "233/233 [==============================] - 5s 20ms/step - loss: 0.2612 - 0_loss: 0.0842 - 1_loss: 0.0916 - 2_loss: 0.0854 - 0_accuracy: 0.9255 - 1_accuracy: 0.9255 - 2_accuracy: 0.9254 - val_loss: 0.7595 - val_0_loss: 0.2553 - val_1_loss: 0.2515 - val_2_loss: 0.2527 - val_0_accuracy: 0.9255 - val_1_accuracy: 0.9255 - val_2_accuracy: 0.9255\n",
      "Epoch 3/30\n",
      "233/233 [==============================] - 5s 20ms/step - loss: 0.2397 - 0_loss: 0.0787 - 1_loss: 0.0830 - 2_loss: 0.0780 - 0_accuracy: 0.9255 - 1_accuracy: 0.9255 - 2_accuracy: 0.9255 - val_loss: 0.7198 - val_0_loss: 0.2424 - val_1_loss: 0.2385 - val_2_loss: 0.2390 - val_0_accuracy: 0.9255 - val_1_accuracy: 0.9255 - val_2_accuracy: 0.9255\n",
      "Epoch 4/30\n",
      "233/233 [==============================] - 5s 20ms/step - loss: 0.2293 - 0_loss: 0.0760 - 1_loss: 0.0790 - 2_loss: 0.0742 - 0_accuracy: 0.9255 - 1_accuracy: 0.9255 - 2_accuracy: 0.9255 - val_loss: 0.6986 - val_0_loss: 0.2353 - val_1_loss: 0.2317 - val_2_loss: 0.2316 - val_0_accuracy: 0.9255 - val_1_accuracy: 0.9258 - val_2_accuracy: 0.9252\n",
      "Epoch 5/30\n",
      "233/233 [==============================] - 5s 21ms/step - loss: 0.2225 - 0_loss: 0.0742 - 1_loss: 0.0763 - 2_loss: 0.0721 - 0_accuracy: 0.9255 - 1_accuracy: 0.9256 - 2_accuracy: 0.9257 - val_loss: 0.6855 - val_0_loss: 0.2297 - val_1_loss: 0.2270 - val_2_loss: 0.2289 - val_0_accuracy: 0.9255 - val_1_accuracy: 0.9261 - val_2_accuracy: 0.9255\n",
      "Epoch 6/30\n",
      "233/233 [==============================] - 5s 20ms/step - loss: 0.2170 - 0_loss: 0.0726 - 1_loss: 0.0740 - 2_loss: 0.0703 - 0_accuracy: 0.9255 - 1_accuracy: 0.9258 - 2_accuracy: 0.9258 - val_loss: 0.6773 - val_0_loss: 0.2280 - val_1_loss: 0.2257 - val_2_loss: 0.2236 - val_0_accuracy: 0.9255 - val_1_accuracy: 0.9267 - val_2_accuracy: 0.9264\n",
      "Epoch 7/30\n",
      "233/233 [==============================] - 5s 20ms/step - loss: 0.2128 - 0_loss: 0.0715 - 1_loss: 0.0722 - 2_loss: 0.0691 - 0_accuracy: 0.9255 - 1_accuracy: 0.9263 - 2_accuracy: 0.9260 - val_loss: 0.6687 - val_0_loss: 0.2239 - val_1_loss: 0.2210 - val_2_loss: 0.2239 - val_0_accuracy: 0.9255 - val_1_accuracy: 0.9270 - val_2_accuracy: 0.9267\n",
      "Epoch 8/30\n",
      "233/233 [==============================] - 5s 21ms/step - loss: 0.2092 - 0_loss: 0.0705 - 1_loss: 0.0707 - 2_loss: 0.0679 - 0_accuracy: 0.9255 - 1_accuracy: 0.9272 - 2_accuracy: 0.9260 - val_loss: 0.6568 - val_0_loss: 0.2211 - val_1_loss: 0.2177 - val_2_loss: 0.2180 - val_0_accuracy: 0.9255 - val_1_accuracy: 0.9270 - val_2_accuracy: 0.9270\n",
      "Epoch 9/30\n",
      "233/233 [==============================] - 5s 21ms/step - loss: 0.2054 - 0_loss: 0.0693 - 1_loss: 0.0693 - 2_loss: 0.0669 - 0_accuracy: 0.9255 - 1_accuracy: 0.9277 - 2_accuracy: 0.9263 - val_loss: 0.6501 - val_0_loss: 0.2188 - val_1_loss: 0.2155 - val_2_loss: 0.2158 - val_0_accuracy: 0.9255 - val_1_accuracy: 0.9291 - val_2_accuracy: 0.9276\n",
      "Epoch 10/30\n",
      "233/233 [==============================] - 4s 19ms/step - loss: 0.2024 - 0_loss: 0.0682 - 1_loss: 0.0682 - 2_loss: 0.0660 - 0_accuracy: 0.9256 - 1_accuracy: 0.9284 - 2_accuracy: 0.9268 - val_loss: 0.6439 - val_0_loss: 0.2169 - val_1_loss: 0.2137 - val_2_loss: 0.2134 - val_0_accuracy: 0.9252 - val_1_accuracy: 0.9303 - val_2_accuracy: 0.9276\n",
      "Epoch 11/30\n",
      "233/233 [==============================] - 4s 18ms/step - loss: 0.1992 - 0_loss: 0.0671 - 1_loss: 0.0671 - 2_loss: 0.0650 - 0_accuracy: 0.9258 - 1_accuracy: 0.9284 - 2_accuracy: 0.9273 - val_loss: 0.6407 - val_0_loss: 0.2150 - val_1_loss: 0.2126 - val_2_loss: 0.2131 - val_0_accuracy: 0.9252 - val_1_accuracy: 0.9306 - val_2_accuracy: 0.9282\n",
      "Epoch 12/30\n",
      "233/233 [==============================] - 5s 20ms/step - loss: 0.1967 - 0_loss: 0.0663 - 1_loss: 0.0662 - 2_loss: 0.0642 - 0_accuracy: 0.9261 - 1_accuracy: 0.9291 - 2_accuracy: 0.9278 - val_loss: 0.6395 - val_0_loss: 0.2141 - val_1_loss: 0.2115 - val_2_loss: 0.2139 - val_0_accuracy: 0.9255 - val_1_accuracy: 0.9309 - val_2_accuracy: 0.9285\n",
      "Epoch 13/30\n",
      "233/233 [==============================] - 4s 19ms/step - loss: 0.1940 - 0_loss: 0.0652 - 1_loss: 0.0653 - 2_loss: 0.0635 - 0_accuracy: 0.9263 - 1_accuracy: 0.9300 - 2_accuracy: 0.9280 - val_loss: 0.6320 - val_0_loss: 0.2124 - val_1_loss: 0.2095 - val_2_loss: 0.2101 - val_0_accuracy: 0.9267 - val_1_accuracy: 0.9294 - val_2_accuracy: 0.9288\n",
      "Epoch 14/30\n",
      "233/233 [==============================] - 4s 19ms/step - loss: 0.1918 - 0_loss: 0.0646 - 1_loss: 0.0645 - 2_loss: 0.0627 - 0_accuracy: 0.9269 - 1_accuracy: 0.9300 - 2_accuracy: 0.9281 - val_loss: 0.6396 - val_0_loss: 0.2136 - val_1_loss: 0.2122 - val_2_loss: 0.2138 - val_0_accuracy: 0.9267 - val_1_accuracy: 0.9294 - val_2_accuracy: 0.9288\n",
      "Epoch 15/30\n",
      "233/233 [==============================] - 5s 19ms/step - loss: 0.1900 - 0_loss: 0.0640 - 1_loss: 0.0639 - 2_loss: 0.0620 - 0_accuracy: 0.9273 - 1_accuracy: 0.9305 - 2_accuracy: 0.9285 - val_loss: 0.6300 - val_0_loss: 0.2117 - val_1_loss: 0.2091 - val_2_loss: 0.2092 - val_0_accuracy: 0.9264 - val_1_accuracy: 0.9300 - val_2_accuracy: 0.9297\n",
      "Epoch 16/30\n",
      "233/233 [==============================] - 5s 20ms/step - loss: 0.1879 - 0_loss: 0.0632 - 1_loss: 0.0632 - 2_loss: 0.0616 - 0_accuracy: 0.9280 - 1_accuracy: 0.9307 - 2_accuracy: 0.9287 - val_loss: 0.6277 - val_0_loss: 0.2115 - val_1_loss: 0.2092 - val_2_loss: 0.2070 - val_0_accuracy: 0.9255 - val_1_accuracy: 0.9291 - val_2_accuracy: 0.9306\n",
      "Epoch 17/30\n",
      "233/233 [==============================] - 5s 20ms/step - loss: 0.1861 - 0_loss: 0.0628 - 1_loss: 0.0625 - 2_loss: 0.0608 - 0_accuracy: 0.9286 - 1_accuracy: 0.9317 - 2_accuracy: 0.9292 - val_loss: 0.6303 - val_0_loss: 0.2112 - val_1_loss: 0.2101 - val_2_loss: 0.2090 - val_0_accuracy: 0.9258 - val_1_accuracy: 0.9297 - val_2_accuracy: 0.9300\n",
      "Epoch 18/30\n",
      "233/233 [==============================] - 5s 20ms/step - loss: 0.1846 - 0_loss: 0.0622 - 1_loss: 0.0621 - 2_loss: 0.0604 - 0_accuracy: 0.9289 - 1_accuracy: 0.9312 - 2_accuracy: 0.9297 - val_loss: 0.6302 - val_0_loss: 0.2109 - val_1_loss: 0.2100 - val_2_loss: 0.2092 - val_0_accuracy: 0.9258 - val_1_accuracy: 0.9306 - val_2_accuracy: 0.9303\n",
      "Epoch 19/30\n",
      "233/233 [==============================] - 4s 19ms/step - loss: 0.1834 - 0_loss: 0.0616 - 1_loss: 0.0617 - 2_loss: 0.0600 - 0_accuracy: 0.9293 - 1_accuracy: 0.9322 - 2_accuracy: 0.9310 - val_loss: 0.6286 - val_0_loss: 0.2110 - val_1_loss: 0.2093 - val_2_loss: 0.2083 - val_0_accuracy: 0.9264 - val_1_accuracy: 0.9297 - val_2_accuracy: 0.9300\n",
      "Epoch 20/30\n",
      "233/233 [==============================] - 5s 19ms/step - loss: 0.1820 - 0_loss: 0.0612 - 1_loss: 0.0612 - 2_loss: 0.0595 - 0_accuracy: 0.9300 - 1_accuracy: 0.9327 - 2_accuracy: 0.9302 - val_loss: 0.6277 - val_0_loss: 0.2108 - val_1_loss: 0.2094 - val_2_loss: 0.2075 - val_0_accuracy: 0.9261 - val_1_accuracy: 0.9297 - val_2_accuracy: 0.9303\n",
      "Epoch 21/30\n",
      "233/233 [==============================] - 4s 18ms/step - loss: 0.1811 - 0_loss: 0.0607 - 1_loss: 0.0610 - 2_loss: 0.0594 - 0_accuracy: 0.9303 - 1_accuracy: 0.9326 - 2_accuracy: 0.9312 - val_loss: 0.6250 - val_0_loss: 0.2107 - val_1_loss: 0.2079 - val_2_loss: 0.2064 - val_0_accuracy: 0.9267 - val_1_accuracy: 0.9306 - val_2_accuracy: 0.9297\n",
      "Epoch 22/30\n",
      "233/233 [==============================] - 4s 18ms/step - loss: 0.1794 - 0_loss: 0.0605 - 1_loss: 0.0604 - 2_loss: 0.0585 - 0_accuracy: 0.9304 - 1_accuracy: 0.9321 - 2_accuracy: 0.9316 - val_loss: 0.6302 - val_0_loss: 0.2110 - val_1_loss: 0.2109 - val_2_loss: 0.2084 - val_0_accuracy: 0.9255 - val_1_accuracy: 0.9312 - val_2_accuracy: 0.9300\n",
      "Epoch 23/30\n",
      "233/233 [==============================] - 4s 19ms/step - loss: 0.1786 - 0_loss: 0.0600 - 1_loss: 0.0603 - 2_loss: 0.0583 - 0_accuracy: 0.9304 - 1_accuracy: 0.9333 - 2_accuracy: 0.9319 - val_loss: 0.6286 - val_0_loss: 0.2111 - val_1_loss: 0.2096 - val_2_loss: 0.2079 - val_0_accuracy: 0.9267 - val_1_accuracy: 0.9306 - val_2_accuracy: 0.9291\n",
      "Epoch 24/30\n",
      "233/233 [==============================] - 5s 19ms/step - loss: 0.1774 - 0_loss: 0.0599 - 1_loss: 0.0599 - 2_loss: 0.0577 - 0_accuracy: 0.9308 - 1_accuracy: 0.9330 - 2_accuracy: 0.9318 - val_loss: 0.6282 - val_0_loss: 0.2111 - val_1_loss: 0.2091 - val_2_loss: 0.2080 - val_0_accuracy: 0.9273 - val_1_accuracy: 0.9315 - val_2_accuracy: 0.9303\n",
      "Epoch 25/30\n",
      "233/233 [==============================] - 4s 19ms/step - loss: 0.1763 - 0_loss: 0.0593 - 1_loss: 0.0595 - 2_loss: 0.0575 - 0_accuracy: 0.9311 - 1_accuracy: 0.9339 - 2_accuracy: 0.9320 - val_loss: 0.6319 - val_0_loss: 0.2118 - val_1_loss: 0.2105 - val_2_loss: 0.2096 - val_0_accuracy: 0.9279 - val_1_accuracy: 0.9318 - val_2_accuracy: 0.9294\n",
      "INFO:tensorflow:Assets written to: ../data/models/model_multitask_18+9_unsupervised/assets\n",
      "    ~~~~~~~~~~~~~~~~~~~~~~~~~~~~~~~~~~~~~~~~~~~~~~~~~~~~~~~~~~~~~~~~~~~~~~~~~~~~\n",
      "    Predicting using 'multitask' model...\n",
      "208/208 [==============================] - 1s 3ms/step\n",
      "    Bootstrap prediction for task \"0\"...\n"
     ]
    },
    {
     "data": {
      "application/vnd.jupyter.widget-view+json": {
       "model_id": "a1a80fdffc25414aac14d16fb1005d61",
       "version_major": 2,
       "version_minor": 0
      },
      "text/plain": [
       "  0%|          | 0/100 [00:00<?, ?it/s]"
      ]
     },
     "metadata": {},
     "output_type": "display_data"
    },
    {
     "name": "stdout",
     "output_type": "stream",
     "text": [
      "    Bootstrap prediction for task \"1\"...\n"
     ]
    },
    {
     "data": {
      "application/vnd.jupyter.widget-view+json": {
       "model_id": "b72e354176eb423dad9c2dd3786bd125",
       "version_major": 2,
       "version_minor": 0
      },
      "text/plain": [
       "  0%|          | 0/100 [00:00<?, ?it/s]"
      ]
     },
     "metadata": {},
     "output_type": "display_data"
    },
    {
     "name": "stdout",
     "output_type": "stream",
     "text": [
      "    Bootstrap prediction for task \"2\"...\n"
     ]
    },
    {
     "data": {
      "application/vnd.jupyter.widget-view+json": {
       "model_id": "5c06deaa1b014041b64a12ac5f28f7d4",
       "version_major": 2,
       "version_minor": 0
      },
      "text/plain": [
       "  0%|          | 0/100 [00:00<?, ?it/s]"
      ]
     },
     "metadata": {},
     "output_type": "display_data"
    },
    {
     "name": "stdout",
     "output_type": "stream",
     "text": [
      "    Bootstrap prediction for task \"all\"...\n"
     ]
    },
    {
     "data": {
      "application/vnd.jupyter.widget-view+json": {
       "model_id": "1e7ba8b552604a7c912962b18db7da4e",
       "version_major": 2,
       "version_minor": 0
      },
      "text/plain": [
       "  0%|          | 0/100 [00:00<?, ?it/s]"
      ]
     },
     "metadata": {},
     "output_type": "display_data"
    },
    {
     "name": "stdout",
     "output_type": "stream",
     "text": [
      "    Done!\n",
      "CPU times: user 5min 12s, sys: 1min 59s, total: 7min 11s\n",
      "Wall time: 6min 13s\n"
     ]
    }
   ],
   "source": [
    "%%time\n",
    "cell_execution_time = datetime.now(pytz.timezone('America/New_York')).strftime(\"%d/%m/%Y %H:%M:%S\")\n",
    "print(f'Start Cell Execution at : {cell_execution_time}')\n",
    "metrics_mtl_18_unsupervised_btstrp_df = run_mortality_prediction_task(model_type='multitask', cutoff_hours=18, gap_hours=9, bootstrap=True,\n",
    "                                                                      cohort_criteria_to_select='unsupervised', cohort_unsupervised_filename='../data/unsupervised_clusters_18.npy')"
   ]
  },
  {
   "cell_type": "code",
   "execution_count": 26,
   "id": "bfd74593-7bef-48c1-ba78-c6114a5ea6b0",
   "metadata": {
    "tags": []
   },
   "outputs": [
    {
     "data": {
      "text/html": [
       "<div>\n",
       "<style scoped>\n",
       "    .dataframe tbody tr th:only-of-type {\n",
       "        vertical-align: middle;\n",
       "    }\n",
       "\n",
       "    .dataframe tbody tr th {\n",
       "        vertical-align: top;\n",
       "    }\n",
       "\n",
       "    .dataframe thead th {\n",
       "        text-align: right;\n",
       "    }\n",
       "</style>\n",
       "<table border=\"1\" class=\"dataframe\">\n",
       "  <thead>\n",
       "    <tr style=\"text-align: right;\">\n",
       "      <th></th>\n",
       "      <th></th>\n",
       "      <th>AUC</th>\n",
       "      <th>PPV</th>\n",
       "      <th>Specificity</th>\n",
       "    </tr>\n",
       "    <tr>\n",
       "      <th>Cohort</th>\n",
       "      <th>Sample</th>\n",
       "      <th></th>\n",
       "      <th></th>\n",
       "      <th></th>\n",
       "    </tr>\n",
       "  </thead>\n",
       "  <tbody>\n",
       "    <tr>\n",
       "      <th rowspan=\"5\" valign=\"top\">0</th>\n",
       "      <th>1</th>\n",
       "      <td>0.841</td>\n",
       "      <td>0.209</td>\n",
       "      <td>0.706</td>\n",
       "    </tr>\n",
       "    <tr>\n",
       "      <th>2</th>\n",
       "      <td>0.845</td>\n",
       "      <td>0.276</td>\n",
       "      <td>0.783</td>\n",
       "    </tr>\n",
       "    <tr>\n",
       "      <th>3</th>\n",
       "      <td>0.827</td>\n",
       "      <td>0.157</td>\n",
       "      <td>0.628</td>\n",
       "    </tr>\n",
       "    <tr>\n",
       "      <th>4</th>\n",
       "      <td>0.847</td>\n",
       "      <td>0.234</td>\n",
       "      <td>0.747</td>\n",
       "    </tr>\n",
       "    <tr>\n",
       "      <th>5</th>\n",
       "      <td>0.837</td>\n",
       "      <td>0.218</td>\n",
       "      <td>0.710</td>\n",
       "    </tr>\n",
       "    <tr>\n",
       "      <th>...</th>\n",
       "      <th>...</th>\n",
       "      <td>...</td>\n",
       "      <td>...</td>\n",
       "      <td>...</td>\n",
       "    </tr>\n",
       "    <tr>\n",
       "      <th rowspan=\"5\" valign=\"top\">Macro</th>\n",
       "      <th>96</th>\n",
       "      <td>0.877</td>\n",
       "      <td>0.238</td>\n",
       "      <td>0.792</td>\n",
       "    </tr>\n",
       "    <tr>\n",
       "      <th>97</th>\n",
       "      <td>0.846</td>\n",
       "      <td>0.217</td>\n",
       "      <td>0.757</td>\n",
       "    </tr>\n",
       "    <tr>\n",
       "      <th>98</th>\n",
       "      <td>0.862</td>\n",
       "      <td>0.233</td>\n",
       "      <td>0.766</td>\n",
       "    </tr>\n",
       "    <tr>\n",
       "      <th>99</th>\n",
       "      <td>0.856</td>\n",
       "      <td>0.225</td>\n",
       "      <td>0.753</td>\n",
       "    </tr>\n",
       "    <tr>\n",
       "      <th>100</th>\n",
       "      <td>0.841</td>\n",
       "      <td>0.201</td>\n",
       "      <td>0.756</td>\n",
       "    </tr>\n",
       "  </tbody>\n",
       "</table>\n",
       "<p>500 rows × 3 columns</p>\n",
       "</div>"
      ],
      "text/plain": [
       "                 AUC    PPV  Specificity\n",
       "Cohort Sample                           \n",
       "0      1       0.841  0.209        0.706\n",
       "       2       0.845  0.276        0.783\n",
       "       3       0.827  0.157        0.628\n",
       "       4       0.847  0.234        0.747\n",
       "       5       0.837  0.218        0.710\n",
       "...              ...    ...          ...\n",
       "Macro  96      0.877  0.238        0.792\n",
       "       97      0.846  0.217        0.757\n",
       "       98      0.862  0.233        0.766\n",
       "       99      0.856  0.225        0.753\n",
       "       100     0.841  0.201        0.756\n",
       "\n",
       "[500 rows x 3 columns]"
      ]
     },
     "execution_count": 26,
     "metadata": {},
     "output_type": "execute_result"
    }
   ],
   "source": [
    "pd.options.display.max_rows = 20\n",
    "metrics_mtl_18_unsupervised_btstrp_df.round(3)"
   ]
  },
  {
   "cell_type": "markdown",
   "id": "93d467e8-64bd-4760-b740-b2ef4a81a030",
   "metadata": {},
   "source": [
    "#### 3.1.3. Summary"
   ]
  },
  {
   "cell_type": "markdown",
   "id": "be96e341-947e-478f-a0c7-dcee311bf307",
   "metadata": {},
   "source": [
    "Similar to Table 4 in paper, the dataframe below summarizes all results. Due to bootstrapping we will get 100 metric (AUC, PPV, or Specificity) values for every combination of experiment (24 hours or 48 hours), cohort type (careunits or unsupervised), and model type (global or multi-task. We will reduce that table in a next step."
   ]
  },
  {
   "cell_type": "code",
   "execution_count": 27,
   "id": "7d6d3f3e-6330-4c78-947f-f8aa3fe2b55b",
   "metadata": {},
   "outputs": [],
   "source": [
    "# Load multitask dfs if required\n",
    "metrics_global_18_careunits_btstrp_df = pd.read_hdf('../data/results/model_global_18+9_careunits_bootstrap-ON.h5')\n",
    "metrics_global_18_unsupervised_btstrp_df = pd.read_hdf('../data/results/model_global_18+9_unsupervised_bootstrap-ON.h5')\n",
    "metrics_mtl_18_careunits_btstrp_df = pd.read_hdf('../data/results/model_multitask_18+9_careunits_bootstrap-ON.h5')\n",
    "metrics_mtl_18_unsupervised_btstrp_df = pd.read_hdf('../data/results/model_multitask_18+9_unsupervised_bootstrap-ON.h5')"
   ]
  },
  {
   "cell_type": "code",
   "execution_count": 28,
   "id": "6b8a245a-b426-4885-89cc-338aeb3dd619",
   "metadata": {},
   "outputs": [],
   "source": [
    "summary_a_btstrp_df = metrics_global_18_unsupervised_btstrp_df.reset_index()\n",
    "summary_a_btstrp_df.rename(columns={'index': 'Cohort'}, inplace=True)\n",
    "summary_a_btstrp_df['Cohort type'] = 'Unsupervised'\n",
    "summary_a_btstrp_df['Model'] = 'Global'\n",
    "summary_a_btstrp_df['Experiment'] = '18 hours'\n",
    "\n",
    "summary_b_btstrp_df = metrics_global_18_careunits_btstrp_df.reset_index()\n",
    "summary_b_btstrp_df.rename(columns={'index': 'Cohort'}, inplace=True)\n",
    "summary_b_btstrp_df['Cohort type'] = 'Careunits'\n",
    "summary_b_btstrp_df['Model'] = 'Global'\n",
    "summary_b_btstrp_df['Experiment'] = '18 hours'\n",
    "\n",
    "summary_c_btstrp_df = metrics_mtl_18_unsupervised_btstrp_df.reset_index()\n",
    "summary_c_btstrp_df.rename(columns={'index': 'Cohort'}, inplace=True)\n",
    "summary_c_btstrp_df['Cohort type'] = 'Unsupervised'\n",
    "summary_c_btstrp_df['Model'] = 'Multi-task'\n",
    "summary_c_btstrp_df['Experiment'] = '18 hours'\n",
    "\n",
    "summary_d_btstrp_df = metrics_mtl_18_careunits_btstrp_df.reset_index()\n",
    "summary_d_btstrp_df.rename(columns={'index': 'Cohort'}, inplace=True)\n",
    "summary_d_btstrp_df['Cohort type'] = 'Careunits'\n",
    "summary_d_btstrp_df['Model'] = 'Multi-task'\n",
    "summary_d_btstrp_df['Experiment'] = '18 hours'\n",
    "\n",
    "summary_18_btstrp_df = pd.concat([summary_a_btstrp_df, summary_b_btstrp_df, summary_c_btstrp_df, summary_d_btstrp_df])\n",
    "\n",
    "# summary_e_btstrp_df = metrics_global_48_unsupervised_btstrp_df.reset_index()\n",
    "# summary_e_btstrp_df.rename(columns={'index': 'Cohort'}, inplace=True)\n",
    "# summary_e_btstrp_df['Cohort type'] = 'Unsupervised'\n",
    "# summary_e_btstrp_df['Model'] = 'Global'\n",
    "# summary_e_btstrp_df['Experiment'] = '48 hours'\n",
    "\n",
    "# summary_f_btstrp_df = metrics_global_48_careunits_btstrp_df.reset_index()\n",
    "# summary_f_btstrp_df.rename(columns={'index': 'Cohort'}, inplace=True)\n",
    "# summary_f_btstrp_df['Cohort type'] = 'Careunits'\n",
    "# summary_f_btstrp_df['Model'] = 'Global'\n",
    "# summary_f_btstrp_df['Experiment'] = '48 hours'\n",
    "\n",
    "# summary_g_btstrp_df = metrics_mtl_48_unsupervised_btstrp_df.reset_index()\n",
    "# summary_g_btstrp_df.rename(columns={'index': 'Cohort'}, inplace=True)\n",
    "# summary_g_btstrp_df['Cohort type'] = 'Unsupervised'\n",
    "# summary_g_btstrp_df['Model'] = 'Multi-task'\n",
    "# summary_g_btstrp_df['Experiment'] = '48 hours'\n",
    "\n",
    "# summary_h_btstrp_df = metrics_mtl_48_careunits_btstrp_df.reset_index()\n",
    "# summary_h_btstrp_df.rename(columns={'index': 'Cohort'}, inplace=True)\n",
    "# summary_h_btstrp_df['Cohort type'] = 'Careunits'\n",
    "# summary_h_btstrp_df['Model'] = 'Multi-task'\n",
    "# summary_h_btstrp_df['Experiment'] = '48 hours'\n",
    "\n",
    "# summary_48_btstrp_df = pd.concat([summary_e_btstrp_df, summary_f_btstrp_df, summary_g_btstrp_df, summary_h_btstrp_df])\n",
    "\n",
    "# summary_btstrp_df = pd.concat([summary_24_btstrp_df, summary_48_btstrp_df])\n",
    "\n",
    "summary_btstrp_df = summary_18_btstrp_df\n",
    "\n",
    "# This is a trick using a categorical data type to have Macro and Micro after Cohort names while displaying\n",
    "from pandas.api.types import CategoricalDtype\n",
    "cohort = CategoricalDtype(['0', '1', '2', 'CCU', 'CSRU', 'MICU', 'SICU', 'TSICU', 'Macro', 'Micro'], ordered=True)\n",
    "summary_btstrp_df['Cohort'] = summary_btstrp_df['Cohort'].astype(cohort)\n",
    "summary_btstrp_df = summary_btstrp_df.dropna()\n",
    "\n",
    "summary_btstrp_df = pd.melt(summary_btstrp_df, id_vars=['Cohort', 'Sample', 'Cohort type', 'Model', 'Experiment'], var_name='Metric')\n",
    "summary_btstrp_df = summary_btstrp_df.set_index(['Experiment', 'Cohort type', 'Cohort', 'Sample'])\n",
    "summary_btstrp_df = summary_btstrp_df.pivot(columns=['Metric', 'Model'], values='value')\n",
    "summary_btstrp_df = summary_btstrp_df.round(3)\n",
    "# Now summary_btstrp_df has all bootstrapped samples with right multi-indices for rows and columns!"
   ]
  },
  {
   "cell_type": "markdown",
   "id": "29dba52d-a5a5-4334-9250-1cce29f55065",
   "metadata": {},
   "source": [
    "##### 3.1.3.1. Mean values of metrics from bootstrapped samples"
   ]
  },
  {
   "cell_type": "markdown",
   "id": "30c87f18-b85e-461c-bdb4-0061f800bd91",
   "metadata": {},
   "source": [
    "Let's get the mean values of the 100 bootstrapped samples:"
   ]
  },
  {
   "cell_type": "code",
   "execution_count": 29,
   "id": "404d228b-ef74-4685-bfef-9e66109445ee",
   "metadata": {},
   "outputs": [
    {
     "data": {
      "text/html": [
       "<div>\n",
       "<style scoped>\n",
       "    .dataframe tbody tr th:only-of-type {\n",
       "        vertical-align: middle;\n",
       "    }\n",
       "\n",
       "    .dataframe tbody tr th {\n",
       "        vertical-align: top;\n",
       "    }\n",
       "\n",
       "    .dataframe thead tr th {\n",
       "        text-align: left;\n",
       "    }\n",
       "\n",
       "    .dataframe thead tr:last-of-type th {\n",
       "        text-align: right;\n",
       "    }\n",
       "</style>\n",
       "<table border=\"1\" class=\"dataframe\">\n",
       "  <thead>\n",
       "    <tr>\n",
       "      <th></th>\n",
       "      <th></th>\n",
       "      <th>Metric</th>\n",
       "      <th colspan=\"2\" halign=\"left\">AUC</th>\n",
       "      <th colspan=\"2\" halign=\"left\">PPV</th>\n",
       "      <th colspan=\"2\" halign=\"left\">Specificity</th>\n",
       "    </tr>\n",
       "    <tr>\n",
       "      <th></th>\n",
       "      <th></th>\n",
       "      <th>Model</th>\n",
       "      <th>Global</th>\n",
       "      <th>Multi-task</th>\n",
       "      <th>Global</th>\n",
       "      <th>Multi-task</th>\n",
       "      <th>Global</th>\n",
       "      <th>Multi-task</th>\n",
       "    </tr>\n",
       "    <tr>\n",
       "      <th>Experiment</th>\n",
       "      <th>Cohort type</th>\n",
       "      <th>Cohort</th>\n",
       "      <th></th>\n",
       "      <th></th>\n",
       "      <th></th>\n",
       "      <th></th>\n",
       "      <th></th>\n",
       "      <th></th>\n",
       "    </tr>\n",
       "  </thead>\n",
       "  <tbody>\n",
       "    <tr>\n",
       "      <th rowspan=\"12\" valign=\"top\">18 hours</th>\n",
       "      <th rowspan=\"7\" valign=\"top\">Careunits</th>\n",
       "      <th>CCU</th>\n",
       "      <td>0.826</td>\n",
       "      <td>0.830</td>\n",
       "      <td>0.162</td>\n",
       "      <td>0.150</td>\n",
       "      <td>0.728</td>\n",
       "      <td>0.702</td>\n",
       "    </tr>\n",
       "    <tr>\n",
       "      <th>CSRU</th>\n",
       "      <td>0.904</td>\n",
       "      <td>0.889</td>\n",
       "      <td>0.137</td>\n",
       "      <td>0.105</td>\n",
       "      <td>0.889</td>\n",
       "      <td>0.856</td>\n",
       "    </tr>\n",
       "    <tr>\n",
       "      <th>MICU</th>\n",
       "      <td>0.855</td>\n",
       "      <td>0.854</td>\n",
       "      <td>0.281</td>\n",
       "      <td>0.287</td>\n",
       "      <td>0.765</td>\n",
       "      <td>0.773</td>\n",
       "    </tr>\n",
       "    <tr>\n",
       "      <th>SICU</th>\n",
       "      <td>0.809</td>\n",
       "      <td>0.820</td>\n",
       "      <td>0.190</td>\n",
       "      <td>0.211</td>\n",
       "      <td>0.643</td>\n",
       "      <td>0.687</td>\n",
       "    </tr>\n",
       "    <tr>\n",
       "      <th>TSICU</th>\n",
       "      <td>0.871</td>\n",
       "      <td>0.863</td>\n",
       "      <td>0.218</td>\n",
       "      <td>0.213</td>\n",
       "      <td>0.751</td>\n",
       "      <td>0.750</td>\n",
       "    </tr>\n",
       "    <tr>\n",
       "      <th>Macro</th>\n",
       "      <td>0.853</td>\n",
       "      <td>0.851</td>\n",
       "      <td>0.198</td>\n",
       "      <td>0.193</td>\n",
       "      <td>0.755</td>\n",
       "      <td>0.754</td>\n",
       "    </tr>\n",
       "    <tr>\n",
       "      <th>Micro</th>\n",
       "      <td>0.865</td>\n",
       "      <td>0.866</td>\n",
       "      <td>0.224</td>\n",
       "      <td>0.227</td>\n",
       "      <td>0.777</td>\n",
       "      <td>0.780</td>\n",
       "    </tr>\n",
       "    <tr>\n",
       "      <th rowspan=\"5\" valign=\"top\">Unsupervised</th>\n",
       "      <th>0</th>\n",
       "      <td>0.863</td>\n",
       "      <td>0.855</td>\n",
       "      <td>0.265</td>\n",
       "      <td>0.250</td>\n",
       "      <td>0.787</td>\n",
       "      <td>0.767</td>\n",
       "    </tr>\n",
       "    <tr>\n",
       "      <th>1</th>\n",
       "      <td>0.839</td>\n",
       "      <td>0.841</td>\n",
       "      <td>0.178</td>\n",
       "      <td>0.181</td>\n",
       "      <td>0.715</td>\n",
       "      <td>0.719</td>\n",
       "    </tr>\n",
       "    <tr>\n",
       "      <th>2</th>\n",
       "      <td>0.888</td>\n",
       "      <td>0.877</td>\n",
       "      <td>0.245</td>\n",
       "      <td>0.234</td>\n",
       "      <td>0.820</td>\n",
       "      <td>0.811</td>\n",
       "    </tr>\n",
       "    <tr>\n",
       "      <th>Macro</th>\n",
       "      <td>0.863</td>\n",
       "      <td>0.858</td>\n",
       "      <td>0.229</td>\n",
       "      <td>0.221</td>\n",
       "      <td>0.774</td>\n",
       "      <td>0.765</td>\n",
       "    </tr>\n",
       "    <tr>\n",
       "      <th>Micro</th>\n",
       "      <td>0.865</td>\n",
       "      <td>0.859</td>\n",
       "      <td>0.223</td>\n",
       "      <td>0.214</td>\n",
       "      <td>0.775</td>\n",
       "      <td>0.762</td>\n",
       "    </tr>\n",
       "  </tbody>\n",
       "</table>\n",
       "</div>"
      ],
      "text/plain": [
       "Metric                            AUC               PPV             \\\n",
       "Model                          Global Multi-task Global Multi-task   \n",
       "Experiment Cohort type  Cohort                                       \n",
       "18 hours   Careunits    CCU     0.826      0.830  0.162      0.150   \n",
       "                        CSRU    0.904      0.889  0.137      0.105   \n",
       "                        MICU    0.855      0.854  0.281      0.287   \n",
       "                        SICU    0.809      0.820  0.190      0.211   \n",
       "                        TSICU   0.871      0.863  0.218      0.213   \n",
       "                        Macro   0.853      0.851  0.198      0.193   \n",
       "                        Micro   0.865      0.866  0.224      0.227   \n",
       "           Unsupervised 0       0.863      0.855  0.265      0.250   \n",
       "                        1       0.839      0.841  0.178      0.181   \n",
       "                        2       0.888      0.877  0.245      0.234   \n",
       "                        Macro   0.863      0.858  0.229      0.221   \n",
       "                        Micro   0.865      0.859  0.223      0.214   \n",
       "\n",
       "Metric                         Specificity             \n",
       "Model                               Global Multi-task  \n",
       "Experiment Cohort type  Cohort                         \n",
       "18 hours   Careunits    CCU          0.728      0.702  \n",
       "                        CSRU         0.889      0.856  \n",
       "                        MICU         0.765      0.773  \n",
       "                        SICU         0.643      0.687  \n",
       "                        TSICU        0.751      0.750  \n",
       "                        Macro        0.755      0.754  \n",
       "                        Micro        0.777      0.780  \n",
       "           Unsupervised 0            0.787      0.767  \n",
       "                        1            0.715      0.719  \n",
       "                        2            0.820      0.811  \n",
       "                        Macro        0.774      0.765  \n",
       "                        Micro        0.775      0.762  "
      ]
     },
     "execution_count": 29,
     "metadata": {},
     "output_type": "execute_result"
    }
   ],
   "source": [
    "pd.options.display.max_rows = 999\n",
    "summary_df = summary_btstrp_df.groupby(['Experiment', 'Cohort type', 'Cohort']).mean().round(3).dropna()\n",
    "summary_df"
   ]
  },
  {
   "cell_type": "markdown",
   "id": "e67d8c9a-dfd8-402b-9657-15bc85cb0a59",
   "metadata": {},
   "source": [
    "##### 3.1.3.2 Wilcoxon Signed-Rank Test"
   ]
  },
  {
   "cell_type": "markdown",
   "id": "fdf3d152-1204-44fb-9d53-750239712492",
   "metadata": {},
   "source": [
    "Now it is time to apply the Wilcoxon Signed-Rank Test. [This video](https://www.youtube.com/watch?v=v4ZHlTbTOK8) has a very good detailed explanation of the Wilcoxon Signed-Rank Test which is a non-parametric version of the paired t-test used when there are not many samples (which is our case)."
   ]
  },
  {
   "cell_type": "code",
   "execution_count": 30,
   "id": "a72dae71-aa7f-4956-b51a-ea3f51f0aa77",
   "metadata": {},
   "outputs": [],
   "source": [
    "from scipy.stats import wilcoxon\n",
    "\n",
    "def calc_wilcoxon(grp_df, what):\n",
    "    if (what == 'auc'):\n",
    "        # calculate p-value for AUC using Wilcoxon Signed Rank Test\n",
    "        x = grp_df[('AUC', 'Global')]\n",
    "        y = grp_df[('AUC', 'Multi-task')]\n",
    "        _, pvalue = wilcoxon(x, y)\n",
    "\n",
    "    if (what == 'ppv'):\n",
    "        # calculate p-value for PPV using Wilcoxon Signed Rank Test\n",
    "        x = grp_df[('PPV', 'Global')]\n",
    "        y = grp_df[('PPV', 'Multi-task')]\n",
    "        _, pvalue = wilcoxon(x, y)\n",
    "    \n",
    "    if (what == 'specificity'):\n",
    "        # calculate p-value for AUC using Wilcoxon Signed=Rank Test\n",
    "        x = grp_df[('Specificity', 'Global')]\n",
    "        y = grp_df[('Specificity', 'Multi-task')]\n",
    "        _, pvalue = wilcoxon(x, y)\n",
    "\n",
    "    return pvalue"
   ]
  },
  {
   "cell_type": "code",
   "execution_count": 31,
   "id": "a373080a-62b1-47a2-ae13-bd5dd3433e7e",
   "metadata": {},
   "outputs": [
    {
     "data": {
      "text/html": [
       "<div>\n",
       "<style scoped>\n",
       "    .dataframe tbody tr th:only-of-type {\n",
       "        vertical-align: middle;\n",
       "    }\n",
       "\n",
       "    .dataframe tbody tr th {\n",
       "        vertical-align: top;\n",
       "    }\n",
       "\n",
       "    .dataframe thead tr th {\n",
       "        text-align: left;\n",
       "    }\n",
       "\n",
       "    .dataframe thead tr:last-of-type th {\n",
       "        text-align: right;\n",
       "    }\n",
       "</style>\n",
       "<table border=\"1\" class=\"dataframe\">\n",
       "  <thead>\n",
       "    <tr>\n",
       "      <th></th>\n",
       "      <th></th>\n",
       "      <th>Metric</th>\n",
       "      <th colspan=\"3\" halign=\"left\">AUC</th>\n",
       "      <th colspan=\"3\" halign=\"left\">PPV</th>\n",
       "      <th colspan=\"3\" halign=\"left\">Specificity</th>\n",
       "    </tr>\n",
       "    <tr>\n",
       "      <th></th>\n",
       "      <th></th>\n",
       "      <th>Model</th>\n",
       "      <th>Global</th>\n",
       "      <th>Multi-task</th>\n",
       "      <th>p-value</th>\n",
       "      <th>Global</th>\n",
       "      <th>Multi-task</th>\n",
       "      <th>p-value</th>\n",
       "      <th>Global</th>\n",
       "      <th>Multi-task</th>\n",
       "      <th>p-value</th>\n",
       "    </tr>\n",
       "    <tr>\n",
       "      <th>Experiment</th>\n",
       "      <th>Cohort type</th>\n",
       "      <th>Cohort</th>\n",
       "      <th></th>\n",
       "      <th></th>\n",
       "      <th></th>\n",
       "      <th></th>\n",
       "      <th></th>\n",
       "      <th></th>\n",
       "      <th></th>\n",
       "      <th></th>\n",
       "      <th></th>\n",
       "    </tr>\n",
       "  </thead>\n",
       "  <tbody>\n",
       "    <tr>\n",
       "      <th rowspan=\"12\" valign=\"top\">18 hours</th>\n",
       "      <th rowspan=\"7\" valign=\"top\">Careunits</th>\n",
       "      <th>CCU</th>\n",
       "      <td>0.826</td>\n",
       "      <td>0.830</td>\n",
       "      <td>9.489908e-04</td>\n",
       "      <td>0.162</td>\n",
       "      <td>0.150</td>\n",
       "      <td>2.967098e-09</td>\n",
       "      <td>0.728</td>\n",
       "      <td>0.702</td>\n",
       "      <td>2.650068e-09</td>\n",
       "    </tr>\n",
       "    <tr>\n",
       "      <th>CSRU</th>\n",
       "      <td>0.904</td>\n",
       "      <td>0.889</td>\n",
       "      <td>4.991461e-13</td>\n",
       "      <td>0.137</td>\n",
       "      <td>0.105</td>\n",
       "      <td>3.537771e-13</td>\n",
       "      <td>0.889</td>\n",
       "      <td>0.856</td>\n",
       "      <td>3.373683e-12</td>\n",
       "    </tr>\n",
       "    <tr>\n",
       "      <th>MICU</th>\n",
       "      <td>0.855</td>\n",
       "      <td>0.854</td>\n",
       "      <td>2.216654e-01</td>\n",
       "      <td>0.281</td>\n",
       "      <td>0.287</td>\n",
       "      <td>2.029032e-03</td>\n",
       "      <td>0.765</td>\n",
       "      <td>0.773</td>\n",
       "      <td>4.890382e-04</td>\n",
       "    </tr>\n",
       "    <tr>\n",
       "      <th>SICU</th>\n",
       "      <td>0.809</td>\n",
       "      <td>0.820</td>\n",
       "      <td>1.134823e-13</td>\n",
       "      <td>0.190</td>\n",
       "      <td>0.211</td>\n",
       "      <td>2.863070e-11</td>\n",
       "      <td>0.643</td>\n",
       "      <td>0.687</td>\n",
       "      <td>5.806411e-11</td>\n",
       "    </tr>\n",
       "    <tr>\n",
       "      <th>TSICU</th>\n",
       "      <td>0.871</td>\n",
       "      <td>0.863</td>\n",
       "      <td>2.085378e-07</td>\n",
       "      <td>0.218</td>\n",
       "      <td>0.213</td>\n",
       "      <td>6.387350e-01</td>\n",
       "      <td>0.751</td>\n",
       "      <td>0.750</td>\n",
       "      <td>9.958226e-01</td>\n",
       "    </tr>\n",
       "    <tr>\n",
       "      <th>Macro</th>\n",
       "      <td>0.853</td>\n",
       "      <td>0.851</td>\n",
       "      <td>6.278749e-03</td>\n",
       "      <td>0.198</td>\n",
       "      <td>0.193</td>\n",
       "      <td>1.054349e-02</td>\n",
       "      <td>0.755</td>\n",
       "      <td>0.754</td>\n",
       "      <td>3.179575e-01</td>\n",
       "    </tr>\n",
       "    <tr>\n",
       "      <th>Micro</th>\n",
       "      <td>0.865</td>\n",
       "      <td>0.866</td>\n",
       "      <td>5.162135e-02</td>\n",
       "      <td>0.224</td>\n",
       "      <td>0.227</td>\n",
       "      <td>3.897671e-02</td>\n",
       "      <td>0.777</td>\n",
       "      <td>0.780</td>\n",
       "      <td>4.271698e-02</td>\n",
       "    </tr>\n",
       "    <tr>\n",
       "      <th rowspan=\"5\" valign=\"top\">Unsupervised</th>\n",
       "      <th>0</th>\n",
       "      <td>0.863</td>\n",
       "      <td>0.855</td>\n",
       "      <td>7.131375e-16</td>\n",
       "      <td>0.265</td>\n",
       "      <td>0.250</td>\n",
       "      <td>9.231651e-09</td>\n",
       "      <td>0.787</td>\n",
       "      <td>0.767</td>\n",
       "      <td>2.167479e-08</td>\n",
       "    </tr>\n",
       "    <tr>\n",
       "      <th>1</th>\n",
       "      <td>0.839</td>\n",
       "      <td>0.841</td>\n",
       "      <td>4.327318e-02</td>\n",
       "      <td>0.178</td>\n",
       "      <td>0.181</td>\n",
       "      <td>1.220589e-01</td>\n",
       "      <td>0.715</td>\n",
       "      <td>0.719</td>\n",
       "      <td>1.890099e-01</td>\n",
       "    </tr>\n",
       "    <tr>\n",
       "      <th>2</th>\n",
       "      <td>0.888</td>\n",
       "      <td>0.877</td>\n",
       "      <td>5.518656e-18</td>\n",
       "      <td>0.245</td>\n",
       "      <td>0.234</td>\n",
       "      <td>2.216231e-04</td>\n",
       "      <td>0.820</td>\n",
       "      <td>0.811</td>\n",
       "      <td>2.000922e-04</td>\n",
       "    </tr>\n",
       "    <tr>\n",
       "      <th>Macro</th>\n",
       "      <td>0.863</td>\n",
       "      <td>0.858</td>\n",
       "      <td>1.900599e-17</td>\n",
       "      <td>0.229</td>\n",
       "      <td>0.221</td>\n",
       "      <td>4.312671e-08</td>\n",
       "      <td>0.774</td>\n",
       "      <td>0.765</td>\n",
       "      <td>2.087352e-06</td>\n",
       "    </tr>\n",
       "    <tr>\n",
       "      <th>Micro</th>\n",
       "      <td>0.865</td>\n",
       "      <td>0.859</td>\n",
       "      <td>8.421750e-18</td>\n",
       "      <td>0.223</td>\n",
       "      <td>0.214</td>\n",
       "      <td>2.971699e-09</td>\n",
       "      <td>0.775</td>\n",
       "      <td>0.762</td>\n",
       "      <td>1.199918e-09</td>\n",
       "    </tr>\n",
       "  </tbody>\n",
       "</table>\n",
       "</div>"
      ],
      "text/plain": [
       "Metric                            AUC                             PPV  \\\n",
       "Model                          Global Multi-task       p-value Global   \n",
       "Experiment Cohort type  Cohort                                          \n",
       "18 hours   Careunits    CCU     0.826      0.830  9.489908e-04  0.162   \n",
       "                        CSRU    0.904      0.889  4.991461e-13  0.137   \n",
       "                        MICU    0.855      0.854  2.216654e-01  0.281   \n",
       "                        SICU    0.809      0.820  1.134823e-13  0.190   \n",
       "                        TSICU   0.871      0.863  2.085378e-07  0.218   \n",
       "                        Macro   0.853      0.851  6.278749e-03  0.198   \n",
       "                        Micro   0.865      0.866  5.162135e-02  0.224   \n",
       "           Unsupervised 0       0.863      0.855  7.131375e-16  0.265   \n",
       "                        1       0.839      0.841  4.327318e-02  0.178   \n",
       "                        2       0.888      0.877  5.518656e-18  0.245   \n",
       "                        Macro   0.863      0.858  1.900599e-17  0.229   \n",
       "                        Micro   0.865      0.859  8.421750e-18  0.223   \n",
       "\n",
       "Metric                                                  Specificity  \\\n",
       "Model                          Multi-task       p-value      Global   \n",
       "Experiment Cohort type  Cohort                                        \n",
       "18 hours   Careunits    CCU         0.150  2.967098e-09       0.728   \n",
       "                        CSRU        0.105  3.537771e-13       0.889   \n",
       "                        MICU        0.287  2.029032e-03       0.765   \n",
       "                        SICU        0.211  2.863070e-11       0.643   \n",
       "                        TSICU       0.213  6.387350e-01       0.751   \n",
       "                        Macro       0.193  1.054349e-02       0.755   \n",
       "                        Micro       0.227  3.897671e-02       0.777   \n",
       "           Unsupervised 0           0.250  9.231651e-09       0.787   \n",
       "                        1           0.181  1.220589e-01       0.715   \n",
       "                        2           0.234  2.216231e-04       0.820   \n",
       "                        Macro       0.221  4.312671e-08       0.774   \n",
       "                        Micro       0.214  2.971699e-09       0.775   \n",
       "\n",
       "Metric                                                   \n",
       "Model                          Multi-task       p-value  \n",
       "Experiment Cohort type  Cohort                           \n",
       "18 hours   Careunits    CCU         0.702  2.650068e-09  \n",
       "                        CSRU        0.856  3.373683e-12  \n",
       "                        MICU        0.773  4.890382e-04  \n",
       "                        SICU        0.687  5.806411e-11  \n",
       "                        TSICU       0.750  9.958226e-01  \n",
       "                        Macro       0.754  3.179575e-01  \n",
       "                        Micro       0.780  4.271698e-02  \n",
       "           Unsupervised 0           0.767  2.167479e-08  \n",
       "                        1           0.719  1.890099e-01  \n",
       "                        2           0.811  2.000922e-04  \n",
       "                        Macro       0.765  2.087352e-06  \n",
       "                        Micro       0.762  1.199918e-09  "
      ]
     },
     "execution_count": 31,
     "metadata": {},
     "output_type": "execute_result"
    }
   ],
   "source": [
    "summary_df.loc[:, ('AUC', 'p-value')] = summary_btstrp_df.groupby(['Experiment', 'Cohort type', 'Cohort']).apply(calc_wilcoxon, what='auc')\n",
    "summary_df.loc[:, ('PPV', 'p-value')] = summary_btstrp_df.groupby(['Experiment', 'Cohort type', 'Cohort']).apply(calc_wilcoxon, what='ppv')\n",
    "summary_df.loc[:, ('Specificity', 'p-value')] = summary_btstrp_df.groupby(['Experiment', 'Cohort type', 'Cohort']).apply(calc_wilcoxon, what='specificity')\n",
    "cols = [('AUC', 'Global'), ('AUC', 'Multi-task'), ('AUC', 'p-value'),\n",
    "        ('PPV', 'Global'), ('PPV', 'Multi-task'), ('PPV', 'p-value'),\n",
    "        ('Specificity', 'Global'), ('Specificity', 'Multi-task'), ('Specificity', 'p-value')]\n",
    "summary_df = summary_df[cols]\n",
    "summary_df"
   ]
  },
  {
   "cell_type": "markdown",
   "id": "c7f9db64-0ea1-430f-bd7c-ad92c01d52d7",
   "metadata": {},
   "source": [
    "End time"
   ]
  },
  {
   "cell_type": "code",
   "execution_count": 48,
   "id": "3bcc3686-2ce2-49db-be67-fb2d5b218ceb",
   "metadata": {
    "tags": []
   },
   "outputs": [
    {
     "name": "stdout",
     "output_type": "stream",
     "text": [
      "End time: 19/04/2023 23:41:08\n",
      "This run took 0:58:10 hours:min:sec to run\n"
     ]
    }
   ],
   "source": [
    "# store/print end time to measure runtime\n",
    "endtime = datetime.now(pytz.timezone('America/New_York')).strftime(\"%d/%m/%Y %H:%M:%S\")\n",
    "print(f'End time: {endtime}')\n",
    "\n",
    "# store/print run time\n",
    "print(f'This run took {datetime.strptime(endtime, \"%d/%m/%Y %H:%M:%S\") - datetime.strptime(starttime, \"%d/%m/%Y %H:%M:%S\")} hours:min:sec to run')"
   ]
  },
  {
   "cell_type": "code",
   "execution_count": null,
   "id": "5a6436bc-4939-4bd0-90c9-9399d3f9261b",
   "metadata": {},
   "outputs": [],
   "source": []
  }
 ],
 "metadata": {
  "kernelspec": {
   "display_name": "Python 3 (ipykernel)",
   "language": "python",
   "name": "python3"
  },
  "language_info": {
   "codemirror_mode": {
    "name": "ipython",
    "version": 3
   },
   "file_extension": ".py",
   "mimetype": "text/x-python",
   "name": "python",
   "nbconvert_exporter": "python",
   "pygments_lexer": "ipython3",
   "version": "3.9.12"
  },
  "toc-autonumbering": false,
  "toc-showcode": false,
  "toc-showmarkdowntxt": false,
  "toc-showtags": false
 },
 "nbformat": 4,
 "nbformat_minor": 5
}
