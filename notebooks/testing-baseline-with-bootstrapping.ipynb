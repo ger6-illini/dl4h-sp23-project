{
 "cells": [
  {
   "cell_type": "markdown",
   "id": "97cd5f07",
   "metadata": {},
   "source": [
    "# Testing Baseline with Bootstrapping (Global Model)"
   ]
  },
  {
   "cell_type": "markdown",
   "id": "7025cd50",
   "metadata": {},
   "source": [
    "Importing the functions needed from the `mtl_patients` module:"
   ]
  },
  {
   "cell_type": "code",
   "execution_count": 1,
   "id": "531ddfa8",
   "metadata": {},
   "outputs": [
    {
     "name": "stderr",
     "output_type": "stream",
     "text": [
      "2023-03-29 17:52:29.255112: I tensorflow/core/platform/cpu_feature_guard.cc:193] This TensorFlow binary is optimized with oneAPI Deep Neural Network Library (oneDNN) to use the following CPU instructions in performance-critical operations:  SSE4.1 SSE4.2\n",
      "To enable them in other operations, rebuild TensorFlow with the appropriate compiler flags.\n"
     ]
    }
   ],
   "source": [
    "%load_ext autoreload\n",
    "%autoreload 2\n",
    "\n",
    "import numpy as np\n",
    "import pandas as pd\n",
    "\n",
    "import sys\n",
    "pathname = \"../code/\"\n",
    "if pathname not in sys.path:\n",
    "    sys.path.append(\"../code/\")\n",
    "\n",
    "from mtl_patients import run_mortality_prediction_task"
   ]
  },
  {
   "cell_type": "markdown",
   "id": "60cbbf23",
   "metadata": {},
   "source": [
    "## `run_mortality_prediction_task()` step by step"
   ]
  },
  {
   "cell_type": "markdown",
   "id": "f908f944",
   "metadata": {},
   "source": [
    "### Imports needed"
   ]
  },
  {
   "cell_type": "code",
   "execution_count": 15,
   "id": "d6277f56",
   "metadata": {},
   "outputs": [],
   "source": [
    "import os\n",
    "import tensorflow as tf\n",
    "import numpy as np\n",
    "import pandas as pd\n",
    "import random\n",
    "from keras.callbacks import EarlyStopping\n",
    "from keras.layers import Input, Dense, LSTM, RepeatVector\n",
    "from keras.models import Model, Sequential\n",
    "from keras.optimizers import Adam\n",
    "from sklearn.metrics import roc_auc_score, precision_score, recall_score\n",
    "from sklearn.mixture import GaussianMixture\n",
    "from sklearn.model_selection import train_test_split"
   ]
  },
  {
   "cell_type": "code",
   "execution_count": 4,
   "id": "06ff5fdb",
   "metadata": {},
   "outputs": [],
   "source": [
    "from mtl_patients import set_global_determinism, prepare_data, stratified_split, create_single_task_learning_model"
   ]
  },
  {
   "cell_type": "markdown",
   "id": "88ff8388",
   "metadata": {},
   "source": [
    "### Arguments"
   ]
  },
  {
   "cell_type": "code",
   "execution_count": 8,
   "id": "77365484",
   "metadata": {},
   "outputs": [],
   "source": [
    "model_type='global'\n",
    "cutoff_hours=24\n",
    "gap_hours=12\n",
    "save_to_folder='../data/'\n",
    "cohort_criteria_to_select='careunits'\n",
    "seed=0\n",
    "cohort_unsupervised_filename='../data/unsupervised_clusters.npy'\n",
    "lstm_layer_size=16\n",
    "epochs=30\n",
    "learning_rate=0.0001\n",
    "use_cohort_inv_freq_weights=False\n",
    "bootstrap=False\n",
    "num_bootstrapped_samples=100\n",
    "SEED=0"
   ]
  },
  {
   "cell_type": "markdown",
   "id": "acaf8062",
   "metadata": {},
   "source": [
    "### Code common to all models"
   ]
  },
  {
   "cell_type": "code",
   "execution_count": 9,
   "id": "ff468efd",
   "metadata": {},
   "outputs": [
    {
     "name": "stdout",
     "output_type": "stream",
     "text": [
      "++++++++++++++++++++++++++++++++++++++++++++++++++++++++++++++++++++++++++++++++\n",
      "Preparing the data\n",
      "--------------------------------------------------------------------------------\n",
      "    Loading data from MIMIC-Extract pipeline...\n",
      "    Adding SAPS II score to static dataset...\n",
      "    Adding mortality columns to static dataset...\n",
      "    Discretizing X...\n",
      "        X.shape: (2200954, 33), X.subject_id.nunique(): 34472\n",
      "        X_discrete.shape: (2200954, 225), X_discrete.subject_id.nunique(): 34472\n",
      "    Keep only X_discrete[X_discrete.hours_in < 24]...\n",
      "        New X_discrete.shape: (808539, 223), new X_discrete.subject_id.nunique(): 34472\n",
      "    Padding patients with less than 24 hours of data...\n",
      "    Merging dataframes to create X_full...\n",
      "    Mortality per careunit...\n",
      "        MICU: 1138 out of 11403\n",
      "        SICU: 409 out of 5187\n",
      "        CCU: 344 out of 4907\n",
      "        CSRU: 139 out of 6971\n",
      "        TSICU: 291 out of 4245\n",
      "    Final shape of X: (32713, 24, 232)\n",
      "    Number of positive samples: 2321\n",
      "    Done!\n",
      "++++++++++++++++++++++++++++++++++++++++++++++++++++++++++++++++++++++++++++++++\n",
      "Running the Mortality Prediction Task\n",
      "--------------------------------------------------------------------------------\n",
      "    Splitting data into train/validation/test sets...\n",
      "    Calculating number of training samples in cohort...\n",
      "        # of patients in cohort CCU is 3464\n",
      "        # of patients in cohort CSRU is 4848\n",
      "        # of patients in cohort MICU is 7912\n",
      "        # of patients in cohort SICU is 3696\n",
      "        # of patients in cohort TSICU is 2978\n"
     ]
    }
   ],
   "source": [
    "# setting the seeds to get reproducible results\n",
    "# taken from https://stackoverflow.com/questions/36288235/how-to-get-stable-results-with-tensorflow-setting-random-seed\n",
    "set_global_determinism(seed=seed)\n",
    "\n",
    "# create folders to store models and results\n",
    "for folder in ['results', 'models']:\n",
    "    if not os.path.exists(os.path.join(save_to_folder, folder)):\n",
    "        os.makedirs(os.path.join(save_to_folder, folder))\n",
    "\n",
    "X, Y, careunits, sapsii_quartile, subject_ids = prepare_data(cutoff_hours=cutoff_hours, gap_hours=gap_hours)\n",
    "Y = Y.astype(int) # Y is originally a boolean\n",
    "\n",
    "print('+' * 80, flush=True)\n",
    "print('Running the Mortality Prediction Task', flush=True)\n",
    "print('-' * 80, flush=True)\n",
    "\n",
    "# fetch right cohort criteria\n",
    "if cohort_criteria_to_select == 'careunits':\n",
    "    cohort_criteria = careunits\n",
    "elif cohort_criteria_to_select == 'sapsii_quartile':\n",
    "    cohort_criteria = sapsii_quartile\n",
    "elif cohort_criteria_to_select == 'unsupervised':\n",
    "    cohort_criteria = np.load(f\"{cohort_unsupervised_filename}\")\n",
    "\n",
    "# Do train/validation/test split using `cohort_criteria` as the cohort classifier\n",
    "print('    Splitting data into train/validation/test sets...', flush=True)\n",
    "X_train, X_val, X_test, y_train, y_val, y_test, cohorts_train, cohorts_val, cohorts_test = \\\n",
    "    stratified_split(X, Y, cohort_criteria, train_val_random_seed=seed)\n",
    "\n",
    "# one task by distinct cohort\n",
    "tasks = np.unique(cohorts_train)\n",
    "\n",
    "# calculate number of samples per cohort and its reciprocal\n",
    "# (to be used in sample weight calculation)\n",
    "print('    Calculating number of training samples in cohort...', flush=True)\n",
    "task_weights = {}\n",
    "for cohort in tasks:\n",
    "    num_samples_in_cohort = len(np.where(cohorts_train == cohort)[0])\n",
    "    print(f\"        # of patients in cohort {cohort} is {str(num_samples_in_cohort)}\")\n",
    "    task_weights[cohort] = len(X_train) / num_samples_in_cohort\n",
    "\n",
    "sample_weight = None\n",
    "if use_cohort_inv_freq_weights:\n",
    "    # calculate sample weight as the cohort's inverse frequency corresponding to each sample\n",
    "    sample_weight = np.array([task_weights[cohort] for cohort in cohorts_train])\n",
    "\n",
    "model_filename = f\"{save_to_folder}models/model_{cutoff_hours}+{gap_hours}_{cohort_criteria_to_select}\"\n",
    "results_filename = f'{save_to_folder}results/model_{cutoff_hours}+{gap_hours}_{cohort_criteria_to_select}.h5'"
   ]
  },
  {
   "cell_type": "markdown",
   "id": "585d972c",
   "metadata": {},
   "source": [
    "### Global model common code"
   ]
  },
  {
   "cell_type": "code",
   "execution_count": 12,
   "id": "675ffc1c",
   "metadata": {},
   "outputs": [
    {
     "name": "stdout",
     "output_type": "stream",
     "text": [
      "    ~~~~~~~~~~~~~~~~~~~~~~~~~~~~~~~~~~~~~~~~~~~~~~~~~~~~~~~~~~~~~~~~~~~~~~~~~~~~\n",
      "    Training 'global' model...\n",
      "Model: \"sequential\"\n",
      "_________________________________________________________________\n",
      " Layer (type)                Output Shape              Param #   \n",
      "=================================================================\n",
      " lstm (LSTM)                 (None, 16)                15936     \n",
      "                                                                 \n",
      " dense (Dense)               (None, 1)                 17        \n",
      "                                                                 \n",
      "=================================================================\n",
      "Total params: 15,953\n",
      "Trainable params: 15,953\n",
      "Non-trainable params: 0\n",
      "_________________________________________________________________\n",
      "None\n"
     ]
    },
    {
     "name": "stderr",
     "output_type": "stream",
     "text": [
      "2023-03-29 18:36:54.965921: I tensorflow/core/platform/cpu_feature_guard.cc:193] This TensorFlow binary is optimized with oneAPI Deep Neural Network Library (oneDNN) to use the following CPU instructions in performance-critical operations:  SSE4.1 SSE4.2\n",
      "To enable them in other operations, rebuild TensorFlow with the appropriate compiler flags.\n"
     ]
    },
    {
     "name": "stdout",
     "output_type": "stream",
     "text": [
      "Epoch 1/30\n",
      "229/229 [==============================] - 4s 12ms/step - loss: 0.3924 - accuracy: 0.9268 - val_loss: 0.2854 - val_accuracy: 0.9291\n",
      "Epoch 2/30\n",
      "229/229 [==============================] - 3s 11ms/step - loss: 0.2627 - accuracy: 0.9290 - val_loss: 0.2531 - val_accuracy: 0.9291\n",
      "Epoch 3/30\n",
      "229/229 [==============================] - 3s 11ms/step - loss: 0.2367 - accuracy: 0.9290 - val_loss: 0.2317 - val_accuracy: 0.9291\n",
      "Epoch 4/30\n",
      "229/229 [==============================] - 3s 11ms/step - loss: 0.2202 - accuracy: 0.9290 - val_loss: 0.2205 - val_accuracy: 0.9291\n",
      "Epoch 5/30\n",
      "229/229 [==============================] - 3s 11ms/step - loss: 0.2109 - accuracy: 0.9290 - val_loss: 0.2139 - val_accuracy: 0.9291\n",
      "Epoch 6/30\n",
      "229/229 [==============================] - 3s 11ms/step - loss: 0.2047 - accuracy: 0.9291 - val_loss: 0.2097 - val_accuracy: 0.9291\n",
      "Epoch 7/30\n",
      "229/229 [==============================] - 3s 11ms/step - loss: 0.1991 - accuracy: 0.9294 - val_loss: 0.2059 - val_accuracy: 0.9297\n",
      "Epoch 8/30\n",
      "229/229 [==============================] - 3s 11ms/step - loss: 0.1949 - accuracy: 0.9309 - val_loss: 0.2036 - val_accuracy: 0.9312\n",
      "Epoch 9/30\n",
      "229/229 [==============================] - 2s 11ms/step - loss: 0.1916 - accuracy: 0.9324 - val_loss: 0.2015 - val_accuracy: 0.9315\n",
      "Epoch 10/30\n",
      "229/229 [==============================] - 3s 11ms/step - loss: 0.1885 - accuracy: 0.9333 - val_loss: 0.2011 - val_accuracy: 0.9331\n",
      "Epoch 11/30\n",
      "229/229 [==============================] - 3s 11ms/step - loss: 0.1864 - accuracy: 0.9341 - val_loss: 0.1995 - val_accuracy: 0.9315\n",
      "Epoch 12/30\n",
      "229/229 [==============================] - 2s 11ms/step - loss: 0.1847 - accuracy: 0.9342 - val_loss: 0.1983 - val_accuracy: 0.9340\n",
      "Epoch 13/30\n",
      "229/229 [==============================] - 3s 11ms/step - loss: 0.1832 - accuracy: 0.9347 - val_loss: 0.1984 - val_accuracy: 0.9331\n",
      "Epoch 14/30\n",
      "229/229 [==============================] - 3s 11ms/step - loss: 0.1818 - accuracy: 0.9348 - val_loss: 0.1980 - val_accuracy: 0.9349\n",
      "Epoch 15/30\n",
      "229/229 [==============================] - 3s 11ms/step - loss: 0.1805 - accuracy: 0.9356 - val_loss: 0.1963 - val_accuracy: 0.9346\n",
      "Epoch 16/30\n",
      "229/229 [==============================] - 3s 11ms/step - loss: 0.1792 - accuracy: 0.9356 - val_loss: 0.1963 - val_accuracy: 0.9346\n",
      "Epoch 17/30\n",
      "229/229 [==============================] - 3s 11ms/step - loss: 0.1782 - accuracy: 0.9358 - val_loss: 0.1965 - val_accuracy: 0.9352\n",
      "Epoch 18/30\n",
      "229/229 [==============================] - 3s 11ms/step - loss: 0.1773 - accuracy: 0.9364 - val_loss: 0.1954 - val_accuracy: 0.9352\n",
      "Epoch 19/30\n",
      "229/229 [==============================] - 3s 11ms/step - loss: 0.1765 - accuracy: 0.9365 - val_loss: 0.1953 - val_accuracy: 0.9343\n",
      "Epoch 20/30\n",
      "229/229 [==============================] - 3s 11ms/step - loss: 0.1754 - accuracy: 0.9369 - val_loss: 0.1960 - val_accuracy: 0.9337\n",
      "Epoch 21/30\n",
      "229/229 [==============================] - 3s 11ms/step - loss: 0.1750 - accuracy: 0.9368 - val_loss: 0.1962 - val_accuracy: 0.9346\n",
      "Epoch 22/30\n",
      "229/229 [==============================] - 3s 11ms/step - loss: 0.1742 - accuracy: 0.9371 - val_loss: 0.1951 - val_accuracy: 0.9352\n",
      "Epoch 23/30\n",
      "229/229 [==============================] - 2s 11ms/step - loss: 0.1735 - accuracy: 0.9376 - val_loss: 0.1965 - val_accuracy: 0.9346\n",
      "Epoch 24/30\n",
      "229/229 [==============================] - 2s 11ms/step - loss: 0.1723 - accuracy: 0.9378 - val_loss: 0.1960 - val_accuracy: 0.9346\n",
      "Epoch 25/30\n",
      "229/229 [==============================] - 3s 11ms/step - loss: 0.1716 - accuracy: 0.9377 - val_loss: 0.1954 - val_accuracy: 0.9349\n",
      "Epoch 26/30\n",
      "229/229 [==============================] - 3s 11ms/step - loss: 0.1708 - accuracy: 0.9379 - val_loss: 0.1961 - val_accuracy: 0.9355\n",
      "INFO:tensorflow:Assets written to: ../data/models/model_24+12_careunits/assets\n",
      "    ~~~~~~~~~~~~~~~~~~~~~~~~~~~~~~~~~~~~~~~~~~~~~~~~~~~~~~~~~~~~~~~~~~~~~~~~~~~~\n",
      "    Predicting using 'global' model...\n",
      "205/205 [==============================] - 1s 2ms/step\n"
     ]
    }
   ],
   "source": [
    "#-----------------------\n",
    "# train the global model\n",
    "\n",
    "print('    ' + '~' * 76)\n",
    "print(f\"    Training '{model_type}' model...\")\n",
    "\n",
    "model = create_single_task_learning_model(lstm_layer_size=lstm_layer_size, input_dims=X_train.shape[1:],\n",
    "                                          output_dims=1, learning_rate=learning_rate)\n",
    "print(model.summary())\n",
    "\n",
    "early_stopping = EarlyStopping(monitor='val_loss', patience=4)\n",
    "\n",
    "model.fit(X_train, y_train, epochs=epochs, batch_size=100, sample_weight=sample_weight,\n",
    "          callbacks=[early_stopping], validation_data=(X_val, y_val))\n",
    "model.save(model_filename)\n",
    "\n",
    "print('    ' + '~' * 76)\n",
    "print(f\"    Predicting using '{model_type}' model...\", flush=True)\n",
    "y_scores = np.squeeze(model.predict(X_test))\n",
    "y_pred = (y_scores > 0.5).astype(\"int32\")\n",
    "\n",
    "# calculate AUC, PPV, and Specificity for every cohort\n",
    "# https://www.ncbi.nlm.nih.gov/pmc/articles/PMC8156826/\n",
    "# https://stackoverflow.com/questions/56253863/precision-recall-and-confusion-matrix-problems-in-sklearn\n",
    "# https://stackoverflow.com/questions/33275461/specificity-in-scikit-learn\n",
    "# PPV (Predictive Positive Value) is same as precision\n",
    "# Specificity is same as recall of the negative class... using that trick to get it in sklearn\n",
    "lst_of_auc = []\n",
    "lst_of_ppv = []\n",
    "lst_of_specificity = []"
   ]
  },
  {
   "cell_type": "code",
   "execution_count": 77,
   "id": "244404cf",
   "metadata": {},
   "outputs": [],
   "source": [
    "if not bootstrap:\n",
    "\n",
    "    metrics_df = pd.DataFrame(index=np.append(tasks, ['Macro', 'Micro']))\n",
    "\n",
    "    for task in tasks:\n",
    "        auc = roc_auc_score(y_test[cohorts_test == task], y_scores[cohorts_test == task])\n",
    "        ppv = precision_score(y_test[cohorts_test == task], y_pred[cohorts_test == task])\n",
    "        specificity = recall_score(y_test[cohorts_test == task], y_pred[cohorts_test == task], pos_label=0)\n",
    "        metrics_df.loc[task, 'AUC'] = auc\n",
    "        metrics_df.loc[task, 'PPV'] = ppv\n",
    "        metrics_df.loc[task, 'Specificity'] = specificity\n",
    "\n",
    "    # calculate macro AUC\n",
    "    metrics_df.loc['Macro', :] = metrics_df.loc[(metrics_df.index != 'Macro') & (metrics_df.index != 'Micro')].mean()\n",
    "\n",
    "    # calculate micro AUC\n",
    "    metrics_df.loc['Micro', 'AUC'] = roc_auc_score(y_test, y_scores)\n",
    "    metrics_df.loc['Micro', 'PPV'] = precision_score(y_test, y_pred)\n",
    "    metrics_df.loc['Micro', 'Specificity'] = recall_score(y_test, y_pred, pos_label=0)"
   ]
  },
  {
   "cell_type": "code",
   "execution_count": 78,
   "id": "c34fa566",
   "metadata": {},
   "outputs": [
    {
     "data": {
      "text/html": [
       "<div>\n",
       "<style scoped>\n",
       "    .dataframe tbody tr th:only-of-type {\n",
       "        vertical-align: middle;\n",
       "    }\n",
       "\n",
       "    .dataframe tbody tr th {\n",
       "        vertical-align: top;\n",
       "    }\n",
       "\n",
       "    .dataframe thead th {\n",
       "        text-align: right;\n",
       "    }\n",
       "</style>\n",
       "<table border=\"1\" class=\"dataframe\">\n",
       "  <thead>\n",
       "    <tr style=\"text-align: right;\">\n",
       "      <th></th>\n",
       "      <th>AUC</th>\n",
       "      <th>PPV</th>\n",
       "      <th>Specificity</th>\n",
       "    </tr>\n",
       "  </thead>\n",
       "  <tbody>\n",
       "    <tr>\n",
       "      <th>CCU</th>\n",
       "      <td>0.866500</td>\n",
       "      <td>0.666667</td>\n",
       "      <td>0.993457</td>\n",
       "    </tr>\n",
       "    <tr>\n",
       "      <th>CSRU</th>\n",
       "      <td>0.889536</td>\n",
       "      <td>0.333333</td>\n",
       "      <td>0.997141</td>\n",
       "    </tr>\n",
       "    <tr>\n",
       "      <th>MICU</th>\n",
       "      <td>0.828538</td>\n",
       "      <td>0.661765</td>\n",
       "      <td>0.988731</td>\n",
       "    </tr>\n",
       "    <tr>\n",
       "      <th>SICU</th>\n",
       "      <td>0.853458</td>\n",
       "      <td>0.619048</td>\n",
       "      <td>0.991407</td>\n",
       "    </tr>\n",
       "    <tr>\n",
       "      <th>TSICU</th>\n",
       "      <td>0.866083</td>\n",
       "      <td>0.583333</td>\n",
       "      <td>0.993679</td>\n",
       "    </tr>\n",
       "    <tr>\n",
       "      <th>Macro</th>\n",
       "      <td>0.860823</td>\n",
       "      <td>0.572829</td>\n",
       "      <td>0.992883</td>\n",
       "    </tr>\n",
       "    <tr>\n",
       "      <th>Micro</th>\n",
       "      <td>0.863960</td>\n",
       "      <td>0.632000</td>\n",
       "      <td>0.992433</td>\n",
       "    </tr>\n",
       "  </tbody>\n",
       "</table>\n",
       "</div>"
      ],
      "text/plain": [
       "            AUC       PPV  Specificity\n",
       "CCU    0.866500  0.666667     0.993457\n",
       "CSRU   0.889536  0.333333     0.997141\n",
       "MICU   0.828538  0.661765     0.988731\n",
       "SICU   0.853458  0.619048     0.991407\n",
       "TSICU  0.866083  0.583333     0.993679\n",
       "Macro  0.860823  0.572829     0.992883\n",
       "Micro  0.863960  0.632000     0.992433"
      ]
     },
     "execution_count": 78,
     "metadata": {},
     "output_type": "execute_result"
    }
   ],
   "source": [
    "metrics_df"
   ]
  },
  {
   "cell_type": "code",
   "execution_count": 13,
   "id": "51d9b262",
   "metadata": {},
   "outputs": [],
   "source": [
    "from mtl_patients import bootstrap_predict"
   ]
  },
  {
   "cell_type": "code",
   "execution_count": 25,
   "id": "45b978a0",
   "metadata": {},
   "outputs": [
    {
     "data": {
      "text/plain": [
       "array(['CCU', 'CSRU', 'MICU', 'SICU', 'TSICU'], dtype=object)"
      ]
     },
     "execution_count": 25,
     "metadata": {},
     "output_type": "execute_result"
    }
   ],
   "source": [
    "tasks"
   ]
  },
  {
   "cell_type": "code",
   "execution_count": 51,
   "id": "013b41a1",
   "metadata": {},
   "outputs": [
    {
     "name": "stdout",
     "output_type": "stream",
     "text": [
      "    Bootstrap prediction for task \"all\"...\n"
     ]
    }
   ],
   "source": [
    "task = 'all'\n",
    "all_auc = bootstrap_predict(X_test, y_test, cohorts_test, task, model, num_bootstrap_samples=num_bootstrapped_samples)"
   ]
  },
  {
   "cell_type": "code",
   "execution_count": 52,
   "id": "77d34ad5",
   "metadata": {},
   "outputs": [
    {
     "data": {
      "text/plain": [
       "[0.8739970418228951,\n",
       " 0.8565794623662015,\n",
       " 0.8714618159747236,\n",
       " 0.8629457119194968,\n",
       " 0.870499273927767,\n",
       " 0.8497803347873687,\n",
       " 0.8623905219211419,\n",
       " 0.8720248055771425,\n",
       " 0.8661502856073197,\n",
       " 0.8670982920285211,\n",
       " 0.8695966470211185,\n",
       " 0.858191144187735,\n",
       " 0.8450807188115106,\n",
       " 0.8692095030375913,\n",
       " 0.863687737887924,\n",
       " 0.8475812009688526,\n",
       " 0.850493644031743,\n",
       " 0.8540055930251687,\n",
       " 0.8654972460307107,\n",
       " 0.8675524417015049,\n",
       " 0.85117469127749,\n",
       " 0.8618328502305845,\n",
       " 0.8595521750968569,\n",
       " 0.8777447515755201,\n",
       " 0.8744497733860492,\n",
       " 0.8693488323283662,\n",
       " 0.8725211440175619,\n",
       " 0.866978107220448,\n",
       " 0.8688457578662552,\n",
       " 0.8734620598896142,\n",
       " 0.85658655291535,\n",
       " 0.8508488805441003,\n",
       " 0.8744075846186135,\n",
       " 0.8657432880861757,\n",
       " 0.849891301881548,\n",
       " 0.865765977843452,\n",
       " 0.8719588634700579,\n",
       " 0.8530614864059991,\n",
       " 0.8455944290973447,\n",
       " 0.8638582655949537,\n",
       " 0.8545614920784386,\n",
       " 0.8665019768451028,\n",
       " 0.8564185069005223,\n",
       " 0.8538655546794789,\n",
       " 0.8512126257154364,\n",
       " 0.8423086686217675,\n",
       " 0.8601644440158602,\n",
       " 0.8678860520389584,\n",
       " 0.8526551979397701,\n",
       " 0.8731681566273946,\n",
       " 0.8716436885603916,\n",
       " 0.8661591487937557,\n",
       " 0.8648945493530583,\n",
       " 0.8604686285743458,\n",
       " 0.8492464164364603,\n",
       " 0.8694636992245777,\n",
       " 0.8621008729884112,\n",
       " 0.8527746736929283,\n",
       " 0.8704804839725226,\n",
       " 0.8798254732232501,\n",
       " 0.8759636056293288,\n",
       " 0.8668774214225343,\n",
       " 0.8720482043893335,\n",
       " 0.8591983566943293,\n",
       " 0.8555931669795963,\n",
       " 0.8632449330935783,\n",
       " 0.8602598119019123,\n",
       " 0.8598900397637995,\n",
       " 0.8752570324066458,\n",
       " 0.8604395573228356,\n",
       " 0.8511161942470121,\n",
       " 0.8644120374834792,\n",
       " 0.8746429908503555,\n",
       " 0.8674680641666337,\n",
       " 0.8500870010380565,\n",
       " 0.8565564180814675,\n",
       " 0.8762071659925917,\n",
       " 0.8764815702446523,\n",
       " 0.8578468980265583,\n",
       " 0.8597907720757159,\n",
       " 0.8698455252962431,\n",
       " 0.8631151760441543,\n",
       " 0.8582829667992127,\n",
       " 0.862945002864582,\n",
       " 0.8447839793296312,\n",
       " 0.863690219580126,\n",
       " 0.8634338962283952,\n",
       " 0.8778929440527311,\n",
       " 0.8745451412721013,\n",
       " 0.8557254057212225,\n",
       " 0.8733071313907119,\n",
       " 0.8687929332750963,\n",
       " 0.8595777010737928,\n",
       " 0.8526094638977599,\n",
       " 0.8837302386395223,\n",
       " 0.8736744218366224,\n",
       " 0.8778918804703586,\n",
       " 0.8639926315013247,\n",
       " 0.8718844127039951,\n",
       " 0.8713919740656074]"
      ]
     },
     "execution_count": 52,
     "metadata": {},
     "output_type": "execute_result"
    }
   ],
   "source": [
    "all_auc"
   ]
  },
  {
   "cell_type": "code",
   "execution_count": 28,
   "id": "41baf529",
   "metadata": {},
   "outputs": [
    {
     "data": {
      "text/plain": [
       "100"
      ]
     },
     "execution_count": 28,
     "metadata": {},
     "output_type": "execute_result"
    }
   ],
   "source": [
    "len(all_auc)"
   ]
  },
  {
   "cell_type": "code",
   "execution_count": 29,
   "id": "225f9f7c",
   "metadata": {},
   "outputs": [
    {
     "data": {
      "text/plain": [
       "array(['CCU', 'CSRU', 'MICU', 'SICU', 'TSICU'], dtype=object)"
      ]
     },
     "execution_count": 29,
     "metadata": {},
     "output_type": "execute_result"
    }
   ],
   "source": [
    "tasks"
   ]
  },
  {
   "cell_type": "code",
   "execution_count": 43,
   "id": "824ec5ec",
   "metadata": {},
   "outputs": [
    {
     "data": {
      "text/plain": [
       "array(['CCU', 'CSRU', 'MICU', 'SICU', 'TSICU'], dtype=object)"
      ]
     },
     "execution_count": 43,
     "metadata": {},
     "output_type": "execute_result"
    }
   ],
   "source": [
    "tasks"
   ]
  },
  {
   "cell_type": "code",
   "execution_count": 49,
   "id": "b2cf65cc",
   "metadata": {},
   "outputs": [],
   "source": [
    "lst_of_tasks = list(tasks)\n",
    "lst_of_tasks.append('Micro')\n",
    "idx = pd.MultiIndex.from_product([lst_of_tasks, list(np.arange(1, 101))], names=['Cohort', 'Sample'])"
   ]
  },
  {
   "cell_type": "code",
   "execution_count": 50,
   "id": "e6e7dbe0",
   "metadata": {},
   "outputs": [
    {
     "data": {
      "text/plain": [
       "MultiIndex([(  'CCU',   1),\n",
       "            (  'CCU',   2),\n",
       "            (  'CCU',   3),\n",
       "            (  'CCU',   4),\n",
       "            (  'CCU',   5),\n",
       "            (  'CCU',   6),\n",
       "            (  'CCU',   7),\n",
       "            (  'CCU',   8),\n",
       "            (  'CCU',   9),\n",
       "            (  'CCU',  10),\n",
       "            ...\n",
       "            ('Micro',  91),\n",
       "            ('Micro',  92),\n",
       "            ('Micro',  93),\n",
       "            ('Micro',  94),\n",
       "            ('Micro',  95),\n",
       "            ('Micro',  96),\n",
       "            ('Micro',  97),\n",
       "            ('Micro',  98),\n",
       "            ('Micro',  99),\n",
       "            ('Micro', 100)],\n",
       "           names=['Cohort', 'Sample'], length=600)"
      ]
     },
     "execution_count": 50,
     "metadata": {},
     "output_type": "execute_result"
    }
   ],
   "source": [
    "idx"
   ]
  },
  {
   "cell_type": "code",
   "execution_count": 53,
   "id": "c58a44b4",
   "metadata": {},
   "outputs": [],
   "source": [
    "metrics2_df = pd.DataFrame(index=idx, columns=['AUC', 'PPV', 'Specificity'])"
   ]
  },
  {
   "cell_type": "code",
   "execution_count": 57,
   "id": "4adbd1aa",
   "metadata": {},
   "outputs": [
    {
     "data": {
      "text/html": [
       "<div>\n",
       "<style scoped>\n",
       "    .dataframe tbody tr th:only-of-type {\n",
       "        vertical-align: middle;\n",
       "    }\n",
       "\n",
       "    .dataframe tbody tr th {\n",
       "        vertical-align: top;\n",
       "    }\n",
       "\n",
       "    .dataframe thead th {\n",
       "        text-align: right;\n",
       "    }\n",
       "</style>\n",
       "<table border=\"1\" class=\"dataframe\">\n",
       "  <thead>\n",
       "    <tr style=\"text-align: right;\">\n",
       "      <th></th>\n",
       "      <th></th>\n",
       "      <th>AUC</th>\n",
       "      <th>PPV</th>\n",
       "      <th>Specificity</th>\n",
       "    </tr>\n",
       "    <tr>\n",
       "      <th>Cohort</th>\n",
       "      <th>Sample</th>\n",
       "      <th></th>\n",
       "      <th></th>\n",
       "      <th></th>\n",
       "    </tr>\n",
       "  </thead>\n",
       "  <tbody>\n",
       "    <tr>\n",
       "      <th rowspan=\"5\" valign=\"top\">CCU</th>\n",
       "      <th>1</th>\n",
       "      <td>NaN</td>\n",
       "      <td>NaN</td>\n",
       "      <td>NaN</td>\n",
       "    </tr>\n",
       "    <tr>\n",
       "      <th>2</th>\n",
       "      <td>NaN</td>\n",
       "      <td>NaN</td>\n",
       "      <td>NaN</td>\n",
       "    </tr>\n",
       "    <tr>\n",
       "      <th>3</th>\n",
       "      <td>NaN</td>\n",
       "      <td>NaN</td>\n",
       "      <td>NaN</td>\n",
       "    </tr>\n",
       "    <tr>\n",
       "      <th>4</th>\n",
       "      <td>NaN</td>\n",
       "      <td>NaN</td>\n",
       "      <td>NaN</td>\n",
       "    </tr>\n",
       "    <tr>\n",
       "      <th>5</th>\n",
       "      <td>NaN</td>\n",
       "      <td>NaN</td>\n",
       "      <td>NaN</td>\n",
       "    </tr>\n",
       "    <tr>\n",
       "      <th>...</th>\n",
       "      <th>...</th>\n",
       "      <td>...</td>\n",
       "      <td>...</td>\n",
       "      <td>...</td>\n",
       "    </tr>\n",
       "    <tr>\n",
       "      <th rowspan=\"5\" valign=\"top\">Micro</th>\n",
       "      <th>96</th>\n",
       "      <td>NaN</td>\n",
       "      <td>NaN</td>\n",
       "      <td>NaN</td>\n",
       "    </tr>\n",
       "    <tr>\n",
       "      <th>97</th>\n",
       "      <td>NaN</td>\n",
       "      <td>NaN</td>\n",
       "      <td>NaN</td>\n",
       "    </tr>\n",
       "    <tr>\n",
       "      <th>98</th>\n",
       "      <td>NaN</td>\n",
       "      <td>NaN</td>\n",
       "      <td>NaN</td>\n",
       "    </tr>\n",
       "    <tr>\n",
       "      <th>99</th>\n",
       "      <td>NaN</td>\n",
       "      <td>NaN</td>\n",
       "      <td>NaN</td>\n",
       "    </tr>\n",
       "    <tr>\n",
       "      <th>100</th>\n",
       "      <td>NaN</td>\n",
       "      <td>NaN</td>\n",
       "      <td>NaN</td>\n",
       "    </tr>\n",
       "  </tbody>\n",
       "</table>\n",
       "<p>600 rows × 3 columns</p>\n",
       "</div>"
      ],
      "text/plain": [
       "               AUC  PPV Specificity\n",
       "Cohort Sample                      \n",
       "CCU    1       NaN  NaN         NaN\n",
       "       2       NaN  NaN         NaN\n",
       "       3       NaN  NaN         NaN\n",
       "       4       NaN  NaN         NaN\n",
       "       5       NaN  NaN         NaN\n",
       "...            ...  ...         ...\n",
       "Micro  96      NaN  NaN         NaN\n",
       "       97      NaN  NaN         NaN\n",
       "       98      NaN  NaN         NaN\n",
       "       99      NaN  NaN         NaN\n",
       "       100     NaN  NaN         NaN\n",
       "\n",
       "[600 rows x 3 columns]"
      ]
     },
     "execution_count": 57,
     "metadata": {},
     "output_type": "execute_result"
    }
   ],
   "source": [
    "metrics2_df"
   ]
  },
  {
   "cell_type": "code",
   "execution_count": 67,
   "id": "528c563b",
   "metadata": {},
   "outputs": [],
   "source": [
    "metrics2_df.loc['Micro', 'AUC'] = all_auc"
   ]
  },
  {
   "cell_type": "code",
   "execution_count": 69,
   "id": "0995dbc4",
   "metadata": {},
   "outputs": [
    {
     "data": {
      "text/html": [
       "<div>\n",
       "<style scoped>\n",
       "    .dataframe tbody tr th:only-of-type {\n",
       "        vertical-align: middle;\n",
       "    }\n",
       "\n",
       "    .dataframe tbody tr th {\n",
       "        vertical-align: top;\n",
       "    }\n",
       "\n",
       "    .dataframe thead th {\n",
       "        text-align: right;\n",
       "    }\n",
       "</style>\n",
       "<table border=\"1\" class=\"dataframe\">\n",
       "  <thead>\n",
       "    <tr style=\"text-align: right;\">\n",
       "      <th></th>\n",
       "      <th>AUC</th>\n",
       "      <th>PPV</th>\n",
       "      <th>Specificity</th>\n",
       "    </tr>\n",
       "    <tr>\n",
       "      <th>Sample</th>\n",
       "      <th></th>\n",
       "      <th></th>\n",
       "      <th></th>\n",
       "    </tr>\n",
       "  </thead>\n",
       "  <tbody>\n",
       "    <tr>\n",
       "      <th>1</th>\n",
       "      <td>0.873997</td>\n",
       "      <td>NaN</td>\n",
       "      <td>NaN</td>\n",
       "    </tr>\n",
       "    <tr>\n",
       "      <th>2</th>\n",
       "      <td>0.856579</td>\n",
       "      <td>NaN</td>\n",
       "      <td>NaN</td>\n",
       "    </tr>\n",
       "    <tr>\n",
       "      <th>3</th>\n",
       "      <td>0.871462</td>\n",
       "      <td>NaN</td>\n",
       "      <td>NaN</td>\n",
       "    </tr>\n",
       "    <tr>\n",
       "      <th>4</th>\n",
       "      <td>0.862946</td>\n",
       "      <td>NaN</td>\n",
       "      <td>NaN</td>\n",
       "    </tr>\n",
       "    <tr>\n",
       "      <th>5</th>\n",
       "      <td>0.870499</td>\n",
       "      <td>NaN</td>\n",
       "      <td>NaN</td>\n",
       "    </tr>\n",
       "    <tr>\n",
       "      <th>...</th>\n",
       "      <td>...</td>\n",
       "      <td>...</td>\n",
       "      <td>...</td>\n",
       "    </tr>\n",
       "    <tr>\n",
       "      <th>96</th>\n",
       "      <td>0.873674</td>\n",
       "      <td>NaN</td>\n",
       "      <td>NaN</td>\n",
       "    </tr>\n",
       "    <tr>\n",
       "      <th>97</th>\n",
       "      <td>0.877892</td>\n",
       "      <td>NaN</td>\n",
       "      <td>NaN</td>\n",
       "    </tr>\n",
       "    <tr>\n",
       "      <th>98</th>\n",
       "      <td>0.863993</td>\n",
       "      <td>NaN</td>\n",
       "      <td>NaN</td>\n",
       "    </tr>\n",
       "    <tr>\n",
       "      <th>99</th>\n",
       "      <td>0.871884</td>\n",
       "      <td>NaN</td>\n",
       "      <td>NaN</td>\n",
       "    </tr>\n",
       "    <tr>\n",
       "      <th>100</th>\n",
       "      <td>0.871392</td>\n",
       "      <td>NaN</td>\n",
       "      <td>NaN</td>\n",
       "    </tr>\n",
       "  </tbody>\n",
       "</table>\n",
       "<p>100 rows × 3 columns</p>\n",
       "</div>"
      ],
      "text/plain": [
       "             AUC  PPV Specificity\n",
       "Sample                           \n",
       "1       0.873997  NaN         NaN\n",
       "2       0.856579  NaN         NaN\n",
       "3       0.871462  NaN         NaN\n",
       "4       0.862946  NaN         NaN\n",
       "5       0.870499  NaN         NaN\n",
       "...          ...  ...         ...\n",
       "96      0.873674  NaN         NaN\n",
       "97      0.877892  NaN         NaN\n",
       "98      0.863993  NaN         NaN\n",
       "99      0.871884  NaN         NaN\n",
       "100     0.871392  NaN         NaN\n",
       "\n",
       "[100 rows x 3 columns]"
      ]
     },
     "execution_count": 69,
     "metadata": {},
     "output_type": "execute_result"
    }
   ],
   "source": [
    "metrics2_df.loc['Micro']"
   ]
  },
  {
   "cell_type": "code",
   "execution_count": 34,
   "id": "0478c6e9",
   "metadata": {},
   "outputs": [
    {
     "data": {
      "text/plain": [
       "['CCU', 'CSRU', 'MICU', 'SICU', 'TSICU']"
      ]
     },
     "execution_count": 34,
     "metadata": {},
     "output_type": "execute_result"
    }
   ],
   "source": [
    "list(tasks)"
   ]
  },
  {
   "cell_type": "code",
   "execution_count": 39,
   "id": "3def3974",
   "metadata": {},
   "outputs": [
    {
     "data": {
      "text/plain": [
       "0.8635298880827722"
      ]
     },
     "execution_count": 39,
     "metadata": {},
     "output_type": "execute_result"
    }
   ],
   "source": [
    "np.mean(all_auc, axis=0)"
   ]
  },
  {
   "cell_type": "code",
   "execution_count": 76,
   "id": "f130523d",
   "metadata": {},
   "outputs": [
    {
     "data": {
      "text/html": [
       "<div>\n",
       "<style scoped>\n",
       "    .dataframe tbody tr th:only-of-type {\n",
       "        vertical-align: middle;\n",
       "    }\n",
       "\n",
       "    .dataframe tbody tr th {\n",
       "        vertical-align: top;\n",
       "    }\n",
       "\n",
       "    .dataframe thead th {\n",
       "        text-align: right;\n",
       "    }\n",
       "</style>\n",
       "<table border=\"1\" class=\"dataframe\">\n",
       "  <thead>\n",
       "    <tr style=\"text-align: right;\">\n",
       "      <th></th>\n",
       "      <th>AUC</th>\n",
       "      <th>PPV</th>\n",
       "      <th>Specificity</th>\n",
       "    </tr>\n",
       "  </thead>\n",
       "  <tbody>\n",
       "    <tr>\n",
       "      <th>CCU</th>\n",
       "      <td>0.866500</td>\n",
       "      <td>0.666667</td>\n",
       "      <td>0.993457</td>\n",
       "    </tr>\n",
       "    <tr>\n",
       "      <th>CSRU</th>\n",
       "      <td>0.889536</td>\n",
       "      <td>0.333333</td>\n",
       "      <td>0.997141</td>\n",
       "    </tr>\n",
       "    <tr>\n",
       "      <th>MICU</th>\n",
       "      <td>0.828538</td>\n",
       "      <td>0.661765</td>\n",
       "      <td>0.988731</td>\n",
       "    </tr>\n",
       "    <tr>\n",
       "      <th>SICU</th>\n",
       "      <td>0.853458</td>\n",
       "      <td>0.619048</td>\n",
       "      <td>0.991407</td>\n",
       "    </tr>\n",
       "    <tr>\n",
       "      <th>TSICU</th>\n",
       "      <td>0.866083</td>\n",
       "      <td>0.583333</td>\n",
       "      <td>0.993679</td>\n",
       "    </tr>\n",
       "    <tr>\n",
       "      <th>Macro</th>\n",
       "      <td>0.860823</td>\n",
       "      <td>0.572829</td>\n",
       "      <td>0.992883</td>\n",
       "    </tr>\n",
       "    <tr>\n",
       "      <th>Micro</th>\n",
       "      <td>0.863960</td>\n",
       "      <td>0.632000</td>\n",
       "      <td>0.992433</td>\n",
       "    </tr>\n",
       "  </tbody>\n",
       "</table>\n",
       "</div>"
      ],
      "text/plain": [
       "            AUC       PPV  Specificity\n",
       "CCU    0.866500  0.666667     0.993457\n",
       "CSRU   0.889536  0.333333     0.997141\n",
       "MICU   0.828538  0.661765     0.988731\n",
       "SICU   0.853458  0.619048     0.991407\n",
       "TSICU  0.866083  0.583333     0.993679\n",
       "Macro  0.860823  0.572829     0.992883\n",
       "Micro  0.863960  0.632000     0.992433"
      ]
     },
     "execution_count": 76,
     "metadata": {},
     "output_type": "execute_result"
    }
   ],
   "source": [
    "metrics_df"
   ]
  },
  {
   "cell_type": "code",
   "execution_count": 73,
   "id": "ee3158b3",
   "metadata": {},
   "outputs": [
    {
     "data": {
      "text/plain": [
       "AUC            0.860823\n",
       "PPV            0.572829\n",
       "Specificity    0.992883\n",
       "dtype: float64"
      ]
     },
     "execution_count": 73,
     "metadata": {},
     "output_type": "execute_result"
    }
   ],
   "source": [
    "metrics_df.loc[(metrics_df.index != 'Macro') & (metrics_df.index != 'Micro')].mean()"
   ]
  },
  {
   "cell_type": "code",
   "execution_count": 75,
   "id": "2ddfc0c9",
   "metadata": {},
   "outputs": [],
   "source": [
    "metrics_df.loc['Macro', :] = metrics_df.loc[(metrics_df.index != 'Macro') & (metrics_df.index != 'Micro')].mean()"
   ]
  },
  {
   "cell_type": "code",
   "execution_count": 80,
   "id": "8706176b",
   "metadata": {},
   "outputs": [
    {
     "data": {
      "text/html": [
       "<div>\n",
       "<style scoped>\n",
       "    .dataframe tbody tr th:only-of-type {\n",
       "        vertical-align: middle;\n",
       "    }\n",
       "\n",
       "    .dataframe tbody tr th {\n",
       "        vertical-align: top;\n",
       "    }\n",
       "\n",
       "    .dataframe thead th {\n",
       "        text-align: right;\n",
       "    }\n",
       "</style>\n",
       "<table border=\"1\" class=\"dataframe\">\n",
       "  <thead>\n",
       "    <tr style=\"text-align: right;\">\n",
       "      <th></th>\n",
       "      <th></th>\n",
       "      <th>AUC</th>\n",
       "      <th>PPV</th>\n",
       "      <th>Specificity</th>\n",
       "    </tr>\n",
       "    <tr>\n",
       "      <th>Cohort</th>\n",
       "      <th>Sample</th>\n",
       "      <th></th>\n",
       "      <th></th>\n",
       "      <th></th>\n",
       "    </tr>\n",
       "  </thead>\n",
       "  <tbody>\n",
       "    <tr>\n",
       "      <th rowspan=\"5\" valign=\"top\">CCU</th>\n",
       "      <th>1</th>\n",
       "      <td>NaN</td>\n",
       "      <td>NaN</td>\n",
       "      <td>NaN</td>\n",
       "    </tr>\n",
       "    <tr>\n",
       "      <th>2</th>\n",
       "      <td>NaN</td>\n",
       "      <td>NaN</td>\n",
       "      <td>NaN</td>\n",
       "    </tr>\n",
       "    <tr>\n",
       "      <th>3</th>\n",
       "      <td>NaN</td>\n",
       "      <td>NaN</td>\n",
       "      <td>NaN</td>\n",
       "    </tr>\n",
       "    <tr>\n",
       "      <th>4</th>\n",
       "      <td>NaN</td>\n",
       "      <td>NaN</td>\n",
       "      <td>NaN</td>\n",
       "    </tr>\n",
       "    <tr>\n",
       "      <th>5</th>\n",
       "      <td>NaN</td>\n",
       "      <td>NaN</td>\n",
       "      <td>NaN</td>\n",
       "    </tr>\n",
       "    <tr>\n",
       "      <th>...</th>\n",
       "      <th>...</th>\n",
       "      <td>...</td>\n",
       "      <td>...</td>\n",
       "      <td>...</td>\n",
       "    </tr>\n",
       "    <tr>\n",
       "      <th rowspan=\"5\" valign=\"top\">Micro</th>\n",
       "      <th>96</th>\n",
       "      <td>0.873674</td>\n",
       "      <td>NaN</td>\n",
       "      <td>NaN</td>\n",
       "    </tr>\n",
       "    <tr>\n",
       "      <th>97</th>\n",
       "      <td>0.877892</td>\n",
       "      <td>NaN</td>\n",
       "      <td>NaN</td>\n",
       "    </tr>\n",
       "    <tr>\n",
       "      <th>98</th>\n",
       "      <td>0.863993</td>\n",
       "      <td>NaN</td>\n",
       "      <td>NaN</td>\n",
       "    </tr>\n",
       "    <tr>\n",
       "      <th>99</th>\n",
       "      <td>0.871884</td>\n",
       "      <td>NaN</td>\n",
       "      <td>NaN</td>\n",
       "    </tr>\n",
       "    <tr>\n",
       "      <th>100</th>\n",
       "      <td>0.871392</td>\n",
       "      <td>NaN</td>\n",
       "      <td>NaN</td>\n",
       "    </tr>\n",
       "  </tbody>\n",
       "</table>\n",
       "<p>600 rows × 3 columns</p>\n",
       "</div>"
      ],
      "text/plain": [
       "                    AUC  PPV Specificity\n",
       "Cohort Sample                           \n",
       "CCU    1            NaN  NaN         NaN\n",
       "       2            NaN  NaN         NaN\n",
       "       3            NaN  NaN         NaN\n",
       "       4            NaN  NaN         NaN\n",
       "       5            NaN  NaN         NaN\n",
       "...                 ...  ...         ...\n",
       "Micro  96      0.873674  NaN         NaN\n",
       "       97      0.877892  NaN         NaN\n",
       "       98      0.863993  NaN         NaN\n",
       "       99      0.871884  NaN         NaN\n",
       "       100     0.871392  NaN         NaN\n",
       "\n",
       "[600 rows x 3 columns]"
      ]
     },
     "execution_count": 80,
     "metadata": {},
     "output_type": "execute_result"
    }
   ],
   "source": [
    "metrics2_df"
   ]
  },
  {
   "cell_type": "code",
   "execution_count": 81,
   "id": "d57e34dd",
   "metadata": {},
   "outputs": [
    {
     "data": {
      "text/plain": [
       "AUC            0.863577\n",
       "PPV                 NaN\n",
       "Specificity         NaN\n",
       "dtype: float64"
      ]
     },
     "execution_count": 81,
     "metadata": {},
     "output_type": "execute_result"
    }
   ],
   "source": [
    "metrics2_df.mean()"
   ]
  },
  {
   "cell_type": "code",
   "execution_count": 82,
   "id": "43f067a3",
   "metadata": {},
   "outputs": [
    {
     "data": {
      "text/html": [
       "<div>\n",
       "<style scoped>\n",
       "    .dataframe tbody tr th:only-of-type {\n",
       "        vertical-align: middle;\n",
       "    }\n",
       "\n",
       "    .dataframe tbody tr th {\n",
       "        vertical-align: top;\n",
       "    }\n",
       "\n",
       "    .dataframe thead th {\n",
       "        text-align: right;\n",
       "    }\n",
       "</style>\n",
       "<table border=\"1\" class=\"dataframe\">\n",
       "  <thead>\n",
       "    <tr style=\"text-align: right;\">\n",
       "      <th></th>\n",
       "      <th></th>\n",
       "      <th>AUC</th>\n",
       "      <th>PPV</th>\n",
       "      <th>Specificity</th>\n",
       "    </tr>\n",
       "    <tr>\n",
       "      <th>Cohort</th>\n",
       "      <th>Sample</th>\n",
       "      <th></th>\n",
       "      <th></th>\n",
       "      <th></th>\n",
       "    </tr>\n",
       "  </thead>\n",
       "  <tbody>\n",
       "    <tr>\n",
       "      <th rowspan=\"5\" valign=\"top\">CCU</th>\n",
       "      <th>1</th>\n",
       "      <td>NaN</td>\n",
       "      <td>NaN</td>\n",
       "      <td>NaN</td>\n",
       "    </tr>\n",
       "    <tr>\n",
       "      <th>2</th>\n",
       "      <td>NaN</td>\n",
       "      <td>NaN</td>\n",
       "      <td>NaN</td>\n",
       "    </tr>\n",
       "    <tr>\n",
       "      <th>3</th>\n",
       "      <td>NaN</td>\n",
       "      <td>NaN</td>\n",
       "      <td>NaN</td>\n",
       "    </tr>\n",
       "    <tr>\n",
       "      <th>4</th>\n",
       "      <td>NaN</td>\n",
       "      <td>NaN</td>\n",
       "      <td>NaN</td>\n",
       "    </tr>\n",
       "    <tr>\n",
       "      <th>5</th>\n",
       "      <td>NaN</td>\n",
       "      <td>NaN</td>\n",
       "      <td>NaN</td>\n",
       "    </tr>\n",
       "    <tr>\n",
       "      <th>...</th>\n",
       "      <th>...</th>\n",
       "      <td>...</td>\n",
       "      <td>...</td>\n",
       "      <td>...</td>\n",
       "    </tr>\n",
       "    <tr>\n",
       "      <th rowspan=\"5\" valign=\"top\">Micro</th>\n",
       "      <th>96</th>\n",
       "      <td>0.873674</td>\n",
       "      <td>NaN</td>\n",
       "      <td>NaN</td>\n",
       "    </tr>\n",
       "    <tr>\n",
       "      <th>97</th>\n",
       "      <td>0.877892</td>\n",
       "      <td>NaN</td>\n",
       "      <td>NaN</td>\n",
       "    </tr>\n",
       "    <tr>\n",
       "      <th>98</th>\n",
       "      <td>0.863993</td>\n",
       "      <td>NaN</td>\n",
       "      <td>NaN</td>\n",
       "    </tr>\n",
       "    <tr>\n",
       "      <th>99</th>\n",
       "      <td>0.871884</td>\n",
       "      <td>NaN</td>\n",
       "      <td>NaN</td>\n",
       "    </tr>\n",
       "    <tr>\n",
       "      <th>100</th>\n",
       "      <td>0.871392</td>\n",
       "      <td>NaN</td>\n",
       "      <td>NaN</td>\n",
       "    </tr>\n",
       "  </tbody>\n",
       "</table>\n",
       "<p>600 rows × 3 columns</p>\n",
       "</div>"
      ],
      "text/plain": [
       "                    AUC  PPV Specificity\n",
       "Cohort Sample                           \n",
       "CCU    1            NaN  NaN         NaN\n",
       "       2            NaN  NaN         NaN\n",
       "       3            NaN  NaN         NaN\n",
       "       4            NaN  NaN         NaN\n",
       "       5            NaN  NaN         NaN\n",
       "...                 ...  ...         ...\n",
       "Micro  96      0.873674  NaN         NaN\n",
       "       97      0.877892  NaN         NaN\n",
       "       98      0.863993  NaN         NaN\n",
       "       99      0.871884  NaN         NaN\n",
       "       100     0.871392  NaN         NaN\n",
       "\n",
       "[600 rows x 3 columns]"
      ]
     },
     "execution_count": 82,
     "metadata": {},
     "output_type": "execute_result"
    }
   ],
   "source": [
    "metrics2_df.loc[(metrics2_df.index != 'Micro')]"
   ]
  },
  {
   "cell_type": "code",
   "execution_count": 87,
   "id": "075230c7",
   "metadata": {},
   "outputs": [
    {
     "data": {
      "text/plain": [
       "AUC           NaN\n",
       "PPV           NaN\n",
       "Specificity   NaN\n",
       "dtype: float64"
      ]
     },
     "execution_count": 87,
     "metadata": {},
     "output_type": "execute_result"
    }
   ],
   "source": [
    "metrics2_df.query(\"Cohort != 'Micro'\").mean()"
   ]
  },
  {
   "cell_type": "code",
   "execution_count": null,
   "id": "a86011cc",
   "metadata": {},
   "outputs": [],
   "source": []
  }
 ],
 "metadata": {
  "kernelspec": {
   "display_name": "Python 3 (ipykernel)",
   "language": "python",
   "name": "python3"
  },
  "language_info": {
   "codemirror_mode": {
    "name": "ipython",
    "version": 3
   },
   "file_extension": ".py",
   "mimetype": "text/x-python",
   "name": "python",
   "nbconvert_exporter": "python",
   "pygments_lexer": "ipython3",
   "version": "3.10.9"
  }
 },
 "nbformat": 4,
 "nbformat_minor": 5
}
