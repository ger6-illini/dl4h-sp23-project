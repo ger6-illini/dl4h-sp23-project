{
 "cells": [
  {
   "cell_type": "code",
   "execution_count": 2,
   "id": "0f7ddd9e",
   "metadata": {},
   "outputs": [
    {
     "name": "stdout",
     "output_type": "stream",
     "text": [
      "The autoreload extension is already loaded. To reload it, use:\n",
      "  %reload_ext autoreload\n"
     ]
    }
   ],
   "source": [
    "%load_ext autoreload\n",
    "%autoreload 2\n",
    "\n",
    "import numpy as np\n",
    "import pandas as pd\n",
    "\n",
    "import sys\n",
    "pathname = \"../code/\"\n",
    "if pathname not in sys.path:\n",
    "    sys.path.append(\"../code/\")\n",
    "\n",
    "from mtl_patients import get_summaries, run_mortality_prediction_task"
   ]
  },
  {
   "cell_type": "markdown",
   "id": "5a87f2cd",
   "metadata": {},
   "source": [
    "Let's work with the patients dataframe coming from MIMIC-Extract pipeline."
   ]
  },
  {
   "cell_type": "code",
   "execution_count": 18,
   "id": "378a3fa5",
   "metadata": {},
   "outputs": [],
   "source": [
    "mimic_extract_filename = '../data/all_hourly_data.h5'\n",
    "mimic_data_folder = '../data/'\n",
    "patients_df = pd.read_hdf(mimic_extract_filename, 'patients')"
   ]
  },
  {
   "cell_type": "markdown",
   "id": "f407e0c3",
   "metadata": {},
   "source": [
    "Patients in total, with no exclusion criteria."
   ]
  },
  {
   "cell_type": "code",
   "execution_count": 4,
   "id": "9d628b72",
   "metadata": {},
   "outputs": [
    {
     "data": {
      "text/plain": [
       "34472"
      ]
     },
     "execution_count": 4,
     "metadata": {},
     "output_type": "execute_result"
    }
   ],
   "source": [
    "len(patients_df)"
   ]
  },
  {
   "cell_type": "markdown",
   "id": "1cccce35",
   "metadata": {},
   "source": [
    "First criteria: How many patients have `NaN` values in both `dischtime` and `deathtime`. "
   ]
  },
  {
   "cell_type": "code",
   "execution_count": 5,
   "id": "86f917e6",
   "metadata": {},
   "outputs": [
    {
     "data": {
      "text/plain": [
       "0"
      ]
     },
     "execution_count": 5,
     "metadata": {},
     "output_type": "execute_result"
    }
   ],
   "source": [
    "patients_df.loc[:, 'dischtime'].isnull().sum()"
   ]
  },
  {
   "cell_type": "code",
   "execution_count": 7,
   "id": "eb473ac5",
   "metadata": {},
   "outputs": [
    {
     "data": {
      "text/plain": [
       "31122"
      ]
     },
     "execution_count": 7,
     "metadata": {},
     "output_type": "execute_result"
    }
   ],
   "source": [
    "patients_df.loc[:, 'deathtime'].isnull().sum()"
   ]
  },
  {
   "cell_type": "markdown",
   "id": "754228a8",
   "metadata": {},
   "source": [
    "So all patients have `dischtime` and 31122 patients have a null `deathtime` (meaning they were discharged alive). So patients who died are 3350. Let's see if that is true."
   ]
  },
  {
   "cell_type": "code",
   "execution_count": 10,
   "id": "a22e4cd0",
   "metadata": {},
   "outputs": [
    {
     "data": {
      "text/plain": [
       "3350"
      ]
     },
     "execution_count": 10,
     "metadata": {},
     "output_type": "execute_result"
    }
   ],
   "source": [
    "deathtimes_df = patients_df[['deathtime', 'dischtime']].dropna()\n",
    "len(deathtimes_df)"
   ]
  },
  {
   "cell_type": "markdown",
   "id": "7bb8359f",
   "metadata": {},
   "source": [
    "So, it is true. In MIMIC-Extract, 3350 patients died."
   ]
  },
  {
   "cell_type": "markdown",
   "id": "dc85deaa",
   "metadata": {},
   "source": [
    "One of the criterias in the code is to discard those patients whose `dischtime` is earlier than `deathtime`. Let' see how many of those patients are in the data."
   ]
  },
  {
   "cell_type": "code",
   "execution_count": 15,
   "id": "5bf15e65",
   "metadata": {},
   "outputs": [
    {
     "data": {
      "text/plain": [
       "26"
      ]
     },
     "execution_count": 15,
     "metadata": {},
     "output_type": "execute_result"
    }
   ],
   "source": [
    "len(deathtimes_df[deathtimes_df.dischtime < deathtimes_df.deathtime])"
   ]
  },
  {
   "cell_type": "markdown",
   "id": "468c2e20",
   "metadata": {},
   "source": [
    "In the paper it says mortality will be considered with a new *extended criteria* where is considered one of three conditions: death, CMO (Comfort Measures Only) and DNR (Do Not Resuscitate). Let's count how many patients have CMO only."
   ]
  },
  {
   "cell_type": "code",
   "execution_count": 13,
   "id": "b30ebdcf",
   "metadata": {},
   "outputs": [
    {
     "data": {
      "text/plain": [
       "958"
      ]
     },
     "execution_count": 13,
     "metadata": {},
     "output_type": "execute_result"
    }
   ],
   "source": [
    "len(patients_df[patients_df.cmo > 0])"
   ]
  },
  {
   "cell_type": "markdown",
   "id": "956dc23e",
   "metadata": {},
   "source": [
    "Let's see how many of these 958 patients with CMO also died."
   ]
  },
  {
   "cell_type": "code",
   "execution_count": 14,
   "id": "fc452bab",
   "metadata": {},
   "outputs": [
    {
     "data": {
      "text/plain": [
       "888"
      ]
     },
     "execution_count": 14,
     "metadata": {},
     "output_type": "execute_result"
    }
   ],
   "source": [
    "len(patients_df[(patients_df.cmo > 0) & patients_df.deathtime.notnull()])"
   ]
  },
  {
   "cell_type": "markdown",
   "id": "46a5593a",
   "metadata": {},
   "source": [
    "This means that 70 patients have a CMO condition but did not die, so total of mortality with the extended definition of death and CMO is: 3350 - 26 + 70 = 2294."
   ]
  },
  {
   "cell_type": "code",
   "execution_count": 16,
   "id": "2c204fe1",
   "metadata": {},
   "outputs": [],
   "source": [
    "deathtimes_valid_df = deathtimes_df[deathtimes_df.dischtime >= deathtimes_df.deathtime].copy()\n",
    "deathtimes_valid_df.loc[:, 'mort_hosp_valid'] = True"
   ]
  },
  {
   "cell_type": "code",
   "execution_count": 17,
   "id": "cccde6da",
   "metadata": {},
   "outputs": [
    {
     "data": {
      "text/plain": [
       "3324"
      ]
     },
     "execution_count": 17,
     "metadata": {},
     "output_type": "execute_result"
    }
   ],
   "source": [
    "len(deathtimes_valid_df)"
   ]
  },
  {
   "cell_type": "markdown",
   "id": "74d44013",
   "metadata": {},
   "source": [
    "3324 = 3350 - 26"
   ]
  },
  {
   "cell_type": "code",
   "execution_count": 19,
   "id": "acc44ae6",
   "metadata": {},
   "outputs": [],
   "source": [
    "cmo_df = pd.read_csv(f'{mimic_data_folder}code_status.csv')\n",
    "cmo_df = cmo_df[cmo_df.cmo > 0]  # only keep those patients with a CMO note"
   ]
  },
  {
   "cell_type": "code",
   "execution_count": 20,
   "id": "2d1485b4",
   "metadata": {},
   "outputs": [
    {
     "data": {
      "text/plain": [
       "1788"
      ]
     },
     "execution_count": 20,
     "metadata": {},
     "output_type": "execute_result"
    }
   ],
   "source": [
    "len(cmo_df)"
   ]
  },
  {
   "cell_type": "markdown",
   "id": "4e18a516",
   "metadata": {},
   "source": [
    "There are way more CMO patients in the `code_status.csv` than in MIMIC-Extract `patients` (1788 vs 888). Let's see what happens when we merge them."
   ]
  },
  {
   "cell_type": "code",
   "execution_count": 26,
   "id": "dd7d3d7a",
   "metadata": {},
   "outputs": [],
   "source": [
    "cmo_df['dnr_first_charttime'] = pd.to_datetime(cmo_df.dnr_first_charttime)\n",
    "cmo_df['timecmo_chart'] = pd.to_datetime(cmo_df.timecmo_chart)\n",
    "cmo_df['cmo_df_min_time'] = cmo_df.loc[:, ['dnr_first_charttime', 'timecmo_chart']].min(axis=1)\n",
    "all_mort_times_df = pd.merge(deathtimes_valid_df, cmo_df, on=['subject_id', 'hadm_id', 'icustay_id'], how='outer') \\\n",
    "    [['subject_id', 'hadm_id', 'icustay_id', 'deathtime', 'dischtime', 'timecmo_chart', 'cmo', 'cmo_df_min_time']]\n",
    "all_mort_times_df['deathtime'] = pd.to_datetime(all_mort_times_df.deathtime)"
   ]
  },
  {
   "cell_type": "code",
   "execution_count": 27,
   "id": "b6576bea",
   "metadata": {},
   "outputs": [
    {
     "data": {
      "text/plain": [
       "4227"
      ]
     },
     "execution_count": 27,
     "metadata": {},
     "output_type": "execute_result"
    }
   ],
   "source": [
    "len(all_mort_times_df)"
   ]
  },
  {
   "cell_type": "code",
   "execution_count": 28,
   "id": "b3a097a3",
   "metadata": {},
   "outputs": [
    {
     "data": {
      "text/html": [
       "<div>\n",
       "<style scoped>\n",
       "    .dataframe tbody tr th:only-of-type {\n",
       "        vertical-align: middle;\n",
       "    }\n",
       "\n",
       "    .dataframe tbody tr th {\n",
       "        vertical-align: top;\n",
       "    }\n",
       "\n",
       "    .dataframe thead th {\n",
       "        text-align: right;\n",
       "    }\n",
       "</style>\n",
       "<table border=\"1\" class=\"dataframe\">\n",
       "  <thead>\n",
       "    <tr style=\"text-align: right;\">\n",
       "      <th></th>\n",
       "      <th>subject_id</th>\n",
       "      <th>hadm_id</th>\n",
       "      <th>icustay_id</th>\n",
       "      <th>deathtime</th>\n",
       "      <th>dischtime</th>\n",
       "      <th>timecmo_chart</th>\n",
       "      <th>cmo</th>\n",
       "      <th>cmo_df_min_time</th>\n",
       "    </tr>\n",
       "  </thead>\n",
       "  <tbody>\n",
       "    <tr>\n",
       "      <th>0</th>\n",
       "      <td>9</td>\n",
       "      <td>150750</td>\n",
       "      <td>220597</td>\n",
       "      <td>2149-11-14 10:15:00</td>\n",
       "      <td>2149-11-14 10:15:00</td>\n",
       "      <td>NaT</td>\n",
       "      <td>NaN</td>\n",
       "      <td>NaT</td>\n",
       "    </tr>\n",
       "    <tr>\n",
       "      <th>1</th>\n",
       "      <td>12</td>\n",
       "      <td>112213</td>\n",
       "      <td>232669</td>\n",
       "      <td>2104-08-20 02:57:00</td>\n",
       "      <td>2104-08-20 02:57:00</td>\n",
       "      <td>NaT</td>\n",
       "      <td>NaN</td>\n",
       "      <td>NaT</td>\n",
       "    </tr>\n",
       "    <tr>\n",
       "      <th>2</th>\n",
       "      <td>31</td>\n",
       "      <td>128652</td>\n",
       "      <td>254478</td>\n",
       "      <td>2108-08-30 15:00:00</td>\n",
       "      <td>2108-08-30 15:00:00</td>\n",
       "      <td>NaT</td>\n",
       "      <td>NaN</td>\n",
       "      <td>NaT</td>\n",
       "    </tr>\n",
       "    <tr>\n",
       "      <th>3</th>\n",
       "      <td>56</td>\n",
       "      <td>181711</td>\n",
       "      <td>275642</td>\n",
       "      <td>2104-01-08 10:30:00</td>\n",
       "      <td>2104-01-08 10:30:00</td>\n",
       "      <td>NaT</td>\n",
       "      <td>NaN</td>\n",
       "      <td>NaT</td>\n",
       "    </tr>\n",
       "    <tr>\n",
       "      <th>4</th>\n",
       "      <td>84</td>\n",
       "      <td>166401</td>\n",
       "      <td>239661</td>\n",
       "      <td>2196-04-17 13:42:00</td>\n",
       "      <td>2196-04-17 13:42:00</td>\n",
       "      <td>2196-04-17 11:00:00</td>\n",
       "      <td>1.0</td>\n",
       "      <td>2196-04-17 11:00:00</td>\n",
       "    </tr>\n",
       "    <tr>\n",
       "      <th>...</th>\n",
       "      <td>...</td>\n",
       "      <td>...</td>\n",
       "      <td>...</td>\n",
       "      <td>...</td>\n",
       "      <td>...</td>\n",
       "      <td>...</td>\n",
       "      <td>...</td>\n",
       "      <td>...</td>\n",
       "    </tr>\n",
       "    <tr>\n",
       "      <th>4222</th>\n",
       "      <td>28111</td>\n",
       "      <td>197728</td>\n",
       "      <td>287434</td>\n",
       "      <td>NaT</td>\n",
       "      <td>NaT</td>\n",
       "      <td>2136-04-29 09:30:00</td>\n",
       "      <td>1.0</td>\n",
       "      <td>2136-04-27 07:35:00</td>\n",
       "    </tr>\n",
       "    <tr>\n",
       "      <th>4223</th>\n",
       "      <td>7696</td>\n",
       "      <td>186225</td>\n",
       "      <td>278283</td>\n",
       "      <td>NaT</td>\n",
       "      <td>NaT</td>\n",
       "      <td>2179-12-05 16:35:00</td>\n",
       "      <td>1.0</td>\n",
       "      <td>2179-12-05 16:35:00</td>\n",
       "    </tr>\n",
       "    <tr>\n",
       "      <th>4224</th>\n",
       "      <td>31306</td>\n",
       "      <td>156146</td>\n",
       "      <td>289988</td>\n",
       "      <td>NaT</td>\n",
       "      <td>NaT</td>\n",
       "      <td>2132-07-07 13:50:00</td>\n",
       "      <td>1.0</td>\n",
       "      <td>2132-07-07 13:50:00</td>\n",
       "    </tr>\n",
       "    <tr>\n",
       "      <th>4225</th>\n",
       "      <td>17083</td>\n",
       "      <td>131212</td>\n",
       "      <td>265822</td>\n",
       "      <td>NaT</td>\n",
       "      <td>NaT</td>\n",
       "      <td>2103-06-06 19:00:00</td>\n",
       "      <td>1.0</td>\n",
       "      <td>2103-06-04 07:00:00</td>\n",
       "    </tr>\n",
       "    <tr>\n",
       "      <th>4226</th>\n",
       "      <td>14386</td>\n",
       "      <td>128762</td>\n",
       "      <td>296604</td>\n",
       "      <td>NaT</td>\n",
       "      <td>NaT</td>\n",
       "      <td>2145-08-27 23:30:00</td>\n",
       "      <td>1.0</td>\n",
       "      <td>2145-08-27 17:00:00</td>\n",
       "    </tr>\n",
       "  </tbody>\n",
       "</table>\n",
       "<p>4227 rows × 8 columns</p>\n",
       "</div>"
      ],
      "text/plain": [
       "      subject_id  hadm_id  icustay_id           deathtime           dischtime  \\\n",
       "0              9   150750      220597 2149-11-14 10:15:00 2149-11-14 10:15:00   \n",
       "1             12   112213      232669 2104-08-20 02:57:00 2104-08-20 02:57:00   \n",
       "2             31   128652      254478 2108-08-30 15:00:00 2108-08-30 15:00:00   \n",
       "3             56   181711      275642 2104-01-08 10:30:00 2104-01-08 10:30:00   \n",
       "4             84   166401      239661 2196-04-17 13:42:00 2196-04-17 13:42:00   \n",
       "...          ...      ...         ...                 ...                 ...   \n",
       "4222       28111   197728      287434                 NaT                 NaT   \n",
       "4223        7696   186225      278283                 NaT                 NaT   \n",
       "4224       31306   156146      289988                 NaT                 NaT   \n",
       "4225       17083   131212      265822                 NaT                 NaT   \n",
       "4226       14386   128762      296604                 NaT                 NaT   \n",
       "\n",
       "           timecmo_chart  cmo     cmo_df_min_time  \n",
       "0                    NaT  NaN                 NaT  \n",
       "1                    NaT  NaN                 NaT  \n",
       "2                    NaT  NaN                 NaT  \n",
       "3                    NaT  NaN                 NaT  \n",
       "4    2196-04-17 11:00:00  1.0 2196-04-17 11:00:00  \n",
       "...                  ...  ...                 ...  \n",
       "4222 2136-04-29 09:30:00  1.0 2136-04-27 07:35:00  \n",
       "4223 2179-12-05 16:35:00  1.0 2179-12-05 16:35:00  \n",
       "4224 2132-07-07 13:50:00  1.0 2132-07-07 13:50:00  \n",
       "4225 2103-06-06 19:00:00  1.0 2103-06-04 07:00:00  \n",
       "4226 2145-08-27 23:30:00  1.0 2145-08-27 17:00:00  \n",
       "\n",
       "[4227 rows x 8 columns]"
      ]
     },
     "execution_count": 28,
     "metadata": {},
     "output_type": "execute_result"
    }
   ],
   "source": [
    "all_mort_times_df"
   ]
  },
  {
   "cell_type": "markdown",
   "id": "557602e0",
   "metadata": {},
   "source": [
    "Let's see how many have CMO and death simultaneously."
   ]
  },
  {
   "cell_type": "code",
   "execution_count": 30,
   "id": "48f71bf8",
   "metadata": {},
   "outputs": [
    {
     "data": {
      "text/plain": [
       "885"
      ]
     },
     "execution_count": 30,
     "metadata": {},
     "output_type": "execute_result"
    }
   ],
   "source": [
    "len(all_mort_times_df[(all_mort_times_df.deathtime.notnull() & all_mort_times_df.cmo > 0)])"
   ]
  },
  {
   "cell_type": "markdown",
   "id": "bbe4b66c",
   "metadata": {},
   "source": [
    "So:\n",
    "* 885 have both conditions (death and CMO)\n",
    "* 2439 have death (but not CMO)\n",
    "* 903 have CMO (but not death)"
   ]
  },
  {
   "cell_type": "code",
   "execution_count": 32,
   "id": "6ecb93f3",
   "metadata": {},
   "outputs": [],
   "source": [
    "all_mort_times_df['cmo_df_min_time'] = pd.to_datetime(all_mort_times_df.cmo_df_min_time)\n",
    "all_mort_times_df['min_mort_time'] = all_mort_times_df.loc[:, ['deathtime', 'cmo_df_min_time']].min(axis=1)\n",
    "min_mort_time_df = all_mort_times_df[['subject_id', 'hadm_id', 'icustay_id', 'min_mort_time']]\n",
    "static_df = pd.merge(patients_df, min_mort_time_df, on=['subject_id', 'hadm_id', 'icustay_id'], how='left')\n",
    "static_df['mort_hosp_valid'] = np.invert(np.isnat(static_df.min_mort_time))"
   ]
  },
  {
   "cell_type": "code",
   "execution_count": 33,
   "id": "3560cf9c",
   "metadata": {},
   "outputs": [],
   "source": [
    "static_df['time_til_mort'] = pd.to_datetime(static_df.min_mort_time) - pd.to_datetime(static_df.intime)\n",
    "static_df['time_til_mort'] = static_df.time_til_mort.apply(lambda x: x.total_seconds() / 3600)\n",
    "static_df['time_in_icu'] = pd.to_datetime(static_df.dischtime) - pd.to_datetime(static_df.intime)\n",
    "static_df['time_in_icu'] = static_df.time_in_icu.apply(lambda x: x.total_seconds() / 3600)"
   ]
  },
  {
   "cell_type": "markdown",
   "id": "56dd3420",
   "metadata": {},
   "source": [
    "Total patients:"
   ]
  },
  {
   "cell_type": "code",
   "execution_count": 34,
   "id": "365d460c",
   "metadata": {},
   "outputs": [
    {
     "data": {
      "text/plain": [
       "34472"
      ]
     },
     "execution_count": 34,
     "metadata": {},
     "output_type": "execute_result"
    }
   ],
   "source": [
    "len(static_df)"
   ]
  },
  {
   "cell_type": "markdown",
   "id": "312687e9",
   "metadata": {},
   "source": [
    "How many stayed more than 24 hours in the ICU:"
   ]
  },
  {
   "cell_type": "code",
   "execution_count": 35,
   "id": "f1d39652",
   "metadata": {},
   "outputs": [
    {
     "data": {
      "text/plain": [
       "33259"
      ]
     },
     "execution_count": 35,
     "metadata": {},
     "output_type": "execute_result"
    }
   ],
   "source": [
    "len(static_df[static_df.time_in_icu >= 24])"
   ]
  },
  {
   "cell_type": "markdown",
   "id": "5d71fe81",
   "metadata": {},
   "source": [
    "How many stayed more than 24 hours in the ICU and lived:"
   ]
  },
  {
   "cell_type": "code",
   "execution_count": 37,
   "id": "07b8028a",
   "metadata": {},
   "outputs": [
    {
     "data": {
      "text/plain": [
       "30392"
      ]
     },
     "execution_count": 37,
     "metadata": {},
     "output_type": "execute_result"
    }
   ],
   "source": [
    "len(static_df[((static_df.time_in_icu >= 24) & (static_df.mort_hosp_valid == False))])"
   ]
  },
  {
   "cell_type": "markdown",
   "id": "627f374a",
   "metadata": {},
   "source": [
    "How many died after 36 hours in the ICU:"
   ]
  },
  {
   "cell_type": "code",
   "execution_count": 38,
   "id": "6556b56d",
   "metadata": {},
   "outputs": [
    {
     "data": {
      "text/plain": [
       "2321"
      ]
     },
     "execution_count": 38,
     "metadata": {},
     "output_type": "execute_result"
    }
   ],
   "source": [
    "len(static_df[static_df.time_til_mort >= 36])"
   ]
  },
  {
   "cell_type": "markdown",
   "id": "783fe355",
   "metadata": {},
   "source": [
    "Total number of selected patients alive and death meeting the 24h + 12h criteria."
   ]
  },
  {
   "cell_type": "code",
   "execution_count": 39,
   "id": "6c2a9439",
   "metadata": {},
   "outputs": [
    {
     "name": "stdout",
     "output_type": "stream",
     "text": [
      "32713\n"
     ]
    }
   ],
   "source": [
    "print(30392 + 2321)"
   ]
  }
 ],
 "metadata": {
  "kernelspec": {
   "display_name": "Python 3 (ipykernel)",
   "language": "python",
   "name": "python3"
  },
  "language_info": {
   "codemirror_mode": {
    "name": "ipython",
    "version": 3
   },
   "file_extension": ".py",
   "mimetype": "text/x-python",
   "name": "python",
   "nbconvert_exporter": "python",
   "pygments_lexer": "ipython3",
   "version": "3.10.9"
  }
 },
 "nbformat": 4,
 "nbformat_minor": 5
}
